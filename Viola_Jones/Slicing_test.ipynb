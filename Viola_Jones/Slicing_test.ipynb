{
 "cells": [
  {
   "cell_type": "code",
   "execution_count": 1,
   "metadata": {
    "colab": {
     "base_uri": "https://localhost:8080/"
    },
    "id": "8gPZw9SuImUg",
    "outputId": "d68ac52b-7aa4-486f-80eb-511a2c7d6b7b"
   },
   "outputs": [
    {
     "name": "stdout",
     "output_type": "stream",
     "text": [
      "Requirement already satisfied: gdown in /usr/local/lib/python3.10/dist-packages (5.2.0)\n",
      "Requirement already satisfied: beautifulsoup4 in /usr/local/lib/python3.10/dist-packages (from gdown) (4.12.3)\n",
      "Requirement already satisfied: filelock in /usr/local/lib/python3.10/dist-packages (from gdown) (3.16.1)\n",
      "Requirement already satisfied: requests[socks] in /usr/local/lib/python3.10/dist-packages (from gdown) (2.32.3)\n",
      "Requirement already satisfied: tqdm in /usr/local/lib/python3.10/dist-packages (from gdown) (4.66.6)\n",
      "Requirement already satisfied: soupsieve>1.2 in /usr/local/lib/python3.10/dist-packages (from beautifulsoup4->gdown) (2.6)\n",
      "Requirement already satisfied: charset-normalizer<4,>=2 in /usr/local/lib/python3.10/dist-packages (from requests[socks]->gdown) (3.4.0)\n",
      "Requirement already satisfied: idna<4,>=2.5 in /usr/local/lib/python3.10/dist-packages (from requests[socks]->gdown) (3.10)\n",
      "Requirement already satisfied: urllib3<3,>=1.21.1 in /usr/local/lib/python3.10/dist-packages (from requests[socks]->gdown) (2.2.3)\n",
      "Requirement already satisfied: certifi>=2017.4.17 in /usr/local/lib/python3.10/dist-packages (from requests[socks]->gdown) (2024.8.30)\n",
      "Requirement already satisfied: PySocks!=1.5.7,>=1.5.6 in /usr/local/lib/python3.10/dist-packages (from requests[socks]->gdown) (1.7.1)\n"
     ]
    },
    {
     "data": {
      "text/plain": [
       "['/content/biometric_systems_project/dataset.zip']"
      ]
     },
     "execution_count": 1,
     "metadata": {},
     "output_type": "execute_result"
    }
   ],
   "source": [
    "%pip install gdown\n",
    "import gdown\n",
    "\n",
    "url = \"https://drive.google.com/drive/folders/1_z2a2W9ZmOhjz9FeNhn5GftGC-G-31N9?usp=sharing\"\n",
    "gdown.download_folder(url, quiet=True)"
   ]
  },
  {
   "cell_type": "code",
   "execution_count": null,
   "metadata": {
    "colab": {
     "base_uri": "https://localhost:8080/",
     "height": 1000
    },
    "id": "VVUgPSZhIssm",
    "outputId": "d8a82e35-f2f4-44cf-f1d4-33047c66ccf8"
   },
   "outputs": [],
   "source": [
    "import zipfile\n",
    "import os\n",
    "import cv2\n",
    "import shutil\n",
    "import numpy as np\n",
    "from google.colab.patches import cv2_imshow\n",
    "from tqdm import tqdm\n",
    "\n",
    "def main():\n",
    "    def update_dictionary(key, dictionary, file_name):\n",
    "        if key not in dictionary:\n",
    "            dictionary[key] = {file_name}\n",
    "        else:\n",
    "            dictionary[key].add(file_name)\n",
    "\n",
    "    folder_path = \"/content/biometric_systems_project\"\n",
    "    for file_name in os.listdir(folder_path):\n",
    "        if file_name.endswith(\".zip\"):\n",
    "            file_path = os.path.join(folder_path, file_name)\n",
    "            extract_folder = os.path.join(folder_path, file_name.replace(\".zip\", \"\"))\n",
    "            os.makedirs(extract_folder, exist_ok=True)\n",
    "            with zipfile.ZipFile(file_path, mode=\"r\") as zip_ref:\n",
    "                zip_ref.extractall(extract_folder)\n",
    "                for root, _, files in os.walk(extract_folder):\n",
    "                    for image_file in files:\n",
    "                        if image_file.lower().endswith('.jpg'):\n",
    "                            source_file = os.path.join(root, image_file)\n",
    "                            destination_file = os.path.join(folder_path, image_file)\n",
    "                            shutil.move(source_file, destination_file)\n",
    "            shutil.rmtree(extract_folder)\n",
    "            os.remove(extract_folder + \".zip\")\n",
    "\n",
    "    ages, genders, ethnicities = dict(), dict(), dict()\n",
    "    for file_name in os.listdir(folder_path):\n",
    "        if(file_name[0] != \"h\"):\n",
    "            if (file_name[0] == \".\"):\n",
    "                file_name = file_name[2:]\n",
    "            else:\n",
    "                age, gender, ethnicity, _ = file_name.split(\"_\")\n",
    "                update_dictionary(age, ages, file_name)\n",
    "                update_dictionary(gender, genders, file_name)\n",
    "                update_dictionary(ethnicity, ethnicities, file_name)\n",
    "\n",
    "    face_cascade_path = \"/content/biometric_systems_project/haarcascade_frontalface_default.xml\"\n",
    "    face_cascade = cv2.CascadeClassifier(face_cascade_path)\n",
    "\n",
    "    if face_cascade.empty():\n",
    "        print(\"Errore: il file haarcascade_frontalface_default.xml non è stato trovato o caricato correttamente.\")\n",
    "        return\n",
    "\n",
    "    total_images = len([name for name in os.listdir(folder_path) if name.lower().endswith('.jpg')])\n",
    "\n",
    "    for file_name in tqdm(os.listdir(folder_path), desc=\"Elaborating images\", total=total_images):\n",
    "        image_path = os.path.join(folder_path, file_name)\n",
    "        image = cv2.imread(image_path)\n",
    "        if image is None:\n",
    "            continue\n",
    "        gray_image = cv2.cvtColor(image, cv2.COLOR_BGR2GRAY)\n",
    "        faces = face_cascade.detectMultiScale(gray_image, scaleFactor=1.1, minNeighbors=5, minSize=(30, 30))\n",
    "\n",
    "        for (x, y, w, h) in faces:\n",
    "            face_roi = gray_image[y:y+h, x:x+w]\n",
    "\n",
    "            # Calcola le sezioni del volto usando proporzioni modificate\n",
    "            upper_part = y + int(h * 0.4)     # Limite inferiore della parte occhi (40%)\n",
    "            middle_part = y + int(h * 0.7)    # Limite inferiore della parte naso (70%)\n",
    "\n",
    "            # Disegna le linee per suddividere il volto in 3 parti\n",
    "            cv2.line(image, (x, upper_part), (x + w, upper_part), (0, 255, 0), 2)    # Linea occhi-naso\n",
    "            cv2.line(image, (x, middle_part), (x + w, middle_part), (0, 0, 255), 2)  # Linea naso-bocca\n",
    "\n",
    "            # Etichetta le sezioni\n",
    "            cv2.putText(image, \"Eyes\", (x, y + int(h * 0.15)), cv2.FONT_HERSHEY_SIMPLEX, 0.6, (0, 255, 0), 2)\n",
    "            cv2.putText(image, \"Nose\", (x, upper_part + int(h * 0.05)), cv2.FONT_HERSHEY_SIMPLEX, 0.6, (0, 0, 255), 2)\n",
    "            cv2.putText(image, \"Mouth\", (x, middle_part + int(h * 0.05)), cv2.FONT_HERSHEY_SIMPLEX, 0.6, (255, 0, 0), 2)\n",
    "\n",
    "            cv2_imshow(image)\n",
    "            cv2.waitKey(500)\n",
    "\n",
    "if __name__ == \"__main__\":\n",
    "    main()\n"
   ]
  }
 ],
 "metadata": {
  "colab": {
   "provenance": []
  },
  "kernelspec": {
   "display_name": "Python 3",
   "name": "python3"
  },
  "language_info": {
   "name": "python"
  }
 },
 "nbformat": 4,
 "nbformat_minor": 0
}
