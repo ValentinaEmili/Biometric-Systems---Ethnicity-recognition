{
  "cells": [
    {
      "cell_type": "code",
      "execution_count": 1,
      "metadata": {
        "colab": {
          "base_uri": "https://localhost:8080/"
        },
        "id": "3AuMVkGrOLz8",
        "outputId": "dd3f3ff1-a34c-4f37-ebf5-04d599db0759"
      },
      "outputs": [
        {
          "output_type": "stream",
          "name": "stdout",
          "text": [
            "Requirement already satisfied: gdown in /usr/local/lib/python3.10/dist-packages (5.2.0)\n",
            "Requirement already satisfied: beautifulsoup4 in /usr/local/lib/python3.10/dist-packages (from gdown) (4.12.3)\n",
            "Requirement already satisfied: filelock in /usr/local/lib/python3.10/dist-packages (from gdown) (3.16.1)\n",
            "Requirement already satisfied: requests[socks] in /usr/local/lib/python3.10/dist-packages (from gdown) (2.32.3)\n",
            "Requirement already satisfied: tqdm in /usr/local/lib/python3.10/dist-packages (from gdown) (4.67.1)\n",
            "Requirement already satisfied: soupsieve>1.2 in /usr/local/lib/python3.10/dist-packages (from beautifulsoup4->gdown) (2.6)\n",
            "Requirement already satisfied: charset-normalizer<4,>=2 in /usr/local/lib/python3.10/dist-packages (from requests[socks]->gdown) (3.4.0)\n",
            "Requirement already satisfied: idna<4,>=2.5 in /usr/local/lib/python3.10/dist-packages (from requests[socks]->gdown) (3.10)\n",
            "Requirement already satisfied: urllib3<3,>=1.21.1 in /usr/local/lib/python3.10/dist-packages (from requests[socks]->gdown) (2.2.3)\n",
            "Requirement already satisfied: certifi>=2017.4.17 in /usr/local/lib/python3.10/dist-packages (from requests[socks]->gdown) (2024.12.14)\n",
            "Requirement already satisfied: PySocks!=1.5.7,>=1.5.6 in /usr/local/lib/python3.10/dist-packages (from requests[socks]->gdown) (1.7.1)\n",
            "Requirement already satisfied: tqdm in /usr/local/lib/python3.10/dist-packages (4.67.1)\n"
          ]
        },
        {
          "output_type": "execute_result",
          "data": {
            "text/plain": [
              "['/content/Dataset/AlexNet.py',\n",
              " '/content/Dataset/custom_cnn.py',\n",
              " '/content/Dataset/Dataset_resized.zip']"
            ]
          },
          "metadata": {},
          "execution_count": 1
        }
      ],
      "source": [
        "%pip install gdown\n",
        "%pip install tqdm\n",
        "import gdown\n",
        "\n",
        "url = \"https://drive.google.com/drive/folders/1iYO-Kwh4RFq6mm5UNPTRO7te8T6jOA6f?usp=drive_link\"\n",
        "gdown.download_folder(url, quiet=True)"
      ]
    },
    {
      "cell_type": "code",
      "execution_count": 2,
      "metadata": {
        "colab": {
          "base_uri": "https://localhost:8080/"
        },
        "id": "OmbewJL_PSOa",
        "outputId": "07c1d808-2d01-4f83-ba0c-5e86c49200a7"
      },
      "outputs": [
        {
          "output_type": "stream",
          "name": "stdout",
          "text": [
            "File zip Dataset/Dataset_resized.zip estratto e rimosso.\n",
            "Processo completato!\n"
          ]
        }
      ],
      "source": [
        "import os\n",
        "import zipfile\n",
        "import shutil\n",
        "from tqdm import tqdm\n",
        "from collections import defaultdict\n",
        "from sklearn.model_selection import train_test_split\n",
        "import torch.nn as nn\n",
        "import torch.optim as optim\n",
        "from PIL import Image\n",
        "from torchvision import datasets, transforms, models\n",
        "from torch.utils.data import DataLoader, random_split, Dataset\n",
        "import matplotlib.pyplot as plt\n",
        "import numpy as np\n",
        "import torch\n",
        "\n",
        "\n",
        "# Percorso della cartella Project_Biometric/Dataset\n",
        "dataset_path = \"Dataset\"\n",
        "\n",
        "# Funzione per estrarre i file zip e rimuoverli\n",
        "def extract_and_remove_zip(zip_path, extract_to):\n",
        "    \"\"\"\n",
        "    Estrae il contenuto di un file zip e poi elimina il file zip.\n",
        "    Args:\n",
        "        zip_path (str): percorso del file zip da estrarre.\n",
        "        extract_to (str): cartella di destinazione in cui estrarre i file.\n",
        "    \"\"\"\n",
        "    with zipfile.ZipFile(zip_path, 'r') as zip_ref:\n",
        "        zip_ref.extractall(extract_to)\n",
        "    os.remove(zip_path)  # Rimuove il file zip dopo l'estrazione\n",
        "    print(f\"File zip {zip_path} estratto e rimosso.\")\n",
        "\n",
        "# Estrai e rimuovi i file ZIP nella cartella dataset\n",
        "zip_files = [f for f in os.listdir(dataset_path) if f.endswith('.zip')]\n",
        "for zip_file in zip_files:\n",
        "    zip_path = os.path.join(dataset_path, zip_file)\n",
        "    extract_and_remove_zip(zip_path, dataset_path)\n",
        "\n",
        "# Funzione per analizzare il nome del file\n",
        "# def parse_filename(filename):\n",
        "#     parts = filename.split(\"_\")\n",
        "#     object_type = parts[0]  # Nome oggetto (es. nose, mouth, eyes)\n",
        "#     age = parts[1]          # Età\n",
        "#     gender = parts[2]       # Sesso\n",
        "#     ethnicity = parts[3]    # Etnia\n",
        "#     return object_type, age, gender, ethnicity\n",
        "\n",
        "# dataset_path = \"Dataset/Dataset_resized\"\n",
        "\n",
        "# # Processa ogni sottocartella (ad esempio eyes, mouth, nose)\n",
        "# for folder in os.listdir(dataset_path):\n",
        "#     folder_path = os.path.join(dataset_path, folder)\n",
        "\n",
        "#     # Procedi solo se è una directory\n",
        "#     if os.path.isdir(folder_path):\n",
        "#         print(f\"Elaborazione della cartella: {folder}\")\n",
        "\n",
        "#         # Crea le sottocartelle train e test\n",
        "#         train_folder = os.path.join(folder_path, \"train\")\n",
        "#         test_folder = os.path.join(folder_path, \"test\")\n",
        "#         os.makedirs(train_folder, exist_ok=True)\n",
        "#         os.makedirs(test_folder, exist_ok=True)\n",
        "\n",
        "#         # Raggruppa i file in base a età ed etnia\n",
        "#         file_groups = defaultdict(list)\n",
        "#         files = [f for f in os.listdir(folder_path) if f.endswith(\".jpg\")]\n",
        "\n",
        "#         # Raggruppa per età ed etnia\n",
        "#         for file in files:\n",
        "#             file_path = os.path.join(folder_path, file)\n",
        "#             try:\n",
        "#                 object_type, age, gender, ethnicity = parse_filename(file)\n",
        "#                 if object_type and age and gender and ethnicity:\n",
        "#                     file_groups[(age, ethnicity)].append(file)\n",
        "#                 else:\n",
        "#                     print(f\"File non valido (parametri mancanti): {file}. Eliminazione...\")\n",
        "#                     os.remove(file_path)  # Elimina file non valido\n",
        "#             except IndexError:\n",
        "#                 print(f\"File non conforme al formato: {file}. Eliminazione...\")\n",
        "#                 os.remove(file_path)  # Elimina file non conforme\n",
        "\n",
        "#         # Suddividi i file in modo bilanciato tra train e test\n",
        "#         train_files = []\n",
        "#         test_files = []\n",
        "\n",
        "#         for group, group_files in file_groups.items():\n",
        "#             if len(group_files) == 1:\n",
        "#                 # Se c'è solo un file, assegnalo al training set\n",
        "#                 train_files.extend(group_files)\n",
        "#             else:\n",
        "#                 # Altrimenti, suddividi il gruppo in train e test (80% train, 20% test)\n",
        "#                 train, test = train_test_split(group_files, test_size=0.2, random_state=42)\n",
        "#                 train_files.extend(train)\n",
        "#                 test_files.extend(test)\n",
        "\n",
        "#         # Sposta i file nelle rispettive cartelle train e test\n",
        "#         for file in train_files:\n",
        "#             shutil.move(os.path.join(folder_path, file), os.path.join(train_folder, file))\n",
        "\n",
        "#         for file in test_files:\n",
        "#             shutil.move(os.path.join(folder_path, file), os.path.join(test_folder, file))\n",
        "\n",
        "# # Comprime l'intera directory in un file zip\n",
        "# zip_path = f\"{dataset_path}.zip\"\n",
        "# print(f\"Compressione della cartella principale in: {zip_path}\")\n",
        "# shutil.make_archive(dataset_path, 'zip', dataset_path)\n",
        "\n",
        "print(\"Processo completato!\")\n",
        "\n",
        "\n"
      ]
    },
    {
      "cell_type": "markdown",
      "metadata": {
        "id": "TMJOTsQy2nqT"
      },
      "source": [
        "**Conteggio numero immagini per ogni set**"
      ]
    },
    {
      "cell_type": "code",
      "execution_count": 3,
      "metadata": {
        "colab": {
          "base_uri": "https://localhost:8080/"
        },
        "id": "pbmxURG1p1yz",
        "outputId": "91d1d6b7-73e1-4b05-96e1-be910677b907"
      },
      "outputs": [
        {
          "output_type": "stream",
          "name": "stdout",
          "text": [
            "Cartella 'mouth':\n",
            "  Train set: 18255 file\n",
            "  Test set: 4776 file\n",
            "Cartella 'nose':\n",
            "  Train set: 18255 file\n",
            "  Test set: 4776 file\n",
            "Cartella 'eyes':\n",
            "  Train set: 18255 file\n",
            "  Test set: 4776 file\n"
          ]
        }
      ],
      "source": [
        "dataset_path = \"Dataset\"\n",
        "for folder in os.listdir(dataset_path):\n",
        "    folder_path = os.path.join(dataset_path, folder)\n",
        "\n",
        "    # Procedi solo se è una directory\n",
        "    if os.path.isdir(folder_path):\n",
        "        train_folder = os.path.join(folder_path, \"train\")\n",
        "        test_folder = os.path.join(folder_path, \"test\")\n",
        "\n",
        "        train_count = len([f for f in os.listdir(train_folder) if os.path.isfile(os.path.join(train_folder, f))]) if os.path.exists(train_folder) else 0\n",
        "        test_count = len([f for f in os.listdir(test_folder) if os.path.isfile(os.path.join(test_folder, f))]) if os.path.exists(test_folder) else 0\n",
        "\n",
        "        print(f\"Cartella '{folder}':\")\n",
        "        print(f\"  Train set: {train_count} file\")\n",
        "        print(f\"  Test set: {test_count} file\")"
      ]
    },
    {
      "cell_type": "code",
      "execution_count": 4,
      "metadata": {
        "colab": {
          "base_uri": "https://localhost:8080/"
        },
        "id": "sjt1L2IxWeTz",
        "outputId": "723624f5-33c5-4ad4-e4a0-d7501944faf5"
      },
      "outputs": [
        {
          "output_type": "stream",
          "name": "stdout",
          "text": [
            "Using device: cuda\n"
          ]
        }
      ],
      "source": [
        "# Check if GPU is available\n",
        "device = torch.device('cuda' if torch.cuda.is_available() else 'cpu')\n",
        "print(f'Using device: {device}')"
      ]
    },
    {
      "cell_type": "code",
      "execution_count": 5,
      "metadata": {
        "id": "Lh0Zvz423z4-"
      },
      "outputs": [],
      "source": [
        "# Impostare la trasformazione\n",
        "transform_eyes = transforms.Compose([\n",
        "    transforms.Resize((44, 266)),  # Cambia dimensione a (altezza, larghezza)\n",
        "    transforms.ToTensor(),        # Converte l'immagine in tensor\n",
        "    transforms.Normalize(mean=[0.5, 0.5, 0.5], std=[0.5, 0.5, 0.5])  # Normalizzazione\n",
        "])\n",
        "\n",
        "# Transform per il naso (108x170)\n",
        "transform_nose = transforms.Compose([\n",
        "    transforms.Resize((170, 108)),  # Cambia dimensione a (altezza, larghezza)\n",
        "    transforms.ToTensor(),         # Converte l'immagine in tensor\n",
        "    transforms.Normalize(mean=[0.5, 0.5, 0.5], std=[0.5, 0.5, 0.5])  # Normalizzazione\n",
        "])\n",
        "\n",
        "# Transform per la bocca (193x89)\n",
        "transform_mouth = transforms.Compose([\n",
        "    transforms.Resize((89, 193)),  # Cambia dimensione a (altezza, larghezza)\n",
        "    transforms.ToTensor(),        # Converte l'immagine in tensor\n",
        "    transforms.Normalize(mean=[0.5, 0.5, 0.5], std=[0.5, 0.5, 0.5])  # Normalizzazione\n",
        "])\n",
        "\n",
        "# Dataset personalizzato\n",
        "class EthnicityDataset(Dataset):\n",
        "    def __init__(self, root_dir, transform=None):\n",
        "        self.root_dir = root_dir\n",
        "        self.transform = transform\n",
        "        self.images = []\n",
        "        self.labels = []\n",
        "\n",
        "        # Scansione della cartella per ottenere i file\n",
        "        for filename in os.listdir(root_dir):\n",
        "            if filename.endswith(\".jpg\") or filename.endswith(\".png\"):  # Considerando immagini .jpg e .png\n",
        "                self.images.append(filename)\n",
        "\n",
        "                # Estraiamo l'etnia dalla parte finale del nome del file\n",
        "                # esempio: eyes_100_1_0_20170112213001988\n",
        "                parts = filename.split('_')\n",
        "                if len(parts) >= 4:\n",
        "                    label = parts[3]  # L'etnia è il quarto elemento (indice 3)\n",
        "                    label_map = {\"0\": 0, \"1\": 1, \"2\": 2, \"3\": 3, \"4\": 4}  # Mappatura delle etnie\n",
        "                    self.labels.append(label_map.get(label, -1))  # -1 se l'etnia non è trovata\n",
        "\n",
        "    def __len__(self):\n",
        "        return len(self.images)\n",
        "\n",
        "    def __getitem__(self, idx):\n",
        "        image_name = self.images[idx]\n",
        "        image_path = os.path.join(self.root_dir, image_name)\n",
        "\n",
        "        try:\n",
        "            image = Image.open(image_path)\n",
        "        except Exception as e:\n",
        "            print(f\"Errore nel caricamento dell'immagine {image_path}: {e}\")\n",
        "            return None, None\n",
        "\n",
        "        if self.transform:\n",
        "            image = self.transform(image)\n",
        "\n",
        "        label = self.labels[idx]\n",
        "\n",
        "        # Aggiungi un controllo se l'etichetta è corretta\n",
        "        if label == -1:\n",
        "            print(f\"Errore: etichetta non trovata per {image_name}\")\n",
        "\n",
        "        return image, label"
      ]
    },
    {
      "cell_type": "code",
      "execution_count": 6,
      "metadata": {
        "id": "Yp9HKRYlu8DB"
      },
      "outputs": [],
      "source": [
        "from Dataset.custom_cnn import CNN\n",
        "from Dataset.AlexNet import AlexNet\n",
        "from sklearn.metrics import classification_report, confusion_matrix\n",
        "from sklearn.model_selection import KFold\n",
        "from torch.utils.data import Subset\n",
        "import seaborn as sns\n",
        "import matplotlib.pyplot as plt\n",
        "import math\n",
        "\n",
        "def get_output_size(x, y):\n",
        "    # Layer 1 (Conv2d + MaxPool2d)\n",
        "    x1 = math.floor((x - 11) / 4) + 1  # Dopo Conv2d\n",
        "    x1 = math.floor(x1 / 2)  # Dopo MaxPool2d\n",
        "    y1 = math.floor((y - 11) / 4) + 1  # Dopo Conv2d\n",
        "    y1 = math.floor(y1 / 2)  # Dopo MaxPool2d\n",
        "\n",
        "    # Layer 2 (Conv2d + MaxPool2d)\n",
        "    x2 = math.floor((x1 - 5 + 2 * 2) / 1) + 1  # Dopo Conv2d (kernel 5, stride 1, padding 2)\n",
        "    x2 = math.floor(x2 / 2)  # Dopo MaxPool2d\n",
        "    y2 = math.floor((y1 - 5 + 2 * 2) / 1) + 1  # Dopo Conv2d\n",
        "    y2 = math.floor(y2 / 2)  # Dopo MaxPool2d\n",
        "\n",
        "    # Layer 3 (Conv2d, senza pooling)\n",
        "    x3 = x2  # La dimensione non cambia\n",
        "    y3 = y2  # La dimensione non cambia\n",
        "\n",
        "    # Layer 4 (Conv2d, senza pooling)\n",
        "    x4 = x3  # La dimensione non cambia\n",
        "    y4 = y3  # La dimensione non cambia\n",
        "\n",
        "    # Layer 5 (Conv2d, senza MaxPool2d)\n",
        "    x_out = x4\n",
        "    y_out = y4\n",
        "\n",
        "    return x_out, y_out\n",
        "\n",
        "ex = 266\n",
        "ey = 44\n",
        "nx = 108\n",
        "ny = 170\n",
        "my = 89\n",
        "mx = 193\n",
        "\n",
        "ex, ey = get_output_size(ex, ey)\n",
        "nx, ny = get_output_size(nx, ny)\n",
        "mx, my = get_output_size(mx, my)\n",
        "\n",
        "e_x = 16\n",
        "e_y = 2\n",
        "n_x = 6\n",
        "n_y = 10\n",
        "m_x = 12\n",
        "m_y = 5\n",
        "\n",
        "hid_1 = 64\n",
        "hid_2 = 64\n",
        "hid_3 = 128\n",
        "hid_4 = 128\n",
        "hid_5 = 128\n",
        "hid_6 = 128\n",
        "drop_1 = 0.2\n",
        "drop_2 = 0.5\n",
        "\n",
        "# eyes_net = CNN(hid_1, hid_2, hid_3, hid_4, hid_5, hid_6, e_x, e_y, drop_1, drop_2)\n",
        "# nose_net = CNN(hid_1, hid_2, hid_3, hid_4, hid_5, hid_6, n_x, n_y, drop_1, drop_2)\n",
        "# mouth_net = CNN(hid_1, hid_2, hid_3, hid_4, hid_5, hid_6, m_x, m_y, drop_1, drop_2)\n",
        "\n",
        "eyes_net = AlexNet(ex,ey)\n",
        "nose_net = AlexNet(nx,ny)\n",
        "mouth_net = AlexNet(mx,my)\n",
        "\n",
        "class_names = [\"White\", \"Black\", \"Asian\", \"Indian\", \"Others\"]"
      ]
    },
    {
      "cell_type": "markdown",
      "metadata": {
        "id": "5Dkmi8jNsoKr"
      },
      "source": [
        "**EYES TRAINING VALIDATION AND TEST**"
      ]
    },
    {
      "cell_type": "code",
      "source": [
        "# Inizializzare il dataset\n",
        "full_train_dataset = EthnicityDataset(root_dir=\"Dataset/eyes/train\", transform=transform_eyes)\n",
        "test_dataset = EthnicityDataset(root_dir=\"Dataset/eyes/test\", transform=transform_eyes)\n",
        "test_loader = DataLoader(test_dataset, batch_size=32, shuffle=True)\n",
        "\n",
        "# Parametri di Early Stopping\n",
        "patience = 4  # Numero massimo di epoche senza miglioramenti\n",
        "\n",
        "# K-fold Cross-Validation\n",
        "k = 5  # Scegliamo K = 5\n",
        "kf = KFold(n_splits=k, shuffle=True, random_state=42)\n",
        "\n",
        "# Array per salvare i risultati di ogni fold\n",
        "fold_train_losses = []\n",
        "fold_val_losses = []\n",
        "fold_train_accuracies = []\n",
        "fold_val_accuracies = []\n",
        "\n",
        "num_epochs = 10\n",
        "batch_size = 32\n",
        "\n",
        "for fold, (train_idx, val_idx) in enumerate(kf.split(np.arange(len(full_train_dataset)))):\n",
        "    print(f\"Fold {fold + 1}/{k}\")\n",
        "\n",
        "    # Creare i subset per training e validation\n",
        "    train_subset = Subset(full_train_dataset, train_idx)\n",
        "    val_subset = Subset(full_train_dataset, val_idx)\n",
        "\n",
        "    # Creare i dataloader per il fold corrente\n",
        "    train_loader = DataLoader(train_subset, batch_size=batch_size, shuffle=True)\n",
        "    val_loader = DataLoader(val_subset, batch_size=batch_size, shuffle=False)\n",
        "\n",
        "    # Reinizializzare il modello e l'ottimizzatore per ogni fold\n",
        "    eyes_net = eyes_net.to(device)  # Assicurarsi che il modello sia su GPU/CPU corretta\n",
        "    eyes_optimizer = torch.optim.Adam(eyes_net.parameters(), lr=0.001, weight_decay=0.0001)\n",
        "\n",
        "    # Criterion\n",
        "    criterion = nn.CrossEntropyLoss()\n",
        "\n",
        "    best_model_state = None  # Per salvare lo stato del modello\n",
        "    best_val_loss = float(\"inf\")  # Migliore loss iniziale\n",
        "    no_improvement = 0  # Contatore per epoche senza miglioramenti\n",
        "\n",
        "    # Metriche per ogni fold\n",
        "    train_losses = []\n",
        "    val_losses = []\n",
        "    train_accuracies = []\n",
        "    val_accuracies = []\n",
        "\n",
        "    # Training per ogni fold\n",
        "    for epoch in range(num_epochs):\n",
        "        # Training Phase\n",
        "        eyes_net.train()\n",
        "        running_loss = 0.0\n",
        "        correct = 0\n",
        "        total = 0\n",
        "\n",
        "        for data in tqdm(train_loader, desc=f\"Training Fold {fold + 1}, Epoch {epoch + 1}\", unit=\"batch\"):\n",
        "            inputs, labels = data\n",
        "            inputs, labels = inputs.to(device), labels.to(device)\n",
        "\n",
        "            # Zero the gradients\n",
        "            eyes_optimizer.zero_grad()\n",
        "\n",
        "            # Forward pass\n",
        "            outputs = eyes_net(inputs)\n",
        "            loss = criterion(outputs, labels)\n",
        "            loss.backward()\n",
        "            eyes_optimizer.step()\n",
        "\n",
        "            running_loss += loss.item()\n",
        "\n",
        "            # Accuracy\n",
        "            _, predicted = torch.max(outputs, 1)\n",
        "            total += labels.size(0)\n",
        "            correct += (predicted == labels).sum().item()\n",
        "\n",
        "        avg_train_loss = running_loss / len(train_loader)\n",
        "        train_accuracy = correct / total\n",
        "        train_losses.append(avg_train_loss)\n",
        "        train_accuracies.append(train_accuracy)\n",
        "\n",
        "        print(f\"Fold {fold + 1}, Epoch {epoch + 1}, Train Loss: {avg_train_loss:.4f}, Train Accuracy: {train_accuracy:.4f}\")\n",
        "\n",
        "        # Validation Phase\n",
        "        eyes_net.eval()\n",
        "        val_running_loss = 0.0\n",
        "        correct = 0\n",
        "        total = 0\n",
        "\n",
        "        with torch.no_grad():\n",
        "            for data in tqdm(val_loader, desc=f\"Validating Fold {fold + 1}, Epoch {epoch + 1}\", unit=\"batch\"):\n",
        "                inputs, labels = data\n",
        "                inputs, labels = inputs.to(device), labels.to(device)\n",
        "\n",
        "                outputs = eyes_net(inputs)\n",
        "                loss = criterion(outputs, labels)\n",
        "\n",
        "                val_running_loss += loss.item()\n",
        "\n",
        "                # Accuracy\n",
        "                _, predicted = torch.max(outputs, 1)\n",
        "                total += labels.size(0)\n",
        "                correct += (predicted == labels).sum().item()\n",
        "\n",
        "        avg_val_loss = val_running_loss / len(val_loader)\n",
        "        val_accuracy = correct / total\n",
        "        val_losses.append(avg_val_loss)\n",
        "        val_accuracies.append(val_accuracy)\n",
        "\n",
        "        print(f\"Fold {fold + 1}, Epoch {epoch + 1}, Val Loss: {avg_val_loss:.4f}, Val Accuracy: {val_accuracy:.4f}\")\n",
        "\n",
        "        # Early Stopping: verifica miglioramento della loss di validazione\n",
        "        if avg_val_loss < best_val_loss:\n",
        "            print(f\"Validation loss improved from {best_val_loss:.4f} to {avg_val_loss:.4f}. Saving model...\")\n",
        "            best_val_loss = avg_val_loss\n",
        "            best_model_state = eyes_net.state_dict()  # Salva il miglior modello\n",
        "            no_improvement = 0  # Resetta il contatore\n",
        "        else:\n",
        "            no_improvement += 1\n",
        "            print(f\"No improvement for {no_improvement} epochs.\")\n",
        "\n",
        "        # Controlla se interrompere l'allenamento per Early Stopping\n",
        "        if no_improvement >= patience:\n",
        "            print(f\"Early stopping triggered at epoch {epoch + 1}.\")\n",
        "            break\n",
        "\n",
        "    # Carica il miglior modello salvato per questo fold\n",
        "    eyes_net.load_state_dict(best_model_state)\n",
        "\n",
        "    # Salvare i risultati del fold corrente\n",
        "    fold_train_losses.append(train_losses)\n",
        "    fold_val_losses.append(val_losses)\n",
        "    fold_train_accuracies.append(train_accuracies)\n",
        "    fold_val_accuracies.append(val_accuracies)\n",
        "\n",
        "# Calcolare le metriche medie su tutti i fold\n",
        "mean_train_loss = np.mean([np.mean(fold) for fold in fold_train_losses])\n",
        "mean_val_loss = np.mean([np.mean(fold) for fold in fold_val_losses])\n",
        "mean_train_accuracy = np.mean([np.mean(fold) for fold in fold_train_accuracies])\n",
        "mean_val_accuracy = np.mean([np.mean(fold) for fold in fold_val_accuracies])\n",
        "\n",
        "print(f\"Average Training Loss: {mean_train_loss:.4f}\")\n",
        "print(f\"Average Validation Loss: {mean_val_loss:.4f}\")\n",
        "print(f\"Average Training Accuracy: {mean_train_accuracy:.4f}\")\n",
        "print(f\"Average Validation Accuracy: {mean_val_accuracy:.4f}\")"
      ],
      "metadata": {
        "colab": {
          "base_uri": "https://localhost:8080/"
        },
        "id": "9Wj4z1i5Uuth",
        "outputId": "9c37da8c-3411-4443-ee55-65c82a95a7aa"
      },
      "execution_count": 7,
      "outputs": [
        {
          "output_type": "stream",
          "name": "stdout",
          "text": [
            "Fold 1/5\n"
          ]
        },
        {
          "output_type": "stream",
          "name": "stderr",
          "text": [
            "Training Fold 1, Epoch 1: 100%|██████████| 457/457 [00:35<00:00, 12.84batch/s]\n"
          ]
        },
        {
          "output_type": "stream",
          "name": "stdout",
          "text": [
            "Fold 1, Epoch 1, Train Loss: 1.4149, Train Accuracy: 0.4655\n"
          ]
        },
        {
          "output_type": "stream",
          "name": "stderr",
          "text": [
            "Validating Fold 1, Epoch 1: 100%|██████████| 115/115 [00:04<00:00, 27.98batch/s]\n"
          ]
        },
        {
          "output_type": "stream",
          "name": "stdout",
          "text": [
            "Fold 1, Epoch 1, Val Loss: 1.3300, Val Accuracy: 0.4996\n",
            "Validation loss improved from inf to 1.3300. Saving model...\n"
          ]
        },
        {
          "output_type": "stream",
          "name": "stderr",
          "text": [
            "Training Fold 1, Epoch 2: 100%|██████████| 457/457 [00:27<00:00, 16.67batch/s]\n"
          ]
        },
        {
          "output_type": "stream",
          "name": "stdout",
          "text": [
            "Fold 1, Epoch 2, Train Loss: 1.2449, Train Accuracy: 0.5267\n"
          ]
        },
        {
          "output_type": "stream",
          "name": "stderr",
          "text": [
            "Validating Fold 1, Epoch 2: 100%|██████████| 115/115 [00:03<00:00, 35.12batch/s]\n"
          ]
        },
        {
          "output_type": "stream",
          "name": "stdout",
          "text": [
            "Fold 1, Epoch 2, Val Loss: 1.1721, Val Accuracy: 0.5336\n",
            "Validation loss improved from 1.3300 to 1.1721. Saving model...\n"
          ]
        },
        {
          "output_type": "stream",
          "name": "stderr",
          "text": [
            "Training Fold 1, Epoch 3: 100%|██████████| 457/457 [00:27<00:00, 16.63batch/s]\n"
          ]
        },
        {
          "output_type": "stream",
          "name": "stdout",
          "text": [
            "Fold 1, Epoch 3, Train Loss: 1.1587, Train Accuracy: 0.5648\n"
          ]
        },
        {
          "output_type": "stream",
          "name": "stderr",
          "text": [
            "Validating Fold 1, Epoch 3: 100%|██████████| 115/115 [00:03<00:00, 34.18batch/s]\n"
          ]
        },
        {
          "output_type": "stream",
          "name": "stdout",
          "text": [
            "Fold 1, Epoch 3, Val Loss: 1.0796, Val Accuracy: 0.6023\n",
            "Validation loss improved from 1.1721 to 1.0796. Saving model...\n"
          ]
        },
        {
          "output_type": "stream",
          "name": "stderr",
          "text": [
            "Training Fold 1, Epoch 4: 100%|██████████| 457/457 [00:29<00:00, 15.59batch/s]\n"
          ]
        },
        {
          "output_type": "stream",
          "name": "stdout",
          "text": [
            "Fold 1, Epoch 4, Train Loss: 1.0877, Train Accuracy: 0.5959\n"
          ]
        },
        {
          "output_type": "stream",
          "name": "stderr",
          "text": [
            "Validating Fold 1, Epoch 4: 100%|██████████| 115/115 [00:03<00:00, 34.98batch/s]\n"
          ]
        },
        {
          "output_type": "stream",
          "name": "stdout",
          "text": [
            "Fold 1, Epoch 4, Val Loss: 0.9750, Val Accuracy: 0.6434\n",
            "Validation loss improved from 1.0796 to 0.9750. Saving model...\n"
          ]
        },
        {
          "output_type": "stream",
          "name": "stderr",
          "text": [
            "Training Fold 1, Epoch 5: 100%|██████████| 457/457 [00:27<00:00, 16.65batch/s]\n"
          ]
        },
        {
          "output_type": "stream",
          "name": "stdout",
          "text": [
            "Fold 1, Epoch 5, Train Loss: 1.0309, Train Accuracy: 0.6286\n"
          ]
        },
        {
          "output_type": "stream",
          "name": "stderr",
          "text": [
            "Validating Fold 1, Epoch 5: 100%|██████████| 115/115 [00:03<00:00, 35.12batch/s]\n"
          ]
        },
        {
          "output_type": "stream",
          "name": "stdout",
          "text": [
            "Fold 1, Epoch 5, Val Loss: 0.9852, Val Accuracy: 0.6464\n",
            "No improvement for 1 epochs.\n"
          ]
        },
        {
          "output_type": "stream",
          "name": "stderr",
          "text": [
            "Training Fold 1, Epoch 6: 100%|██████████| 457/457 [00:27<00:00, 16.41batch/s]\n"
          ]
        },
        {
          "output_type": "stream",
          "name": "stdout",
          "text": [
            "Fold 1, Epoch 6, Train Loss: 0.9729, Train Accuracy: 0.6515\n"
          ]
        },
        {
          "output_type": "stream",
          "name": "stderr",
          "text": [
            "Validating Fold 1, Epoch 6: 100%|██████████| 115/115 [00:03<00:00, 31.42batch/s]\n"
          ]
        },
        {
          "output_type": "stream",
          "name": "stdout",
          "text": [
            "Fold 1, Epoch 6, Val Loss: 0.9664, Val Accuracy: 0.6472\n",
            "Validation loss improved from 0.9750 to 0.9664. Saving model...\n"
          ]
        },
        {
          "output_type": "stream",
          "name": "stderr",
          "text": [
            "Training Fold 1, Epoch 7: 100%|██████████| 457/457 [00:27<00:00, 16.62batch/s]\n"
          ]
        },
        {
          "output_type": "stream",
          "name": "stdout",
          "text": [
            "Fold 1, Epoch 7, Train Loss: 0.9312, Train Accuracy: 0.6695\n"
          ]
        },
        {
          "output_type": "stream",
          "name": "stderr",
          "text": [
            "Validating Fold 1, Epoch 7: 100%|██████████| 115/115 [00:03<00:00, 34.07batch/s]\n"
          ]
        },
        {
          "output_type": "stream",
          "name": "stdout",
          "text": [
            "Fold 1, Epoch 7, Val Loss: 0.9258, Val Accuracy: 0.6658\n",
            "Validation loss improved from 0.9664 to 0.9258. Saving model...\n"
          ]
        },
        {
          "output_type": "stream",
          "name": "stderr",
          "text": [
            "Training Fold 1, Epoch 8: 100%|██████████| 457/457 [00:28<00:00, 16.02batch/s]\n"
          ]
        },
        {
          "output_type": "stream",
          "name": "stdout",
          "text": [
            "Fold 1, Epoch 8, Train Loss: 0.9069, Train Accuracy: 0.6788\n"
          ]
        },
        {
          "output_type": "stream",
          "name": "stderr",
          "text": [
            "Validating Fold 1, Epoch 8: 100%|██████████| 115/115 [00:04<00:00, 26.20batch/s]\n"
          ]
        },
        {
          "output_type": "stream",
          "name": "stdout",
          "text": [
            "Fold 1, Epoch 8, Val Loss: 0.9532, Val Accuracy: 0.6721\n",
            "No improvement for 1 epochs.\n"
          ]
        },
        {
          "output_type": "stream",
          "name": "stderr",
          "text": [
            "Training Fold 1, Epoch 9: 100%|██████████| 457/457 [00:27<00:00, 16.40batch/s]\n"
          ]
        },
        {
          "output_type": "stream",
          "name": "stdout",
          "text": [
            "Fold 1, Epoch 9, Train Loss: 0.8661, Train Accuracy: 0.6942\n"
          ]
        },
        {
          "output_type": "stream",
          "name": "stderr",
          "text": [
            "Validating Fold 1, Epoch 9: 100%|██████████| 115/115 [00:03<00:00, 33.87batch/s]\n"
          ]
        },
        {
          "output_type": "stream",
          "name": "stdout",
          "text": [
            "Fold 1, Epoch 9, Val Loss: 0.8557, Val Accuracy: 0.6952\n",
            "Validation loss improved from 0.9258 to 0.8557. Saving model...\n"
          ]
        },
        {
          "output_type": "stream",
          "name": "stderr",
          "text": [
            "Training Fold 1, Epoch 10: 100%|██████████| 457/457 [00:27<00:00, 16.48batch/s]\n"
          ]
        },
        {
          "output_type": "stream",
          "name": "stdout",
          "text": [
            "Fold 1, Epoch 10, Train Loss: 0.8314, Train Accuracy: 0.7051\n"
          ]
        },
        {
          "output_type": "stream",
          "name": "stderr",
          "text": [
            "Validating Fold 1, Epoch 10: 100%|██████████| 115/115 [00:03<00:00, 29.01batch/s]\n"
          ]
        },
        {
          "output_type": "stream",
          "name": "stdout",
          "text": [
            "Fold 1, Epoch 10, Val Loss: 0.8701, Val Accuracy: 0.6864\n",
            "No improvement for 1 epochs.\n",
            "Fold 2/5\n"
          ]
        },
        {
          "output_type": "stream",
          "name": "stderr",
          "text": [
            "Training Fold 2, Epoch 1: 100%|██████████| 457/457 [00:27<00:00, 16.48batch/s]\n"
          ]
        },
        {
          "output_type": "stream",
          "name": "stdout",
          "text": [
            "Fold 2, Epoch 1, Train Loss: 0.8278, Train Accuracy: 0.7104\n"
          ]
        },
        {
          "output_type": "stream",
          "name": "stderr",
          "text": [
            "Validating Fold 2, Epoch 1: 100%|██████████| 115/115 [00:03<00:00, 34.84batch/s]\n"
          ]
        },
        {
          "output_type": "stream",
          "name": "stdout",
          "text": [
            "Fold 2, Epoch 1, Val Loss: 0.7554, Val Accuracy: 0.7291\n",
            "Validation loss improved from inf to 0.7554. Saving model...\n"
          ]
        },
        {
          "output_type": "stream",
          "name": "stderr",
          "text": [
            "Training Fold 2, Epoch 2: 100%|██████████| 457/457 [00:27<00:00, 16.53batch/s]\n"
          ]
        },
        {
          "output_type": "stream",
          "name": "stdout",
          "text": [
            "Fold 2, Epoch 2, Train Loss: 0.7944, Train Accuracy: 0.7190\n"
          ]
        },
        {
          "output_type": "stream",
          "name": "stderr",
          "text": [
            "Validating Fold 2, Epoch 2: 100%|██████████| 115/115 [00:03<00:00, 33.98batch/s]\n"
          ]
        },
        {
          "output_type": "stream",
          "name": "stdout",
          "text": [
            "Fold 2, Epoch 2, Val Loss: 0.7585, Val Accuracy: 0.7253\n",
            "No improvement for 1 epochs.\n"
          ]
        },
        {
          "output_type": "stream",
          "name": "stderr",
          "text": [
            "Training Fold 2, Epoch 3: 100%|██████████| 457/457 [00:27<00:00, 16.36batch/s]\n"
          ]
        },
        {
          "output_type": "stream",
          "name": "stdout",
          "text": [
            "Fold 2, Epoch 3, Train Loss: 0.7599, Train Accuracy: 0.7320\n"
          ]
        },
        {
          "output_type": "stream",
          "name": "stderr",
          "text": [
            "Validating Fold 2, Epoch 3: 100%|██████████| 115/115 [00:03<00:00, 34.03batch/s]\n"
          ]
        },
        {
          "output_type": "stream",
          "name": "stdout",
          "text": [
            "Fold 2, Epoch 3, Val Loss: 0.7433, Val Accuracy: 0.7365\n",
            "Validation loss improved from 0.7554 to 0.7433. Saving model...\n"
          ]
        },
        {
          "output_type": "stream",
          "name": "stderr",
          "text": [
            "Training Fold 2, Epoch 4: 100%|██████████| 457/457 [00:27<00:00, 16.47batch/s]\n"
          ]
        },
        {
          "output_type": "stream",
          "name": "stdout",
          "text": [
            "Fold 2, Epoch 4, Train Loss: 0.7318, Train Accuracy: 0.7442\n"
          ]
        },
        {
          "output_type": "stream",
          "name": "stderr",
          "text": [
            "Validating Fold 2, Epoch 4: 100%|██████████| 115/115 [00:03<00:00, 35.15batch/s]\n"
          ]
        },
        {
          "output_type": "stream",
          "name": "stdout",
          "text": [
            "Fold 2, Epoch 4, Val Loss: 0.8083, Val Accuracy: 0.7198\n",
            "No improvement for 1 epochs.\n"
          ]
        },
        {
          "output_type": "stream",
          "name": "stderr",
          "text": [
            "Training Fold 2, Epoch 5: 100%|██████████| 457/457 [00:27<00:00, 16.46batch/s]\n"
          ]
        },
        {
          "output_type": "stream",
          "name": "stdout",
          "text": [
            "Fold 2, Epoch 5, Train Loss: 0.6975, Train Accuracy: 0.7559\n"
          ]
        },
        {
          "output_type": "stream",
          "name": "stderr",
          "text": [
            "Validating Fold 2, Epoch 5: 100%|██████████| 115/115 [00:03<00:00, 29.04batch/s]\n"
          ]
        },
        {
          "output_type": "stream",
          "name": "stdout",
          "text": [
            "Fold 2, Epoch 5, Val Loss: 0.8198, Val Accuracy: 0.7198\n",
            "No improvement for 2 epochs.\n"
          ]
        },
        {
          "output_type": "stream",
          "name": "stderr",
          "text": [
            "Training Fold 2, Epoch 6: 100%|██████████| 457/457 [00:27<00:00, 16.53batch/s]\n"
          ]
        },
        {
          "output_type": "stream",
          "name": "stdout",
          "text": [
            "Fold 2, Epoch 6, Train Loss: 0.6636, Train Accuracy: 0.7674\n"
          ]
        },
        {
          "output_type": "stream",
          "name": "stderr",
          "text": [
            "Validating Fold 2, Epoch 6: 100%|██████████| 115/115 [00:03<00:00, 35.26batch/s]\n"
          ]
        },
        {
          "output_type": "stream",
          "name": "stdout",
          "text": [
            "Fold 2, Epoch 6, Val Loss: 0.7383, Val Accuracy: 0.7390\n",
            "Validation loss improved from 0.7433 to 0.7383. Saving model...\n"
          ]
        },
        {
          "output_type": "stream",
          "name": "stderr",
          "text": [
            "Training Fold 2, Epoch 7: 100%|██████████| 457/457 [00:27<00:00, 16.61batch/s]\n"
          ]
        },
        {
          "output_type": "stream",
          "name": "stdout",
          "text": [
            "Fold 2, Epoch 7, Train Loss: 0.6251, Train Accuracy: 0.7816\n"
          ]
        },
        {
          "output_type": "stream",
          "name": "stderr",
          "text": [
            "Validating Fold 2, Epoch 7: 100%|██████████| 115/115 [00:03<00:00, 29.92batch/s]\n"
          ]
        },
        {
          "output_type": "stream",
          "name": "stdout",
          "text": [
            "Fold 2, Epoch 7, Val Loss: 0.7279, Val Accuracy: 0.7425\n",
            "Validation loss improved from 0.7383 to 0.7279. Saving model...\n"
          ]
        },
        {
          "output_type": "stream",
          "name": "stderr",
          "text": [
            "Training Fold 2, Epoch 8: 100%|██████████| 457/457 [00:27<00:00, 16.51batch/s]\n"
          ]
        },
        {
          "output_type": "stream",
          "name": "stdout",
          "text": [
            "Fold 2, Epoch 8, Train Loss: 0.5890, Train Accuracy: 0.7964\n"
          ]
        },
        {
          "output_type": "stream",
          "name": "stderr",
          "text": [
            "Validating Fold 2, Epoch 8: 100%|██████████| 115/115 [00:03<00:00, 34.60batch/s]\n"
          ]
        },
        {
          "output_type": "stream",
          "name": "stdout",
          "text": [
            "Fold 2, Epoch 8, Val Loss: 0.7898, Val Accuracy: 0.7310\n",
            "No improvement for 1 epochs.\n"
          ]
        },
        {
          "output_type": "stream",
          "name": "stderr",
          "text": [
            "Training Fold 2, Epoch 9: 100%|██████████| 457/457 [00:27<00:00, 16.46batch/s]\n"
          ]
        },
        {
          "output_type": "stream",
          "name": "stdout",
          "text": [
            "Fold 2, Epoch 9, Train Loss: 0.5638, Train Accuracy: 0.8009\n"
          ]
        },
        {
          "output_type": "stream",
          "name": "stderr",
          "text": [
            "Validating Fold 2, Epoch 9: 100%|██████████| 115/115 [00:03<00:00, 31.91batch/s]\n"
          ]
        },
        {
          "output_type": "stream",
          "name": "stdout",
          "text": [
            "Fold 2, Epoch 9, Val Loss: 0.7870, Val Accuracy: 0.7280\n",
            "No improvement for 2 epochs.\n"
          ]
        },
        {
          "output_type": "stream",
          "name": "stderr",
          "text": [
            "Training Fold 2, Epoch 10: 100%|██████████| 457/457 [00:27<00:00, 16.38batch/s]\n"
          ]
        },
        {
          "output_type": "stream",
          "name": "stdout",
          "text": [
            "Fold 2, Epoch 10, Train Loss: 0.5184, Train Accuracy: 0.8177\n"
          ]
        },
        {
          "output_type": "stream",
          "name": "stderr",
          "text": [
            "Validating Fold 2, Epoch 10: 100%|██████████| 115/115 [00:03<00:00, 34.77batch/s]\n"
          ]
        },
        {
          "output_type": "stream",
          "name": "stdout",
          "text": [
            "Fold 2, Epoch 10, Val Loss: 0.8293, Val Accuracy: 0.7319\n",
            "No improvement for 3 epochs.\n",
            "Fold 3/5\n"
          ]
        },
        {
          "output_type": "stream",
          "name": "stderr",
          "text": [
            "Training Fold 3, Epoch 1: 100%|██████████| 457/457 [00:27<00:00, 16.46batch/s]\n"
          ]
        },
        {
          "output_type": "stream",
          "name": "stdout",
          "text": [
            "Fold 3, Epoch 1, Train Loss: 0.5899, Train Accuracy: 0.7973\n"
          ]
        },
        {
          "output_type": "stream",
          "name": "stderr",
          "text": [
            "Validating Fold 3, Epoch 1: 100%|██████████| 115/115 [00:03<00:00, 35.27batch/s]\n"
          ]
        },
        {
          "output_type": "stream",
          "name": "stdout",
          "text": [
            "Fold 3, Epoch 1, Val Loss: 0.5362, Val Accuracy: 0.8107\n",
            "Validation loss improved from inf to 0.5362. Saving model...\n"
          ]
        },
        {
          "output_type": "stream",
          "name": "stderr",
          "text": [
            "Training Fold 3, Epoch 2: 100%|██████████| 457/457 [00:27<00:00, 16.43batch/s]\n"
          ]
        },
        {
          "output_type": "stream",
          "name": "stdout",
          "text": [
            "Fold 3, Epoch 2, Train Loss: 0.5385, Train Accuracy: 0.8127\n"
          ]
        },
        {
          "output_type": "stream",
          "name": "stderr",
          "text": [
            "Validating Fold 3, Epoch 2: 100%|██████████| 115/115 [00:03<00:00, 30.00batch/s]\n"
          ]
        },
        {
          "output_type": "stream",
          "name": "stdout",
          "text": [
            "Fold 3, Epoch 2, Val Loss: 0.5079, Val Accuracy: 0.8266\n",
            "Validation loss improved from 0.5362 to 0.5079. Saving model...\n"
          ]
        },
        {
          "output_type": "stream",
          "name": "stderr",
          "text": [
            "Training Fold 3, Epoch 3: 100%|██████████| 457/457 [00:27<00:00, 16.43batch/s]\n"
          ]
        },
        {
          "output_type": "stream",
          "name": "stdout",
          "text": [
            "Fold 3, Epoch 3, Train Loss: 0.4982, Train Accuracy: 0.8256\n"
          ]
        },
        {
          "output_type": "stream",
          "name": "stderr",
          "text": [
            "Validating Fold 3, Epoch 3: 100%|██████████| 115/115 [00:03<00:00, 34.35batch/s]\n"
          ]
        },
        {
          "output_type": "stream",
          "name": "stdout",
          "text": [
            "Fold 3, Epoch 3, Val Loss: 0.5359, Val Accuracy: 0.8091\n",
            "No improvement for 1 epochs.\n"
          ]
        },
        {
          "output_type": "stream",
          "name": "stderr",
          "text": [
            "Training Fold 3, Epoch 4: 100%|██████████| 457/457 [00:27<00:00, 16.40batch/s]\n"
          ]
        },
        {
          "output_type": "stream",
          "name": "stdout",
          "text": [
            "Fold 3, Epoch 4, Train Loss: 0.4661, Train Accuracy: 0.8350\n"
          ]
        },
        {
          "output_type": "stream",
          "name": "stderr",
          "text": [
            "Validating Fold 3, Epoch 4: 100%|██████████| 115/115 [00:04<00:00, 27.62batch/s]\n"
          ]
        },
        {
          "output_type": "stream",
          "name": "stdout",
          "text": [
            "Fold 3, Epoch 4, Val Loss: 0.5473, Val Accuracy: 0.8094\n",
            "No improvement for 2 epochs.\n"
          ]
        },
        {
          "output_type": "stream",
          "name": "stderr",
          "text": [
            "Training Fold 3, Epoch 5: 100%|██████████| 457/457 [00:27<00:00, 16.56batch/s]\n"
          ]
        },
        {
          "output_type": "stream",
          "name": "stdout",
          "text": [
            "Fold 3, Epoch 5, Train Loss: 0.4333, Train Accuracy: 0.8492\n"
          ]
        },
        {
          "output_type": "stream",
          "name": "stderr",
          "text": [
            "Validating Fold 3, Epoch 5: 100%|██████████| 115/115 [00:03<00:00, 35.23batch/s]\n"
          ]
        },
        {
          "output_type": "stream",
          "name": "stdout",
          "text": [
            "Fold 3, Epoch 5, Val Loss: 0.5433, Val Accuracy: 0.8157\n",
            "No improvement for 3 epochs.\n"
          ]
        },
        {
          "output_type": "stream",
          "name": "stderr",
          "text": [
            "Training Fold 3, Epoch 6: 100%|██████████| 457/457 [00:27<00:00, 16.48batch/s]\n"
          ]
        },
        {
          "output_type": "stream",
          "name": "stdout",
          "text": [
            "Fold 3, Epoch 6, Train Loss: 0.3988, Train Accuracy: 0.8616\n"
          ]
        },
        {
          "output_type": "stream",
          "name": "stderr",
          "text": [
            "Validating Fold 3, Epoch 6: 100%|██████████| 115/115 [00:03<00:00, 30.04batch/s]\n"
          ]
        },
        {
          "output_type": "stream",
          "name": "stdout",
          "text": [
            "Fold 3, Epoch 6, Val Loss: 0.6609, Val Accuracy: 0.7844\n",
            "No improvement for 4 epochs.\n",
            "Early stopping triggered at epoch 6.\n",
            "Fold 4/5\n"
          ]
        },
        {
          "output_type": "stream",
          "name": "stderr",
          "text": [
            "Training Fold 4, Epoch 1: 100%|██████████| 457/457 [00:27<00:00, 16.40batch/s]\n"
          ]
        },
        {
          "output_type": "stream",
          "name": "stdout",
          "text": [
            "Fold 4, Epoch 1, Train Loss: 0.4580, Train Accuracy: 0.8417\n"
          ]
        },
        {
          "output_type": "stream",
          "name": "stderr",
          "text": [
            "Validating Fold 4, Epoch 1: 100%|██████████| 115/115 [00:03<00:00, 34.99batch/s]\n"
          ]
        },
        {
          "output_type": "stream",
          "name": "stdout",
          "text": [
            "Fold 4, Epoch 1, Val Loss: 0.3092, Val Accuracy: 0.8915\n",
            "Validation loss improved from inf to 0.3092. Saving model...\n"
          ]
        },
        {
          "output_type": "stream",
          "name": "stderr",
          "text": [
            "Training Fold 4, Epoch 2: 100%|██████████| 457/457 [00:27<00:00, 16.59batch/s]\n"
          ]
        },
        {
          "output_type": "stream",
          "name": "stdout",
          "text": [
            "Fold 4, Epoch 2, Train Loss: 0.3951, Train Accuracy: 0.8626\n"
          ]
        },
        {
          "output_type": "stream",
          "name": "stderr",
          "text": [
            "Validating Fold 4, Epoch 2: 100%|██████████| 115/115 [00:03<00:00, 34.98batch/s]\n"
          ]
        },
        {
          "output_type": "stream",
          "name": "stdout",
          "text": [
            "Fold 4, Epoch 2, Val Loss: 0.3027, Val Accuracy: 0.8935\n",
            "Validation loss improved from 0.3092 to 0.3027. Saving model...\n"
          ]
        },
        {
          "output_type": "stream",
          "name": "stderr",
          "text": [
            "Training Fold 4, Epoch 3: 100%|██████████| 457/457 [00:27<00:00, 16.36batch/s]\n"
          ]
        },
        {
          "output_type": "stream",
          "name": "stdout",
          "text": [
            "Fold 4, Epoch 3, Train Loss: 0.3672, Train Accuracy: 0.8725\n"
          ]
        },
        {
          "output_type": "stream",
          "name": "stderr",
          "text": [
            "Validating Fold 4, Epoch 3: 100%|██████████| 115/115 [00:03<00:00, 31.56batch/s]\n"
          ]
        },
        {
          "output_type": "stream",
          "name": "stdout",
          "text": [
            "Fold 4, Epoch 3, Val Loss: 0.3561, Val Accuracy: 0.8729\n",
            "No improvement for 1 epochs.\n"
          ]
        },
        {
          "output_type": "stream",
          "name": "stderr",
          "text": [
            "Training Fold 4, Epoch 4: 100%|██████████| 457/457 [00:27<00:00, 16.54batch/s]\n"
          ]
        },
        {
          "output_type": "stream",
          "name": "stdout",
          "text": [
            "Fold 4, Epoch 4, Train Loss: 0.3381, Train Accuracy: 0.8863\n"
          ]
        },
        {
          "output_type": "stream",
          "name": "stderr",
          "text": [
            "Validating Fold 4, Epoch 4: 100%|██████████| 115/115 [00:03<00:00, 35.07batch/s]\n"
          ]
        },
        {
          "output_type": "stream",
          "name": "stdout",
          "text": [
            "Fold 4, Epoch 4, Val Loss: 0.4038, Val Accuracy: 0.8543\n",
            "No improvement for 2 epochs.\n"
          ]
        },
        {
          "output_type": "stream",
          "name": "stderr",
          "text": [
            "Training Fold 4, Epoch 5: 100%|██████████| 457/457 [00:27<00:00, 16.55batch/s]\n"
          ]
        },
        {
          "output_type": "stream",
          "name": "stdout",
          "text": [
            "Fold 4, Epoch 5, Train Loss: 0.3150, Train Accuracy: 0.8922\n"
          ]
        },
        {
          "output_type": "stream",
          "name": "stderr",
          "text": [
            "Validating Fold 4, Epoch 5: 100%|██████████| 115/115 [00:04<00:00, 28.36batch/s]\n"
          ]
        },
        {
          "output_type": "stream",
          "name": "stdout",
          "text": [
            "Fold 4, Epoch 5, Val Loss: 0.3941, Val Accuracy: 0.8620\n",
            "No improvement for 3 epochs.\n"
          ]
        },
        {
          "output_type": "stream",
          "name": "stderr",
          "text": [
            "Training Fold 4, Epoch 6: 100%|██████████| 457/457 [00:27<00:00, 16.51batch/s]\n"
          ]
        },
        {
          "output_type": "stream",
          "name": "stdout",
          "text": [
            "Fold 4, Epoch 6, Train Loss: 0.2839, Train Accuracy: 0.9032\n"
          ]
        },
        {
          "output_type": "stream",
          "name": "stderr",
          "text": [
            "Validating Fold 4, Epoch 6: 100%|██████████| 115/115 [00:03<00:00, 34.82batch/s]\n"
          ]
        },
        {
          "output_type": "stream",
          "name": "stdout",
          "text": [
            "Fold 4, Epoch 6, Val Loss: 0.4459, Val Accuracy: 0.8431\n",
            "No improvement for 4 epochs.\n",
            "Early stopping triggered at epoch 6.\n",
            "Fold 5/5\n"
          ]
        },
        {
          "output_type": "stream",
          "name": "stderr",
          "text": [
            "Training Fold 5, Epoch 1: 100%|██████████| 457/457 [00:27<00:00, 16.48batch/s]\n"
          ]
        },
        {
          "output_type": "stream",
          "name": "stdout",
          "text": [
            "Fold 5, Epoch 1, Train Loss: 0.3446, Train Accuracy: 0.8822\n"
          ]
        },
        {
          "output_type": "stream",
          "name": "stderr",
          "text": [
            "Validating Fold 5, Epoch 1: 100%|██████████| 115/115 [00:03<00:00, 30.47batch/s]\n"
          ]
        },
        {
          "output_type": "stream",
          "name": "stdout",
          "text": [
            "Fold 5, Epoch 1, Val Loss: 0.2266, Val Accuracy: 0.9310\n",
            "Validation loss improved from inf to 0.2266. Saving model...\n"
          ]
        },
        {
          "output_type": "stream",
          "name": "stderr",
          "text": [
            "Training Fold 5, Epoch 2: 100%|██████████| 457/457 [00:27<00:00, 16.38batch/s]\n"
          ]
        },
        {
          "output_type": "stream",
          "name": "stdout",
          "text": [
            "Fold 5, Epoch 2, Train Loss: 0.2917, Train Accuracy: 0.9002\n"
          ]
        },
        {
          "output_type": "stream",
          "name": "stderr",
          "text": [
            "Validating Fold 5, Epoch 2: 100%|██████████| 115/115 [00:03<00:00, 34.15batch/s]\n"
          ]
        },
        {
          "output_type": "stream",
          "name": "stdout",
          "text": [
            "Fold 5, Epoch 2, Val Loss: 0.2244, Val Accuracy: 0.9176\n",
            "Validation loss improved from 0.2266 to 0.2244. Saving model...\n"
          ]
        },
        {
          "output_type": "stream",
          "name": "stderr",
          "text": [
            "Training Fold 5, Epoch 3: 100%|██████████| 457/457 [00:27<00:00, 16.50batch/s]\n"
          ]
        },
        {
          "output_type": "stream",
          "name": "stdout",
          "text": [
            "Fold 5, Epoch 3, Train Loss: 0.2737, Train Accuracy: 0.9055\n"
          ]
        },
        {
          "output_type": "stream",
          "name": "stderr",
          "text": [
            "Validating Fold 5, Epoch 3: 100%|██████████| 115/115 [00:03<00:00, 33.33batch/s]\n"
          ]
        },
        {
          "output_type": "stream",
          "name": "stdout",
          "text": [
            "Fold 5, Epoch 3, Val Loss: 0.2612, Val Accuracy: 0.9093\n",
            "No improvement for 1 epochs.\n"
          ]
        },
        {
          "output_type": "stream",
          "name": "stderr",
          "text": [
            "Training Fold 5, Epoch 4: 100%|██████████| 457/457 [00:27<00:00, 16.34batch/s]\n"
          ]
        },
        {
          "output_type": "stream",
          "name": "stdout",
          "text": [
            "Fold 5, Epoch 4, Train Loss: 0.2409, Train Accuracy: 0.9169\n"
          ]
        },
        {
          "output_type": "stream",
          "name": "stderr",
          "text": [
            "Validating Fold 5, Epoch 4: 100%|██████████| 115/115 [00:03<00:00, 34.44batch/s]\n"
          ]
        },
        {
          "output_type": "stream",
          "name": "stdout",
          "text": [
            "Fold 5, Epoch 4, Val Loss: 0.2811, Val Accuracy: 0.9014\n",
            "No improvement for 2 epochs.\n"
          ]
        },
        {
          "output_type": "stream",
          "name": "stderr",
          "text": [
            "Training Fold 5, Epoch 5: 100%|██████████| 457/457 [00:27<00:00, 16.41batch/s]\n"
          ]
        },
        {
          "output_type": "stream",
          "name": "stdout",
          "text": [
            "Fold 5, Epoch 5, Train Loss: 0.2323, Train Accuracy: 0.9219\n"
          ]
        },
        {
          "output_type": "stream",
          "name": "stderr",
          "text": [
            "Validating Fold 5, Epoch 5: 100%|██████████| 115/115 [00:03<00:00, 34.93batch/s]\n"
          ]
        },
        {
          "output_type": "stream",
          "name": "stdout",
          "text": [
            "Fold 5, Epoch 5, Val Loss: 0.3430, Val Accuracy: 0.8806\n",
            "No improvement for 3 epochs.\n"
          ]
        },
        {
          "output_type": "stream",
          "name": "stderr",
          "text": [
            "Training Fold 5, Epoch 6: 100%|██████████| 457/457 [00:27<00:00, 16.33batch/s]\n"
          ]
        },
        {
          "output_type": "stream",
          "name": "stdout",
          "text": [
            "Fold 5, Epoch 6, Train Loss: 0.2217, Train Accuracy: 0.9259\n"
          ]
        },
        {
          "output_type": "stream",
          "name": "stderr",
          "text": [
            "Validating Fold 5, Epoch 6: 100%|██████████| 115/115 [00:03<00:00, 29.23batch/s]"
          ]
        },
        {
          "output_type": "stream",
          "name": "stdout",
          "text": [
            "Fold 5, Epoch 6, Val Loss: 0.3840, Val Accuracy: 0.8762\n",
            "No improvement for 4 epochs.\n",
            "Early stopping triggered at epoch 6.\n",
            "Average Training Loss: 0.5672\n",
            "Average Validation Loss: 0.5995\n",
            "Average Training Accuracy: 0.7992\n",
            "Average Validation Accuracy: 0.7882\n"
          ]
        },
        {
          "output_type": "stream",
          "name": "stderr",
          "text": [
            "\n"
          ]
        }
      ]
    },
    {
      "cell_type": "markdown",
      "metadata": {
        "id": "t8L59rANy1aW"
      },
      "source": []
    },
    {
      "cell_type": "code",
      "execution_count": 8,
      "metadata": {
        "id": "Bu9J9QOS7_hJ",
        "colab": {
          "base_uri": "https://localhost:8080/",
          "height": 902
        },
        "outputId": "fddd5a12-7801-436c-e6a1-fcbc9d48853e"
      },
      "outputs": [
        {
          "output_type": "display_data",
          "data": {
            "text/plain": [
              "<Figure size 1000x700 with 2 Axes>"
            ],
            "image/png": "[encoded data removed]"
          },
          "metadata": {}
        },
        {
          "output_type": "stream",
          "name": "stdout",
          "text": [
            "\n",
            "Classification Report:\n",
            "              precision    recall  f1-score   support\n",
            "\n",
            "       White       0.75      0.84      0.79      2018\n",
            "       Black       0.68      0.76      0.72       927\n",
            "       Asian       0.74      0.77      0.75       670\n",
            "      Indian       0.68      0.53      0.60       802\n",
            "      Others       0.37      0.17      0.23       359\n",
            "\n",
            "    accuracy                           0.71      4776\n",
            "   macro avg       0.64      0.61      0.62      4776\n",
            "weighted avg       0.69      0.71      0.70      4776\n",
            "\n"
          ]
        }
      ],
      "source": [
        "\n",
        "all_labels = []  # Per memorizzare le etichette reali\n",
        "all_preds = []   # Per memorizzare le previsioni del modello\n",
        "\n",
        "with torch.no_grad():\n",
        "    for data in test_loader:\n",
        "        images, labels = data\n",
        "        images, labels = images.to(device), labels.to(device)\n",
        "\n",
        "        outputs = eyes_net(images)\n",
        "        _, predicted = torch.max(outputs.data, 1)\n",
        "        all_labels.extend(labels.cpu().numpy())\n",
        "        all_preds.extend(predicted.cpu().numpy())\n",
        "\n",
        "\n",
        "# Calcola le metriche\n",
        "conf_matrix = confusion_matrix(all_labels, all_preds)\n",
        "\n",
        "plt.figure(figsize=(10, 7))\n",
        "sns.heatmap(conf_matrix, annot=True, fmt='d', cmap='Blues', xticklabels=class_names, yticklabels=class_names)\n",
        "\n",
        "# Aggiungi titoli e etichette agli assi\n",
        "plt.title('Confusion Matrix', fontsize=16)\n",
        "plt.xlabel('Predicted Labels', fontsize=14)\n",
        "plt.ylabel('True Labels', fontsize=14)\n",
        "plt.xticks(fontsize=12)\n",
        "plt.yticks(fontsize=12)\n",
        "\n",
        "# Mostra la heatmap\n",
        "plt.show()\n",
        "\n",
        "print(\"\\nClassification Report:\")\n",
        "print(classification_report(all_labels, all_preds, target_names=class_names, zero_division=0))"
      ]
    },
    {
      "cell_type": "markdown",
      "metadata": {
        "id": "ReSQIrMH85RS"
      },
      "source": [
        "**NOSE TRAINING VALIDATION AND TEST**"
      ]
    },
    {
      "cell_type": "code",
      "execution_count": 9,
      "metadata": {
        "id": "cmZyd-UU8-0p",
        "colab": {
          "base_uri": "https://localhost:8080/"
        },
        "outputId": "c27400bf-ecec-4c64-98b1-9bac3c12ecf6"
      },
      "outputs": [
        {
          "output_type": "stream",
          "name": "stdout",
          "text": [
            "Fold 1/5\n"
          ]
        },
        {
          "output_type": "stream",
          "name": "stderr",
          "text": [
            "Training Fold 1, Epoch 1: 100%|██████████| 457/457 [00:39<00:00, 11.51batch/s]\n"
          ]
        },
        {
          "output_type": "stream",
          "name": "stdout",
          "text": [
            "Fold 1, Epoch 1, Train Loss: 1.5347, Train Accuracy: 0.4406\n"
          ]
        },
        {
          "output_type": "stream",
          "name": "stderr",
          "text": [
            "Validating Fold 1, Epoch 1: 100%|██████████| 115/115 [00:05<00:00, 22.73batch/s]\n"
          ]
        },
        {
          "output_type": "stream",
          "name": "stdout",
          "text": [
            "Fold 1, Epoch 1, Val Loss: 1.3768, Val Accuracy: 0.4703\n",
            "Validation loss improved from inf to 1.3768. Saving model...\n"
          ]
        },
        {
          "output_type": "stream",
          "name": "stderr",
          "text": [
            "Training Fold 1, Epoch 2: 100%|██████████| 457/457 [00:39<00:00, 11.62batch/s]\n"
          ]
        },
        {
          "output_type": "stream",
          "name": "stdout",
          "text": [
            "Fold 1, Epoch 2, Train Loss: 1.3683, Train Accuracy: 0.4725\n"
          ]
        },
        {
          "output_type": "stream",
          "name": "stderr",
          "text": [
            "Validating Fold 1, Epoch 2: 100%|██████████| 115/115 [00:04<00:00, 26.16batch/s]\n"
          ]
        },
        {
          "output_type": "stream",
          "name": "stdout",
          "text": [
            "Fold 1, Epoch 2, Val Loss: 1.3253, Val Accuracy: 0.5053\n",
            "Validation loss improved from 1.3768 to 1.3253. Saving model...\n"
          ]
        },
        {
          "output_type": "stream",
          "name": "stderr",
          "text": [
            "Training Fold 1, Epoch 3: 100%|██████████| 457/457 [00:39<00:00, 11.59batch/s]\n"
          ]
        },
        {
          "output_type": "stream",
          "name": "stdout",
          "text": [
            "Fold 1, Epoch 3, Train Loss: 1.3248, Train Accuracy: 0.4912\n"
          ]
        },
        {
          "output_type": "stream",
          "name": "stderr",
          "text": [
            "Validating Fold 1, Epoch 3: 100%|██████████| 115/115 [00:04<00:00, 24.25batch/s]\n"
          ]
        },
        {
          "output_type": "stream",
          "name": "stdout",
          "text": [
            "Fold 1, Epoch 3, Val Loss: 1.3009, Val Accuracy: 0.5242\n",
            "Validation loss improved from 1.3253 to 1.3009. Saving model...\n"
          ]
        },
        {
          "output_type": "stream",
          "name": "stderr",
          "text": [
            "Training Fold 1, Epoch 4: 100%|██████████| 457/457 [00:39<00:00, 11.60batch/s]\n"
          ]
        },
        {
          "output_type": "stream",
          "name": "stdout",
          "text": [
            "Fold 1, Epoch 4, Train Loss: 1.2925, Train Accuracy: 0.5014\n"
          ]
        },
        {
          "output_type": "stream",
          "name": "stderr",
          "text": [
            "Validating Fold 1, Epoch 4: 100%|██████████| 115/115 [00:04<00:00, 25.95batch/s]\n"
          ]
        },
        {
          "output_type": "stream",
          "name": "stdout",
          "text": [
            "Fold 1, Epoch 4, Val Loss: 1.2694, Val Accuracy: 0.5248\n",
            "Validation loss improved from 1.3009 to 1.2694. Saving model...\n"
          ]
        },
        {
          "output_type": "stream",
          "name": "stderr",
          "text": [
            "Training Fold 1, Epoch 5: 100%|██████████| 457/457 [00:39<00:00, 11.62batch/s]\n"
          ]
        },
        {
          "output_type": "stream",
          "name": "stdout",
          "text": [
            "Fold 1, Epoch 5, Train Loss: 1.2670, Train Accuracy: 0.5161\n"
          ]
        },
        {
          "output_type": "stream",
          "name": "stderr",
          "text": [
            "Validating Fold 1, Epoch 5: 100%|██████████| 115/115 [00:04<00:00, 27.18batch/s]\n"
          ]
        },
        {
          "output_type": "stream",
          "name": "stdout",
          "text": [
            "Fold 1, Epoch 5, Val Loss: 1.2402, Val Accuracy: 0.5346\n",
            "Validation loss improved from 1.2694 to 1.2402. Saving model...\n"
          ]
        },
        {
          "output_type": "stream",
          "name": "stderr",
          "text": [
            "Training Fold 1, Epoch 6: 100%|██████████| 457/457 [00:39<00:00, 11.69batch/s]\n"
          ]
        },
        {
          "output_type": "stream",
          "name": "stdout",
          "text": [
            "Fold 1, Epoch 6, Train Loss: 1.2382, Train Accuracy: 0.5253\n"
          ]
        },
        {
          "output_type": "stream",
          "name": "stderr",
          "text": [
            "Validating Fold 1, Epoch 6: 100%|██████████| 115/115 [00:04<00:00, 23.10batch/s]\n"
          ]
        },
        {
          "output_type": "stream",
          "name": "stdout",
          "text": [
            "Fold 1, Epoch 6, Val Loss: 1.2216, Val Accuracy: 0.5467\n",
            "Validation loss improved from 1.2402 to 1.2216. Saving model...\n"
          ]
        },
        {
          "output_type": "stream",
          "name": "stderr",
          "text": [
            "Training Fold 1, Epoch 7: 100%|██████████| 457/457 [00:39<00:00, 11.71batch/s]\n"
          ]
        },
        {
          "output_type": "stream",
          "name": "stdout",
          "text": [
            "Fold 1, Epoch 7, Train Loss: 1.2162, Train Accuracy: 0.5353\n"
          ]
        },
        {
          "output_type": "stream",
          "name": "stderr",
          "text": [
            "Validating Fold 1, Epoch 7: 100%|██████████| 115/115 [00:04<00:00, 26.42batch/s]\n"
          ]
        },
        {
          "output_type": "stream",
          "name": "stdout",
          "text": [
            "Fold 1, Epoch 7, Val Loss: 1.1986, Val Accuracy: 0.5514\n",
            "Validation loss improved from 1.2216 to 1.1986. Saving model...\n"
          ]
        },
        {
          "output_type": "stream",
          "name": "stderr",
          "text": [
            "Training Fold 1, Epoch 8: 100%|██████████| 457/457 [00:38<00:00, 11.75batch/s]\n"
          ]
        },
        {
          "output_type": "stream",
          "name": "stdout",
          "text": [
            "Fold 1, Epoch 8, Train Loss: 1.1743, Train Accuracy: 0.5584\n"
          ]
        },
        {
          "output_type": "stream",
          "name": "stderr",
          "text": [
            "Validating Fold 1, Epoch 8: 100%|██████████| 115/115 [00:04<00:00, 23.88batch/s]\n"
          ]
        },
        {
          "output_type": "stream",
          "name": "stdout",
          "text": [
            "Fold 1, Epoch 8, Val Loss: 1.1718, Val Accuracy: 0.5582\n",
            "Validation loss improved from 1.1986 to 1.1718. Saving model...\n"
          ]
        },
        {
          "output_type": "stream",
          "name": "stderr",
          "text": [
            "Training Fold 1, Epoch 9: 100%|██████████| 457/457 [00:39<00:00, 11.59batch/s]\n"
          ]
        },
        {
          "output_type": "stream",
          "name": "stdout",
          "text": [
            "Fold 1, Epoch 9, Train Loss: 1.1263, Train Accuracy: 0.5767\n"
          ]
        },
        {
          "output_type": "stream",
          "name": "stderr",
          "text": [
            "Validating Fold 1, Epoch 9: 100%|██████████| 115/115 [00:04<00:00, 26.51batch/s]\n"
          ]
        },
        {
          "output_type": "stream",
          "name": "stdout",
          "text": [
            "Fold 1, Epoch 9, Val Loss: 1.1082, Val Accuracy: 0.5897\n",
            "Validation loss improved from 1.1718 to 1.1082. Saving model...\n"
          ]
        },
        {
          "output_type": "stream",
          "name": "stderr",
          "text": [
            "Training Fold 1, Epoch 10: 100%|██████████| 457/457 [00:39<00:00, 11.59batch/s]\n"
          ]
        },
        {
          "output_type": "stream",
          "name": "stdout",
          "text": [
            "Fold 1, Epoch 10, Train Loss: 1.0905, Train Accuracy: 0.5935\n"
          ]
        },
        {
          "output_type": "stream",
          "name": "stderr",
          "text": [
            "Validating Fold 1, Epoch 10: 100%|██████████| 115/115 [00:04<00:00, 25.79batch/s]\n"
          ]
        },
        {
          "output_type": "stream",
          "name": "stdout",
          "text": [
            "Fold 1, Epoch 10, Val Loss: 1.0709, Val Accuracy: 0.5957\n",
            "Validation loss improved from 1.1082 to 1.0709. Saving model...\n",
            "Fold 2/5\n"
          ]
        },
        {
          "output_type": "stream",
          "name": "stderr",
          "text": [
            "Training Fold 2, Epoch 1: 100%|██████████| 457/457 [00:38<00:00, 11.75batch/s]\n"
          ]
        },
        {
          "output_type": "stream",
          "name": "stdout",
          "text": [
            "Fold 2, Epoch 1, Train Loss: 1.0784, Train Accuracy: 0.6027\n"
          ]
        },
        {
          "output_type": "stream",
          "name": "stderr",
          "text": [
            "Validating Fold 2, Epoch 1: 100%|██████████| 115/115 [00:04<00:00, 25.42batch/s]\n"
          ]
        },
        {
          "output_type": "stream",
          "name": "stdout",
          "text": [
            "Fold 2, Epoch 1, Val Loss: 1.0593, Val Accuracy: 0.6149\n",
            "Validation loss improved from inf to 1.0593. Saving model...\n"
          ]
        },
        {
          "output_type": "stream",
          "name": "stderr",
          "text": [
            "Training Fold 2, Epoch 2: 100%|██████████| 457/457 [00:38<00:00, 11.79batch/s]\n"
          ]
        },
        {
          "output_type": "stream",
          "name": "stdout",
          "text": [
            "Fold 2, Epoch 2, Train Loss: 1.0350, Train Accuracy: 0.6235\n"
          ]
        },
        {
          "output_type": "stream",
          "name": "stderr",
          "text": [
            "Validating Fold 2, Epoch 2: 100%|██████████| 115/115 [00:04<00:00, 27.65batch/s]\n"
          ]
        },
        {
          "output_type": "stream",
          "name": "stdout",
          "text": [
            "Fold 2, Epoch 2, Val Loss: 1.0215, Val Accuracy: 0.6324\n",
            "Validation loss improved from 1.0593 to 1.0215. Saving model...\n"
          ]
        },
        {
          "output_type": "stream",
          "name": "stderr",
          "text": [
            "Training Fold 2, Epoch 3: 100%|██████████| 457/457 [00:38<00:00, 11.80batch/s]\n"
          ]
        },
        {
          "output_type": "stream",
          "name": "stdout",
          "text": [
            "Fold 2, Epoch 3, Train Loss: 1.0146, Train Accuracy: 0.6285\n"
          ]
        },
        {
          "output_type": "stream",
          "name": "stderr",
          "text": [
            "Validating Fold 2, Epoch 3: 100%|██████████| 115/115 [00:04<00:00, 23.79batch/s]\n"
          ]
        },
        {
          "output_type": "stream",
          "name": "stdout",
          "text": [
            "Fold 2, Epoch 3, Val Loss: 1.0476, Val Accuracy: 0.6168\n",
            "No improvement for 1 epochs.\n"
          ]
        },
        {
          "output_type": "stream",
          "name": "stderr",
          "text": [
            "Training Fold 2, Epoch 4: 100%|██████████| 457/457 [00:38<00:00, 11.78batch/s]\n"
          ]
        },
        {
          "output_type": "stream",
          "name": "stdout",
          "text": [
            "Fold 2, Epoch 4, Train Loss: 0.9762, Train Accuracy: 0.6469\n"
          ]
        },
        {
          "output_type": "stream",
          "name": "stderr",
          "text": [
            "Validating Fold 2, Epoch 4: 100%|██████████| 115/115 [00:04<00:00, 27.01batch/s]\n"
          ]
        },
        {
          "output_type": "stream",
          "name": "stdout",
          "text": [
            "Fold 2, Epoch 4, Val Loss: 0.9878, Val Accuracy: 0.6341\n",
            "Validation loss improved from 1.0215 to 0.9878. Saving model...\n"
          ]
        },
        {
          "output_type": "stream",
          "name": "stderr",
          "text": [
            "Training Fold 2, Epoch 5: 100%|██████████| 457/457 [00:38<00:00, 11.82batch/s]\n"
          ]
        },
        {
          "output_type": "stream",
          "name": "stdout",
          "text": [
            "Fold 2, Epoch 5, Train Loss: 0.9622, Train Accuracy: 0.6512\n"
          ]
        },
        {
          "output_type": "stream",
          "name": "stderr",
          "text": [
            "Validating Fold 2, Epoch 5: 100%|██████████| 115/115 [00:04<00:00, 27.45batch/s]\n"
          ]
        },
        {
          "output_type": "stream",
          "name": "stdout",
          "text": [
            "Fold 2, Epoch 5, Val Loss: 0.9882, Val Accuracy: 0.6437\n",
            "No improvement for 1 epochs.\n"
          ]
        },
        {
          "output_type": "stream",
          "name": "stderr",
          "text": [
            "Training Fold 2, Epoch 6: 100%|██████████| 457/457 [00:39<00:00, 11.71batch/s]\n"
          ]
        },
        {
          "output_type": "stream",
          "name": "stdout",
          "text": [
            "Fold 2, Epoch 6, Train Loss: 0.9376, Train Accuracy: 0.6608\n"
          ]
        },
        {
          "output_type": "stream",
          "name": "stderr",
          "text": [
            "Validating Fold 2, Epoch 6: 100%|██████████| 115/115 [00:05<00:00, 22.90batch/s]\n"
          ]
        },
        {
          "output_type": "stream",
          "name": "stdout",
          "text": [
            "Fold 2, Epoch 6, Val Loss: 1.0135, Val Accuracy: 0.6335\n",
            "No improvement for 2 epochs.\n"
          ]
        },
        {
          "output_type": "stream",
          "name": "stderr",
          "text": [
            "Training Fold 2, Epoch 7: 100%|██████████| 457/457 [00:39<00:00, 11.69batch/s]\n"
          ]
        },
        {
          "output_type": "stream",
          "name": "stdout",
          "text": [
            "Fold 2, Epoch 7, Train Loss: 0.9105, Train Accuracy: 0.6728\n"
          ]
        },
        {
          "output_type": "stream",
          "name": "stderr",
          "text": [
            "Validating Fold 2, Epoch 7: 100%|██████████| 115/115 [00:04<00:00, 26.79batch/s]\n"
          ]
        },
        {
          "output_type": "stream",
          "name": "stdout",
          "text": [
            "Fold 2, Epoch 7, Val Loss: 0.9870, Val Accuracy: 0.6396\n",
            "Validation loss improved from 0.9878 to 0.9870. Saving model...\n"
          ]
        },
        {
          "output_type": "stream",
          "name": "stderr",
          "text": [
            "Training Fold 2, Epoch 8: 100%|██████████| 457/457 [00:38<00:00, 11.75batch/s]\n"
          ]
        },
        {
          "output_type": "stream",
          "name": "stdout",
          "text": [
            "Fold 2, Epoch 8, Train Loss: 0.8840, Train Accuracy: 0.6805\n"
          ]
        },
        {
          "output_type": "stream",
          "name": "stderr",
          "text": [
            "Validating Fold 2, Epoch 8: 100%|██████████| 115/115 [00:04<00:00, 25.28batch/s]\n"
          ]
        },
        {
          "output_type": "stream",
          "name": "stdout",
          "text": [
            "Fold 2, Epoch 8, Val Loss: 0.9708, Val Accuracy: 0.6426\n",
            "Validation loss improved from 0.9870 to 0.9708. Saving model...\n"
          ]
        },
        {
          "output_type": "stream",
          "name": "stderr",
          "text": [
            "Training Fold 2, Epoch 9: 100%|██████████| 457/457 [00:38<00:00, 11.76batch/s]\n"
          ]
        },
        {
          "output_type": "stream",
          "name": "stdout",
          "text": [
            "Fold 2, Epoch 9, Train Loss: 0.8720, Train Accuracy: 0.6854\n"
          ]
        },
        {
          "output_type": "stream",
          "name": "stderr",
          "text": [
            "Validating Fold 2, Epoch 9: 100%|██████████| 115/115 [00:04<00:00, 25.12batch/s]\n"
          ]
        },
        {
          "output_type": "stream",
          "name": "stdout",
          "text": [
            "Fold 2, Epoch 9, Val Loss: 0.9493, Val Accuracy: 0.6574\n",
            "Validation loss improved from 0.9708 to 0.9493. Saving model...\n"
          ]
        },
        {
          "output_type": "stream",
          "name": "stderr",
          "text": [
            "Training Fold 2, Epoch 10: 100%|██████████| 457/457 [00:39<00:00, 11.70batch/s]\n"
          ]
        },
        {
          "output_type": "stream",
          "name": "stdout",
          "text": [
            "Fold 2, Epoch 10, Train Loss: 0.8371, Train Accuracy: 0.6981\n"
          ]
        },
        {
          "output_type": "stream",
          "name": "stderr",
          "text": [
            "Validating Fold 2, Epoch 10: 100%|██████████| 115/115 [00:04<00:00, 27.05batch/s]\n"
          ]
        },
        {
          "output_type": "stream",
          "name": "stdout",
          "text": [
            "Fold 2, Epoch 10, Val Loss: 0.9225, Val Accuracy: 0.6667\n",
            "Validation loss improved from 0.9493 to 0.9225. Saving model...\n",
            "Fold 3/5\n"
          ]
        },
        {
          "output_type": "stream",
          "name": "stderr",
          "text": [
            "Training Fold 3, Epoch 1: 100%|██████████| 457/457 [00:38<00:00, 11.80batch/s]\n"
          ]
        },
        {
          "output_type": "stream",
          "name": "stdout",
          "text": [
            "Fold 3, Epoch 1, Train Loss: 0.8663, Train Accuracy: 0.6900\n"
          ]
        },
        {
          "output_type": "stream",
          "name": "stderr",
          "text": [
            "Validating Fold 3, Epoch 1: 100%|██████████| 115/115 [00:04<00:00, 23.31batch/s]\n"
          ]
        },
        {
          "output_type": "stream",
          "name": "stdout",
          "text": [
            "Fold 3, Epoch 1, Val Loss: 0.7739, Val Accuracy: 0.7286\n",
            "Validation loss improved from inf to 0.7739. Saving model...\n"
          ]
        },
        {
          "output_type": "stream",
          "name": "stderr",
          "text": [
            "Training Fold 3, Epoch 2: 100%|██████████| 457/457 [00:38<00:00, 11.79batch/s]\n"
          ]
        },
        {
          "output_type": "stream",
          "name": "stdout",
          "text": [
            "Fold 3, Epoch 2, Train Loss: 0.8355, Train Accuracy: 0.7025\n"
          ]
        },
        {
          "output_type": "stream",
          "name": "stderr",
          "text": [
            "Validating Fold 3, Epoch 2: 100%|██████████| 115/115 [00:04<00:00, 27.15batch/s]\n"
          ]
        },
        {
          "output_type": "stream",
          "name": "stdout",
          "text": [
            "Fold 3, Epoch 2, Val Loss: 0.7966, Val Accuracy: 0.7184\n",
            "No improvement for 1 epochs.\n"
          ]
        },
        {
          "output_type": "stream",
          "name": "stderr",
          "text": [
            "Training Fold 3, Epoch 3: 100%|██████████| 457/457 [00:38<00:00, 11.80batch/s]\n"
          ]
        },
        {
          "output_type": "stream",
          "name": "stdout",
          "text": [
            "Fold 3, Epoch 3, Train Loss: 0.7955, Train Accuracy: 0.7149\n"
          ]
        },
        {
          "output_type": "stream",
          "name": "stderr",
          "text": [
            "Validating Fold 3, Epoch 3: 100%|██████████| 115/115 [00:04<00:00, 27.32batch/s]\n"
          ]
        },
        {
          "output_type": "stream",
          "name": "stdout",
          "text": [
            "Fold 3, Epoch 3, Val Loss: 0.8233, Val Accuracy: 0.7034\n",
            "No improvement for 2 epochs.\n"
          ]
        },
        {
          "output_type": "stream",
          "name": "stderr",
          "text": [
            "Training Fold 3, Epoch 4: 100%|██████████| 457/457 [00:38<00:00, 11.80batch/s]\n"
          ]
        },
        {
          "output_type": "stream",
          "name": "stdout",
          "text": [
            "Fold 3, Epoch 4, Train Loss: 0.7725, Train Accuracy: 0.7247\n"
          ]
        },
        {
          "output_type": "stream",
          "name": "stderr",
          "text": [
            "Validating Fold 3, Epoch 4: 100%|██████████| 115/115 [00:04<00:00, 24.03batch/s]\n"
          ]
        },
        {
          "output_type": "stream",
          "name": "stdout",
          "text": [
            "Fold 3, Epoch 4, Val Loss: 0.8349, Val Accuracy: 0.6995\n",
            "No improvement for 3 epochs.\n"
          ]
        },
        {
          "output_type": "stream",
          "name": "stderr",
          "text": [
            "Training Fold 3, Epoch 5: 100%|██████████| 457/457 [00:38<00:00, 11.87batch/s]\n"
          ]
        },
        {
          "output_type": "stream",
          "name": "stdout",
          "text": [
            "Fold 3, Epoch 5, Train Loss: 0.7420, Train Accuracy: 0.7308\n"
          ]
        },
        {
          "output_type": "stream",
          "name": "stderr",
          "text": [
            "Validating Fold 3, Epoch 5: 100%|██████████| 115/115 [00:04<00:00, 26.80batch/s]\n"
          ]
        },
        {
          "output_type": "stream",
          "name": "stdout",
          "text": [
            "Fold 3, Epoch 5, Val Loss: 0.8194, Val Accuracy: 0.7091\n",
            "No improvement for 4 epochs.\n",
            "Early stopping triggered at epoch 5.\n",
            "Fold 4/5\n"
          ]
        },
        {
          "output_type": "stream",
          "name": "stderr",
          "text": [
            "Training Fold 4, Epoch 1: 100%|██████████| 457/457 [00:38<00:00, 11.82batch/s]\n"
          ]
        },
        {
          "output_type": "stream",
          "name": "stdout",
          "text": [
            "Fold 4, Epoch 1, Train Loss: 0.7762, Train Accuracy: 0.7239\n"
          ]
        },
        {
          "output_type": "stream",
          "name": "stderr",
          "text": [
            "Validating Fold 4, Epoch 1: 100%|██████████| 115/115 [00:04<00:00, 25.55batch/s]\n"
          ]
        },
        {
          "output_type": "stream",
          "name": "stdout",
          "text": [
            "Fold 4, Epoch 1, Val Loss: 0.6747, Val Accuracy: 0.7636\n",
            "Validation loss improved from inf to 0.6747. Saving model...\n"
          ]
        },
        {
          "output_type": "stream",
          "name": "stderr",
          "text": [
            "Training Fold 4, Epoch 2: 100%|██████████| 457/457 [00:38<00:00, 11.83batch/s]\n"
          ]
        },
        {
          "output_type": "stream",
          "name": "stdout",
          "text": [
            "Fold 4, Epoch 2, Train Loss: 0.7415, Train Accuracy: 0.7383\n"
          ]
        },
        {
          "output_type": "stream",
          "name": "stderr",
          "text": [
            "Validating Fold 4, Epoch 2: 100%|██████████| 115/115 [00:04<00:00, 26.49batch/s]\n"
          ]
        },
        {
          "output_type": "stream",
          "name": "stdout",
          "text": [
            "Fold 4, Epoch 2, Val Loss: 0.6693, Val Accuracy: 0.7642\n",
            "Validation loss improved from 0.6747 to 0.6693. Saving model...\n"
          ]
        },
        {
          "output_type": "stream",
          "name": "stderr",
          "text": [
            "Training Fold 4, Epoch 3: 100%|██████████| 457/457 [00:38<00:00, 11.83batch/s]\n"
          ]
        },
        {
          "output_type": "stream",
          "name": "stdout",
          "text": [
            "Fold 4, Epoch 3, Train Loss: 0.7002, Train Accuracy: 0.7501\n"
          ]
        },
        {
          "output_type": "stream",
          "name": "stderr",
          "text": [
            "Validating Fold 4, Epoch 3: 100%|██████████| 115/115 [00:04<00:00, 27.11batch/s]\n"
          ]
        },
        {
          "output_type": "stream",
          "name": "stdout",
          "text": [
            "Fold 4, Epoch 3, Val Loss: 0.7103, Val Accuracy: 0.7458\n",
            "No improvement for 1 epochs.\n"
          ]
        },
        {
          "output_type": "stream",
          "name": "stderr",
          "text": [
            "Training Fold 4, Epoch 4: 100%|██████████| 457/457 [00:38<00:00, 11.80batch/s]\n"
          ]
        },
        {
          "output_type": "stream",
          "name": "stdout",
          "text": [
            "Fold 4, Epoch 4, Train Loss: 0.6681, Train Accuracy: 0.7608\n"
          ]
        },
        {
          "output_type": "stream",
          "name": "stderr",
          "text": [
            "Validating Fold 4, Epoch 4: 100%|██████████| 115/115 [00:05<00:00, 22.86batch/s]\n"
          ]
        },
        {
          "output_type": "stream",
          "name": "stdout",
          "text": [
            "Fold 4, Epoch 4, Val Loss: 0.7187, Val Accuracy: 0.7387\n",
            "No improvement for 2 epochs.\n"
          ]
        },
        {
          "output_type": "stream",
          "name": "stderr",
          "text": [
            "Training Fold 4, Epoch 5: 100%|██████████| 457/457 [00:38<00:00, 11.83batch/s]\n"
          ]
        },
        {
          "output_type": "stream",
          "name": "stdout",
          "text": [
            "Fold 4, Epoch 5, Train Loss: 0.6432, Train Accuracy: 0.7711\n"
          ]
        },
        {
          "output_type": "stream",
          "name": "stderr",
          "text": [
            "Validating Fold 4, Epoch 5: 100%|██████████| 115/115 [00:04<00:00, 28.08batch/s]\n"
          ]
        },
        {
          "output_type": "stream",
          "name": "stdout",
          "text": [
            "Fold 4, Epoch 5, Val Loss: 0.7490, Val Accuracy: 0.7401\n",
            "No improvement for 3 epochs.\n"
          ]
        },
        {
          "output_type": "stream",
          "name": "stderr",
          "text": [
            "Training Fold 4, Epoch 6: 100%|██████████| 457/457 [00:38<00:00, 11.81batch/s]\n"
          ]
        },
        {
          "output_type": "stream",
          "name": "stdout",
          "text": [
            "Fold 4, Epoch 6, Train Loss: 0.6118, Train Accuracy: 0.7792\n"
          ]
        },
        {
          "output_type": "stream",
          "name": "stderr",
          "text": [
            "Validating Fold 4, Epoch 6: 100%|██████████| 115/115 [00:04<00:00, 26.97batch/s]\n"
          ]
        },
        {
          "output_type": "stream",
          "name": "stdout",
          "text": [
            "Fold 4, Epoch 6, Val Loss: 0.7356, Val Accuracy: 0.7357\n",
            "No improvement for 4 epochs.\n",
            "Early stopping triggered at epoch 6.\n",
            "Fold 5/5\n"
          ]
        },
        {
          "output_type": "stream",
          "name": "stderr",
          "text": [
            "Training Fold 5, Epoch 1: 100%|██████████| 457/457 [00:38<00:00, 11.76batch/s]\n"
          ]
        },
        {
          "output_type": "stream",
          "name": "stdout",
          "text": [
            "Fold 5, Epoch 1, Train Loss: 0.6784, Train Accuracy: 0.7586\n"
          ]
        },
        {
          "output_type": "stream",
          "name": "stderr",
          "text": [
            "Validating Fold 5, Epoch 1: 100%|██████████| 115/115 [00:04<00:00, 24.18batch/s]\n"
          ]
        },
        {
          "output_type": "stream",
          "name": "stdout",
          "text": [
            "Fold 5, Epoch 1, Val Loss: 0.5464, Val Accuracy: 0.8009\n",
            "Validation loss improved from inf to 0.5464. Saving model...\n"
          ]
        },
        {
          "output_type": "stream",
          "name": "stderr",
          "text": [
            "Training Fold 5, Epoch 2: 100%|██████████| 457/457 [00:38<00:00, 11.77batch/s]\n"
          ]
        },
        {
          "output_type": "stream",
          "name": "stdout",
          "text": [
            "Fold 5, Epoch 2, Train Loss: 0.6250, Train Accuracy: 0.7763\n"
          ]
        },
        {
          "output_type": "stream",
          "name": "stderr",
          "text": [
            "Validating Fold 5, Epoch 2: 100%|██████████| 115/115 [00:04<00:00, 27.16batch/s]\n"
          ]
        },
        {
          "output_type": "stream",
          "name": "stdout",
          "text": [
            "Fold 5, Epoch 2, Val Loss: 0.5559, Val Accuracy: 0.8017\n",
            "No improvement for 1 epochs.\n"
          ]
        },
        {
          "output_type": "stream",
          "name": "stderr",
          "text": [
            "Training Fold 5, Epoch 3: 100%|██████████| 457/457 [00:38<00:00, 11.83batch/s]\n"
          ]
        },
        {
          "output_type": "stream",
          "name": "stdout",
          "text": [
            "Fold 5, Epoch 3, Train Loss: 0.5980, Train Accuracy: 0.7864\n"
          ]
        },
        {
          "output_type": "stream",
          "name": "stderr",
          "text": [
            "Validating Fold 5, Epoch 3: 100%|██████████| 115/115 [00:04<00:00, 23.33batch/s]\n"
          ]
        },
        {
          "output_type": "stream",
          "name": "stdout",
          "text": [
            "Fold 5, Epoch 3, Val Loss: 0.5819, Val Accuracy: 0.7943\n",
            "No improvement for 2 epochs.\n"
          ]
        },
        {
          "output_type": "stream",
          "name": "stderr",
          "text": [
            "Training Fold 5, Epoch 4: 100%|██████████| 457/457 [00:38<00:00, 11.82batch/s]\n"
          ]
        },
        {
          "output_type": "stream",
          "name": "stdout",
          "text": [
            "Fold 5, Epoch 4, Train Loss: 0.5619, Train Accuracy: 0.7983\n"
          ]
        },
        {
          "output_type": "stream",
          "name": "stderr",
          "text": [
            "Validating Fold 5, Epoch 4: 100%|██████████| 115/115 [00:04<00:00, 27.40batch/s]\n"
          ]
        },
        {
          "output_type": "stream",
          "name": "stdout",
          "text": [
            "Fold 5, Epoch 4, Val Loss: 0.6062, Val Accuracy: 0.7855\n",
            "No improvement for 3 epochs.\n"
          ]
        },
        {
          "output_type": "stream",
          "name": "stderr",
          "text": [
            "Training Fold 5, Epoch 5: 100%|██████████| 457/457 [00:38<00:00, 11.79batch/s]\n"
          ]
        },
        {
          "output_type": "stream",
          "name": "stdout",
          "text": [
            "Fold 5, Epoch 5, Train Loss: 0.5387, Train Accuracy: 0.8091\n"
          ]
        },
        {
          "output_type": "stream",
          "name": "stderr",
          "text": [
            "Validating Fold 5, Epoch 5: 100%|██████████| 115/115 [00:04<00:00, 27.22batch/s]"
          ]
        },
        {
          "output_type": "stream",
          "name": "stdout",
          "text": [
            "Fold 5, Epoch 5, Val Loss: 0.6005, Val Accuracy: 0.7943\n",
            "No improvement for 4 epochs.\n",
            "Early stopping triggered at epoch 5.\n",
            "Average Training Loss: 0.8614\n",
            "Average Validation Loss: 0.8641\n",
            "Average Training Accuracy: 0.6857\n",
            "Average Validation Accuracy: 0.6867\n"
          ]
        },
        {
          "output_type": "stream",
          "name": "stderr",
          "text": [
            "\n"
          ]
        }
      ],
      "source": [
        "# Inizializzare il dataset\n",
        "full_train_dataset = EthnicityDataset(root_dir=\"Dataset/nose/train\", transform=transform_nose)\n",
        "test_dataset = EthnicityDataset(root_dir=\"Dataset/nose/test\", transform=transform_nose)\n",
        "test_loader = DataLoader(test_dataset, batch_size=32, shuffle=True)\n",
        "\n",
        "# Parametri di Early Stopping\n",
        "patience = 4  # Numero massimo di epoche senza miglioramenti\n",
        "\n",
        "\n",
        "# K-fold Cross-Validation\n",
        "k = 5  # Numero di fold per la K-Fold Cross Validation\n",
        "kf = KFold(n_splits=k, shuffle=True, random_state=42)\n",
        "\n",
        "# Array per salvare i risultati di ogni fold\n",
        "fold_train_losses = []\n",
        "fold_val_losses = []\n",
        "fold_train_accuracies = []\n",
        "fold_val_accuracies = []\n",
        "\n",
        "num_epochs = 10\n",
        "batch_size = 32\n",
        "\n",
        "for fold, (train_idx, val_idx) in enumerate(kf.split(np.arange(len(full_train_dataset)))):\n",
        "    print(f\"Fold {fold + 1}/{k}\")\n",
        "\n",
        "    # Creare i subset per training e validation\n",
        "    train_subset = Subset(full_train_dataset, train_idx)\n",
        "    val_subset = Subset(full_train_dataset, val_idx)\n",
        "\n",
        "    # Creare i dataloader per il fold corrente\n",
        "    train_loader = DataLoader(train_subset, batch_size=batch_size, shuffle=True)\n",
        "    val_loader = DataLoader(val_subset, batch_size=batch_size, shuffle=False)\n",
        "\n",
        "    # Reinizializzare il modello e l'ottimizzatore per ogni fold\n",
        "    nose_net = nose_net.to(device)  # Assicurarsi che il modello sia su GPU/CPU corretta\n",
        "    nose_optimizer = torch.optim.Adam(nose_net.parameters(), lr=0.001, weight_decay=0.0001)\n",
        "\n",
        "    # Criterion\n",
        "    criterion = nn.CrossEntropyLoss()\n",
        "\n",
        "    best_model_state = None  # Per salvare lo stato del modello\n",
        "    best_val_loss = float(\"inf\")  # Migliore loss iniziale\n",
        "    no_improvement = 0  # Contatore per epoche senza miglioramenti\n",
        "\n",
        "    # Metriche per ogni fold\n",
        "    train_losses = []\n",
        "    val_losses = []\n",
        "    train_accuracies = []\n",
        "    val_accuracies = []\n",
        "\n",
        "    # Training per ogni fold\n",
        "    for epoch in range(num_epochs):\n",
        "        # Training Phase\n",
        "        nose_net.train()\n",
        "        running_loss = 0.0\n",
        "        correct = 0\n",
        "        total = 0\n",
        "\n",
        "        for data in tqdm(train_loader, desc=f\"Training Fold {fold + 1}, Epoch {epoch + 1}\", unit=\"batch\"):\n",
        "            inputs, labels = data\n",
        "            inputs, labels = inputs.to(device), labels.to(device)\n",
        "\n",
        "            # Zero the gradients\n",
        "            nose_optimizer.zero_grad()\n",
        "\n",
        "            # Forward pass\n",
        "            outputs = nose_net(inputs)\n",
        "            loss = criterion(outputs, labels)\n",
        "            loss.backward()\n",
        "            nose_optimizer.step()\n",
        "\n",
        "            running_loss += loss.item()\n",
        "\n",
        "            # Accuracy\n",
        "            _, predicted = torch.max(outputs, 1)\n",
        "            total += labels.size(0)\n",
        "            correct += (predicted == labels).sum().item()\n",
        "\n",
        "        avg_train_loss = running_loss / len(train_loader)\n",
        "        train_accuracy = correct / total\n",
        "        train_losses.append(avg_train_loss)\n",
        "        train_accuracies.append(train_accuracy)\n",
        "\n",
        "        print(f\"Fold {fold + 1}, Epoch {epoch + 1}, Train Loss: {avg_train_loss:.4f}, Train Accuracy: {train_accuracy:.4f}\")\n",
        "\n",
        "        # Validation Phase\n",
        "        nose_net.eval()\n",
        "        val_running_loss = 0.0\n",
        "        correct = 0\n",
        "        total = 0\n",
        "\n",
        "        with torch.no_grad():\n",
        "            for data in tqdm(val_loader, desc=f\"Validating Fold {fold + 1}, Epoch {epoch + 1}\", unit=\"batch\"):\n",
        "                inputs, labels = data\n",
        "                inputs, labels = inputs.to(device), labels.to(device)\n",
        "\n",
        "                outputs = nose_net(inputs)\n",
        "                loss = criterion(outputs, labels)\n",
        "\n",
        "                val_running_loss += loss.item()\n",
        "\n",
        "                # Accuracy\n",
        "                _, predicted = torch.max(outputs, 1)\n",
        "                total += labels.size(0)\n",
        "                correct += (predicted == labels).sum().item()\n",
        "\n",
        "        avg_val_loss = val_running_loss / len(val_loader)\n",
        "        val_accuracy = correct / total\n",
        "        val_losses.append(avg_val_loss)\n",
        "        val_accuracies.append(val_accuracy)\n",
        "\n",
        "        print(f\"Fold {fold + 1}, Epoch {epoch + 1}, Val Loss: {avg_val_loss:.4f}, Val Accuracy: {val_accuracy:.4f}\")\n",
        "\n",
        "        # Early Stopping: verifica miglioramento della loss di validazione\n",
        "        if avg_val_loss < best_val_loss:\n",
        "            print(f\"Validation loss improved from {best_val_loss:.4f} to {avg_val_loss:.4f}. Saving model...\")\n",
        "            best_val_loss = avg_val_loss\n",
        "            best_model_state = nose_net.state_dict()  # Salva il miglior modello\n",
        "            no_improvement = 0  # Resetta il contatore\n",
        "        else:\n",
        "            no_improvement += 1\n",
        "            print(f\"No improvement for {no_improvement} epochs.\")\n",
        "\n",
        "        # Controlla se interrompere l'allenamento per Early Stopping\n",
        "        if no_improvement >= patience:\n",
        "            print(f\"Early stopping triggered at epoch {epoch + 1}.\")\n",
        "            break\n",
        "\n",
        "    # Carica il miglior modello salvato per questo fold\n",
        "    nose_net.load_state_dict(best_model_state)\n",
        "\n",
        "    # Salvare i risultati del fold corrente\n",
        "    fold_train_losses.append(train_losses)\n",
        "    fold_val_losses.append(val_losses)\n",
        "    fold_train_accuracies.append(train_accuracies)\n",
        "    fold_val_accuracies.append(val_accuracies)\n",
        "\n",
        "# Calcolare le metriche medie su tutti i fold\n",
        "mean_train_loss = np.mean([np.mean(fold) for fold in fold_train_losses])\n",
        "mean_val_loss = np.mean([np.mean(fold) for fold in fold_val_losses])\n",
        "mean_train_accuracy = np.mean([np.mean(fold) for fold in fold_train_accuracies])\n",
        "mean_val_accuracy = np.mean([np.mean(fold) for fold in fold_val_accuracies])\n",
        "\n",
        "print(f\"Average Training Loss: {mean_train_loss:.4f}\")\n",
        "print(f\"Average Validation Loss: {mean_val_loss:.4f}\")\n",
        "print(f\"Average Training Accuracy: {mean_train_accuracy:.4f}\")\n",
        "print(f\"Average Validation Accuracy: {mean_val_accuracy:.4f}\")"
      ]
    },
    {
      "cell_type": "code",
      "execution_count": 10,
      "metadata": {
        "id": "X-d2jiCq9gIz",
        "colab": {
          "base_uri": "https://localhost:8080/",
          "height": 902
        },
        "outputId": "6d59ff02-b737-4f99-aa24-43cb80fac766"
      },
      "outputs": [
        {
          "output_type": "display_data",
          "data": {
            "text/plain": [
              "<Figure size 1000x700 with 2 Axes>"
            ],
            "image/png": "[encoded data removed]"
          },
          "metadata": {}
        },
        {
          "output_type": "stream",
          "name": "stdout",
          "text": [
            "\n",
            "Classification Report:\n",
            "              precision    recall  f1-score   support\n",
            "\n",
            "       White       0.76      0.80      0.78      2018\n",
            "       Black       0.64      0.79      0.71       927\n",
            "       Asian       0.72      0.64      0.67       670\n",
            "      Indian       0.59      0.56      0.58       802\n",
            "      Others       0.34      0.13      0.19       359\n",
            "\n",
            "    accuracy                           0.68      4776\n",
            "   macro avg       0.61      0.58      0.58      4776\n",
            "weighted avg       0.67      0.68      0.67      4776\n",
            "\n"
          ]
        }
      ],
      "source": [
        "all_labels = []\n",
        "all_preds = []\n",
        "\n",
        "with torch.no_grad():  # Disabilita il calcolo dei gradienti\n",
        "    for data in test_loader:\n",
        "        images, labels = data\n",
        "        images, labels = images.to(device), labels.to(device)\n",
        "\n",
        "\n",
        "        # Forward pass\n",
        "        outputs = nose_net(images)\n",
        "\n",
        "        # Calcola le predizioni\n",
        "        _, predicted = torch.max(outputs.data, 1)\n",
        "\n",
        "        # Salva le etichette e le predizioni\n",
        "        all_labels.extend(labels.cpu().numpy())        # Porta le etichette sulla CPU prima di salvarle\n",
        "        all_preds.extend(predicted.cpu().numpy())\n",
        "\n",
        "\n",
        "# Calcola le metriche\n",
        "conf_matrix = confusion_matrix(all_labels, all_preds)\n",
        "\n",
        "plt.figure(figsize=(10, 7))\n",
        "sns.heatmap(conf_matrix, annot=True, fmt='d', cmap='Blues', xticklabels=class_names, yticklabels=class_names)\n",
        "\n",
        "# Aggiungi titoli e etichette agli assi\n",
        "plt.title('Confusion Matrix', fontsize=16)\n",
        "plt.xlabel('Predicted Labels', fontsize=14)\n",
        "plt.ylabel('True Labels', fontsize=14)\n",
        "plt.xticks(fontsize=12)\n",
        "plt.yticks(fontsize=12)\n",
        "\n",
        "# Mostra la heatmap\n",
        "plt.show()\n",
        "\n",
        "print(\"\\nClassification Report:\")\n",
        "print(classification_report(all_labels, all_preds, target_names=class_names, zero_division=0))"
      ]
    },
    {
      "cell_type": "markdown",
      "metadata": {
        "id": "4USmhOOI9m8D"
      },
      "source": [
        "**MOUTH TRAINING VALIDATION AND TEST**"
      ]
    },
    {
      "cell_type": "code",
      "execution_count": 11,
      "metadata": {
        "id": "-55Okk969ug2",
        "colab": {
          "base_uri": "https://localhost:8080/"
        },
        "outputId": "f521e2a6-37f1-4e7d-a1d8-8044cbe36bfb"
      },
      "outputs": [
        {
          "output_type": "stream",
          "name": "stdout",
          "text": [
            "Fold 1/5\n"
          ]
        },
        {
          "output_type": "stream",
          "name": "stderr",
          "text": [
            "Training Fold 1, Epoch 1: 100%|██████████| 457/457 [00:37<00:00, 12.03batch/s]\n"
          ]
        },
        {
          "output_type": "stream",
          "name": "stdout",
          "text": [
            "Fold 1, Epoch 1, Train Loss: 1.4296, Train Accuracy: 0.4891\n"
          ]
        },
        {
          "output_type": "stream",
          "name": "stderr",
          "text": [
            "Validating Fold 1, Epoch 1: 100%|██████████| 115/115 [00:04<00:00, 27.56batch/s]\n"
          ]
        },
        {
          "output_type": "stream",
          "name": "stdout",
          "text": [
            "Fold 1, Epoch 1, Val Loss: 1.2688, Val Accuracy: 0.5262\n",
            "Validation loss improved from inf to 1.2688. Saving model...\n"
          ]
        },
        {
          "output_type": "stream",
          "name": "stderr",
          "text": [
            "Training Fold 1, Epoch 2: 100%|██████████| 457/457 [00:37<00:00, 12.09batch/s]\n"
          ]
        },
        {
          "output_type": "stream",
          "name": "stdout",
          "text": [
            "Fold 1, Epoch 2, Train Loss: 1.2687, Train Accuracy: 0.5249\n"
          ]
        },
        {
          "output_type": "stream",
          "name": "stderr",
          "text": [
            "Validating Fold 1, Epoch 2: 100%|██████████| 115/115 [00:04<00:00, 27.27batch/s]\n"
          ]
        },
        {
          "output_type": "stream",
          "name": "stdout",
          "text": [
            "Fold 1, Epoch 2, Val Loss: 1.2401, Val Accuracy: 0.5330\n",
            "Validation loss improved from 1.2688 to 1.2401. Saving model...\n"
          ]
        },
        {
          "output_type": "stream",
          "name": "stderr",
          "text": [
            "Training Fold 1, Epoch 3: 100%|██████████| 457/457 [00:37<00:00, 12.08batch/s]\n"
          ]
        },
        {
          "output_type": "stream",
          "name": "stdout",
          "text": [
            "Fold 1, Epoch 3, Train Loss: 1.2533, Train Accuracy: 0.5358\n"
          ]
        },
        {
          "output_type": "stream",
          "name": "stderr",
          "text": [
            "Validating Fold 1, Epoch 3: 100%|██████████| 115/115 [00:04<00:00, 23.23batch/s]\n"
          ]
        },
        {
          "output_type": "stream",
          "name": "stdout",
          "text": [
            "Fold 1, Epoch 3, Val Loss: 1.2305, Val Accuracy: 0.5451\n",
            "Validation loss improved from 1.2401 to 1.2305. Saving model...\n"
          ]
        },
        {
          "output_type": "stream",
          "name": "stderr",
          "text": [
            "Training Fold 1, Epoch 4: 100%|██████████| 457/457 [00:37<00:00, 12.03batch/s]\n"
          ]
        },
        {
          "output_type": "stream",
          "name": "stdout",
          "text": [
            "Fold 1, Epoch 4, Train Loss: 1.2345, Train Accuracy: 0.5381\n"
          ]
        },
        {
          "output_type": "stream",
          "name": "stderr",
          "text": [
            "Validating Fold 1, Epoch 4: 100%|██████████| 115/115 [00:04<00:00, 28.16batch/s]\n"
          ]
        },
        {
          "output_type": "stream",
          "name": "stdout",
          "text": [
            "Fold 1, Epoch 4, Val Loss: 1.1973, Val Accuracy: 0.5552\n",
            "Validation loss improved from 1.2305 to 1.1973. Saving model...\n"
          ]
        },
        {
          "output_type": "stream",
          "name": "stderr",
          "text": [
            "Training Fold 1, Epoch 5: 100%|██████████| 457/457 [00:37<00:00, 12.08batch/s]\n"
          ]
        },
        {
          "output_type": "stream",
          "name": "stdout",
          "text": [
            "Fold 1, Epoch 5, Train Loss: 1.2143, Train Accuracy: 0.5433\n"
          ]
        },
        {
          "output_type": "stream",
          "name": "stderr",
          "text": [
            "Validating Fold 1, Epoch 5: 100%|██████████| 115/115 [00:04<00:00, 28.32batch/s]\n"
          ]
        },
        {
          "output_type": "stream",
          "name": "stdout",
          "text": [
            "Fold 1, Epoch 5, Val Loss: 1.1813, Val Accuracy: 0.5440\n",
            "Validation loss improved from 1.1973 to 1.1813. Saving model...\n"
          ]
        },
        {
          "output_type": "stream",
          "name": "stderr",
          "text": [
            "Training Fold 1, Epoch 6: 100%|██████████| 457/457 [00:37<00:00, 12.09batch/s]\n"
          ]
        },
        {
          "output_type": "stream",
          "name": "stdout",
          "text": [
            "Fold 1, Epoch 6, Train Loss: 1.1838, Train Accuracy: 0.5549\n"
          ]
        },
        {
          "output_type": "stream",
          "name": "stderr",
          "text": [
            "Validating Fold 1, Epoch 6: 100%|██████████| 115/115 [00:04<00:00, 23.43batch/s]\n"
          ]
        },
        {
          "output_type": "stream",
          "name": "stdout",
          "text": [
            "Fold 1, Epoch 6, Val Loss: 1.1587, Val Accuracy: 0.5615\n",
            "Validation loss improved from 1.1813 to 1.1587. Saving model...\n"
          ]
        },
        {
          "output_type": "stream",
          "name": "stderr",
          "text": [
            "Training Fold 1, Epoch 7: 100%|██████████| 457/457 [00:37<00:00, 12.06batch/s]\n"
          ]
        },
        {
          "output_type": "stream",
          "name": "stdout",
          "text": [
            "Fold 1, Epoch 7, Train Loss: 1.1578, Train Accuracy: 0.5642\n"
          ]
        },
        {
          "output_type": "stream",
          "name": "stderr",
          "text": [
            "Validating Fold 1, Epoch 7: 100%|██████████| 115/115 [00:04<00:00, 27.78batch/s]\n"
          ]
        },
        {
          "output_type": "stream",
          "name": "stdout",
          "text": [
            "Fold 1, Epoch 7, Val Loss: 1.1643, Val Accuracy: 0.5500\n",
            "No improvement for 1 epochs.\n"
          ]
        },
        {
          "output_type": "stream",
          "name": "stderr",
          "text": [
            "Training Fold 1, Epoch 8: 100%|██████████| 457/457 [00:37<00:00, 12.10batch/s]\n"
          ]
        },
        {
          "output_type": "stream",
          "name": "stdout",
          "text": [
            "Fold 1, Epoch 8, Train Loss: 1.1267, Train Accuracy: 0.5751\n"
          ]
        },
        {
          "output_type": "stream",
          "name": "stderr",
          "text": [
            "Validating Fold 1, Epoch 8: 100%|██████████| 115/115 [00:04<00:00, 27.09batch/s]\n"
          ]
        },
        {
          "output_type": "stream",
          "name": "stdout",
          "text": [
            "Fold 1, Epoch 8, Val Loss: 1.1266, Val Accuracy: 0.5867\n",
            "Validation loss improved from 1.1587 to 1.1266. Saving model...\n"
          ]
        },
        {
          "output_type": "stream",
          "name": "stderr",
          "text": [
            "Training Fold 1, Epoch 9: 100%|██████████| 457/457 [00:37<00:00, 12.08batch/s]\n"
          ]
        },
        {
          "output_type": "stream",
          "name": "stdout",
          "text": [
            "Fold 1, Epoch 9, Train Loss: 1.1076, Train Accuracy: 0.5828\n"
          ]
        },
        {
          "output_type": "stream",
          "name": "stderr",
          "text": [
            "Validating Fold 1, Epoch 9: 100%|██████████| 115/115 [00:04<00:00, 24.38batch/s]\n"
          ]
        },
        {
          "output_type": "stream",
          "name": "stdout",
          "text": [
            "Fold 1, Epoch 9, Val Loss: 1.0643, Val Accuracy: 0.5987\n",
            "Validation loss improved from 1.1266 to 1.0643. Saving model...\n"
          ]
        },
        {
          "output_type": "stream",
          "name": "stderr",
          "text": [
            "Training Fold 1, Epoch 10: 100%|██████████| 457/457 [00:37<00:00, 12.12batch/s]\n"
          ]
        },
        {
          "output_type": "stream",
          "name": "stdout",
          "text": [
            "Fold 1, Epoch 10, Train Loss: 1.0838, Train Accuracy: 0.5955\n"
          ]
        },
        {
          "output_type": "stream",
          "name": "stderr",
          "text": [
            "Validating Fold 1, Epoch 10: 100%|██████████| 115/115 [00:04<00:00, 27.05batch/s]\n"
          ]
        },
        {
          "output_type": "stream",
          "name": "stdout",
          "text": [
            "Fold 1, Epoch 10, Val Loss: 1.1441, Val Accuracy: 0.5735\n",
            "No improvement for 1 epochs.\n",
            "Fold 2/5\n"
          ]
        },
        {
          "output_type": "stream",
          "name": "stderr",
          "text": [
            "Training Fold 2, Epoch 1: 100%|██████████| 457/457 [00:37<00:00, 12.11batch/s]\n"
          ]
        },
        {
          "output_type": "stream",
          "name": "stdout",
          "text": [
            "Fold 2, Epoch 1, Train Loss: 1.0654, Train Accuracy: 0.6022\n"
          ]
        },
        {
          "output_type": "stream",
          "name": "stderr",
          "text": [
            "Validating Fold 2, Epoch 1: 100%|██████████| 115/115 [00:04<00:00, 27.79batch/s]\n"
          ]
        },
        {
          "output_type": "stream",
          "name": "stdout",
          "text": [
            "Fold 2, Epoch 1, Val Loss: 1.0725, Val Accuracy: 0.6067\n",
            "Validation loss improved from inf to 1.0725. Saving model...\n"
          ]
        },
        {
          "output_type": "stream",
          "name": "stderr",
          "text": [
            "Training Fold 2, Epoch 2: 100%|██████████| 457/457 [00:37<00:00, 12.07batch/s]\n"
          ]
        },
        {
          "output_type": "stream",
          "name": "stdout",
          "text": [
            "Fold 2, Epoch 2, Train Loss: 1.0542, Train Accuracy: 0.6051\n"
          ]
        },
        {
          "output_type": "stream",
          "name": "stderr",
          "text": [
            "Validating Fold 2, Epoch 2: 100%|██████████| 115/115 [00:04<00:00, 27.13batch/s]\n"
          ]
        },
        {
          "output_type": "stream",
          "name": "stdout",
          "text": [
            "Fold 2, Epoch 2, Val Loss: 1.0748, Val Accuracy: 0.5949\n",
            "No improvement for 1 epochs.\n"
          ]
        },
        {
          "output_type": "stream",
          "name": "stderr",
          "text": [
            "Training Fold 2, Epoch 3: 100%|██████████| 457/457 [00:37<00:00, 12.11batch/s]\n"
          ]
        },
        {
          "output_type": "stream",
          "name": "stdout",
          "text": [
            "Fold 2, Epoch 3, Train Loss: 1.0355, Train Accuracy: 0.6102\n"
          ]
        },
        {
          "output_type": "stream",
          "name": "stderr",
          "text": [
            "Validating Fold 2, Epoch 3: 100%|██████████| 115/115 [00:04<00:00, 23.31batch/s]\n"
          ]
        },
        {
          "output_type": "stream",
          "name": "stdout",
          "text": [
            "Fold 2, Epoch 3, Val Loss: 1.0347, Val Accuracy: 0.6100\n",
            "Validation loss improved from 1.0725 to 1.0347. Saving model...\n"
          ]
        },
        {
          "output_type": "stream",
          "name": "stderr",
          "text": [
            "Training Fold 2, Epoch 4: 100%|██████████| 457/457 [00:37<00:00, 12.08batch/s]\n"
          ]
        },
        {
          "output_type": "stream",
          "name": "stdout",
          "text": [
            "Fold 2, Epoch 4, Train Loss: 1.0180, Train Accuracy: 0.6220\n"
          ]
        },
        {
          "output_type": "stream",
          "name": "stderr",
          "text": [
            "Validating Fold 2, Epoch 4: 100%|██████████| 115/115 [00:04<00:00, 27.73batch/s]\n"
          ]
        },
        {
          "output_type": "stream",
          "name": "stdout",
          "text": [
            "Fold 2, Epoch 4, Val Loss: 1.0312, Val Accuracy: 0.6171\n",
            "Validation loss improved from 1.0347 to 1.0312. Saving model...\n"
          ]
        },
        {
          "output_type": "stream",
          "name": "stderr",
          "text": [
            "Training Fold 2, Epoch 5: 100%|██████████| 457/457 [00:37<00:00, 12.08batch/s]\n"
          ]
        },
        {
          "output_type": "stream",
          "name": "stdout",
          "text": [
            "Fold 2, Epoch 5, Train Loss: 1.0086, Train Accuracy: 0.6203\n"
          ]
        },
        {
          "output_type": "stream",
          "name": "stderr",
          "text": [
            "Validating Fold 2, Epoch 5: 100%|██████████| 115/115 [00:04<00:00, 27.72batch/s]\n"
          ]
        },
        {
          "output_type": "stream",
          "name": "stdout",
          "text": [
            "Fold 2, Epoch 5, Val Loss: 0.9956, Val Accuracy: 0.6291\n",
            "Validation loss improved from 1.0312 to 0.9956. Saving model...\n"
          ]
        },
        {
          "output_type": "stream",
          "name": "stderr",
          "text": [
            "Training Fold 2, Epoch 6: 100%|██████████| 457/457 [00:37<00:00, 12.06batch/s]\n"
          ]
        },
        {
          "output_type": "stream",
          "name": "stdout",
          "text": [
            "Fold 2, Epoch 6, Train Loss: 0.9973, Train Accuracy: 0.6282\n"
          ]
        },
        {
          "output_type": "stream",
          "name": "stderr",
          "text": [
            "Validating Fold 2, Epoch 6: 100%|██████████| 115/115 [00:04<00:00, 23.74batch/s]\n"
          ]
        },
        {
          "output_type": "stream",
          "name": "stdout",
          "text": [
            "Fold 2, Epoch 6, Val Loss: 1.0174, Val Accuracy: 0.6185\n",
            "No improvement for 1 epochs.\n"
          ]
        },
        {
          "output_type": "stream",
          "name": "stderr",
          "text": [
            "Training Fold 2, Epoch 7: 100%|██████████| 457/457 [00:37<00:00, 12.13batch/s]\n"
          ]
        },
        {
          "output_type": "stream",
          "name": "stdout",
          "text": [
            "Fold 2, Epoch 7, Train Loss: 0.9841, Train Accuracy: 0.6368\n"
          ]
        },
        {
          "output_type": "stream",
          "name": "stderr",
          "text": [
            "Validating Fold 2, Epoch 7: 100%|██████████| 115/115 [00:04<00:00, 27.48batch/s]\n"
          ]
        },
        {
          "output_type": "stream",
          "name": "stdout",
          "text": [
            "Fold 2, Epoch 7, Val Loss: 1.0118, Val Accuracy: 0.6242\n",
            "No improvement for 2 epochs.\n"
          ]
        },
        {
          "output_type": "stream",
          "name": "stderr",
          "text": [
            "Training Fold 2, Epoch 8: 100%|██████████| 457/457 [00:37<00:00, 12.10batch/s]\n"
          ]
        },
        {
          "output_type": "stream",
          "name": "stdout",
          "text": [
            "Fold 2, Epoch 8, Train Loss: 0.9813, Train Accuracy: 0.6378\n"
          ]
        },
        {
          "output_type": "stream",
          "name": "stderr",
          "text": [
            "Validating Fold 2, Epoch 8: 100%|██████████| 115/115 [00:04<00:00, 28.30batch/s]\n"
          ]
        },
        {
          "output_type": "stream",
          "name": "stdout",
          "text": [
            "Fold 2, Epoch 8, Val Loss: 1.0176, Val Accuracy: 0.6242\n",
            "No improvement for 3 epochs.\n"
          ]
        },
        {
          "output_type": "stream",
          "name": "stderr",
          "text": [
            "Training Fold 2, Epoch 9: 100%|██████████| 457/457 [00:37<00:00, 12.09batch/s]\n"
          ]
        },
        {
          "output_type": "stream",
          "name": "stdout",
          "text": [
            "Fold 2, Epoch 9, Train Loss: 0.9670, Train Accuracy: 0.6401\n"
          ]
        },
        {
          "output_type": "stream",
          "name": "stderr",
          "text": [
            "Validating Fold 2, Epoch 9: 100%|██████████| 115/115 [00:04<00:00, 25.71batch/s]\n"
          ]
        },
        {
          "output_type": "stream",
          "name": "stdout",
          "text": [
            "Fold 2, Epoch 9, Val Loss: 1.0272, Val Accuracy: 0.6250\n",
            "No improvement for 4 epochs.\n",
            "Early stopping triggered at epoch 9.\n",
            "Fold 3/5\n"
          ]
        },
        {
          "output_type": "stream",
          "name": "stderr",
          "text": [
            "Training Fold 3, Epoch 1: 100%|██████████| 457/457 [00:37<00:00, 12.08batch/s]\n"
          ]
        },
        {
          "output_type": "stream",
          "name": "stdout",
          "text": [
            "Fold 3, Epoch 1, Train Loss: 0.9785, Train Accuracy: 0.6396\n"
          ]
        },
        {
          "output_type": "stream",
          "name": "stderr",
          "text": [
            "Validating Fold 3, Epoch 1: 100%|██████████| 115/115 [00:04<00:00, 25.67batch/s]\n"
          ]
        },
        {
          "output_type": "stream",
          "name": "stdout",
          "text": [
            "Fold 3, Epoch 1, Val Loss: 0.9603, Val Accuracy: 0.6472\n",
            "Validation loss improved from inf to 0.9603. Saving model...\n"
          ]
        },
        {
          "output_type": "stream",
          "name": "stderr",
          "text": [
            "Training Fold 3, Epoch 2: 100%|██████████| 457/457 [00:37<00:00, 12.09batch/s]\n"
          ]
        },
        {
          "output_type": "stream",
          "name": "stdout",
          "text": [
            "Fold 3, Epoch 2, Train Loss: 0.9641, Train Accuracy: 0.6465\n"
          ]
        },
        {
          "output_type": "stream",
          "name": "stderr",
          "text": [
            "Validating Fold 3, Epoch 2: 100%|██████████| 115/115 [00:04<00:00, 27.46batch/s]\n"
          ]
        },
        {
          "output_type": "stream",
          "name": "stdout",
          "text": [
            "Fold 3, Epoch 2, Val Loss: 0.9341, Val Accuracy: 0.6565\n",
            "Validation loss improved from 0.9603 to 0.9341. Saving model...\n"
          ]
        },
        {
          "output_type": "stream",
          "name": "stderr",
          "text": [
            "Training Fold 3, Epoch 3: 100%|██████████| 457/457 [00:37<00:00, 12.06batch/s]\n"
          ]
        },
        {
          "output_type": "stream",
          "name": "stdout",
          "text": [
            "Fold 3, Epoch 3, Train Loss: 0.9581, Train Accuracy: 0.6440\n"
          ]
        },
        {
          "output_type": "stream",
          "name": "stderr",
          "text": [
            "Validating Fold 3, Epoch 3: 100%|██████████| 115/115 [00:04<00:00, 27.03batch/s]\n"
          ]
        },
        {
          "output_type": "stream",
          "name": "stdout",
          "text": [
            "Fold 3, Epoch 3, Val Loss: 0.9321, Val Accuracy: 0.6617\n",
            "Validation loss improved from 0.9341 to 0.9321. Saving model...\n"
          ]
        },
        {
          "output_type": "stream",
          "name": "stderr",
          "text": [
            "Training Fold 3, Epoch 4: 100%|██████████| 457/457 [00:37<00:00, 12.08batch/s]\n"
          ]
        },
        {
          "output_type": "stream",
          "name": "stdout",
          "text": [
            "Fold 3, Epoch 4, Train Loss: 0.9399, Train Accuracy: 0.6545\n"
          ]
        },
        {
          "output_type": "stream",
          "name": "stderr",
          "text": [
            "Validating Fold 3, Epoch 4: 100%|██████████| 115/115 [00:04<00:00, 23.75batch/s]\n"
          ]
        },
        {
          "output_type": "stream",
          "name": "stdout",
          "text": [
            "Fold 3, Epoch 4, Val Loss: 0.9725, Val Accuracy: 0.6442\n",
            "No improvement for 1 epochs.\n"
          ]
        },
        {
          "output_type": "stream",
          "name": "stderr",
          "text": [
            "Training Fold 3, Epoch 5: 100%|██████████| 457/457 [00:38<00:00, 12.02batch/s]\n"
          ]
        },
        {
          "output_type": "stream",
          "name": "stdout",
          "text": [
            "Fold 3, Epoch 5, Train Loss: 0.9417, Train Accuracy: 0.6538\n"
          ]
        },
        {
          "output_type": "stream",
          "name": "stderr",
          "text": [
            "Validating Fold 3, Epoch 5: 100%|██████████| 115/115 [00:04<00:00, 27.20batch/s]\n"
          ]
        },
        {
          "output_type": "stream",
          "name": "stdout",
          "text": [
            "Fold 3, Epoch 5, Val Loss: 0.9517, Val Accuracy: 0.6502\n",
            "No improvement for 2 epochs.\n"
          ]
        },
        {
          "output_type": "stream",
          "name": "stderr",
          "text": [
            "Training Fold 3, Epoch 6: 100%|██████████| 457/457 [00:38<00:00, 11.95batch/s]\n"
          ]
        },
        {
          "output_type": "stream",
          "name": "stdout",
          "text": [
            "Fold 3, Epoch 6, Train Loss: 0.9282, Train Accuracy: 0.6601\n"
          ]
        },
        {
          "output_type": "stream",
          "name": "stderr",
          "text": [
            "Validating Fold 3, Epoch 6: 100%|██████████| 115/115 [00:04<00:00, 27.85batch/s]\n"
          ]
        },
        {
          "output_type": "stream",
          "name": "stdout",
          "text": [
            "Fold 3, Epoch 6, Val Loss: 0.9366, Val Accuracy: 0.6593\n",
            "No improvement for 3 epochs.\n"
          ]
        },
        {
          "output_type": "stream",
          "name": "stderr",
          "text": [
            "Training Fold 3, Epoch 7: 100%|██████████| 457/457 [00:38<00:00, 11.98batch/s]\n"
          ]
        },
        {
          "output_type": "stream",
          "name": "stdout",
          "text": [
            "Fold 3, Epoch 7, Train Loss: 0.9167, Train Accuracy: 0.6630\n"
          ]
        },
        {
          "output_type": "stream",
          "name": "stderr",
          "text": [
            "Validating Fold 3, Epoch 7: 100%|██████████| 115/115 [00:04<00:00, 23.78batch/s]\n"
          ]
        },
        {
          "output_type": "stream",
          "name": "stdout",
          "text": [
            "Fold 3, Epoch 7, Val Loss: 0.9507, Val Accuracy: 0.6584\n",
            "No improvement for 4 epochs.\n",
            "Early stopping triggered at epoch 7.\n",
            "Fold 4/5\n"
          ]
        },
        {
          "output_type": "stream",
          "name": "stderr",
          "text": [
            "Training Fold 4, Epoch 1: 100%|██████████| 457/457 [00:38<00:00, 11.94batch/s]\n"
          ]
        },
        {
          "output_type": "stream",
          "name": "stdout",
          "text": [
            "Fold 4, Epoch 1, Train Loss: 0.9312, Train Accuracy: 0.6595\n"
          ]
        },
        {
          "output_type": "stream",
          "name": "stderr",
          "text": [
            "Validating Fold 4, Epoch 1: 100%|██████████| 115/115 [00:04<00:00, 26.26batch/s]\n"
          ]
        },
        {
          "output_type": "stream",
          "name": "stdout",
          "text": [
            "Fold 4, Epoch 1, Val Loss: 0.8534, Val Accuracy: 0.6858\n",
            "Validation loss improved from inf to 0.8534. Saving model...\n"
          ]
        },
        {
          "output_type": "stream",
          "name": "stderr",
          "text": [
            "Training Fold 4, Epoch 2: 100%|██████████| 457/457 [00:38<00:00, 11.99batch/s]\n"
          ]
        },
        {
          "output_type": "stream",
          "name": "stdout",
          "text": [
            "Fold 4, Epoch 2, Train Loss: 0.9274, Train Accuracy: 0.6578\n"
          ]
        },
        {
          "output_type": "stream",
          "name": "stderr",
          "text": [
            "Validating Fold 4, Epoch 2: 100%|██████████| 115/115 [00:04<00:00, 27.41batch/s]\n"
          ]
        },
        {
          "output_type": "stream",
          "name": "stdout",
          "text": [
            "Fold 4, Epoch 2, Val Loss: 0.8765, Val Accuracy: 0.6804\n",
            "No improvement for 1 epochs.\n"
          ]
        },
        {
          "output_type": "stream",
          "name": "stderr",
          "text": [
            "Training Fold 4, Epoch 3: 100%|██████████| 457/457 [00:38<00:00, 11.95batch/s]\n"
          ]
        },
        {
          "output_type": "stream",
          "name": "stdout",
          "text": [
            "Fold 4, Epoch 3, Train Loss: 0.9117, Train Accuracy: 0.6704\n"
          ]
        },
        {
          "output_type": "stream",
          "name": "stderr",
          "text": [
            "Validating Fold 4, Epoch 3: 100%|██████████| 115/115 [00:04<00:00, 24.69batch/s]\n"
          ]
        },
        {
          "output_type": "stream",
          "name": "stdout",
          "text": [
            "Fold 4, Epoch 3, Val Loss: 0.8627, Val Accuracy: 0.6763\n",
            "No improvement for 2 epochs.\n"
          ]
        },
        {
          "output_type": "stream",
          "name": "stderr",
          "text": [
            "Training Fold 4, Epoch 4: 100%|██████████| 457/457 [00:38<00:00, 12.02batch/s]\n"
          ]
        },
        {
          "output_type": "stream",
          "name": "stdout",
          "text": [
            "Fold 4, Epoch 4, Train Loss: 0.9021, Train Accuracy: 0.6687\n"
          ]
        },
        {
          "output_type": "stream",
          "name": "stderr",
          "text": [
            "Validating Fold 4, Epoch 4: 100%|██████████| 115/115 [00:04<00:00, 26.06batch/s]\n"
          ]
        },
        {
          "output_type": "stream",
          "name": "stdout",
          "text": [
            "Fold 4, Epoch 4, Val Loss: 0.8984, Val Accuracy: 0.6626\n",
            "No improvement for 3 epochs.\n"
          ]
        },
        {
          "output_type": "stream",
          "name": "stderr",
          "text": [
            "Training Fold 4, Epoch 5: 100%|██████████| 457/457 [00:37<00:00, 12.09batch/s]\n"
          ]
        },
        {
          "output_type": "stream",
          "name": "stdout",
          "text": [
            "Fold 4, Epoch 5, Train Loss: 0.8921, Train Accuracy: 0.6764\n"
          ]
        },
        {
          "output_type": "stream",
          "name": "stderr",
          "text": [
            "Validating Fold 4, Epoch 5: 100%|██████████| 115/115 [00:04<00:00, 28.28batch/s]\n"
          ]
        },
        {
          "output_type": "stream",
          "name": "stdout",
          "text": [
            "Fold 4, Epoch 5, Val Loss: 0.8799, Val Accuracy: 0.6861\n",
            "No improvement for 4 epochs.\n",
            "Early stopping triggered at epoch 5.\n",
            "Fold 5/5\n"
          ]
        },
        {
          "output_type": "stream",
          "name": "stderr",
          "text": [
            "Training Fold 5, Epoch 1: 100%|██████████| 457/457 [00:37<00:00, 12.08batch/s]\n"
          ]
        },
        {
          "output_type": "stream",
          "name": "stdout",
          "text": [
            "Fold 5, Epoch 1, Train Loss: 0.9031, Train Accuracy: 0.6717\n"
          ]
        },
        {
          "output_type": "stream",
          "name": "stderr",
          "text": [
            "Validating Fold 5, Epoch 1: 100%|██████████| 115/115 [00:04<00:00, 26.95batch/s]\n"
          ]
        },
        {
          "output_type": "stream",
          "name": "stdout",
          "text": [
            "Fold 5, Epoch 1, Val Loss: 0.8657, Val Accuracy: 0.6817\n",
            "Validation loss improved from inf to 0.8657. Saving model...\n"
          ]
        },
        {
          "output_type": "stream",
          "name": "stderr",
          "text": [
            "Training Fold 5, Epoch 2: 100%|██████████| 457/457 [00:38<00:00, 12.01batch/s]\n"
          ]
        },
        {
          "output_type": "stream",
          "name": "stdout",
          "text": [
            "Fold 5, Epoch 2, Train Loss: 0.8904, Train Accuracy: 0.6763\n"
          ]
        },
        {
          "output_type": "stream",
          "name": "stderr",
          "text": [
            "Validating Fold 5, Epoch 2: 100%|██████████| 115/115 [00:04<00:00, 23.84batch/s]\n"
          ]
        },
        {
          "output_type": "stream",
          "name": "stdout",
          "text": [
            "Fold 5, Epoch 2, Val Loss: 0.8683, Val Accuracy: 0.6826\n",
            "No improvement for 1 epochs.\n"
          ]
        },
        {
          "output_type": "stream",
          "name": "stderr",
          "text": [
            "Training Fold 5, Epoch 3: 100%|██████████| 457/457 [00:37<00:00, 12.03batch/s]\n"
          ]
        },
        {
          "output_type": "stream",
          "name": "stdout",
          "text": [
            "Fold 5, Epoch 3, Train Loss: 0.8828, Train Accuracy: 0.6791\n"
          ]
        },
        {
          "output_type": "stream",
          "name": "stderr",
          "text": [
            "Validating Fold 5, Epoch 3: 100%|██████████| 115/115 [00:04<00:00, 27.60batch/s]\n"
          ]
        },
        {
          "output_type": "stream",
          "name": "stdout",
          "text": [
            "Fold 5, Epoch 3, Val Loss: 0.8734, Val Accuracy: 0.6773\n",
            "No improvement for 2 epochs.\n"
          ]
        },
        {
          "output_type": "stream",
          "name": "stderr",
          "text": [
            "Training Fold 5, Epoch 4: 100%|██████████| 457/457 [00:37<00:00, 12.05batch/s]\n"
          ]
        },
        {
          "output_type": "stream",
          "name": "stdout",
          "text": [
            "Fold 5, Epoch 4, Train Loss: 0.8734, Train Accuracy: 0.6831\n"
          ]
        },
        {
          "output_type": "stream",
          "name": "stderr",
          "text": [
            "Validating Fold 5, Epoch 4: 100%|██████████| 115/115 [00:04<00:00, 27.73batch/s]\n"
          ]
        },
        {
          "output_type": "stream",
          "name": "stdout",
          "text": [
            "Fold 5, Epoch 4, Val Loss: 0.8768, Val Accuracy: 0.6836\n",
            "No improvement for 3 epochs.\n"
          ]
        },
        {
          "output_type": "stream",
          "name": "stderr",
          "text": [
            "Training Fold 5, Epoch 5: 100%|██████████| 457/457 [00:37<00:00, 12.03batch/s]\n"
          ]
        },
        {
          "output_type": "stream",
          "name": "stdout",
          "text": [
            "Fold 5, Epoch 5, Train Loss: 0.8660, Train Accuracy: 0.6841\n"
          ]
        },
        {
          "output_type": "stream",
          "name": "stderr",
          "text": [
            "Validating Fold 5, Epoch 5: 100%|██████████| 115/115 [00:04<00:00, 23.76batch/s]"
          ]
        },
        {
          "output_type": "stream",
          "name": "stdout",
          "text": [
            "Fold 5, Epoch 5, Val Loss: 0.8913, Val Accuracy: 0.6749\n",
            "No improvement for 4 epochs.\n",
            "Early stopping triggered at epoch 5.\n",
            "Average Training Loss: 0.9922\n",
            "Average Validation Loss: 0.9813\n",
            "Average Training Accuracy: 0.6340\n",
            "Average Validation Accuracy: 0.6372\n"
          ]
        },
        {
          "output_type": "stream",
          "name": "stderr",
          "text": [
            "\n"
          ]
        }
      ],
      "source": [
        "# Inizializzare il dataset\n",
        "full_train_dataset = EthnicityDataset(root_dir=\"Dataset/mouth/train\", transform=transform_mouth)\n",
        "test_dataset = EthnicityDataset(root_dir=\"Dataset/mouth/test\", transform=transform_mouth)\n",
        "test_loader = DataLoader(test_dataset, batch_size=32, shuffle=True)\n",
        "\n",
        "# Parametri di Early Stopping\n",
        "patience = 4  # Numero massimo di epoche senza miglioramenti\n",
        "\n",
        "# K-fold Cross-Validation\n",
        "k = 5  # Scegliamo K = 5\n",
        "kf = KFold(n_splits=k, shuffle=True, random_state=42)\n",
        "\n",
        "# Array per salvare i risultati di ogni fold\n",
        "fold_train_losses = []\n",
        "fold_val_losses = []\n",
        "fold_train_accuracies = []\n",
        "fold_val_accuracies = []\n",
        "\n",
        "num_epochs = 10\n",
        "batch_size = 32\n",
        "\n",
        "for fold, (train_idx, val_idx) in enumerate(kf.split(np.arange(len(full_train_dataset)))):\n",
        "    print(f\"Fold {fold + 1}/{k}\")\n",
        "\n",
        "    # Creare i subset per training e validation\n",
        "    train_subset = Subset(full_train_dataset, train_idx)\n",
        "    val_subset = Subset(full_train_dataset, val_idx)\n",
        "\n",
        "    # Creare i dataloader per il fold corrente\n",
        "    train_loader = DataLoader(train_subset, batch_size=batch_size, shuffle=True)\n",
        "    val_loader = DataLoader(val_subset, batch_size=batch_size, shuffle=False)\n",
        "\n",
        "    # Reinizializzare il modello e l'ottimizzatore per ogni fold\n",
        "    mouth_net = mouth_net.to(device)  # Assicurarsi che il modello sia su GPU/CPU corretta\n",
        "    mouth_optimizer = torch.optim.Adam(mouth_net.parameters(), lr=0.001, weight_decay=0.001)\n",
        "\n",
        "    # Criterion\n",
        "    criterion = nn.CrossEntropyLoss()\n",
        "\n",
        "    best_model_state = None  # Per salvare lo stato del modello\n",
        "    best_val_loss = float(\"inf\")  # Migliore loss iniziale\n",
        "    no_improvement = 0  # Contatore per epoche senza miglioramenti\n",
        "\n",
        "    # Metriche per ogni fold\n",
        "    train_losses = []\n",
        "    val_losses = []\n",
        "    train_accuracies = []\n",
        "    val_accuracies = []\n",
        "\n",
        "    # Training per ogni fold\n",
        "    for epoch in range(num_epochs):\n",
        "        # Training Phase\n",
        "        mouth_net.train()\n",
        "        running_loss = 0.0\n",
        "        correct = 0\n",
        "        total = 0\n",
        "\n",
        "        for data in tqdm(train_loader, desc=f\"Training Fold {fold + 1}, Epoch {epoch + 1}\", unit=\"batch\"):\n",
        "            inputs, labels = data\n",
        "            inputs, labels = inputs.to(device), labels.to(device)\n",
        "\n",
        "            # Zero the gradients\n",
        "            mouth_optimizer.zero_grad()\n",
        "\n",
        "            # Forward pass\n",
        "            outputs = mouth_net(inputs)\n",
        "            loss = criterion(outputs, labels)\n",
        "            loss.backward()\n",
        "            mouth_optimizer.step()\n",
        "\n",
        "            running_loss += loss.item()\n",
        "\n",
        "            # Accuracy\n",
        "            _, predicted = torch.max(outputs, 1)\n",
        "            total += labels.size(0)\n",
        "            correct += (predicted == labels).sum().item()\n",
        "\n",
        "        avg_train_loss = running_loss / len(train_loader)\n",
        "        train_accuracy = correct / total\n",
        "        train_losses.append(avg_train_loss)\n",
        "        train_accuracies.append(train_accuracy)\n",
        "\n",
        "        print(f\"Fold {fold + 1}, Epoch {epoch + 1}, Train Loss: {avg_train_loss:.4f}, Train Accuracy: {train_accuracy:.4f}\")\n",
        "\n",
        "        # Validation Phase\n",
        "        mouth_net.eval()\n",
        "        val_running_loss = 0.0\n",
        "        correct = 0\n",
        "        total = 0\n",
        "\n",
        "        with torch.no_grad():\n",
        "            for data in tqdm(val_loader, desc=f\"Validating Fold {fold + 1}, Epoch {epoch + 1}\", unit=\"batch\"):\n",
        "                inputs, labels = data\n",
        "                inputs, labels = inputs.to(device), labels.to(device)\n",
        "\n",
        "                outputs = mouth_net(inputs)\n",
        "                loss = criterion(outputs, labels)\n",
        "\n",
        "                val_running_loss += loss.item()\n",
        "\n",
        "                # Accuracy\n",
        "                _, predicted = torch.max(outputs, 1)\n",
        "                total += labels.size(0)\n",
        "                correct += (predicted == labels).sum().item()\n",
        "\n",
        "        avg_val_loss = val_running_loss / len(val_loader)\n",
        "        val_accuracy = correct / total\n",
        "        val_losses.append(avg_val_loss)\n",
        "        val_accuracies.append(val_accuracy)\n",
        "\n",
        "        print(f\"Fold {fold + 1}, Epoch {epoch + 1}, Val Loss: {avg_val_loss:.4f}, Val Accuracy: {val_accuracy:.4f}\")\n",
        "\n",
        "        # Early Stopping: verifica miglioramento della loss di validazione\n",
        "        if avg_val_loss < best_val_loss:\n",
        "            print(f\"Validation loss improved from {best_val_loss:.4f} to {avg_val_loss:.4f}. Saving model...\")\n",
        "            best_val_loss = avg_val_loss\n",
        "            best_model_state = mouth_net.state_dict()  # Salva il miglior modello\n",
        "            no_improvement = 0  # Resetta il contatore\n",
        "        else:\n",
        "            no_improvement += 1\n",
        "            print(f\"No improvement for {no_improvement} epochs.\")\n",
        "\n",
        "        # Controlla se interrompere l'allenamento per Early Stopping\n",
        "        if no_improvement >= patience:\n",
        "            print(f\"Early stopping triggered at epoch {epoch + 1}.\")\n",
        "            break\n",
        "\n",
        "    # Carica il miglior modello salvato per questo fold\n",
        "    mouth_net.load_state_dict(best_model_state)\n",
        "\n",
        "    # Salvare i risultati del fold corrente\n",
        "    fold_train_losses.append(train_losses)\n",
        "    fold_val_losses.append(val_losses)\n",
        "    fold_train_accuracies.append(train_accuracies)\n",
        "    fold_val_accuracies.append(val_accuracies)\n",
        "\n",
        "# Calcolare le metriche medie su tutti i fold\n",
        "mean_train_loss = np.mean([np.mean(fold) for fold in fold_train_losses])\n",
        "mean_val_loss = np.mean([np.mean(fold) for fold in fold_val_losses])\n",
        "mean_train_accuracy = np.mean([np.mean(fold) for fold in fold_train_accuracies])\n",
        "mean_val_accuracy = np.mean([np.mean(fold) for fold in fold_val_accuracies])\n",
        "\n",
        "print(f\"Average Training Loss: {mean_train_loss:.4f}\")\n",
        "print(f\"Average Validation Loss: {mean_val_loss:.4f}\")\n",
        "print(f\"Average Training Accuracy: {mean_train_accuracy:.4f}\")\n",
        "print(f\"Average Validation Accuracy: {mean_val_accuracy:.4f}\")"
      ]
    },
    {
      "cell_type": "code",
      "execution_count": 12,
      "metadata": {
        "id": "kV3v71eK9u-U",
        "colab": {
          "base_uri": "https://localhost:8080/",
          "height": 902
        },
        "outputId": "1a63b073-a6f4-4b24-cce6-933e6873ec46"
      },
      "outputs": [
        {
          "output_type": "display_data",
          "data": {
            "text/plain": [
              "<Figure size 1000x700 with 2 Axes>"
            ],
            "image/png": "[encoded data removed]"
          },
          "metadata": {}
        },
        {
          "output_type": "stream",
          "name": "stdout",
          "text": [
            "\n",
            "Classification Report:\n",
            "              precision    recall  f1-score   support\n",
            "\n",
            "       White       0.67      0.82      0.74      2018\n",
            "       Black       0.80      0.76      0.77       927\n",
            "       Asian       0.54      0.36      0.43       670\n",
            "      Indian       0.52      0.58      0.55       802\n",
            "      Others       0.30      0.08      0.12       359\n",
            "\n",
            "    accuracy                           0.65      4776\n",
            "   macro avg       0.57      0.52      0.52      4776\n",
            "weighted avg       0.62      0.65      0.62      4776\n",
            "\n"
          ]
        }
      ],
      "source": [
        "all_labels = []  # Per memorizzare le etichette reali\n",
        "all_preds = []   # Per memorizzare le previsioni del modello\n",
        "\n",
        "with torch.no_grad():\n",
        "    for data in test_loader:\n",
        "        images, labels = data\n",
        "        images, labels = images.to(device), labels.to(device)\n",
        "\n",
        "        outputs = mouth_net(images)\n",
        "\n",
        "        _, predicted = torch.max(outputs.data, 1)\n",
        "        all_labels.extend(labels.cpu().numpy())\n",
        "        all_preds.extend(predicted.cpu().numpy())\n",
        "\n",
        "\n",
        "# Calcola le metriche\n",
        "conf_matrix = confusion_matrix(all_labels, all_preds)\n",
        "\n",
        "plt.figure(figsize=(10, 7))\n",
        "sns.heatmap(conf_matrix, annot=True, fmt='d', cmap='Blues', xticklabels=class_names, yticklabels=class_names)\n",
        "\n",
        "# Aggiungi titoli e etichette agli assi\n",
        "plt.title('Confusion Matrix', fontsize=16)\n",
        "plt.xlabel('Predicted Labels', fontsize=14)\n",
        "plt.ylabel('True Labels', fontsize=14)\n",
        "plt.xticks(fontsize=12)\n",
        "plt.yticks(fontsize=12)\n",
        "\n",
        "# Mostra la heatmap\n",
        "plt.show()\n",
        "\n",
        "print(\"\\nClassification Report:\")\n",
        "print(classification_report(all_labels, all_preds, target_names=class_names, zero_division=0))"
      ]
    }
  ],
  "metadata": {
    "accelerator": "GPU",
    "colab": {
      "gpuType": "T4",
      "provenance": []
    },
    "kernelspec": {
      "display_name": "Python 3",
      "name": "python3"
    },
    "language_info": {
      "name": "python"
    }
  },
  "nbformat": 4,
  "nbformat_minor": 0
}