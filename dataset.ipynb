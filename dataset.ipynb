{
  "nbformat": 4,
  "nbformat_minor": 0,
  "metadata": {
    "colab": {
      "provenance": []
    },
    "kernelspec": {
      "name": "python3",
      "display_name": "Python 3"
    },
    "language_info": {
      "name": "python"
    }
  },
  "cells": [
    {
      "cell_type": "code",
      "execution_count": null,
      "metadata": {
        "id": "13H6Z9DPcFm9"
      },
      "outputs": [],
      "source": [
        "%pip install gdown"
      ]
    },
    {
      "cell_type": "code",
      "source": [
        "import gdown\n",
        "\n",
        "url = \"https://drive.google.com/drive/folders/1_z2a2W9ZmOhjz9FeNhn5GftGC-G-31N9?usp=share_link\"\n",
        "gdown.download_folder(url, quiet=True)"
      ],
      "metadata": {
        "id": "SzRqIlyhwUjj"
      },
      "execution_count": null,
      "outputs": []
    },
    {
      "cell_type": "code",
      "source": [
        "# download the zip file from Google Drive containing the dataset\n",
        "# extract the zip file and create a folder containing the images\n",
        "import zipfile\n",
        "import os\n",
        "import cv2\n",
        "import shutil\n",
        "import numpy as np\n",
        "\n",
        "def main():\n",
        "  def update_dictionary(key, dictionary, file_name):\n",
        "    if key not in dictionary:\n",
        "      dictionary[key] = {file_name}\n",
        "    else:\n",
        "      dictionary[key].add(file_name)\n",
        "\n",
        "  # folder containing the zip files and the one that will contains the images extracted from those files\n",
        "  folder_path = \"/content/biometric_systems_project\"\n",
        "  for file_name in os.listdir(folder_path):\n",
        "\n",
        "    # zipped files in the folder biometric_systems_dataset\n",
        "    if file_name.endswith(\".zip\"):\n",
        "\n",
        "      # full path to the zip file\n",
        "      file_path = os.path.join(folder_path, file_name)\n",
        "\n",
        "      # create folder in the same path with the name of the zip file\n",
        "      extract_folder = os.path.join(folder_path, file_name.replace(\".zip\", \"\"))\n",
        "      os.makedirs(extract_folder, exist_ok=True)\n",
        "      # open and extract the file\n",
        "      with zipfile.ZipFile(file_path, mode=\"r\") as zip_ref:\n",
        "        zip_ref.extractall(extract_folder)\n",
        "\n",
        "        for root, _, files in os.walk(extract_folder):\n",
        "          for image_file in files:\n",
        "            if image_file.lower().endswith('.jpg'):\n",
        "              source_file = os.path.join(root, image_file)\n",
        "              destination_file = os.path.join(folder_path, image_file)\n",
        "\n",
        "              # move the image file to the destination path\n",
        "              shutil.move(source_file, destination_file)\n",
        "\n",
        "        # remove the extracted folder and all its contents\n",
        "        shutil.rmtree(extract_folder)\n",
        "\n",
        "      ages, genders, ethnicities = dict(), dict(), dict()\n",
        "      for file_name in os.listdir(folder_path):\n",
        "        # skip non-images\n",
        "        if not file_name.lower().endswith(\".jpg\"):\n",
        "          continue\n",
        "        # rename pictures that start with \"._\"\n",
        "        if (file_name[0] == \".\"):\n",
        "          file_name = file_name[2:]\n",
        "        else:\n",
        "          age, gender, ethnicity, _ = file_name.split(\"_\")\n",
        "          update_dictionary(age, ages, file_name)\n",
        "          update_dictionary(gender, genders, file_name)\n",
        "          update_dictionary(ethnicity, ethnicities, file_name)\n",
        "\n",
        "      # FILE 3:\n",
        "      # age: {'50': 105, '28': 162, '43': 34, '45': 129, '34': 106, '23': 75,\n",
        "      #'22': 55, '54': 100, '81': 12, '49': 17, '53': 44, '85': 16, '27': 100,\n",
        "      #'35': 112, '7': 2, '37': 60, '40': 56, '55': 97, '24': 111, '26': 362,\n",
        "      #'30': 67, '61': 31, '47': 39, '72': 7, '29': 60, '25': 132, '36': 96,\n",
        "      #'46': 34, '48': 32, '57': 17, '18': 9, '42': 27, '31': 54, '51': 22,\n",
        "      #'15': 8, '17': 7, '21': 38, '65': 48, '41': 17, '60': 60, '32': 59,\n",
        "      #'58': 63, '67': 27, '56': 38, '38': 28, '39': 22, '84': 14, '59': 4,\n",
        "      #'79': 4, '80': 12, '73': 19, '68': 6, '89': 9, '74': 13, '71': 5,\n",
        "      #'44': 43, '78': 17, '52': 35, '115': 2, '76': 5, '33': 27, '5': 3,\n",
        "      #'90': 12, '16': 8, '20': 38, '6': 4, '70': 37, '116': 2, '14': 5, '10': 5,\n",
        "      #'88': 9, '82': 3, '75': 11, '63': 16, '66': 11, '19': 8, '13': 2, '62': 9,\n",
        "      # '4': 6, '87': 5, '64': 9, '100': 1, '9': 2, '93': 2, '1': 1, '3': 1,\n",
        "      # '99': 4, '83': 8, '95': 4, '8': 2, '86': 6, '11': 1, '111': 1, '77': 1, '110': 1}\n",
        "      # gender: {'1': 996, '0': 2254}\n",
        "      # ethnicities: {'0': 1814, '3': 3948, '2': 146, '1': 520, '4': 72}\n",
        "if __name__ == \"__main__\":\n",
        "  main()"
      ],
      "metadata": {
        "collapsed": true,
        "id": "w8E_B59-dGOW"
      },
      "execution_count": null,
      "outputs": []
    }
  ]
}