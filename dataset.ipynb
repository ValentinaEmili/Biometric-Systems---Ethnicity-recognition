{
  "nbformat": 4,
  "nbformat_minor": 0,
  "metadata": {
    "colab": {
      "provenance": []
    },
    "kernelspec": {
      "name": "python3",
      "display_name": "Python 3"
    },
    "language_info": {
      "name": "python"
    }
  },
  "cells": [
    {
      "cell_type": "code",
      "execution_count": null,
      "metadata": {
        "id": "13H6Z9DPcFm9"
      },
      "outputs": [],
      "source": [
        "%pip install gdown"
      ]
    },
    {
      "cell_type": "code",
      "source": [
        "import gdown\n",
        "\n",
        "url = \"https://drive.google.com/drive/folders/1_z2a2W9ZmOhjz9FeNhn5GftGC-G-31N9?usp=sharing\"\n",
        "gdown.download_folder(url, quiet=True)"
      ],
      "metadata": {
        "id": "SzRqIlyhwUjj"
      },
      "execution_count": null,
      "outputs": []
    },
    {
      "cell_type": "code",
      "source": [
        "# download the zip file from Google Drive containing the dataset\n",
        "# extract the zip file and create a folder containing the images\n",
        "import zipfile\n",
        "import os\n",
        "import cv2\n",
        "import shutil\n",
        "import numpy as np\n",
        "\n",
        "def main():\n",
        "  def update_dictionary(key, dictionary, file_name):\n",
        "    if key not in dictionary:\n",
        "      dictionary[key] = {file_name}\n",
        "    else:\n",
        "      dictionary[key].add(file_name)\n",
        "\n",
        "  # folder containing the zip files and the one that will contains the images extracted from those files\n",
        "  folder_path = \"/content/biometric_systems_project\"\n",
        "  for file_name in os.listdir(folder_path):\n",
        "\n",
        "    # zipped files in the folder biometric_systems_dataset\n",
        "    if file_name.endswith(\".zip\"):\n",
        "\n",
        "      # full path to the zip file\n",
        "      file_path = os.path.join(folder_path, file_name)\n",
        "\n",
        "      # create folder in the same path with the name of the zip file\n",
        "      extract_folder = os.path.join(folder_path, file_name.replace(\".zip\", \"\"))\n",
        "      os.makedirs(extract_folder, exist_ok=True)\n",
        "\n",
        "      # open and extract the file\n",
        "      with zipfile.ZipFile(file_path, mode=\"r\") as zip_ref:\n",
        "        zip_ref.extractall(extract_folder)\n",
        "\n",
        "        for root, _, files in os.walk(extract_folder):\n",
        "          for image_file in files:\n",
        "            if image_file.lower().endswith('.jpg'):\n",
        "              source_file = os.path.join(root, image_file)\n",
        "              destination_file = os.path.join(folder_path, image_file)\n",
        "\n",
        "              # move the image file to the destination path\n",
        "              shutil.move(source_file, destination_file)\n",
        "\n",
        "        # remove the extracted folder and all its contents\n",
        "        shutil.rmtree(extract_folder)\n",
        "        os.remove(extract_folder + \".zip\")\n",
        "\n",
        "      ages, genders, ethnicities = dict(), dict(), dict()\n",
        "      for file_name in os.listdir(folder_path):\n",
        "\n",
        "        # rename pictures that start with \"._\"\n",
        "        if (file_name[0] == \".\"):\n",
        "          file_name = file_name[2:]\n",
        "        else:\n",
        "          age, gender, ethnicity, _ = file_name.split(\"_\")\n",
        "          update_dictionary(age, ages, file_name)\n",
        "          update_dictionary(gender, genders, file_name)\n",
        "          update_dictionary(ethnicity, ethnicities, file_name)\n",
        "\n",
        "      # ETHNICITIES\n",
        "      # 0: 5265 (White)\n",
        "      # 1: 406 (Black)\n",
        "      # 2: 1553 (Asian)\n",
        "      # 3: 1453 (Indian)\n",
        "      # 4: 1103 (Hispanic/Latino/Middle Eastern)\n",
        "if __name__ == \"__main__\":\n",
        "  main()"
      ],
      "metadata": {
        "collapsed": true,
        "id": "w8E_B59-dGOW"
      },
      "execution_count": 9,
      "outputs": []
    }
  ]
}