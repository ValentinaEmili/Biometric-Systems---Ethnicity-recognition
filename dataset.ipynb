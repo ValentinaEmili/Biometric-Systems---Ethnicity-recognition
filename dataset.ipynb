{
  "nbformat": 4,
  "nbformat_minor": 0,
  "metadata": {
    "colab": {
      "provenance": []
    },
    "kernelspec": {
      "name": "python3",
      "display_name": "Python 3"
    },
    "language_info": {
      "name": "python"
    }
  },
  "cells": [
    {
      "cell_type": "code",
      "execution_count": null,
      "metadata": {
        "id": "13H6Z9DPcFm9"
      },
      "outputs": [],
      "source": [
        "%pip install gdown"
      ]
    },
    {
      "cell_type": "code",
      "source": [
        "import gdown\n",
        "\n",
        "url = \"https://drive.google.com/drive/folders/1_z2a2W9ZmOhjz9FeNhn5GftGC-G-31N9?usp=share_link\"\n",
        "gdown.download_folder(url, quiet=True)"
      ],
      "metadata": {
        "id": "SzRqIlyhwUjj",
        "colab": {
          "base_uri": "https://localhost:8080/"
        },
        "outputId": "46ca9c8d-68bb-43e2-9216-4e9471be23b6"
      },
      "execution_count": 38,
      "outputs": [
        {
          "output_type": "execute_result",
          "data": {
            "text/plain": [
              "['/content/biometric_systems_project/part3.zip']"
            ]
          },
          "metadata": {},
          "execution_count": 38
        }
      ]
    },
    {
      "cell_type": "code",
      "source": [
        "# download the zip file from Google Drive containing the dataset\n",
        "# extract the zip file and create a folder containing the images\n",
        "import zipfile\n",
        "import os\n",
        "import cv2\n",
        "import shutil\n",
        "import numpy as np\n",
        "\n",
        "def main():\n",
        "  # folder containing the zip files and the one that will contains the images extracted from those files\n",
        "  folder_path = \"/content/biometric_systems_project\"\n",
        "  for file_name in os.listdir(folder_path):\n",
        "\n",
        "    # zipped files in the folder biometric_systems_dataset\n",
        "    if file_name.endswith(\".zip\"):\n",
        "\n",
        "      # full path to the zip file\n",
        "      file_path = os.path.join(folder_path, file_name)\n",
        "\n",
        "      # create folder in the same path with the name of the zip file\n",
        "      extract_folder = os.path.join(folder_path, file_name.replace(\".zip\", \"\"))\n",
        "      os.makedirs(extract_folder, exist_ok=True)\n",
        "      # open and extract the file\n",
        "      with zipfile.ZipFile(file_path, mode=\"r\") as zip_ref:\n",
        "        zip_ref.extractall(extract_folder)\n",
        "\n",
        "        for root, _, files in os.walk(extract_folder):\n",
        "          for image_file in files:\n",
        "            if image_file.lower().endswith('.jpg'):\n",
        "              source_file = os.path.join(root, image_file)\n",
        "              destination_file = os.path.join(folder_path, image_file)\n",
        "\n",
        "              # move the image file to the destination path\n",
        "              shutil.move(source_file, destination_file)\n",
        "\n",
        "        # remove the extracted folder and all its contents\n",
        "        shutil.rmtree(extract_folder)\n",
        "\n",
        "      ethnicities = dict()\n",
        "      for file_name in os.listdir(folder_path):\n",
        "        # skip non-images\n",
        "        if not file_name.lower().endswith(\".jpg\"):\n",
        "          continue\n",
        "        # rename pictures that start with \"._\"\n",
        "        if (file_name[0] == \".\"):\n",
        "          file_name = file_name[2:]\n",
        "        else:\n",
        "          age, gender, ethnicity, _ = file_name.split(\"_\")\n",
        "          if ethnicity not in ethnicities:\n",
        "            ethnicities[ethnicity] = 1\n",
        "          else:\n",
        "            ethnicities[ethnicity] += 1\n",
        "\n",
        "      print(ethnicities)\n",
        "      # ethnicities in file 3: {'0': 1814, '3': 3948, '2': 146, '1': 520, '4': 72}\n",
        "if __name__ == \"__main__\":\n",
        "  main()"
      ],
      "metadata": {
        "collapsed": true,
        "id": "w8E_B59-dGOW",
        "colab": {
          "base_uri": "https://localhost:8080/"
        },
        "outputId": "e14133b2-ed44-48b1-ee4a-0969f90523e2"
      },
      "execution_count": 47,
      "outputs": [
        {
          "output_type": "stream",
          "name": "stdout",
          "text": [
            "{'0': 1814, '3': 3948, '2': 146, '1': 520, '4': 72}\n"
          ]
        }
      ]
    }
  ]
}