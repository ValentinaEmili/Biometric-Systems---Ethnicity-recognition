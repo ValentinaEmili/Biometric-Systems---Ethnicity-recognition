{
  "nbformat": 4,
  "nbformat_minor": 0,
  "metadata": {
    "colab": {
      "provenance": [],
      "include_colab_link": true
    },
    "kernelspec": {
      "name": "python3",
      "display_name": "Python 3"
    },
    "language_info": {
      "name": "python"
    }
  },
  "cells": [
    {
      "cell_type": "markdown",
      "metadata": {
        "id": "view-in-github",
        "colab_type": "text"
      },
      "source": [
        "<a href=\"https://colab.research.google.com/github/ValentinaEmili/Ethnicity-recognition/blob/main/majority_voting.ipynb\" target=\"_parent\"><img src=\"https://colab.research.google.com/assets/colab-badge.svg\" alt=\"Open In Colab\"/></a>"
      ]
    },
    {
      "cell_type": "code",
      "execution_count": 5,
      "metadata": {
        "id": "1DK1SglTqoux"
      },
      "outputs": [],
      "source": [
        "import pandas as pd\n",
        "from tqdm import tqdm\n",
        "from sklearn.metrics import classification_report, accuracy_score\n",
        "\n",
        "def merged_results(path):\n",
        "  cnn_pred = pd.read_csv(f\"{path}/CNN_predictions.csv\")\n",
        "  lightGBM_pred = pd.read_csv(f\"{path}/LightGBM_predictions.csv\")\n",
        "  alexnet_pred = pd.read_csv(f\"{path}/alexnet_predictions.csv\")\n",
        "  svm_pred = pd.read_csv(f\"{path}/svm_predictions.csv\")\n",
        "  y_true = pd.read_csv(f\"{path}/true_values.csv\", index_col=False)\n",
        "\n",
        "  cnn_pred[\"Image_Name\"] = cnn_pred[\"Image_Name\"].str.replace(\".jpg\", \"\", regex=False)\n",
        "  lightGBM_pred[\"Image_Name\"] = lightGBM_pred[\"Image_Name\"].str.replace(\".jpg\", \"\", regex=False)\n",
        "  alexnet_pred[\"Image_Name\"] = alexnet_pred[\"Image_Name\"].str.replace(\".jpg\", \"\", regex=False)\n",
        "  svm_pred[\"Image_Name\"] = svm_pred[\"Image_Name\"].str.replace(\".npy\", \"\", regex=False)\n",
        "  y_true[\"Image_Name\"] = y_true[\"Image_Name\"].str.replace(\".npy\", \"\", regex=False)\n",
        "\n",
        "  cnn_pred = cnn_pred.set_index(\"Image_Name\").sort_index()\n",
        "  lightGBM_pred = lightGBM_pred.set_index(\"Image_Name\").sort_index()\n",
        "  alexnet_pred = alexnet_pred.set_index(\"Image_Name\").sort_index()\n",
        "  svm_pred = svm_pred.set_index(\"Image_Name\").sort_index()\n",
        "  y_true = y_true.set_index(\"Image_Name\").sort_index()\n",
        "\n",
        "  cnn_pred.rename(columns={\"Predicted_Class\": \"Predicted_class_cnn\"}, inplace=True)\n",
        "  lightGBM_pred.rename(columns={\"Predicted_Label\": \"Predicted_class_lightGBM\"}, inplace=True)\n",
        "  alexnet_pred.rename(columns={\"Predicted_Class\": \"Predicted_class_alexnet\"}, inplace=True)\n",
        "  svm_pred.rename(columns={\"Predicted_class\": \"Predicted_class_svm\"}, inplace=True)\n",
        "\n",
        "  merged = pd.concat([y_true, cnn_pred[\"Predicted_class_cnn\"], lightGBM_pred[\"Predicted_class_lightGBM\"], alexnet_pred[\"Predicted_class_alexnet\"], svm_pred[\"Predicted_class_svm\"]], axis=1)\n",
        "  return merged"
      ]
    },
    {
      "cell_type": "code",
      "source": [
        "def get_final_prediction(row):\n",
        "  counter = {0: 0, 1: 0, 2: 0, 3: 0, 4: 0}\n",
        "  counter[row[\"Predicted_class_cnn\"]] += 1\n",
        "  counter[row[\"Predicted_class_lightGBM\"]] += 1\n",
        "  counter[row[\"Predicted_class_alexnet\"]] += 1\n",
        "  counter[row[\"Predicted_class_svm\"]] += 1\n",
        "  return int(max(counter, key=counter.get))"
      ],
      "metadata": {
        "id": "FNTk6h3G2dE-"
      },
      "execution_count": 6,
      "outputs": []
    },
    {
      "cell_type": "code",
      "source": [
        "def main():\n",
        "  features = [\"eyes\", \"mouth\", \"nose\"]\n",
        "  for feature in features:\n",
        "    folder_path = f\"/content/{feature}\"\n",
        "    merged = merged_results(folder_path)\n",
        "    merged[\"Final_prediction\"] = merged.apply(get_final_prediction, axis=1)\n",
        "    print(f\"feature: {feature}\")\n",
        "    print(accuracy_score(merged[\"True_class\"], merged[\"Final_prediction\"]))\n",
        "    print(classification_report(merged[\"True_class\"], merged[\"Final_prediction\"]))\n",
        "\n",
        "if __name__ == \"__main__\":\n",
        "  main()"
      ],
      "metadata": {
        "id": "8MO-tgmQ37qX",
        "colab": {
          "base_uri": "https://localhost:8080/"
        },
        "outputId": "04809994-07d1-4336-ff10-dc3c3a8224ff"
      },
      "execution_count": 7,
      "outputs": [
        {
          "output_type": "stream",
          "name": "stdout",
          "text": [
            "feature: eyes\n",
            "0.7340871021775545\n",
            "              precision    recall  f1-score   support\n",
            "\n",
            "           0       0.71      0.90      0.79      2018\n",
            "           1       0.78      0.77      0.77       927\n",
            "           2       0.87      0.67      0.76       670\n",
            "           3       0.73      0.57      0.64       802\n",
            "           4       0.44      0.21      0.28       359\n",
            "\n",
            "    accuracy                           0.73      4776\n",
            "   macro avg       0.71      0.62      0.65      4776\n",
            "weighted avg       0.73      0.73      0.72      4776\n",
            "\n",
            "feature: mouth\n",
            "0.6656197654941374\n",
            "              precision    recall  f1-score   support\n",
            "\n",
            "           0       0.64      0.88      0.74      2018\n",
            "           1       0.76      0.81      0.78       927\n",
            "           2       0.60      0.36      0.45       670\n",
            "           3       0.67      0.46      0.55       802\n",
            "           4       0.51      0.09      0.15       359\n",
            "\n",
            "    accuracy                           0.67      4776\n",
            "   macro avg       0.64      0.52      0.54      4776\n",
            "weighted avg       0.66      0.67      0.63      4776\n",
            "\n",
            "feature: nose\n",
            "0.6790201005025126\n",
            "              precision    recall  f1-score   support\n",
            "\n",
            "           0       0.64      0.93      0.76      2018\n",
            "           1       0.74      0.70      0.72       927\n",
            "           2       0.79      0.55      0.65       670\n",
            "           3       0.72      0.42      0.53       802\n",
            "           4       0.53      0.06      0.10       359\n",
            "\n",
            "    accuracy                           0.68      4776\n",
            "   macro avg       0.68      0.53      0.55      4776\n",
            "weighted avg       0.68      0.68      0.65      4776\n",
            "\n"
          ]
        }
      ]
    }
  ]
}