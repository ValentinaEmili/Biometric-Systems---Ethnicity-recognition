{
  "nbformat": 4,
  "nbformat_minor": 0,
  "metadata": {
    "colab": {
      "provenance": [],
      "gpuType": "T4",
      "include_colab_link": true
    },
    "kernelspec": {
      "name": "python3",
      "display_name": "Python 3"
    },
    "language_info": {
      "name": "python"
    },
    "accelerator": "GPU"
  },
  "cells": [
    {
      "cell_type": "markdown",
      "metadata": {
        "id": "view-in-github",
        "colab_type": "text"
      },
      "source": [
        "<a href=\"https://colab.research.google.com/github/ValentinaEmili/Ethnicity-recognition/blob/main/majority_voting.ipynb\" target=\"_parent\"><img src=\"https://colab.research.google.com/assets/colab-badge.svg\" alt=\"Open In Colab\"/></a>"
      ]
    },
    {
      "cell_type": "code",
      "execution_count": null,
      "metadata": {
        "id": "1DK1SglTqoux"
      },
      "outputs": [],
      "source": [
        "import pandas as pd\n",
        "from tqdm import tqdm\n",
        "from sklearn.metrics import classification_report, accuracy_score\n",
        "\n",
        "def merged_results(path):\n",
        "  cnn_pred = pd.read_csv(f\"{path}/CNN_predictions.csv\")\n",
        "  lightGBM_pred = pd.read_csv(f\"{path}/LightGBM_predictions.csv\")\n",
        "  alexnet_pred = pd.read_csv(f\"{path}/alexnet_predictions.csv\")\n",
        "  svm_pred = pd.read_csv(f\"{path}/svm_predictions.csv\")\n",
        "  y_true = pd.read_csv(f\"{path}/true_values.csv\", index_col=False)\n",
        "\n",
        "  cnn_pred[\"Image_Name\"] = cnn_pred[\"Image_Name\"].str.replace(\".jpg\", \"\", regex=False)\n",
        "  lightGBM_pred[\"Image_Name\"] = lightGBM_pred[\"Image_Name\"].str.replace(\".jpg\", \"\", regex=False)\n",
        "  alexnet_pred[\"Image_Name\"] = alexnet_pred[\"Image_Name\"].str.replace(\".jpg\", \"\", regex=False)\n",
        "  svm_pred[\"Image_Name\"] = svm_pred[\"Image_Name\"].str.replace(\".npy\", \"\", regex=False)\n",
        "  y_true[\"Image_Name\"] = y_true[\"Image_Name\"].str.replace(\".npy\", \"\", regex=False)\n",
        "\n",
        "  cnn_pred = cnn_pred.set_index(\"Image_Name\").sort_index()\n",
        "  lightGBM_pred = lightGBM_pred.set_index(\"Image_Name\").sort_index()\n",
        "  alexnet_pred = alexnet_pred.set_index(\"Image_Name\").sort_index()\n",
        "  svm_pred = svm_pred.set_index(\"Image_Name\").sort_index()\n",
        "  y_true = y_true.set_index(\"Image_Name\").sort_index()\n",
        "\n",
        "  cnn_pred.rename(columns={\"Predicted_Class\": \"Predicted_class_cnn\"}, inplace=True)\n",
        "  lightGBM_pred.rename(columns={\"Predicted_Label\": \"Predicted_class_lightGBM\"}, inplace=True)\n",
        "  alexnet_pred.rename(columns={\"Predicted_Class\": \"Predicted_class_alexnet\"}, inplace=True)\n",
        "  svm_pred.rename(columns={\"Predicted_Class\": \"Predicted_class_svm\"}, inplace=True)\n",
        "\n",
        "  merged = pd.concat([y_true, cnn_pred[\"Predicted_class_cnn\"], lightGBM_pred[\"Predicted_class_lightGBM\"], alexnet_pred[\"Predicted_class_alexnet\"], svm_pred[\"Predicted_class_svm\"]], axis=1)\n",
        "  return merged"
      ]
    },
    {
      "cell_type": "code",
      "source": [
        "# ethnicity\n",
        "\n",
        "def get_prediction_eyes(row):\n",
        "  counter = {0: 0, 1: 0, 2: 0, 3: 0, 4: 0}\n",
        "  counter[row[\"Predicted_class_cnn\"]] += 0.3\n",
        "  counter[row[\"Predicted_class_lightGBM\"]] += 0.1\n",
        "  counter[row[\"Predicted_class_alexnet\"]] += 0.3\n",
        "  counter[row[\"Predicted_class_svm\"]] += 0.3\n",
        "  return int(max(counter, key=counter.get))\n",
        "\n",
        "def get_prediction_mouth(row):\n",
        "  counter = {0: 0, 1: 0, 2: 0, 3: 0, 4: 0}\n",
        "  counter[row[\"Predicted_class_cnn\"]] += 0.5\n",
        "  counter[row[\"Predicted_class_lightGBM\"]] += 0.2\n",
        "  counter[row[\"Predicted_class_alexnet\"]] += 0.4\n",
        "  counter[row[\"Predicted_class_svm\"]] += 0.4\n",
        "  return int(max(counter, key=counter.get))\n",
        "\n",
        "def get_prediction_nose(row):\n",
        "  counter = {0: 0, 1: 0, 2: 0, 3: 0, 4: 0}\n",
        "  counter[row[\"Predicted_class_cnn\"]] += 0.42\n",
        "  counter[row[\"Predicted_class_lightGBM\"]] += 0.1\n",
        "  counter[row[\"Predicted_class_alexnet\"]] += 0.5\n",
        "  counter[row[\"Predicted_class_svm\"]] += 0.6\n",
        "  return int(max(counter, key=counter.get))"
      ],
      "metadata": {
        "id": "btz6HoAWkkVO"
      },
      "execution_count": null,
      "outputs": []
    },
    {
      "cell_type": "code",
      "source": [
        "# age\n",
        "\n",
        "def get_prediction_eyes(row):\n",
        "  counter = {0: 0, 1: 0, 2: 0, 3: 0, 4: 0, 5:0, 6:0, 7:0}\n",
        "  counter[row[\"Predicted_class_cnn\"]] += 0.3\n",
        "  counter[row[\"Predicted_class_lightGBM\"]] += 0.1\n",
        "  counter[row[\"Predicted_class_alexnet\"]] += 0.3\n",
        "  counter[row[\"Predicted_class_svm\"]] += 0.3\n",
        "  return int(max(counter, key=counter.get))\n",
        "\n",
        "def get_prediction_mouth(row):\n",
        "  counter = {0: 0, 1: 0, 2: 0, 3: 0, 4: 0, 5:0, 6:0, 7:0}\n",
        "  counter[row[\"Predicted_class_cnn\"]] += 0.5\n",
        "  counter[row[\"Predicted_class_lightGBM\"]] += 0.2\n",
        "  counter[row[\"Predicted_class_alexnet\"]] += 0.4\n",
        "  counter[row[\"Predicted_class_svm\"]] += 0.4\n",
        "  return int(max(counter, key=counter.get))\n",
        "\n",
        "def get_prediction_nose(row):\n",
        "  counter = {0: 0, 1: 0, 2: 0, 3: 0, 4: 0, 5:0, 6:0, 7:0}\n",
        "  counter[row[\"Predicted_class_cnn\"]] += 0.42\n",
        "  counter[row[\"Predicted_class_lightGBM\"]] += 0.1\n",
        "  counter[row[\"Predicted_class_alexnet\"]] += 0.5\n",
        "  counter[row[\"Predicted_class_svm\"]] += 0.6\n",
        "  return int(max(counter, key=counter.get))"
      ],
      "metadata": {
        "id": "B1gX52kMkn0X"
      },
      "execution_count": null,
      "outputs": []
    },
    {
      "cell_type": "code",
      "source": [
        "# gender\n",
        "\n",
        "def get_prediction_eyes(row):\n",
        "  counter = {0: 0, 1: 0}\n",
        "  counter[row[\"Predicted_class_cnn\"]] += 0.3\n",
        "  counter[row[\"Predicted_class_lightGBM\"]] += 0.1\n",
        "  counter[row[\"Predicted_class_alexnet\"]] += 0.3\n",
        "  counter[row[\"Predicted_class_svm\"]] += 0.3\n",
        "  return int(max(counter, key=counter.get))\n",
        "\n",
        "def get_prediction_mouth(row):\n",
        "  counter = {0: 0, 1: 0}\n",
        "  counter[row[\"Predicted_class_cnn\"]] += 0.5\n",
        "  counter[row[\"Predicted_class_lightGBM\"]] += 0.2\n",
        "  counter[row[\"Predicted_class_alexnet\"]] += 0.4\n",
        "  counter[row[\"Predicted_class_svm\"]] += 0.4\n",
        "  return int(max(counter, key=counter.get))\n",
        "\n",
        "def get_prediction_nose(row):\n",
        "  counter = {0: 0, 1: 0}\n",
        "  counter[row[\"Predicted_class_cnn\"]] += 0.42\n",
        "  counter[row[\"Predicted_class_lightGBM\"]] += 0.1\n",
        "  counter[row[\"Predicted_class_alexnet\"]] += 0.5\n",
        "  counter[row[\"Predicted_class_svm\"]] += 0.6\n",
        "  return int(max(counter, key=counter.get))"
      ],
      "metadata": {
        "id": "90DDrR6okqbS"
      },
      "execution_count": null,
      "outputs": []
    },
    {
      "cell_type": "code",
      "source": [
        "def get_final_prediction(row, feature):\n",
        "  if feature == \"eyes\":\n",
        "    return get_prediction_eyes(row)\n",
        "  if feature == \"mouth\":\n",
        "    return get_prediction_mouth(row)\n",
        "  if feature == \"nose\":\n",
        "    return get_prediction_nose(row)"
      ],
      "metadata": {
        "id": "FNTk6h3G2dE-"
      },
      "execution_count": null,
      "outputs": []
    },
    {
      "cell_type": "code",
      "source": [
        "def main():\n",
        "  features = [\"eyes\", \"mouth\", \"nose\"]\n",
        "  for feature in features:\n",
        "    folder_path = f\"/content/{feature}\"\n",
        "    merged = merged_results(folder_path)\n",
        "    merged[\"Final_prediction\"] = merged.apply(lambda row: get_final_prediction(row, feature), axis=1)\n",
        "    print(f\"feature: {feature}\")\n",
        "    print(accuracy_score(merged[\"True_class\"], merged[\"Final_prediction\"]))\n",
        "    print(classification_report(merged[\"True_class\"], merged[\"Final_prediction\"]))\n",
        "\n",
        "if __name__ == \"__main__\":\n",
        "  main()"
      ],
      "metadata": {
        "id": "8MO-tgmQ37qX"
      },
      "execution_count": null,
      "outputs": []
    }
  ]
}