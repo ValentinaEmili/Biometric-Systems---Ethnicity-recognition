{
  "cells": [
    {
      "cell_type": "code",
      "execution_count": 2,
      "metadata": {
        "colab": {
          "base_uri": "https://localhost:8080/"
        },
        "id": "3AuMVkGrOLz8",
        "outputId": "244f29a4-3eed-4301-b8a2-6eb06fbfd7ab"
      },
      "outputs": [
        {
          "output_type": "stream",
          "name": "stdout",
          "text": [
            "Requirement already satisfied: gdown in /usr/local/lib/python3.10/dist-packages (5.2.0)\n",
            "Requirement already satisfied: beautifulsoup4 in /usr/local/lib/python3.10/dist-packages (from gdown) (4.12.3)\n",
            "Requirement already satisfied: filelock in /usr/local/lib/python3.10/dist-packages (from gdown) (3.16.1)\n",
            "Requirement already satisfied: requests[socks] in /usr/local/lib/python3.10/dist-packages (from gdown) (2.32.3)\n",
            "Requirement already satisfied: tqdm in /usr/local/lib/python3.10/dist-packages (from gdown) (4.67.1)\n",
            "Requirement already satisfied: soupsieve>1.2 in /usr/local/lib/python3.10/dist-packages (from beautifulsoup4->gdown) (2.6)\n",
            "Requirement already satisfied: charset-normalizer<4,>=2 in /usr/local/lib/python3.10/dist-packages (from requests[socks]->gdown) (3.4.0)\n",
            "Requirement already satisfied: idna<4,>=2.5 in /usr/local/lib/python3.10/dist-packages (from requests[socks]->gdown) (3.10)\n",
            "Requirement already satisfied: urllib3<3,>=1.21.1 in /usr/local/lib/python3.10/dist-packages (from requests[socks]->gdown) (2.2.3)\n",
            "Requirement already satisfied: certifi>=2017.4.17 in /usr/local/lib/python3.10/dist-packages (from requests[socks]->gdown) (2024.12.14)\n",
            "Requirement already satisfied: PySocks!=1.5.7,>=1.5.6 in /usr/local/lib/python3.10/dist-packages (from requests[socks]->gdown) (1.7.1)\n",
            "Requirement already satisfied: tqdm in /usr/local/lib/python3.10/dist-packages (4.67.1)\n"
          ]
        },
        {
          "output_type": "execute_result",
          "data": {
            "text/plain": [
              "['/content/Dataset/AlexNet.py',\n",
              " '/content/Dataset/custom_cnn.py',\n",
              " '/content/Dataset/Dataset_resized.zip']"
            ]
          },
          "metadata": {},
          "execution_count": 2
        }
      ],
      "source": [
        "%pip install gdown\n",
        "%pip install tqdm\n",
        "import gdown\n",
        "\n",
        "url = \"https://drive.google.com/drive/folders/1iYO-Kwh4RFq6mm5UNPTRO7te8T6jOA6f?usp=drive_link\"\n",
        "gdown.download_folder(url, quiet=True)"
      ]
    },
    {
      "cell_type": "code",
      "execution_count": 3,
      "metadata": {
        "id": "OmbewJL_PSOa",
        "colab": {
          "base_uri": "https://localhost:8080/"
        },
        "outputId": "1b4a7253-5f11-4661-ef20-9214ae97dd54"
      },
      "outputs": [
        {
          "output_type": "stream",
          "name": "stdout",
          "text": [
            "File zip Dataset/Dataset_resized.zip estratto e rimosso.\n",
            "Process completed!\n"
          ]
        }
      ],
      "source": [
        "import os\n",
        "import zipfile\n",
        "import shutil\n",
        "from tqdm import tqdm\n",
        "from collections import defaultdict\n",
        "from sklearn.model_selection import train_test_split\n",
        "import torch.nn as nn\n",
        "import torch.optim as optim\n",
        "from PIL import Image\n",
        "from torchvision import datasets, transforms, models\n",
        "from torch.utils.data import DataLoader, random_split, Dataset\n",
        "import matplotlib.pyplot as plt\n",
        "import numpy as np\n",
        "import torch\n",
        "from Dataset.custom_cnn import CNN\n",
        "from sklearn.metrics import classification_report, confusion_matrix\n",
        "from sklearn.model_selection import KFold\n",
        "from torch.utils.data import Subset\n",
        "import seaborn as sns\n",
        "import matplotlib.pyplot as plt\n",
        "import math\n",
        "\n",
        "\n",
        "# path of the dataset\n",
        "dataset_path = \"Dataset\"\n",
        "\n",
        "# extract zip files and remove them\n",
        "def extract_and_remove_zip(zip_path, extract_to):\n",
        "    \"\"\"\n",
        "    Estrae il contenuto di un file zip e poi elimina il file zip.\n",
        "    Args:\n",
        "        zip_path (str): percorso del file zip da estrarre.\n",
        "        extract_to (str): cartella di destinazione in cui estrarre i file.\n",
        "    \"\"\"\n",
        "    with zipfile.ZipFile(zip_path, 'r') as zip_ref:\n",
        "        zip_ref.extractall(extract_to)\n",
        "    os.remove(zip_path)\n",
        "    print(f\"File zip {zip_path} estratto e rimosso.\")\n",
        "\n",
        "zip_files = [f for f in os.listdir(dataset_path) if f.endswith('.zip')]\n",
        "for zip_file in zip_files:\n",
        "    zip_path = os.path.join(dataset_path, zip_file)\n",
        "    extract_and_remove_zip(zip_path, dataset_path)\n",
        "\n",
        "\n",
        "print(\"Process completed!\")\n",
        "\n",
        "\n"
      ]
    },
    {
      "cell_type": "markdown",
      "metadata": {
        "id": "TMJOTsQy2nqT"
      },
      "source": [
        "**Conteggio numero immagini per ogni set**"
      ]
    },
    {
      "cell_type": "code",
      "execution_count": 3,
      "metadata": {
        "id": "pbmxURG1p1yz",
        "colab": {
          "base_uri": "https://localhost:8080/"
        },
        "outputId": "78db2e15-38e1-4624-f96c-687394b5b10f"
      },
      "outputs": [
        {
          "output_type": "stream",
          "name": "stdout",
          "text": [
            "Cartella 'nose':\n",
            "  Train set: 18255 file\n",
            "  Test set: 4776 file\n",
            "Cartella 'mouth':\n",
            "  Train set: 18255 file\n",
            "  Test set: 4776 file\n",
            "Cartella '__pycache__':\n",
            "  Train set: 0 file\n",
            "  Test set: 0 file\n",
            "Cartella 'eyes':\n",
            "  Train set: 18255 file\n",
            "  Test set: 4776 file\n"
          ]
        }
      ],
      "source": [
        "dataset_path = \"Dataset\"\n",
        "for folder in os.listdir(dataset_path):\n",
        "    folder_path = os.path.join(dataset_path, folder)\n",
        "\n",
        "    if os.path.isdir(folder_path):\n",
        "        train_folder = os.path.join(folder_path, \"train\")\n",
        "        test_folder = os.path.join(folder_path, \"test\")\n",
        "\n",
        "        train_count = len([f for f in os.listdir(train_folder) if os.path.isfile(os.path.join(train_folder, f))]) if os.path.exists(train_folder) else 0\n",
        "        test_count = len([f for f in os.listdir(test_folder) if os.path.isfile(os.path.join(test_folder, f))]) if os.path.exists(test_folder) else 0\n",
        "\n",
        "        print(f\"Cartella '{folder}':\")\n",
        "        print(f\"  Train set: {train_count} file\")\n",
        "        print(f\"  Test set: {test_count} file\")"
      ]
    },
    {
      "cell_type": "code",
      "execution_count": 4,
      "metadata": {
        "id": "sjt1L2IxWeTz",
        "colab": {
          "base_uri": "https://localhost:8080/"
        },
        "outputId": "cd553f54-9d1d-4043-d6ed-d3c111ab3104"
      },
      "outputs": [
        {
          "output_type": "stream",
          "name": "stdout",
          "text": [
            "Using device: cuda\n"
          ]
        }
      ],
      "source": [
        "# Check if GPU is available\n",
        "device = torch.device('cuda' if torch.cuda.is_available() else 'cpu')\n",
        "print(f'Using device: {device}')"
      ]
    },
    {
      "cell_type": "code",
      "execution_count": 5,
      "metadata": {
        "id": "Lh0Zvz423z4-"
      },
      "outputs": [],
      "source": [
        "# Transform eyes (266 x 44)\n",
        "transform_eyes = transforms.Compose([\n",
        "    transforms.ToTensor(),\n",
        "    transforms.Normalize(mean = [0.56551169, 0.4201522,  0.35519068], std = [0.22746577, 0.20109357, 0.19388984])\n",
        "])\n",
        "\n",
        "# Transform nose (108x170)\n",
        "transform_nose = transforms.Compose([\n",
        "    transforms.ToTensor(),\n",
        "    transforms.Normalize(mean = [0.70585869, 0.5230923,  0.44163547], std = [0.19556989, 0.19164655, 0.19488743])\n",
        "])\n",
        "\n",
        "# Transform mouth (193x89)\n",
        "transform_mouth = transforms.Compose([\n",
        "    transforms.ToTensor(),\n",
        "    transforms.Normalize(mean = [0.64867712, 0.4592991,  0.39606173], std = [0.2005014,  0.18597975, 0.18335514])\n",
        "])\n",
        "\n",
        "class EthnicityDataset(Dataset):\n",
        "    def __init__(self, root_dir, transform=None):\n",
        "        self.root_dir = root_dir\n",
        "        self.transform = transform\n",
        "        self.images = []\n",
        "        self.labels = []\n",
        "\n",
        "        for filename in os.listdir(root_dir):\n",
        "            if filename.endswith(\".jpg\") or filename.endswith(\".png\"):\n",
        "                self.images.append(filename)\n",
        "\n",
        "                # extract labels\n",
        "                # example: eyes_100_1_0_20170112213001988\n",
        "                parts = filename.split('_')\n",
        "                if len(parts) >= 4:\n",
        "                    label = parts[3]  # fourth element (index 3)\n",
        "                    label_map = {\"0\": 0, \"1\": 1, \"2\": 2, \"3\": 3, \"4\": 4}  # Map ethnicities\n",
        "                    self.labels.append(label_map.get(label, -1))  # no ethnicity found\n",
        "\n",
        "    def __len__(self):\n",
        "        return len(self.images)\n",
        "\n",
        "    def __getitem__(self, idx):\n",
        "        image_name = self.images[idx]\n",
        "        image_path = os.path.join(self.root_dir, image_name)\n",
        "\n",
        "        try:\n",
        "            image = Image.open(image_path)\n",
        "        except Exception as e:\n",
        "            print(f\"Error: loading of the image {image_path}: {e}\")\n",
        "            return None, None\n",
        "\n",
        "        if self.transform:\n",
        "            image = self.transform(image)\n",
        "\n",
        "        label = self.labels[idx]\n",
        "\n",
        "        # Check if label is correct\n",
        "        if label == -1:\n",
        "            print(f\"Error: no label found {image_name}\")\n",
        "\n",
        "        return image, label"
      ]
    },
    {
      "cell_type": "code",
      "execution_count": 6,
      "metadata": {
        "id": "Yp9HKRYlu8DB"
      },
      "outputs": [],
      "source": [
        "e_x = 16\n",
        "e_y = 2\n",
        "n_x = 6\n",
        "n_y = 10\n",
        "m_x = 12\n",
        "m_y = 5\n",
        "\n",
        "hid_1 = 64\n",
        "hid_2 = 64\n",
        "hid_3 = 128\n",
        "hid_4 = 128\n",
        "hid_5 = 128\n",
        "hid_6 = 128\n",
        "drop_1 = 0.2\n",
        "drop_2 = 0.5\n",
        "\n",
        "\n",
        "class_names = [\"White\", \"Black\", \"Asian\", \"Indian\", \"Others\"]"
      ]
    },
    {
      "cell_type": "markdown",
      "metadata": {
        "id": "5Dkmi8jNsoKr"
      },
      "source": [
        "**EYES TRAINING VALIDATION AND TEST**"
      ]
    },
    {
      "cell_type": "code",
      "execution_count": 7,
      "metadata": {
        "id": "9Wj4z1i5Uuth",
        "colab": {
          "base_uri": "https://localhost:8080/"
        },
        "outputId": "25658e18-ab58-466d-a68f-d3b504743b61"
      },
      "outputs": [
        {
          "output_type": "stream",
          "name": "stdout",
          "text": [
            "Fold 1/5\n"
          ]
        },
        {
          "output_type": "stream",
          "name": "stderr",
          "text": [
            "Training Fold 1, Epoch 1: 100%|██████████| 229/229 [00:33<00:00,  6.88batch/s]\n"
          ]
        },
        {
          "output_type": "stream",
          "name": "stdout",
          "text": [
            "Fold 1, Epoch 1, Train Loss: 1.1299, Train Accuracy: 0.5772\n"
          ]
        },
        {
          "output_type": "stream",
          "name": "stderr",
          "text": [
            "Validating Fold 1, Epoch 1: 100%|██████████| 58/58 [00:03<00:00, 16.32batch/s]\n"
          ]
        },
        {
          "output_type": "stream",
          "name": "stdout",
          "text": [
            "New best model saved with Val Accuracy: 0.6275\n",
            "Fold 1, Epoch 1, Val Loss: 1.0055, Val Accuracy: 0.6275\n"
          ]
        },
        {
          "output_type": "stream",
          "name": "stderr",
          "text": [
            "Training Fold 1, Epoch 2: 100%|██████████| 229/229 [00:22<00:00,  9.97batch/s]\n"
          ]
        },
        {
          "output_type": "stream",
          "name": "stdout",
          "text": [
            "Fold 1, Epoch 2, Train Loss: 0.9375, Train Accuracy: 0.6559\n"
          ]
        },
        {
          "output_type": "stream",
          "name": "stderr",
          "text": [
            "Validating Fold 1, Epoch 2: 100%|██████████| 58/58 [00:03<00:00, 16.42batch/s]\n"
          ]
        },
        {
          "output_type": "stream",
          "name": "stdout",
          "text": [
            "New best model saved with Val Accuracy: 0.6472\n",
            "Fold 1, Epoch 2, Val Loss: 0.9100, Val Accuracy: 0.6472\n"
          ]
        },
        {
          "output_type": "stream",
          "name": "stderr",
          "text": [
            "Training Fold 1, Epoch 3: 100%|██████████| 229/229 [00:22<00:00,  9.98batch/s]\n"
          ]
        },
        {
          "output_type": "stream",
          "name": "stdout",
          "text": [
            "Fold 1, Epoch 3, Train Loss: 0.8733, Train Accuracy: 0.6795\n"
          ]
        },
        {
          "output_type": "stream",
          "name": "stderr",
          "text": [
            "Validating Fold 1, Epoch 3: 100%|██████████| 58/58 [00:03<00:00, 16.60batch/s]\n"
          ]
        },
        {
          "output_type": "stream",
          "name": "stdout",
          "text": [
            "New best model saved with Val Accuracy: 0.6664\n",
            "Fold 1, Epoch 3, Val Loss: 0.9054, Val Accuracy: 0.6664\n"
          ]
        },
        {
          "output_type": "stream",
          "name": "stderr",
          "text": [
            "Training Fold 1, Epoch 4: 100%|██████████| 229/229 [00:23<00:00,  9.88batch/s]\n"
          ]
        },
        {
          "output_type": "stream",
          "name": "stdout",
          "text": [
            "Fold 1, Epoch 4, Train Loss: 0.8220, Train Accuracy: 0.7043\n"
          ]
        },
        {
          "output_type": "stream",
          "name": "stderr",
          "text": [
            "Validating Fold 1, Epoch 4: 100%|██████████| 58/58 [00:03<00:00, 16.32batch/s]\n"
          ]
        },
        {
          "output_type": "stream",
          "name": "stdout",
          "text": [
            "New best model saved with Val Accuracy: 0.6998\n",
            "Fold 1, Epoch 4, Val Loss: 0.8075, Val Accuracy: 0.6998\n"
          ]
        },
        {
          "output_type": "stream",
          "name": "stderr",
          "text": [
            "Training Fold 1, Epoch 5: 100%|██████████| 229/229 [00:22<00:00,  9.99batch/s]\n"
          ]
        },
        {
          "output_type": "stream",
          "name": "stdout",
          "text": [
            "Fold 1, Epoch 5, Train Loss: 0.7749, Train Accuracy: 0.7195\n"
          ]
        },
        {
          "output_type": "stream",
          "name": "stderr",
          "text": [
            "Validating Fold 1, Epoch 5: 100%|██████████| 58/58 [00:03<00:00, 16.46batch/s]\n"
          ]
        },
        {
          "output_type": "stream",
          "name": "stdout",
          "text": [
            "Fold 1, Epoch 5, Val Loss: 0.8480, Val Accuracy: 0.6826\n"
          ]
        },
        {
          "output_type": "stream",
          "name": "stderr",
          "text": [
            "Training Fold 1, Epoch 6: 100%|██████████| 229/229 [00:23<00:00,  9.61batch/s]\n"
          ]
        },
        {
          "output_type": "stream",
          "name": "stdout",
          "text": [
            "Fold 1, Epoch 6, Train Loss: 0.7288, Train Accuracy: 0.7351\n"
          ]
        },
        {
          "output_type": "stream",
          "name": "stderr",
          "text": [
            "Validating Fold 1, Epoch 6: 100%|██████████| 58/58 [00:03<00:00, 16.84batch/s]\n"
          ]
        },
        {
          "output_type": "stream",
          "name": "stdout",
          "text": [
            "New best model saved with Val Accuracy: 0.7228\n",
            "Fold 1, Epoch 6, Val Loss: 0.7695, Val Accuracy: 0.7228\n"
          ]
        },
        {
          "output_type": "stream",
          "name": "stderr",
          "text": [
            "Training Fold 1, Epoch 7: 100%|██████████| 229/229 [00:22<00:00,  9.99batch/s]\n"
          ]
        },
        {
          "output_type": "stream",
          "name": "stdout",
          "text": [
            "Fold 1, Epoch 7, Train Loss: 0.6950, Train Accuracy: 0.7492\n"
          ]
        },
        {
          "output_type": "stream",
          "name": "stderr",
          "text": [
            "Validating Fold 1, Epoch 7: 100%|██████████| 58/58 [00:03<00:00, 16.38batch/s]\n"
          ]
        },
        {
          "output_type": "stream",
          "name": "stdout",
          "text": [
            "New best model saved with Val Accuracy: 0.7269\n",
            "Fold 1, Epoch 7, Val Loss: 0.7546, Val Accuracy: 0.7269\n"
          ]
        },
        {
          "output_type": "stream",
          "name": "stderr",
          "text": [
            "Training Fold 1, Epoch 8: 100%|██████████| 229/229 [00:23<00:00,  9.92batch/s]\n"
          ]
        },
        {
          "output_type": "stream",
          "name": "stdout",
          "text": [
            "Fold 1, Epoch 8, Train Loss: 0.6496, Train Accuracy: 0.7661\n"
          ]
        },
        {
          "output_type": "stream",
          "name": "stderr",
          "text": [
            "Validating Fold 1, Epoch 8: 100%|██████████| 58/58 [00:03<00:00, 15.11batch/s]\n"
          ]
        },
        {
          "output_type": "stream",
          "name": "stdout",
          "text": [
            "Fold 1, Epoch 8, Val Loss: 0.7738, Val Accuracy: 0.7212\n"
          ]
        },
        {
          "output_type": "stream",
          "name": "stderr",
          "text": [
            "Training Fold 1, Epoch 9: 100%|██████████| 229/229 [00:23<00:00,  9.90batch/s]\n"
          ]
        },
        {
          "output_type": "stream",
          "name": "stdout",
          "text": [
            "Fold 1, Epoch 9, Train Loss: 0.6134, Train Accuracy: 0.7790\n"
          ]
        },
        {
          "output_type": "stream",
          "name": "stderr",
          "text": [
            "Validating Fold 1, Epoch 9: 100%|██████████| 58/58 [00:04<00:00, 13.90batch/s]\n"
          ]
        },
        {
          "output_type": "stream",
          "name": "stdout",
          "text": [
            "New best model saved with Val Accuracy: 0.7343\n",
            "Fold 1, Epoch 9, Val Loss: 0.7487, Val Accuracy: 0.7343\n"
          ]
        },
        {
          "output_type": "stream",
          "name": "stderr",
          "text": [
            "Training Fold 1, Epoch 10: 100%|██████████| 229/229 [00:23<00:00,  9.91batch/s]\n"
          ]
        },
        {
          "output_type": "stream",
          "name": "stdout",
          "text": [
            "Fold 1, Epoch 10, Train Loss: 0.5797, Train Accuracy: 0.7916\n"
          ]
        },
        {
          "output_type": "stream",
          "name": "stderr",
          "text": [
            "Validating Fold 1, Epoch 10: 100%|██████████| 58/58 [00:04<00:00, 13.37batch/s]\n"
          ]
        },
        {
          "output_type": "stream",
          "name": "stdout",
          "text": [
            "Fold 1, Epoch 10, Val Loss: 0.7753, Val Accuracy: 0.7299\n"
          ]
        },
        {
          "output_type": "stream",
          "name": "stderr",
          "text": [
            "Training Fold 1, Epoch 11: 100%|██████████| 229/229 [00:23<00:00,  9.90batch/s]\n"
          ]
        },
        {
          "output_type": "stream",
          "name": "stdout",
          "text": [
            "Fold 1, Epoch 11, Train Loss: 0.5371, Train Accuracy: 0.8022\n"
          ]
        },
        {
          "output_type": "stream",
          "name": "stderr",
          "text": [
            "Validating Fold 1, Epoch 11: 100%|██████████| 58/58 [00:04<00:00, 14.13batch/s]\n"
          ]
        },
        {
          "output_type": "stream",
          "name": "stdout",
          "text": [
            "Fold 1, Epoch 11, Val Loss: 0.8022, Val Accuracy: 0.7217\n"
          ]
        },
        {
          "output_type": "stream",
          "name": "stderr",
          "text": [
            "Training Fold 1, Epoch 12: 100%|██████████| 229/229 [00:23<00:00,  9.87batch/s]\n"
          ]
        },
        {
          "output_type": "stream",
          "name": "stdout",
          "text": [
            "Fold 1, Epoch 12, Train Loss: 0.4976, Train Accuracy: 0.8185\n"
          ]
        },
        {
          "output_type": "stream",
          "name": "stderr",
          "text": [
            "Validating Fold 1, Epoch 12: 100%|██████████| 58/58 [00:03<00:00, 15.81batch/s]\n"
          ]
        },
        {
          "output_type": "stream",
          "name": "stdout",
          "text": [
            "Fold 1, Epoch 12, Val Loss: 0.8007, Val Accuracy: 0.7253\n",
            "Fold 2/5\n"
          ]
        },
        {
          "output_type": "stream",
          "name": "stderr",
          "text": [
            "Training Fold 2, Epoch 1: 100%|██████████| 229/229 [00:23<00:00,  9.84batch/s]\n"
          ]
        },
        {
          "output_type": "stream",
          "name": "stdout",
          "text": [
            "Fold 2, Epoch 1, Train Loss: 1.1477, Train Accuracy: 0.5643\n"
          ]
        },
        {
          "output_type": "stream",
          "name": "stderr",
          "text": [
            "Validating Fold 2, Epoch 1: 100%|██████████| 58/58 [00:03<00:00, 16.15batch/s]\n"
          ]
        },
        {
          "output_type": "stream",
          "name": "stdout",
          "text": [
            "Fold 2, Epoch 1, Val Loss: 0.9274, Val Accuracy: 0.6464\n"
          ]
        },
        {
          "output_type": "stream",
          "name": "stderr",
          "text": [
            "Training Fold 2, Epoch 2: 100%|██████████| 229/229 [00:23<00:00,  9.81batch/s]\n"
          ]
        },
        {
          "output_type": "stream",
          "name": "stdout",
          "text": [
            "Fold 2, Epoch 2, Train Loss: 0.9521, Train Accuracy: 0.6476\n"
          ]
        },
        {
          "output_type": "stream",
          "name": "stderr",
          "text": [
            "Validating Fold 2, Epoch 2: 100%|██████████| 58/58 [00:03<00:00, 16.14batch/s]\n"
          ]
        },
        {
          "output_type": "stream",
          "name": "stdout",
          "text": [
            "Fold 2, Epoch 2, Val Loss: 0.8921, Val Accuracy: 0.6730\n"
          ]
        },
        {
          "output_type": "stream",
          "name": "stderr",
          "text": [
            "Training Fold 2, Epoch 3: 100%|██████████| 229/229 [00:23<00:00,  9.80batch/s]\n"
          ]
        },
        {
          "output_type": "stream",
          "name": "stdout",
          "text": [
            "Fold 2, Epoch 3, Train Loss: 0.8827, Train Accuracy: 0.6796\n"
          ]
        },
        {
          "output_type": "stream",
          "name": "stderr",
          "text": [
            "Validating Fold 2, Epoch 3: 100%|██████████| 58/58 [00:03<00:00, 16.45batch/s]\n"
          ]
        },
        {
          "output_type": "stream",
          "name": "stdout",
          "text": [
            "Fold 2, Epoch 3, Val Loss: 0.8649, Val Accuracy: 0.6856\n"
          ]
        },
        {
          "output_type": "stream",
          "name": "stderr",
          "text": [
            "Training Fold 2, Epoch 4: 100%|██████████| 229/229 [00:23<00:00,  9.95batch/s]\n"
          ]
        },
        {
          "output_type": "stream",
          "name": "stdout",
          "text": [
            "Fold 2, Epoch 4, Train Loss: 0.8292, Train Accuracy: 0.6989\n"
          ]
        },
        {
          "output_type": "stream",
          "name": "stderr",
          "text": [
            "Validating Fold 2, Epoch 4: 100%|██████████| 58/58 [00:03<00:00, 16.68batch/s]\n"
          ]
        },
        {
          "output_type": "stream",
          "name": "stdout",
          "text": [
            "Fold 2, Epoch 4, Val Loss: 0.8505, Val Accuracy: 0.6908\n"
          ]
        },
        {
          "output_type": "stream",
          "name": "stderr",
          "text": [
            "Training Fold 2, Epoch 5: 100%|██████████| 229/229 [00:22<00:00,  9.97batch/s]\n"
          ]
        },
        {
          "output_type": "stream",
          "name": "stdout",
          "text": [
            "Fold 2, Epoch 5, Train Loss: 0.7846, Train Accuracy: 0.7190\n"
          ]
        },
        {
          "output_type": "stream",
          "name": "stderr",
          "text": [
            "Validating Fold 2, Epoch 5: 100%|██████████| 58/58 [00:03<00:00, 16.83batch/s]\n"
          ]
        },
        {
          "output_type": "stream",
          "name": "stdout",
          "text": [
            "Fold 2, Epoch 5, Val Loss: 0.7585, Val Accuracy: 0.7201\n"
          ]
        },
        {
          "output_type": "stream",
          "name": "stderr",
          "text": [
            "Training Fold 2, Epoch 6: 100%|██████████| 229/229 [00:22<00:00, 10.03batch/s]\n"
          ]
        },
        {
          "output_type": "stream",
          "name": "stdout",
          "text": [
            "Fold 2, Epoch 6, Train Loss: 0.7311, Train Accuracy: 0.7354\n"
          ]
        },
        {
          "output_type": "stream",
          "name": "stderr",
          "text": [
            "Validating Fold 2, Epoch 6: 100%|██████████| 58/58 [00:03<00:00, 16.81batch/s]\n"
          ]
        },
        {
          "output_type": "stream",
          "name": "stdout",
          "text": [
            "Fold 2, Epoch 6, Val Loss: 0.7938, Val Accuracy: 0.7130\n"
          ]
        },
        {
          "output_type": "stream",
          "name": "stderr",
          "text": [
            "Training Fold 2, Epoch 7: 100%|██████████| 229/229 [00:22<00:00, 10.06batch/s]\n"
          ]
        },
        {
          "output_type": "stream",
          "name": "stdout",
          "text": [
            "Fold 2, Epoch 7, Train Loss: 0.7028, Train Accuracy: 0.7442\n"
          ]
        },
        {
          "output_type": "stream",
          "name": "stderr",
          "text": [
            "Validating Fold 2, Epoch 7: 100%|██████████| 58/58 [00:03<00:00, 16.83batch/s]\n"
          ]
        },
        {
          "output_type": "stream",
          "name": "stdout",
          "text": [
            "Fold 2, Epoch 7, Val Loss: 0.7555, Val Accuracy: 0.7253\n"
          ]
        },
        {
          "output_type": "stream",
          "name": "stderr",
          "text": [
            "Training Fold 2, Epoch 8: 100%|██████████| 229/229 [00:22<00:00,  9.97batch/s]\n"
          ]
        },
        {
          "output_type": "stream",
          "name": "stdout",
          "text": [
            "Fold 2, Epoch 8, Train Loss: 0.6717, Train Accuracy: 0.7562\n"
          ]
        },
        {
          "output_type": "stream",
          "name": "stderr",
          "text": [
            "Validating Fold 2, Epoch 8: 100%|██████████| 58/58 [00:03<00:00, 16.64batch/s]\n"
          ]
        },
        {
          "output_type": "stream",
          "name": "stdout",
          "text": [
            "Fold 2, Epoch 8, Val Loss: 0.7384, Val Accuracy: 0.7335\n"
          ]
        },
        {
          "output_type": "stream",
          "name": "stderr",
          "text": [
            "Training Fold 2, Epoch 9: 100%|██████████| 229/229 [00:22<00:00, 10.00batch/s]\n"
          ]
        },
        {
          "output_type": "stream",
          "name": "stdout",
          "text": [
            "Fold 2, Epoch 9, Train Loss: 0.6261, Train Accuracy: 0.7773\n"
          ]
        },
        {
          "output_type": "stream",
          "name": "stderr",
          "text": [
            "Validating Fold 2, Epoch 9: 100%|██████████| 58/58 [00:03<00:00, 16.64batch/s]\n"
          ]
        },
        {
          "output_type": "stream",
          "name": "stdout",
          "text": [
            "Fold 2, Epoch 9, Val Loss: 0.7581, Val Accuracy: 0.7343\n"
          ]
        },
        {
          "output_type": "stream",
          "name": "stderr",
          "text": [
            "Training Fold 2, Epoch 10: 100%|██████████| 229/229 [00:22<00:00, 10.02batch/s]\n"
          ]
        },
        {
          "output_type": "stream",
          "name": "stdout",
          "text": [
            "Fold 2, Epoch 10, Train Loss: 0.5843, Train Accuracy: 0.7896\n"
          ]
        },
        {
          "output_type": "stream",
          "name": "stderr",
          "text": [
            "Validating Fold 2, Epoch 10: 100%|██████████| 58/58 [00:03<00:00, 16.88batch/s]\n"
          ]
        },
        {
          "output_type": "stream",
          "name": "stdout",
          "text": [
            "Fold 2, Epoch 10, Val Loss: 0.7709, Val Accuracy: 0.7272\n"
          ]
        },
        {
          "output_type": "stream",
          "name": "stderr",
          "text": [
            "Training Fold 2, Epoch 11: 100%|██████████| 229/229 [00:22<00:00, 10.01batch/s]\n"
          ]
        },
        {
          "output_type": "stream",
          "name": "stdout",
          "text": [
            "Fold 2, Epoch 11, Train Loss: 0.5488, Train Accuracy: 0.8031\n"
          ]
        },
        {
          "output_type": "stream",
          "name": "stderr",
          "text": [
            "Validating Fold 2, Epoch 11: 100%|██████████| 58/58 [00:03<00:00, 16.63batch/s]\n"
          ]
        },
        {
          "output_type": "stream",
          "name": "stdout",
          "text": [
            "New best model saved with Val Accuracy: 0.7409\n",
            "Fold 2, Epoch 11, Val Loss: 0.7471, Val Accuracy: 0.7409\n"
          ]
        },
        {
          "output_type": "stream",
          "name": "stderr",
          "text": [
            "Training Fold 2, Epoch 12: 100%|██████████| 229/229 [00:22<00:00, 10.03batch/s]\n"
          ]
        },
        {
          "output_type": "stream",
          "name": "stdout",
          "text": [
            "Fold 2, Epoch 12, Train Loss: 0.5042, Train Accuracy: 0.8204\n"
          ]
        },
        {
          "output_type": "stream",
          "name": "stderr",
          "text": [
            "Validating Fold 2, Epoch 12: 100%|██████████| 58/58 [00:03<00:00, 15.43batch/s]\n"
          ]
        },
        {
          "output_type": "stream",
          "name": "stdout",
          "text": [
            "Fold 2, Epoch 12, Val Loss: 0.8106, Val Accuracy: 0.7245\n",
            "Fold 3/5\n"
          ]
        },
        {
          "output_type": "stream",
          "name": "stderr",
          "text": [
            "Training Fold 3, Epoch 1: 100%|██████████| 229/229 [00:22<00:00,  9.97batch/s]\n"
          ]
        },
        {
          "output_type": "stream",
          "name": "stdout",
          "text": [
            "Fold 3, Epoch 1, Train Loss: 1.1453, Train Accuracy: 0.5691\n"
          ]
        },
        {
          "output_type": "stream",
          "name": "stderr",
          "text": [
            "Validating Fold 3, Epoch 1: 100%|██████████| 58/58 [00:03<00:00, 14.98batch/s]\n"
          ]
        },
        {
          "output_type": "stream",
          "name": "stdout",
          "text": [
            "Fold 3, Epoch 1, Val Loss: 1.0858, Val Accuracy: 0.5960\n"
          ]
        },
        {
          "output_type": "stream",
          "name": "stderr",
          "text": [
            "Training Fold 3, Epoch 2: 100%|██████████| 229/229 [00:22<00:00,  9.99batch/s]\n"
          ]
        },
        {
          "output_type": "stream",
          "name": "stdout",
          "text": [
            "Fold 3, Epoch 2, Train Loss: 0.9613, Train Accuracy: 0.6439\n"
          ]
        },
        {
          "output_type": "stream",
          "name": "stderr",
          "text": [
            "Validating Fold 3, Epoch 2: 100%|██████████| 58/58 [00:04<00:00, 14.20batch/s]\n"
          ]
        },
        {
          "output_type": "stream",
          "name": "stdout",
          "text": [
            "Fold 3, Epoch 2, Val Loss: 0.9034, Val Accuracy: 0.6738\n"
          ]
        },
        {
          "output_type": "stream",
          "name": "stderr",
          "text": [
            "Training Fold 3, Epoch 3: 100%|██████████| 229/229 [00:22<00:00, 10.05batch/s]\n"
          ]
        },
        {
          "output_type": "stream",
          "name": "stdout",
          "text": [
            "Fold 3, Epoch 3, Train Loss: 0.8840, Train Accuracy: 0.6743\n"
          ]
        },
        {
          "output_type": "stream",
          "name": "stderr",
          "text": [
            "Validating Fold 3, Epoch 3: 100%|██████████| 58/58 [00:04<00:00, 13.68batch/s]\n"
          ]
        },
        {
          "output_type": "stream",
          "name": "stdout",
          "text": [
            "Fold 3, Epoch 3, Val Loss: 0.9305, Val Accuracy: 0.6768\n"
          ]
        },
        {
          "output_type": "stream",
          "name": "stderr",
          "text": [
            "Training Fold 3, Epoch 4: 100%|██████████| 229/229 [00:22<00:00, 10.07batch/s]\n"
          ]
        },
        {
          "output_type": "stream",
          "name": "stdout",
          "text": [
            "Fold 3, Epoch 4, Train Loss: 0.8249, Train Accuracy: 0.6985\n"
          ]
        },
        {
          "output_type": "stream",
          "name": "stderr",
          "text": [
            "Validating Fold 3, Epoch 4: 100%|██████████| 58/58 [00:04<00:00, 14.01batch/s]\n"
          ]
        },
        {
          "output_type": "stream",
          "name": "stdout",
          "text": [
            "Fold 3, Epoch 4, Val Loss: 0.9167, Val Accuracy: 0.6721\n"
          ]
        },
        {
          "output_type": "stream",
          "name": "stderr",
          "text": [
            "Training Fold 3, Epoch 5: 100%|██████████| 229/229 [00:22<00:00, 10.05batch/s]\n"
          ]
        },
        {
          "output_type": "stream",
          "name": "stdout",
          "text": [
            "Fold 3, Epoch 5, Train Loss: 0.7928, Train Accuracy: 0.7154\n"
          ]
        },
        {
          "output_type": "stream",
          "name": "stderr",
          "text": [
            "Validating Fold 3, Epoch 5: 100%|██████████| 58/58 [00:03<00:00, 14.72batch/s]\n"
          ]
        },
        {
          "output_type": "stream",
          "name": "stdout",
          "text": [
            "Fold 3, Epoch 5, Val Loss: 0.8106, Val Accuracy: 0.7176\n"
          ]
        },
        {
          "output_type": "stream",
          "name": "stderr",
          "text": [
            "Training Fold 3, Epoch 6: 100%|██████████| 229/229 [00:22<00:00, 10.05batch/s]\n"
          ]
        },
        {
          "output_type": "stream",
          "name": "stdout",
          "text": [
            "Fold 3, Epoch 6, Train Loss: 0.7525, Train Accuracy: 0.7275\n"
          ]
        },
        {
          "output_type": "stream",
          "name": "stderr",
          "text": [
            "Validating Fold 3, Epoch 6: 100%|██████████| 58/58 [00:03<00:00, 14.72batch/s]\n"
          ]
        },
        {
          "output_type": "stream",
          "name": "stdout",
          "text": [
            "Fold 3, Epoch 6, Val Loss: 0.7991, Val Accuracy: 0.7154\n"
          ]
        },
        {
          "output_type": "stream",
          "name": "stderr",
          "text": [
            "Training Fold 3, Epoch 7: 100%|██████████| 229/229 [00:22<00:00,  9.99batch/s]\n"
          ]
        },
        {
          "output_type": "stream",
          "name": "stdout",
          "text": [
            "Fold 3, Epoch 7, Train Loss: 0.7155, Train Accuracy: 0.7437\n"
          ]
        },
        {
          "output_type": "stream",
          "name": "stderr",
          "text": [
            "Validating Fold 3, Epoch 7: 100%|██████████| 58/58 [00:03<00:00, 15.59batch/s]\n"
          ]
        },
        {
          "output_type": "stream",
          "name": "stdout",
          "text": [
            "Fold 3, Epoch 7, Val Loss: 0.7793, Val Accuracy: 0.7297\n"
          ]
        },
        {
          "output_type": "stream",
          "name": "stderr",
          "text": [
            "Training Fold 3, Epoch 8: 100%|██████████| 229/229 [00:23<00:00,  9.93batch/s]\n"
          ]
        },
        {
          "output_type": "stream",
          "name": "stdout",
          "text": [
            "Fold 3, Epoch 8, Train Loss: 0.6751, Train Accuracy: 0.7597\n"
          ]
        },
        {
          "output_type": "stream",
          "name": "stderr",
          "text": [
            "Validating Fold 3, Epoch 8: 100%|██████████| 58/58 [00:03<00:00, 16.28batch/s]\n"
          ]
        },
        {
          "output_type": "stream",
          "name": "stdout",
          "text": [
            "Fold 3, Epoch 8, Val Loss: 0.8230, Val Accuracy: 0.7127\n"
          ]
        },
        {
          "output_type": "stream",
          "name": "stderr",
          "text": [
            "Training Fold 3, Epoch 9: 100%|██████████| 229/229 [00:22<00:00,  9.96batch/s]\n"
          ]
        },
        {
          "output_type": "stream",
          "name": "stdout",
          "text": [
            "Fold 3, Epoch 9, Train Loss: 0.6342, Train Accuracy: 0.7710\n"
          ]
        },
        {
          "output_type": "stream",
          "name": "stderr",
          "text": [
            "Validating Fold 3, Epoch 9: 100%|██████████| 58/58 [00:03<00:00, 16.68batch/s]\n"
          ]
        },
        {
          "output_type": "stream",
          "name": "stdout",
          "text": [
            "Fold 3, Epoch 9, Val Loss: 0.7826, Val Accuracy: 0.7297\n"
          ]
        },
        {
          "output_type": "stream",
          "name": "stderr",
          "text": [
            "Training Fold 3, Epoch 10: 100%|██████████| 229/229 [00:22<00:00,  9.97batch/s]\n"
          ]
        },
        {
          "output_type": "stream",
          "name": "stdout",
          "text": [
            "Fold 3, Epoch 10, Train Loss: 0.6055, Train Accuracy: 0.7795\n"
          ]
        },
        {
          "output_type": "stream",
          "name": "stderr",
          "text": [
            "Validating Fold 3, Epoch 10: 100%|██████████| 58/58 [00:03<00:00, 16.90batch/s]\n"
          ]
        },
        {
          "output_type": "stream",
          "name": "stdout",
          "text": [
            "Fold 3, Epoch 10, Val Loss: 0.7646, Val Accuracy: 0.7319\n"
          ]
        },
        {
          "output_type": "stream",
          "name": "stderr",
          "text": [
            "Training Fold 3, Epoch 11: 100%|██████████| 229/229 [00:22<00:00,  9.98batch/s]\n"
          ]
        },
        {
          "output_type": "stream",
          "name": "stdout",
          "text": [
            "Fold 3, Epoch 11, Train Loss: 0.5560, Train Accuracy: 0.7990\n"
          ]
        },
        {
          "output_type": "stream",
          "name": "stderr",
          "text": [
            "Validating Fold 3, Epoch 11: 100%|██████████| 58/58 [00:03<00:00, 16.33batch/s]\n"
          ]
        },
        {
          "output_type": "stream",
          "name": "stdout",
          "text": [
            "Fold 3, Epoch 11, Val Loss: 0.7780, Val Accuracy: 0.7253\n"
          ]
        },
        {
          "output_type": "stream",
          "name": "stderr",
          "text": [
            "Training Fold 3, Epoch 12: 100%|██████████| 229/229 [00:22<00:00,  9.96batch/s]\n"
          ]
        },
        {
          "output_type": "stream",
          "name": "stdout",
          "text": [
            "Fold 3, Epoch 12, Train Loss: 0.5232, Train Accuracy: 0.8122\n"
          ]
        },
        {
          "output_type": "stream",
          "name": "stderr",
          "text": [
            "Validating Fold 3, Epoch 12: 100%|██████████| 58/58 [00:03<00:00, 16.49batch/s]\n"
          ]
        },
        {
          "output_type": "stream",
          "name": "stdout",
          "text": [
            "Fold 3, Epoch 12, Val Loss: 0.7651, Val Accuracy: 0.7286\n",
            "Fold 4/5\n"
          ]
        },
        {
          "output_type": "stream",
          "name": "stderr",
          "text": [
            "Training Fold 4, Epoch 1: 100%|██████████| 229/229 [00:22<00:00, 10.01batch/s]\n"
          ]
        },
        {
          "output_type": "stream",
          "name": "stdout",
          "text": [
            "Fold 4, Epoch 1, Train Loss: 1.1207, Train Accuracy: 0.5761\n"
          ]
        },
        {
          "output_type": "stream",
          "name": "stderr",
          "text": [
            "Validating Fold 4, Epoch 1: 100%|██████████| 58/58 [00:03<00:00, 16.74batch/s]\n"
          ]
        },
        {
          "output_type": "stream",
          "name": "stdout",
          "text": [
            "Fold 4, Epoch 1, Val Loss: 0.9832, Val Accuracy: 0.6376\n"
          ]
        },
        {
          "output_type": "stream",
          "name": "stderr",
          "text": [
            "Training Fold 4, Epoch 2: 100%|██████████| 229/229 [00:23<00:00,  9.91batch/s]\n"
          ]
        },
        {
          "output_type": "stream",
          "name": "stdout",
          "text": [
            "Fold 4, Epoch 2, Train Loss: 0.9529, Train Accuracy: 0.6500\n"
          ]
        },
        {
          "output_type": "stream",
          "name": "stderr",
          "text": [
            "Validating Fold 4, Epoch 2: 100%|██████████| 58/58 [00:03<00:00, 16.89batch/s]\n"
          ]
        },
        {
          "output_type": "stream",
          "name": "stdout",
          "text": [
            "Fold 4, Epoch 2, Val Loss: 0.9511, Val Accuracy: 0.6478\n"
          ]
        },
        {
          "output_type": "stream",
          "name": "stderr",
          "text": [
            "Training Fold 4, Epoch 3: 100%|██████████| 229/229 [00:22<00:00,  9.98batch/s]\n"
          ]
        },
        {
          "output_type": "stream",
          "name": "stdout",
          "text": [
            "Fold 4, Epoch 3, Train Loss: 0.8700, Train Accuracy: 0.6826\n"
          ]
        },
        {
          "output_type": "stream",
          "name": "stderr",
          "text": [
            "Validating Fold 4, Epoch 3: 100%|██████████| 58/58 [00:03<00:00, 16.64batch/s]\n"
          ]
        },
        {
          "output_type": "stream",
          "name": "stdout",
          "text": [
            "Fold 4, Epoch 3, Val Loss: 0.8505, Val Accuracy: 0.6954\n"
          ]
        },
        {
          "output_type": "stream",
          "name": "stderr",
          "text": [
            "Training Fold 4, Epoch 4: 100%|██████████| 229/229 [00:22<00:00,  9.99batch/s]\n"
          ]
        },
        {
          "output_type": "stream",
          "name": "stdout",
          "text": [
            "Fold 4, Epoch 4, Train Loss: 0.8237, Train Accuracy: 0.7004\n"
          ]
        },
        {
          "output_type": "stream",
          "name": "stderr",
          "text": [
            "Validating Fold 4, Epoch 4: 100%|██████████| 58/58 [00:03<00:00, 16.67batch/s]\n"
          ]
        },
        {
          "output_type": "stream",
          "name": "stdout",
          "text": [
            "Fold 4, Epoch 4, Val Loss: 0.8718, Val Accuracy: 0.6921\n"
          ]
        },
        {
          "output_type": "stream",
          "name": "stderr",
          "text": [
            "Training Fold 4, Epoch 5: 100%|██████████| 229/229 [00:23<00:00,  9.90batch/s]\n"
          ]
        },
        {
          "output_type": "stream",
          "name": "stdout",
          "text": [
            "Fold 4, Epoch 5, Train Loss: 0.7755, Train Accuracy: 0.7199\n"
          ]
        },
        {
          "output_type": "stream",
          "name": "stderr",
          "text": [
            "Validating Fold 4, Epoch 5: 100%|██████████| 58/58 [00:03<00:00, 16.61batch/s]\n"
          ]
        },
        {
          "output_type": "stream",
          "name": "stdout",
          "text": [
            "Fold 4, Epoch 5, Val Loss: 0.8181, Val Accuracy: 0.7004\n"
          ]
        },
        {
          "output_type": "stream",
          "name": "stderr",
          "text": [
            "Training Fold 4, Epoch 6: 100%|██████████| 229/229 [00:23<00:00,  9.91batch/s]\n"
          ]
        },
        {
          "output_type": "stream",
          "name": "stdout",
          "text": [
            "Fold 4, Epoch 6, Train Loss: 0.7310, Train Accuracy: 0.7340\n"
          ]
        },
        {
          "output_type": "stream",
          "name": "stderr",
          "text": [
            "Validating Fold 4, Epoch 6: 100%|██████████| 58/58 [00:03<00:00, 16.79batch/s]\n"
          ]
        },
        {
          "output_type": "stream",
          "name": "stdout",
          "text": [
            "Fold 4, Epoch 6, Val Loss: 0.8859, Val Accuracy: 0.6949\n"
          ]
        },
        {
          "output_type": "stream",
          "name": "stderr",
          "text": [
            "Training Fold 4, Epoch 7: 100%|██████████| 229/229 [00:22<00:00,  9.98batch/s]\n"
          ]
        },
        {
          "output_type": "stream",
          "name": "stdout",
          "text": [
            "Fold 4, Epoch 7, Train Loss: 0.6974, Train Accuracy: 0.7472\n"
          ]
        },
        {
          "output_type": "stream",
          "name": "stderr",
          "text": [
            "Validating Fold 4, Epoch 7: 100%|██████████| 58/58 [00:03<00:00, 16.26batch/s]\n"
          ]
        },
        {
          "output_type": "stream",
          "name": "stdout",
          "text": [
            "Fold 4, Epoch 7, Val Loss: 0.8217, Val Accuracy: 0.7160\n"
          ]
        },
        {
          "output_type": "stream",
          "name": "stderr",
          "text": [
            "Training Fold 4, Epoch 8: 100%|██████████| 229/229 [00:22<00:00,  9.99batch/s]\n"
          ]
        },
        {
          "output_type": "stream",
          "name": "stdout",
          "text": [
            "Fold 4, Epoch 8, Train Loss: 0.6597, Train Accuracy: 0.7625\n"
          ]
        },
        {
          "output_type": "stream",
          "name": "stderr",
          "text": [
            "Validating Fold 4, Epoch 8: 100%|██████████| 58/58 [00:03<00:00, 15.76batch/s]\n"
          ]
        },
        {
          "output_type": "stream",
          "name": "stdout",
          "text": [
            "Fold 4, Epoch 8, Val Loss: 0.7994, Val Accuracy: 0.7245\n"
          ]
        },
        {
          "output_type": "stream",
          "name": "stderr",
          "text": [
            "Training Fold 4, Epoch 9: 100%|██████████| 229/229 [00:22<00:00, 10.00batch/s]\n"
          ]
        },
        {
          "output_type": "stream",
          "name": "stdout",
          "text": [
            "Fold 4, Epoch 9, Train Loss: 0.6251, Train Accuracy: 0.7748\n"
          ]
        },
        {
          "output_type": "stream",
          "name": "stderr",
          "text": [
            "Validating Fold 4, Epoch 9: 100%|██████████| 58/58 [00:03<00:00, 14.59batch/s]\n"
          ]
        },
        {
          "output_type": "stream",
          "name": "stdout",
          "text": [
            "Fold 4, Epoch 9, Val Loss: 0.8111, Val Accuracy: 0.7127\n"
          ]
        },
        {
          "output_type": "stream",
          "name": "stderr",
          "text": [
            "Training Fold 4, Epoch 10: 100%|██████████| 229/229 [00:22<00:00, 10.04batch/s]\n"
          ]
        },
        {
          "output_type": "stream",
          "name": "stdout",
          "text": [
            "Fold 4, Epoch 10, Train Loss: 0.5893, Train Accuracy: 0.7896\n"
          ]
        },
        {
          "output_type": "stream",
          "name": "stderr",
          "text": [
            "Validating Fold 4, Epoch 10: 100%|██████████| 58/58 [00:04<00:00, 13.97batch/s]\n"
          ]
        },
        {
          "output_type": "stream",
          "name": "stdout",
          "text": [
            "Fold 4, Epoch 10, Val Loss: 0.8048, Val Accuracy: 0.7327\n"
          ]
        },
        {
          "output_type": "stream",
          "name": "stderr",
          "text": [
            "Training Fold 4, Epoch 11: 100%|██████████| 229/229 [00:22<00:00, 10.15batch/s]\n"
          ]
        },
        {
          "output_type": "stream",
          "name": "stdout",
          "text": [
            "Fold 4, Epoch 11, Train Loss: 0.5416, Train Accuracy: 0.8049\n"
          ]
        },
        {
          "output_type": "stream",
          "name": "stderr",
          "text": [
            "Validating Fold 4, Epoch 11: 100%|██████████| 58/58 [00:04<00:00, 14.21batch/s]\n"
          ]
        },
        {
          "output_type": "stream",
          "name": "stdout",
          "text": [
            "Fold 4, Epoch 11, Val Loss: 0.7859, Val Accuracy: 0.7319\n"
          ]
        },
        {
          "output_type": "stream",
          "name": "stderr",
          "text": [
            "Training Fold 4, Epoch 12: 100%|██████████| 229/229 [00:22<00:00, 10.05batch/s]\n"
          ]
        },
        {
          "output_type": "stream",
          "name": "stdout",
          "text": [
            "Fold 4, Epoch 12, Train Loss: 0.5044, Train Accuracy: 0.8170\n"
          ]
        },
        {
          "output_type": "stream",
          "name": "stderr",
          "text": [
            "Validating Fold 4, Epoch 12: 100%|██████████| 58/58 [00:03<00:00, 14.94batch/s]\n"
          ]
        },
        {
          "output_type": "stream",
          "name": "stdout",
          "text": [
            "Fold 4, Epoch 12, Val Loss: 0.8264, Val Accuracy: 0.7187\n",
            "Fold 5/5\n"
          ]
        },
        {
          "output_type": "stream",
          "name": "stderr",
          "text": [
            "Training Fold 5, Epoch 1: 100%|██████████| 229/229 [00:22<00:00, 10.02batch/s]\n"
          ]
        },
        {
          "output_type": "stream",
          "name": "stdout",
          "text": [
            "Fold 5, Epoch 1, Train Loss: 1.1402, Train Accuracy: 0.5719\n"
          ]
        },
        {
          "output_type": "stream",
          "name": "stderr",
          "text": [
            "Validating Fold 5, Epoch 1: 100%|██████████| 58/58 [00:03<00:00, 15.71batch/s]\n"
          ]
        },
        {
          "output_type": "stream",
          "name": "stdout",
          "text": [
            "Fold 5, Epoch 1, Val Loss: 0.9935, Val Accuracy: 0.6341\n"
          ]
        },
        {
          "output_type": "stream",
          "name": "stderr",
          "text": [
            "Training Fold 5, Epoch 2: 100%|██████████| 229/229 [00:23<00:00,  9.93batch/s]\n"
          ]
        },
        {
          "output_type": "stream",
          "name": "stdout",
          "text": [
            "Fold 5, Epoch 2, Train Loss: 0.9505, Train Accuracy: 0.6488\n"
          ]
        },
        {
          "output_type": "stream",
          "name": "stderr",
          "text": [
            "Validating Fold 5, Epoch 2: 100%|██████████| 58/58 [00:03<00:00, 15.91batch/s]\n"
          ]
        },
        {
          "output_type": "stream",
          "name": "stdout",
          "text": [
            "Fold 5, Epoch 2, Val Loss: 0.9614, Val Accuracy: 0.6406\n"
          ]
        },
        {
          "output_type": "stream",
          "name": "stderr",
          "text": [
            "Training Fold 5, Epoch 3: 100%|██████████| 229/229 [00:22<00:00,  9.99batch/s]\n"
          ]
        },
        {
          "output_type": "stream",
          "name": "stdout",
          "text": [
            "Fold 5, Epoch 3, Train Loss: 0.8724, Train Accuracy: 0.6796\n"
          ]
        },
        {
          "output_type": "stream",
          "name": "stderr",
          "text": [
            "Validating Fold 5, Epoch 3: 100%|██████████| 58/58 [00:03<00:00, 16.51batch/s]\n"
          ]
        },
        {
          "output_type": "stream",
          "name": "stdout",
          "text": [
            "Fold 5, Epoch 3, Val Loss: 0.8986, Val Accuracy: 0.6847\n"
          ]
        },
        {
          "output_type": "stream",
          "name": "stderr",
          "text": [
            "Training Fold 5, Epoch 4: 100%|██████████| 229/229 [00:22<00:00,  9.98batch/s]\n"
          ]
        },
        {
          "output_type": "stream",
          "name": "stdout",
          "text": [
            "Fold 5, Epoch 4, Train Loss: 0.8222, Train Accuracy: 0.7009\n"
          ]
        },
        {
          "output_type": "stream",
          "name": "stderr",
          "text": [
            "Validating Fold 5, Epoch 4: 100%|██████████| 58/58 [00:03<00:00, 16.83batch/s]\n"
          ]
        },
        {
          "output_type": "stream",
          "name": "stdout",
          "text": [
            "Fold 5, Epoch 4, Val Loss: 0.8509, Val Accuracy: 0.7056\n"
          ]
        },
        {
          "output_type": "stream",
          "name": "stderr",
          "text": [
            "Training Fold 5, Epoch 5: 100%|██████████| 229/229 [00:22<00:00,  9.97batch/s]\n"
          ]
        },
        {
          "output_type": "stream",
          "name": "stdout",
          "text": [
            "Fold 5, Epoch 5, Train Loss: 0.7724, Train Accuracy: 0.7198\n"
          ]
        },
        {
          "output_type": "stream",
          "name": "stderr",
          "text": [
            "Validating Fold 5, Epoch 5: 100%|██████████| 58/58 [00:03<00:00, 16.63batch/s]\n"
          ]
        },
        {
          "output_type": "stream",
          "name": "stdout",
          "text": [
            "Fold 5, Epoch 5, Val Loss: 0.8231, Val Accuracy: 0.7064\n"
          ]
        },
        {
          "output_type": "stream",
          "name": "stderr",
          "text": [
            "Training Fold 5, Epoch 6: 100%|██████████| 229/229 [00:22<00:00,  9.99batch/s]\n"
          ]
        },
        {
          "output_type": "stream",
          "name": "stdout",
          "text": [
            "Fold 5, Epoch 6, Train Loss: 0.7299, Train Accuracy: 0.7362\n"
          ]
        },
        {
          "output_type": "stream",
          "name": "stderr",
          "text": [
            "Validating Fold 5, Epoch 6: 100%|██████████| 58/58 [00:03<00:00, 16.71batch/s]\n"
          ]
        },
        {
          "output_type": "stream",
          "name": "stdout",
          "text": [
            "Fold 5, Epoch 6, Val Loss: 0.9756, Val Accuracy: 0.6708\n"
          ]
        },
        {
          "output_type": "stream",
          "name": "stderr",
          "text": [
            "Training Fold 5, Epoch 7: 100%|██████████| 229/229 [00:22<00:00, 10.00batch/s]\n"
          ]
        },
        {
          "output_type": "stream",
          "name": "stdout",
          "text": [
            "Fold 5, Epoch 7, Train Loss: 0.6968, Train Accuracy: 0.7455\n"
          ]
        },
        {
          "output_type": "stream",
          "name": "stderr",
          "text": [
            "Validating Fold 5, Epoch 7: 100%|██████████| 58/58 [00:03<00:00, 16.72batch/s]\n"
          ]
        },
        {
          "output_type": "stream",
          "name": "stdout",
          "text": [
            "Fold 5, Epoch 7, Val Loss: 0.7944, Val Accuracy: 0.7250\n"
          ]
        },
        {
          "output_type": "stream",
          "name": "stderr",
          "text": [
            "Training Fold 5, Epoch 8: 100%|██████████| 229/229 [00:22<00:00,  9.98batch/s]\n"
          ]
        },
        {
          "output_type": "stream",
          "name": "stdout",
          "text": [
            "Fold 5, Epoch 8, Train Loss: 0.6521, Train Accuracy: 0.7676\n"
          ]
        },
        {
          "output_type": "stream",
          "name": "stderr",
          "text": [
            "Validating Fold 5, Epoch 8: 100%|██████████| 58/58 [00:03<00:00, 16.55batch/s]\n"
          ]
        },
        {
          "output_type": "stream",
          "name": "stdout",
          "text": [
            "Fold 5, Epoch 8, Val Loss: 0.7945, Val Accuracy: 0.7277\n"
          ]
        },
        {
          "output_type": "stream",
          "name": "stderr",
          "text": [
            "Training Fold 5, Epoch 9: 100%|██████████| 229/229 [00:23<00:00,  9.94batch/s]\n"
          ]
        },
        {
          "output_type": "stream",
          "name": "stdout",
          "text": [
            "Fold 5, Epoch 9, Train Loss: 0.6122, Train Accuracy: 0.7777\n"
          ]
        },
        {
          "output_type": "stream",
          "name": "stderr",
          "text": [
            "Validating Fold 5, Epoch 9: 100%|██████████| 58/58 [00:03<00:00, 16.73batch/s]\n"
          ]
        },
        {
          "output_type": "stream",
          "name": "stdout",
          "text": [
            "New best model saved with Val Accuracy: 0.7417\n",
            "Fold 5, Epoch 9, Val Loss: 0.7803, Val Accuracy: 0.7417\n"
          ]
        },
        {
          "output_type": "stream",
          "name": "stderr",
          "text": [
            "Training Fold 5, Epoch 10: 100%|██████████| 229/229 [00:22<00:00, 10.06batch/s]\n"
          ]
        },
        {
          "output_type": "stream",
          "name": "stdout",
          "text": [
            "Fold 5, Epoch 10, Train Loss: 0.5819, Train Accuracy: 0.7899\n"
          ]
        },
        {
          "output_type": "stream",
          "name": "stderr",
          "text": [
            "Validating Fold 5, Epoch 10: 100%|██████████| 58/58 [00:03<00:00, 16.92batch/s]\n"
          ]
        },
        {
          "output_type": "stream",
          "name": "stdout",
          "text": [
            "Fold 5, Epoch 10, Val Loss: 0.8312, Val Accuracy: 0.7157\n"
          ]
        },
        {
          "output_type": "stream",
          "name": "stderr",
          "text": [
            "Training Fold 5, Epoch 11: 100%|██████████| 229/229 [00:22<00:00, 10.12batch/s]\n"
          ]
        },
        {
          "output_type": "stream",
          "name": "stdout",
          "text": [
            "Fold 5, Epoch 11, Train Loss: 0.5505, Train Accuracy: 0.7991\n"
          ]
        },
        {
          "output_type": "stream",
          "name": "stderr",
          "text": [
            "Validating Fold 5, Epoch 11: 100%|██████████| 58/58 [00:03<00:00, 16.82batch/s]\n"
          ]
        },
        {
          "output_type": "stream",
          "name": "stdout",
          "text": [
            "Fold 5, Epoch 11, Val Loss: 0.8111, Val Accuracy: 0.7319\n"
          ]
        },
        {
          "output_type": "stream",
          "name": "stderr",
          "text": [
            "Training Fold 5, Epoch 12: 100%|██████████| 229/229 [00:22<00:00, 10.10batch/s]\n"
          ]
        },
        {
          "output_type": "stream",
          "name": "stdout",
          "text": [
            "Fold 5, Epoch 12, Train Loss: 0.5045, Train Accuracy: 0.8193\n"
          ]
        },
        {
          "output_type": "stream",
          "name": "stderr",
          "text": [
            "Validating Fold 5, Epoch 12: 100%|██████████| 58/58 [00:03<00:00, 16.69batch/s]\n"
          ]
        },
        {
          "output_type": "stream",
          "name": "stdout",
          "text": [
            "Fold 5, Epoch 12, Val Loss: 0.7741, Val Accuracy: 0.7335\n",
            "Average Training Loss: 0.7442\n",
            "Average Validation Loss: 0.8368\n",
            "Average Training Accuracy: 0.7287\n",
            "Average Validation Accuracy: 0.7025\n"
          ]
        }
      ],
      "source": [
        "# Initialize the dataset\n",
        "full_train_dataset = EthnicityDataset(root_dir=\"Dataset/eyes/train\", transform=transform_eyes)\n",
        "test_dataset = EthnicityDataset(root_dir=\"Dataset/eyes/test\", transform=transform_eyes)\n",
        "test_loader = DataLoader(test_dataset, batch_size=32, shuffle=False)\n",
        "\n",
        "# K-fold Cross-Validation\n",
        "k = 5  # Choose K = 5\n",
        "kf = KFold(n_splits=k, shuffle=True, random_state=42)\n",
        "\n",
        "# Array to store results for each fold\n",
        "fold_train_losses = []\n",
        "fold_val_losses = []\n",
        "fold_train_accuracies = []\n",
        "fold_val_accuracies = []\n",
        "best_val_accuracy = 0.0\n",
        "best_model_state = None\n",
        "\n",
        "num_epochs = 12\n",
        "batch_size = 64\n",
        "\n",
        "for fold, (train_idx, val_idx) in enumerate(kf.split(np.arange(len(full_train_dataset)))):\n",
        "    print(f\"Fold {fold + 1}/{k}\")\n",
        "\n",
        "    # Create subsets for training and validation\n",
        "    train_subset = Subset(full_train_dataset, train_idx)\n",
        "    val_subset = Subset(full_train_dataset, val_idx)\n",
        "\n",
        "    # Create data loaders for the current fold\n",
        "    train_loader = DataLoader(train_subset, batch_size=batch_size, shuffle=True)\n",
        "    val_loader = DataLoader(val_subset, batch_size=batch_size, shuffle=False)\n",
        "\n",
        "    # Reinitialize the model and optimizer for each fold\n",
        "    eyes_net = CNN(hid_1, hid_2, hid_3, hid_4, hid_5, hid_6, e_x, e_y, drop_1, drop_2)\n",
        "    eyes_net = eyes_net.to(device)  # Ensure the model is on the correct GPU/CPU\n",
        "    eyes_optimizer = torch.optim.Adam(eyes_net.parameters(), lr=0.001, weight_decay=0.0001)\n",
        "\n",
        "    # Criterion\n",
        "    criterion = nn.CrossEntropyLoss()\n",
        "\n",
        "    # Metrics for each fold\n",
        "    train_losses = []\n",
        "    val_losses = []\n",
        "    train_accuracies = []\n",
        "    val_accuracies = []\n",
        "\n",
        "    # Training for each fold\n",
        "    for epoch in range(num_epochs):\n",
        "        # Training Phase\n",
        "        eyes_net.train()\n",
        "        running_loss = 0.0\n",
        "        correct = 0\n",
        "        total = 0\n",
        "\n",
        "        for data in tqdm(train_loader, desc=f\"Training Fold {fold + 1}, Epoch {epoch + 1}\", unit=\"batch\"):\n",
        "            inputs, labels = data\n",
        "            inputs, labels = inputs.to(device), labels.to(device)\n",
        "\n",
        "            # Zero the gradients\n",
        "            eyes_optimizer.zero_grad()\n",
        "\n",
        "            # Forward pass\n",
        "            outputs = eyes_net(inputs)\n",
        "            loss = criterion(outputs, labels)\n",
        "            loss.backward()\n",
        "            eyes_optimizer.step()\n",
        "\n",
        "            running_loss += loss.item()\n",
        "\n",
        "            # Accuracy\n",
        "            _, predicted = torch.max(outputs, 1)\n",
        "            total += labels.size(0)\n",
        "            correct += (predicted == labels).sum().item()\n",
        "\n",
        "        avg_train_loss = running_loss / len(train_loader)\n",
        "        train_accuracy = correct / total\n",
        "        train_losses.append(avg_train_loss)\n",
        "        train_accuracies.append(train_accuracy)\n",
        "\n",
        "        print(f\"Fold {fold + 1}, Epoch {epoch + 1}, Train Loss: {avg_train_loss:.4f}, Train Accuracy: {train_accuracy:.4f}\")\n",
        "\n",
        "        # Validation Phase\n",
        "        eyes_net.eval()\n",
        "        val_running_loss = 0.0\n",
        "        correct = 0\n",
        "        total = 0\n",
        "\n",
        "        with torch.no_grad():\n",
        "            for data in tqdm(val_loader, desc=f\"Validating Fold {fold + 1}, Epoch {epoch + 1}\", unit=\"batch\"):\n",
        "                inputs, labels = data\n",
        "                inputs, labels = inputs.to(device), labels.to(device)\n",
        "\n",
        "                outputs = eyes_net(inputs)\n",
        "                loss = criterion(outputs, labels)\n",
        "\n",
        "                val_running_loss += loss.item()\n",
        "\n",
        "                # Accuracy\n",
        "                _, predicted = torch.max(outputs, 1)\n",
        "                total += labels.size(0)\n",
        "                correct += (predicted == labels).sum().item()\n",
        "\n",
        "        avg_val_loss = val_running_loss / len(val_loader)\n",
        "        val_accuracy = correct / total\n",
        "        val_losses.append(avg_val_loss)\n",
        "        val_accuracies.append(val_accuracy)\n",
        "\n",
        "        if val_accuracy > best_val_accuracy:\n",
        "            best_val_accuracy = val_accuracy\n",
        "            best_model_state = eyes_net.state_dict()\n",
        "            print(f\"New best model saved with Val Accuracy: {best_val_accuracy:.4f}\")\n",
        "        print(f\"Fold {fold + 1}, Epoch {epoch + 1}, Val Loss: {avg_val_loss:.4f}, Val Accuracy: {val_accuracy:.4f}\")\n",
        "\n",
        "    # Save results for the current fold\n",
        "    fold_train_losses.append(train_losses)\n",
        "    fold_val_losses.append(val_losses)\n",
        "    fold_train_accuracies.append(train_accuracies)\n",
        "    fold_val_accuracies.append(val_accuracies)\n",
        "\n",
        "torch.save(best_model_state, \"best_eyes_net.pth\")\n",
        "\n",
        "# Calculate the average metrics across all folds\n",
        "mean_train_loss = np.mean([np.mean(fold) for fold in fold_train_losses])\n",
        "mean_val_loss = np.mean([np.mean(fold) for fold in fold_val_losses])\n",
        "mean_train_accuracy = np.mean([np.mean(fold) for fold in fold_train_accuracies])\n",
        "mean_val_accuracy = np.mean([np.mean(fold) for fold in fold_val_accuracies])\n",
        "\n",
        "print(f\"Average Training Loss: {mean_train_loss:.4f}\")\n",
        "print(f\"Average Validation Loss: {mean_val_loss:.4f}\")\n",
        "print(f\"Average Training Accuracy: {mean_train_accuracy:.4f}\")\n",
        "print(f\"Average Validation Accuracy: {mean_val_accuracy:.4f}\")"
      ]
    },
    {
      "cell_type": "markdown",
      "metadata": {
        "id": "t8L59rANy1aW"
      },
      "source": []
    },
    {
      "cell_type": "code",
      "execution_count": 8,
      "metadata": {
        "id": "Bu9J9QOS7_hJ",
        "colab": {
          "base_uri": "https://localhost:8080/",
          "height": 958
        },
        "outputId": "1e719e5c-eaf2-48b2-eb06-052bb408982b"
      },
      "outputs": [
        {
          "output_type": "stream",
          "name": "stderr",
          "text": [
            "<ipython-input-8-d6326cb9e21b>:4: FutureWarning: You are using `torch.load` with `weights_only=False` (the current default value), which uses the default pickle module implicitly. It is possible to construct malicious pickle data which will execute arbitrary code during unpickling (See https://github.com/pytorch/pytorch/blob/main/SECURITY.md#untrusted-models for more details). In a future release, the default value for `weights_only` will be flipped to `True`. This limits the functions that could be executed during unpickling. Arbitrary objects will no longer be allowed to be loaded via this mode unless they are explicitly allowlisted by the user via `torch.serialization.add_safe_globals`. We recommend you start setting `weights_only=True` for any use case where you don't have full control of the loaded file. Please open an issue on GitHub for any issues related to this experimental feature.\n",
            "  eyes_net.load_state_dict(torch.load(\"best_eyes_net.pth\"))\n"
          ]
        },
        {
          "output_type": "display_data",
          "data": {
            "text/plain": [
              "<Figure size 1000x700 with 2 Axes>"
            ],
            "image/png": "[encoded data removed]"
          },
          "metadata": {}
        },
        {
          "output_type": "stream",
          "name": "stdout",
          "text": [
            "\n",
            "Classification Report:\n",
            "              precision    recall  f1-score   support\n",
            "\n",
            "       White       0.76      0.81      0.78      2018\n",
            "       Black       0.74      0.68      0.71       927\n",
            "       Asian       0.69      0.70      0.69       670\n",
            "      Indian       0.60      0.64      0.62       802\n",
            "      Others       0.38      0.23      0.29       359\n",
            "\n",
            "    accuracy                           0.70      4776\n",
            "   macro avg       0.63      0.61      0.62      4776\n",
            "weighted avg       0.69      0.70      0.69      4776\n",
            "\n"
          ]
        }
      ],
      "source": [
        "all_labels = []\n",
        "all_preds = []\n",
        "eyes_net = CNN(hid_1, hid_2, hid_3, hid_4, hid_5, hid_6, e_x, e_y, drop_1, drop_2)\n",
        "eyes_net.load_state_dict(torch.load(\"best_eyes_net.pth\"))\n",
        "eyes_net = eyes_net.to(device)\n",
        "\n",
        "\n",
        "with torch.no_grad():\n",
        "    for data in test_loader:\n",
        "        images, labels = data\n",
        "        images, labels = images.to(device), labels.to(device)\n",
        "\n",
        "        outputs = eyes_net(images)\n",
        "        _, predicted = torch.max(outputs.data, 1)\n",
        "        all_labels.extend(labels.cpu().numpy())\n",
        "        all_preds.extend(predicted.cpu().numpy())\n",
        "\n",
        "\n",
        "conf_matrix = confusion_matrix(all_labels, all_preds)\n",
        "\n",
        "plt.figure(figsize=(10, 7))\n",
        "sns.heatmap(conf_matrix, annot=True, fmt='d', cmap='Blues', xticklabels=class_names, yticklabels=class_names)\n",
        "\n",
        "\n",
        "plt.title('Confusion Matrix', fontsize=16)\n",
        "plt.xlabel('Predicted Labels', fontsize=14)\n",
        "plt.ylabel('True Labels', fontsize=14)\n",
        "plt.xticks(fontsize=12)\n",
        "plt.yticks(fontsize=12)\n",
        "\n",
        "\n",
        "plt.show()\n",
        "\n",
        "print(\"\\nClassification Report:\")\n",
        "print(classification_report(all_labels, all_preds, target_names=class_names, zero_division=0))"
      ]
    },
    {
      "cell_type": "markdown",
      "metadata": {
        "id": "ReSQIrMH85RS"
      },
      "source": [
        "**NOSE TRAINING VALIDATION AND TEST**"
      ]
    },
    {
      "cell_type": "code",
      "execution_count": 9,
      "metadata": {
        "id": "cmZyd-UU8-0p",
        "colab": {
          "base_uri": "https://localhost:8080/"
        },
        "outputId": "a4c34c67-e69e-4fde-d99b-b9c6fc6522c9"
      },
      "outputs": [
        {
          "output_type": "stream",
          "name": "stdout",
          "text": [
            "Fold 1/5\n"
          ]
        },
        {
          "output_type": "stream",
          "name": "stderr",
          "text": [
            "Training Fold 1, Epoch 1: 100%|██████████| 229/229 [00:32<00:00,  7.10batch/s]\n"
          ]
        },
        {
          "output_type": "stream",
          "name": "stdout",
          "text": [
            "Fold 1, Epoch 1, Train Loss: 1.3087, Train Accuracy: 0.4969\n"
          ]
        },
        {
          "output_type": "stream",
          "name": "stderr",
          "text": [
            "Validating Fold 1, Epoch 1: 100%|██████████| 58/58 [00:05<00:00, 11.36batch/s]\n"
          ]
        },
        {
          "output_type": "stream",
          "name": "stdout",
          "text": [
            "New best model saved with Val Accuracy: 0.5377\n",
            "Fold 1, Epoch 1, Val Loss: 1.2022, Val Accuracy: 0.5377\n"
          ]
        },
        {
          "output_type": "stream",
          "name": "stderr",
          "text": [
            "Training Fold 1, Epoch 2: 100%|██████████| 229/229 [00:31<00:00,  7.21batch/s]\n"
          ]
        },
        {
          "output_type": "stream",
          "name": "stdout",
          "text": [
            "Fold 1, Epoch 2, Train Loss: 1.1540, Train Accuracy: 0.5596\n"
          ]
        },
        {
          "output_type": "stream",
          "name": "stderr",
          "text": [
            "Validating Fold 1, Epoch 2: 100%|██████████| 58/58 [00:04<00:00, 12.44batch/s]\n"
          ]
        },
        {
          "output_type": "stream",
          "name": "stdout",
          "text": [
            "New best model saved with Val Accuracy: 0.5798\n",
            "Fold 1, Epoch 2, Val Loss: 1.0886, Val Accuracy: 0.5798\n"
          ]
        },
        {
          "output_type": "stream",
          "name": "stderr",
          "text": [
            "Training Fold 1, Epoch 3: 100%|██████████| 229/229 [00:32<00:00,  7.15batch/s]\n"
          ]
        },
        {
          "output_type": "stream",
          "name": "stdout",
          "text": [
            "Fold 1, Epoch 3, Train Loss: 1.0643, Train Accuracy: 0.6024\n"
          ]
        },
        {
          "output_type": "stream",
          "name": "stderr",
          "text": [
            "Validating Fold 1, Epoch 3: 100%|██████████| 58/58 [00:04<00:00, 12.70batch/s]\n"
          ]
        },
        {
          "output_type": "stream",
          "name": "stdout",
          "text": [
            "New best model saved with Val Accuracy: 0.6075\n",
            "Fold 1, Epoch 3, Val Loss: 1.0469, Val Accuracy: 0.6075\n"
          ]
        },
        {
          "output_type": "stream",
          "name": "stderr",
          "text": [
            "Training Fold 1, Epoch 4: 100%|██████████| 229/229 [00:32<00:00,  7.10batch/s]\n"
          ]
        },
        {
          "output_type": "stream",
          "name": "stdout",
          "text": [
            "Fold 1, Epoch 4, Train Loss: 1.0132, Train Accuracy: 0.6280\n"
          ]
        },
        {
          "output_type": "stream",
          "name": "stderr",
          "text": [
            "Validating Fold 1, Epoch 4: 100%|██████████| 58/58 [00:04<00:00, 12.97batch/s]\n"
          ]
        },
        {
          "output_type": "stream",
          "name": "stdout",
          "text": [
            "New best model saved with Val Accuracy: 0.6245\n",
            "Fold 1, Epoch 4, Val Loss: 0.9986, Val Accuracy: 0.6245\n"
          ]
        },
        {
          "output_type": "stream",
          "name": "stderr",
          "text": [
            "Training Fold 1, Epoch 5: 100%|██████████| 229/229 [00:32<00:00,  7.13batch/s]\n"
          ]
        },
        {
          "output_type": "stream",
          "name": "stdout",
          "text": [
            "Fold 1, Epoch 5, Train Loss: 0.9562, Train Accuracy: 0.6479\n"
          ]
        },
        {
          "output_type": "stream",
          "name": "stderr",
          "text": [
            "Validating Fold 1, Epoch 5: 100%|██████████| 58/58 [00:04<00:00, 12.87batch/s]\n"
          ]
        },
        {
          "output_type": "stream",
          "name": "stdout",
          "text": [
            "New best model saved with Val Accuracy: 0.6406\n",
            "Fold 1, Epoch 5, Val Loss: 0.9755, Val Accuracy: 0.6406\n"
          ]
        },
        {
          "output_type": "stream",
          "name": "stderr",
          "text": [
            "Training Fold 1, Epoch 6: 100%|██████████| 229/229 [00:32<00:00,  7.11batch/s]\n"
          ]
        },
        {
          "output_type": "stream",
          "name": "stdout",
          "text": [
            "Fold 1, Epoch 6, Train Loss: 0.9222, Train Accuracy: 0.6625\n"
          ]
        },
        {
          "output_type": "stream",
          "name": "stderr",
          "text": [
            "Validating Fold 1, Epoch 6: 100%|██████████| 58/58 [00:04<00:00, 12.69batch/s]\n"
          ]
        },
        {
          "output_type": "stream",
          "name": "stdout",
          "text": [
            "Fold 1, Epoch 6, Val Loss: 0.9713, Val Accuracy: 0.6286\n"
          ]
        },
        {
          "output_type": "stream",
          "name": "stderr",
          "text": [
            "Training Fold 1, Epoch 7: 100%|██████████| 229/229 [00:31<00:00,  7.23batch/s]\n"
          ]
        },
        {
          "output_type": "stream",
          "name": "stdout",
          "text": [
            "Fold 1, Epoch 7, Train Loss: 0.8875, Train Accuracy: 0.6764\n"
          ]
        },
        {
          "output_type": "stream",
          "name": "stderr",
          "text": [
            "Validating Fold 1, Epoch 7: 100%|██████████| 58/58 [00:04<00:00, 11.85batch/s]\n"
          ]
        },
        {
          "output_type": "stream",
          "name": "stdout",
          "text": [
            "Fold 1, Epoch 7, Val Loss: 0.9750, Val Accuracy: 0.6393\n"
          ]
        },
        {
          "output_type": "stream",
          "name": "stderr",
          "text": [
            "Training Fold 1, Epoch 8: 100%|██████████| 229/229 [00:31<00:00,  7.16batch/s]\n"
          ]
        },
        {
          "output_type": "stream",
          "name": "stdout",
          "text": [
            "Fold 1, Epoch 8, Train Loss: 0.8552, Train Accuracy: 0.6899\n"
          ]
        },
        {
          "output_type": "stream",
          "name": "stderr",
          "text": [
            "Validating Fold 1, Epoch 8: 100%|██████████| 58/58 [00:04<00:00, 11.63batch/s]\n"
          ]
        },
        {
          "output_type": "stream",
          "name": "stdout",
          "text": [
            "New best model saved with Val Accuracy: 0.6615\n",
            "Fold 1, Epoch 8, Val Loss: 0.9247, Val Accuracy: 0.6615\n"
          ]
        },
        {
          "output_type": "stream",
          "name": "stderr",
          "text": [
            "Training Fold 1, Epoch 9: 100%|██████████| 229/229 [00:31<00:00,  7.16batch/s]\n"
          ]
        },
        {
          "output_type": "stream",
          "name": "stdout",
          "text": [
            "Fold 1, Epoch 9, Train Loss: 0.8209, Train Accuracy: 0.6991\n"
          ]
        },
        {
          "output_type": "stream",
          "name": "stderr",
          "text": [
            "Validating Fold 1, Epoch 9: 100%|██████████| 58/58 [00:04<00:00, 12.58batch/s]\n"
          ]
        },
        {
          "output_type": "stream",
          "name": "stdout",
          "text": [
            "Fold 1, Epoch 9, Val Loss: 0.9558, Val Accuracy: 0.6519\n"
          ]
        },
        {
          "output_type": "stream",
          "name": "stderr",
          "text": [
            "Training Fold 1, Epoch 10: 100%|██████████| 229/229 [00:31<00:00,  7.16batch/s]\n"
          ]
        },
        {
          "output_type": "stream",
          "name": "stdout",
          "text": [
            "Fold 1, Epoch 10, Train Loss: 0.7959, Train Accuracy: 0.7091\n"
          ]
        },
        {
          "output_type": "stream",
          "name": "stderr",
          "text": [
            "Validating Fold 1, Epoch 10: 100%|██████████| 58/58 [00:04<00:00, 12.98batch/s]\n"
          ]
        },
        {
          "output_type": "stream",
          "name": "stdout",
          "text": [
            "Fold 1, Epoch 10, Val Loss: 0.9390, Val Accuracy: 0.6590\n"
          ]
        },
        {
          "output_type": "stream",
          "name": "stderr",
          "text": [
            "Training Fold 1, Epoch 11: 100%|██████████| 229/229 [00:32<00:00,  7.09batch/s]\n"
          ]
        },
        {
          "output_type": "stream",
          "name": "stdout",
          "text": [
            "Fold 1, Epoch 11, Train Loss: 0.7732, Train Accuracy: 0.7162\n"
          ]
        },
        {
          "output_type": "stream",
          "name": "stderr",
          "text": [
            "Validating Fold 1, Epoch 11: 100%|██████████| 58/58 [00:04<00:00, 13.10batch/s]\n"
          ]
        },
        {
          "output_type": "stream",
          "name": "stdout",
          "text": [
            "New best model saved with Val Accuracy: 0.6689\n",
            "Fold 1, Epoch 11, Val Loss: 0.9085, Val Accuracy: 0.6689\n"
          ]
        },
        {
          "output_type": "stream",
          "name": "stderr",
          "text": [
            "Training Fold 1, Epoch 12: 100%|██████████| 229/229 [00:32<00:00,  7.11batch/s]\n"
          ]
        },
        {
          "output_type": "stream",
          "name": "stdout",
          "text": [
            "Fold 1, Epoch 12, Train Loss: 0.7316, Train Accuracy: 0.7329\n"
          ]
        },
        {
          "output_type": "stream",
          "name": "stderr",
          "text": [
            "Validating Fold 1, Epoch 12: 100%|██████████| 58/58 [00:04<00:00, 12.82batch/s]\n"
          ]
        },
        {
          "output_type": "stream",
          "name": "stdout",
          "text": [
            "Fold 1, Epoch 12, Val Loss: 0.9924, Val Accuracy: 0.6467\n",
            "Fold 2/5\n"
          ]
        },
        {
          "output_type": "stream",
          "name": "stderr",
          "text": [
            "Training Fold 2, Epoch 1: 100%|██████████| 229/229 [00:32<00:00,  7.13batch/s]\n"
          ]
        },
        {
          "output_type": "stream",
          "name": "stdout",
          "text": [
            "Fold 2, Epoch 1, Train Loss: 1.2993, Train Accuracy: 0.4914\n"
          ]
        },
        {
          "output_type": "stream",
          "name": "stderr",
          "text": [
            "Validating Fold 2, Epoch 1: 100%|██████████| 58/58 [00:04<00:00, 12.21batch/s]\n"
          ]
        },
        {
          "output_type": "stream",
          "name": "stdout",
          "text": [
            "Fold 2, Epoch 1, Val Loss: 1.2141, Val Accuracy: 0.5259\n"
          ]
        },
        {
          "output_type": "stream",
          "name": "stderr",
          "text": [
            "Training Fold 2, Epoch 2: 100%|██████████| 229/229 [00:31<00:00,  7.17batch/s]\n"
          ]
        },
        {
          "output_type": "stream",
          "name": "stdout",
          "text": [
            "Fold 2, Epoch 2, Train Loss: 1.1287, Train Accuracy: 0.5736\n"
          ]
        },
        {
          "output_type": "stream",
          "name": "stderr",
          "text": [
            "Validating Fold 2, Epoch 2: 100%|██████████| 58/58 [00:04<00:00, 11.69batch/s]\n"
          ]
        },
        {
          "output_type": "stream",
          "name": "stdout",
          "text": [
            "Fold 2, Epoch 2, Val Loss: 1.1177, Val Accuracy: 0.5853\n"
          ]
        },
        {
          "output_type": "stream",
          "name": "stderr",
          "text": [
            "Training Fold 2, Epoch 3: 100%|██████████| 229/229 [00:32<00:00,  7.14batch/s]\n"
          ]
        },
        {
          "output_type": "stream",
          "name": "stdout",
          "text": [
            "Fold 2, Epoch 3, Train Loss: 1.0507, Train Accuracy: 0.6057\n"
          ]
        },
        {
          "output_type": "stream",
          "name": "stderr",
          "text": [
            "Validating Fold 2, Epoch 3: 100%|██████████| 58/58 [00:05<00:00, 11.51batch/s]\n"
          ]
        },
        {
          "output_type": "stream",
          "name": "stdout",
          "text": [
            "Fold 2, Epoch 3, Val Loss: 1.0436, Val Accuracy: 0.6226\n"
          ]
        },
        {
          "output_type": "stream",
          "name": "stderr",
          "text": [
            "Training Fold 2, Epoch 4: 100%|██████████| 229/229 [00:32<00:00,  7.14batch/s]\n"
          ]
        },
        {
          "output_type": "stream",
          "name": "stdout",
          "text": [
            "Fold 2, Epoch 4, Train Loss: 0.9931, Train Accuracy: 0.6305\n"
          ]
        },
        {
          "output_type": "stream",
          "name": "stderr",
          "text": [
            "Validating Fold 2, Epoch 4: 100%|██████████| 58/58 [00:04<00:00, 12.53batch/s]\n"
          ]
        },
        {
          "output_type": "stream",
          "name": "stdout",
          "text": [
            "Fold 2, Epoch 4, Val Loss: 1.0087, Val Accuracy: 0.6319\n"
          ]
        },
        {
          "output_type": "stream",
          "name": "stderr",
          "text": [
            "Training Fold 2, Epoch 5: 100%|██████████| 229/229 [00:32<00:00,  7.11batch/s]\n"
          ]
        },
        {
          "output_type": "stream",
          "name": "stdout",
          "text": [
            "Fold 2, Epoch 5, Train Loss: 0.9435, Train Accuracy: 0.6478\n"
          ]
        },
        {
          "output_type": "stream",
          "name": "stderr",
          "text": [
            "Validating Fold 2, Epoch 5: 100%|██████████| 58/58 [00:04<00:00, 12.81batch/s]\n"
          ]
        },
        {
          "output_type": "stream",
          "name": "stdout",
          "text": [
            "Fold 2, Epoch 5, Val Loss: 1.0078, Val Accuracy: 0.6335\n"
          ]
        },
        {
          "output_type": "stream",
          "name": "stderr",
          "text": [
            "Training Fold 2, Epoch 6: 100%|██████████| 229/229 [00:32<00:00,  7.07batch/s]\n"
          ]
        },
        {
          "output_type": "stream",
          "name": "stdout",
          "text": [
            "Fold 2, Epoch 6, Train Loss: 0.9104, Train Accuracy: 0.6626\n"
          ]
        },
        {
          "output_type": "stream",
          "name": "stderr",
          "text": [
            "Validating Fold 2, Epoch 6: 100%|██████████| 58/58 [00:04<00:00, 12.94batch/s]\n"
          ]
        },
        {
          "output_type": "stream",
          "name": "stdout",
          "text": [
            "Fold 2, Epoch 6, Val Loss: 0.9316, Val Accuracy: 0.6647\n"
          ]
        },
        {
          "output_type": "stream",
          "name": "stderr",
          "text": [
            "Training Fold 2, Epoch 7: 100%|██████████| 229/229 [00:32<00:00,  7.07batch/s]\n"
          ]
        },
        {
          "output_type": "stream",
          "name": "stdout",
          "text": [
            "Fold 2, Epoch 7, Train Loss: 0.8806, Train Accuracy: 0.6734\n"
          ]
        },
        {
          "output_type": "stream",
          "name": "stderr",
          "text": [
            "Validating Fold 2, Epoch 7: 100%|██████████| 58/58 [00:04<00:00, 12.93batch/s]\n"
          ]
        },
        {
          "output_type": "stream",
          "name": "stdout",
          "text": [
            "Fold 2, Epoch 7, Val Loss: 0.9525, Val Accuracy: 0.6571\n"
          ]
        },
        {
          "output_type": "stream",
          "name": "stderr",
          "text": [
            "Training Fold 2, Epoch 8: 100%|██████████| 229/229 [00:32<00:00,  7.10batch/s]\n"
          ]
        },
        {
          "output_type": "stream",
          "name": "stdout",
          "text": [
            "Fold 2, Epoch 8, Train Loss: 0.8452, Train Accuracy: 0.6880\n"
          ]
        },
        {
          "output_type": "stream",
          "name": "stderr",
          "text": [
            "Validating Fold 2, Epoch 8: 100%|██████████| 58/58 [00:04<00:00, 12.77batch/s]\n"
          ]
        },
        {
          "output_type": "stream",
          "name": "stdout",
          "text": [
            "New best model saved with Val Accuracy: 0.6710\n",
            "Fold 2, Epoch 8, Val Loss: 0.9081, Val Accuracy: 0.6710\n"
          ]
        },
        {
          "output_type": "stream",
          "name": "stderr",
          "text": [
            "Training Fold 2, Epoch 9: 100%|██████████| 229/229 [00:31<00:00,  7.28batch/s]\n"
          ]
        },
        {
          "output_type": "stream",
          "name": "stdout",
          "text": [
            "Fold 2, Epoch 9, Train Loss: 0.8077, Train Accuracy: 0.7035\n"
          ]
        },
        {
          "output_type": "stream",
          "name": "stderr",
          "text": [
            "Validating Fold 2, Epoch 9: 100%|██████████| 58/58 [00:04<00:00, 11.98batch/s]\n"
          ]
        },
        {
          "output_type": "stream",
          "name": "stdout",
          "text": [
            "Fold 2, Epoch 9, Val Loss: 0.9335, Val Accuracy: 0.6628\n"
          ]
        },
        {
          "output_type": "stream",
          "name": "stderr",
          "text": [
            "Training Fold 2, Epoch 10: 100%|██████████| 229/229 [00:31<00:00,  7.29batch/s]\n"
          ]
        },
        {
          "output_type": "stream",
          "name": "stdout",
          "text": [
            "Fold 2, Epoch 10, Train Loss: 0.7808, Train Accuracy: 0.7124\n"
          ]
        },
        {
          "output_type": "stream",
          "name": "stderr",
          "text": [
            "Validating Fold 2, Epoch 10: 100%|██████████| 58/58 [00:04<00:00, 11.92batch/s]\n"
          ]
        },
        {
          "output_type": "stream",
          "name": "stdout",
          "text": [
            "Fold 2, Epoch 10, Val Loss: 0.9846, Val Accuracy: 0.6426\n"
          ]
        },
        {
          "output_type": "stream",
          "name": "stderr",
          "text": [
            "Training Fold 2, Epoch 11: 100%|██████████| 229/229 [00:31<00:00,  7.24batch/s]\n"
          ]
        },
        {
          "output_type": "stream",
          "name": "stdout",
          "text": [
            "Fold 2, Epoch 11, Train Loss: 0.7474, Train Accuracy: 0.7264\n"
          ]
        },
        {
          "output_type": "stream",
          "name": "stderr",
          "text": [
            "Validating Fold 2, Epoch 11: 100%|██████████| 58/58 [00:04<00:00, 13.28batch/s]\n"
          ]
        },
        {
          "output_type": "stream",
          "name": "stdout",
          "text": [
            "New best model saved with Val Accuracy: 0.6771\n",
            "Fold 2, Epoch 11, Val Loss: 0.9156, Val Accuracy: 0.6771\n"
          ]
        },
        {
          "output_type": "stream",
          "name": "stderr",
          "text": [
            "Training Fold 2, Epoch 12: 100%|██████████| 229/229 [00:32<00:00,  7.11batch/s]\n"
          ]
        },
        {
          "output_type": "stream",
          "name": "stdout",
          "text": [
            "Fold 2, Epoch 12, Train Loss: 0.7098, Train Accuracy: 0.7366\n"
          ]
        },
        {
          "output_type": "stream",
          "name": "stderr",
          "text": [
            "Validating Fold 2, Epoch 12: 100%|██████████| 58/58 [00:04<00:00, 12.92batch/s]\n"
          ]
        },
        {
          "output_type": "stream",
          "name": "stdout",
          "text": [
            "New best model saved with Val Accuracy: 0.6812\n",
            "Fold 2, Epoch 12, Val Loss: 0.9082, Val Accuracy: 0.6812\n",
            "Fold 3/5\n"
          ]
        },
        {
          "output_type": "stream",
          "name": "stderr",
          "text": [
            "Training Fold 3, Epoch 1: 100%|██████████| 229/229 [00:32<00:00,  7.07batch/s]\n"
          ]
        },
        {
          "output_type": "stream",
          "name": "stdout",
          "text": [
            "Fold 3, Epoch 1, Train Loss: 1.2980, Train Accuracy: 0.4964\n"
          ]
        },
        {
          "output_type": "stream",
          "name": "stderr",
          "text": [
            "Validating Fold 3, Epoch 1: 100%|██████████| 58/58 [00:04<00:00, 13.02batch/s]\n"
          ]
        },
        {
          "output_type": "stream",
          "name": "stdout",
          "text": [
            "Fold 3, Epoch 1, Val Loss: 1.2839, Val Accuracy: 0.4807\n"
          ]
        },
        {
          "output_type": "stream",
          "name": "stderr",
          "text": [
            "Training Fold 3, Epoch 2: 100%|██████████| 229/229 [00:32<00:00,  7.09batch/s]\n"
          ]
        },
        {
          "output_type": "stream",
          "name": "stdout",
          "text": [
            "Fold 3, Epoch 2, Train Loss: 1.1372, Train Accuracy: 0.5663\n"
          ]
        },
        {
          "output_type": "stream",
          "name": "stderr",
          "text": [
            "Validating Fold 3, Epoch 2: 100%|██████████| 58/58 [00:04<00:00, 12.97batch/s]\n"
          ]
        },
        {
          "output_type": "stream",
          "name": "stdout",
          "text": [
            "Fold 3, Epoch 2, Val Loss: 1.0743, Val Accuracy: 0.6048\n"
          ]
        },
        {
          "output_type": "stream",
          "name": "stderr",
          "text": [
            "Training Fold 3, Epoch 3: 100%|██████████| 229/229 [00:32<00:00,  7.12batch/s]\n"
          ]
        },
        {
          "output_type": "stream",
          "name": "stdout",
          "text": [
            "Fold 3, Epoch 3, Train Loss: 1.0531, Train Accuracy: 0.6056\n"
          ]
        },
        {
          "output_type": "stream",
          "name": "stderr",
          "text": [
            "Validating Fold 3, Epoch 3: 100%|██████████| 58/58 [00:04<00:00, 12.04batch/s]\n"
          ]
        },
        {
          "output_type": "stream",
          "name": "stdout",
          "text": [
            "Fold 3, Epoch 3, Val Loss: 1.0643, Val Accuracy: 0.6012\n"
          ]
        },
        {
          "output_type": "stream",
          "name": "stderr",
          "text": [
            "Training Fold 3, Epoch 4: 100%|██████████| 229/229 [00:32<00:00,  7.15batch/s]\n"
          ]
        },
        {
          "output_type": "stream",
          "name": "stdout",
          "text": [
            "Fold 3, Epoch 4, Train Loss: 0.9922, Train Accuracy: 0.6289\n"
          ]
        },
        {
          "output_type": "stream",
          "name": "stderr",
          "text": [
            "Validating Fold 3, Epoch 4: 100%|██████████| 58/58 [00:04<00:00, 11.68batch/s]\n"
          ]
        },
        {
          "output_type": "stream",
          "name": "stdout",
          "text": [
            "Fold 3, Epoch 4, Val Loss: 0.9933, Val Accuracy: 0.6283\n"
          ]
        },
        {
          "output_type": "stream",
          "name": "stderr",
          "text": [
            "Training Fold 3, Epoch 5: 100%|██████████| 229/229 [00:31<00:00,  7.19batch/s]\n"
          ]
        },
        {
          "output_type": "stream",
          "name": "stdout",
          "text": [
            "Fold 3, Epoch 5, Train Loss: 0.9538, Train Accuracy: 0.6481\n"
          ]
        },
        {
          "output_type": "stream",
          "name": "stderr",
          "text": [
            "Validating Fold 3, Epoch 5: 100%|██████████| 58/58 [00:04<00:00, 11.68batch/s]\n"
          ]
        },
        {
          "output_type": "stream",
          "name": "stdout",
          "text": [
            "Fold 3, Epoch 5, Val Loss: 0.9480, Val Accuracy: 0.6502\n"
          ]
        },
        {
          "output_type": "stream",
          "name": "stderr",
          "text": [
            "Training Fold 3, Epoch 6: 100%|██████████| 229/229 [00:31<00:00,  7.16batch/s]\n"
          ]
        },
        {
          "output_type": "stream",
          "name": "stdout",
          "text": [
            "Fold 3, Epoch 6, Train Loss: 0.9117, Train Accuracy: 0.6639\n"
          ]
        },
        {
          "output_type": "stream",
          "name": "stderr",
          "text": [
            "Validating Fold 3, Epoch 6: 100%|██████████| 58/58 [00:04<00:00, 12.66batch/s]\n"
          ]
        },
        {
          "output_type": "stream",
          "name": "stdout",
          "text": [
            "Fold 3, Epoch 6, Val Loss: 1.0052, Val Accuracy: 0.6239\n"
          ]
        },
        {
          "output_type": "stream",
          "name": "stderr",
          "text": [
            "Training Fold 3, Epoch 7: 100%|██████████| 229/229 [00:32<00:00,  7.10batch/s]\n"
          ]
        },
        {
          "output_type": "stream",
          "name": "stdout",
          "text": [
            "Fold 3, Epoch 7, Train Loss: 0.8775, Train Accuracy: 0.6773\n"
          ]
        },
        {
          "output_type": "stream",
          "name": "stderr",
          "text": [
            "Validating Fold 3, Epoch 7: 100%|██████████| 58/58 [00:04<00:00, 12.74batch/s]\n"
          ]
        },
        {
          "output_type": "stream",
          "name": "stdout",
          "text": [
            "Fold 3, Epoch 7, Val Loss: 0.9060, Val Accuracy: 0.6653\n"
          ]
        },
        {
          "output_type": "stream",
          "name": "stderr",
          "text": [
            "Training Fold 3, Epoch 8: 100%|██████████| 229/229 [00:32<00:00,  7.06batch/s]\n"
          ]
        },
        {
          "output_type": "stream",
          "name": "stdout",
          "text": [
            "Fold 3, Epoch 8, Train Loss: 0.8460, Train Accuracy: 0.6897\n"
          ]
        },
        {
          "output_type": "stream",
          "name": "stderr",
          "text": [
            "Validating Fold 3, Epoch 8: 100%|██████████| 58/58 [00:04<00:00, 12.63batch/s]\n"
          ]
        },
        {
          "output_type": "stream",
          "name": "stdout",
          "text": [
            "Fold 3, Epoch 8, Val Loss: 0.9271, Val Accuracy: 0.6532\n"
          ]
        },
        {
          "output_type": "stream",
          "name": "stderr",
          "text": [
            "Training Fold 3, Epoch 9: 100%|██████████| 229/229 [00:32<00:00,  7.04batch/s]\n"
          ]
        },
        {
          "output_type": "stream",
          "name": "stdout",
          "text": [
            "Fold 3, Epoch 9, Train Loss: 0.8170, Train Accuracy: 0.7032\n"
          ]
        },
        {
          "output_type": "stream",
          "name": "stderr",
          "text": [
            "Validating Fold 3, Epoch 9: 100%|██████████| 58/58 [00:04<00:00, 13.30batch/s]\n"
          ]
        },
        {
          "output_type": "stream",
          "name": "stdout",
          "text": [
            "Fold 3, Epoch 9, Val Loss: 0.9490, Val Accuracy: 0.6461\n"
          ]
        },
        {
          "output_type": "stream",
          "name": "stderr",
          "text": [
            "Training Fold 3, Epoch 10: 100%|██████████| 229/229 [00:32<00:00,  7.11batch/s]\n"
          ]
        },
        {
          "output_type": "stream",
          "name": "stdout",
          "text": [
            "Fold 3, Epoch 10, Train Loss: 0.7848, Train Accuracy: 0.7136\n"
          ]
        },
        {
          "output_type": "stream",
          "name": "stderr",
          "text": [
            "Validating Fold 3, Epoch 10: 100%|██████████| 58/58 [00:04<00:00, 13.07batch/s]\n"
          ]
        },
        {
          "output_type": "stream",
          "name": "stdout",
          "text": [
            "Fold 3, Epoch 10, Val Loss: 0.9523, Val Accuracy: 0.6571\n"
          ]
        },
        {
          "output_type": "stream",
          "name": "stderr",
          "text": [
            "Training Fold 3, Epoch 11: 100%|██████████| 229/229 [00:32<00:00,  7.03batch/s]\n"
          ]
        },
        {
          "output_type": "stream",
          "name": "stdout",
          "text": [
            "Fold 3, Epoch 11, Train Loss: 0.7564, Train Accuracy: 0.7264\n"
          ]
        },
        {
          "output_type": "stream",
          "name": "stderr",
          "text": [
            "Validating Fold 3, Epoch 11: 100%|██████████| 58/58 [00:04<00:00, 11.62batch/s]\n"
          ]
        },
        {
          "output_type": "stream",
          "name": "stdout",
          "text": [
            "Fold 3, Epoch 11, Val Loss: 0.9330, Val Accuracy: 0.6724\n"
          ]
        },
        {
          "output_type": "stream",
          "name": "stderr",
          "text": [
            "Training Fold 3, Epoch 12: 100%|██████████| 229/229 [00:32<00:00,  7.05batch/s]\n"
          ]
        },
        {
          "output_type": "stream",
          "name": "stdout",
          "text": [
            "Fold 3, Epoch 12, Train Loss: 0.7229, Train Accuracy: 0.7356\n"
          ]
        },
        {
          "output_type": "stream",
          "name": "stderr",
          "text": [
            "Validating Fold 3, Epoch 12: 100%|██████████| 58/58 [00:05<00:00, 11.48batch/s]\n"
          ]
        },
        {
          "output_type": "stream",
          "name": "stdout",
          "text": [
            "Fold 3, Epoch 12, Val Loss: 0.8924, Val Accuracy: 0.6746\n",
            "Fold 4/5\n"
          ]
        },
        {
          "output_type": "stream",
          "name": "stderr",
          "text": [
            "Training Fold 4, Epoch 1: 100%|██████████| 229/229 [00:32<00:00,  7.10batch/s]\n"
          ]
        },
        {
          "output_type": "stream",
          "name": "stdout",
          "text": [
            "Fold 4, Epoch 1, Train Loss: 1.3165, Train Accuracy: 0.4899\n"
          ]
        },
        {
          "output_type": "stream",
          "name": "stderr",
          "text": [
            "Validating Fold 4, Epoch 1: 100%|██████████| 58/58 [00:05<00:00, 11.34batch/s]\n"
          ]
        },
        {
          "output_type": "stream",
          "name": "stdout",
          "text": [
            "Fold 4, Epoch 1, Val Loss: 1.1804, Val Accuracy: 0.5505\n"
          ]
        },
        {
          "output_type": "stream",
          "name": "stderr",
          "text": [
            "Training Fold 4, Epoch 2: 100%|██████████| 229/229 [00:32<00:00,  7.12batch/s]\n"
          ]
        },
        {
          "output_type": "stream",
          "name": "stdout",
          "text": [
            "Fold 4, Epoch 2, Train Loss: 1.1608, Train Accuracy: 0.5550\n"
          ]
        },
        {
          "output_type": "stream",
          "name": "stderr",
          "text": [
            "Validating Fold 4, Epoch 2: 100%|██████████| 58/58 [00:04<00:00, 11.87batch/s]\n"
          ]
        },
        {
          "output_type": "stream",
          "name": "stdout",
          "text": [
            "Fold 4, Epoch 2, Val Loss: 1.0534, Val Accuracy: 0.6023\n"
          ]
        },
        {
          "output_type": "stream",
          "name": "stderr",
          "text": [
            "Training Fold 4, Epoch 3: 100%|██████████| 229/229 [00:32<00:00,  7.08batch/s]\n"
          ]
        },
        {
          "output_type": "stream",
          "name": "stdout",
          "text": [
            "Fold 4, Epoch 3, Train Loss: 1.0760, Train Accuracy: 0.5950\n"
          ]
        },
        {
          "output_type": "stream",
          "name": "stderr",
          "text": [
            "Validating Fold 4, Epoch 3: 100%|██████████| 58/58 [00:04<00:00, 12.26batch/s]\n"
          ]
        },
        {
          "output_type": "stream",
          "name": "stdout",
          "text": [
            "Fold 4, Epoch 3, Val Loss: 0.9885, Val Accuracy: 0.6239\n"
          ]
        },
        {
          "output_type": "stream",
          "name": "stderr",
          "text": [
            "Training Fold 4, Epoch 4: 100%|██████████| 229/229 [00:32<00:00,  7.04batch/s]\n"
          ]
        },
        {
          "output_type": "stream",
          "name": "stdout",
          "text": [
            "Fold 4, Epoch 4, Train Loss: 1.0105, Train Accuracy: 0.6231\n"
          ]
        },
        {
          "output_type": "stream",
          "name": "stderr",
          "text": [
            "Validating Fold 4, Epoch 4: 100%|██████████| 58/58 [00:04<00:00, 12.66batch/s]\n"
          ]
        },
        {
          "output_type": "stream",
          "name": "stdout",
          "text": [
            "Fold 4, Epoch 4, Val Loss: 0.9992, Val Accuracy: 0.6272\n"
          ]
        },
        {
          "output_type": "stream",
          "name": "stderr",
          "text": [
            "Training Fold 4, Epoch 5: 100%|██████████| 229/229 [00:32<00:00,  7.04batch/s]\n"
          ]
        },
        {
          "output_type": "stream",
          "name": "stdout",
          "text": [
            "Fold 4, Epoch 5, Train Loss: 0.9691, Train Accuracy: 0.6435\n"
          ]
        },
        {
          "output_type": "stream",
          "name": "stderr",
          "text": [
            "Validating Fold 4, Epoch 5: 100%|██████████| 58/58 [00:04<00:00, 12.87batch/s]\n"
          ]
        },
        {
          "output_type": "stream",
          "name": "stdout",
          "text": [
            "Fold 4, Epoch 5, Val Loss: 0.9440, Val Accuracy: 0.6527\n"
          ]
        },
        {
          "output_type": "stream",
          "name": "stderr",
          "text": [
            "Training Fold 4, Epoch 6: 100%|██████████| 229/229 [00:32<00:00,  7.02batch/s]\n"
          ]
        },
        {
          "output_type": "stream",
          "name": "stdout",
          "text": [
            "Fold 4, Epoch 6, Train Loss: 0.9454, Train Accuracy: 0.6540\n"
          ]
        },
        {
          "output_type": "stream",
          "name": "stderr",
          "text": [
            "Validating Fold 4, Epoch 6: 100%|██████████| 58/58 [00:04<00:00, 12.65batch/s]\n"
          ]
        },
        {
          "output_type": "stream",
          "name": "stdout",
          "text": [
            "Fold 4, Epoch 6, Val Loss: 0.8964, Val Accuracy: 0.6719\n"
          ]
        },
        {
          "output_type": "stream",
          "name": "stderr",
          "text": [
            "Training Fold 4, Epoch 7: 100%|██████████| 229/229 [00:32<00:00,  7.03batch/s]\n"
          ]
        },
        {
          "output_type": "stream",
          "name": "stdout",
          "text": [
            "Fold 4, Epoch 7, Train Loss: 0.8987, Train Accuracy: 0.6696\n"
          ]
        },
        {
          "output_type": "stream",
          "name": "stderr",
          "text": [
            "Validating Fold 4, Epoch 7: 100%|██████████| 58/58 [00:04<00:00, 12.86batch/s]\n"
          ]
        },
        {
          "output_type": "stream",
          "name": "stdout",
          "text": [
            "Fold 4, Epoch 7, Val Loss: 0.9240, Val Accuracy: 0.6511\n"
          ]
        },
        {
          "output_type": "stream",
          "name": "stderr",
          "text": [
            "Training Fold 4, Epoch 8: 100%|██████████| 229/229 [00:32<00:00,  7.08batch/s]\n"
          ]
        },
        {
          "output_type": "stream",
          "name": "stdout",
          "text": [
            "Fold 4, Epoch 8, Train Loss: 0.8595, Train Accuracy: 0.6830\n"
          ]
        },
        {
          "output_type": "stream",
          "name": "stderr",
          "text": [
            "Validating Fold 4, Epoch 8: 100%|██████████| 58/58 [00:04<00:00, 11.78batch/s]\n"
          ]
        },
        {
          "output_type": "stream",
          "name": "stdout",
          "text": [
            "Fold 4, Epoch 8, Val Loss: 0.8767, Val Accuracy: 0.6763\n"
          ]
        },
        {
          "output_type": "stream",
          "name": "stderr",
          "text": [
            "Training Fold 4, Epoch 9: 100%|██████████| 229/229 [00:32<00:00,  7.12batch/s]\n"
          ]
        },
        {
          "output_type": "stream",
          "name": "stdout",
          "text": [
            "Fold 4, Epoch 9, Train Loss: 0.8408, Train Accuracy: 0.6901\n"
          ]
        },
        {
          "output_type": "stream",
          "name": "stderr",
          "text": [
            "Validating Fold 4, Epoch 9: 100%|██████████| 58/58 [00:04<00:00, 11.60batch/s]\n"
          ]
        },
        {
          "output_type": "stream",
          "name": "stdout",
          "text": [
            "Fold 4, Epoch 9, Val Loss: 0.8770, Val Accuracy: 0.6768\n"
          ]
        },
        {
          "output_type": "stream",
          "name": "stderr",
          "text": [
            "Training Fold 4, Epoch 10: 100%|██████████| 229/229 [00:32<00:00,  7.12batch/s]\n"
          ]
        },
        {
          "output_type": "stream",
          "name": "stdout",
          "text": [
            "Fold 4, Epoch 10, Train Loss: 0.8047, Train Accuracy: 0.7041\n"
          ]
        },
        {
          "output_type": "stream",
          "name": "stderr",
          "text": [
            "Validating Fold 4, Epoch 10: 100%|██████████| 58/58 [00:05<00:00, 11.47batch/s]\n"
          ]
        },
        {
          "output_type": "stream",
          "name": "stdout",
          "text": [
            "New best model saved with Val Accuracy: 0.6921\n",
            "Fold 4, Epoch 10, Val Loss: 0.8481, Val Accuracy: 0.6921\n"
          ]
        },
        {
          "output_type": "stream",
          "name": "stderr",
          "text": [
            "Training Fold 4, Epoch 11: 100%|██████████| 229/229 [00:32<00:00,  7.11batch/s]\n"
          ]
        },
        {
          "output_type": "stream",
          "name": "stdout",
          "text": [
            "Fold 4, Epoch 11, Train Loss: 0.7814, Train Accuracy: 0.7140\n"
          ]
        },
        {
          "output_type": "stream",
          "name": "stderr",
          "text": [
            "Validating Fold 4, Epoch 11: 100%|██████████| 58/58 [00:04<00:00, 12.24batch/s]\n"
          ]
        },
        {
          "output_type": "stream",
          "name": "stdout",
          "text": [
            "Fold 4, Epoch 11, Val Loss: 0.8437, Val Accuracy: 0.6842\n"
          ]
        },
        {
          "output_type": "stream",
          "name": "stderr",
          "text": [
            "Training Fold 4, Epoch 12: 100%|██████████| 229/229 [00:32<00:00,  7.04batch/s]\n"
          ]
        },
        {
          "output_type": "stream",
          "name": "stdout",
          "text": [
            "Fold 4, Epoch 12, Train Loss: 0.7350, Train Accuracy: 0.7312\n"
          ]
        },
        {
          "output_type": "stream",
          "name": "stderr",
          "text": [
            "Validating Fold 4, Epoch 12: 100%|██████████| 58/58 [00:04<00:00, 12.80batch/s]\n"
          ]
        },
        {
          "output_type": "stream",
          "name": "stdout",
          "text": [
            "Fold 4, Epoch 12, Val Loss: 0.8485, Val Accuracy: 0.6861\n",
            "Fold 5/5\n"
          ]
        },
        {
          "output_type": "stream",
          "name": "stderr",
          "text": [
            "Training Fold 5, Epoch 1: 100%|██████████| 229/229 [00:32<00:00,  6.95batch/s]\n"
          ]
        },
        {
          "output_type": "stream",
          "name": "stdout",
          "text": [
            "Fold 5, Epoch 1, Train Loss: 1.3091, Train Accuracy: 0.4889\n"
          ]
        },
        {
          "output_type": "stream",
          "name": "stderr",
          "text": [
            "Validating Fold 5, Epoch 1: 100%|██████████| 58/58 [00:04<00:00, 12.58batch/s]\n"
          ]
        },
        {
          "output_type": "stream",
          "name": "stdout",
          "text": [
            "Fold 5, Epoch 1, Val Loss: 1.1907, Val Accuracy: 0.5407\n"
          ]
        },
        {
          "output_type": "stream",
          "name": "stderr",
          "text": [
            "Training Fold 5, Epoch 2: 100%|██████████| 229/229 [00:32<00:00,  6.97batch/s]\n"
          ]
        },
        {
          "output_type": "stream",
          "name": "stdout",
          "text": [
            "Fold 5, Epoch 2, Train Loss: 1.1403, Train Accuracy: 0.5629\n"
          ]
        },
        {
          "output_type": "stream",
          "name": "stderr",
          "text": [
            "Validating Fold 5, Epoch 2: 100%|██████████| 58/58 [00:04<00:00, 12.48batch/s]\n"
          ]
        },
        {
          "output_type": "stream",
          "name": "stdout",
          "text": [
            "Fold 5, Epoch 2, Val Loss: 1.0436, Val Accuracy: 0.6045\n"
          ]
        },
        {
          "output_type": "stream",
          "name": "stderr",
          "text": [
            "Training Fold 5, Epoch 3: 100%|██████████| 229/229 [00:33<00:00,  6.93batch/s]\n"
          ]
        },
        {
          "output_type": "stream",
          "name": "stdout",
          "text": [
            "Fold 5, Epoch 3, Train Loss: 1.0494, Train Accuracy: 0.6063\n"
          ]
        },
        {
          "output_type": "stream",
          "name": "stderr",
          "text": [
            "Validating Fold 5, Epoch 3: 100%|██████████| 58/58 [00:04<00:00, 12.49batch/s]\n"
          ]
        },
        {
          "output_type": "stream",
          "name": "stdout",
          "text": [
            "Fold 5, Epoch 3, Val Loss: 1.0439, Val Accuracy: 0.6097\n"
          ]
        },
        {
          "output_type": "stream",
          "name": "stderr",
          "text": [
            "Training Fold 5, Epoch 4: 100%|██████████| 229/229 [00:32<00:00,  6.97batch/s]\n"
          ]
        },
        {
          "output_type": "stream",
          "name": "stdout",
          "text": [
            "Fold 5, Epoch 4, Train Loss: 1.0015, Train Accuracy: 0.6283\n"
          ]
        },
        {
          "output_type": "stream",
          "name": "stderr",
          "text": [
            "Validating Fold 5, Epoch 4: 100%|██████████| 58/58 [00:04<00:00, 12.65batch/s]\n"
          ]
        },
        {
          "output_type": "stream",
          "name": "stdout",
          "text": [
            "Fold 5, Epoch 4, Val Loss: 0.9575, Val Accuracy: 0.6409\n"
          ]
        },
        {
          "output_type": "stream",
          "name": "stderr",
          "text": [
            "Training Fold 5, Epoch 5: 100%|██████████| 229/229 [00:32<00:00,  7.01batch/s]\n"
          ]
        },
        {
          "output_type": "stream",
          "name": "stdout",
          "text": [
            "Fold 5, Epoch 5, Train Loss: 0.9560, Train Accuracy: 0.6456\n"
          ]
        },
        {
          "output_type": "stream",
          "name": "stderr",
          "text": [
            "Validating Fold 5, Epoch 5: 100%|██████████| 58/58 [00:04<00:00, 12.10batch/s]\n"
          ]
        },
        {
          "output_type": "stream",
          "name": "stdout",
          "text": [
            "Fold 5, Epoch 5, Val Loss: 0.9190, Val Accuracy: 0.6598\n"
          ]
        },
        {
          "output_type": "stream",
          "name": "stderr",
          "text": [
            "Training Fold 5, Epoch 6: 100%|██████████| 229/229 [00:32<00:00,  7.06batch/s]\n"
          ]
        },
        {
          "output_type": "stream",
          "name": "stdout",
          "text": [
            "Fold 5, Epoch 6, Train Loss: 0.9236, Train Accuracy: 0.6581\n"
          ]
        },
        {
          "output_type": "stream",
          "name": "stderr",
          "text": [
            "Validating Fold 5, Epoch 6: 100%|██████████| 58/58 [00:04<00:00, 11.64batch/s]\n"
          ]
        },
        {
          "output_type": "stream",
          "name": "stdout",
          "text": [
            "Fold 5, Epoch 6, Val Loss: 0.9340, Val Accuracy: 0.6593\n"
          ]
        },
        {
          "output_type": "stream",
          "name": "stderr",
          "text": [
            "Training Fold 5, Epoch 7: 100%|██████████| 229/229 [00:32<00:00,  7.06batch/s]\n"
          ]
        },
        {
          "output_type": "stream",
          "name": "stdout",
          "text": [
            "Fold 5, Epoch 7, Train Loss: 0.8863, Train Accuracy: 0.6722\n"
          ]
        },
        {
          "output_type": "stream",
          "name": "stderr",
          "text": [
            "Validating Fold 5, Epoch 7: 100%|██████████| 58/58 [00:05<00:00, 11.56batch/s]\n"
          ]
        },
        {
          "output_type": "stream",
          "name": "stdout",
          "text": [
            "Fold 5, Epoch 7, Val Loss: 0.9232, Val Accuracy: 0.6552\n"
          ]
        },
        {
          "output_type": "stream",
          "name": "stderr",
          "text": [
            "Training Fold 5, Epoch 8: 100%|██████████| 229/229 [00:32<00:00,  7.04batch/s]\n"
          ]
        },
        {
          "output_type": "stream",
          "name": "stdout",
          "text": [
            "Fold 5, Epoch 8, Train Loss: 0.8550, Train Accuracy: 0.6856\n"
          ]
        },
        {
          "output_type": "stream",
          "name": "stderr",
          "text": [
            "Validating Fold 5, Epoch 8: 100%|██████████| 58/58 [00:05<00:00, 11.30batch/s]\n"
          ]
        },
        {
          "output_type": "stream",
          "name": "stdout",
          "text": [
            "Fold 5, Epoch 8, Val Loss: 0.9159, Val Accuracy: 0.6637\n"
          ]
        },
        {
          "output_type": "stream",
          "name": "stderr",
          "text": [
            "Training Fold 5, Epoch 9: 100%|██████████| 229/229 [00:32<00:00,  7.03batch/s]\n"
          ]
        },
        {
          "output_type": "stream",
          "name": "stdout",
          "text": [
            "Fold 5, Epoch 9, Train Loss: 0.8209, Train Accuracy: 0.6971\n"
          ]
        },
        {
          "output_type": "stream",
          "name": "stderr",
          "text": [
            "Validating Fold 5, Epoch 9: 100%|██████████| 58/58 [00:04<00:00, 11.62batch/s]\n"
          ]
        },
        {
          "output_type": "stream",
          "name": "stdout",
          "text": [
            "Fold 5, Epoch 9, Val Loss: 0.8671, Val Accuracy: 0.6878\n"
          ]
        },
        {
          "output_type": "stream",
          "name": "stderr",
          "text": [
            "Training Fold 5, Epoch 10: 100%|██████████| 229/229 [00:32<00:00,  7.02batch/s]\n"
          ]
        },
        {
          "output_type": "stream",
          "name": "stdout",
          "text": [
            "Fold 5, Epoch 10, Train Loss: 0.7852, Train Accuracy: 0.7147\n"
          ]
        },
        {
          "output_type": "stream",
          "name": "stderr",
          "text": [
            "Validating Fold 5, Epoch 10: 100%|██████████| 58/58 [00:04<00:00, 11.77batch/s]\n"
          ]
        },
        {
          "output_type": "stream",
          "name": "stdout",
          "text": [
            "Fold 5, Epoch 10, Val Loss: 0.9157, Val Accuracy: 0.6691\n"
          ]
        },
        {
          "output_type": "stream",
          "name": "stderr",
          "text": [
            "Training Fold 5, Epoch 11: 100%|██████████| 229/229 [00:32<00:00,  7.03batch/s]\n"
          ]
        },
        {
          "output_type": "stream",
          "name": "stdout",
          "text": [
            "Fold 5, Epoch 11, Train Loss: 0.7519, Train Accuracy: 0.7270\n"
          ]
        },
        {
          "output_type": "stream",
          "name": "stderr",
          "text": [
            "Validating Fold 5, Epoch 11: 100%|██████████| 58/58 [00:04<00:00, 12.66batch/s]\n"
          ]
        },
        {
          "output_type": "stream",
          "name": "stdout",
          "text": [
            "Fold 5, Epoch 11, Val Loss: 0.9012, Val Accuracy: 0.6721\n"
          ]
        },
        {
          "output_type": "stream",
          "name": "stderr",
          "text": [
            "Training Fold 5, Epoch 12: 100%|██████████| 229/229 [00:33<00:00,  6.93batch/s]\n"
          ]
        },
        {
          "output_type": "stream",
          "name": "stdout",
          "text": [
            "Fold 5, Epoch 12, Train Loss: 0.7229, Train Accuracy: 0.7373\n"
          ]
        },
        {
          "output_type": "stream",
          "name": "stderr",
          "text": [
            "Validating Fold 5, Epoch 12: 100%|██████████| 58/58 [00:04<00:00, 12.59batch/s]"
          ]
        },
        {
          "output_type": "stream",
          "name": "stdout",
          "text": [
            "Fold 5, Epoch 12, Val Loss: 0.8695, Val Accuracy: 0.6875\n",
            "Average Training Loss: 0.9355\n",
            "Average Validation Loss: 0.9766\n",
            "Average Training Accuracy: 0.6517\n",
            "Average Validation Accuracy: 0.6384\n"
          ]
        },
        {
          "output_type": "stream",
          "name": "stderr",
          "text": [
            "\n"
          ]
        }
      ],
      "source": [
        "# Initialize the dataset\n",
        "full_train_dataset = EthnicityDataset(root_dir=\"Dataset/nose/train\", transform=transform_nose)\n",
        "test_dataset = EthnicityDataset(root_dir=\"Dataset/nose/test\", transform=transform_nose)\n",
        "test_loader = DataLoader(test_dataset, batch_size=32, shuffle=False)\n",
        "\n",
        "# K-fold Cross-Validation\n",
        "k = 5  # Choose K = 5\n",
        "kf = KFold(n_splits=k, shuffle=True, random_state=42)\n",
        "\n",
        "# Array to store results for each fold\n",
        "fold_train_losses = []\n",
        "fold_val_losses = []\n",
        "fold_train_accuracies = []\n",
        "fold_val_accuracies = []\n",
        "best_val_accuracy = 0.0\n",
        "best_model_state = None\n",
        "\n",
        "num_epochs = 12\n",
        "batch_size = 64\n",
        "\n",
        "for fold, (train_idx, val_idx) in enumerate(kf.split(np.arange(len(full_train_dataset)))):\n",
        "    print(f\"Fold {fold + 1}/{k}\")\n",
        "\n",
        "    # Create subsets for training and validation\n",
        "    train_subset = Subset(full_train_dataset, train_idx)\n",
        "    val_subset = Subset(full_train_dataset, val_idx)\n",
        "\n",
        "    # Create data loaders for the current fold\n",
        "    train_loader = DataLoader(train_subset, batch_size=batch_size, shuffle=True)\n",
        "    val_loader = DataLoader(val_subset, batch_size=batch_size, shuffle=False)\n",
        "\n",
        "    # Reinitialize the model and optimizer for each fold\n",
        "    nose_net = CNN(hid_1, hid_2, hid_3, hid_4, hid_5, hid_6, n_x, n_y, drop_1, drop_2)\n",
        "    nose_net = nose_net.to(device)  # Ensure the model is on the correct GPU/CPU\n",
        "    nose_optimizer = torch.optim.Adam(nose_net.parameters(), lr=0.001, weight_decay=0.0001)\n",
        "\n",
        "    # Criterion\n",
        "    criterion = nn.CrossEntropyLoss()\n",
        "\n",
        "    # Metrics for each fold\n",
        "    train_losses = []\n",
        "    val_losses = []\n",
        "    train_accuracies = []\n",
        "    val_accuracies = []\n",
        "\n",
        "    # Training for each fold\n",
        "    for epoch in range(num_epochs):\n",
        "        # Training Phase\n",
        "        nose_net.train()\n",
        "        running_loss = 0.0\n",
        "        correct = 0\n",
        "        total = 0\n",
        "\n",
        "        for data in tqdm(train_loader, desc=f\"Training Fold {fold + 1}, Epoch {epoch + 1}\", unit=\"batch\"):\n",
        "            inputs, labels = data\n",
        "            inputs, labels = inputs.to(device), labels.to(device)\n",
        "\n",
        "            # Zero the gradients\n",
        "            nose_optimizer.zero_grad()\n",
        "\n",
        "            # Forward pass\n",
        "            outputs = nose_net(inputs)\n",
        "            loss = criterion(outputs, labels)\n",
        "            loss.backward()\n",
        "            nose_optimizer.step()\n",
        "\n",
        "            running_loss += loss.item()\n",
        "\n",
        "            # Accuracy\n",
        "            _, predicted = torch.max(outputs, 1)\n",
        "            total += labels.size(0)\n",
        "            correct += (predicted == labels).sum().item()\n",
        "\n",
        "        avg_train_loss = running_loss / len(train_loader)\n",
        "        train_accuracy = correct / total\n",
        "        train_losses.append(avg_train_loss)\n",
        "        train_accuracies.append(train_accuracy)\n",
        "\n",
        "        print(f\"Fold {fold + 1}, Epoch {epoch + 1}, Train Loss: {avg_train_loss:.4f}, Train Accuracy: {train_accuracy:.4f}\")\n",
        "\n",
        "        # Validation Phase\n",
        "        nose_net.eval()\n",
        "        val_running_loss = 0.0\n",
        "        correct = 0\n",
        "        total = 0\n",
        "\n",
        "        with torch.no_grad():\n",
        "            for data in tqdm(val_loader, desc=f\"Validating Fold {fold + 1}, Epoch {epoch + 1}\", unit=\"batch\"):\n",
        "                inputs, labels = data\n",
        "                inputs, labels = inputs.to(device), labels.to(device)\n",
        "\n",
        "                outputs = nose_net(inputs)\n",
        "                loss = criterion(outputs, labels)\n",
        "\n",
        "                val_running_loss += loss.item()\n",
        "\n",
        "                # Accuracy\n",
        "                _, predicted = torch.max(outputs, 1)\n",
        "                total += labels.size(0)\n",
        "                correct += (predicted == labels).sum().item()\n",
        "\n",
        "        avg_val_loss = val_running_loss / len(val_loader)\n",
        "        val_accuracy = correct / total\n",
        "        val_losses.append(avg_val_loss)\n",
        "        val_accuracies.append(val_accuracy)\n",
        "\n",
        "        if val_accuracy > best_val_accuracy:\n",
        "            best_val_accuracy = val_accuracy\n",
        "            best_model_state = nose_net.state_dict()\n",
        "            print(f\"New best model saved with Val Accuracy: {best_val_accuracy:.4f}\")\n",
        "        print(f\"Fold {fold + 1}, Epoch {epoch + 1}, Val Loss: {avg_val_loss:.4f}, Val Accuracy: {val_accuracy:.4f}\")\n",
        "\n",
        "    # Save results for the current fold\n",
        "    fold_train_losses.append(train_losses)\n",
        "    fold_val_losses.append(val_losses)\n",
        "    fold_train_accuracies.append(train_accuracies)\n",
        "    fold_val_accuracies.append(val_accuracies)\n",
        "\n",
        "torch.save(best_model_state, \"best_nose_net.pth\")\n",
        "\n",
        "# Calculate the average metrics across all folds\n",
        "mean_train_loss = np.mean([np.mean(fold) for fold in fold_train_losses])\n",
        "mean_val_loss = np.mean([np.mean(fold) for fold in fold_val_losses])\n",
        "mean_train_accuracy = np.mean([np.mean(fold) for fold in fold_train_accuracies])\n",
        "mean_val_accuracy = np.mean([np.mean(fold) for fold in fold_val_accuracies])\n",
        "\n",
        "print(f\"Average Training Loss: {mean_train_loss:.4f}\")\n",
        "print(f\"Average Validation Loss: {mean_val_loss:.4f}\")\n",
        "print(f\"Average Training Accuracy: {mean_train_accuracy:.4f}\")\n",
        "print(f\"Average Validation Accuracy: {mean_val_accuracy:.4f}\")"
      ]
    },
    {
      "cell_type": "code",
      "execution_count": 10,
      "metadata": {
        "id": "X-d2jiCq9gIz",
        "colab": {
          "base_uri": "https://localhost:8080/",
          "height": 958
        },
        "outputId": "68736922-e70c-415a-bf2b-75b1903062e6"
      },
      "outputs": [
        {
          "output_type": "stream",
          "name": "stderr",
          "text": [
            "<ipython-input-10-5fad636bf744>:4: FutureWarning: You are using `torch.load` with `weights_only=False` (the current default value), which uses the default pickle module implicitly. It is possible to construct malicious pickle data which will execute arbitrary code during unpickling (See https://github.com/pytorch/pytorch/blob/main/SECURITY.md#untrusted-models for more details). In a future release, the default value for `weights_only` will be flipped to `True`. This limits the functions that could be executed during unpickling. Arbitrary objects will no longer be allowed to be loaded via this mode unless they are explicitly allowlisted by the user via `torch.serialization.add_safe_globals`. We recommend you start setting `weights_only=True` for any use case where you don't have full control of the loaded file. Please open an issue on GitHub for any issues related to this experimental feature.\n",
            "  nose_net.load_state_dict(torch.load(\"best_nose_net.pth\"))\n"
          ]
        },
        {
          "output_type": "display_data",
          "data": {
            "text/plain": [
              "<Figure size 1000x700 with 2 Axes>"
            ],
            "image/png": "[encoded data removed]"
          },
          "metadata": {}
        },
        {
          "output_type": "stream",
          "name": "stdout",
          "text": [
            "\n",
            "Classification Report:\n",
            "              precision    recall  f1-score   support\n",
            "\n",
            "       White       0.69      0.83      0.75      2018\n",
            "       Black       0.67      0.70      0.68       927\n",
            "       Asian       0.64      0.57      0.60       670\n",
            "      Indian       0.53      0.49      0.51       802\n",
            "      Others       0.25      0.04      0.07       359\n",
            "\n",
            "    accuracy                           0.65      4776\n",
            "   macro avg       0.56      0.52      0.52      4776\n",
            "weighted avg       0.62      0.65      0.63      4776\n",
            "\n"
          ]
        }
      ],
      "source": [
        "all_labels = []\n",
        "all_preds = []\n",
        "nose_net = CNN(hid_1, hid_2, hid_3, hid_4, hid_5, hid_6, n_x, n_y, drop_1, drop_2)\n",
        "nose_net.load_state_dict(torch.load(\"best_nose_net.pth\"))\n",
        "nose_net = nose_net.to(device)\n",
        "\n",
        "with torch.no_grad():\n",
        "    for data in test_loader:\n",
        "        images, labels = data\n",
        "        images, labels = images.to(device), labels.to(device)\n",
        "\n",
        "        outputs = nose_net(images)\n",
        "        _, predicted = torch.max(outputs.data, 1)\n",
        "        all_labels.extend(labels.cpu().numpy())\n",
        "        all_preds.extend(predicted.cpu().numpy())\n",
        "\n",
        "\n",
        "conf_matrix = confusion_matrix(all_labels, all_preds)\n",
        "\n",
        "plt.figure(figsize=(10, 7))\n",
        "sns.heatmap(conf_matrix, annot=True, fmt='d', cmap='Blues', xticklabels=class_names, yticklabels=class_names)\n",
        "\n",
        "plt.title('Confusion Matrix', fontsize=16)\n",
        "plt.xlabel('Predicted Labels', fontsize=14)\n",
        "plt.ylabel('True Labels', fontsize=14)\n",
        "plt.xticks(fontsize=12)\n",
        "plt.yticks(fontsize=12)\n",
        "\n",
        "plt.show()\n",
        "\n",
        "print(\"\\nClassification Report:\")\n",
        "print(classification_report(all_labels, all_preds, target_names=class_names, zero_division=0))"
      ]
    },
    {
      "cell_type": "markdown",
      "metadata": {
        "id": "4USmhOOI9m8D"
      },
      "source": [
        "**MOUTH TRAINING VALIDATION AND TEST**"
      ]
    },
    {
      "cell_type": "code",
      "execution_count": 7,
      "metadata": {
        "id": "-55Okk969ug2",
        "colab": {
          "base_uri": "https://localhost:8080/"
        },
        "outputId": "8565aadf-b241-48e3-8d07-800f790fcae0"
      },
      "outputs": [
        {
          "metadata": {
            "tags": null
          },
          "name": "stdout",
          "output_type": "stream",
          "text": [
            "Fold 1/5\n"
          ]
        },
        {
          "metadata": {
            "tags": null
          },
          "name": "stderr",
          "output_type": "stream",
          "text": [
            "Training Fold 1, Epoch 1: 100%|██████████| 229/229 [00:40<00:00,  5.62batch/s]\n"
          ]
        },
        {
          "metadata": {
            "tags": null
          },
          "name": "stdout",
          "output_type": "stream",
          "text": [
            "Fold 1, Epoch 1, Train Loss: 1.2193, Train Accuracy: 0.5340\n"
          ]
        },
        {
          "metadata": {
            "tags": null
          },
          "name": "stderr",
          "output_type": "stream",
          "text": [
            "Validating Fold 1, Epoch 1: 100%|██████████| 58/58 [00:05<00:00, 11.50batch/s]\n"
          ]
        },
        {
          "metadata": {
            "tags": null
          },
          "name": "stdout",
          "output_type": "stream",
          "text": [
            "New best model saved with Val Accuracy: 0.5516\n",
            "Fold 1, Epoch 1, Val Loss: 1.1628, Val Accuracy: 0.5516\n"
          ]
        },
        {
          "metadata": {
            "tags": null
          },
          "name": "stderr",
          "output_type": "stream",
          "text": [
            "Training Fold 1, Epoch 2: 100%|██████████| 229/229 [00:30<00:00,  7.45batch/s]\n"
          ]
        },
        {
          "metadata": {
            "tags": null
          },
          "name": "stdout",
          "output_type": "stream",
          "text": [
            "Fold 1, Epoch 2, Train Loss: 1.1203, Train Accuracy: 0.5772\n"
          ]
        },
        {
          "metadata": {
            "tags": null
          },
          "name": "stderr",
          "output_type": "stream",
          "text": [
            "Validating Fold 1, Epoch 2: 100%|██████████| 58/58 [00:04<00:00, 12.73batch/s]\n"
          ]
        },
        {
          "metadata": {
            "tags": null
          },
          "name": "stdout",
          "output_type": "stream",
          "text": [
            "New best model saved with Val Accuracy: 0.5968\n",
            "Fold 1, Epoch 2, Val Loss: 1.0682, Val Accuracy: 0.5968\n"
          ]
        },
        {
          "metadata": {
            "tags": null
          },
          "name": "stderr",
          "output_type": "stream",
          "text": [
            "Training Fold 1, Epoch 3: 100%|██████████| 229/229 [00:31<00:00,  7.21batch/s]\n"
          ]
        },
        {
          "metadata": {
            "tags": null
          },
          "name": "stdout",
          "output_type": "stream",
          "text": [
            "Fold 1, Epoch 3, Train Loss: 1.0708, Train Accuracy: 0.5915\n"
          ]
        },
        {
          "metadata": {
            "tags": null
          },
          "name": "stderr",
          "output_type": "stream",
          "text": [
            "Validating Fold 1, Epoch 3: 100%|██████████| 58/58 [00:04<00:00, 12.86batch/s]\n"
          ]
        },
        {
          "metadata": {
            "tags": null
          },
          "name": "stdout",
          "output_type": "stream",
          "text": [
            "New best model saved with Val Accuracy: 0.5990\n",
            "Fold 1, Epoch 3, Val Loss: 1.0540, Val Accuracy: 0.5990\n"
          ]
        },
        {
          "metadata": {
            "tags": null
          },
          "name": "stderr",
          "output_type": "stream",
          "text": [
            "Training Fold 1, Epoch 4: 100%|██████████| 229/229 [00:31<00:00,  7.26batch/s]\n"
          ]
        },
        {
          "metadata": {
            "tags": null
          },
          "name": "stdout",
          "output_type": "stream",
          "text": [
            "Fold 1, Epoch 4, Train Loss: 1.0302, Train Accuracy: 0.6105\n"
          ]
        },
        {
          "metadata": {
            "tags": null
          },
          "name": "stderr",
          "output_type": "stream",
          "text": [
            "Validating Fold 1, Epoch 4: 100%|██████████| 58/58 [00:04<00:00, 11.82batch/s]\n"
          ]
        },
        {
          "metadata": {
            "tags": null
          },
          "name": "stdout",
          "output_type": "stream",
          "text": [
            "New best model saved with Val Accuracy: 0.6190\n",
            "Fold 1, Epoch 4, Val Loss: 1.0106, Val Accuracy: 0.6190\n"
          ]
        },
        {
          "metadata": {
            "tags": null
          },
          "name": "stderr",
          "output_type": "stream",
          "text": [
            "Training Fold 1, Epoch 5: 100%|██████████| 229/229 [00:31<00:00,  7.26batch/s]\n"
          ]
        },
        {
          "metadata": {
            "tags": null
          },
          "name": "stdout",
          "output_type": "stream",
          "text": [
            "Fold 1, Epoch 5, Train Loss: 0.9947, Train Accuracy: 0.6266\n"
          ]
        },
        {
          "metadata": {
            "tags": null
          },
          "name": "stderr",
          "output_type": "stream",
          "text": [
            "Validating Fold 1, Epoch 5: 100%|██████████| 58/58 [00:04<00:00, 12.19batch/s]\n"
          ]
        },
        {
          "metadata": {
            "tags": null
          },
          "name": "stdout",
          "output_type": "stream",
          "text": [
            "New best model saved with Val Accuracy: 0.6322\n",
            "Fold 1, Epoch 5, Val Loss: 0.9927, Val Accuracy: 0.6322\n"
          ]
        },
        {
          "metadata": {
            "tags": null
          },
          "name": "stderr",
          "output_type": "stream",
          "text": [
            "Training Fold 1, Epoch 6: 100%|██████████| 229/229 [00:31<00:00,  7.36batch/s]\n"
          ]
        },
        {
          "metadata": {
            "tags": null
          },
          "name": "stdout",
          "output_type": "stream",
          "text": [
            "Fold 1, Epoch 6, Train Loss: 0.9644, Train Accuracy: 0.6395\n"
          ]
        },
        {
          "metadata": {
            "tags": null
          },
          "name": "stderr",
          "output_type": "stream",
          "text": [
            "Validating Fold 1, Epoch 6: 100%|██████████| 58/58 [00:05<00:00, 11.42batch/s]\n"
          ]
        },
        {
          "metadata": {
            "tags": null
          },
          "name": "stdout",
          "output_type": "stream",
          "text": [
            "New best model saved with Val Accuracy: 0.6489\n",
            "Fold 1, Epoch 6, Val Loss: 0.9689, Val Accuracy: 0.6489\n"
          ]
        },
        {
          "metadata": {
            "tags": null
          },
          "name": "stderr",
          "output_type": "stream",
          "text": [
            "Training Fold 1, Epoch 7: 100%|██████████| 229/229 [00:31<00:00,  7.36batch/s]\n"
          ]
        },
        {
          "metadata": {
            "tags": null
          },
          "name": "stdout",
          "output_type": "stream",
          "text": [
            "Fold 1, Epoch 7, Train Loss: 0.9356, Train Accuracy: 0.6453\n"
          ]
        },
        {
          "metadata": {
            "tags": null
          },
          "name": "stderr",
          "output_type": "stream",
          "text": [
            "Validating Fold 1, Epoch 7: 100%|██████████| 58/58 [00:04<00:00, 12.71batch/s]\n"
          ]
        },
        {
          "metadata": {
            "tags": null
          },
          "name": "stdout",
          "output_type": "stream",
          "text": [
            "Fold 1, Epoch 7, Val Loss: 0.9755, Val Accuracy: 0.6343\n"
          ]
        },
        {
          "metadata": {
            "tags": null
          },
          "name": "stderr",
          "output_type": "stream",
          "text": [
            "Training Fold 1, Epoch 8: 100%|██████████| 229/229 [00:31<00:00,  7.29batch/s]\n"
          ]
        },
        {
          "metadata": {
            "tags": null
          },
          "name": "stdout",
          "output_type": "stream",
          "text": [
            "Fold 1, Epoch 8, Train Loss: 0.9047, Train Accuracy: 0.6649\n"
          ]
        },
        {
          "metadata": {
            "tags": null
          },
          "name": "stderr",
          "output_type": "stream",
          "text": [
            "Validating Fold 1, Epoch 8: 100%|██████████| 58/58 [00:04<00:00, 12.90batch/s]\n"
          ]
        },
        {
          "metadata": {
            "tags": null
          },
          "name": "stdout",
          "output_type": "stream",
          "text": [
            "Fold 1, Epoch 8, Val Loss: 0.9544, Val Accuracy: 0.6387\n"
          ]
        },
        {
          "metadata": {
            "tags": null
          },
          "name": "stderr",
          "output_type": "stream",
          "text": [
            "Training Fold 1, Epoch 9: 100%|██████████| 229/229 [00:31<00:00,  7.23batch/s]\n"
          ]
        },
        {
          "metadata": {
            "tags": null
          },
          "name": "stdout",
          "output_type": "stream",
          "text": [
            "Fold 1, Epoch 9, Train Loss: 0.8709, Train Accuracy: 0.6759\n"
          ]
        },
        {
          "metadata": {
            "tags": null
          },
          "name": "stderr",
          "output_type": "stream",
          "text": [
            "Validating Fold 1, Epoch 9: 100%|██████████| 58/58 [00:04<00:00, 12.84batch/s]\n"
          ]
        },
        {
          "metadata": {
            "tags": null
          },
          "name": "stdout",
          "output_type": "stream",
          "text": [
            "New best model saved with Val Accuracy: 0.6672\n",
            "Fold 1, Epoch 9, Val Loss: 0.9240, Val Accuracy: 0.6672\n"
          ]
        },
        {
          "metadata": {
            "tags": null
          },
          "name": "stderr",
          "output_type": "stream",
          "text": [
            "Training Fold 1, Epoch 10: 100%|██████████| 229/229 [00:31<00:00,  7.29batch/s]\n"
          ]
        },
        {
          "metadata": {
            "tags": null
          },
          "name": "stdout",
          "output_type": "stream",
          "text": [
            "Fold 1, Epoch 10, Train Loss: 0.8300, Train Accuracy: 0.6938\n"
          ]
        },
        {
          "metadata": {
            "tags": null
          },
          "name": "stderr",
          "output_type": "stream",
          "text": [
            "Validating Fold 1, Epoch 10: 100%|██████████| 58/58 [00:04<00:00, 11.74batch/s]\n"
          ]
        },
        {
          "metadata": {
            "tags": null
          },
          "name": "stdout",
          "output_type": "stream",
          "text": [
            "Fold 1, Epoch 10, Val Loss: 0.9046, Val Accuracy: 0.6656\n"
          ]
        },
        {
          "metadata": {
            "tags": null
          },
          "name": "stderr",
          "output_type": "stream",
          "text": [
            "Training Fold 1, Epoch 11: 100%|██████████| 229/229 [00:31<00:00,  7.30batch/s]\n"
          ]
        },
        {
          "metadata": {
            "tags": null
          },
          "name": "stdout",
          "output_type": "stream",
          "text": [
            "Fold 1, Epoch 11, Train Loss: 0.8079, Train Accuracy: 0.7055\n"
          ]
        },
        {
          "metadata": {
            "tags": null
          },
          "name": "stderr",
          "output_type": "stream",
          "text": [
            "Validating Fold 1, Epoch 11: 100%|██████████| 58/58 [00:05<00:00, 11.17batch/s]\n"
          ]
        },
        {
          "metadata": {
            "tags": null
          },
          "name": "stdout",
          "output_type": "stream",
          "text": [
            "Fold 1, Epoch 11, Val Loss: 0.9207, Val Accuracy: 0.6631\n"
          ]
        },
        {
          "metadata": {
            "tags": null
          },
          "name": "stderr",
          "output_type": "stream",
          "text": [
            "Training Fold 1, Epoch 12: 100%|██████████| 229/229 [00:31<00:00,  7.33batch/s]\n"
          ]
        },
        {
          "metadata": {
            "tags": null
          },
          "name": "stdout",
          "output_type": "stream",
          "text": [
            "Fold 1, Epoch 12, Train Loss: 0.7741, Train Accuracy: 0.7141\n"
          ]
        },
        {
          "metadata": {
            "tags": null
          },
          "name": "stderr",
          "output_type": "stream",
          "text": [
            "Validating Fold 1, Epoch 12: 100%|██████████| 58/58 [00:04<00:00, 11.88batch/s]\n"
          ]
        },
        {
          "metadata": {
            "tags": null
          },
          "name": "stdout",
          "output_type": "stream",
          "text": [
            "Fold 1, Epoch 12, Val Loss: 0.9286, Val Accuracy: 0.6615\n",
            "Fold 2/5\n"
          ]
        },
        {
          "metadata": {
            "tags": null
          },
          "name": "stderr",
          "output_type": "stream",
          "text": [
            "Training Fold 2, Epoch 1: 100%|██████████| 229/229 [00:31<00:00,  7.23batch/s]\n"
          ]
        },
        {
          "metadata": {
            "tags": null
          },
          "name": "stdout",
          "output_type": "stream",
          "text": [
            "Fold 2, Epoch 1, Train Loss: 1.2053, Train Accuracy: 0.5414\n"
          ]
        },
        {
          "metadata": {
            "tags": null
          },
          "name": "stderr",
          "output_type": "stream",
          "text": [
            "Validating Fold 2, Epoch 1: 100%|██████████| 58/58 [00:04<00:00, 12.85batch/s]\n"
          ]
        },
        {
          "metadata": {
            "tags": null
          },
          "name": "stdout",
          "output_type": "stream",
          "text": [
            "Fold 2, Epoch 1, Val Loss: 1.1442, Val Accuracy: 0.5711\n"
          ]
        },
        {
          "metadata": {
            "tags": null
          },
          "name": "stderr",
          "output_type": "stream",
          "text": [
            "Training Fold 2, Epoch 2: 100%|██████████| 229/229 [00:31<00:00,  7.22batch/s]\n"
          ]
        },
        {
          "metadata": {
            "tags": null
          },
          "name": "stdout",
          "output_type": "stream",
          "text": [
            "Fold 2, Epoch 2, Train Loss: 1.0985, Train Accuracy: 0.5898\n"
          ]
        },
        {
          "metadata": {
            "tags": null
          },
          "name": "stderr",
          "output_type": "stream",
          "text": [
            "Validating Fold 2, Epoch 2: 100%|██████████| 58/58 [00:04<00:00, 12.95batch/s]\n"
          ]
        },
        {
          "metadata": {
            "tags": null
          },
          "name": "stdout",
          "output_type": "stream",
          "text": [
            "Fold 2, Epoch 2, Val Loss: 1.0483, Val Accuracy: 0.6108\n"
          ]
        },
        {
          "metadata": {
            "tags": null
          },
          "name": "stderr",
          "output_type": "stream",
          "text": [
            "Training Fold 2, Epoch 3: 100%|██████████| 229/229 [00:31<00:00,  7.19batch/s]\n"
          ]
        },
        {
          "metadata": {
            "tags": null
          },
          "name": "stdout",
          "output_type": "stream",
          "text": [
            "Fold 2, Epoch 3, Train Loss: 1.0404, Train Accuracy: 0.6097\n"
          ]
        },
        {
          "metadata": {
            "tags": null
          },
          "name": "stderr",
          "output_type": "stream",
          "text": [
            "Validating Fold 2, Epoch 3: 100%|██████████| 58/58 [00:04<00:00, 12.75batch/s]\n"
          ]
        },
        {
          "metadata": {
            "tags": null
          },
          "name": "stdout",
          "output_type": "stream",
          "text": [
            "Fold 2, Epoch 3, Val Loss: 1.0655, Val Accuracy: 0.6004\n"
          ]
        },
        {
          "metadata": {
            "tags": null
          },
          "name": "stderr",
          "output_type": "stream",
          "text": [
            "Training Fold 2, Epoch 4: 100%|██████████| 229/229 [00:31<00:00,  7.27batch/s]\n"
          ]
        },
        {
          "metadata": {
            "tags": null
          },
          "name": "stdout",
          "output_type": "stream",
          "text": [
            "Fold 2, Epoch 4, Train Loss: 0.9992, Train Accuracy: 0.6259\n"
          ]
        },
        {
          "metadata": {
            "tags": null
          },
          "name": "stderr",
          "output_type": "stream",
          "text": [
            "Validating Fold 2, Epoch 4: 100%|██████████| 58/58 [00:05<00:00, 11.52batch/s]\n"
          ]
        },
        {
          "metadata": {
            "tags": null
          },
          "name": "stdout",
          "output_type": "stream",
          "text": [
            "Fold 2, Epoch 4, Val Loss: 0.9957, Val Accuracy: 0.6239\n"
          ]
        },
        {
          "metadata": {
            "tags": null
          },
          "name": "stderr",
          "output_type": "stream",
          "text": [
            "Training Fold 2, Epoch 5: 100%|██████████| 229/229 [00:31<00:00,  7.28batch/s]\n"
          ]
        },
        {
          "metadata": {
            "tags": null
          },
          "name": "stdout",
          "output_type": "stream",
          "text": [
            "Fold 2, Epoch 5, Train Loss: 0.9719, Train Accuracy: 0.6403\n"
          ]
        },
        {
          "metadata": {
            "tags": null
          },
          "name": "stderr",
          "output_type": "stream",
          "text": [
            "Validating Fold 2, Epoch 5: 100%|██████████| 58/58 [00:05<00:00, 11.29batch/s]\n"
          ]
        },
        {
          "metadata": {
            "tags": null
          },
          "name": "stdout",
          "output_type": "stream",
          "text": [
            "Fold 2, Epoch 5, Val Loss: 1.0320, Val Accuracy: 0.6228\n"
          ]
        },
        {
          "metadata": {
            "tags": null
          },
          "name": "stderr",
          "output_type": "stream",
          "text": [
            "Training Fold 2, Epoch 6: 100%|██████████| 229/229 [00:31<00:00,  7.24batch/s]\n"
          ]
        },
        {
          "metadata": {
            "tags": null
          },
          "name": "stdout",
          "output_type": "stream",
          "text": [
            "Fold 2, Epoch 6, Train Loss: 0.9314, Train Accuracy: 0.6528\n"
          ]
        },
        {
          "metadata": {
            "tags": null
          },
          "name": "stderr",
          "output_type": "stream",
          "text": [
            "Validating Fold 2, Epoch 6: 100%|██████████| 58/58 [00:04<00:00, 12.27batch/s]\n"
          ]
        },
        {
          "metadata": {
            "tags": null
          },
          "name": "stdout",
          "output_type": "stream",
          "text": [
            "Fold 2, Epoch 6, Val Loss: 0.9831, Val Accuracy: 0.6464\n"
          ]
        },
        {
          "metadata": {
            "tags": null
          },
          "name": "stderr",
          "output_type": "stream",
          "text": [
            "Training Fold 2, Epoch 7: 100%|██████████| 229/229 [00:31<00:00,  7.19batch/s]\n"
          ]
        },
        {
          "metadata": {
            "tags": null
          },
          "name": "stdout",
          "output_type": "stream",
          "text": [
            "Fold 2, Epoch 7, Train Loss: 0.9080, Train Accuracy: 0.6625\n"
          ]
        },
        {
          "metadata": {
            "tags": null
          },
          "name": "stderr",
          "output_type": "stream",
          "text": [
            "Validating Fold 2, Epoch 7: 100%|██████████| 58/58 [00:04<00:00, 12.58batch/s]\n"
          ]
        },
        {
          "metadata": {
            "tags": null
          },
          "name": "stdout",
          "output_type": "stream",
          "text": [
            "Fold 2, Epoch 7, Val Loss: 0.9491, Val Accuracy: 0.6541\n"
          ]
        },
        {
          "metadata": {
            "tags": null
          },
          "name": "stderr",
          "output_type": "stream",
          "text": [
            "Training Fold 2, Epoch 8: 100%|██████████| 229/229 [00:31<00:00,  7.18batch/s]\n"
          ]
        },
        {
          "metadata": {
            "tags": null
          },
          "name": "stdout",
          "output_type": "stream",
          "text": [
            "Fold 2, Epoch 8, Train Loss: 0.8792, Train Accuracy: 0.6774\n"
          ]
        },
        {
          "metadata": {
            "tags": null
          },
          "name": "stderr",
          "output_type": "stream",
          "text": [
            "Validating Fold 2, Epoch 8: 100%|██████████| 58/58 [00:04<00:00, 12.65batch/s]\n"
          ]
        },
        {
          "metadata": {
            "tags": null
          },
          "name": "stdout",
          "output_type": "stream",
          "text": [
            "Fold 2, Epoch 8, Val Loss: 1.0045, Val Accuracy: 0.6217\n"
          ]
        },
        {
          "metadata": {
            "tags": null
          },
          "name": "stderr",
          "output_type": "stream",
          "text": [
            "Training Fold 2, Epoch 9: 100%|██████████| 229/229 [00:31<00:00,  7.19batch/s]\n"
          ]
        },
        {
          "metadata": {
            "tags": null
          },
          "name": "stdout",
          "output_type": "stream",
          "text": [
            "Fold 2, Epoch 9, Train Loss: 0.8512, Train Accuracy: 0.6859\n"
          ]
        },
        {
          "metadata": {
            "tags": null
          },
          "name": "stderr",
          "output_type": "stream",
          "text": [
            "Validating Fold 2, Epoch 9: 100%|██████████| 58/58 [00:04<00:00, 12.04batch/s]\n"
          ]
        },
        {
          "metadata": {
            "tags": null
          },
          "name": "stdout",
          "output_type": "stream",
          "text": [
            "Fold 2, Epoch 9, Val Loss: 0.9369, Val Accuracy: 0.6552\n"
          ]
        },
        {
          "metadata": {
            "tags": null
          },
          "name": "stderr",
          "output_type": "stream",
          "text": [
            "Training Fold 2, Epoch 10: 100%|██████████| 229/229 [00:31<00:00,  7.31batch/s]\n"
          ]
        },
        {
          "metadata": {
            "tags": null
          },
          "name": "stdout",
          "output_type": "stream",
          "text": [
            "Fold 2, Epoch 10, Train Loss: 0.8152, Train Accuracy: 0.6978\n"
          ]
        },
        {
          "metadata": {
            "tags": null
          },
          "name": "stderr",
          "output_type": "stream",
          "text": [
            "Validating Fold 2, Epoch 10: 100%|██████████| 58/58 [00:05<00:00, 11.40batch/s]\n"
          ]
        },
        {
          "metadata": {
            "tags": null
          },
          "name": "stdout",
          "output_type": "stream",
          "text": [
            "Fold 2, Epoch 10, Val Loss: 0.9529, Val Accuracy: 0.6609\n"
          ]
        },
        {
          "metadata": {
            "tags": null
          },
          "name": "stderr",
          "output_type": "stream",
          "text": [
            "Training Fold 2, Epoch 11: 100%|██████████| 229/229 [00:31<00:00,  7.22batch/s]\n"
          ]
        },
        {
          "metadata": {
            "tags": null
          },
          "name": "stdout",
          "output_type": "stream",
          "text": [
            "Fold 2, Epoch 11, Train Loss: 0.7898, Train Accuracy: 0.7127\n"
          ]
        },
        {
          "metadata": {
            "tags": null
          },
          "name": "stderr",
          "output_type": "stream",
          "text": [
            "Validating Fold 2, Epoch 11: 100%|██████████| 58/58 [00:04<00:00, 11.87batch/s]\n"
          ]
        },
        {
          "metadata": {
            "tags": null
          },
          "name": "stdout",
          "output_type": "stream",
          "text": [
            "Fold 2, Epoch 11, Val Loss: 0.9394, Val Accuracy: 0.6535\n"
          ]
        },
        {
          "metadata": {
            "tags": null
          },
          "name": "stderr",
          "output_type": "stream",
          "text": [
            "Training Fold 2, Epoch 12: 100%|██████████| 229/229 [00:31<00:00,  7.26batch/s]\n"
          ]
        },
        {
          "metadata": {
            "tags": null
          },
          "name": "stdout",
          "output_type": "stream",
          "text": [
            "Fold 2, Epoch 12, Train Loss: 0.7576, Train Accuracy: 0.7211\n"
          ]
        },
        {
          "metadata": {
            "tags": null
          },
          "name": "stderr",
          "output_type": "stream",
          "text": [
            "Validating Fold 2, Epoch 12: 100%|██████████| 58/58 [00:04<00:00, 12.92batch/s]\n"
          ]
        },
        {
          "metadata": {
            "tags": null
          },
          "name": "stdout",
          "output_type": "stream",
          "text": [
            "Fold 2, Epoch 12, Val Loss: 0.9508, Val Accuracy: 0.6568\n",
            "Fold 3/5\n"
          ]
        },
        {
          "metadata": {
            "tags": null
          },
          "name": "stderr",
          "output_type": "stream",
          "text": [
            "Training Fold 3, Epoch 1: 100%|██████████| 229/229 [00:31<00:00,  7.29batch/s]\n"
          ]
        },
        {
          "metadata": {
            "tags": null
          },
          "name": "stdout",
          "output_type": "stream",
          "text": [
            "Fold 3, Epoch 1, Train Loss: 1.2150, Train Accuracy: 0.5379\n"
          ]
        },
        {
          "metadata": {
            "tags": null
          },
          "name": "stderr",
          "output_type": "stream",
          "text": [
            "Validating Fold 3, Epoch 1: 100%|██████████| 58/58 [00:04<00:00, 12.68batch/s]\n"
          ]
        },
        {
          "metadata": {
            "tags": null
          },
          "name": "stdout",
          "output_type": "stream",
          "text": [
            "Fold 3, Epoch 1, Val Loss: 1.1063, Val Accuracy: 0.5831\n"
          ]
        },
        {
          "metadata": {
            "tags": null
          },
          "name": "stderr",
          "output_type": "stream",
          "text": [
            "Training Fold 3, Epoch 2: 100%|██████████| 229/229 [00:31<00:00,  7.25batch/s]\n"
          ]
        },
        {
          "metadata": {
            "tags": null
          },
          "name": "stdout",
          "output_type": "stream",
          "text": [
            "Fold 3, Epoch 2, Train Loss: 1.1129, Train Accuracy: 0.5749\n"
          ]
        },
        {
          "metadata": {
            "tags": null
          },
          "name": "stderr",
          "output_type": "stream",
          "text": [
            "Validating Fold 3, Epoch 2: 100%|██████████| 58/58 [00:04<00:00, 12.54batch/s]\n"
          ]
        },
        {
          "metadata": {
            "tags": null
          },
          "name": "stdout",
          "output_type": "stream",
          "text": [
            "Fold 3, Epoch 2, Val Loss: 1.0868, Val Accuracy: 0.5987\n"
          ]
        },
        {
          "metadata": {
            "tags": null
          },
          "name": "stderr",
          "output_type": "stream",
          "text": [
            "Training Fold 3, Epoch 3: 100%|██████████| 229/229 [00:31<00:00,  7.16batch/s]\n"
          ]
        },
        {
          "metadata": {
            "tags": null
          },
          "name": "stdout",
          "output_type": "stream",
          "text": [
            "Fold 3, Epoch 3, Train Loss: 1.0610, Train Accuracy: 0.5982\n"
          ]
        },
        {
          "metadata": {
            "tags": null
          },
          "name": "stderr",
          "output_type": "stream",
          "text": [
            "Validating Fold 3, Epoch 3: 100%|██████████| 58/58 [00:05<00:00, 10.26batch/s]\n"
          ]
        },
        {
          "metadata": {
            "tags": null
          },
          "name": "stdout",
          "output_type": "stream",
          "text": [
            "Fold 3, Epoch 3, Val Loss: 1.0163, Val Accuracy: 0.6250\n"
          ]
        },
        {
          "metadata": {
            "tags": null
          },
          "name": "stderr",
          "output_type": "stream",
          "text": [
            "Training Fold 3, Epoch 4: 100%|██████████| 229/229 [00:31<00:00,  7.22batch/s]\n"
          ]
        },
        {
          "metadata": {
            "tags": null
          },
          "name": "stdout",
          "output_type": "stream",
          "text": [
            "Fold 3, Epoch 4, Train Loss: 1.0195, Train Accuracy: 0.6156\n"
          ]
        },
        {
          "metadata": {
            "tags": null
          },
          "name": "stderr",
          "output_type": "stream",
          "text": [
            "Validating Fold 3, Epoch 4: 100%|██████████| 58/58 [00:04<00:00, 11.65batch/s]\n"
          ]
        },
        {
          "metadata": {
            "tags": null
          },
          "name": "stdout",
          "output_type": "stream",
          "text": [
            "Fold 3, Epoch 4, Val Loss: 0.9933, Val Accuracy: 0.6300\n"
          ]
        },
        {
          "metadata": {
            "tags": null
          },
          "name": "stderr",
          "output_type": "stream",
          "text": [
            "Training Fold 3, Epoch 5: 100%|██████████| 229/229 [00:31<00:00,  7.36batch/s]\n"
          ]
        },
        {
          "metadata": {
            "tags": null
          },
          "name": "stdout",
          "output_type": "stream",
          "text": [
            "Fold 3, Epoch 5, Train Loss: 0.9750, Train Accuracy: 0.6349\n"
          ]
        },
        {
          "metadata": {
            "tags": null
          },
          "name": "stderr",
          "output_type": "stream",
          "text": [
            "Validating Fold 3, Epoch 5: 100%|██████████| 58/58 [00:04<00:00, 12.75batch/s]\n"
          ]
        },
        {
          "metadata": {
            "tags": null
          },
          "name": "stdout",
          "output_type": "stream",
          "text": [
            "Fold 3, Epoch 5, Val Loss: 0.9905, Val Accuracy: 0.6248\n"
          ]
        },
        {
          "metadata": {
            "tags": null
          },
          "name": "stderr",
          "output_type": "stream",
          "text": [
            "Training Fold 3, Epoch 6: 100%|██████████| 229/229 [00:31<00:00,  7.27batch/s]\n"
          ]
        },
        {
          "metadata": {
            "tags": null
          },
          "name": "stdout",
          "output_type": "stream",
          "text": [
            "Fold 3, Epoch 6, Train Loss: 0.9428, Train Accuracy: 0.6503\n"
          ]
        },
        {
          "metadata": {
            "tags": null
          },
          "name": "stderr",
          "output_type": "stream",
          "text": [
            "Validating Fold 3, Epoch 6: 100%|██████████| 58/58 [00:04<00:00, 12.73batch/s]\n"
          ]
        },
        {
          "metadata": {
            "tags": null
          },
          "name": "stdout",
          "output_type": "stream",
          "text": [
            "Fold 3, Epoch 6, Val Loss: 0.9503, Val Accuracy: 0.6590\n"
          ]
        },
        {
          "metadata": {
            "tags": null
          },
          "name": "stderr",
          "output_type": "stream",
          "text": [
            "Training Fold 3, Epoch 7: 100%|██████████| 229/229 [00:31<00:00,  7.27batch/s]\n"
          ]
        },
        {
          "metadata": {
            "tags": null
          },
          "name": "stdout",
          "output_type": "stream",
          "text": [
            "Fold 3, Epoch 7, Train Loss: 0.9223, Train Accuracy: 0.6562\n"
          ]
        },
        {
          "metadata": {
            "tags": null
          },
          "name": "stderr",
          "output_type": "stream",
          "text": [
            "Validating Fold 3, Epoch 7: 100%|██████████| 58/58 [00:04<00:00, 12.96batch/s]\n"
          ]
        },
        {
          "metadata": {
            "tags": null
          },
          "name": "stdout",
          "output_type": "stream",
          "text": [
            "Fold 3, Epoch 7, Val Loss: 0.9545, Val Accuracy: 0.6472\n"
          ]
        },
        {
          "metadata": {
            "tags": null
          },
          "name": "stderr",
          "output_type": "stream",
          "text": [
            "Training Fold 3, Epoch 8: 100%|██████████| 229/229 [00:31<00:00,  7.31batch/s]\n"
          ]
        },
        {
          "metadata": {
            "tags": null
          },
          "name": "stdout",
          "output_type": "stream",
          "text": [
            "Fold 3, Epoch 8, Train Loss: 0.8776, Train Accuracy: 0.6737\n"
          ]
        },
        {
          "metadata": {
            "tags": null
          },
          "name": "stderr",
          "output_type": "stream",
          "text": [
            "Validating Fold 3, Epoch 8: 100%|██████████| 58/58 [00:04<00:00, 11.79batch/s]\n"
          ]
        },
        {
          "metadata": {
            "tags": null
          },
          "name": "stdout",
          "output_type": "stream",
          "text": [
            "Fold 3, Epoch 8, Val Loss: 0.9424, Val Accuracy: 0.6587\n"
          ]
        },
        {
          "metadata": {
            "tags": null
          },
          "name": "stderr",
          "output_type": "stream",
          "text": [
            "Training Fold 3, Epoch 9: 100%|██████████| 229/229 [00:31<00:00,  7.27batch/s]\n"
          ]
        },
        {
          "metadata": {
            "tags": null
          },
          "name": "stdout",
          "output_type": "stream",
          "text": [
            "Fold 3, Epoch 9, Train Loss: 0.8567, Train Accuracy: 0.6815\n"
          ]
        },
        {
          "metadata": {
            "tags": null
          },
          "name": "stderr",
          "output_type": "stream",
          "text": [
            "Validating Fold 3, Epoch 9: 100%|██████████| 58/58 [00:05<00:00, 11.26batch/s]\n"
          ]
        },
        {
          "metadata": {
            "tags": null
          },
          "name": "stdout",
          "output_type": "stream",
          "text": [
            "Fold 3, Epoch 9, Val Loss: 0.9401, Val Accuracy: 0.6590\n"
          ]
        },
        {
          "metadata": {
            "tags": null
          },
          "name": "stderr",
          "output_type": "stream",
          "text": [
            "Training Fold 3, Epoch 10: 100%|██████████| 229/229 [00:31<00:00,  7.27batch/s]\n"
          ]
        },
        {
          "metadata": {
            "tags": null
          },
          "name": "stdout",
          "output_type": "stream",
          "text": [
            "Fold 3, Epoch 10, Train Loss: 0.8274, Train Accuracy: 0.6925\n"
          ]
        },
        {
          "metadata": {
            "tags": null
          },
          "name": "stderr",
          "output_type": "stream",
          "text": [
            "Validating Fold 3, Epoch 10: 100%|██████████| 58/58 [00:04<00:00, 12.25batch/s]\n"
          ]
        },
        {
          "metadata": {
            "tags": null
          },
          "name": "stdout",
          "output_type": "stream",
          "text": [
            "Fold 3, Epoch 10, Val Loss: 0.9639, Val Accuracy: 0.6513\n"
          ]
        },
        {
          "metadata": {
            "tags": null
          },
          "name": "stderr",
          "output_type": "stream",
          "text": [
            "Training Fold 3, Epoch 11: 100%|██████████| 229/229 [00:31<00:00,  7.18batch/s]\n"
          ]
        },
        {
          "metadata": {
            "tags": null
          },
          "name": "stdout",
          "output_type": "stream",
          "text": [
            "Fold 3, Epoch 11, Train Loss: 0.7976, Train Accuracy: 0.7050\n"
          ]
        },
        {
          "metadata": {
            "tags": null
          },
          "name": "stderr",
          "output_type": "stream",
          "text": [
            "Validating Fold 3, Epoch 11: 100%|██████████| 58/58 [00:04<00:00, 12.46batch/s]\n"
          ]
        },
        {
          "metadata": {
            "tags": null
          },
          "name": "stdout",
          "output_type": "stream",
          "text": [
            "Fold 3, Epoch 11, Val Loss: 0.9393, Val Accuracy: 0.6453\n"
          ]
        },
        {
          "metadata": {
            "tags": null
          },
          "name": "stderr",
          "output_type": "stream",
          "text": [
            "Training Fold 3, Epoch 12: 100%|██████████| 229/229 [00:31<00:00,  7.16batch/s]\n"
          ]
        },
        {
          "metadata": {
            "tags": null
          },
          "name": "stdout",
          "output_type": "stream",
          "text": [
            "Fold 3, Epoch 12, Train Loss: 0.7681, Train Accuracy: 0.7175\n"
          ]
        },
        {
          "metadata": {
            "tags": null
          },
          "name": "stderr",
          "output_type": "stream",
          "text": [
            "Validating Fold 3, Epoch 12: 100%|██████████| 58/58 [00:04<00:00, 12.50batch/s]\n"
          ]
        },
        {
          "metadata": {
            "tags": null
          },
          "name": "stdout",
          "output_type": "stream",
          "text": [
            "New best model saved with Val Accuracy: 0.6806\n",
            "Fold 3, Epoch 12, Val Loss: 0.9018, Val Accuracy: 0.6806\n",
            "Fold 4/5\n"
          ]
        },
        {
          "metadata": {
            "tags": null
          },
          "name": "stderr",
          "output_type": "stream",
          "text": [
            "Training Fold 4, Epoch 1: 100%|██████████| 229/229 [00:31<00:00,  7.32batch/s]\n"
          ]
        },
        {
          "metadata": {
            "tags": null
          },
          "name": "stdout",
          "output_type": "stream",
          "text": [
            "Fold 4, Epoch 1, Train Loss: 1.2235, Train Accuracy: 0.5351\n"
          ]
        },
        {
          "metadata": {
            "tags": null
          },
          "name": "stderr",
          "output_type": "stream",
          "text": [
            "Validating Fold 4, Epoch 1: 100%|██████████| 58/58 [00:05<00:00, 11.59batch/s]\n"
          ]
        },
        {
          "metadata": {
            "tags": null
          },
          "name": "stdout",
          "output_type": "stream",
          "text": [
            "Fold 4, Epoch 1, Val Loss: 1.1056, Val Accuracy: 0.5785\n"
          ]
        },
        {
          "metadata": {
            "tags": null
          },
          "name": "stderr",
          "output_type": "stream",
          "text": [
            "Training Fold 4, Epoch 2: 100%|██████████| 229/229 [00:31<00:00,  7.28batch/s]\n"
          ]
        },
        {
          "metadata": {
            "tags": null
          },
          "name": "stdout",
          "output_type": "stream",
          "text": [
            "Fold 4, Epoch 2, Train Loss: 1.1071, Train Accuracy: 0.5764\n"
          ]
        },
        {
          "metadata": {
            "tags": null
          },
          "name": "stderr",
          "output_type": "stream",
          "text": [
            "Validating Fold 4, Epoch 2: 100%|██████████| 58/58 [00:05<00:00, 11.39batch/s]\n"
          ]
        },
        {
          "metadata": {
            "tags": null
          },
          "name": "stdout",
          "output_type": "stream",
          "text": [
            "Fold 4, Epoch 2, Val Loss: 1.1070, Val Accuracy: 0.5889\n"
          ]
        },
        {
          "metadata": {
            "tags": null
          },
          "name": "stderr",
          "output_type": "stream",
          "text": [
            "Training Fold 4, Epoch 3: 100%|██████████| 229/229 [00:31<00:00,  7.34batch/s]\n"
          ]
        },
        {
          "metadata": {
            "tags": null
          },
          "name": "stdout",
          "output_type": "stream",
          "text": [
            "Fold 4, Epoch 3, Train Loss: 1.0574, Train Accuracy: 0.5989\n"
          ]
        },
        {
          "metadata": {
            "tags": null
          },
          "name": "stderr",
          "output_type": "stream",
          "text": [
            "Validating Fold 4, Epoch 3: 100%|██████████| 58/58 [00:04<00:00, 12.42batch/s]\n"
          ]
        },
        {
          "metadata": {
            "tags": null
          },
          "name": "stdout",
          "output_type": "stream",
          "text": [
            "Fold 4, Epoch 3, Val Loss: 1.0231, Val Accuracy: 0.6190\n"
          ]
        },
        {
          "metadata": {
            "tags": null
          },
          "name": "stderr",
          "output_type": "stream",
          "text": [
            "Training Fold 4, Epoch 4: 100%|██████████| 229/229 [00:31<00:00,  7.26batch/s]\n"
          ]
        },
        {
          "metadata": {
            "tags": null
          },
          "name": "stdout",
          "output_type": "stream",
          "text": [
            "Fold 4, Epoch 4, Train Loss: 1.0174, Train Accuracy: 0.6162\n"
          ]
        },
        {
          "metadata": {
            "tags": null
          },
          "name": "stderr",
          "output_type": "stream",
          "text": [
            "Validating Fold 4, Epoch 4: 100%|██████████| 58/58 [00:04<00:00, 12.79batch/s]\n"
          ]
        },
        {
          "metadata": {
            "tags": null
          },
          "name": "stdout",
          "output_type": "stream",
          "text": [
            "Fold 4, Epoch 4, Val Loss: 1.0120, Val Accuracy: 0.6234\n"
          ]
        },
        {
          "metadata": {
            "tags": null
          },
          "name": "stderr",
          "output_type": "stream",
          "text": [
            "Training Fold 4, Epoch 5: 100%|██████████| 229/229 [00:31<00:00,  7.16batch/s]\n"
          ]
        },
        {
          "metadata": {
            "tags": null
          },
          "name": "stdout",
          "output_type": "stream",
          "text": [
            "Fold 4, Epoch 5, Train Loss: 0.9797, Train Accuracy: 0.6321\n"
          ]
        },
        {
          "metadata": {
            "tags": null
          },
          "name": "stderr",
          "output_type": "stream",
          "text": [
            "Validating Fold 4, Epoch 5: 100%|██████████| 58/58 [00:04<00:00, 12.61batch/s]\n"
          ]
        },
        {
          "metadata": {
            "tags": null
          },
          "name": "stdout",
          "output_type": "stream",
          "text": [
            "Fold 4, Epoch 5, Val Loss: 0.9895, Val Accuracy: 0.6415\n"
          ]
        },
        {
          "metadata": {
            "tags": null
          },
          "name": "stderr",
          "output_type": "stream",
          "text": [
            "Training Fold 4, Epoch 6: 100%|██████████| 229/229 [00:31<00:00,  7.24batch/s]\n"
          ]
        },
        {
          "metadata": {
            "tags": null
          },
          "name": "stdout",
          "output_type": "stream",
          "text": [
            "Fold 4, Epoch 6, Train Loss: 0.9493, Train Accuracy: 0.6465\n"
          ]
        },
        {
          "metadata": {
            "tags": null
          },
          "name": "stderr",
          "output_type": "stream",
          "text": [
            "Validating Fold 4, Epoch 6: 100%|██████████| 58/58 [00:04<00:00, 12.35batch/s]\n"
          ]
        },
        {
          "metadata": {
            "tags": null
          },
          "name": "stdout",
          "output_type": "stream",
          "text": [
            "Fold 4, Epoch 6, Val Loss: 0.9570, Val Accuracy: 0.6491\n"
          ]
        },
        {
          "metadata": {
            "tags": null
          },
          "name": "stderr",
          "output_type": "stream",
          "text": [
            "Training Fold 4, Epoch 7: 100%|██████████| 229/229 [00:31<00:00,  7.27batch/s]\n"
          ]
        },
        {
          "metadata": {
            "tags": null
          },
          "name": "stdout",
          "output_type": "stream",
          "text": [
            "Fold 4, Epoch 7, Train Loss: 0.9190, Train Accuracy: 0.6561\n"
          ]
        },
        {
          "metadata": {
            "tags": null
          },
          "name": "stderr",
          "output_type": "stream",
          "text": [
            "Validating Fold 4, Epoch 7: 100%|██████████| 58/58 [00:05<00:00, 11.15batch/s]\n"
          ]
        },
        {
          "metadata": {
            "tags": null
          },
          "name": "stdout",
          "output_type": "stream",
          "text": [
            "Fold 4, Epoch 7, Val Loss: 0.9576, Val Accuracy: 0.6549\n"
          ]
        },
        {
          "metadata": {
            "tags": null
          },
          "name": "stderr",
          "output_type": "stream",
          "text": [
            "Training Fold 4, Epoch 8: 100%|██████████| 229/229 [00:31<00:00,  7.29batch/s]\n"
          ]
        },
        {
          "metadata": {
            "tags": null
          },
          "name": "stdout",
          "output_type": "stream",
          "text": [
            "Fold 4, Epoch 8, Train Loss: 0.8842, Train Accuracy: 0.6689\n"
          ]
        },
        {
          "metadata": {
            "tags": null
          },
          "name": "stderr",
          "output_type": "stream",
          "text": [
            "Validating Fold 4, Epoch 8: 100%|██████████| 58/58 [00:04<00:00, 11.85batch/s]\n"
          ]
        },
        {
          "metadata": {
            "tags": null
          },
          "name": "stdout",
          "output_type": "stream",
          "text": [
            "Fold 4, Epoch 8, Val Loss: 0.9592, Val Accuracy: 0.6491\n"
          ]
        },
        {
          "metadata": {
            "tags": null
          },
          "name": "stderr",
          "output_type": "stream",
          "text": [
            "Training Fold 4, Epoch 9: 100%|██████████| 229/229 [00:31<00:00,  7.26batch/s]\n"
          ]
        },
        {
          "metadata": {
            "tags": null
          },
          "name": "stdout",
          "output_type": "stream",
          "text": [
            "Fold 4, Epoch 9, Train Loss: 0.8624, Train Accuracy: 0.6790\n"
          ]
        },
        {
          "metadata": {
            "tags": null
          },
          "name": "stderr",
          "output_type": "stream",
          "text": [
            "Validating Fold 4, Epoch 9: 100%|██████████| 58/58 [00:04<00:00, 12.77batch/s]\n"
          ]
        },
        {
          "metadata": {
            "tags": null
          },
          "name": "stdout",
          "output_type": "stream",
          "text": [
            "Fold 4, Epoch 9, Val Loss: 0.9454, Val Accuracy: 0.6516\n"
          ]
        },
        {
          "metadata": {
            "tags": null
          },
          "name": "stderr",
          "output_type": "stream",
          "text": [
            "Training Fold 4, Epoch 10: 100%|██████████| 229/229 [00:31<00:00,  7.22batch/s]\n"
          ]
        },
        {
          "metadata": {
            "tags": null
          },
          "name": "stdout",
          "output_type": "stream",
          "text": [
            "Fold 4, Epoch 10, Train Loss: 0.8284, Train Accuracy: 0.6912\n"
          ]
        },
        {
          "metadata": {
            "tags": null
          },
          "name": "stderr",
          "output_type": "stream",
          "text": [
            "Validating Fold 4, Epoch 10: 100%|██████████| 58/58 [00:04<00:00, 12.83batch/s]\n"
          ]
        },
        {
          "metadata": {
            "tags": null
          },
          "name": "stdout",
          "output_type": "stream",
          "text": [
            "Fold 4, Epoch 10, Val Loss: 0.9232, Val Accuracy: 0.6678\n"
          ]
        },
        {
          "metadata": {
            "tags": null
          },
          "name": "stderr",
          "output_type": "stream",
          "text": [
            "Training Fold 4, Epoch 11: 100%|██████████| 229/229 [00:31<00:00,  7.18batch/s]\n"
          ]
        },
        {
          "metadata": {
            "tags": null
          },
          "name": "stdout",
          "output_type": "stream",
          "text": [
            "Fold 4, Epoch 11, Train Loss: 0.8013, Train Accuracy: 0.7021\n"
          ]
        },
        {
          "metadata": {
            "tags": null
          },
          "name": "stderr",
          "output_type": "stream",
          "text": [
            "Validating Fold 4, Epoch 11: 100%|██████████| 58/58 [00:04<00:00, 12.61batch/s]\n"
          ]
        },
        {
          "metadata": {
            "tags": null
          },
          "name": "stdout",
          "output_type": "stream",
          "text": [
            "Fold 4, Epoch 11, Val Loss: 0.9398, Val Accuracy: 0.6647\n"
          ]
        },
        {
          "metadata": {
            "tags": null
          },
          "name": "stderr",
          "output_type": "stream",
          "text": [
            "Training Fold 4, Epoch 12: 100%|██████████| 229/229 [00:31<00:00,  7.27batch/s]\n"
          ]
        },
        {
          "metadata": {
            "tags": null
          },
          "name": "stdout",
          "output_type": "stream",
          "text": [
            "Fold 4, Epoch 12, Train Loss: 0.7668, Train Accuracy: 0.7127\n"
          ]
        },
        {
          "metadata": {
            "tags": null
          },
          "name": "stderr",
          "output_type": "stream",
          "text": [
            "Validating Fold 4, Epoch 12: 100%|██████████| 58/58 [00:04<00:00, 11.67batch/s]\n"
          ]
        },
        {
          "metadata": {
            "tags": null
          },
          "name": "stdout",
          "output_type": "stream",
          "text": [
            "Fold 4, Epoch 12, Val Loss: 0.9204, Val Accuracy: 0.6686\n",
            "Fold 5/5\n"
          ]
        },
        {
          "metadata": {
            "tags": null
          },
          "name": "stderr",
          "output_type": "stream",
          "text": [
            "Training Fold 5, Epoch 1: 100%|██████████| 229/229 [00:31<00:00,  7.33batch/s]\n"
          ]
        },
        {
          "metadata": {
            "tags": null
          },
          "name": "stdout",
          "output_type": "stream",
          "text": [
            "Fold 5, Epoch 1, Train Loss: 1.2257, Train Accuracy: 0.5317\n"
          ]
        },
        {
          "metadata": {
            "tags": null
          },
          "name": "stderr",
          "output_type": "stream",
          "text": [
            "Validating Fold 5, Epoch 1: 100%|██████████| 58/58 [00:05<00:00, 11.50batch/s]\n"
          ]
        },
        {
          "metadata": {
            "tags": null
          },
          "name": "stdout",
          "output_type": "stream",
          "text": [
            "Fold 5, Epoch 1, Val Loss: 1.1416, Val Accuracy: 0.5667\n"
          ]
        },
        {
          "metadata": {
            "tags": null
          },
          "name": "stderr",
          "output_type": "stream",
          "text": [
            "Training Fold 5, Epoch 2: 100%|██████████| 229/229 [00:31<00:00,  7.36batch/s]\n"
          ]
        },
        {
          "metadata": {
            "tags": null
          },
          "name": "stdout",
          "output_type": "stream",
          "text": [
            "Fold 5, Epoch 2, Train Loss: 1.1144, Train Accuracy: 0.5766\n"
          ]
        },
        {
          "metadata": {
            "tags": null
          },
          "name": "stderr",
          "output_type": "stream",
          "text": [
            "Validating Fold 5, Epoch 2: 100%|██████████| 58/58 [00:04<00:00, 13.05batch/s]\n"
          ]
        },
        {
          "metadata": {
            "tags": null
          },
          "name": "stdout",
          "output_type": "stream",
          "text": [
            "Fold 5, Epoch 2, Val Loss: 1.0955, Val Accuracy: 0.5733\n"
          ]
        },
        {
          "metadata": {
            "tags": null
          },
          "name": "stderr",
          "output_type": "stream",
          "text": [
            "Training Fold 5, Epoch 3: 100%|██████████| 229/229 [00:31<00:00,  7.26batch/s]\n"
          ]
        },
        {
          "metadata": {
            "tags": null
          },
          "name": "stdout",
          "output_type": "stream",
          "text": [
            "Fold 5, Epoch 3, Train Loss: 1.0637, Train Accuracy: 0.5981\n"
          ]
        },
        {
          "metadata": {
            "tags": null
          },
          "name": "stderr",
          "output_type": "stream",
          "text": [
            "Validating Fold 5, Epoch 3: 100%|██████████| 58/58 [00:04<00:00, 12.91batch/s]\n"
          ]
        },
        {
          "metadata": {
            "tags": null
          },
          "name": "stdout",
          "output_type": "stream",
          "text": [
            "Fold 5, Epoch 3, Val Loss: 1.0594, Val Accuracy: 0.5949\n"
          ]
        },
        {
          "metadata": {
            "tags": null
          },
          "name": "stderr",
          "output_type": "stream",
          "text": [
            "Training Fold 5, Epoch 4: 100%|██████████| 229/229 [00:31<00:00,  7.26batch/s]\n"
          ]
        },
        {
          "metadata": {
            "tags": null
          },
          "name": "stdout",
          "output_type": "stream",
          "text": [
            "Fold 5, Epoch 4, Train Loss: 1.0204, Train Accuracy: 0.6193\n"
          ]
        },
        {
          "metadata": {
            "tags": null
          },
          "name": "stderr",
          "output_type": "stream",
          "text": [
            "Validating Fold 5, Epoch 4: 100%|██████████| 58/58 [00:04<00:00, 13.03batch/s]\n"
          ]
        },
        {
          "metadata": {
            "tags": null
          },
          "name": "stdout",
          "output_type": "stream",
          "text": [
            "Fold 5, Epoch 4, Val Loss: 1.0467, Val Accuracy: 0.6007\n"
          ]
        },
        {
          "metadata": {
            "tags": null
          },
          "name": "stderr",
          "output_type": "stream",
          "text": [
            "Training Fold 5, Epoch 5: 100%|██████████| 229/229 [00:31<00:00,  7.29batch/s]\n"
          ]
        },
        {
          "metadata": {
            "tags": null
          },
          "name": "stdout",
          "output_type": "stream",
          "text": [
            "Fold 5, Epoch 5, Train Loss: 0.9870, Train Accuracy: 0.6335\n"
          ]
        },
        {
          "metadata": {
            "tags": null
          },
          "name": "stderr",
          "output_type": "stream",
          "text": [
            "Validating Fold 5, Epoch 5: 100%|██████████| 58/58 [00:05<00:00, 11.37batch/s]\n"
          ]
        },
        {
          "metadata": {
            "tags": null
          },
          "name": "stdout",
          "output_type": "stream",
          "text": [
            "Fold 5, Epoch 5, Val Loss: 1.0174, Val Accuracy: 0.6133\n"
          ]
        },
        {
          "metadata": {
            "tags": null
          },
          "name": "stderr",
          "output_type": "stream",
          "text": [
            "Training Fold 5, Epoch 6: 100%|██████████| 229/229 [00:31<00:00,  7.34batch/s]\n"
          ]
        },
        {
          "metadata": {
            "tags": null
          },
          "name": "stdout",
          "output_type": "stream",
          "text": [
            "Fold 5, Epoch 6, Train Loss: 0.9555, Train Accuracy: 0.6455\n"
          ]
        },
        {
          "metadata": {
            "tags": null
          },
          "name": "stderr",
          "output_type": "stream",
          "text": [
            "Validating Fold 5, Epoch 6: 100%|██████████| 58/58 [00:05<00:00, 11.44batch/s]\n"
          ]
        },
        {
          "metadata": {
            "tags": null
          },
          "name": "stdout",
          "output_type": "stream",
          "text": [
            "Fold 5, Epoch 6, Val Loss: 0.9826, Val Accuracy: 0.6280\n"
          ]
        },
        {
          "metadata": {
            "tags": null
          },
          "name": "stderr",
          "output_type": "stream",
          "text": [
            "Training Fold 5, Epoch 7: 100%|██████████| 229/229 [00:31<00:00,  7.32batch/s]\n"
          ]
        },
        {
          "metadata": {
            "tags": null
          },
          "name": "stdout",
          "output_type": "stream",
          "text": [
            "Fold 5, Epoch 7, Train Loss: 0.9268, Train Accuracy: 0.6594\n"
          ]
        },
        {
          "metadata": {
            "tags": null
          },
          "name": "stderr",
          "output_type": "stream",
          "text": [
            "Validating Fold 5, Epoch 7: 100%|██████████| 58/58 [00:04<00:00, 12.74batch/s]\n"
          ]
        },
        {
          "metadata": {
            "tags": null
          },
          "name": "stdout",
          "output_type": "stream",
          "text": [
            "Fold 5, Epoch 7, Val Loss: 0.9876, Val Accuracy: 0.6163\n"
          ]
        },
        {
          "metadata": {
            "tags": null
          },
          "name": "stderr",
          "output_type": "stream",
          "text": [
            "Training Fold 5, Epoch 8: 100%|██████████| 229/229 [00:31<00:00,  7.26batch/s]\n"
          ]
        },
        {
          "metadata": {
            "tags": null
          },
          "name": "stdout",
          "output_type": "stream",
          "text": [
            "Fold 5, Epoch 8, Train Loss: 0.8867, Train Accuracy: 0.6679\n"
          ]
        },
        {
          "metadata": {
            "tags": null
          },
          "name": "stderr",
          "output_type": "stream",
          "text": [
            "Validating Fold 5, Epoch 8: 100%|██████████| 58/58 [00:04<00:00, 12.90batch/s]\n"
          ]
        },
        {
          "metadata": {
            "tags": null
          },
          "name": "stdout",
          "output_type": "stream",
          "text": [
            "Fold 5, Epoch 8, Val Loss: 0.9659, Val Accuracy: 0.6311\n"
          ]
        },
        {
          "metadata": {
            "tags": null
          },
          "name": "stderr",
          "output_type": "stream",
          "text": [
            "Training Fold 5, Epoch 9: 100%|██████████| 229/229 [00:31<00:00,  7.24batch/s]\n"
          ]
        },
        {
          "metadata": {
            "tags": null
          },
          "name": "stdout",
          "output_type": "stream",
          "text": [
            "Fold 5, Epoch 9, Train Loss: 0.8655, Train Accuracy: 0.6818\n"
          ]
        },
        {
          "metadata": {
            "tags": null
          },
          "name": "stderr",
          "output_type": "stream",
          "text": [
            "Validating Fold 5, Epoch 9: 100%|██████████| 58/58 [00:04<00:00, 13.17batch/s]\n"
          ]
        },
        {
          "metadata": {
            "tags": null
          },
          "name": "stdout",
          "output_type": "stream",
          "text": [
            "Fold 5, Epoch 9, Val Loss: 0.9467, Val Accuracy: 0.6541\n"
          ]
        },
        {
          "metadata": {
            "tags": null
          },
          "name": "stderr",
          "output_type": "stream",
          "text": [
            "Training Fold 5, Epoch 10: 100%|██████████| 229/229 [00:31<00:00,  7.35batch/s]\n"
          ]
        },
        {
          "metadata": {
            "tags": null
          },
          "name": "stdout",
          "output_type": "stream",
          "text": [
            "Fold 5, Epoch 10, Train Loss: 0.8480, Train Accuracy: 0.6845\n"
          ]
        },
        {
          "metadata": {
            "tags": null
          },
          "name": "stderr",
          "output_type": "stream",
          "text": [
            "Validating Fold 5, Epoch 10: 100%|██████████| 58/58 [00:05<00:00, 11.51batch/s]\n"
          ]
        },
        {
          "metadata": {
            "tags": null
          },
          "name": "stdout",
          "output_type": "stream",
          "text": [
            "Fold 5, Epoch 10, Val Loss: 0.9583, Val Accuracy: 0.6464\n"
          ]
        },
        {
          "metadata": {
            "tags": null
          },
          "name": "stderr",
          "output_type": "stream",
          "text": [
            "Training Fold 5, Epoch 11: 100%|██████████| 229/229 [00:31<00:00,  7.33batch/s]\n"
          ]
        },
        {
          "metadata": {
            "tags": null
          },
          "name": "stdout",
          "output_type": "stream",
          "text": [
            "Fold 5, Epoch 11, Train Loss: 0.8036, Train Accuracy: 0.7028\n"
          ]
        },
        {
          "metadata": {
            "tags": null
          },
          "name": "stderr",
          "output_type": "stream",
          "text": [
            "Validating Fold 5, Epoch 11: 100%|██████████| 58/58 [00:04<00:00, 11.90batch/s]\n"
          ]
        },
        {
          "metadata": {
            "tags": null
          },
          "name": "stdout",
          "output_type": "stream",
          "text": [
            "Fold 5, Epoch 11, Val Loss: 0.9267, Val Accuracy: 0.6639\n"
          ]
        },
        {
          "output_type": "stream",
          "name": "stderr",
          "text": [
            "Training Fold 5, Epoch 12: 100%|██████████| 229/229 [00:31<00:00,  7.28batch/s]\n"
          ]
        },
        {
          "output_type": "stream",
          "name": "stdout",
          "text": [
            "Fold 5, Epoch 12, Train Loss: 0.7871, Train Accuracy: 0.7058\n"
          ]
        },
        {
          "output_type": "stream",
          "name": "stderr",
          "text": [
            "Validating Fold 5, Epoch 12: 100%|██████████| 58/58 [00:04<00:00, 12.93batch/s]"
          ]
        },
        {
          "output_type": "stream",
          "name": "stdout",
          "text": [
            "Fold 5, Epoch 12, Val Loss: 0.9533, Val Accuracy: 0.6601\n",
            "Average Training Loss: 0.9505\n",
            "Average Validation Loss: 0.9929\n",
            "Average Training Accuracy: 0.6443\n",
            "Average Validation Accuracy: 0.6321\n"
          ]
        },
        {
          "output_type": "stream",
          "name": "stderr",
          "text": [
            "\n"
          ]
        }
      ],
      "source": [
        "# Initialize the dataset\n",
        "full_train_dataset = EthnicityDataset(root_dir=\"Dataset/mouth/train\", transform=transform_mouth)\n",
        "test_dataset = EthnicityDataset(root_dir=\"Dataset/mouth/test\", transform=transform_mouth)\n",
        "test_loader = DataLoader(test_dataset, batch_size=32, shuffle=False)\n",
        "\n",
        "# K-fold Cross-Validation\n",
        "k = 5  # Choose K = 5\n",
        "kf = KFold(n_splits=k, shuffle=True, random_state=42)\n",
        "\n",
        "# Array to store results for each fold\n",
        "fold_train_losses = []\n",
        "fold_val_losses = []\n",
        "fold_train_accuracies = []\n",
        "fold_val_accuracies = []\n",
        "best_val_accuracy = 0.0\n",
        "best_model_state = None\n",
        "\n",
        "num_epochs = 12\n",
        "batch_size = 64\n",
        "\n",
        "for fold, (train_idx, val_idx) in enumerate(kf.split(np.arange(len(full_train_dataset)))):\n",
        "    print(f\"Fold {fold + 1}/{k}\")\n",
        "\n",
        "    # Create subsets for training and validation\n",
        "    train_subset = Subset(full_train_dataset, train_idx)\n",
        "    val_subset = Subset(full_train_dataset, val_idx)\n",
        "\n",
        "    # Create data loaders for the current fold\n",
        "    train_loader = DataLoader(train_subset, batch_size=batch_size, shuffle=True)\n",
        "    val_loader = DataLoader(val_subset, batch_size=batch_size, shuffle=False)\n",
        "\n",
        "    # Reinitialize the model and optimizer for each fold\n",
        "    mouth_net = CNN(hid_1, hid_2, hid_3, hid_4, hid_5, hid_6, m_x, m_y, drop_1, drop_2)\n",
        "    mouth_net = mouth_net.to(device)  # Ensure the model is on the correct GPU/CPU\n",
        "    mouth_optimizer = torch.optim.Adam(mouth_net.parameters(), lr=0.001, weight_decay=0.0001)\n",
        "\n",
        "    # Criterion\n",
        "    criterion = nn.CrossEntropyLoss()\n",
        "\n",
        "    # Metrics for each fold\n",
        "    train_losses = []\n",
        "    val_losses = []\n",
        "    train_accuracies = []\n",
        "    val_accuracies = []\n",
        "\n",
        "    # Training for each fold\n",
        "    for epoch in range(num_epochs):\n",
        "        # Training Phase\n",
        "        mouth_net.train()\n",
        "        running_loss = 0.0\n",
        "        correct = 0\n",
        "        total = 0\n",
        "\n",
        "        for data in tqdm(train_loader, desc=f\"Training Fold {fold + 1}, Epoch {epoch + 1}\", unit=\"batch\"):\n",
        "            inputs, labels = data\n",
        "            inputs, labels = inputs.to(device), labels.to(device)\n",
        "\n",
        "            # Zero the gradients\n",
        "            mouth_optimizer.zero_grad()\n",
        "\n",
        "            # Forward pass\n",
        "            outputs = mouth_net(inputs)\n",
        "            loss = criterion(outputs, labels)\n",
        "            loss.backward()\n",
        "            mouth_optimizer.step()\n",
        "\n",
        "            running_loss += loss.item()\n",
        "\n",
        "            # Accuracy\n",
        "            _, predicted = torch.max(outputs, 1)\n",
        "            total += labels.size(0)\n",
        "            correct += (predicted == labels).sum().item()\n",
        "\n",
        "        avg_train_loss = running_loss / len(train_loader)\n",
        "        train_accuracy = correct / total\n",
        "        train_losses.append(avg_train_loss)\n",
        "        train_accuracies.append(train_accuracy)\n",
        "\n",
        "        print(f\"Fold {fold + 1}, Epoch {epoch + 1}, Train Loss: {avg_train_loss:.4f}, Train Accuracy: {train_accuracy:.4f}\")\n",
        "\n",
        "        # Validation Phase\n",
        "        mouth_net.eval()\n",
        "        val_running_loss = 0.0\n",
        "        correct = 0\n",
        "        total = 0\n",
        "\n",
        "        with torch.no_grad():\n",
        "            for data in tqdm(val_loader, desc=f\"Validating Fold {fold + 1}, Epoch {epoch + 1}\", unit=\"batch\"):\n",
        "                inputs, labels = data\n",
        "                inputs, labels = inputs.to(device), labels.to(device)\n",
        "\n",
        "                outputs = mouth_net(inputs)\n",
        "                loss = criterion(outputs, labels)\n",
        "\n",
        "                val_running_loss += loss.item()\n",
        "\n",
        "                # Accuracy\n",
        "                _, predicted = torch.max(outputs, 1)\n",
        "                total += labels.size(0)\n",
        "                correct += (predicted == labels).sum().item()\n",
        "\n",
        "        avg_val_loss = val_running_loss / len(val_loader)\n",
        "        val_accuracy = correct / total\n",
        "        val_losses.append(avg_val_loss)\n",
        "        val_accuracies.append(val_accuracy)\n",
        "\n",
        "        if val_accuracy > best_val_accuracy:\n",
        "            best_val_accuracy = val_accuracy\n",
        "            best_model_state = mouth_net.state_dict()\n",
        "            print(f\"New best model saved with Val Accuracy: {best_val_accuracy:.4f}\")\n",
        "        print(f\"Fold {fold + 1}, Epoch {epoch + 1}, Val Loss: {avg_val_loss:.4f}, Val Accuracy: {val_accuracy:.4f}\")\n",
        "\n",
        "    # Save results for the current fold\n",
        "    fold_train_losses.append(train_losses)\n",
        "    fold_val_losses.append(val_losses)\n",
        "    fold_train_accuracies.append(train_accuracies)\n",
        "    fold_val_accuracies.append(val_accuracies)\n",
        "\n",
        "torch.save(best_model_state, \"best_mouth_net.pth\")\n",
        "\n",
        "# Calculate the average metrics across all folds\n",
        "mean_train_loss = np.mean([np.mean(fold) for fold in fold_train_losses])\n",
        "mean_val_loss = np.mean([np.mean(fold) for fold in fold_val_losses])\n",
        "mean_train_accuracy = np.mean([np.mean(fold) for fold in fold_train_accuracies])\n",
        "mean_val_accuracy = np.mean([np.mean(fold) for fold in fold_val_accuracies])\n",
        "\n",
        "print(f\"Average Training Loss: {mean_train_loss:.4f}\")\n",
        "print(f\"Average Validation Loss: {mean_val_loss:.4f}\")\n",
        "print(f\"Average Training Accuracy: {mean_train_accuracy:.4f}\")\n",
        "print(f\"Average Validation Accuracy: {mean_val_accuracy:.4f}\")"
      ]
    },
    {
      "cell_type": "code",
      "execution_count": 8,
      "metadata": {
        "id": "kV3v71eK9u-U",
        "outputId": "069361c7-270e-4259-dfb1-0b3cda009ce7",
        "colab": {
          "base_uri": "https://localhost:8080/",
          "height": 958
        }
      },
      "outputs": [
        {
          "output_type": "stream",
          "name": "stderr",
          "text": [
            "<ipython-input-8-553f32c91c90>:4: FutureWarning: You are using `torch.load` with `weights_only=False` (the current default value), which uses the default pickle module implicitly. It is possible to construct malicious pickle data which will execute arbitrary code during unpickling (See https://github.com/pytorch/pytorch/blob/main/SECURITY.md#untrusted-models for more details). In a future release, the default value for `weights_only` will be flipped to `True`. This limits the functions that could be executed during unpickling. Arbitrary objects will no longer be allowed to be loaded via this mode unless they are explicitly allowlisted by the user via `torch.serialization.add_safe_globals`. We recommend you start setting `weights_only=True` for any use case where you don't have full control of the loaded file. Please open an issue on GitHub for any issues related to this experimental feature.\n",
            "  mouth_net.load_state_dict(torch.load(\"best_mouth_net.pth\"))\n"
          ]
        },
        {
          "output_type": "display_data",
          "data": {
            "text/plain": [
              "<Figure size 1000x700 with 2 Axes>"
            ],
            "image/png": "[encoded data removed]"
          },
          "metadata": {}
        },
        {
          "output_type": "stream",
          "name": "stdout",
          "text": [
            "\n",
            "Classification Report:\n",
            "              precision    recall  f1-score   support\n",
            "\n",
            "       White       0.70      0.77      0.73      2018\n",
            "       Black       0.73      0.79      0.76       927\n",
            "       Asian       0.51      0.42      0.46       670\n",
            "      Indian       0.52      0.57      0.55       802\n",
            "      Others       0.34      0.11      0.17       359\n",
            "\n",
            "    accuracy                           0.64      4776\n",
            "   macro avg       0.56      0.53      0.53      4776\n",
            "weighted avg       0.62      0.64      0.63      4776\n",
            "\n"
          ]
        }
      ],
      "source": [
        "all_labels = []\n",
        "all_preds = []\n",
        "mouth_net = CNN(hid_1, hid_2, hid_3, hid_4, hid_5, hid_6, m_x, m_y, drop_1, drop_2)\n",
        "mouth_net.load_state_dict(torch.load(\"best_mouth_net.pth\"))\n",
        "mouth_net = mouth_net.to(device)\n",
        "\n",
        "with torch.no_grad():\n",
        "    for data in test_loader:\n",
        "        images, labels = data\n",
        "        images, labels = images.to(device), labels.to(device)\n",
        "\n",
        "        outputs = mouth_net(images)\n",
        "        _, predicted = torch.max(outputs.data, 1)\n",
        "        all_labels.extend(labels.cpu().numpy())\n",
        "        all_preds.extend(predicted.cpu().numpy())\n",
        "\n",
        "conf_matrix = confusion_matrix(all_labels, all_preds)\n",
        "\n",
        "plt.figure(figsize=(10, 7))\n",
        "sns.heatmap(conf_matrix, annot=True, fmt='d', cmap='Blues', xticklabels=class_names, yticklabels=class_names)\n",
        "\n",
        "plt.title('Confusion Matrix', fontsize=16)\n",
        "plt.xlabel('Predicted Labels', fontsize=14)\n",
        "plt.ylabel('True Labels', fontsize=14)\n",
        "plt.xticks(fontsize=12)\n",
        "plt.yticks(fontsize=12)\n",
        "\n",
        "plt.show()\n",
        "\n",
        "print(\"\\nClassification Report:\")\n",
        "print(classification_report(all_labels, all_preds, target_names=class_names, zero_division=0))"
      ]
    }
  ],
  "metadata": {
    "accelerator": "GPU",
    "colab": {
      "gpuType": "T4",
      "provenance": []
    },
    "kernelspec": {
      "display_name": "Python 3",
      "name": "python3"
    },
    "language_info": {
      "name": "python"
    }
  },
  "nbformat": 4,
  "nbformat_minor": 0
}