{
  "nbformat": 4,
  "nbformat_minor": 0,
  "metadata": {
    "colab": {
      "provenance": []
    },
    "kernelspec": {
      "name": "python3",
      "display_name": "Python 3"
    },
    "language_info": {
      "name": "python"
    }
  },
  "cells": [
    {
      "cell_type": "markdown",
      "source": [
        "zip files of nose, eyes and mouth images\n",
        "https://drive.google.com/drive/folders/1qGxB4KoqDbAhE42Em5IH7e_IvVL0VOal?usp=share_link"
      ],
      "metadata": {
        "id": "BytM7Wp4W067"
      }
    }
  ]
}
