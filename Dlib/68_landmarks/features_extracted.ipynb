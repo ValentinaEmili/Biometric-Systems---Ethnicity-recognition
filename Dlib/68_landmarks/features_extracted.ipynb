{
 "cells": [
  {
   "cell_type": "markdown",
   "metadata": {
    "id": "BytM7Wp4W067"
   },
   "source": [
    "zip files of nose, eyes and mouth images\n",
    "\n",
    "https://drive.google.com/drive/folders/1qGxB4KoqDbAhE42Em5IH7e_IvVL0VOal?usp=share_link"
   ]
  }
 ],
 "metadata": {
  "colab": {
   "provenance": []
  },
  "kernelspec": {
   "display_name": "Python 3",
   "name": "python3"
  },
  "language_info": {
   "name": "python"
  }
 },
 "nbformat": 4,
 "nbformat_minor": 0
}
