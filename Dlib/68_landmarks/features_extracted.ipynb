{
  "nbformat": 4,
  "nbformat_minor": 0,
  "metadata": {
    "colab": {
      "provenance": []
    },
    "kernelspec": {
      "name": "python3",
      "display_name": "Python 3"
    },
    "language_info": {
      "name": "python"
    }
  },
  "cells": [
    {
      "cell_type": "markdown",
      "source": [
        "zip files of nose, eyes and mouth images\n",
        "https://drive.google.com/drive/folders/1K4gMdfCQnLAmnl1Q8p3VYdJKicLOyFL7?usp=sharing"
      ],
      "metadata": {
        "id": "BytM7Wp4W067"
      }
    }
  ]
}