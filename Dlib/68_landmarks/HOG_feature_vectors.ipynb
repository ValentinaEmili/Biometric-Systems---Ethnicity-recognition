{
  "nbformat": 4,
  "nbformat_minor": 0,
  "metadata": {
    "colab": {
      "provenance": []
    },
    "kernelspec": {
      "name": "python3",
      "display_name": "Python 3"
    },
    "language_info": {
      "name": "python"
    }
  },
  "cells": [
    {
      "cell_type": "code",
      "source": [
        "# The HOG is a global descriptor (feature extraction) method applied to each pixel within an image to extract neighborhood information(neighborhood of pixel)\n",
        "# like texture and compress/abstract that information from a given image into a reduced/condensed vector form called a feature vector that could describe the\n",
        "# feature of this image which is very useful when it came to captures edge and gradient structures in an image."
      ],
      "metadata": {
        "id": "7rFNJyMzWyOT"
      },
      "execution_count": null,
      "outputs": []
    },
    {
      "cell_type": "code",
      "execution_count": null,
      "metadata": {
        "id": "7dnuUjWdnY1f"
      },
      "outputs": [],
      "source": [
        "%pip install gdown\n",
        "import gdown\n",
        "\n",
        "# URL for the folder\n",
        "url = \"https://drive.google.com/drive/folders/1ZKMUq6U6pRw7zcP6AkGxoQVX3LnMnGXC?usp=share_link\"\n",
        "gdown.download_folder(url, quiet=True)"
      ]
    },
    {
      "cell_type": "code",
      "source": [
        "!pip install tqdm"
      ],
      "metadata": {
        "id": "WxYGMecKnnX2"
      },
      "execution_count": null,
      "outputs": []
    },
    {
      "cell_type": "code",
      "source": [
        "import os\n",
        "import zipfile\n",
        "from tqdm import tqdm\n",
        "import numpy as np\n",
        "import dlib\n",
        "import cv2\n",
        "from google.colab.patches import cv2_imshow\n",
        "import shutil\n",
        "\n",
        "def extract_hog_features(image, image_path):\n",
        "  gray = cv2.cvtColor(image, cv2.COLOR_RGB2GRAY)\n",
        "  hog = cv2.HOGDescriptor(\n",
        "        _winSize=(gray.shape[1] // 8 * 8, gray.shape[0] // 8 * 8),\n",
        "        _blockSize=(16, 16),\n",
        "        _blockStride=(8, 8),\n",
        "        _cellSize=(8, 8),\n",
        "        _nbins=9  # Number of bins in histogram\n",
        "    )\n",
        "  features = hog.compute(gray)\n",
        "  if type(features) == tuple:\n",
        "    return _, False\n",
        "\n",
        "  return features.flatten(), True\n",
        "\n",
        "def main():\n",
        "  folder_path = \"/content/splitted_dataset\"\n",
        "  for file_name in os.listdir(folder_path):\n",
        "\n",
        "    # zipped files in the folder biometric_systems_dataset\n",
        "    if file_name.endswith(\".zip\"):\n",
        "\n",
        "      # full path to the zip file\n",
        "      file_path = os.path.join(folder_path, file_name)\n",
        "\n",
        "      # create folder in the same path with the name of the zip file\n",
        "      extract_folder = os.path.join(folder_path, file_name.replace(\".zip\", \"\"))\n",
        "      os.makedirs(extract_folder, exist_ok=True)\n",
        "\n",
        "      # open and extract the file\n",
        "      with zipfile.ZipFile(file_path, mode=\"r\") as zip_ref:\n",
        "        zip_ref.extractall(extract_folder)\n",
        "\n",
        "  feature_folders = [\"eyes\", \"nose\", \"mouth\"]\n",
        "  sets = [\"train\", \"test\"]\n",
        "  bad_images = []\n",
        "  for feature in feature_folders:\n",
        "    feature_folder_path = os.path.join(folder_path, feature)\n",
        "    os.makedirs(feature, exist_ok=True)\n",
        "\n",
        "    #remove the extracted zip files\n",
        "    if feature_folder_path.endswith(\".zip\"):\n",
        "      os.remove(feature_folder_path)\n",
        "    for s in sets:\n",
        "      # output folder for the embeddings for each feature\n",
        "      os.makedirs(os.path.join(feature, s), exist_ok=True)\n",
        "      set_folder_path = os.path.join(feature_folder_path, s)\n",
        "      for file_name in tqdm(os.listdir(set_folder_path), desc=\"Processing Images\"):\n",
        "        if file_name.endswith(\".jpg\"):\n",
        "          image_path = os.path.join(set_folder_path, file_name)\n",
        "          image = cv2.imread(image_path)\n",
        "          hog_features, boolean = extract_hog_features(image, image_path)\n",
        "          if boolean:\n",
        "            np.save(os.path.join(feature, s, file_name.replace(\".jpg\", \".npy\")), hog_features)\n",
        "          else:\n",
        "            bad_images.append(image_path)\n",
        "\n",
        "  for feature in feature_folders:\n",
        "    shutil.make_archive(feature, \"zip\", feature)\n",
        "\n",
        "  for image in bad_images:\n",
        "    os.remove(image)\n",
        "\n",
        "if __name__ == \"__main__\":\n",
        "  main()"
      ],
      "metadata": {
        "id": "y7zGsE9lnn6_"
      },
      "execution_count": null,
      "outputs": []
    }
  ]
}