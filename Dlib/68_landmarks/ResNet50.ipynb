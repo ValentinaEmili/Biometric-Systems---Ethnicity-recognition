{
  "nbformat": 4,
  "nbformat_minor": 0,
  "metadata": {
    "colab": {
      "provenance": [],
      "gpuType": "T4",
      "authorship_tag": "ABX9TyMuR8yQCGSnMk4QAZnEx3qv",
      "include_colab_link": true
    },
    "kernelspec": {
      "name": "python3",
      "display_name": "Python 3"
    },
    "language_info": {
      "name": "python"
    },
    "accelerator": "GPU"
  },
  "cells": [
    {
      "cell_type": "markdown",
      "metadata": {
        "id": "view-in-github",
        "colab_type": "text"
      },
      "source": [
        "<a href=\"https://colab.research.google.com/github/ValentinaEmili/Ethnicity-recognition/blob/main/Dlib/68_landmarks/ResNet50.ipynb\" target=\"_parent\"><img src=\"https://colab.research.google.com/assets/colab-badge.svg\" alt=\"Open In Colab\"/></a>"
      ]
    },
    {
      "cell_type": "code",
      "source": [
        "!pip install validators\n",
        "!pip install torchvision"
      ],
      "metadata": {
        "id": "LUbf-jpBcVMz"
      },
      "execution_count": null,
      "outputs": []
    },
    {
      "cell_type": "markdown",
      "source": [
        "## Dataset for the ethnicity recognition task"
      ],
      "metadata": {
        "id": "h-eRBs_bvmb9"
      }
    },
    {
      "cell_type": "code",
      "source": [
        "# upload the dataset\n",
        "%pip install gdown\n",
        "import gdown\n",
        "\n",
        "url = \"https://drive.google.com/drive/folders/1ZKMUq6U6pRw7zcP6AkGxoQVX3LnMnGXC?usp=share_link\"\n",
        "gdown.download_folder(url, quiet=True)"
      ],
      "metadata": {
        "id": "DpuehJWleBWW"
      },
      "execution_count": null,
      "outputs": []
    },
    {
      "cell_type": "markdown",
      "source": [
        "## Dataset for the age recognition task"
      ],
      "metadata": {
        "id": "qYFUUqHqvvrU"
      }
    },
    {
      "cell_type": "code",
      "source": [
        "# upload the dataset\n",
        "%pip install gdown\n",
        "import gdown\n",
        "\n",
        "url = \"https://drive.google.com/drive/folders/1B77SD7Eh9mbaoGIa7Dcaleqaee-wlMMm?usp=share_link\"\n",
        "gdown.download_folder(url, quiet=True)"
      ],
      "metadata": {
        "id": "fITrqF0av0xH"
      },
      "execution_count": null,
      "outputs": []
    },
    {
      "cell_type": "markdown",
      "source": [
        "## Dataset for the gender recognition task"
      ],
      "metadata": {
        "id": "A6S-VSFNvyOF"
      }
    },
    {
      "cell_type": "code",
      "source": [
        "# upload the dataset\n",
        "%pip install gdown\n",
        "import gdown\n",
        "\n",
        "url = \"https://drive.google.com/drive/folders/1hKgsi0EAsyDAKlVV6WEnK8LvslfLc9ME?usp=share_link\"\n",
        "gdown.download_folder(url, quiet=True)"
      ],
      "metadata": {
        "id": "17ENJQ5uv2UK"
      },
      "execution_count": null,
      "outputs": []
    },
    {
      "cell_type": "code",
      "execution_count": null,
      "metadata": {
        "id": "kG1_A9_EbntZ"
      },
      "outputs": [],
      "source": [
        "import torch\n",
        "from torchvision import transforms\n",
        "\n",
        "device = torch.device(\"cuda\") if torch.cuda.is_available() else torch.device(\"cpu\")\n",
        "print(device)"
      ]
    },
    {
      "cell_type": "code",
      "source": [
        "# load the model pre-trained on ImageNet dataset\n",
        "resnet50 = torch.hub.load('NVIDIA/DeepLearningExamples:torchhub', 'nvidia_resnet50', pretrained=True)\n",
        "# modify the fully connected layer\n",
        "resnet50.fc = torch.nn.Identity()\n",
        "resnet50.eval().to(device)\n",
        "transform = transforms.Compose([\n",
        "    transforms.Resize((224, 224)),\n",
        "    transforms.ToTensor(),\n",
        "    transforms.Normalize(mean=[0.485, 0.456, 0.406], std=[0.229, 0.224, 0.225])\n",
        "])"
      ],
      "metadata": {
        "id": "53ydzLLvcHWi"
      },
      "execution_count": null,
      "outputs": []
    },
    {
      "cell_type": "code",
      "source": [
        "!pip install tqdm"
      ],
      "metadata": {
        "id": "3YwhnMfsf-9W"
      },
      "execution_count": null,
      "outputs": []
    },
    {
      "cell_type": "code",
      "source": [
        "import zipfile\n",
        "import os\n",
        "from PIL import Image\n",
        "from tqdm import tqdm\n",
        "from torch.utils.data import DataLoader, Dataset\n",
        "import numpy as np\n",
        "import shutil"
      ],
      "metadata": {
        "id": "V5kqTptnfqzA"
      },
      "execution_count": null,
      "outputs": []
    },
    {
      "cell_type": "code",
      "source": [
        "def extract_and_save_features(dataloader, folder_path, feature, set):\n",
        "  folder = os.path.join(folder_path, feature, set)\n",
        "  os.makedirs(os.path.join(feature, set), exist_ok=True)\n",
        "  with torch.no_grad():\n",
        "    for batch, file_names in tqdm(dataloader, desc=f\"Extracting {feature} {set} features\"):\n",
        "      batch = batch.to(device)\n",
        "      features = resnet50(batch)\n",
        "      for i, file_name in enumerate(file_names):\n",
        "        np.save(os.path.join(feature, set, file_name.replace(\".jpg\", \".npy\")), features[i].cpu().numpy())\n",
        "      torch.cuda.empty_cache()  # Free up unused memory after each batch\n",
        "\n",
        "class ImageDataset(Dataset):\n",
        "  def __init__(self, subfolder_path, transform=None):\n",
        "    self.subfolder_path = subfolder_path\n",
        "    self.transform = transform\n",
        "    self.image_files = [f for f in os.listdir(subfolder_path)]\n",
        "\n",
        "  def __getitem__(self, index):\n",
        "    image_path = os.path.join(self.subfolder_path, self.image_files[index])\n",
        "    image = Image.open(image_path).convert(\"RGB\")\n",
        "    image = self.transform(image)\n",
        "    return image, self.image_files[index]\n",
        "\n",
        "  def __len__(self):\n",
        "    return len(self.image_files)\n",
        "\n",
        "def main():\n",
        "  #folder_path = \"/content/splitted_dataset\"\n",
        "  folder_path = \"/content/splitted_by_age\"\n",
        "  #folder_path = \"/content/splitted_by_gender\"\n",
        "  for file_name in os.listdir(folder_path):\n",
        "\n",
        "    # zipped files in the folder biometric_systems_dataset\n",
        "    if file_name.endswith(\".zip\"):\n",
        "\n",
        "      # full path to the zip file\n",
        "      file_path = os.path.join(folder_path, file_name)\n",
        "\n",
        "      # create folder in the same path with the name of the zip file\n",
        "      extract_folder = os.path.join(folder_path, file_name.replace(\".zip\", \"\"))\n",
        "      os.makedirs(extract_folder, exist_ok=True)\n",
        "\n",
        "      # open and extract the file\n",
        "      with zipfile.ZipFile(file_path, mode=\"r\") as zip_ref:\n",
        "        zip_ref.extractall(extract_folder)\n",
        "\n",
        "  # create folders to save the extracted features\n",
        "  os.makedirs(os.path.join(\"eyes\", \"train\"), exist_ok=True)\n",
        "  os.makedirs(os.path.join(\"eyes\", \"test\"), exist_ok=True)\n",
        "  os.makedirs(os.path.join(\"nose\", \"train\"), exist_ok=True)\n",
        "  os.makedirs(os.path.join(\"nose\", \"test\"), exist_ok=True)\n",
        "  os.makedirs(os.path.join(\"mouth\", \"train\"), exist_ok=True)\n",
        "  os.makedirs(os.path.join(\"mouth\", \"test\"), exist_ok=True)\n",
        "\n",
        "  # load images -> create DataLoaders -> extract and save features\n",
        "\n",
        "  eyes_train_dataset = ImageDataset(subfolder_path=os.path.join(folder_path, \"eyes\", \"train\"), transform=transform)\n",
        "  eyes_train_dataloader = DataLoader(eyes_train_dataset, batch_size=64, shuffle=True)\n",
        "  extract_and_save_features(eyes_train_dataloader, folder_path, \"eyes\", \"train\")\n",
        "\n",
        "  eyes_test_dataset = ImageDataset(subfolder_path=os.path.join(folder_path, \"eyes\", \"test\"), transform=transform)\n",
        "  eyes_test_dataloader = DataLoader(eyes_test_dataset, batch_size=64, shuffle=False)\n",
        "  extract_and_save_features(eyes_test_dataloader, folder_path, \"eyes\", \"test\")\n",
        "\n",
        "  nose_train_dataset = ImageDataset(subfolder_path=os.path.join(folder_path, \"nose\", \"train\"), transform=transform)\n",
        "  nose_train_dataloader = DataLoader(nose_train_dataset, batch_size=64, shuffle=True)\n",
        "  extract_and_save_features(nose_train_dataloader, folder_path, \"nose\", \"train\")\n",
        "\n",
        "  nose_test_dataset = ImageDataset(subfolder_path=os.path.join(folder_path, \"nose\", \"test\"), transform=transform)\n",
        "  nose_test_dataloader = DataLoader(nose_test_dataset, batch_size=64, shuffle=False)\n",
        "  extract_and_save_features(nose_test_dataloader, folder_path, \"nose\", \"test\")\n",
        "\n",
        "  mouth_train_dataset = ImageDataset(subfolder_path=os.path.join(folder_path, \"mouth\", \"train\"), transform=transform)\n",
        "  mouth_train_dataloader = DataLoader(mouth_train_dataset, batch_size=64, shuffle=True)\n",
        "  extract_and_save_features(mouth_train_dataloader, folder_path, \"mouth\", \"train\")\n",
        "\n",
        "  mouth_test_dataset = ImageDataset(subfolder_path=os.path.join(folder_path, \"mouth\", \"test\"), transform=transform)\n",
        "  mouth_test_dataloader = DataLoader(mouth_test_dataset, batch_size=64, shuffle=False)\n",
        "  extract_and_save_features(mouth_test_dataloader, folder_path, \"mouth\", \"test\")\n",
        "\n",
        "  shutil.make_archive(\"eyes\", \"zip\", \"eyes\")\n",
        "  shutil.make_archive(\"nose\", \"zip\", \"nose\")\n",
        "  shutil.make_archive(\"mouth\", \"zip\", \"mouth\")\n",
        "\n",
        "if __name__ == \"__main__\":\n",
        "  main()"
      ],
      "metadata": {
        "id": "t39yVRLjfdf8",
        "colab": {
          "base_uri": "https://localhost:8080/",
          "height": 201
        },
        "outputId": "075f03e9-5ad0-424e-b0f7-b72f377945ea"
      },
      "execution_count": 2,
      "outputs": [
        {
          "output_type": "error",
          "ename": "NameError",
          "evalue": "name 'Dataset' is not defined",
          "traceback": [
            "\u001b[0;31m---------------------------------------------------------------------------\u001b[0m",
            "\u001b[0;31mNameError\u001b[0m                                 Traceback (most recent call last)",
            "\u001b[0;32m<ipython-input-2-35eb39fc297c>\u001b[0m in \u001b[0;36m<cell line: 12>\u001b[0;34m()\u001b[0m\n\u001b[1;32m     10\u001b[0m       \u001b[0mtorch\u001b[0m\u001b[0;34m.\u001b[0m\u001b[0mcuda\u001b[0m\u001b[0;34m.\u001b[0m\u001b[0mempty_cache\u001b[0m\u001b[0;34m(\u001b[0m\u001b[0;34m)\u001b[0m  \u001b[0;31m# Free up unused memory after each batch\u001b[0m\u001b[0;34m\u001b[0m\u001b[0;34m\u001b[0m\u001b[0m\n\u001b[1;32m     11\u001b[0m \u001b[0;34m\u001b[0m\u001b[0m\n\u001b[0;32m---> 12\u001b[0;31m \u001b[0;32mclass\u001b[0m \u001b[0mImageDataset\u001b[0m\u001b[0;34m(\u001b[0m\u001b[0mDataset\u001b[0m\u001b[0;34m)\u001b[0m\u001b[0;34m:\u001b[0m\u001b[0;34m\u001b[0m\u001b[0;34m\u001b[0m\u001b[0m\n\u001b[0m\u001b[1;32m     13\u001b[0m   \u001b[0;32mdef\u001b[0m \u001b[0m__init__\u001b[0m\u001b[0;34m(\u001b[0m\u001b[0mself\u001b[0m\u001b[0;34m,\u001b[0m \u001b[0msubfolder_path\u001b[0m\u001b[0;34m,\u001b[0m \u001b[0mtransform\u001b[0m\u001b[0;34m=\u001b[0m\u001b[0;32mNone\u001b[0m\u001b[0;34m)\u001b[0m\u001b[0;34m:\u001b[0m\u001b[0;34m\u001b[0m\u001b[0;34m\u001b[0m\u001b[0m\n\u001b[1;32m     14\u001b[0m     \u001b[0mself\u001b[0m\u001b[0;34m.\u001b[0m\u001b[0msubfolder_path\u001b[0m \u001b[0;34m=\u001b[0m \u001b[0msubfolder_path\u001b[0m\u001b[0;34m\u001b[0m\u001b[0;34m\u001b[0m\u001b[0m\n",
            "\u001b[0;31mNameError\u001b[0m: name 'Dataset' is not defined"
          ]
        }
      ]
    }
  ]
}