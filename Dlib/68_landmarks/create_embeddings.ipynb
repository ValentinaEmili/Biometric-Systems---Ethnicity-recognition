{
  "nbformat": 4,
  "nbformat_minor": 0,
  "metadata": {
    "colab": {
      "provenance": [],
      "gpuType": "T4"
    },
    "kernelspec": {
      "name": "python3",
      "display_name": "Python 3"
    },
    "language_info": {
      "name": "python"
    },
    "accelerator": "GPU"
  },
  "cells": [
    {
      "cell_type": "code",
      "execution_count": null,
      "metadata": {
        "id": "7dnuUjWdnY1f"
      },
      "outputs": [],
      "source": [
        "%pip install gdown\n",
        "import gdown\n",
        "\n",
        "# URL for the folder\n",
        "url = \"https://drive.google.com/drive/folders/1NMwGhJQLLvIgv5QPgV6QpWp8r3TJxCuB?usp=share_link\"\n",
        "gdown.download_folder(url, quiet=True)"
      ]
    },
    {
      "cell_type": "code",
      "source": [
        "!pip install tqdm\n",
        "!pip install dlib"
      ],
      "metadata": {
        "id": "WxYGMecKnnX2"
      },
      "execution_count": null,
      "outputs": []
    },
    {
      "cell_type": "code",
      "source": [
        "import os\n",
        "import zipfile\n",
        "from tqdm import tqdm\n",
        "import numpy as np\n",
        "import dlib\n",
        "import cv2\n",
        "from google.colab.patches import cv2_imshow\n",
        "import shutil\n",
        "\n",
        "def extract_hog_features(image, image_path):\n",
        "  gray = cv2.cvtColor(image, cv2.COLOR_RGB2GRAY)\n",
        "  hog = cv2.HOGDescriptor(\n",
        "        _winSize=(gray.shape[1] // 8 * 8, gray.shape[0] // 8 * 8),  # Make sure to use divisible sizes\n",
        "        _blockSize=(16, 16),  # Block size (typically 16x16 pixels)\n",
        "        _blockStride=(8, 8),  # Block stride (usually 8)\n",
        "        _cellSize=(8, 8),  # Cell size (usually 8x8)\n",
        "        _nbins=9  # Number of bins in histogram (usually 9)\n",
        "    )\n",
        "  features = hog.compute(gray)\n",
        "  if type(features) == tuple:\n",
        "    return _, False\n",
        "\n",
        "  return features.flatten(), True  # Flatten to a 1D vector for each region\n",
        "\n",
        "def main():\n",
        "  folder_path = \"/content/reshaped_images\"\n",
        "  for file_name in os.listdir(folder_path):\n",
        "\n",
        "    # zipped files in the folder biometric_systems_dataset\n",
        "    if file_name.endswith(\".zip\"):\n",
        "\n",
        "      # full path to the zip file\n",
        "      file_path = os.path.join(folder_path, file_name)\n",
        "\n",
        "      # create folder in the same path with the name of the zip file\n",
        "      extract_folder = os.path.join(folder_path, file_name.replace(\".zip\", \"\"))\n",
        "      os.makedirs(extract_folder, exist_ok=True)\n",
        "\n",
        "      # open and extract the file\n",
        "      with zipfile.ZipFile(file_path, mode=\"r\") as zip_ref:\n",
        "        zip_ref.extractall(extract_folder)\n",
        "\n",
        "  feature_folders = [\"eyes\", \"nose\", \"mouth\"]\n",
        "  bad_images = []\n",
        "  for feature in feature_folders:\n",
        "    feature_folder_path = os.path.join(folder_path, feature)\n",
        "\n",
        "    #remove the extracted zip files\n",
        "    if feature_folder_path.endswith(\".zip\"):\n",
        "      os.remove(feature_folder_path)\n",
        "\n",
        "    # create embeddings directories\n",
        "    embeddings_folder = os.path.join(f\"embeddings_{feature}\")\n",
        "    os.makedirs(embeddings_folder, exist_ok=True)\n",
        "    for file_name in tqdm(os.listdir(feature_folder_path), desc=\"Processing Images\"):\n",
        "      if file_name.endswith(\".jpg\"):\n",
        "        image_path = os.path.join(feature_folder_path, file_name)\n",
        "        image = cv2.imread(image_path)\n",
        "        hog_features, boolean = extract_hog_features(image, image_path)\n",
        "        if boolean:\n",
        "          np.save(os.path.join(embeddings_folder, file_name.replace(\".jpg\", \".npy\")), hog_features)\n",
        "        else:\n",
        "          bad_images.append(image_path)\n",
        "    shutil.make_archive(embeddings_folder, \"zip\", embeddings_folder)\n",
        "\n",
        "  for image in bad_images:\n",
        "    os.remove(image)\n",
        "\n",
        "if __name__ == \"__main__\":\n",
        "  main()"
      ],
      "metadata": {
        "id": "y7zGsE9lnn6_"
      },
      "execution_count": null,
      "outputs": []
    }
  ]
}