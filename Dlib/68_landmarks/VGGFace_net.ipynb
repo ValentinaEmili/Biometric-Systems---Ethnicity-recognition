{
  "cells": [
    {
      "cell_type": "markdown",
      "metadata": {
        "id": "view-in-github",
        "colab_type": "text"
      },
      "source": [
        "<a href=\"https://colab.research.google.com/github/ValentinaEmili/Ethnicity-recognition/blob/main/Dlib/68_landmarks/VGGFace_net.ipynb\" target=\"_parent\"><img src=\"https://colab.research.google.com/assets/colab-badge.svg\" alt=\"Open In Colab\"/></a>"
      ]
    },
    {
      "cell_type": "code",
      "execution_count": null,
      "metadata": {
        "id": "IFtqByWE4oeM"
      },
      "outputs": [],
      "source": [
        "!pip install deepface\n",
        "!pip install tqdm"
      ]
    },
    {
      "cell_type": "code",
      "execution_count": null,
      "metadata": {
        "id": "2IEWifsY40ti"
      },
      "outputs": [],
      "source": [
        "%pip install gdown\n",
        "import gdown\n",
        "\n",
        "# URL for the folder\n",
        "url = \"https://drive.google.com/drive/folders/1ZKMUq6U6pRw7zcP6AkGxoQVX3LnMnGXC?usp=share_link\"\n",
        "gdown.download_folder(url, quiet=True)"
      ]
    },
    {
      "cell_type": "code",
      "execution_count": 4,
      "metadata": {
        "id": "4OP6XtGNJQTi"
      },
      "outputs": [],
      "source": [
        "# Set the working directory for DeepFace\n",
        "import os\n",
        "os.environ['DEEPFACE_HOME'] = '/content'"
      ]
    },
    {
      "cell_type": "code",
      "execution_count": null,
      "metadata": {
        "id": "rMFFhBpI5Ag9"
      },
      "outputs": [],
      "source": [
        "import os\n",
        "import cv2\n",
        "import numpy as np\n",
        "import shutil\n",
        "import zipfile\n",
        "import dlib\n",
        "from tqdm import tqdm\n",
        "from google.colab.patches import cv2_imshow\n",
        "from deepface import DeepFace"
      ]
    },
    {
      "cell_type": "code",
      "execution_count": null,
      "metadata": {
        "id": "xFcNpKn7JkMp"
      },
      "outputs": [],
      "source": [
        "# documentation: https://github.com/serengil/deepface\n",
        "\n",
        "def main():\n",
        "  folder_path = \"/content/splitted_dataset\"\n",
        "  for file_name in os.listdir(folder_path):\n",
        "\n",
        "    # zipped files in the folder biometric_systems_dataset\n",
        "    if file_name.endswith(\".zip\"):\n",
        "\n",
        "      # full path to the zip file\n",
        "      file_path = os.path.join(folder_path, file_name)\n",
        "\n",
        "      # create folder in the same path with the name of the zip file\n",
        "      extract_folder = os.path.join(folder_path, file_name.replace(\".zip\", \"\"))\n",
        "      os.makedirs(extract_folder, exist_ok=True)\n",
        "\n",
        "      # open and extract the file\n",
        "      with zipfile.ZipFile(file_path, mode=\"r\") as zip_ref:\n",
        "        zip_ref.extractall(extract_folder)\n",
        "\n",
        "  feature_folders = [\"eyes\", \"nose\", \"mouth\"]\n",
        "  sets = [\"train\", \"test\"]\n",
        "  for feature in feature_folders:\n",
        "    feature_folder_path = os.path.join(folder_path, feature)\n",
        "    os.makedirs(feature, exist_ok=True)\n",
        "\n",
        "    #remove the extracted zip files\n",
        "    if feature_folder_path.endswith(\".zip\"):\n",
        "      os.remove(feature_folder_path)\n",
        "    for s in sets:\n",
        "\n",
        "      # output folder for the embeddings for each feature\n",
        "      os.makedirs(os.path.join(feature, s), exist_ok=True)\n",
        "      set_folder_path = os.path.join(feature_folder_path, s)\n",
        "      for file_name in tqdm(os.listdir(set_folder_path), desc=\"Processing Images\"):\n",
        "        if file_name.endswith(\".jpg\"):\n",
        "          image_path = os.path.join(set_folder_path, file_name)\n",
        "          embedding = DeepFace.represent(img_path=image_path, model_name=\"VGG-Face\", enforce_detection=False)\n",
        "          feature_vector = np.array(embedding[0]['embedding'])\n",
        "          np.save(os.path.join(os.path.join(feature, s), file_name.replace(\".jpg\", \".npy\")), feature_vector)\n",
        "    shutil.make_archive(feature, \"zip\", feature)\n",
        "\n",
        "if __name__ == \"__main__\":\n",
        "    main()"
      ]
    }
  ],
  "metadata": {
    "colab": {
      "provenance": [],
      "gpuType": "T4",
      "include_colab_link": true
    },
    "kernelspec": {
      "display_name": "Python 3",
      "name": "python3"
    },
    "language_info": {
      "name": "python"
    },
    "accelerator": "GPU"
  },
  "nbformat": 4,
  "nbformat_minor": 0
}