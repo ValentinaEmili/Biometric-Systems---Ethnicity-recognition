{
  "cells": [
    {
      "cell_type": "code",
      "execution_count": null,
      "metadata": {
        "id": "O8gotwLFV6gV"
      },
      "outputs": [],
      "source": [
        "#This tool maps an image of a human face to a 128 dimensional vector space where images of\n",
        "# the same person are near to each other and images from different people are far apart.\n",
        "# Therefore, you can perform face recognition by mapping faces to the 128D space and then\n",
        "#checking if their Euclidean distance is small enough."
      ]
    },
    {
      "cell_type": "code",
      "execution_count": null,
      "metadata": {
        "id": "9Nm3a0qlWxAM"
      },
      "outputs": [],
      "source": [
        "%pip install gdown\n",
        "import gdown\n",
        "\n",
        "# URL for the folder\n",
        "url = \"https://drive.google.com/drive/folders/1ZKMUq6U6pRw7zcP6AkGxoQVX3LnMnGXC?usp=share_link\"\n",
        "gdown.download_folder(url, quiet=True)"
      ]
    },
    {
      "cell_type": "code",
      "execution_count": null,
      "metadata": {
        "id": "d286PdOjXshv"
      },
      "outputs": [],
      "source": [
        "!pip install tqdm\n",
        "!pip install dlib"
      ]
    },
    {
      "cell_type": "code",
      "execution_count": null,
      "metadata": {
        "id": "9qyqGZXYXxCU"
      },
      "outputs": [],
      "source": [
        "# 23032 images for each feature\n",
        "\n",
        "import os\n",
        "import cv2\n",
        "import numpy as np\n",
        "import shutil\n",
        "import zipfile\n",
        "import dlib\n",
        "from tqdm import tqdm\n",
        "from google.colab.patches import cv2_imshow\n",
        "\n",
        "# Disable CUDA explicitly in dlib\n",
        "dlib.DLIB_USE_CUDA = False  # Force CPU usage"
      ]
    },
    {
      "cell_type": "code",
      "execution_count": null,
      "metadata": {
        "id": "YNoFeKpAX3ub"
      },
      "outputs": [],
      "source": [
        "face_rec_model_path = \"/content/splitted_dataset/dlib_face_recognition_resnet_model_v1.dat\"\n",
        "facerec = dlib.face_recognition_model_v1(face_rec_model_path)\n",
        "\n",
        "def main():\n",
        "  folder_path = \"/content/splitted_dataset\"\n",
        "  for file_name in os.listdir(folder_path):\n",
        "\n",
        "    # zipped files in the folder biometric_systems_dataset\n",
        "    if file_name.endswith(\".zip\"):\n",
        "\n",
        "      # full path to the zip file\n",
        "      file_path = os.path.join(folder_path, file_name)\n",
        "\n",
        "      # create folder in the same path with the name of the zip file\n",
        "      extract_folder = os.path.join(folder_path, file_name.replace(\".zip\", \"\"))\n",
        "      os.makedirs(extract_folder, exist_ok=True)\n",
        "\n",
        "      # open and extract the file\n",
        "      with zipfile.ZipFile(file_path, mode=\"r\") as zip_ref:\n",
        "        zip_ref.extractall(extract_folder)\n",
        "\n",
        "  feature_folders = [\"eyes\", \"nose\", \"mouth\"]\n",
        "  sets = [\"train\", \"test\"]\n",
        "  for feature in feature_folders:\n",
        "    feature_folder_path = os.path.join(folder_path, feature)\n",
        "    os.makedirs(feature, exist_ok=True)\n",
        "\n",
        "    #remove the extracted zip files\n",
        "    if feature_folder_path.endswith(\".zip\"):\n",
        "      os.remove(feature_folder_path)\n",
        "    for s in sets:\n",
        "\n",
        "      # output folder for the embeddings for each feature\n",
        "      os.makedirs(os.path.join(feature, s), exist_ok=True)\n",
        "      set_folder_path = os.path.join(feature_folder_path, s)\n",
        "      for file_name in tqdm(os.listdir(set_folder_path), desc=\"Processing Images\"):\n",
        "        if file_name.endswith(\".jpg\"):\n",
        "          image_path = os.path.join(set_folder_path, file_name)\n",
        "          image = cv2.imread(image_path)\n",
        "          image = cv2.resize(image, (150,150))\n",
        "          face_embedding = facerec.compute_face_descriptor(image)\n",
        "          np.save(os.path.join(feature, s, file_name.replace(\".jpg\", \".npy\")), np.array(face_embedding))\n",
        "    shutil.make_archive(feature, \"zip\", feature)\n",
        "\n",
        "if __name__ == \"__main__\":\n",
        "    main()\n"
      ]
    }
  ],
  "metadata": {
    "accelerator": "GPU",
    "colab": {
      "gpuType": "T4",
      "provenance": []
    },
    "kernelspec": {
      "display_name": "Python 3",
      "name": "python3"
    },
    "language_info": {
      "name": "python"
    }
  },
  "nbformat": 4,
  "nbformat_minor": 0
}