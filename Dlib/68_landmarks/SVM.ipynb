{
  "cells": [
    {
      "cell_type": "code",
      "execution_count": null,
      "metadata": {
        "id": "tzbbZMiLeD-X"
      },
      "outputs": [],
      "source": [
        "# feature vectors\n",
        "%pip install gdown\n",
        "import gdown\n",
        "\n",
        "url = \"https://drive.google.com/drive/folders/1U5lsvfh8zSOfPatqXvdGHLo4j_XkEyw7?usp=share_link\"\n",
        "gdown.download_folder(url, quiet=True)"
      ]
    },
    {
      "cell_type": "code",
      "source": [
        "# 128D vectors\n",
        "%pip install gdown\n",
        "import gdown\n",
        "\n",
        "url = \"https://drive.google.com/drive/folders/1Wjkc9I6N-InDznjsu5ETmtAecPSLQYQQ?usp=share_link\"\n",
        "gdown.download_folder(url, quiet=True)"
      ],
      "metadata": {
        "id": "a9ohDS4IeGUT"
      },
      "execution_count": null,
      "outputs": []
    },
    {
      "cell_type": "code",
      "execution_count": null,
      "metadata": {
        "id": "Gudkza8ke6I-",
        "outputId": "f320daf2-9f26-40c5-9d26-2162f6d74f8a",
        "colab": {
          "base_uri": "https://localhost:8080/"
        }
      },
      "outputs": [
        {
          "output_type": "stream",
          "name": "stdout",
          "text": [
            "[0.51492742 0.51301013 0.52259655 0.51766639 0.52150096]\n"
          ]
        }
      ],
      "source": [
        "import os\n",
        "import zipfile\n",
        "import numpy as np\n",
        "from sklearn.svm import SVC\n",
        "from sklearn.model_selection import train_test_split, cross_val_score, KFold\n",
        "from sklearn.preprocessing import StandardScaler\n",
        "from sklearn.metrics import classification_report, accuracy_score\n",
        "\n",
        "def train_evaluate_svm(X_train, X_test, y_train, y_test):\n",
        "\n",
        "  # standardize the features\n",
        "  scaler = StandardScaler()\n",
        "  X_train = scaler.fit_transform(X_train)\n",
        "  X_test = scaler.transform(X_test)\n",
        "\n",
        "  # train the SVM classifier\n",
        "  svm_model = SVC(kernel='linear', random_state=42)\n",
        "  #svm_model = SVC(kernel='poly', random_state=42)\n",
        "\n",
        "  # cross-validation sul training set\n",
        "  cv = KFold(n_splits=5, shuffle=True, random_state=42)\n",
        "  cv_scores = cross_val_score(svm_model, X_train, y_train, cv=cv, scoring='accuracy')\n",
        "  print(cv_scores)\n",
        "\n",
        "  svm_model.fit(X_train, y_train)\n",
        "\n",
        "  # make predictions and evaluate\n",
        "  y_pred = svm_model.predict(X_test)\n",
        "\n",
        "  # accuracy\n",
        "  accuracy = accuracy_score(y_test, y_pred)\n",
        "  class_report = classification_report(y_test, y_pred)\n",
        "  print(accuracy)\n",
        "  print(class_report)\n",
        "\n",
        "def main():\n",
        "  folder_path = \"/content/feature_vectors\"\n",
        "  #folder_path = \"/content/128D_vectors\"\n",
        "  for file_name in os.listdir(folder_path):\n",
        "\n",
        "    # zipped files in the folder biometric_systems_dataset\n",
        "    if file_name.endswith(\".zip\"):\n",
        "\n",
        "      # full path to the zip file\n",
        "      file_path = os.path.join(folder_path, file_name)\n",
        "\n",
        "      # create folder in the same path with the name of the zip file\n",
        "      extract_folder = os.path.join(folder_path, file_name.replace(\".zip\", \"\"))\n",
        "      os.makedirs(extract_folder, exist_ok=True)\n",
        "\n",
        "      # open and extract the file\n",
        "      with zipfile.ZipFile(file_path, mode=\"r\") as zip_ref:\n",
        "        zip_ref.extractall(extract_folder)\n",
        "\n",
        "  X_train_eyes, y_train_eyes = [], []\n",
        "  X_test_eyes, y_test_eyes = [], []\n",
        "  X_train_mouth, y_train_mouth = [], []\n",
        "  X_test_mouth, y_test_mouth = [], []\n",
        "  X_train_nose, y_train_nose = [], []\n",
        "  X_test_nose, y_test_nose = [], []\n",
        "  sets = [\"train\", \"test\"]\n",
        "  for subfolder in os.listdir(folder_path):\n",
        "    if subfolder.endswith(\".zip\"):\n",
        "      continue\n",
        "    for s in sets:\n",
        "      subfolder_path = os.path.join(folder_path, subfolder, s)\n",
        "      for file_name in os.listdir(subfolder_path):\n",
        "        file_path = os.path.join(subfolder_path, file_name)\n",
        "        embedding = np.load(file_path)\n",
        "        feature, age, gender, race, date_dime = file_name.split(\"_\")\n",
        "        if s == \"train\":\n",
        "          if subfolder == \"eyes\":\n",
        "            X_train_eyes.append(embedding)\n",
        "            y_train_eyes.append(int(race))\n",
        "          elif subfolder == \"mouth\":\n",
        "            X_train_mouth.append(embedding)\n",
        "            y_train_mouth.append(int(race))\n",
        "          elif subfolder == \"nose\":\n",
        "            X_train_nose.append(embedding)\n",
        "            y_train_nose.append(int(race))\n",
        "        else:\n",
        "          if subfolder == \"eyes\":\n",
        "            X_test_eyes.append(embedding)\n",
        "            y_test_eyes.append(int(race))\n",
        "          elif subfolder == \"mouth\":\n",
        "            X_test_mouth.append(embedding)\n",
        "            y_test_mouth.append(int(race))\n",
        "          elif subfolder == \"nose\":\n",
        "            X_test_nose.append(embedding)\n",
        "            y_test_nose.append(int(race))\n",
        "\n",
        "  X_train_eyes, y_train_eyes = np.array(X_train_eyes), np.array(y_train_eyes)\n",
        "  X_test_eyes, y_test_eyes = np.array(X_test_eyes), np.array(y_test_eyes)\n",
        "  X_train_mouth, y_train_mouth = np.array(X_train_mouth), np.array(y_train_mouth)\n",
        "  X_test_mouth, y_test_mouth = np.array(X_test_mouth), np.array(y_test_mouth)\n",
        "  X_train_nose, y_train_nose = np.array(X_train_nose), np.array(y_train_nose)\n",
        "  X_test_nose, y_test_nose = np.array(X_test_nose), np.array(y_test_nose)\n",
        "\n",
        "  X_all = [[X_train_eyes,X_test_eyes], [X_train_mouth, X_test_mouth], [X_train_nose, X_test_nose]]\n",
        "  y_all = [[y_train_eyes, y_test_eyes], [y_train_mouth, y_test_mouth], [y_train_nose, y_test_nose]]\n",
        "\n",
        "  for idx, (X, y) in enumerate(zip(X_all, y_all)):\n",
        "    X_train, X_test = X\n",
        "    y_train, y_test = y\n",
        "    if idx == 0:\n",
        "      train_evaluate_svm(X_train, X_test, y_train, y_test)\n",
        "\n",
        "if __name__ == \"__main__\":\n",
        "  main()"
      ]
    }
  ],
  "metadata": {
    "colab": {
      "provenance": [],
      "gpuType": "T4"
    },
    "kernelspec": {
      "display_name": "Python 3",
      "name": "python3"
    },
    "language_info": {
      "name": "python"
    },
    "accelerator": "GPU"
  },
  "nbformat": 4,
  "nbformat_minor": 0
}