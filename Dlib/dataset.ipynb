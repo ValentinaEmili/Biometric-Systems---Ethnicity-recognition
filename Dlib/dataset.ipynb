{
  "nbformat": 4,
  "nbformat_minor": 0,
  "metadata": {
    "colab": {
      "provenance": []
    },
    "kernelspec": {
      "name": "python3",
      "display_name": "Python 3"
    },
    "language_info": {
      "name": "python"
    }
  },
  "cells": [
    {
      "cell_type": "code",
      "execution_count": null,
      "metadata": {
        "id": "DeEl_3Xx2kva"
      },
      "outputs": [],
      "source": [
        "%pip install gdown\n",
        "import gdown\n",
        "\n",
        "url = \"https://drive.google.com/drive/folders/12F9epgBqkVCww8VcBeD2S2CIfaLNe0zC?usp=share_link\"\n",
        "gdown.download_folder(url, quiet=True)"
      ]
    },
    {
      "cell_type": "code",
      "source": [
        "def main():\n",
        "  # folder containing the zip files and the one that will contains the images extracted from those files\n",
        "  folder_path = \"/content/biometric_systems_project\"\n",
        "  for file_name in os.listdir(folder_path):\n",
        "\n",
        "    # zipped files in the folder biometric_systems_dataset\n",
        "    if file_name.endswith(\".zip\"):\n",
        "\n",
        "      # full path to the zip file\n",
        "      file_path = os.path.join(folder_path, file_name)\n",
        "\n",
        "      # create folder in the same path with the name of the zip file\n",
        "      extract_folder = os.path.join(folder_path, file_name.replace(\".zip\", \"\"))\n",
        "      os.makedirs(extract_folder, exist_ok=True)\n",
        "\n",
        "      # open and extract the file\n",
        "      with zipfile.ZipFile(file_path, mode=\"r\") as zip_ref:\n",
        "        zip_ref.extractall(extract_folder)\n",
        "\n",
        "        for root, _, files in os.walk(extract_folder):\n",
        "          for image_file in files:\n",
        "            if image_file.lower().endswith('.jpg'):\n",
        "              source_file = os.path.join(root, image_file)\n",
        "              destination_file = os.path.join(folder_path, image_file)\n",
        "\n",
        "              # move the image file to the destination path\n",
        "              shutil.move(source_file, destination_file)\n",
        "\n",
        "        # remove the extracted folder and all its contents\n",
        "        shutil.rmtree(extract_folder)\n",
        "        os.remove(extract_folder + \".zip\")\n",
        "  archived = shutil.make_archive(\"/content/dataset\", 'zip', folder_path)\n",
        "\n",
        "if __name__ == \"__main__\":\n",
        "  main()"
      ],
      "metadata": {
        "id": "ol8GkimQs0Mz"
      },
      "execution_count": null,
      "outputs": []
    }
  ]
}