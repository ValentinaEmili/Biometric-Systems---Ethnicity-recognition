{
  "nbformat": 4,
  "nbformat_minor": 0,
  "metadata": {
    "colab": {
      "provenance": []
    },
    "kernelspec": {
      "name": "python3",
      "display_name": "Python 3"
    },
    "language_info": {
      "name": "python"
    }
  },
  "cells": [
    {
      "cell_type": "markdown",
      "source": [
        "zip files of nose, eyes and mouth images\n",
        "\n",
        "https://drive.google.com/drive/folders/1yshXgV4fbejGIZ5xVZYVbTn-sRtya1kX?usp=sharing"
      ],
      "metadata": {
        "id": "JOO862nqnFm6"
      }
    }
  ]
}
