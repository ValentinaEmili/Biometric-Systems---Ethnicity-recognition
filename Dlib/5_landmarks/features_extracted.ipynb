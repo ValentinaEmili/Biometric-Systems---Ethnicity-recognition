{
  "nbformat": 4,
  "nbformat_minor": 0,
  "metadata": {
    "colab": {
      "provenance": []
    },
    "kernelspec": {
      "name": "python3",
      "display_name": "Python 3"
    },
    "language_info": {
      "name": "python"
    }
  },
  "cells": [
    {
      "cell_type": "markdown",
      "source": [
        "zip files of nose, eyes and mouth images\n",
        "\n",
        "https://drive.google.com/drive/folders/1Gq1_TYepyw9zCGO-k4toqBxHVD7L-7hv?usp=sharing"
      ],
      "metadata": {
        "id": "JOO862nqnFm6"
      }
    }
  ]
}