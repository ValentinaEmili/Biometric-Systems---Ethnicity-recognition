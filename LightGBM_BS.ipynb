{
  "cells": [
    {
      "cell_type": "code",
      "execution_count": 69,
      "metadata": {
        "colab": {
          "base_uri": "https://localhost:8080/"
        },
        "id": "qFyXvpmjOGpE",
        "outputId": "0b09cdc7-86e8-4ffc-a1d1-dc7862310080"
      },
      "outputs": [
        {
          "output_type": "stream",
          "name": "stdout",
          "text": [
            "Requirement already satisfied: gdown in /usr/local/lib/python3.10/dist-packages (5.2.0)\n",
            "Requirement already satisfied: beautifulsoup4 in /usr/local/lib/python3.10/dist-packages (from gdown) (4.12.3)\n",
            "Requirement already satisfied: filelock in /usr/local/lib/python3.10/dist-packages (from gdown) (3.16.1)\n",
            "Requirement already satisfied: requests[socks] in /usr/local/lib/python3.10/dist-packages (from gdown) (2.32.3)\n",
            "Requirement already satisfied: tqdm in /usr/local/lib/python3.10/dist-packages (from gdown) (4.67.1)\n",
            "Requirement already satisfied: soupsieve>1.2 in /usr/local/lib/python3.10/dist-packages (from beautifulsoup4->gdown) (2.6)\n",
            "Requirement already satisfied: charset-normalizer<4,>=2 in /usr/local/lib/python3.10/dist-packages (from requests[socks]->gdown) (3.4.1)\n",
            "Requirement already satisfied: idna<4,>=2.5 in /usr/local/lib/python3.10/dist-packages (from requests[socks]->gdown) (3.10)\n",
            "Requirement already satisfied: urllib3<3,>=1.21.1 in /usr/local/lib/python3.10/dist-packages (from requests[socks]->gdown) (2.3.0)\n",
            "Requirement already satisfied: certifi>=2017.4.17 in /usr/local/lib/python3.10/dist-packages (from requests[socks]->gdown) (2024.12.14)\n",
            "Requirement already satisfied: PySocks!=1.5.7,>=1.5.6 in /usr/local/lib/python3.10/dist-packages (from requests[socks]->gdown) (1.7.1)\n"
          ]
        },
        {
          "output_type": "execute_result",
          "data": {
            "text/plain": [
              "['/content/splitted_by_age/eyes.zip',\n",
              " '/content/splitted_by_age/mouth.zip',\n",
              " '/content/splitted_by_age/nose.zip']"
            ]
          },
          "metadata": {},
          "execution_count": 69
        }
      ],
      "source": [
        "%pip install gdown\n",
        "import gdown\n",
        "#ethnicity\n",
        "#url = \"https://drive.google.com/drive/folders/1ZKMUq6U6pRw7zcP6AkGxoQVX3LnMnGXC?usp=share_link\"\n",
        "#gender\n",
        "# url=\"https://drive.google.com/drive/folders/1hKgsi0EAsyDAKlVV6WEnK8LvslfLc9ME?usp=drive_link\"\n",
        "#age\n",
        "url=\"https://drive.google.com/drive/folders/1B77SD7Eh9mbaoGIa7Dcaleqaee-wlMMm?usp=drive_link\"\n",
        "gdown.download_folder(url, quiet=True)"
      ]
    },
    {
      "cell_type": "markdown",
      "metadata": {
        "id": "KuFwuJrvup5c"
      },
      "source": [
        "**IMPORT THE NECESSARY LIBRARIES FOR THE NOTEBOOK TO WORK**"
      ]
    },
    {
      "cell_type": "code",
      "execution_count": 2,
      "metadata": {
        "id": "99HwKwggpKq2",
        "colab": {
          "base_uri": "https://localhost:8080/"
        },
        "outputId": "8dbe2a79-cde7-4cab-ce9c-0d41cea26b60"
      },
      "outputs": [
        {
          "output_type": "stream",
          "name": "stderr",
          "text": [
            "/usr/local/lib/python3.10/dist-packages/dask/dataframe/__init__.py:42: FutureWarning: \n",
            "Dask dataframe query planning is disabled because dask-expr is not installed.\n",
            "\n",
            "You can install it with `pip install dask[dataframe]` or `conda install dask`.\n",
            "This will raise in a future version.\n",
            "\n",
            "  warnings.warn(msg, FutureWarning)\n"
          ]
        }
      ],
      "source": [
        "import lightgbm as lgb\n",
        "import matplotlib.pyplot as plt\n",
        "from sklearn.metrics import classification_report, confusion_matrix\n",
        "import seaborn as sns\n",
        "import os\n",
        "import zipfile\n",
        "import shutil\n",
        "from collections import defaultdict\n",
        "from PIL import Image\n",
        "import cv2\n",
        "import numpy as np\n",
        "from skimage.feature import local_binary_pattern\n",
        "from torch.utils.data import  Dataset\n",
        "from sklearn.model_selection import KFold\n",
        "from imblearn.over_sampling import RandomOverSampler\n",
        "from imblearn.under_sampling import RandomUnderSampler\n",
        "from sklearn.model_selection import GridSearchCV\n",
        "import pandas as pd\n",
        "from sklearn.preprocessing import LabelEncoder"
      ]
    },
    {
      "cell_type": "code",
      "execution_count": 75,
      "metadata": {
        "colab": {
          "base_uri": "https://localhost:8080/"
        },
        "id": "_YAybAzXX5RC",
        "outputId": "61422b99-9d7b-4a7e-e36a-c9b9d4e9f6fe"
      },
      "outputs": [
        {
          "output_type": "stream",
          "name": "stdout",
          "text": [
            "Cartella 'mouth':\n",
            "  Train set: 18421 file\n",
            "  Test set: 4610 file\n",
            "Cartella 'nose':\n",
            "  Train set: 18421 file\n",
            "  Test set: 4610 file\n",
            "Cartella 'eyes':\n",
            "  Train set: 18421 file\n",
            "  Test set: 4610 file\n"
          ]
        }
      ],
      "source": [
        "# Datapath Project_Biometric/Dataset\n",
        "#folder_path = \"splitted_dataset\"\n",
        "# folder_path = \"splitted_by_gender\"\n",
        "folder_path=\"splitted_by_age\"\n",
        "for file_name in os.listdir(folder_path):\n",
        "\n",
        "    # zipped files in the folder biometric_systems_dataset\n",
        "    if file_name.endswith(\".zip\"):\n",
        "\n",
        "      # full path to the zip file\n",
        "      file_path = os.path.join(folder_path, file_name)\n",
        "\n",
        "      # create folder in the same path with the name of the zip file\n",
        "      extract_folder = os.path.join(folder_path, file_name.replace(\".zip\", \"\"))\n",
        "      os.makedirs(extract_folder, exist_ok=True)\n",
        "\n",
        "      # open and extract the file\n",
        "      with zipfile.ZipFile(file_path, mode=\"r\") as zip_ref:\n",
        "        zip_ref.extractall(extract_folder)\n",
        "      os.remove(file_path)\n",
        "\n",
        "for folder in os.listdir(folder_path):\n",
        "    dir_path = os.path.join(folder_path, folder)\n",
        "\n",
        "    # Procedi solo se è una directory\n",
        "    if os.path.isdir(folder_path):\n",
        "        train_folder = os.path.join(dir_path, \"train\")\n",
        "        test_folder = os.path.join(dir_path, \"test\")\n",
        "\n",
        "        train_count = len([f for f in os.listdir(train_folder) if os.path.isfile(os.path.join(train_folder, f))]) if os.path.exists(train_folder) else 0\n",
        "        test_count = len([f for f in os.listdir(test_folder) if os.path.isfile(os.path.join(test_folder, f))]) if os.path.exists(test_folder) else 0\n",
        "\n",
        "        print(f\"Cartella '{folder}':\")\n",
        "        print(f\"  Train set: {train_count} file\")\n",
        "        print(f\"  Test set: {test_count} file\")"
      ]
    },
    {
      "cell_type": "markdown",
      "metadata": {
        "id": "9sUCxbpQAfal"
      },
      "source": [
        "**TRYING SMOTE FOR BALANCING OUT THE DATASET**"
      ]
    },
    {
      "cell_type": "code",
      "execution_count": null,
      "metadata": {
        "id": "fWUPOZJwAe_j"
      },
      "outputs": [],
      "source": [
        "from imblearn.over_sampling import SMOTE\n",
        "sm = SMOTE(random_state=42)  # You can adjust the random state as needed\n",
        "X_resampled, y_resampled = sm.fit_resample(X_train, y_train)"
      ]
    },
    {
      "cell_type": "markdown",
      "metadata": {
        "id": "banvHhwZpjD7"
      },
      "source": [
        "**Checking the availability of the images**"
      ]
    },
    {
      "cell_type": "code",
      "execution_count": null,
      "metadata": {
        "id": "e0HzZIZmdc1b"
      },
      "outputs": [],
      "source": [
        "# def display_first_image(folder_path):\n",
        "#     image_files = [f for f in os.listdir(folder_path) if f.lower().endswith(('.png', '.jpg', '.jpeg', '.gif'))]\n",
        "\n",
        "#     if not image_files:\n",
        "#         print(\"No images found in the specified folder.\")\n",
        "#         return\n",
        "\n",
        "#     first_image_path = os.path.join(folder_path, image_files[0])\n",
        "\n",
        "#     try:\n",
        "#         img = Image.open(first_image_path)\n",
        "#         plt.imshow(img)\n",
        "#         plt.show()\n",
        "#     except IOError:\n",
        "#         print(\"Error opening image file:\", first_image_path)\n",
        "\n",
        "# # Replace with your actual folder path\n",
        "# folder_path_eyes= \"/content/splitted_dataset/eyes/train\"\n",
        "# folder_path_mouth = \"/content/splitted_dataset/mouth/train\"\n",
        "# folder_path_nose = \"/content/splitted_dataset/nose/train\"\n",
        "# display_first_image(folder_path_eyes)\n",
        "# display_first_image(folder_path_mouth)\n",
        "# display_first_image(folder_path_nose)"
      ]
    },
    {
      "cell_type": "markdown",
      "metadata": {
        "id": "h2XHNhE8qEt4"
      },
      "source": [
        "**Getting the frequencies of the labels**"
      ]
    },
    {
      "cell_type": "code",
      "execution_count": null,
      "metadata": {
        "colab": {
          "base_uri": "https://localhost:8080/"
        },
        "id": "1LwkotGPKWnX",
        "outputId": "fdfdb2b3-ba68-4ca1-98c6-0cdd2fc7ee08"
      },
      "outputs": [
        {
          "output_type": "stream",
          "name": "stdout",
          "text": [
            "{0: 9654, 1: 8767}\n",
            "{0: 9639, 1: 8782}\n",
            "{0: 9692, 1: 8729}\n"
          ]
        }
      ],
      "source": [
        "def get_frequencies(datapath):\n",
        "  total_images=0\n",
        "  # class_counts = {0: 0, 1: 0, 2: 0, 3: 0, 4: 0}\n",
        "  # class_counts={0:0,1:0}\n",
        "  class_counts={}\n",
        "  for filename in os.listdir(datapath):\n",
        "      if filename.endswith(\".jpg\") or filename.endswith(\".png\"):\n",
        "          total_images += 1\n",
        "          parts = filename.split('_')\n",
        "          if len(parts) >= 4:\n",
        "              label = int(parts[2])  # Convert label to integer\n",
        "              class_counts[label] += 1\n",
        "  return class_counts\n",
        "#gender\n",
        "# folder_path_eyes= \"/content/splitted_by_gender/eyes/train\"\n",
        "# folder_path_mouth = \"/content/splitted_by_gender/mouth/train\"\n",
        "# folder_path_nose = \"/content/splitted_by_gender/nose/train\"\n",
        "\n",
        "#age\n",
        "folder_path_eyes= \"/content/splitted_by_age/eyes/train\"\n",
        "folder_path_mouth = \"/content/splitted_by_age/mouth/train\"\n",
        "folder_path_nose = \"/content/splitted_by_age/nose/train\"\n",
        "\n",
        "print(get_frequencies(folder_path_eyes))\n",
        "print(get_frequencies(folder_path_nose))\n",
        "print(get_frequencies(folder_path_mouth))\n",
        "\n",
        "# print(\"Total images:\", total_images)\n",
        "# print(\"Class counts:\", class_counts)"
      ]
    },
    {
      "cell_type": "markdown",
      "metadata": {
        "id": "R1EEEbJTwn84"
      },
      "source": [
        "**COMPUTING THE HISTOGRAMS FOR THE LBP**"
      ]
    },
    {
      "cell_type": "code",
      "execution_count": 70,
      "metadata": {
        "id": "txutbsVXsMtO"
      },
      "outputs": [],
      "source": [
        "def calculate_lbp(image, R=2, P=7):\n",
        "    # Convert to grayscale if necessary\n",
        "    if len(image.shape) == 3:\n",
        "        gray = cv2.cvtColor(image, cv2.COLOR_BGR2GRAY)\n",
        "    else:\n",
        "        gray = image\n",
        "\n",
        "    # Apply LBP operator\n",
        "    lbp = local_binary_pattern(gray, P=8, R=3, method='uniform')\n",
        "    #lbp = cv2.LBP(gray, neighbors, radius)\n",
        "\n",
        "    # Calculate histogram\n",
        "    hist, _ = np.histogram(lbp.ravel(), bins=np.arange(257))\n",
        "\n",
        "    # Normalize histogram\n",
        "    hist = hist.astype(\"float\")\n",
        "    hist /= hist.sum() + 1e-7\n",
        "    return hist\n",
        "\n"
      ]
    },
    {
      "cell_type": "markdown",
      "metadata": {
        "id": "cYxtUFcawvUX"
      },
      "source": [
        "**CREATING THE DATASET**"
      ]
    },
    {
      "cell_type": "code",
      "execution_count": 71,
      "metadata": {
        "id": "KxItmkC7qNNM"
      },
      "outputs": [],
      "source": [
        "# Dataset personalizzato\n",
        "class EthnicityDataset(Dataset):\n",
        "    def __init__(self, root_dir):\n",
        "        self.root_dir = root_dir\n",
        "        self.images = []\n",
        "        self.labels = []\n",
        "        self.features=[]\n",
        "\n",
        "\n",
        "        # Scansione della cartella per ottenere i file\n",
        "        for filename in os.listdir(root_dir):\n",
        "            if filename.endswith(\".jpg\") or filename.endswith(\".png\"):  # Considerando immagini .jpg e .png\n",
        "                self.images.append(filename)\n",
        "\n",
        "                # Estraiamo l'etnia dalla parte finale del nome del file\n",
        "                # esempio: eyes_100_1_0_20170112213001988\n",
        "                parts = filename.split('_')\n",
        "                if len(parts) >= 4:\n",
        "\n",
        "                    #age\n",
        "                    label=parts[1]\n",
        "                    label=int(label)\n",
        "\n",
        "                    #gender\n",
        "                    # label=parts[2]\n",
        "                    # label_map={\"0\":0,\"1\":1}\n",
        "                    #label = parts[3]  # L'etnia è il quarto elemento (indice 3)\n",
        "                    #label_map = {\"0\": 0, \"1\": 1, \"2\": 2, \"3\": 3, \"4\": 4}  # Mappatura delle etnie\n",
        "\n",
        "                    label_map = {}\n",
        "                    for i in range(1, 117):\n",
        "                        if 1 <= i <= 5:\n",
        "                            label_map[i] = 0\n",
        "                        elif 6 <= i <= 12:\n",
        "                            label_map[i] = 1\n",
        "                        elif 13 <= i <= 20:\n",
        "                            label_map[i] = 2\n",
        "                        elif 21 <= i <= 35:\n",
        "                            label_map[i] = 3\n",
        "                        elif 36 <= i <= 50:\n",
        "                            label_map[i] = 4\n",
        "                        elif 51 <= i <= 75:\n",
        "                            label_map[i] = 5\n",
        "                        elif 76 <= i <= 90:\n",
        "                            label_map[i] = 6\n",
        "                        elif 91 <= i <= 116:\n",
        "                            label_map[i] = 7\n",
        "                    self.labels.append(label_map.get(label, -1))  # -1 se l'etnia non è trovata\n",
        "        self.labels=np.array(self.labels)\n",
        "\n",
        "    def __len__(self):\n",
        "        return len(self.images)\n",
        "\n",
        "    def __getitem__(self, idx):\n",
        "        image_name = self.images[idx]\n",
        "        image_path = os.path.join(self.root_dir, image_name)\n",
        "\n",
        "        try:\n",
        "            image = Image.open(image_path)\n",
        "        except Exception as e:\n",
        "            print(f\"Errore nel caricamento dell'immagine {image_path}: {e}\")\n",
        "            return None, None\n",
        "\n",
        "        label = self.labels[idx]\n",
        "        # self.labels.append(label)\n",
        "        # Calculate LBP features\n",
        "        image = np.array(image)  # Convert to NumPy array for OpenCV\n",
        "        feature = calculate_lbp(image)\n",
        "        self.features.append(feature)  # Store features (optional)\n",
        "\n",
        "\n",
        "        # Aggiungi un controllo se l'etichetta è corretta\n",
        "        if label == -1:\n",
        "            print(f\"Errore: etichetta non trovata per {image_name}\")\n",
        "\n",
        "        return feature, label"
      ]
    },
    {
      "cell_type": "markdown",
      "metadata": {
        "id": "gRaSA99gqhtv"
      },
      "source": [
        "**EXTRACTING THE FEATURES FROM THE DATASET**"
      ]
    },
    {
      "cell_type": "code",
      "execution_count": 72,
      "metadata": {
        "id": "hwJSGLLe82Lw"
      },
      "outputs": [],
      "source": [
        "def extract_lbp_features(dataset):\n",
        "    \"\"\"Extracts LBP features from a list of images.\n",
        "\n",
        "    Args:\n",
        "        images: A list of images, where each image is a NumPy array.\n",
        "\n",
        "    Returns:\n",
        "        A NumPy array of LBP features.\n",
        "    \"\"\"\n",
        "    # # Get a list of image filenames in the directory\n",
        "    # image_filenames = os.listdir(root_dir)\n",
        "    # for filename in image_filenames:\n",
        "    #   image_path = os.path.join(root_dir, filename)\n",
        "    #   img = cv2.imread(image_path)\n",
        "    #   if img is not None:\n",
        "    #       lbp_features,_ = extract_lbp_features(img)\n",
        "    # return np.array(lbp_features)\n",
        "    features = []\n",
        "\n",
        "    for _ in range(len(dataset)):\n",
        "      image, label = dataset[_]\n",
        "      # features.append(image)\n",
        "      # labels.append(label)\n",
        "      # features = np.array(features)\n",
        "      # labels = np.array(labels)\n",
        "    return np.array(dataset.features)\n",
        "\n",
        "# # Assuming X_train and X_test are lists of image paths or NumPy arrays\n",
        "# X_train_lbp = extract_lbp_features(X_train)\n",
        "# X_test_lbp = extract_lbp_features(X_test)"
      ]
    },
    {
      "cell_type": "code",
      "execution_count": 73,
      "metadata": {
        "id": "yv_AV8KrPtlQ"
      },
      "outputs": [],
      "source": [
        "def compute_class_weight(class_weight, classes, y, majority_class_weight_factor):\n",
        "    # \"\"\"Computes class weights based on class frequency.\n",
        "\n",
        "    # Args:\n",
        "    #     class_weight: The class weighting strategy (e.g., 'balanced').\n",
        "    #     classes: A list of class labels.\n",
        "    #     y: The true labels of the training data.\n",
        "\n",
        "    # Returns:\n",
        "    #     A dictionary mapping class labels to their corresponding weights.\n",
        "    # \"\"\"\n",
        "\n",
        "    # if class_weight == 'balanced':\n",
        "    #     # Calculate class frequencies\n",
        "    #     class_counts = np.bincount(y)\n",
        "    #     print(class_counts)\n",
        "    #     # Calculate class weights inversely proportional to frequency\n",
        "    #     class_weights = 1. / class_counts\n",
        "    #     class_weights = class_weights / class_weights.sum() * len(classes)\n",
        "    #     print(class_weights)\n",
        "    #     class_weights = dict(enumerate(class_weights))\n",
        "    # else:\n",
        "    #     raise ValueError(\"Invalid class_weight value\")\n",
        "    # print(class_weights)\n",
        "    # return class_weights\n",
        "    if class_weight == 'balanced':\n",
        "        # Calculate class frequencies\n",
        "        class_counts = np.bincount(y)\n",
        "        print(class_counts)\n",
        "        #_, class_counts = np.unique(y, return_counts=True)\n",
        "\n",
        "        # Identify the majority class\n",
        "        majority_class = np.argmax(class_counts)\n",
        "\n",
        "        # Calculate class weights inversely proportional to frequency\n",
        "        class_weights = 1. / class_counts\n",
        "\n",
        "        # Adjust the weight of the majority class\n",
        "        class_weights[majority_class] *= majority_class_weight_factor\n",
        "\n",
        "        # Normalize weights\n",
        "        class_weights = class_weights / (class_weights.sum() * len(classes))\n",
        "\n",
        "        class_weights = dict(enumerate(class_weights))\n",
        "    else:\n",
        "        raise ValueError(\"Invalid class_weight value\")\n",
        "\n",
        "    return class_weights"
      ]
    },
    {
      "cell_type": "markdown",
      "metadata": {
        "id": "WzJpAvn6wiB8"
      },
      "source": [
        "**EYES TRAINING VALIDATION AND TEST**"
      ]
    },
    {
      "cell_type": "code",
      "execution_count": 76,
      "metadata": {
        "id": "21dC5iw4sxM_"
      },
      "outputs": [],
      "source": [
        "#Initialize the dataset\n",
        "#gender\n",
        "# full_train_dataset = EthnicityDataset(root_dir=\"/content/splitted_by_gender/eyes/train\")\n",
        "# test_dataset = EthnicityDataset(root_dir=\"/content/splitted_by_gender/eyes/test\")\n",
        "\n",
        "#age\n",
        "full_train_dataset = EthnicityDataset(root_dir=\"/content/splitted_by_age/eyes/train\")\n",
        "test_dataset = EthnicityDataset(root_dir=\"/content/splitted_by_age/eyes/test\")\n",
        "\n",
        "# Extract features for all images in one line\n",
        "X_train = extract_lbp_features(full_train_dataset)\n",
        "y_train = full_train_dataset.labels  # Now contains numerical labels\n",
        "\n",
        "X_test = extract_lbp_features(test_dataset)\n",
        "y_test=test_dataset.labels"
      ]
    },
    {
      "cell_type": "code",
      "source": [
        "print(y_train)"
      ],
      "metadata": {
        "colab": {
          "base_uri": "https://localhost:8080/"
        },
        "id": "cEPlWy7u3t7E",
        "outputId": "758dd49f-48b9-4c44-80d4-84679ec2802b"
      },
      "execution_count": null,
      "outputs": [
        {
          "output_type": "stream",
          "name": "stdout",
          "text": [
            "[0 0 0 ... 0 0 0]\n"
          ]
        }
      ]
    },
    {
      "cell_type": "markdown",
      "metadata": {
        "id": "QjvzBFVWM9aO"
      },
      "source": [
        "**Triplicate the images belonging to the lowest image counting label**"
      ]
    },
    {
      "cell_type": "markdown",
      "source": [
        "# **Sampling procedure on the dataset**"
      ],
      "metadata": {
        "id": "hpo_UIbax3KG"
      }
    },
    {
      "cell_type": "code",
      "source": [
        "# ros = RandomOverSampler(sampling_strategy={2: 3500, 3: 3500, 4: 3000}, random_state=42)\n",
        "# rus = RandomUnderSampler(sampling_strategy={0: 5000}, random_state=42)\n",
        "# # Apply oversampling\n",
        "# X_resampled, y_resampled = ros.fit_resample(X_train, y_train)\n",
        "# X_resampled, y_resampled = rus.fit_resample(X_resampled, y_resampled)"
      ],
      "metadata": {
        "id": "qKVEl_aGx2ey"
      },
      "execution_count": null,
      "outputs": []
    },
    {
      "cell_type": "markdown",
      "source": [
        "# **Changing the weights on the training set and producing the datasets for the models**\n",
        "\n",
        "---\n",
        "\n"
      ],
      "metadata": {
        "id": "V8NJZ22UoQOc"
      }
    },
    {
      "cell_type": "code",
      "source": [
        "X_resampled=X_train\n",
        "y_resampled=y_train\n",
        "class_weights = compute_class_weight('balanced',  classes=np.unique(y_resampled), y=y_resampled, majority_class_weight_factor=1.5)\n",
        "#class_weights = compute_class_weight('balanced', classes=np.unique(y_train), )\n",
        "# Create class weights array for each sample\n",
        "class_weights = np.array([class_weights[label] for label in y_resampled])"
      ],
      "metadata": {
        "id": "_G8sZAQ2oDKX",
        "colab": {
          "base_uri": "https://localhost:8080/"
        },
        "outputId": "80447e20-3d71-4329-a16e-03942aeeb69a"
      },
      "execution_count": 77,
      "outputs": [
        {
          "output_type": "stream",
          "name": "stdout",
          "text": [
            "[1594  786 1153 8129 3172 2939  584   64]\n"
          ]
        }
      ]
    },
    {
      "cell_type": "code",
      "source": [
        "train_data = lgb.Dataset(X_resampled, label=y_train,weight=class_weights)\n",
        "test_data = lgb.Dataset(X_test, label=y_test,free_raw_data=False)\n",
        "\n",
        "# Ensure X_train and y_train are valid NumPy arrays\n",
        "if not isinstance(X_resampled, np.ndarray) or not isinstance(y_train, np.ndarray):\n",
        "    raise ValueError(\"X_train and y_train must be NumPy arrays\")\n",
        "# Check for empty training data\n",
        "if len(X_resampled) == 0:\n",
        "    raise ValueError(\"X_train cannot be empty\")"
      ],
      "metadata": {
        "id": "bX-pg9grBrrt"
      },
      "execution_count": 78,
      "outputs": []
    },
    {
      "cell_type": "markdown",
      "source": [
        "# **Using GridSearchCV to tune the hyperparameters**"
      ],
      "metadata": {
        "id": "pdExK4_TojfA"
      }
    },
    {
      "cell_type": "code",
      "execution_count": null,
      "metadata": {
        "colab": {
          "base_uri": "https://localhost:8080/"
        },
        "id": "JxjdteboxKSD",
        "outputId": "c443ba5d-4cbc-499a-9950-12ce2af02a94"
      },
      "outputs": [
        {
          "output_type": "stream",
          "name": "stderr",
          "text": [
            "/usr/local/lib/python3.10/dist-packages/sklearn/utils/_tags.py:354: FutureWarning: The LGBMClassifier or classes from which it inherits use `_get_tags` and `_more_tags`. Please define the `__sklearn_tags__` method, or inherit from `sklearn.base.BaseEstimator` and/or other appropriate mixins such as `sklearn.base.TransformerMixin`, `sklearn.base.ClassifierMixin`, `sklearn.base.RegressorMixin`, and `sklearn.base.OutlierMixin`. From scikit-learn 1.7, not defining `__sklearn_tags__` will raise an error.\n",
            "  warnings.warn(\n",
            "/usr/local/lib/python3.10/dist-packages/sklearn/utils/deprecation.py:151: FutureWarning: 'force_all_finite' was renamed to 'ensure_all_finite' in 1.6 and will be removed in 1.8.\n",
            "  warnings.warn(\n"
          ]
        },
        {
          "output_type": "stream",
          "name": "stdout",
          "text": [
            "Best parameters: {'colsample_bytree': 0.8, 'learning_rate': 0.05, 'max_depth': 5, 'n_estimators': 200, 'num_leaves': 63, 'subsample': 0.8}\n"
          ]
        }
      ],
      "source": [
        "# Define the parameter grid for Grid Search\n",
        "param_grid = {\n",
        "    'learning_rate': [0.05, 0.1, 0.15],\n",
        "    'n_estimators': [100, 200, 300],\n",
        "    'max_depth': [3, 5, 7],\n",
        "    'num_leaves': [31, 63, 127],\n",
        "    'subsample': [0.8, 0.9],\n",
        "    'colsample_bytree': [0.8, 0.9]\n",
        "}\n",
        "\n",
        "# Create a LightGBM classifier\n",
        "model = lgb.LGBMClassifier(\n",
        "    objective='multiclass',\n",
        "    num_class=len(np.unique(y_resampled)),\n",
        "    metric='multi_logloss',\n",
        "    verbose=-1\n",
        ")\n",
        "\n",
        "# Create a GridSearchCV object\n",
        "grid_search = GridSearchCV(estimator=model,\n",
        "                          param_grid=param_grid,\n",
        "                          cv=2,\n",
        "                          scoring='accuracy',\n",
        "                          n_jobs=-1)\n",
        "# Fit the GridSearchCV object to the training data\n",
        "grid_search.fit(X_train, y_train)\n",
        "\n",
        "# Print the best parameters\n",
        "print(f\"Best parameters: {grid_search.best_params_}\")\n",
        "\n",
        "# params = {\n",
        "#     'objective': 'multiclass',  # Adjust for your specific task\n",
        "#     'num_class': len(np.unique(y_resampled)),# Number of classes in your dataset\n",
        "#     'metric': 'multi_logloss',\n",
        "#     'learning_rate':  0.07,\n",
        "#     'num_leaves': 31,\n",
        "#     'max_depth': 6,\n",
        "#     'boosting_type': 'gbdt',\n",
        "#     'verbose': -1,\n",
        "#     'feature_fraction': 0.8\n",
        "#     # ... other hyperparameters\n",
        "# }\n",
        "# num_round=110\n",
        "# #GridSearchCV to tune the hyperparameters\n",
        "# model = lgb.train(params,\n",
        "#                  train_data,\n",
        "#                  num_round,\n",
        "#                  valid_sets=[train_data,test_data],\n",
        "#                  callbacks=[lgb.early_stopping(stopping_rounds=10), lgb.log_evaluation(period=10)])\n",
        "\n",
        "# kfold = KFold(n_splits=5, shuffle=True, random_state=42)\n",
        "\n",
        "# for fold, (train_index, val_index) in enumerate(kfold.split(X_resampled, y_resampled)):\n",
        "#     X_train, X_val = X_resampled[train_index], X_resampled[val_index]\n",
        "#     y_train, y_val = y_resampled[train_index], y_resampled[val_index]\n",
        "\n",
        "#     train_data = lgb.Dataset(X_train, label=y_train)\n",
        "#     val_data = lgb.Dataset(X_val, label=y_val)\n",
        "\n",
        "#     model = lgb.train(params,\n",
        "#                       train_data,\n",
        "#                       num_round,\n",
        "#                       valid_sets=[train_data, val_data],\n",
        "#                       callbacks=[lgb.early_stopping(stopping_rounds=10), lgb.log_evaluation(period=10)])\n",
        "\n",
        "#     y_pred = model.predict(X_val, num_iteration=model.best_iteration)\n",
        "#     y_pred_classes = y_pred.argmax(axis=1)\n",
        "\n",
        "#     # Evaluate the model on the validation fold\n",
        "#     print(f\"Fold {fold+1} Classification Report:\")\n",
        "#     print(classification_report(y_val, y_pred_classes))\n",
        "\n",
        "# y_pred = model.predict(X_test, num_iteration=model.best_iteration)\n",
        "# y_pred_classes = y_pred.argmax(axis=1)\n",
        "# # Evaluate the model\n",
        "# print(classification_report(y_test, y_pred_classes))\n"
      ]
    },
    {
      "cell_type": "code",
      "source": [
        "#Best parameters: {'colsample_bytree': 0.8, 'learning_rate': 0.05, 'max_depth': 5, 'n_estimators': 200, 'num_leaves': 63, 'subsample': 0.8}"
      ],
      "metadata": {
        "id": "MxoSe0Cmh64B"
      },
      "execution_count": null,
      "outputs": []
    },
    {
      "cell_type": "markdown",
      "source": [
        "# **Training the model on the newly found hyperparameters and predicting the labels**"
      ],
      "metadata": {
        "id": "cMV_T28WopWw"
      }
    },
    {
      "cell_type": "code",
      "source": [
        "# Define the parameter grid for Grid Search\n",
        "bst_prms= {\n",
        "    'objective': 'multiclass',\n",
        "    'num_class': len(np.unique(y_resampled)),\n",
        "    'metric': 'multi_logloss',\n",
        "    'learning_rate': 0.05,\n",
        "    'n_estimators': 200,\n",
        "    'max_depth': 5,\n",
        "    'num_leaves': 63,\n",
        "    'subsample': 0.8,\n",
        "    'colsample_bytree': 0.8,\n",
        "    'verbose': -1\n",
        "}\n",
        "num_round=200\n",
        "model = lgb.train(bst_prms,\n",
        "                 train_data,\n",
        "                 num_round,\n",
        "                 valid_sets=test_data,\n",
        "                 callbacks=[lgb.early_stopping(stopping_rounds=10), lgb.log_evaluation(period=10)])\n",
        "# y_pred = model.predict(X_test, num_iteration=model.best_iteration)\n",
        "# y_pred_classes = y_pred.argmax(axis=1)\n",
        "# label_map = {0: \"male\", 1: \"female\"}  # Assuming 0 represents \"male\" and 1 represents \"female\"\n",
        "# y_pred_classes = [label_map[i] for i in y_pred_classes]\n",
        "# y_test = [label_map[i] for i in y_test]\n",
        "# print(y_test)\n",
        "# # Evaluate the model\n",
        "# print(classification_report(y_test, y_pred_classes))\n",
        "\n",
        "# #age\n",
        "y_pred = model.predict(X_test, num_iteration=model.best_iteration)\n",
        "y_pred_probs = y_pred  # Store probabilities for potential later use\n",
        "\n",
        "# Get predicted class indices\n",
        "y_pred_classes = y_pred.argmax(axis=1)\n",
        "\n",
        "# Define label_map (mapping integer labels to class names)\n",
        "label_map = {\n",
        "    0: \"Class 1\",\n",
        "    1: \"Class 2\",\n",
        "    2: \"Class 3\",\n",
        "    3: \"Class 4\",\n",
        "    4: \"Class 5\",\n",
        "    5: \"Class 6\",\n",
        "    6: \"Class 7\",\n",
        "    7: \"Class 8\",\n",
        "}\n",
        "\n",
        "# Map predicted class indices to class names\n",
        "y_pred_classes = [label_map[i] for i in y_pred_classes]\n",
        "\n",
        "# Map true labels to class names (assuming y_test contains integer labels)\n",
        "y_test = [label_map[i] for i in y_test]\n",
        "\n",
        "# Evaluate the model\n",
        "print(classification_report(y_test, y_pred_classes))\n",
        "#stops here\n",
        "\n",
        "# Confusion Matrix\n",
        "cm = confusion_matrix(y_test,y_pred_classes)\n",
        "plt.figure(figsize=(8, 8))\n",
        "#sns.heatmap(confusion_matrix, annot=True, fmt='d', cmap='Blues', xticklabels=np.unique(y_test), yticklabels=np.unique(y_test))\n",
        "plt.imshow(cm, interpolation='nearest', cmap=plt.cm.Blues)\n",
        "plt.title('Confusion Matrix')\n",
        "plt.colorbar()\n",
        "plt.xlabel('Predicted Label')\n",
        "plt.ylabel('True Label')\n",
        "plt.show()"
      ],
      "metadata": {
        "colab": {
          "base_uri": "https://localhost:8080/",
          "height": 1000
        },
        "id": "ukauRkNckN7L",
        "outputId": "c4687e5b-e9e7-4e25-d1a5-ac08fe07ab8b"
      },
      "execution_count": 79,
      "outputs": [
        {
          "output_type": "stream",
          "name": "stderr",
          "text": [
            "/usr/local/lib/python3.10/dist-packages/lightgbm/engine.py:204: UserWarning: Found `n_estimators` in params. Will use it instead of argument\n",
            "  _log_warning(f\"Found `{alias}` in params. Will use it instead of argument\")\n"
          ]
        },
        {
          "output_type": "stream",
          "name": "stdout",
          "text": [
            "Training until validation scores don't improve for 10 rounds\n",
            "[10]\tvalid_0's multi_logloss: 1.77125\n",
            "[20]\tvalid_0's multi_logloss: 1.68517\n",
            "[30]\tvalid_0's multi_logloss: 1.63715\n",
            "[40]\tvalid_0's multi_logloss: 1.60807\n",
            "[50]\tvalid_0's multi_logloss: 1.58964\n",
            "[60]\tvalid_0's multi_logloss: 1.57811\n",
            "[70]\tvalid_0's multi_logloss: 1.56912\n",
            "[80]\tvalid_0's multi_logloss: 1.56264\n",
            "[90]\tvalid_0's multi_logloss: 1.55699\n",
            "[100]\tvalid_0's multi_logloss: 1.55198\n",
            "[110]\tvalid_0's multi_logloss: 1.54725\n",
            "[120]\tvalid_0's multi_logloss: 1.54372\n",
            "[130]\tvalid_0's multi_logloss: 1.53939\n",
            "[140]\tvalid_0's multi_logloss: 1.53537\n",
            "[150]\tvalid_0's multi_logloss: 1.5319\n",
            "[160]\tvalid_0's multi_logloss: 1.52845\n",
            "[170]\tvalid_0's multi_logloss: 1.52515\n",
            "[180]\tvalid_0's multi_logloss: 1.52314\n",
            "[190]\tvalid_0's multi_logloss: 1.52075\n",
            "[200]\tvalid_0's multi_logloss: 1.51895\n",
            "Did not meet early stopping. Best iteration is:\n",
            "[200]\tvalid_0's multi_logloss: 1.51895\n",
            "              precision    recall  f1-score   support\n",
            "\n",
            "     Class 1       0.43      0.52      0.47       399\n",
            "     Class 2       0.19      0.33      0.24       197\n",
            "     Class 3       0.19      0.11      0.14       279\n",
            "     Class 4       0.58      0.72      0.64      2042\n",
            "     Class 5       0.21      0.10      0.14       794\n",
            "     Class 6       0.29      0.16      0.21       735\n",
            "     Class 7       0.17      0.30      0.22       145\n",
            "     Class 8       0.12      0.26      0.17        19\n",
            "\n",
            "    accuracy                           0.44      4610\n",
            "   macro avg       0.27      0.31      0.28      4610\n",
            "weighted avg       0.40      0.44      0.41      4610\n",
            "\n"
          ]
        },
        {
          "output_type": "display_data",
          "data": {
            "text/plain": [
              "<Figure size 800x800 with 2 Axes>"
            ],
            "image/png": "[encoded data removed]"
          },
          "metadata": {}
        }
      ]
    },
    {
      "cell_type": "code",
      "source": [
        "print(y_test_classes)\n",
        "print(y_pred_classes)"
      ],
      "metadata": {
        "colab": {
          "base_uri": "https://localhost:8080/"
        },
        "id": "PzuTALAUygWi",
        "outputId": "e0a07c30-eb82-42d8-8e46-d5480a64a5cc"
      },
      "execution_count": null,
      "outputs": [
        {
          "output_type": "stream",
          "name": "stdout",
          "text": [
            "['Class 6', 'Class 3', 'Class 4', 'Class 2', 'Class 6', 'Class 1', 'Class 5', 'Class 7', 'Class 4', 'Class 4', 'Class 1', 'Class 7', 'Class 5', 'Class 4', 'Class 7', 'Class 4', 'Class 1', 'Class 4', 'Class 2', 'Class 2', 'Class 4', 'Class 1', 'Class 4', 'Class 1', 'Class 4', 'Class 6', 'Class 8', 'Class 6', 'Class 3', 'Class 4', 'Class 5', 'Class 6', 'Class 5', 'Class 4', 'Class 4', 'Class 6', 'Class 6', 'Class 2', 'Class 4', 'Class 2', 'Class 4', 'Class 5', 'Class 4', 'Class 4', 'Class 2', 'Class 4', 'Class 4', 'Class 2', 'Class 6', 'Class 1', 'Class 5', 'Class 3', 'Class 4', 'Class 5', 'Class 1', 'Class 4', 'Class 5', 'Class 4', 'Class 6', 'Class 6', 'Class 4', 'Class 4', 'Class 4', 'Class 6', 'Class 4', 'Class 6', 'Class 5', 'Class 5', 'Class 4', 'Class 3', 'Class 5', 'Class 3', 'Class 3', 'Class 4', 'Class 6', 'Class 4', 'Class 5', 'Class 1', 'Class 4', 'Class 4', 'Class 6', 'Class 4', 'Class 6', 'Class 5', 'Class 4', 'Class 4', 'Class 5', 'Class 4', 'Class 1', 'Class 5', 'Class 4', 'Class 4', 'Class 6', 'Class 4', 'Class 4', 'Class 5', 'Class 4', 'Class 6', 'Class 4', 'Class 4', 'Class 1', 'Class 5', 'Class 4', 'Class 4', 'Class 6', 'Class 6', 'Class 4', 'Class 1', 'Class 4', 'Class 4', 'Class 7', 'Class 5', 'Class 3', 'Class 4', 'Class 4', 'Class 2', 'Class 4', 'Class 6', 'Class 4', 'Class 4', 'Class 6', 'Class 4', 'Class 2', 'Class 4', 'Class 4', 'Class 4', 'Class 5', 'Class 4', 'Class 1', 'Class 1', 'Class 4', 'Class 4', 'Class 3', 'Class 5', 'Class 3', 'Class 6', 'Class 6', 'Class 6', 'Class 4', 'Class 5', 'Class 6', 'Class 6', 'Class 4', 'Class 6', 'Class 6', 'Class 5', 'Class 4', 'Class 3', 'Class 5', 'Class 5', 'Class 4', 'Class 5', 'Class 6', 'Class 3', 'Class 4', 'Class 6', 'Class 7', 'Class 5', 'Class 5', 'Class 4', 'Class 1', 'Class 6', 'Class 3', 'Class 5', 'Class 6', 'Class 4', 'Class 1', 'Class 4', 'Class 4', 'Class 5', 'Class 4', 'Class 6', 'Class 1', 'Class 3', 'Class 4', 'Class 3', 'Class 1', 'Class 5', 'Class 4', 'Class 4', 'Class 3', 'Class 6', 'Class 4', 'Class 1', 'Class 5', 'Class 4', 'Class 1', 'Class 4', 'Class 4', 'Class 6', 'Class 1', 'Class 6', 'Class 4', 'Class 4', 'Class 4', 'Class 6', 'Class 4', 'Class 4', 'Class 5', 'Class 4', 'Class 4', 'Class 4', 'Class 6', 'Class 1', 'Class 4', 'Class 2', 'Class 4', 'Class 6', 'Class 4', 'Class 6', 'Class 6', 'Class 8', 'Class 6', 'Class 6', 'Class 4', 'Class 5', 'Class 4', 'Class 4', 'Class 6', 'Class 3', 'Class 4', 'Class 4', 'Class 6', 'Class 6', 'Class 4', 'Class 4', 'Class 1', 'Class 3', 'Class 5', 'Class 1', 'Class 4', 'Class 1', 'Class 4', 'Class 1', 'Class 4', 'Class 5', 'Class 6', 'Class 3', 'Class 3', 'Class 6', 'Class 5', 'Class 4', 'Class 7', 'Class 7', 'Class 2', 'Class 5', 'Class 6', 'Class 1', 'Class 1', 'Class 4', 'Class 6', 'Class 5', 'Class 1', 'Class 5', 'Class 6', 'Class 5', 'Class 4', 'Class 6', 'Class 7', 'Class 4', 'Class 4', 'Class 3', 'Class 6', 'Class 1', 'Class 1', 'Class 4', 'Class 5', 'Class 1', 'Class 4', 'Class 4', 'Class 6', 'Class 4', 'Class 4', 'Class 4', 'Class 6', 'Class 8', 'Class 5', 'Class 4', 'Class 4', 'Class 3', 'Class 1', 'Class 4', 'Class 6', 'Class 4', 'Class 4', 'Class 4', 'Class 4', 'Class 5', 'Class 5', 'Class 3', 'Class 4', 'Class 6', 'Class 4', 'Class 6', 'Class 4', 'Class 4', 'Class 4', 'Class 2', 'Class 5', 'Class 3', 'Class 4', 'Class 6', 'Class 6', 'Class 4', 'Class 4', 'Class 6', 'Class 4', 'Class 3', 'Class 6', 'Class 4', 'Class 5', 'Class 2', 'Class 8', 'Class 6', 'Class 5', 'Class 5', 'Class 8', 'Class 4', 'Class 4', 'Class 6', 'Class 5', 'Class 4', 'Class 7', 'Class 3', 'Class 5', 'Class 6', 'Class 4', 'Class 1', 'Class 4', 'Class 4', 'Class 6', 'Class 4', 'Class 4', 'Class 5', 'Class 4', 'Class 4', 'Class 2', 'Class 4', 'Class 3', 'Class 4', 'Class 1', 'Class 4', 'Class 4', 'Class 5', 'Class 6', 'Class 5', 'Class 4', 'Class 2', 'Class 4', 'Class 4', 'Class 4', 'Class 5', 'Class 3', 'Class 4', 'Class 5', 'Class 3', 'Class 6', 'Class 4', 'Class 2', 'Class 4', 'Class 6', 'Class 4', 'Class 4', 'Class 4', 'Class 4', 'Class 5', 'Class 4', 'Class 4', 'Class 4', 'Class 4', 'Class 4', 'Class 2', 'Class 4', 'Class 3', 'Class 5', 'Class 4', 'Class 4', 'Class 5', 'Class 4', 'Class 6', 'Class 6', 'Class 1', 'Class 5', 'Class 4', 'Class 4', 'Class 4', 'Class 3', 'Class 4', 'Class 6', 'Class 4', 'Class 4', 'Class 5', 'Class 6', 'Class 5', 'Class 4', 'Class 4', 'Class 5', 'Class 6', 'Class 4', 'Class 4', 'Class 4', 'Class 5', 'Class 4', 'Class 5', 'Class 4', 'Class 5', 'Class 4', 'Class 4', 'Class 4', 'Class 4', 'Class 1', 'Class 1', 'Class 5', 'Class 6', 'Class 4', 'Class 4', 'Class 4', 'Class 2', 'Class 5', 'Class 6', 'Class 6', 'Class 4', 'Class 4', 'Class 4', 'Class 4', 'Class 4', 'Class 4', 'Class 4', 'Class 1', 'Class 6', 'Class 5', 'Class 4', 'Class 4', 'Class 1', 'Class 5', 'Class 2', 'Class 4', 'Class 4', 'Class 5', 'Class 5', 'Class 4', 'Class 4', 'Class 4', 'Class 4', 'Class 6', 'Class 5', 'Class 4', 'Class 4', 'Class 4', 'Class 1', 'Class 5', 'Class 3', 'Class 4', 'Class 4', 'Class 4', 'Class 4', 'Class 4', 'Class 4', 'Class 4', 'Class 3', 'Class 4', 'Class 4', 'Class 4', 'Class 3', 'Class 3', 'Class 1', 'Class 2', 'Class 4', 'Class 4', 'Class 4', 'Class 4', 'Class 5', 'Class 6', 'Class 4', 'Class 4', 'Class 3', 'Class 4', 'Class 3', 'Class 4', 'Class 5', 'Class 1', 'Class 3', 'Class 4', 'Class 7', 'Class 4', 'Class 5', 'Class 4', 'Class 4', 'Class 7', 'Class 5', 'Class 4', 'Class 4', 'Class 6', 'Class 4', 'Class 4', 'Class 5', 'Class 4', 'Class 3', 'Class 1', 'Class 6', 'Class 6', 'Class 4', 'Class 6', 'Class 4', 'Class 4', 'Class 6', 'Class 2', 'Class 1', 'Class 5', 'Class 4', 'Class 5', 'Class 5', 'Class 4', 'Class 6', 'Class 6', 'Class 6', 'Class 1', 'Class 4', 'Class 2', 'Class 4', 'Class 4', 'Class 6', 'Class 4', 'Class 6', 'Class 3', 'Class 4', 'Class 7', 'Class 4', 'Class 4', 'Class 1', 'Class 6', 'Class 4', 'Class 4', 'Class 4', 'Class 4', 'Class 4', 'Class 6', 'Class 5', 'Class 4', 'Class 6', 'Class 1', 'Class 4', 'Class 4', 'Class 2', 'Class 2', 'Class 4', 'Class 6', 'Class 4', 'Class 6', 'Class 4', 'Class 6', 'Class 4', 'Class 5', 'Class 4', 'Class 4', 'Class 1', 'Class 4', 'Class 2', 'Class 4', 'Class 6', 'Class 2', 'Class 6', 'Class 1', 'Class 4', 'Class 2', 'Class 5', 'Class 4', 'Class 6', 'Class 1', 'Class 6', 'Class 4', 'Class 4', 'Class 1', 'Class 4', 'Class 4', 'Class 5', 'Class 2', 'Class 6', 'Class 4', 'Class 6', 'Class 5', 'Class 3', 'Class 4', 'Class 5', 'Class 7', 'Class 6', 'Class 4', 'Class 1', 'Class 7', 'Class 4', 'Class 4', 'Class 4', 'Class 4', 'Class 4', 'Class 4', 'Class 2', 'Class 1', 'Class 4', 'Class 6', 'Class 6', 'Class 1', 'Class 4', 'Class 6', 'Class 5', 'Class 4', 'Class 4', 'Class 3', 'Class 4', 'Class 1', 'Class 4', 'Class 6', 'Class 4', 'Class 6', 'Class 5', 'Class 6', 'Class 4', 'Class 6', 'Class 4', 'Class 4', 'Class 5', 'Class 3', 'Class 6', 'Class 4', 'Class 8', 'Class 6', 'Class 5', 'Class 4', 'Class 4', 'Class 4', 'Class 1', 'Class 6', 'Class 1', 'Class 4', 'Class 1', 'Class 6', 'Class 4', 'Class 5', 'Class 5', 'Class 4', 'Class 4', 'Class 4', 'Class 6', 'Class 5', 'Class 4', 'Class 4', 'Class 4', 'Class 4', 'Class 4', 'Class 1', 'Class 5', 'Class 6', 'Class 6', 'Class 1', 'Class 5', 'Class 5', 'Class 5', 'Class 4', 'Class 4', 'Class 1', 'Class 1', 'Class 6', 'Class 5', 'Class 1', 'Class 5', 'Class 3', 'Class 5', 'Class 6', 'Class 6', 'Class 4', 'Class 4', 'Class 6', 'Class 5', 'Class 3', 'Class 4', 'Class 2', 'Class 4', 'Class 5', 'Class 4', 'Class 5', 'Class 4', 'Class 6', 'Class 4', 'Class 7', 'Class 1', 'Class 5', 'Class 4', 'Class 7', 'Class 4', 'Class 5', 'Class 6', 'Class 4', 'Class 5', 'Class 4', 'Class 4', 'Class 4', 'Class 5', 'Class 3', 'Class 5', 'Class 5', 'Class 4', 'Class 4', 'Class 4', 'Class 2', 'Class 7', 'Class 4', 'Class 5', 'Class 4', 'Class 4', 'Class 1', 'Class 5', 'Class 7', 'Class 5', 'Class 4', 'Class 5', 'Class 4', 'Class 4', 'Class 2', 'Class 6', 'Class 2', 'Class 6', 'Class 1', 'Class 6', 'Class 4', 'Class 4', 'Class 4', 'Class 4', 'Class 6', 'Class 6', 'Class 5', 'Class 1', 'Class 3', 'Class 5', 'Class 4', 'Class 4', 'Class 6', 'Class 4', 'Class 4', 'Class 6', 'Class 5', 'Class 6', 'Class 4', 'Class 4', 'Class 2', 'Class 4', 'Class 4', 'Class 4', 'Class 3', 'Class 5', 'Class 2', 'Class 1', 'Class 5', 'Class 4', 'Class 2', 'Class 4', 'Class 6', 'Class 4', 'Class 5', 'Class 7', 'Class 4', 'Class 4', 'Class 4', 'Class 1', 'Class 5', 'Class 4', 'Class 4', 'Class 6', 'Class 4', 'Class 3', 'Class 4', 'Class 4', 'Class 2', 'Class 5', 'Class 4', 'Class 4', 'Class 6', 'Class 1', 'Class 5', 'Class 4', 'Class 4', 'Class 5', 'Class 5', 'Class 4', 'Class 4', 'Class 6', 'Class 6', 'Class 4', 'Class 4', 'Class 4', 'Class 4', 'Class 4', 'Class 7', 'Class 1', 'Class 4', 'Class 1', 'Class 3', 'Class 6', 'Class 5', 'Class 2', 'Class 4', 'Class 5', 'Class 4', 'Class 7', 'Class 4', 'Class 1', 'Class 4', 'Class 6', 'Class 4', 'Class 3', 'Class 3', 'Class 4', 'Class 5', 'Class 4', 'Class 4', 'Class 6', 'Class 4', 'Class 4', 'Class 3', 'Class 4', 'Class 1', 'Class 4', 'Class 6', 'Class 3', 'Class 4', 'Class 6', 'Class 2', 'Class 5', 'Class 3', 'Class 6', 'Class 4', 'Class 4', 'Class 4', 'Class 5', 'Class 7', 'Class 6', 'Class 6', 'Class 7', 'Class 6', 'Class 4', 'Class 4', 'Class 4', 'Class 5', 'Class 1', 'Class 2', 'Class 5', 'Class 2', 'Class 4', 'Class 4', 'Class 4', 'Class 5', 'Class 5', 'Class 5', 'Class 5', 'Class 6', 'Class 4', 'Class 4', 'Class 4', 'Class 6', 'Class 6', 'Class 4', 'Class 6', 'Class 6', 'Class 5', 'Class 4', 'Class 5', 'Class 4', 'Class 4', 'Class 5', 'Class 6', 'Class 4', 'Class 4', 'Class 4', 'Class 1', 'Class 4', 'Class 2', 'Class 4', 'Class 4', 'Class 5', 'Class 1', 'Class 6', 'Class 5', 'Class 5', 'Class 5', 'Class 4', 'Class 4', 'Class 6', 'Class 4', 'Class 6', 'Class 2', 'Class 6', 'Class 6', 'Class 5', 'Class 4', 'Class 5', 'Class 2', 'Class 6', 'Class 4', 'Class 4', 'Class 4', 'Class 4', 'Class 4', 'Class 4', 'Class 4', 'Class 5', 'Class 4', 'Class 6', 'Class 1', 'Class 5', 'Class 2', 'Class 6', 'Class 8', 'Class 4', 'Class 5', 'Class 5', 'Class 4', 'Class 4', 'Class 6', 'Class 1', 'Class 4', 'Class 5', 'Class 4', 'Class 6', 'Class 4', 'Class 5', 'Class 4', 'Class 5', 'Class 4', 'Class 4', 'Class 6', 'Class 4', 'Class 4', 'Class 3', 'Class 4', 'Class 6', 'Class 2', 'Class 6', 'Class 5', 'Class 5', 'Class 4', 'Class 2', 'Class 1', 'Class 4', 'Class 4', 'Class 4', 'Class 4', 'Class 3', 'Class 6', 'Class 6', 'Class 6', 'Class 1', 'Class 4', 'Class 6', 'Class 4', 'Class 4', 'Class 2', 'Class 5', 'Class 4', 'Class 4', 'Class 4', 'Class 5', 'Class 4', 'Class 2', 'Class 4', 'Class 6', 'Class 1', 'Class 7', 'Class 4', 'Class 4', 'Class 4', 'Class 1', 'Class 4', 'Class 1', 'Class 1', 'Class 4', 'Class 4', 'Class 1', 'Class 4', 'Class 1', 'Class 4', 'Class 3', 'Class 5', 'Class 4', 'Class 4', 'Class 4', 'Class 4', 'Class 4', 'Class 6', 'Class 5', 'Class 4', 'Class 5', 'Class 4', 'Class 2', 'Class 5', 'Class 3', 'Class 4', 'Class 4', 'Class 6', 'Class 6', 'Class 4', 'Class 4', 'Class 6', 'Class 4', 'Class 1', 'Class 7', 'Class 2', 'Class 4', 'Class 5', 'Class 2', 'Class 6', 'Class 5', 'Class 6', 'Class 4', 'Class 2', 'Class 5', 'Class 6', 'Class 6', 'Class 4', 'Class 5', 'Class 5', 'Class 4', 'Class 2', 'Class 4', 'Class 5', 'Class 4', 'Class 4', 'Class 5', 'Class 5', 'Class 4', 'Class 4', 'Class 6', 'Class 5', 'Class 1', 'Class 4', 'Class 4', 'Class 5', 'Class 6', 'Class 4', 'Class 7', 'Class 5', 'Class 4', 'Class 1', 'Class 4', 'Class 3', 'Class 4', 'Class 2', 'Class 4', 'Class 1', 'Class 5', 'Class 5', 'Class 4', 'Class 4', 'Class 4', 'Class 4', 'Class 6', 'Class 4', 'Class 4', 'Class 4', 'Class 4', 'Class 6', 'Class 6', 'Class 3', 'Class 5', 'Class 5', 'Class 4', 'Class 5', 'Class 4', 'Class 6', 'Class 4', 'Class 4', 'Class 4', 'Class 3', 'Class 5', 'Class 4', 'Class 5', 'Class 6', 'Class 4', 'Class 6', 'Class 2', 'Class 4', 'Class 2', 'Class 3', 'Class 4', 'Class 4', 'Class 4', 'Class 6', 'Class 5', 'Class 4', 'Class 4', 'Class 1', 'Class 4', 'Class 4', 'Class 8', 'Class 1', 'Class 3', 'Class 4', 'Class 4', 'Class 4', 'Class 4', 'Class 3', 'Class 4', 'Class 4', 'Class 1', 'Class 6', 'Class 4', 'Class 4', 'Class 7', 'Class 4', 'Class 4', 'Class 4', 'Class 5', 'Class 5', 'Class 4', 'Class 4', 'Class 4', 'Class 5', 'Class 6', 'Class 4', 'Class 4', 'Class 5', 'Class 1', 'Class 4', 'Class 4', 'Class 4', 'Class 6', 'Class 4', 'Class 4', 'Class 3', 'Class 1', 'Class 4', 'Class 6', 'Class 6', 'Class 2', 'Class 5', 'Class 4', 'Class 4', 'Class 5', 'Class 6', 'Class 6', 'Class 5', 'Class 4', 'Class 2', 'Class 4', 'Class 1', 'Class 4', 'Class 4', 'Class 5', 'Class 4', 'Class 5', 'Class 4', 'Class 3', 'Class 1', 'Class 3', 'Class 4', 'Class 4', 'Class 4', 'Class 2', 'Class 5', 'Class 4', 'Class 6', 'Class 5', 'Class 1', 'Class 6', 'Class 4', 'Class 5', 'Class 7', 'Class 3', 'Class 2', 'Class 5', 'Class 4', 'Class 4', 'Class 5', 'Class 4', 'Class 4', 'Class 4', 'Class 4', 'Class 4', 'Class 3', 'Class 5', 'Class 4', 'Class 4', 'Class 5', 'Class 1', 'Class 5', 'Class 7', 'Class 4', 'Class 4', 'Class 5', 'Class 3', 'Class 4', 'Class 4', 'Class 6', 'Class 4', 'Class 4', 'Class 5', 'Class 4', 'Class 4', 'Class 4', 'Class 3', 'Class 2', 'Class 5', 'Class 4', 'Class 4', 'Class 7', 'Class 4', 'Class 7', 'Class 4', 'Class 4', 'Class 4', 'Class 4', 'Class 2', 'Class 1', 'Class 7', 'Class 2', 'Class 6', 'Class 4', 'Class 4', 'Class 4', 'Class 4', 'Class 1', 'Class 5', 'Class 5', 'Class 4', 'Class 6', 'Class 6', 'Class 4', 'Class 4', 'Class 4', 'Class 4', 'Class 4', 'Class 4', 'Class 3', 'Class 5', 'Class 5', 'Class 4', 'Class 4', 'Class 1', 'Class 6', 'Class 4', 'Class 1', 'Class 1', 'Class 4', 'Class 4', 'Class 7', 'Class 2', 'Class 7', 'Class 5', 'Class 3', 'Class 4', 'Class 4', 'Class 5', 'Class 6', 'Class 3', 'Class 4', 'Class 5', 'Class 4', 'Class 6', 'Class 4', 'Class 4', 'Class 4', 'Class 5', 'Class 3', 'Class 4', 'Class 5', 'Class 5', 'Class 4', 'Class 4', 'Class 6', 'Class 1', 'Class 2', 'Class 4', 'Class 6', 'Class 1', 'Class 6', 'Class 6', 'Class 3', 'Class 5', 'Class 4', 'Class 6', 'Class 6', 'Class 3', 'Class 5', 'Class 4', 'Class 4', 'Class 1', 'Class 4', 'Class 4', 'Class 2', 'Class 4', 'Class 1', 'Class 4', 'Class 4', 'Class 5', 'Class 3', 'Class 6', 'Class 4', 'Class 5', 'Class 6', 'Class 6', 'Class 6', 'Class 4', 'Class 6', 'Class 6', 'Class 4', 'Class 2', 'Class 5', 'Class 5', 'Class 4', 'Class 4', 'Class 4', 'Class 3', 'Class 4', 'Class 5', 'Class 5', 'Class 3', 'Class 4', 'Class 4', 'Class 6', 'Class 4', 'Class 4', 'Class 5', 'Class 2', 'Class 4', 'Class 4', 'Class 6', 'Class 5', 'Class 3', 'Class 3', 'Class 6', 'Class 4', 'Class 5', 'Class 2', 'Class 6', 'Class 2', 'Class 4', 'Class 2', 'Class 4', 'Class 4', 'Class 4', 'Class 4', 'Class 5', 'Class 5', 'Class 4', 'Class 1', 'Class 4', 'Class 2', 'Class 5', 'Class 4', 'Class 6', 'Class 1', 'Class 4', 'Class 4', 'Class 4', 'Class 4', 'Class 6', 'Class 1', 'Class 6', 'Class 4', 'Class 6', 'Class 6', 'Class 3', 'Class 4', 'Class 4', 'Class 4', 'Class 6', 'Class 7', 'Class 4', 'Class 1', 'Class 5', 'Class 5', 'Class 5', 'Class 4', 'Class 4', 'Class 4', 'Class 1', 'Class 2', 'Class 5', 'Class 2', 'Class 4', 'Class 4', 'Class 7', 'Class 4', 'Class 5', 'Class 5', 'Class 4', 'Class 5', 'Class 6', 'Class 5', 'Class 5', 'Class 6', 'Class 4', 'Class 4', 'Class 5', 'Class 6', 'Class 5', 'Class 4', 'Class 5', 'Class 1', 'Class 4', 'Class 6', 'Class 7', 'Class 5', 'Class 4', 'Class 4', 'Class 4', 'Class 7', 'Class 5', 'Class 4', 'Class 4', 'Class 5', 'Class 6', 'Class 4', 'Class 6', 'Class 6', 'Class 6', 'Class 5', 'Class 4', 'Class 4', 'Class 3', 'Class 4', 'Class 4', 'Class 5', 'Class 4', 'Class 4', 'Class 6', 'Class 4', 'Class 4', 'Class 1', 'Class 4', 'Class 4', 'Class 4', 'Class 5', 'Class 6', 'Class 6', 'Class 5', 'Class 1', 'Class 4', 'Class 6', 'Class 5', 'Class 6', 'Class 1', 'Class 4', 'Class 4', 'Class 3', 'Class 4', 'Class 6', 'Class 5', 'Class 6', 'Class 6', 'Class 3', 'Class 4', 'Class 4', 'Class 4', 'Class 1', 'Class 5', 'Class 5', 'Class 5', 'Class 4', 'Class 4', 'Class 7', 'Class 4', 'Class 4', 'Class 4', 'Class 4', 'Class 4', 'Class 6', 'Class 4', 'Class 4', 'Class 4', 'Class 4', 'Class 4', 'Class 7', 'Class 4', 'Class 4', 'Class 6', 'Class 5', 'Class 6', 'Class 4', 'Class 4', 'Class 1', 'Class 5', 'Class 6', 'Class 5', 'Class 4', 'Class 4', 'Class 4', 'Class 2', 'Class 4', 'Class 6', 'Class 5', 'Class 5', 'Class 4', 'Class 4', 'Class 6', 'Class 1', 'Class 5', 'Class 4', 'Class 4', 'Class 4', 'Class 4', 'Class 4', 'Class 5', 'Class 4', 'Class 4', 'Class 5', 'Class 7', 'Class 5', 'Class 4', 'Class 4', 'Class 4', 'Class 4', 'Class 5', 'Class 2', 'Class 3', 'Class 6', 'Class 4', 'Class 5', 'Class 4', 'Class 4', 'Class 4', 'Class 4', 'Class 4', 'Class 6', 'Class 4', 'Class 4', 'Class 5', 'Class 3', 'Class 4', 'Class 2', 'Class 4', 'Class 5', 'Class 5', 'Class 1', 'Class 5', 'Class 5', 'Class 4', 'Class 2', 'Class 4', 'Class 4', 'Class 5', 'Class 5', 'Class 3', 'Class 4', 'Class 4', 'Class 4', 'Class 4', 'Class 3', 'Class 5', 'Class 4', 'Class 1', 'Class 6', 'Class 4', 'Class 4', 'Class 5', 'Class 1', 'Class 6', 'Class 3', 'Class 7', 'Class 4', 'Class 4', 'Class 4', 'Class 4', 'Class 4', 'Class 4', 'Class 6', 'Class 6', 'Class 5', 'Class 5', 'Class 6', 'Class 7', 'Class 6', 'Class 4', 'Class 5', 'Class 5', 'Class 5', 'Class 1', 'Class 2', 'Class 4', 'Class 4', 'Class 5', 'Class 1', 'Class 1', 'Class 4', 'Class 4', 'Class 4', 'Class 4', 'Class 7', 'Class 8', 'Class 3', 'Class 6', 'Class 3', 'Class 4', 'Class 6', 'Class 5', 'Class 4', 'Class 6', 'Class 4', 'Class 2', 'Class 6', 'Class 4', 'Class 6', 'Class 5', 'Class 6', 'Class 6', 'Class 3', 'Class 4', 'Class 5', 'Class 4', 'Class 2', 'Class 3', 'Class 4', 'Class 6', 'Class 2', 'Class 4', 'Class 2', 'Class 4', 'Class 4', 'Class 5', 'Class 4', 'Class 5', 'Class 6', 'Class 4', 'Class 4', 'Class 1', 'Class 4', 'Class 3', 'Class 4', 'Class 2', 'Class 5', 'Class 4', 'Class 4', 'Class 5', 'Class 1', 'Class 5', 'Class 6', 'Class 4', 'Class 4', 'Class 4', 'Class 6', 'Class 4', 'Class 6', 'Class 4', 'Class 2', 'Class 3', 'Class 4', 'Class 5', 'Class 4', 'Class 1', 'Class 5', 'Class 4', 'Class 3', 'Class 1', 'Class 4', 'Class 1', 'Class 5', 'Class 3', 'Class 4', 'Class 1', 'Class 1', 'Class 4', 'Class 4', 'Class 3', 'Class 1', 'Class 4', 'Class 2', 'Class 3', 'Class 3', 'Class 6', 'Class 4', 'Class 3', 'Class 4', 'Class 4', 'Class 4', 'Class 4', 'Class 2', 'Class 6', 'Class 6', 'Class 4', 'Class 1', 'Class 5', 'Class 5', 'Class 6', 'Class 1', 'Class 5', 'Class 6', 'Class 5', 'Class 6', 'Class 4', 'Class 5', 'Class 6', 'Class 6', 'Class 6', 'Class 5', 'Class 4', 'Class 4', 'Class 4', 'Class 4', 'Class 4', 'Class 4', 'Class 5', 'Class 4', 'Class 5', 'Class 6', 'Class 4', 'Class 5', 'Class 4', 'Class 4', 'Class 4', 'Class 5', 'Class 4', 'Class 4', 'Class 4', 'Class 4', 'Class 4', 'Class 4', 'Class 4', 'Class 5', 'Class 1', 'Class 4', 'Class 4', 'Class 6', 'Class 4', 'Class 8', 'Class 4', 'Class 1', 'Class 1', 'Class 5', 'Class 4', 'Class 4', 'Class 6', 'Class 4', 'Class 2', 'Class 4', 'Class 5', 'Class 1', 'Class 5', 'Class 7', 'Class 4', 'Class 4', 'Class 4', 'Class 7', 'Class 4', 'Class 2', 'Class 4', 'Class 7', 'Class 3', 'Class 7', 'Class 2', 'Class 4', 'Class 4', 'Class 4', 'Class 4', 'Class 4', 'Class 1', 'Class 4', 'Class 5', 'Class 4', 'Class 2', 'Class 7', 'Class 2', 'Class 3', 'Class 4', 'Class 2', 'Class 4', 'Class 3', 'Class 4', 'Class 3', 'Class 1', 'Class 1', 'Class 3', 'Class 5', 'Class 7', 'Class 5', 'Class 4', 'Class 5', 'Class 4', 'Class 3', 'Class 7', 'Class 4', 'Class 5', 'Class 4', 'Class 4', 'Class 1', 'Class 4', 'Class 1', 'Class 3', 'Class 4', 'Class 4', 'Class 6', 'Class 4', 'Class 4', 'Class 5', 'Class 4', 'Class 6', 'Class 3', 'Class 4', 'Class 3', 'Class 2', 'Class 6', 'Class 5', 'Class 5', 'Class 7', 'Class 5', 'Class 4', 'Class 3', 'Class 4', 'Class 1', 'Class 3', 'Class 5', 'Class 5', 'Class 5', 'Class 5', 'Class 4', 'Class 4', 'Class 1', 'Class 4', 'Class 4', 'Class 6', 'Class 4', 'Class 4', 'Class 5', 'Class 6', 'Class 4', 'Class 4', 'Class 7', 'Class 5', 'Class 4', 'Class 4', 'Class 6', 'Class 4', 'Class 1', 'Class 2', 'Class 4', 'Class 4', 'Class 4', 'Class 4', 'Class 5', 'Class 2', 'Class 6', 'Class 4', 'Class 1', 'Class 6', 'Class 4', 'Class 4', 'Class 5', 'Class 5', 'Class 4', 'Class 4', 'Class 5', 'Class 4', 'Class 5', 'Class 6', 'Class 4', 'Class 4', 'Class 4', 'Class 8', 'Class 6', 'Class 7', 'Class 4', 'Class 7', 'Class 1', 'Class 4', 'Class 5', 'Class 4', 'Class 5', 'Class 7', 'Class 4', 'Class 1', 'Class 4', 'Class 5', 'Class 4', 'Class 4', 'Class 1', 'Class 4', 'Class 2', 'Class 4', 'Class 4', 'Class 6', 'Class 4', 'Class 5', 'Class 4', 'Class 4', 'Class 6', 'Class 6', 'Class 3', 'Class 1', 'Class 1', 'Class 4', 'Class 6', 'Class 3', 'Class 4', 'Class 5', 'Class 5', 'Class 4', 'Class 4', 'Class 4', 'Class 4', 'Class 6', 'Class 1', 'Class 4', 'Class 1', 'Class 5', 'Class 6', 'Class 1', 'Class 4', 'Class 5', 'Class 5', 'Class 4', 'Class 4', 'Class 4', 'Class 5', 'Class 4', 'Class 4', 'Class 7', 'Class 5', 'Class 4', 'Class 6', 'Class 4', 'Class 6', 'Class 5', 'Class 1', 'Class 5', 'Class 6', 'Class 5', 'Class 7', 'Class 5', 'Class 1', 'Class 4', 'Class 4', 'Class 4', 'Class 4', 'Class 5', 'Class 4', 'Class 1', 'Class 4', 'Class 5', 'Class 6', 'Class 1', 'Class 6', 'Class 5', 'Class 1', 'Class 4', 'Class 5', 'Class 6', 'Class 4', 'Class 4', 'Class 1', 'Class 4', 'Class 3', 'Class 3', 'Class 1', 'Class 4', 'Class 4', 'Class 6', 'Class 4', 'Class 4', 'Class 5', 'Class 5', 'Class 4', 'Class 4', 'Class 4', 'Class 4', 'Class 4', 'Class 4', 'Class 4', 'Class 4', 'Class 1', 'Class 3', 'Class 1', 'Class 4', 'Class 2', 'Class 4', 'Class 7', 'Class 6', 'Class 4', 'Class 4', 'Class 4', 'Class 5', 'Class 4', 'Class 4', 'Class 4', 'Class 5', 'Class 6', 'Class 5', 'Class 6', 'Class 2', 'Class 4', 'Class 4', 'Class 5', 'Class 4', 'Class 3', 'Class 5', 'Class 4', 'Class 4', 'Class 4', 'Class 6', 'Class 4', 'Class 4', 'Class 4', 'Class 6', 'Class 5', 'Class 5', 'Class 4', 'Class 4', 'Class 4', 'Class 4', 'Class 3', 'Class 4', 'Class 6', 'Class 4', 'Class 3', 'Class 4', 'Class 4', 'Class 4', 'Class 4', 'Class 2', 'Class 6', 'Class 6', 'Class 4', 'Class 4', 'Class 4', 'Class 1', 'Class 4', 'Class 4', 'Class 6', 'Class 6', 'Class 7', 'Class 5', 'Class 1', 'Class 4', 'Class 4', 'Class 4', 'Class 5', 'Class 5', 'Class 4', 'Class 1', 'Class 4', 'Class 4', 'Class 4', 'Class 1', 'Class 4', 'Class 4', 'Class 6', 'Class 1', 'Class 1', 'Class 4', 'Class 6', 'Class 5', 'Class 5', 'Class 6', 'Class 5', 'Class 7', 'Class 5', 'Class 4', 'Class 5', 'Class 1', 'Class 6', 'Class 4', 'Class 4', 'Class 4', 'Class 4', 'Class 4', 'Class 4', 'Class 4', 'Class 4', 'Class 1', 'Class 5', 'Class 2', 'Class 4', 'Class 6', 'Class 1', 'Class 4', 'Class 4', 'Class 6', 'Class 2', 'Class 1', 'Class 6', 'Class 6', 'Class 1', 'Class 4', 'Class 5', 'Class 4', 'Class 4', 'Class 1', 'Class 4', 'Class 4', 'Class 4', 'Class 3', 'Class 5', 'Class 4', 'Class 4', 'Class 4', 'Class 4', 'Class 7', 'Class 5', 'Class 5', 'Class 7', 'Class 1', 'Class 5', 'Class 4', 'Class 4', 'Class 4', 'Class 2', 'Class 7', 'Class 6', 'Class 6', 'Class 1', 'Class 4', 'Class 4', 'Class 4', 'Class 4', 'Class 2', 'Class 4', 'Class 4', 'Class 7', 'Class 2', 'Class 6', 'Class 2', 'Class 1', 'Class 5', 'Class 5', 'Class 7', 'Class 3', 'Class 4', 'Class 1', 'Class 6', 'Class 4', 'Class 4', 'Class 6', 'Class 5', 'Class 4', 'Class 6', 'Class 7', 'Class 5', 'Class 5', 'Class 2', 'Class 4', 'Class 4', 'Class 4', 'Class 5', 'Class 4', 'Class 5', 'Class 4', 'Class 5', 'Class 4', 'Class 2', 'Class 5', 'Class 3', 'Class 4', 'Class 6', 'Class 5', 'Class 4', 'Class 5', 'Class 3', 'Class 4', 'Class 4', 'Class 4', 'Class 1', 'Class 4', 'Class 6', 'Class 6', 'Class 5', 'Class 7', 'Class 7', 'Class 5', 'Class 5', 'Class 4', 'Class 5', 'Class 5', 'Class 6', 'Class 6', 'Class 6', 'Class 4', 'Class 8', 'Class 4', 'Class 7', 'Class 4', 'Class 4', 'Class 4', 'Class 4', 'Class 4', 'Class 6', 'Class 1', 'Class 4', 'Class 6', 'Class 1', 'Class 3', 'Class 6', 'Class 1', 'Class 4', 'Class 6', 'Class 5', 'Class 4', 'Class 5', 'Class 4', 'Class 6', 'Class 5', 'Class 4', 'Class 6', 'Class 6', 'Class 4', 'Class 1', 'Class 4', 'Class 4', 'Class 1', 'Class 2', 'Class 5', 'Class 5', 'Class 6', 'Class 1', 'Class 1', 'Class 4', 'Class 6', 'Class 6', 'Class 2', 'Class 5', 'Class 4', 'Class 1', 'Class 4', 'Class 3', 'Class 4', 'Class 1', 'Class 7', 'Class 6', 'Class 1', 'Class 3', 'Class 4', 'Class 4', 'Class 4', 'Class 4', 'Class 1', 'Class 4', 'Class 4', 'Class 6', 'Class 4', 'Class 4', 'Class 4', 'Class 4', 'Class 4', 'Class 4', 'Class 6', 'Class 4', 'Class 4', 'Class 4', 'Class 4', 'Class 6', 'Class 1', 'Class 6', 'Class 4', 'Class 4', 'Class 6', 'Class 4', 'Class 3', 'Class 1', 'Class 3', 'Class 4', 'Class 4', 'Class 6', 'Class 4', 'Class 2', 'Class 7', 'Class 1', 'Class 4', 'Class 5', 'Class 5', 'Class 6', 'Class 4', 'Class 3', 'Class 1', 'Class 4', 'Class 3', 'Class 4', 'Class 3', 'Class 4', 'Class 4', 'Class 4', 'Class 4', 'Class 5', 'Class 6', 'Class 4', 'Class 4', 'Class 5', 'Class 6', 'Class 6', 'Class 6', 'Class 6', 'Class 4', 'Class 4', 'Class 1', 'Class 4', 'Class 6', 'Class 1', 'Class 4', 'Class 4', 'Class 5', 'Class 7', 'Class 5', 'Class 4', 'Class 6', 'Class 6', 'Class 4', 'Class 4', 'Class 3', 'Class 2', 'Class 5', 'Class 3', 'Class 1', 'Class 5', 'Class 5', 'Class 5', 'Class 6', 'Class 4', 'Class 1', 'Class 6', 'Class 4', 'Class 4', 'Class 1', 'Class 4', 'Class 4', 'Class 4', 'Class 4', 'Class 4', 'Class 4', 'Class 4', 'Class 4', 'Class 1', 'Class 4', 'Class 5', 'Class 1', 'Class 4', 'Class 6', 'Class 4', 'Class 7', 'Class 4', 'Class 3', 'Class 4', 'Class 5', 'Class 4', 'Class 1', 'Class 4', 'Class 1', 'Class 5', 'Class 5', 'Class 4', 'Class 4', 'Class 4', 'Class 4', 'Class 4', 'Class 4', 'Class 6', 'Class 4', 'Class 4', 'Class 6', 'Class 4', 'Class 5', 'Class 4', 'Class 4', 'Class 5', 'Class 4', 'Class 5', 'Class 1', 'Class 5', 'Class 5', 'Class 4', 'Class 5', 'Class 6', 'Class 4', 'Class 4', 'Class 4', 'Class 2', 'Class 5', 'Class 5', 'Class 3', 'Class 6', 'Class 4', 'Class 7', 'Class 4', 'Class 4', 'Class 4', 'Class 6', 'Class 4', 'Class 5', 'Class 5', 'Class 4', 'Class 5', 'Class 4', 'Class 2', 'Class 4', 'Class 6', 'Class 6', 'Class 4', 'Class 5', 'Class 4', 'Class 4', 'Class 4', 'Class 4', 'Class 5', 'Class 6', 'Class 4', 'Class 4', 'Class 6', 'Class 7', 'Class 1', 'Class 5', 'Class 6', 'Class 4', 'Class 4', 'Class 2', 'Class 4', 'Class 4', 'Class 5', 'Class 1', 'Class 3', 'Class 6', 'Class 4', 'Class 6', 'Class 4', 'Class 6', 'Class 6', 'Class 6', 'Class 1', 'Class 4', 'Class 5', 'Class 6', 'Class 3', 'Class 4', 'Class 4', 'Class 2', 'Class 6', 'Class 6', 'Class 5', 'Class 6', 'Class 6', 'Class 4', 'Class 4', 'Class 4', 'Class 6', 'Class 5', 'Class 5', 'Class 3', 'Class 2', 'Class 6', 'Class 5', 'Class 5', 'Class 2', 'Class 6', 'Class 4', 'Class 4', 'Class 5', 'Class 4', 'Class 4', 'Class 4', 'Class 6', 'Class 5', 'Class 6', 'Class 4', 'Class 3', 'Class 5', 'Class 4', 'Class 4', 'Class 1', 'Class 4', 'Class 5', 'Class 1', 'Class 4', 'Class 4', 'Class 5', 'Class 4', 'Class 5', 'Class 4', 'Class 2', 'Class 4', 'Class 4', 'Class 4', 'Class 4', 'Class 5', 'Class 5', 'Class 6', 'Class 6', 'Class 5', 'Class 1', 'Class 4', 'Class 5', 'Class 4', 'Class 4', 'Class 2', 'Class 3', 'Class 4', 'Class 6', 'Class 5', 'Class 4', 'Class 4', 'Class 4', 'Class 5', 'Class 5', 'Class 4', 'Class 5', 'Class 6', 'Class 4', 'Class 5', 'Class 4', 'Class 4', 'Class 5', 'Class 4', 'Class 5', 'Class 4', 'Class 1', 'Class 4', 'Class 4', 'Class 5', 'Class 5', 'Class 4', 'Class 4', 'Class 5', 'Class 1', 'Class 3', 'Class 5', 'Class 4', 'Class 4', 'Class 4', 'Class 5', 'Class 5', 'Class 4', 'Class 6', 'Class 4', 'Class 4', 'Class 5', 'Class 5', 'Class 1', 'Class 5', 'Class 4', 'Class 6', 'Class 4', 'Class 1', 'Class 6', 'Class 4', 'Class 6', 'Class 6', 'Class 3', 'Class 4', 'Class 5', 'Class 6', 'Class 6', 'Class 1', 'Class 4', 'Class 4', 'Class 1', 'Class 4', 'Class 4', 'Class 1', 'Class 5', 'Class 3', 'Class 6', 'Class 4', 'Class 5', 'Class 1', 'Class 4', 'Class 6', 'Class 6', 'Class 4', 'Class 2', 'Class 6', 'Class 5', 'Class 5', 'Class 5', 'Class 4', 'Class 4', 'Class 3', 'Class 4', 'Class 2', 'Class 5', 'Class 6', 'Class 5', 'Class 6', 'Class 6', 'Class 7', 'Class 4', 'Class 4', 'Class 4', 'Class 3', 'Class 4', 'Class 4', 'Class 7', 'Class 4', 'Class 4', 'Class 6', 'Class 1', 'Class 4', 'Class 4', 'Class 4', 'Class 3', 'Class 1', 'Class 4', 'Class 4', 'Class 5', 'Class 5', 'Class 5', 'Class 5', 'Class 4', 'Class 5', 'Class 4', 'Class 4', 'Class 5', 'Class 5', 'Class 1', 'Class 4', 'Class 4', 'Class 7', 'Class 4', 'Class 4', 'Class 1', 'Class 2', 'Class 4', 'Class 4', 'Class 4', 'Class 4', 'Class 7', 'Class 4', 'Class 6', 'Class 4', 'Class 4', 'Class 5', 'Class 6', 'Class 3', 'Class 5', 'Class 4', 'Class 4', 'Class 4', 'Class 5', 'Class 4', 'Class 6', 'Class 6', 'Class 4', 'Class 3', 'Class 6', 'Class 4', 'Class 4', 'Class 2', 'Class 3', 'Class 5', 'Class 6', 'Class 4', 'Class 4', 'Class 4', 'Class 4', 'Class 4', 'Class 1', 'Class 4', 'Class 6', 'Class 3', 'Class 3', 'Class 2', 'Class 1', 'Class 4', 'Class 5', 'Class 7', 'Class 3', 'Class 1', 'Class 3', 'Class 6', 'Class 4', 'Class 6', 'Class 1', 'Class 5', 'Class 4', 'Class 5', 'Class 6', 'Class 1', 'Class 4', 'Class 5', 'Class 5', 'Class 2', 'Class 4', 'Class 4', 'Class 3', 'Class 4', 'Class 6', 'Class 5', 'Class 5', 'Class 4', 'Class 2', 'Class 4', 'Class 5', 'Class 1', 'Class 5', 'Class 6', 'Class 4', 'Class 5', 'Class 5', 'Class 6', 'Class 6', 'Class 5', 'Class 1', 'Class 4', 'Class 5', 'Class 2', 'Class 5', 'Class 3', 'Class 4', 'Class 4', 'Class 4', 'Class 4', 'Class 6', 'Class 3', 'Class 4', 'Class 6', 'Class 6', 'Class 4', 'Class 6', 'Class 6', 'Class 4', 'Class 6', 'Class 4', 'Class 6', 'Class 1', 'Class 7', 'Class 5', 'Class 3', 'Class 5', 'Class 6', 'Class 6', 'Class 1', 'Class 7', 'Class 1', 'Class 7', 'Class 4', 'Class 1', 'Class 6', 'Class 4', 'Class 1', 'Class 2', 'Class 4', 'Class 5', 'Class 4', 'Class 5', 'Class 4', 'Class 4', 'Class 3', 'Class 4', 'Class 4', 'Class 4', 'Class 3', 'Class 6', 'Class 4', 'Class 6', 'Class 1', 'Class 2', 'Class 3', 'Class 4', 'Class 5', 'Class 4', 'Class 3', 'Class 4', 'Class 4', 'Class 4', 'Class 2', 'Class 5', 'Class 4', 'Class 3', 'Class 4', 'Class 4', 'Class 2', 'Class 4', 'Class 6', 'Class 4', 'Class 5', 'Class 4', 'Class 5', 'Class 4', 'Class 5', 'Class 3', 'Class 4', 'Class 4', 'Class 6', 'Class 4', 'Class 7', 'Class 4', 'Class 3', 'Class 5', 'Class 4', 'Class 5', 'Class 2', 'Class 5', 'Class 1', 'Class 5', 'Class 5', 'Class 4', 'Class 4', 'Class 4', 'Class 7', 'Class 4', 'Class 8', 'Class 5', 'Class 4', 'Class 6', 'Class 6', 'Class 4', 'Class 4', 'Class 1', 'Class 4', 'Class 4', 'Class 4', 'Class 1', 'Class 5', 'Class 1', 'Class 4', 'Class 3', 'Class 6', 'Class 2', 'Class 5', 'Class 5', 'Class 4', 'Class 4', 'Class 5', 'Class 5', 'Class 3', 'Class 4', 'Class 4', 'Class 4', 'Class 5', 'Class 1', 'Class 4', 'Class 3', 'Class 6', 'Class 6', 'Class 5', 'Class 5', 'Class 4', 'Class 4', 'Class 4', 'Class 7', 'Class 4', 'Class 4', 'Class 3', 'Class 4', 'Class 4', 'Class 4', 'Class 3', 'Class 4', 'Class 4', 'Class 3', 'Class 4', 'Class 4', 'Class 4', 'Class 3', 'Class 5', 'Class 6', 'Class 1', 'Class 6', 'Class 3', 'Class 1', 'Class 4', 'Class 6', 'Class 4', 'Class 1', 'Class 6', 'Class 6', 'Class 4', 'Class 5', 'Class 4', 'Class 4', 'Class 4', 'Class 8', 'Class 3', 'Class 4', 'Class 1', 'Class 6', 'Class 6', 'Class 4', 'Class 4', 'Class 4', 'Class 4', 'Class 1', 'Class 4', 'Class 5', 'Class 4', 'Class 3', 'Class 4', 'Class 4', 'Class 4', 'Class 4', 'Class 4', 'Class 4', 'Class 4', 'Class 5', 'Class 1', 'Class 5', 'Class 3', 'Class 3', 'Class 4', 'Class 6', 'Class 6', 'Class 1', 'Class 6', 'Class 3', 'Class 3', 'Class 4', 'Class 5', 'Class 5', 'Class 3', 'Class 3', 'Class 2', 'Class 5', 'Class 7', 'Class 4', 'Class 5', 'Class 5', 'Class 4', 'Class 5', 'Class 5', 'Class 1', 'Class 4', 'Class 6', 'Class 6', 'Class 8', 'Class 4', 'Class 4', 'Class 1', 'Class 3', 'Class 1', 'Class 5', 'Class 1', 'Class 5', 'Class 6', 'Class 5', 'Class 5', 'Class 5', 'Class 6', 'Class 4', 'Class 4', 'Class 6', 'Class 3', 'Class 1', 'Class 6', 'Class 4', 'Class 6', 'Class 3', 'Class 4', 'Class 1', 'Class 5', 'Class 7', 'Class 1', 'Class 4', 'Class 5', 'Class 4', 'Class 6', 'Class 7', 'Class 5', 'Class 4', 'Class 6', 'Class 4', 'Class 1', 'Class 4', 'Class 6', 'Class 5', 'Class 2', 'Class 4', 'Class 1', 'Class 2', 'Class 6', 'Class 6', 'Class 4', 'Class 7', 'Class 4', 'Class 6', 'Class 7', 'Class 1', 'Class 6', 'Class 5', 'Class 4', 'Class 6', 'Class 6', 'Class 4', 'Class 4', 'Class 6', 'Class 5', 'Class 4', 'Class 5', 'Class 4', 'Class 5', 'Class 4', 'Class 4', 'Class 4', 'Class 5', 'Class 6', 'Class 6', 'Class 5', 'Class 4', 'Class 4', 'Class 4', 'Class 4', 'Class 6', 'Class 4', 'Class 7', 'Class 4', 'Class 4', 'Class 6', 'Class 4', 'Class 4', 'Class 4', 'Class 4', 'Class 4', 'Class 4', 'Class 6', 'Class 6', 'Class 4', 'Class 4', 'Class 4', 'Class 1', 'Class 1', 'Class 1', 'Class 6', 'Class 4', 'Class 4', 'Class 5', 'Class 4', 'Class 1', 'Class 5', 'Class 6', 'Class 4', 'Class 4', 'Class 4', 'Class 6', 'Class 4', 'Class 6', 'Class 5', 'Class 5', 'Class 4', 'Class 4', 'Class 1', 'Class 6', 'Class 1', 'Class 4', 'Class 5', 'Class 1', 'Class 5', 'Class 4', 'Class 6', 'Class 3', 'Class 2', 'Class 4', 'Class 3', 'Class 6', 'Class 5', 'Class 6', 'Class 6', 'Class 4', 'Class 5', 'Class 4', 'Class 1', 'Class 4', 'Class 4', 'Class 5', 'Class 4', 'Class 4', 'Class 2', 'Class 4', 'Class 4', 'Class 2', 'Class 4', 'Class 4', 'Class 6', 'Class 4', 'Class 1', 'Class 4', 'Class 1', 'Class 4', 'Class 4', 'Class 4', 'Class 6', 'Class 5', 'Class 2', 'Class 4', 'Class 4', 'Class 4', 'Class 6', 'Class 2', 'Class 4', 'Class 6', 'Class 1', 'Class 4', 'Class 4', 'Class 1', 'Class 5', 'Class 6', 'Class 4', 'Class 4', 'Class 4', 'Class 5', 'Class 6', 'Class 4', 'Class 5', 'Class 4', 'Class 2', 'Class 5', 'Class 4', 'Class 4', 'Class 5', 'Class 5', 'Class 5', 'Class 5', 'Class 4', 'Class 4', 'Class 6', 'Class 6', 'Class 1', 'Class 5', 'Class 1', 'Class 8', 'Class 2', 'Class 4', 'Class 4', 'Class 4', 'Class 4', 'Class 4', 'Class 6', 'Class 4', 'Class 6', 'Class 4', 'Class 4', 'Class 4', 'Class 4', 'Class 4', 'Class 5', 'Class 7', 'Class 5', 'Class 6', 'Class 6', 'Class 3', 'Class 4', 'Class 4', 'Class 1', 'Class 4', 'Class 7', 'Class 4', 'Class 6', 'Class 5', 'Class 3', 'Class 3', 'Class 5', 'Class 5', 'Class 4', 'Class 4', 'Class 4', 'Class 4', 'Class 4', 'Class 4', 'Class 4', 'Class 5', 'Class 6', 'Class 4', 'Class 4', 'Class 4', 'Class 4', 'Class 5', 'Class 4', 'Class 6', 'Class 4', 'Class 3', 'Class 4', 'Class 6', 'Class 5', 'Class 2', 'Class 4', 'Class 4', 'Class 4', 'Class 4', 'Class 5', 'Class 5', 'Class 6', 'Class 5', 'Class 6', 'Class 5', 'Class 4', 'Class 6', 'Class 1', 'Class 6', 'Class 1', 'Class 4', 'Class 6', 'Class 4', 'Class 4', 'Class 1', 'Class 1', 'Class 5', 'Class 4', 'Class 3', 'Class 6', 'Class 4', 'Class 5', 'Class 4', 'Class 5', 'Class 5', 'Class 4', 'Class 6', 'Class 1', 'Class 4', 'Class 1', 'Class 4', 'Class 1', 'Class 4', 'Class 4', 'Class 5', 'Class 4', 'Class 5', 'Class 6', 'Class 4', 'Class 4', 'Class 5', 'Class 1', 'Class 1', 'Class 5', 'Class 6', 'Class 1', 'Class 4', 'Class 7', 'Class 4', 'Class 6', 'Class 4', 'Class 4', 'Class 7', 'Class 4', 'Class 7', 'Class 4', 'Class 5', 'Class 6', 'Class 5', 'Class 4', 'Class 3', 'Class 1', 'Class 4', 'Class 4', 'Class 6', 'Class 4', 'Class 4', 'Class 6', 'Class 4', 'Class 4', 'Class 7', 'Class 4', 'Class 1', 'Class 7', 'Class 4', 'Class 4', 'Class 4', 'Class 4', 'Class 3', 'Class 4', 'Class 1', 'Class 1', 'Class 6', 'Class 5', 'Class 4', 'Class 7', 'Class 4', 'Class 4', 'Class 5', 'Class 5', 'Class 4', 'Class 1', 'Class 4', 'Class 4', 'Class 4', 'Class 4', 'Class 6', 'Class 5', 'Class 5', 'Class 4', 'Class 4', 'Class 6', 'Class 4', 'Class 6', 'Class 4', 'Class 1', 'Class 4', 'Class 6', 'Class 6', 'Class 4', 'Class 5', 'Class 5', 'Class 3', 'Class 4', 'Class 1', 'Class 6', 'Class 1', 'Class 4', 'Class 5', 'Class 6', 'Class 1', 'Class 6', 'Class 4', 'Class 4', 'Class 4', 'Class 7', 'Class 1', 'Class 6', 'Class 7', 'Class 6', 'Class 4', 'Class 4', 'Class 1', 'Class 7', 'Class 2', 'Class 4', 'Class 2', 'Class 4', 'Class 5', 'Class 6', 'Class 6', 'Class 6', 'Class 4', 'Class 1', 'Class 4', 'Class 3', 'Class 6', 'Class 6', 'Class 4', 'Class 4', 'Class 5', 'Class 5', 'Class 1', 'Class 4', 'Class 4', 'Class 4', 'Class 4', 'Class 6', 'Class 8', 'Class 4', 'Class 1', 'Class 4', 'Class 4', 'Class 4', 'Class 3', 'Class 1', 'Class 4', 'Class 4', 'Class 4', 'Class 4', 'Class 6', 'Class 5', 'Class 6', 'Class 5', 'Class 3', 'Class 4', 'Class 6', 'Class 7', 'Class 4', 'Class 4', 'Class 2', 'Class 1', 'Class 4', 'Class 5', 'Class 4', 'Class 6', 'Class 6', 'Class 4', 'Class 3', 'Class 5', 'Class 1', 'Class 4', 'Class 5', 'Class 5', 'Class 7', 'Class 4', 'Class 4', 'Class 5', 'Class 4', 'Class 6', 'Class 4', 'Class 5', 'Class 6', 'Class 4', 'Class 5', 'Class 6', 'Class 4', 'Class 4', 'Class 4', 'Class 1', 'Class 1', 'Class 4', 'Class 6', 'Class 4', 'Class 6', 'Class 4', 'Class 4', 'Class 5', 'Class 4', 'Class 4', 'Class 3', 'Class 4', 'Class 4', 'Class 1', 'Class 7', 'Class 4', 'Class 2', 'Class 3', 'Class 7', 'Class 6', 'Class 5', 'Class 4', 'Class 5', 'Class 4', 'Class 4', 'Class 4', 'Class 1', 'Class 5', 'Class 4', 'Class 3', 'Class 4', 'Class 4', 'Class 4', 'Class 3', 'Class 4', 'Class 4', 'Class 4', 'Class 5', 'Class 1', 'Class 6', 'Class 4', 'Class 2', 'Class 4', 'Class 5', 'Class 5', 'Class 6', 'Class 4', 'Class 4', 'Class 5', 'Class 4', 'Class 1', 'Class 4', 'Class 6', 'Class 3', 'Class 6', 'Class 5', 'Class 4', 'Class 4', 'Class 2', 'Class 5', 'Class 4', 'Class 6', 'Class 5', 'Class 7', 'Class 4', 'Class 5', 'Class 3', 'Class 3', 'Class 7', 'Class 4', 'Class 3', 'Class 4', 'Class 4', 'Class 6', 'Class 6', 'Class 6', 'Class 5', 'Class 4', 'Class 6', 'Class 4', 'Class 6', 'Class 4', 'Class 4', 'Class 6', 'Class 6', 'Class 4', 'Class 7', 'Class 3', 'Class 2', 'Class 1', 'Class 6', 'Class 5', 'Class 2', 'Class 1', 'Class 4', 'Class 1', 'Class 4', 'Class 4', 'Class 7', 'Class 5', 'Class 5', 'Class 1', 'Class 3', 'Class 6', 'Class 7', 'Class 5', 'Class 1', 'Class 6', 'Class 5', 'Class 6', 'Class 4', 'Class 1', 'Class 5', 'Class 4', 'Class 5', 'Class 4', 'Class 4', 'Class 1', 'Class 1', 'Class 4', 'Class 5', 'Class 5', 'Class 6', 'Class 4', 'Class 6', 'Class 4', 'Class 4', 'Class 5', 'Class 4', 'Class 4', 'Class 4', 'Class 5', 'Class 3', 'Class 4', 'Class 3', 'Class 6', 'Class 5', 'Class 5', 'Class 7', 'Class 5', 'Class 4', 'Class 5', 'Class 4', 'Class 4', 'Class 6', 'Class 4', 'Class 5', 'Class 4', 'Class 4', 'Class 6', 'Class 4', 'Class 3', 'Class 4', 'Class 5', 'Class 6', 'Class 4', 'Class 7', 'Class 3', 'Class 4', 'Class 6', 'Class 4', 'Class 4', 'Class 4', 'Class 4', 'Class 4', 'Class 4', 'Class 6', 'Class 3', 'Class 6', 'Class 6', 'Class 6', 'Class 3', 'Class 5', 'Class 5', 'Class 6', 'Class 5', 'Class 4', 'Class 4', 'Class 4', 'Class 2', 'Class 4', 'Class 5', 'Class 4', 'Class 4', 'Class 4', 'Class 4', 'Class 4', 'Class 5', 'Class 2', 'Class 4', 'Class 3', 'Class 4', 'Class 6', 'Class 6', 'Class 8', 'Class 6', 'Class 7', 'Class 1', 'Class 4', 'Class 6', 'Class 6', 'Class 4', 'Class 4', 'Class 7', 'Class 5', 'Class 4', 'Class 6', 'Class 5', 'Class 4', 'Class 3', 'Class 4', 'Class 5', 'Class 2', 'Class 4', 'Class 4', 'Class 4', 'Class 6', 'Class 2', 'Class 5', 'Class 4', 'Class 5', 'Class 5', 'Class 4', 'Class 6', 'Class 3', 'Class 4', 'Class 4', 'Class 6', 'Class 4', 'Class 4', 'Class 3', 'Class 4', 'Class 4', 'Class 6', 'Class 4', 'Class 4', 'Class 4', 'Class 4', 'Class 6', 'Class 4', 'Class 4', 'Class 5', 'Class 5', 'Class 2', 'Class 3', 'Class 4', 'Class 5', 'Class 5', 'Class 4', 'Class 6', 'Class 1', 'Class 4', 'Class 4', 'Class 5', 'Class 6', 'Class 4', 'Class 4', 'Class 5', 'Class 5', 'Class 1', 'Class 2', 'Class 4', 'Class 4', 'Class 5', 'Class 4', 'Class 2', 'Class 4', 'Class 5', 'Class 5', 'Class 6', 'Class 3', 'Class 6', 'Class 7', 'Class 5', 'Class 2', 'Class 4', 'Class 5', 'Class 1', 'Class 5', 'Class 4', 'Class 5', 'Class 6', 'Class 4', 'Class 5', 'Class 5', 'Class 6', 'Class 6', 'Class 4', 'Class 1', 'Class 6', 'Class 6', 'Class 5', 'Class 4', 'Class 6', 'Class 3', 'Class 1', 'Class 4', 'Class 4', 'Class 5', 'Class 7', 'Class 4', 'Class 4', 'Class 4', 'Class 4', 'Class 5', 'Class 1', 'Class 6', 'Class 5', 'Class 4', 'Class 6', 'Class 5', 'Class 4', 'Class 4', 'Class 4', 'Class 6', 'Class 2', 'Class 3', 'Class 2', 'Class 4', 'Class 4', 'Class 5', 'Class 4', 'Class 7', 'Class 2', 'Class 3', 'Class 4', 'Class 1', 'Class 4', 'Class 4', 'Class 2', 'Class 4', 'Class 1', 'Class 5', 'Class 4', 'Class 4', 'Class 6', 'Class 6', 'Class 4', 'Class 1', 'Class 3', 'Class 3', 'Class 4', 'Class 4', 'Class 4', 'Class 4', 'Class 3', 'Class 4', 'Class 4', 'Class 4', 'Class 6', 'Class 1', 'Class 4', 'Class 4', 'Class 6', 'Class 3', 'Class 4', 'Class 4', 'Class 4', 'Class 5', 'Class 3', 'Class 4', 'Class 1', 'Class 4', 'Class 4', 'Class 4', 'Class 6', 'Class 6', 'Class 4', 'Class 5', 'Class 4', 'Class 5', 'Class 2', 'Class 5', 'Class 4', 'Class 4', 'Class 5', 'Class 6', 'Class 4', 'Class 6', 'Class 3', 'Class 4', 'Class 3', 'Class 5', 'Class 4', 'Class 4', 'Class 5', 'Class 4', 'Class 4', 'Class 7', 'Class 4', 'Class 4', 'Class 4', 'Class 4', 'Class 4', 'Class 4', 'Class 4', 'Class 4', 'Class 4', 'Class 2', 'Class 1', 'Class 2', 'Class 5', 'Class 5', 'Class 1', 'Class 3', 'Class 4', 'Class 4', 'Class 4', 'Class 4', 'Class 1', 'Class 4', 'Class 6', 'Class 4', 'Class 4', 'Class 1', 'Class 4', 'Class 4', 'Class 4', 'Class 3', 'Class 5', 'Class 4', 'Class 4', 'Class 4', 'Class 6', 'Class 3', 'Class 4', 'Class 7', 'Class 6', 'Class 4', 'Class 4', 'Class 1', 'Class 4', 'Class 4', 'Class 4', 'Class 4', 'Class 3', 'Class 6', 'Class 4', 'Class 4', 'Class 6', 'Class 6', 'Class 6', 'Class 1', 'Class 4', 'Class 7', 'Class 4', 'Class 4', 'Class 1', 'Class 5', 'Class 4', 'Class 5', 'Class 2', 'Class 4', 'Class 4', 'Class 4', 'Class 4', 'Class 7', 'Class 4', 'Class 4', 'Class 4', 'Class 4', 'Class 4', 'Class 6', 'Class 4', 'Class 4', 'Class 4', 'Class 6', 'Class 4', 'Class 4', 'Class 4', 'Class 4', 'Class 5', 'Class 3', 'Class 4', 'Class 4', 'Class 5', 'Class 1', 'Class 2', 'Class 3', 'Class 4', 'Class 3', 'Class 4', 'Class 6', 'Class 4', 'Class 7', 'Class 6', 'Class 2', 'Class 4', 'Class 4', 'Class 6', 'Class 4', 'Class 4', 'Class 4', 'Class 5', 'Class 6', 'Class 4', 'Class 5', 'Class 6', 'Class 4', 'Class 6', 'Class 5', 'Class 4', 'Class 5', 'Class 4', 'Class 5', 'Class 6', 'Class 4', 'Class 4', 'Class 4', 'Class 4', 'Class 4', 'Class 1', 'Class 1', 'Class 4', 'Class 1', 'Class 6', 'Class 4', 'Class 4', 'Class 4', 'Class 4', 'Class 1', 'Class 3', 'Class 4', 'Class 4', 'Class 3', 'Class 6', 'Class 5', 'Class 3', 'Class 3', 'Class 5', 'Class 4', 'Class 3', 'Class 5', 'Class 6', 'Class 4', 'Class 4', 'Class 3', 'Class 5', 'Class 4', 'Class 4', 'Class 5', 'Class 4', 'Class 4', 'Class 6', 'Class 4', 'Class 4', 'Class 6', 'Class 3', 'Class 6', 'Class 6', 'Class 5', 'Class 4', 'Class 6', 'Class 4', 'Class 4', 'Class 4', 'Class 5', 'Class 4', 'Class 5', 'Class 1', 'Class 1', 'Class 6', 'Class 6', 'Class 5', 'Class 6', 'Class 5', 'Class 6', 'Class 6', 'Class 6', 'Class 4', 'Class 6', 'Class 4', 'Class 4', 'Class 1', 'Class 3', 'Class 5', 'Class 7', 'Class 4', 'Class 4', 'Class 1', 'Class 1', 'Class 4', 'Class 4', 'Class 7', 'Class 4', 'Class 4', 'Class 7', 'Class 6', 'Class 6', 'Class 5', 'Class 4', 'Class 4', 'Class 5', 'Class 5', 'Class 1', 'Class 4', 'Class 4', 'Class 5', 'Class 4', 'Class 4', 'Class 4', 'Class 1', 'Class 4', 'Class 4', 'Class 6', 'Class 5', 'Class 5', 'Class 5', 'Class 4', 'Class 4', 'Class 6', 'Class 4', 'Class 4', 'Class 4', 'Class 5', 'Class 3', 'Class 4', 'Class 4', 'Class 4', 'Class 4', 'Class 1', 'Class 4', 'Class 5', 'Class 5', 'Class 4', 'Class 4', 'Class 5', 'Class 5', 'Class 4', 'Class 6', 'Class 6', 'Class 5', 'Class 4', 'Class 4', 'Class 3', 'Class 5', 'Class 4', 'Class 4', 'Class 4', 'Class 6', 'Class 4', 'Class 4', 'Class 5', 'Class 4', 'Class 4', 'Class 4', 'Class 1', 'Class 4', 'Class 1', 'Class 4', 'Class 6', 'Class 4', 'Class 4', 'Class 7', 'Class 4', 'Class 6', 'Class 4', 'Class 6', 'Class 5', 'Class 4', 'Class 1', 'Class 6', 'Class 4', 'Class 6', 'Class 6', 'Class 4', 'Class 4', 'Class 6', 'Class 5', 'Class 6', 'Class 1', 'Class 4', 'Class 5', 'Class 5', 'Class 4', 'Class 4', 'Class 4', 'Class 1', 'Class 1', 'Class 4', 'Class 4', 'Class 4', 'Class 6', 'Class 5', 'Class 4', 'Class 4', 'Class 4', 'Class 8', 'Class 6', 'Class 1', 'Class 3', 'Class 6', 'Class 4', 'Class 4', 'Class 5', 'Class 3', 'Class 1', 'Class 3', 'Class 5', 'Class 4', 'Class 6', 'Class 4', 'Class 4', 'Class 4', 'Class 4', 'Class 6', 'Class 4', 'Class 4', 'Class 1', 'Class 4', 'Class 4', 'Class 4', 'Class 6', 'Class 4', 'Class 5', 'Class 6', 'Class 5', 'Class 4', 'Class 4', 'Class 7', 'Class 1', 'Class 5', 'Class 4', 'Class 5', 'Class 4', 'Class 4', 'Class 4', 'Class 4', 'Class 6', 'Class 4', 'Class 5', 'Class 1', 'Class 4', 'Class 5', 'Class 4', 'Class 6', 'Class 4', 'Class 5', 'Class 4', 'Class 4', 'Class 4', 'Class 4', 'Class 4', 'Class 6', 'Class 4', 'Class 6', 'Class 7', 'Class 1', 'Class 5', 'Class 1', 'Class 4', 'Class 2', 'Class 3', 'Class 6', 'Class 6', 'Class 6', 'Class 5', 'Class 2', 'Class 4', 'Class 2', 'Class 4', 'Class 6', 'Class 4', 'Class 7', 'Class 3', 'Class 6', 'Class 4', 'Class 5', 'Class 4', 'Class 6', 'Class 5', 'Class 4', 'Class 6', 'Class 4', 'Class 4', 'Class 4', 'Class 4', 'Class 5', 'Class 6', 'Class 4', 'Class 4', 'Class 4', 'Class 5', 'Class 2', 'Class 6', 'Class 6', 'Class 1', 'Class 5', 'Class 1', 'Class 4', 'Class 1', 'Class 4', 'Class 3', 'Class 6', 'Class 5', 'Class 6', 'Class 4', 'Class 5', 'Class 5', 'Class 4', 'Class 6', 'Class 5', 'Class 4', 'Class 4', 'Class 4', 'Class 4', 'Class 5', 'Class 4', 'Class 5', 'Class 4', 'Class 5', 'Class 5', 'Class 1', 'Class 6', 'Class 7', 'Class 5', 'Class 1', 'Class 3', 'Class 5', 'Class 5', 'Class 5', 'Class 4', 'Class 4', 'Class 3', 'Class 5', 'Class 4', 'Class 5', 'Class 5', 'Class 6', 'Class 4', 'Class 1', 'Class 4', 'Class 4', 'Class 4', 'Class 4', 'Class 6', 'Class 4', 'Class 5', 'Class 4', 'Class 3', 'Class 4', 'Class 4', 'Class 5', 'Class 4', 'Class 3', 'Class 3', 'Class 4', 'Class 1', 'Class 4', 'Class 4', 'Class 4', 'Class 4', 'Class 4', 'Class 5', 'Class 4', 'Class 4', 'Class 4', 'Class 2', 'Class 6', 'Class 4', 'Class 6', 'Class 5', 'Class 4', 'Class 1', 'Class 3', 'Class 4', 'Class 4', 'Class 5', 'Class 4', 'Class 4', 'Class 4', 'Class 4', 'Class 1', 'Class 6', 'Class 4', 'Class 4', 'Class 3', 'Class 6', 'Class 4', 'Class 4', 'Class 4', 'Class 4', 'Class 1', 'Class 4', 'Class 6', 'Class 6', 'Class 4', 'Class 4', 'Class 4', 'Class 4', 'Class 4', 'Class 5', 'Class 5', 'Class 3', 'Class 5', 'Class 4', 'Class 5', 'Class 2', 'Class 4', 'Class 4', 'Class 2', 'Class 4', 'Class 4', 'Class 4', 'Class 5', 'Class 6', 'Class 5', 'Class 4', 'Class 1', 'Class 3', 'Class 1', 'Class 4', 'Class 4', 'Class 6', 'Class 6', 'Class 4', 'Class 4', 'Class 2', 'Class 4', 'Class 4', 'Class 4', 'Class 4', 'Class 6', 'Class 5', 'Class 4', 'Class 4', 'Class 4', 'Class 1', 'Class 6', 'Class 5', 'Class 4', 'Class 6', 'Class 4', 'Class 4', 'Class 2', 'Class 7', 'Class 4', 'Class 4', 'Class 4', 'Class 4', 'Class 6', 'Class 4', 'Class 4', 'Class 6', 'Class 4', 'Class 4', 'Class 6', 'Class 6', 'Class 5', 'Class 4', 'Class 5', 'Class 5', 'Class 2', 'Class 4', 'Class 6', 'Class 4', 'Class 3', 'Class 2', 'Class 4', 'Class 4', 'Class 5', 'Class 5', 'Class 6', 'Class 4', 'Class 1', 'Class 6', 'Class 4', 'Class 4', 'Class 4', 'Class 4', 'Class 1', 'Class 4', 'Class 4', 'Class 4', 'Class 4', 'Class 4', 'Class 5', 'Class 6', 'Class 1', 'Class 1', 'Class 4', 'Class 5', 'Class 7', 'Class 6', 'Class 4', 'Class 4', 'Class 6', 'Class 1', 'Class 7', 'Class 6', 'Class 4', 'Class 4', 'Class 5', 'Class 3', 'Class 5', 'Class 5', 'Class 4', 'Class 4', 'Class 2', 'Class 4', 'Class 4', 'Class 4', 'Class 4', 'Class 4', 'Class 4', 'Class 4', 'Class 4', 'Class 1', 'Class 4', 'Class 1', 'Class 6', 'Class 6', 'Class 1', 'Class 6', 'Class 5', 'Class 4', 'Class 4', 'Class 4', 'Class 4', 'Class 4', 'Class 2', 'Class 4', 'Class 4', 'Class 6', 'Class 1', 'Class 6', 'Class 6', 'Class 5', 'Class 6', 'Class 4', 'Class 7', 'Class 3', 'Class 5', 'Class 4', 'Class 4', 'Class 2', 'Class 1', 'Class 4', 'Class 4', 'Class 4', 'Class 6', 'Class 5', 'Class 6', 'Class 5', 'Class 3', 'Class 4', 'Class 4', 'Class 6', 'Class 1', 'Class 5', 'Class 7', 'Class 5', 'Class 4', 'Class 4', 'Class 5', 'Class 4', 'Class 7', 'Class 6', 'Class 5', 'Class 6', 'Class 7', 'Class 3', 'Class 4', 'Class 1', 'Class 6', 'Class 2', 'Class 4', 'Class 5', 'Class 7', 'Class 5', 'Class 4', 'Class 4', 'Class 4', 'Class 2', 'Class 4', 'Class 5', 'Class 3', 'Class 1', 'Class 5', 'Class 5', 'Class 6', 'Class 4', 'Class 1', 'Class 4', 'Class 4', 'Class 1', 'Class 4', 'Class 4', 'Class 6', 'Class 4', 'Class 5', 'Class 4', 'Class 1', 'Class 4', 'Class 4', 'Class 5', 'Class 4', 'Class 6', 'Class 4', 'Class 4', 'Class 3', 'Class 4', 'Class 4', 'Class 2', 'Class 3', 'Class 3', 'Class 2', 'Class 4', 'Class 4', 'Class 5', 'Class 6', 'Class 3', 'Class 4', 'Class 6', 'Class 5', 'Class 6', 'Class 4', 'Class 4', 'Class 7', 'Class 5', 'Class 6', 'Class 5', 'Class 6', 'Class 6', 'Class 5', 'Class 6', 'Class 4', 'Class 2', 'Class 4', 'Class 4', 'Class 6', 'Class 5', 'Class 6', 'Class 6', 'Class 1', 'Class 4', 'Class 7', 'Class 1', 'Class 4', 'Class 6', 'Class 5', 'Class 7', 'Class 4', 'Class 5', 'Class 2', 'Class 4', 'Class 4', 'Class 4', 'Class 5', 'Class 6', 'Class 4', 'Class 5', 'Class 6', 'Class 1', 'Class 4', 'Class 4', 'Class 6', 'Class 4', 'Class 6', 'Class 4', 'Class 2', 'Class 4', 'Class 4', 'Class 4', 'Class 2', 'Class 4', 'Class 5', 'Class 4', 'Class 6', 'Class 4', 'Class 3', 'Class 5', 'Class 6', 'Class 6', 'Class 6', 'Class 2', 'Class 4', 'Class 4', 'Class 7', 'Class 5', 'Class 4', 'Class 4', 'Class 4', 'Class 4', 'Class 2', 'Class 4', 'Class 4', 'Class 3', 'Class 6', 'Class 4', 'Class 3', 'Class 6', 'Class 5', 'Class 4', 'Class 1', 'Class 5', 'Class 5', 'Class 1', 'Class 3', 'Class 4', 'Class 5', 'Class 3', 'Class 5', 'Class 6', 'Class 5', 'Class 4', 'Class 4', 'Class 4', 'Class 6', 'Class 4', 'Class 4', 'Class 4', 'Class 4', 'Class 5', 'Class 4', 'Class 4', 'Class 4', 'Class 4', 'Class 4', 'Class 4', 'Class 5', 'Class 4', 'Class 4', 'Class 6', 'Class 6', 'Class 6', 'Class 5', 'Class 2', 'Class 1', 'Class 4', 'Class 5', 'Class 4', 'Class 1', 'Class 6']\n",
            "['Class 4', 'Class 4', 'Class 4', 'Class 2', 'Class 6', 'Class 1', 'Class 4', 'Class 6', 'Class 4', 'Class 4', 'Class 4', 'Class 7', 'Class 2', 'Class 4', 'Class 7', 'Class 6', 'Class 2', 'Class 4', 'Class 4', 'Class 1', 'Class 4', 'Class 2', 'Class 4', 'Class 1', 'Class 4', 'Class 8', 'Class 6', 'Class 7', 'Class 2', 'Class 4', 'Class 4', 'Class 4', 'Class 6', 'Class 3', 'Class 4', 'Class 4', 'Class 7', 'Class 2', 'Class 5', 'Class 2', 'Class 6', 'Class 5', 'Class 5', 'Class 5', 'Class 5', 'Class 5', 'Class 5', 'Class 2', 'Class 5', 'Class 1', 'Class 2', 'Class 5', 'Class 4', 'Class 4', 'Class 4', 'Class 4', 'Class 6', 'Class 4', 'Class 4', 'Class 6', 'Class 4', 'Class 2', 'Class 4', 'Class 2', 'Class 2', 'Class 6', 'Class 4', 'Class 7', 'Class 6', 'Class 3', 'Class 4', 'Class 2', 'Class 3', 'Class 4', 'Class 6', 'Class 4', 'Class 6', 'Class 1', 'Class 1', 'Class 4', 'Class 5', 'Class 4', 'Class 4', 'Class 4', 'Class 6', 'Class 4', 'Class 4', 'Class 4', 'Class 1', 'Class 4', 'Class 6', 'Class 4', 'Class 4', 'Class 4', 'Class 4', 'Class 5', 'Class 4', 'Class 8', 'Class 4', 'Class 4', 'Class 1', 'Class 4', 'Class 4', 'Class 5', 'Class 6', 'Class 3', 'Class 4', 'Class 7', 'Class 2', 'Class 4', 'Class 4', 'Class 4', 'Class 1', 'Class 4', 'Class 4', 'Class 7', 'Class 2', 'Class 7', 'Class 4', 'Class 4', 'Class 4', 'Class 2', 'Class 2', 'Class 4', 'Class 5', 'Class 4', 'Class 7', 'Class 4', 'Class 4', 'Class 1', 'Class 4', 'Class 4', 'Class 4', 'Class 4', 'Class 1', 'Class 4', 'Class 4', 'Class 7', 'Class 4', 'Class 4', 'Class 4', 'Class 4', 'Class 4', 'Class 7', 'Class 5', 'Class 5', 'Class 4', 'Class 2', 'Class 4', 'Class 4', 'Class 4', 'Class 4', 'Class 6', 'Class 4', 'Class 7', 'Class 4', 'Class 4', 'Class 6', 'Class 4', 'Class 4', 'Class 2', 'Class 4', 'Class 3', 'Class 4', 'Class 4', 'Class 4', 'Class 7', 'Class 4', 'Class 4', 'Class 6', 'Class 4', 'Class 5', 'Class 2', 'Class 7', 'Class 4', 'Class 4', 'Class 1', 'Class 4', 'Class 4', 'Class 4', 'Class 6', 'Class 4', 'Class 4', 'Class 1', 'Class 4', 'Class 4', 'Class 4', 'Class 1', 'Class 4', 'Class 6', 'Class 1', 'Class 6', 'Class 4', 'Class 6', 'Class 6', 'Class 7', 'Class 4', 'Class 4', 'Class 4', 'Class 4', 'Class 2', 'Class 4', 'Class 4', 'Class 1', 'Class 4', 'Class 4', 'Class 6', 'Class 4', 'Class 1', 'Class 4', 'Class 5', 'Class 8', 'Class 4', 'Class 6', 'Class 4', 'Class 3', 'Class 4', 'Class 4', 'Class 6', 'Class 4', 'Class 4', 'Class 4', 'Class 4', 'Class 4', 'Class 4', 'Class 4', 'Class 2', 'Class 1', 'Class 4', 'Class 7', 'Class 4', 'Class 1', 'Class 4', 'Class 2', 'Class 4', 'Class 1', 'Class 4', 'Class 1', 'Class 1', 'Class 6', 'Class 4', 'Class 4', 'Class 2', 'Class 6', 'Class 5', 'Class 4', 'Class 4', 'Class 1', 'Class 1', 'Class 6', 'Class 5', 'Class 8', 'Class 2', 'Class 4', 'Class 4', 'Class 4', 'Class 4', 'Class 4', 'Class 4', 'Class 2', 'Class 4', 'Class 2', 'Class 4', 'Class 1', 'Class 2', 'Class 4', 'Class 4', 'Class 2', 'Class 4', 'Class 4', 'Class 5', 'Class 4', 'Class 4', 'Class 6', 'Class 1', 'Class 5', 'Class 4', 'Class 4', 'Class 4', 'Class 7', 'Class 4', 'Class 5', 'Class 6', 'Class 4', 'Class 4', 'Class 4', 'Class 4', 'Class 4', 'Class 4', 'Class 4', 'Class 4', 'Class 4', 'Class 4', 'Class 4', 'Class 1', 'Class 1', 'Class 4', 'Class 2', 'Class 4', 'Class 1', 'Class 4', 'Class 4', 'Class 2', 'Class 3', 'Class 4', 'Class 7', 'Class 4', 'Class 4', 'Class 7', 'Class 7', 'Class 4', 'Class 6', 'Class 6', 'Class 4', 'Class 4', 'Class 4', 'Class 7', 'Class 5', 'Class 1', 'Class 6', 'Class 4', 'Class 4', 'Class 2', 'Class 2', 'Class 4', 'Class 5', 'Class 1', 'Class 4', 'Class 1', 'Class 4', 'Class 7', 'Class 4', 'Class 4', 'Class 4', 'Class 5', 'Class 4', 'Class 4', 'Class 4', 'Class 4', 'Class 4', 'Class 7', 'Class 4', 'Class 4', 'Class 5', 'Class 4', 'Class 4', 'Class 4', 'Class 4', 'Class 3', 'Class 4', 'Class 4', 'Class 4', 'Class 1', 'Class 6', 'Class 4', 'Class 3', 'Class 5', 'Class 4', 'Class 6', 'Class 4', 'Class 6', 'Class 4', 'Class 4', 'Class 2', 'Class 4', 'Class 4', 'Class 6', 'Class 4', 'Class 4', 'Class 4', 'Class 7', 'Class 2', 'Class 4', 'Class 4', 'Class 5', 'Class 3', 'Class 4', 'Class 4', 'Class 4', 'Class 4', 'Class 5', 'Class 1', 'Class 4', 'Class 3', 'Class 4', 'Class 4', 'Class 7', 'Class 4', 'Class 4', 'Class 4', 'Class 4', 'Class 4', 'Class 1', 'Class 1', 'Class 4', 'Class 4', 'Class 5', 'Class 6', 'Class 4', 'Class 4', 'Class 4', 'Class 4', 'Class 4', 'Class 4', 'Class 4', 'Class 4', 'Class 4', 'Class 4', 'Class 4', 'Class 4', 'Class 4', 'Class 1', 'Class 6', 'Class 4', 'Class 4', 'Class 3', 'Class 4', 'Class 3', 'Class 1', 'Class 4', 'Class 7', 'Class 7', 'Class 4', 'Class 5', 'Class 4', 'Class 4', 'Class 5', 'Class 4', 'Class 1', 'Class 6', 'Class 4', 'Class 4', 'Class 4', 'Class 3', 'Class 4', 'Class 1', 'Class 4', 'Class 4', 'Class 4', 'Class 4', 'Class 1', 'Class 4', 'Class 4', 'Class 4', 'Class 4', 'Class 4', 'Class 4', 'Class 2', 'Class 4', 'Class 4', 'Class 4', 'Class 2', 'Class 4', 'Class 6', 'Class 4', 'Class 4', 'Class 4', 'Class 5', 'Class 4', 'Class 4', 'Class 1', 'Class 4', 'Class 4', 'Class 4', 'Class 1', 'Class 2', 'Class 3', 'Class 4', 'Class 4', 'Class 4', 'Class 6', 'Class 6', 'Class 2', 'Class 4', 'Class 3', 'Class 2', 'Class 2', 'Class 2', 'Class 4', 'Class 4', 'Class 2', 'Class 4', 'Class 4', 'Class 7', 'Class 4', 'Class 4', 'Class 4', 'Class 6', 'Class 7', 'Class 4', 'Class 4', 'Class 4', 'Class 1', 'Class 4', 'Class 4', 'Class 3', 'Class 6', 'Class 1', 'Class 6', 'Class 6', 'Class 4', 'Class 4', 'Class 5', 'Class 1', 'Class 6', 'Class 4', 'Class 2', 'Class 2', 'Class 2', 'Class 4', 'Class 4', 'Class 4', 'Class 4', 'Class 4', 'Class 7', 'Class 7', 'Class 1', 'Class 4', 'Class 1', 'Class 4', 'Class 4', 'Class 2', 'Class 4', 'Class 4', 'Class 4', 'Class 4', 'Class 7', 'Class 4', 'Class 6', 'Class 7', 'Class 2', 'Class 4', 'Class 4', 'Class 4', 'Class 4', 'Class 4', 'Class 6', 'Class 4', 'Class 5', 'Class 6', 'Class 1', 'Class 4', 'Class 4', 'Class 1', 'Class 1', 'Class 4', 'Class 5', 'Class 1', 'Class 4', 'Class 2', 'Class 4', 'Class 4', 'Class 4', 'Class 4', 'Class 4', 'Class 1', 'Class 3', 'Class 2', 'Class 4', 'Class 5', 'Class 2', 'Class 1', 'Class 1', 'Class 4', 'Class 4', 'Class 4', 'Class 4', 'Class 1', 'Class 1', 'Class 6', 'Class 6', 'Class 1', 'Class 3', 'Class 4', 'Class 4', 'Class 4', 'Class 2', 'Class 5', 'Class 1', 'Class 3', 'Class 3', 'Class 3', 'Class 5', 'Class 4', 'Class 8', 'Class 4', 'Class 2', 'Class 1', 'Class 4', 'Class 4', 'Class 6', 'Class 4', 'Class 4', 'Class 4', 'Class 4', 'Class 2', 'Class 1', 'Class 4', 'Class 3', 'Class 6', 'Class 6', 'Class 4', 'Class 4', 'Class 5', 'Class 4', 'Class 4', 'Class 7', 'Class 4', 'Class 1', 'Class 5', 'Class 7', 'Class 4', 'Class 4', 'Class 4', 'Class 4', 'Class 4', 'Class 1', 'Class 5', 'Class 4', 'Class 4', 'Class 2', 'Class 7', 'Class 4', 'Class 8', 'Class 7', 'Class 4', 'Class 4', 'Class 4', 'Class 4', 'Class 2', 'Class 4', 'Class 1', 'Class 4', 'Class 1', 'Class 4', 'Class 4', 'Class 4', 'Class 4', 'Class 4', 'Class 4', 'Class 3', 'Class 7', 'Class 4', 'Class 4', 'Class 4', 'Class 3', 'Class 4', 'Class 3', 'Class 1', 'Class 4', 'Class 2', 'Class 4', 'Class 1', 'Class 4', 'Class 4', 'Class 5', 'Class 2', 'Class 5', 'Class 6', 'Class 1', 'Class 6', 'Class 4', 'Class 7', 'Class 4', 'Class 4', 'Class 4', 'Class 4', 'Class 7', 'Class 4', 'Class 4', 'Class 6', 'Class 4', 'Class 2', 'Class 4', 'Class 2', 'Class 2', 'Class 4', 'Class 2', 'Class 2', 'Class 4', 'Class 4', 'Class 5', 'Class 3', 'Class 1', 'Class 4', 'Class 4', 'Class 7', 'Class 2', 'Class 2', 'Class 6', 'Class 5', 'Class 4', 'Class 4', 'Class 4', 'Class 4', 'Class 5', 'Class 2', 'Class 4', 'Class 4', 'Class 4', 'Class 4', 'Class 4', 'Class 3', 'Class 2', 'Class 5', 'Class 4', 'Class 4', 'Class 4', 'Class 1', 'Class 4', 'Class 6', 'Class 7', 'Class 4', 'Class 4', 'Class 4', 'Class 4', 'Class 2', 'Class 3', 'Class 1', 'Class 6', 'Class 2', 'Class 4', 'Class 4', 'Class 4', 'Class 4', 'Class 4', 'Class 7', 'Class 4', 'Class 5', 'Class 1', 'Class 2', 'Class 4', 'Class 4', 'Class 4', 'Class 4', 'Class 4', 'Class 6', 'Class 4', 'Class 4', 'Class 3', 'Class 4', 'Class 4', 'Class 4', 'Class 4', 'Class 4', 'Class 4', 'Class 6', 'Class 3', 'Class 3', 'Class 1', 'Class 4', 'Class 4', 'Class 1', 'Class 4', 'Class 4', 'Class 4', 'Class 4', 'Class 6', 'Class 4', 'Class 4', 'Class 4', 'Class 1', 'Class 7', 'Class 4', 'Class 4', 'Class 6', 'Class 5', 'Class 2', 'Class 6', 'Class 4', 'Class 4', 'Class 4', 'Class 4', 'Class 4', 'Class 7', 'Class 1', 'Class 5', 'Class 4', 'Class 4', 'Class 4', 'Class 4', 'Class 3', 'Class 1', 'Class 7', 'Class 4', 'Class 6', 'Class 4', 'Class 4', 'Class 6', 'Class 4', 'Class 7', 'Class 1', 'Class 5', 'Class 1', 'Class 1', 'Class 4', 'Class 4', 'Class 2', 'Class 8', 'Class 8', 'Class 4', 'Class 4', 'Class 5', 'Class 2', 'Class 4', 'Class 7', 'Class 4', 'Class 7', 'Class 6', 'Class 4', 'Class 5', 'Class 4', 'Class 4', 'Class 6', 'Class 5', 'Class 6', 'Class 1', 'Class 4', 'Class 1', 'Class 4', 'Class 4', 'Class 2', 'Class 4', 'Class 4', 'Class 3', 'Class 5', 'Class 6', 'Class 4', 'Class 4', 'Class 5', 'Class 4', 'Class 4', 'Class 4', 'Class 4', 'Class 4', 'Class 6', 'Class 4', 'Class 4', 'Class 4', 'Class 4', 'Class 4', 'Class 1', 'Class 2', 'Class 4', 'Class 1', 'Class 4', 'Class 4', 'Class 1', 'Class 6', 'Class 4', 'Class 4', 'Class 6', 'Class 4', 'Class 4', 'Class 1', 'Class 4', 'Class 4', 'Class 7', 'Class 4', 'Class 4', 'Class 5', 'Class 2', 'Class 4', 'Class 5', 'Class 4', 'Class 5', 'Class 7', 'Class 4', 'Class 6', 'Class 4', 'Class 4', 'Class 4', 'Class 4', 'Class 5', 'Class 4', 'Class 6', 'Class 6', 'Class 1', 'Class 6', 'Class 4', 'Class 4', 'Class 2', 'Class 7', 'Class 4', 'Class 4', 'Class 4', 'Class 3', 'Class 4', 'Class 4', 'Class 7', 'Class 4', 'Class 1', 'Class 4', 'Class 4', 'Class 2', 'Class 4', 'Class 4', 'Class 5', 'Class 5', 'Class 2', 'Class 4', 'Class 4', 'Class 4', 'Class 4', 'Class 7', 'Class 1', 'Class 4', 'Class 5', 'Class 6', 'Class 7', 'Class 4', 'Class 4', 'Class 4', 'Class 4', 'Class 4', 'Class 2', 'Class 1', 'Class 4', 'Class 7', 'Class 2', 'Class 2', 'Class 4', 'Class 4', 'Class 4', 'Class 4', 'Class 4', 'Class 2', 'Class 4', 'Class 4', 'Class 4', 'Class 1', 'Class 4', 'Class 5', 'Class 1', 'Class 4', 'Class 4', 'Class 4', 'Class 7', 'Class 4', 'Class 1', 'Class 4', 'Class 4', 'Class 4', 'Class 4', 'Class 2', 'Class 1', 'Class 4', 'Class 1', 'Class 1', 'Class 4', 'Class 7', 'Class 5', 'Class 7', 'Class 2', 'Class 4', 'Class 6', 'Class 4', 'Class 4', 'Class 4', 'Class 2', 'Class 4', 'Class 4', 'Class 5', 'Class 4', 'Class 7', 'Class 4', 'Class 4', 'Class 4', 'Class 6', 'Class 4', 'Class 4', 'Class 1', 'Class 5', 'Class 4', 'Class 1', 'Class 1', 'Class 4', 'Class 5', 'Class 1', 'Class 4', 'Class 4', 'Class 2', 'Class 4', 'Class 4', 'Class 5', 'Class 4', 'Class 4', 'Class 4', 'Class 4', 'Class 4', 'Class 7', 'Class 1', 'Class 5', 'Class 4', 'Class 4', 'Class 6', 'Class 4', 'Class 4', 'Class 4', 'Class 5', 'Class 4', 'Class 1', 'Class 5', 'Class 6', 'Class 4', 'Class 4', 'Class 2', 'Class 6', 'Class 4', 'Class 4', 'Class 4', 'Class 2', 'Class 6', 'Class 6', 'Class 4', 'Class 4', 'Class 6', 'Class 6', 'Class 4', 'Class 2', 'Class 1', 'Class 2', 'Class 4', 'Class 4', 'Class 4', 'Class 4', 'Class 4', 'Class 4', 'Class 4', 'Class 4', 'Class 1', 'Class 4', 'Class 4', 'Class 4', 'Class 6', 'Class 4', 'Class 4', 'Class 6', 'Class 4', 'Class 1', 'Class 4', 'Class 1', 'Class 2', 'Class 1', 'Class 4', 'Class 1', 'Class 5', 'Class 4', 'Class 4', 'Class 4', 'Class 4', 'Class 5', 'Class 6', 'Class 4', 'Class 5', 'Class 1', 'Class 4', 'Class 4', 'Class 6', 'Class 4', 'Class 5', 'Class 4', 'Class 4', 'Class 6', 'Class 4', 'Class 4', 'Class 4', 'Class 4', 'Class 4', 'Class 7', 'Class 4', 'Class 4', 'Class 4', 'Class 4', 'Class 4', 'Class 6', 'Class 4', 'Class 4', 'Class 4', 'Class 5', 'Class 4', 'Class 2', 'Class 4', 'Class 4', 'Class 4', 'Class 4', 'Class 6', 'Class 2', 'Class 4', 'Class 4', 'Class 6', 'Class 7', 'Class 4', 'Class 4', 'Class 4', 'Class 7', 'Class 2', 'Class 5', 'Class 4', 'Class 4', 'Class 2', 'Class 1', 'Class 4', 'Class 6', 'Class 2', 'Class 1', 'Class 1', 'Class 4', 'Class 1', 'Class 4', 'Class 4', 'Class 4', 'Class 4', 'Class 2', 'Class 2', 'Class 1', 'Class 4', 'Class 6', 'Class 1', 'Class 6', 'Class 4', 'Class 4', 'Class 6', 'Class 5', 'Class 2', 'Class 4', 'Class 1', 'Class 4', 'Class 4', 'Class 1', 'Class 2', 'Class 5', 'Class 5', 'Class 4', 'Class 4', 'Class 4', 'Class 4', 'Class 7', 'Class 4', 'Class 2', 'Class 3', 'Class 1', 'Class 4', 'Class 4', 'Class 5', 'Class 1', 'Class 5', 'Class 4', 'Class 4', 'Class 1', 'Class 2', 'Class 4', 'Class 4', 'Class 1', 'Class 2', 'Class 5', 'Class 4', 'Class 4', 'Class 4', 'Class 5', 'Class 1', 'Class 4', 'Class 1', 'Class 6', 'Class 1', 'Class 4', 'Class 4', 'Class 4', 'Class 6', 'Class 4', 'Class 4', 'Class 4', 'Class 4', 'Class 4', 'Class 4', 'Class 2', 'Class 6', 'Class 5', 'Class 4', 'Class 4', 'Class 1', 'Class 4', 'Class 6', 'Class 4', 'Class 4', 'Class 4', 'Class 3', 'Class 4', 'Class 8', 'Class 5', 'Class 4', 'Class 4', 'Class 7', 'Class 4', 'Class 4', 'Class 4', 'Class 2', 'Class 7', 'Class 5', 'Class 4', 'Class 4', 'Class 6', 'Class 4', 'Class 7', 'Class 7', 'Class 4', 'Class 4', 'Class 4', 'Class 4', 'Class 4', 'Class 4', 'Class 4', 'Class 1', 'Class 4', 'Class 4', 'Class 4', 'Class 5', 'Class 7', 'Class 4', 'Class 5', 'Class 2', 'Class 4', 'Class 4', 'Class 4', 'Class 4', 'Class 4', 'Class 2', 'Class 4', 'Class 4', 'Class 4', 'Class 4', 'Class 4', 'Class 5', 'Class 4', 'Class 4', 'Class 4', 'Class 4', 'Class 1', 'Class 1', 'Class 4', 'Class 4', 'Class 7', 'Class 4', 'Class 7', 'Class 4', 'Class 4', 'Class 4', 'Class 4', 'Class 4', 'Class 6', 'Class 4', 'Class 1', 'Class 4', 'Class 4', 'Class 7', 'Class 4', 'Class 4', 'Class 6', 'Class 4', 'Class 2', 'Class 4', 'Class 4', 'Class 4', 'Class 4', 'Class 4', 'Class 1', 'Class 1', 'Class 2', 'Class 4', 'Class 5', 'Class 1', 'Class 4', 'Class 2', 'Class 4', 'Class 4', 'Class 4', 'Class 1', 'Class 4', 'Class 1', 'Class 5', 'Class 4', 'Class 4', 'Class 2', 'Class 3', 'Class 4', 'Class 4', 'Class 4', 'Class 1', 'Class 4', 'Class 5', 'Class 2', 'Class 2', 'Class 5', 'Class 4', 'Class 4', 'Class 4', 'Class 7', 'Class 4', 'Class 4', 'Class 6', 'Class 5', 'Class 4', 'Class 3', 'Class 5', 'Class 4', 'Class 4', 'Class 4', 'Class 5', 'Class 7', 'Class 4', 'Class 4', 'Class 2', 'Class 6', 'Class 4', 'Class 4', 'Class 4', 'Class 4', 'Class 4', 'Class 4', 'Class 4', 'Class 4', 'Class 4', 'Class 5', 'Class 4', 'Class 6', 'Class 1', 'Class 4', 'Class 2', 'Class 2', 'Class 2', 'Class 6', 'Class 2', 'Class 4', 'Class 7', 'Class 4', 'Class 4', 'Class 6', 'Class 4', 'Class 5', 'Class 4', 'Class 6', 'Class 4', 'Class 4', 'Class 8', 'Class 4', 'Class 1', 'Class 6', 'Class 1', 'Class 4', 'Class 4', 'Class 4', 'Class 4', 'Class 4', 'Class 1', 'Class 1', 'Class 2', 'Class 6', 'Class 6', 'Class 1', 'Class 3', 'Class 4', 'Class 4', 'Class 4', 'Class 4', 'Class 4', 'Class 2', 'Class 2', 'Class 4', 'Class 4', 'Class 4', 'Class 4', 'Class 4', 'Class 2', 'Class 2', 'Class 7', 'Class 2', 'Class 4', 'Class 4', 'Class 4', 'Class 4', 'Class 4', 'Class 4', 'Class 4', 'Class 4', 'Class 4', 'Class 4', 'Class 3', 'Class 3', 'Class 4', 'Class 4', 'Class 4', 'Class 4', 'Class 5', 'Class 1', 'Class 6', 'Class 1', 'Class 4', 'Class 5', 'Class 7', 'Class 4', 'Class 5', 'Class 4', 'Class 4', 'Class 4', 'Class 4', 'Class 4', 'Class 4', 'Class 4', 'Class 4', 'Class 1', 'Class 4', 'Class 7', 'Class 6', 'Class 4', 'Class 4', 'Class 4', 'Class 3', 'Class 5', 'Class 6', 'Class 4', 'Class 4', 'Class 4', 'Class 6', 'Class 4', 'Class 4', 'Class 1', 'Class 4', 'Class 4', 'Class 4', 'Class 7', 'Class 5', 'Class 6', 'Class 5', 'Class 5', 'Class 4', 'Class 3', 'Class 4', 'Class 7', 'Class 3', 'Class 4', 'Class 4', 'Class 4', 'Class 4', 'Class 4', 'Class 4', 'Class 4', 'Class 6', 'Class 2', 'Class 6', 'Class 6', 'Class 4', 'Class 1', 'Class 6', 'Class 4', 'Class 5', 'Class 4', 'Class 4', 'Class 7', 'Class 4', 'Class 5', 'Class 4', 'Class 4', 'Class 4', 'Class 6', 'Class 4', 'Class 4', 'Class 4', 'Class 4', 'Class 4', 'Class 6', 'Class 4', 'Class 4', 'Class 6', 'Class 4', 'Class 4', 'Class 4', 'Class 4', 'Class 1', 'Class 4', 'Class 6', 'Class 5', 'Class 4', 'Class 4', 'Class 1', 'Class 1', 'Class 6', 'Class 4', 'Class 8', 'Class 4', 'Class 4', 'Class 4', 'Class 2', 'Class 2', 'Class 1', 'Class 4', 'Class 4', 'Class 4', 'Class 4', 'Class 1', 'Class 4', 'Class 4', 'Class 5', 'Class 5', 'Class 4', 'Class 1', 'Class 5', 'Class 6', 'Class 3', 'Class 4', 'Class 4', 'Class 4', 'Class 1', 'Class 7', 'Class 6', 'Class 6', 'Class 2', 'Class 4', 'Class 4', 'Class 4', 'Class 6', 'Class 6', 'Class 4', 'Class 4', 'Class 4', 'Class 5', 'Class 5', 'Class 1', 'Class 4', 'Class 4', 'Class 4', 'Class 1', 'Class 4', 'Class 4', 'Class 3', 'Class 2', 'Class 4', 'Class 4', 'Class 4', 'Class 4', 'Class 4', 'Class 3', 'Class 4', 'Class 4', 'Class 4', 'Class 4', 'Class 4', 'Class 4', 'Class 1', 'Class 4', 'Class 5', 'Class 4', 'Class 8', 'Class 6', 'Class 7', 'Class 1', 'Class 4', 'Class 4', 'Class 2', 'Class 5', 'Class 4', 'Class 4', 'Class 4', 'Class 4', 'Class 6', 'Class 4', 'Class 4', 'Class 3', 'Class 5', 'Class 5', 'Class 4', 'Class 4', 'Class 4', 'Class 4', 'Class 4', 'Class 4', 'Class 4', 'Class 4', 'Class 6', 'Class 3', 'Class 1', 'Class 6', 'Class 4', 'Class 4', 'Class 4', 'Class 7', 'Class 6', 'Class 3', 'Class 7', 'Class 3', 'Class 5', 'Class 1', 'Class 2', 'Class 4', 'Class 6', 'Class 4', 'Class 4', 'Class 4', 'Class 4', 'Class 4', 'Class 4', 'Class 4', 'Class 7', 'Class 3', 'Class 4', 'Class 4', 'Class 4', 'Class 1', 'Class 4', 'Class 4', 'Class 7', 'Class 4', 'Class 2', 'Class 4', 'Class 4', 'Class 1', 'Class 4', 'Class 4', 'Class 4', 'Class 4', 'Class 4', 'Class 4', 'Class 1', 'Class 4', 'Class 1', 'Class 1', 'Class 5', 'Class 6', 'Class 4', 'Class 4', 'Class 5', 'Class 4', 'Class 4', 'Class 4', 'Class 4', 'Class 4', 'Class 4', 'Class 1', 'Class 4', 'Class 4', 'Class 6', 'Class 3', 'Class 3', 'Class 4', 'Class 4', 'Class 1', 'Class 2', 'Class 1', 'Class 4', 'Class 4', 'Class 1', 'Class 4', 'Class 1', 'Class 4', 'Class 2', 'Class 4', 'Class 1', 'Class 1', 'Class 5', 'Class 4', 'Class 3', 'Class 5', 'Class 2', 'Class 4', 'Class 1', 'Class 2', 'Class 6', 'Class 4', 'Class 4', 'Class 4', 'Class 4', 'Class 4', 'Class 1', 'Class 7', 'Class 2', 'Class 6', 'Class 4', 'Class 2', 'Class 4', 'Class 6', 'Class 3', 'Class 4', 'Class 4', 'Class 7', 'Class 4', 'Class 8', 'Class 4', 'Class 4', 'Class 7', 'Class 6', 'Class 5', 'Class 6', 'Class 4', 'Class 4', 'Class 4', 'Class 4', 'Class 4', 'Class 4', 'Class 4', 'Class 1', 'Class 4', 'Class 4', 'Class 4', 'Class 5', 'Class 1', 'Class 2', 'Class 6', 'Class 4', 'Class 4', 'Class 6', 'Class 5', 'Class 4', 'Class 4', 'Class 4', 'Class 4', 'Class 4', 'Class 2', 'Class 4', 'Class 7', 'Class 6', 'Class 5', 'Class 7', 'Class 4', 'Class 1', 'Class 1', 'Class 1', 'Class 4', 'Class 4', 'Class 4', 'Class 4', 'Class 2', 'Class 4', 'Class 4', 'Class 1', 'Class 4', 'Class 3', 'Class 4', 'Class 4', 'Class 4', 'Class 7', 'Class 4', 'Class 2', 'Class 5', 'Class 4', 'Class 5', 'Class 7', 'Class 4', 'Class 4', 'Class 4', 'Class 4', 'Class 4', 'Class 4', 'Class 7', 'Class 4', 'Class 1', 'Class 4', 'Class 3', 'Class 7', 'Class 1', 'Class 8', 'Class 4', 'Class 2', 'Class 4', 'Class 4', 'Class 5', 'Class 4', 'Class 5', 'Class 2', 'Class 6', 'Class 4', 'Class 7', 'Class 4', 'Class 5', 'Class 4', 'Class 4', 'Class 4', 'Class 2', 'Class 4', 'Class 4', 'Class 4', 'Class 4', 'Class 1', 'Class 6', 'Class 4', 'Class 3', 'Class 4', 'Class 4', 'Class 5', 'Class 4', 'Class 4', 'Class 4', 'Class 4', 'Class 7', 'Class 4', 'Class 4', 'Class 6', 'Class 2', 'Class 7', 'Class 5', 'Class 4', 'Class 5', 'Class 5', 'Class 5', 'Class 3', 'Class 4', 'Class 1', 'Class 5', 'Class 5', 'Class 4', 'Class 4', 'Class 6', 'Class 4', 'Class 4', 'Class 1', 'Class 5', 'Class 4', 'Class 4', 'Class 4', 'Class 4', 'Class 4', 'Class 2', 'Class 2', 'Class 6', 'Class 4', 'Class 4', 'Class 4', 'Class 1', 'Class 6', 'Class 4', 'Class 4', 'Class 1', 'Class 4', 'Class 4', 'Class 4', 'Class 1', 'Class 5', 'Class 7', 'Class 4', 'Class 5', 'Class 1', 'Class 4', 'Class 3', 'Class 4', 'Class 4', 'Class 4', 'Class 4', 'Class 4', 'Class 4', 'Class 3', 'Class 4', 'Class 4', 'Class 4', 'Class 4', 'Class 4', 'Class 4', 'Class 5', 'Class 4', 'Class 4', 'Class 7', 'Class 4', 'Class 4', 'Class 4', 'Class 2', 'Class 4', 'Class 7', 'Class 6', 'Class 2', 'Class 4', 'Class 4', 'Class 4', 'Class 1', 'Class 2', 'Class 4', 'Class 2', 'Class 4', 'Class 7', 'Class 4', 'Class 4', 'Class 4', 'Class 4', 'Class 1', 'Class 5', 'Class 4', 'Class 2', 'Class 1', 'Class 1', 'Class 4', 'Class 6', 'Class 6', 'Class 4', 'Class 4', 'Class 4', 'Class 4', 'Class 4', 'Class 5', 'Class 2', 'Class 6', 'Class 2', 'Class 4', 'Class 1', 'Class 6', 'Class 6', 'Class 1', 'Class 4', 'Class 4', 'Class 4', 'Class 6', 'Class 1', 'Class 4', 'Class 1', 'Class 6', 'Class 4', 'Class 4', 'Class 5', 'Class 4', 'Class 2', 'Class 6', 'Class 7', 'Class 4', 'Class 1', 'Class 4', 'Class 4', 'Class 4', 'Class 5', 'Class 4', 'Class 1', 'Class 4', 'Class 4', 'Class 4', 'Class 4', 'Class 2', 'Class 4', 'Class 1', 'Class 4', 'Class 4', 'Class 7', 'Class 4', 'Class 4', 'Class 4', 'Class 6', 'Class 6', 'Class 4', 'Class 6', 'Class 1', 'Class 4', 'Class 6', 'Class 4', 'Class 1', 'Class 3', 'Class 1', 'Class 4', 'Class 4', 'Class 4', 'Class 7', 'Class 4', 'Class 6', 'Class 4', 'Class 5', 'Class 3', 'Class 4', 'Class 3', 'Class 1', 'Class 5', 'Class 4', 'Class 1', 'Class 4', 'Class 6', 'Class 1', 'Class 4', 'Class 1', 'Class 4', 'Class 4', 'Class 4', 'Class 4', 'Class 4', 'Class 6', 'Class 4', 'Class 4', 'Class 1', 'Class 4', 'Class 4', 'Class 6', 'Class 4', 'Class 4', 'Class 4', 'Class 4', 'Class 4', 'Class 6', 'Class 6', 'Class 4', 'Class 4', 'Class 4', 'Class 4', 'Class 4', 'Class 6', 'Class 2', 'Class 4', 'Class 6', 'Class 4', 'Class 6', 'Class 4', 'Class 4', 'Class 4', 'Class 4', 'Class 4', 'Class 3', 'Class 4', 'Class 7', 'Class 4', 'Class 3', 'Class 4', 'Class 4', 'Class 4', 'Class 4', 'Class 5', 'Class 4', 'Class 4', 'Class 4', 'Class 5', 'Class 5', 'Class 1', 'Class 4', 'Class 4', 'Class 1', 'Class 7', 'Class 8', 'Class 4', 'Class 1', 'Class 4', 'Class 6', 'Class 1', 'Class 2', 'Class 4', 'Class 4', 'Class 1', 'Class 4', 'Class 4', 'Class 4', 'Class 4', 'Class 4', 'Class 4', 'Class 4', 'Class 1', 'Class 4', 'Class 4', 'Class 4', 'Class 1', 'Class 4', 'Class 3', 'Class 4', 'Class 7', 'Class 4', 'Class 4', 'Class 4', 'Class 7', 'Class 7', 'Class 4', 'Class 5', 'Class 4', 'Class 4', 'Class 4', 'Class 4', 'Class 4', 'Class 4', 'Class 4', 'Class 4', 'Class 6', 'Class 4', 'Class 7', 'Class 1', 'Class 4', 'Class 4', 'Class 7', 'Class 4', 'Class 8', 'Class 6', 'Class 5', 'Class 1', 'Class 4', 'Class 4', 'Class 4', 'Class 4', 'Class 6', 'Class 4', 'Class 4', 'Class 4', 'Class 7', 'Class 2', 'Class 5', 'Class 4', 'Class 5', 'Class 4', 'Class 7', 'Class 6', 'Class 5', 'Class 3', 'Class 4', 'Class 4', 'Class 4', 'Class 4', 'Class 4', 'Class 2', 'Class 1', 'Class 5', 'Class 7', 'Class 1', 'Class 4', 'Class 5', 'Class 4', 'Class 5', 'Class 4', 'Class 4', 'Class 1', 'Class 2', 'Class 1', 'Class 4', 'Class 4', 'Class 2', 'Class 6', 'Class 4', 'Class 7', 'Class 1', 'Class 7', 'Class 1', 'Class 4', 'Class 4', 'Class 4', 'Class 4', 'Class 5', 'Class 2', 'Class 5', 'Class 4', 'Class 4', 'Class 4', 'Class 4', 'Class 4', 'Class 5', 'Class 5', 'Class 4', 'Class 3', 'Class 4', 'Class 5', 'Class 5', 'Class 4', 'Class 2', 'Class 4', 'Class 6', 'Class 4', 'Class 5', 'Class 3', 'Class 4', 'Class 6', 'Class 1', 'Class 1', 'Class 4', 'Class 6', 'Class 1', 'Class 4', 'Class 7', 'Class 6', 'Class 6', 'Class 8', 'Class 6', 'Class 4', 'Class 4', 'Class 6', 'Class 5', 'Class 1', 'Class 4', 'Class 4', 'Class 1', 'Class 4', 'Class 6', 'Class 4', 'Class 3', 'Class 6', 'Class 1', 'Class 4', 'Class 4', 'Class 4', 'Class 2', 'Class 1', 'Class 4', 'Class 4', 'Class 4', 'Class 4', 'Class 1', 'Class 2', 'Class 4', 'Class 4', 'Class 4', 'Class 4', 'Class 5', 'Class 4', 'Class 4', 'Class 2', 'Class 4', 'Class 5', 'Class 3', 'Class 1', 'Class 1', 'Class 4', 'Class 1', 'Class 4', 'Class 7', 'Class 4', 'Class 3', 'Class 3', 'Class 4', 'Class 4', 'Class 4', 'Class 5', 'Class 5', 'Class 2', 'Class 4', 'Class 5', 'Class 2', 'Class 4', 'Class 4', 'Class 4', 'Class 3', 'Class 6', 'Class 2', 'Class 7', 'Class 1', 'Class 4', 'Class 4', 'Class 4', 'Class 4', 'Class 1', 'Class 6', 'Class 7', 'Class 7', 'Class 4', 'Class 4', 'Class 4', 'Class 1', 'Class 1', 'Class 4', 'Class 6', 'Class 4', 'Class 4', 'Class 4', 'Class 6', 'Class 4', 'Class 1', 'Class 8', 'Class 4', 'Class 4', 'Class 3', 'Class 2', 'Class 3', 'Class 1', 'Class 7', 'Class 4', 'Class 4', 'Class 6', 'Class 4', 'Class 6', 'Class 4', 'Class 2', 'Class 6', 'Class 5', 'Class 4', 'Class 4', 'Class 3', 'Class 1', 'Class 1', 'Class 4', 'Class 2', 'Class 4', 'Class 4', 'Class 1', 'Class 4', 'Class 4', 'Class 4', 'Class 4', 'Class 6', 'Class 4', 'Class 5', 'Class 4', 'Class 3', 'Class 5', 'Class 4', 'Class 2', 'Class 4', 'Class 4', 'Class 4', 'Class 6', 'Class 7', 'Class 4', 'Class 4', 'Class 4', 'Class 4', 'Class 4', 'Class 6', 'Class 4', 'Class 1', 'Class 5', 'Class 4', 'Class 6', 'Class 5', 'Class 2', 'Class 4', 'Class 4', 'Class 1', 'Class 4', 'Class 4', 'Class 4', 'Class 5', 'Class 4', 'Class 1', 'Class 2', 'Class 4', 'Class 4', 'Class 2', 'Class 3', 'Class 3', 'Class 4', 'Class 4', 'Class 4', 'Class 6', 'Class 4', 'Class 4', 'Class 2', 'Class 4', 'Class 4', 'Class 1', 'Class 5', 'Class 4', 'Class 1', 'Class 7', 'Class 4', 'Class 2', 'Class 4', 'Class 4', 'Class 4', 'Class 6', 'Class 4', 'Class 2', 'Class 3', 'Class 4', 'Class 5', 'Class 4', 'Class 4', 'Class 4', 'Class 4', 'Class 1', 'Class 4', 'Class 8', 'Class 4', 'Class 6', 'Class 4', 'Class 4', 'Class 2', 'Class 4', 'Class 4', 'Class 4', 'Class 4', 'Class 1', 'Class 4', 'Class 4', 'Class 4', 'Class 4', 'Class 7', 'Class 4', 'Class 4', 'Class 2', 'Class 3', 'Class 4', 'Class 4', 'Class 4', 'Class 4', 'Class 4', 'Class 6', 'Class 1', 'Class 5', 'Class 5', 'Class 7', 'Class 6', 'Class 6', 'Class 4', 'Class 6', 'Class 4', 'Class 4', 'Class 2', 'Class 4', 'Class 4', 'Class 3', 'Class 4', 'Class 4', 'Class 4', 'Class 4', 'Class 4', 'Class 4', 'Class 4', 'Class 4', 'Class 4', 'Class 4', 'Class 7', 'Class 6', 'Class 1', 'Class 6', 'Class 4', 'Class 4', 'Class 4', 'Class 1', 'Class 4', 'Class 4', 'Class 4', 'Class 1', 'Class 2', 'Class 5', 'Class 4', 'Class 6', 'Class 4', 'Class 7', 'Class 6', 'Class 7', 'Class 7', 'Class 4', 'Class 4', 'Class 5', 'Class 5', 'Class 5', 'Class 4', 'Class 3', 'Class 3', 'Class 7', 'Class 4', 'Class 5', 'Class 4', 'Class 4', 'Class 4', 'Class 4', 'Class 5', 'Class 4', 'Class 4', 'Class 3', 'Class 1', 'Class 6', 'Class 4', 'Class 5', 'Class 2', 'Class 4', 'Class 4', 'Class 5', 'Class 4', 'Class 1', 'Class 5', 'Class 5', 'Class 1', 'Class 4', 'Class 4', 'Class 4', 'Class 2', 'Class 6', 'Class 4', 'Class 3', 'Class 1', 'Class 3', 'Class 6', 'Class 1', 'Class 4', 'Class 8', 'Class 4', 'Class 4', 'Class 5', 'Class 4', 'Class 2', 'Class 1', 'Class 4', 'Class 6', 'Class 4', 'Class 6', 'Class 7', 'Class 4', 'Class 7', 'Class 4', 'Class 2', 'Class 6', 'Class 6', 'Class 4', 'Class 4', 'Class 2', 'Class 4', 'Class 2', 'Class 1', 'Class 4', 'Class 4', 'Class 5', 'Class 4', 'Class 4', 'Class 4', 'Class 4', 'Class 4', 'Class 1', 'Class 1', 'Class 4', 'Class 4', 'Class 4', 'Class 6', 'Class 4', 'Class 1', 'Class 4', 'Class 2', 'Class 4', 'Class 4', 'Class 4', 'Class 4', 'Class 4', 'Class 4', 'Class 5', 'Class 2', 'Class 2', 'Class 4', 'Class 4', 'Class 4', 'Class 4', 'Class 4', 'Class 4', 'Class 5', 'Class 4', 'Class 4', 'Class 4', 'Class 4', 'Class 4', 'Class 1', 'Class 4', 'Class 1', 'Class 5', 'Class 4', 'Class 2', 'Class 7', 'Class 4', 'Class 5', 'Class 7', 'Class 2', 'Class 4', 'Class 5', 'Class 6', 'Class 4', 'Class 3', 'Class 4', 'Class 7', 'Class 1', 'Class 5', 'Class 4', 'Class 1', 'Class 4', 'Class 2', 'Class 4', 'Class 3', 'Class 4', 'Class 2', 'Class 5', 'Class 4', 'Class 5', 'Class 4', 'Class 2', 'Class 4', 'Class 4', 'Class 4', 'Class 5', 'Class 4', 'Class 6', 'Class 4', 'Class 5', 'Class 6', 'Class 4', 'Class 4', 'Class 4', 'Class 4', 'Class 4', 'Class 7', 'Class 4', 'Class 4', 'Class 4', 'Class 3', 'Class 4', 'Class 4', 'Class 4', 'Class 4', 'Class 4', 'Class 4', 'Class 4', 'Class 4', 'Class 5', 'Class 4', 'Class 1', 'Class 1', 'Class 5', 'Class 1', 'Class 1', 'Class 3', 'Class 4', 'Class 5', 'Class 4', 'Class 4', 'Class 1', 'Class 4', 'Class 7', 'Class 4', 'Class 1', 'Class 6', 'Class 6', 'Class 6', 'Class 4', 'Class 5', 'Class 4', 'Class 3', 'Class 4', 'Class 4', 'Class 2', 'Class 4', 'Class 4', 'Class 6', 'Class 7', 'Class 6', 'Class 4', 'Class 4', 'Class 5', 'Class 2', 'Class 4', 'Class 4', 'Class 5', 'Class 4', 'Class 7', 'Class 4', 'Class 7', 'Class 5', 'Class 1', 'Class 1', 'Class 8', 'Class 4', 'Class 4', 'Class 4', 'Class 4', 'Class 4', 'Class 2', 'Class 4', 'Class 4', 'Class 4', 'Class 5', 'Class 4', 'Class 2', 'Class 4', 'Class 4', 'Class 1', 'Class 6', 'Class 2', 'Class 1', 'Class 5', 'Class 6', 'Class 7', 'Class 3', 'Class 4', 'Class 5', 'Class 1', 'Class 2', 'Class 4', 'Class 6', 'Class 1', 'Class 4', 'Class 4', 'Class 4', 'Class 1', 'Class 5', 'Class 6', 'Class 6', 'Class 4', 'Class 4', 'Class 4', 'Class 5', 'Class 4', 'Class 4', 'Class 4', 'Class 4', 'Class 4', 'Class 1', 'Class 4', 'Class 4', 'Class 1', 'Class 6', 'Class 1', 'Class 4', 'Class 4', 'Class 4', 'Class 4', 'Class 7', 'Class 7', 'Class 1', 'Class 2', 'Class 4', 'Class 3', 'Class 1', 'Class 4', 'Class 6', 'Class 4', 'Class 4', 'Class 4', 'Class 4', 'Class 4', 'Class 4', 'Class 7', 'Class 4', 'Class 4', 'Class 6', 'Class 3', 'Class 3', 'Class 4', 'Class 2', 'Class 4', 'Class 2', 'Class 5', 'Class 4', 'Class 3', 'Class 1', 'Class 6', 'Class 4', 'Class 2', 'Class 4', 'Class 1', 'Class 4', 'Class 4', 'Class 1', 'Class 4', 'Class 4', 'Class 2', 'Class 4', 'Class 4', 'Class 4', 'Class 4', 'Class 4', 'Class 6', 'Class 4', 'Class 4', 'Class 4', 'Class 4', 'Class 3', 'Class 1', 'Class 2', 'Class 4', 'Class 4', 'Class 6', 'Class 2', 'Class 4', 'Class 5', 'Class 6', 'Class 4', 'Class 4', 'Class 1', 'Class 4', 'Class 4', 'Class 1', 'Class 6', 'Class 4', 'Class 3', 'Class 4', 'Class 4', 'Class 2', 'Class 5', 'Class 7', 'Class 4', 'Class 4', 'Class 4', 'Class 6', 'Class 4', 'Class 4', 'Class 4', 'Class 4', 'Class 5', 'Class 5', 'Class 4', 'Class 4', 'Class 3', 'Class 5', 'Class 4', 'Class 6', 'Class 4', 'Class 1', 'Class 6', 'Class 3', 'Class 4', 'Class 6', 'Class 4', 'Class 4', 'Class 2', 'Class 4', 'Class 4', 'Class 7', 'Class 5', 'Class 4', 'Class 5', 'Class 4', 'Class 4', 'Class 1', 'Class 2', 'Class 4', 'Class 4', 'Class 4', 'Class 4', 'Class 4', 'Class 1', 'Class 4', 'Class 4', 'Class 5', 'Class 4', 'Class 4', 'Class 4', 'Class 1', 'Class 4', 'Class 6', 'Class 4', 'Class 4', 'Class 4', 'Class 6', 'Class 4', 'Class 6', 'Class 1', 'Class 4', 'Class 4', 'Class 6', 'Class 5', 'Class 4', 'Class 4', 'Class 4', 'Class 5', 'Class 4', 'Class 7', 'Class 5', 'Class 4', 'Class 1', 'Class 2', 'Class 4', 'Class 4', 'Class 1', 'Class 4', 'Class 4', 'Class 2', 'Class 4', 'Class 3', 'Class 5', 'Class 4', 'Class 4', 'Class 4', 'Class 1', 'Class 5', 'Class 4', 'Class 2', 'Class 4', 'Class 1', 'Class 4', 'Class 2', 'Class 2', 'Class 4', 'Class 6', 'Class 4', 'Class 4', 'Class 4', 'Class 5', 'Class 7', 'Class 1', 'Class 4', 'Class 1', 'Class 7', 'Class 4', 'Class 4', 'Class 4', 'Class 5', 'Class 4', 'Class 3', 'Class 4', 'Class 8', 'Class 6', 'Class 3', 'Class 2', 'Class 4', 'Class 4', 'Class 4', 'Class 2', 'Class 2', 'Class 7', 'Class 4', 'Class 1', 'Class 4', 'Class 2', 'Class 4', 'Class 4', 'Class 7', 'Class 6', 'Class 2', 'Class 8', 'Class 1', 'Class 2', 'Class 4', 'Class 8', 'Class 5', 'Class 4', 'Class 2', 'Class 2', 'Class 4', 'Class 2', 'Class 5', 'Class 4', 'Class 7', 'Class 4', 'Class 4', 'Class 6', 'Class 2', 'Class 2', 'Class 2', 'Class 6', 'Class 8', 'Class 4', 'Class 4', 'Class 1', 'Class 4', 'Class 7', 'Class 2', 'Class 4', 'Class 4', 'Class 5', 'Class 6', 'Class 4', 'Class 4', 'Class 5', 'Class 4', 'Class 1', 'Class 6', 'Class 4', 'Class 2', 'Class 5', 'Class 1', 'Class 4', 'Class 2', 'Class 3', 'Class 3', 'Class 4', 'Class 8', 'Class 4', 'Class 5', 'Class 4', 'Class 2', 'Class 4', 'Class 7', 'Class 6', 'Class 4', 'Class 6', 'Class 3', 'Class 1', 'Class 4', 'Class 4', 'Class 4', 'Class 4', 'Class 4', 'Class 4', 'Class 2', 'Class 7', 'Class 4', 'Class 2', 'Class 5', 'Class 6', 'Class 3', 'Class 7', 'Class 1', 'Class 4', 'Class 4', 'Class 2', 'Class 4', 'Class 6', 'Class 4', 'Class 6', 'Class 4', 'Class 4', 'Class 4', 'Class 4', 'Class 6', 'Class 4', 'Class 2', 'Class 4', 'Class 4', 'Class 4', 'Class 7', 'Class 7', 'Class 4', 'Class 4', 'Class 4', 'Class 4', 'Class 4', 'Class 7', 'Class 4', 'Class 7', 'Class 4', 'Class 4', 'Class 2', 'Class 4', 'Class 4', 'Class 4', 'Class 4', 'Class 3', 'Class 4', 'Class 6', 'Class 7', 'Class 5', 'Class 4', 'Class 4', 'Class 1', 'Class 1', 'Class 4', 'Class 4', 'Class 4', 'Class 4', 'Class 6', 'Class 6', 'Class 1', 'Class 4', 'Class 4', 'Class 4', 'Class 7', 'Class 4', 'Class 6', 'Class 4', 'Class 6', 'Class 4', 'Class 4', 'Class 4', 'Class 4', 'Class 2', 'Class 5', 'Class 1', 'Class 2', 'Class 4', 'Class 1', 'Class 4', 'Class 4', 'Class 4', 'Class 4', 'Class 2', 'Class 5', 'Class 4', 'Class 2', 'Class 2', 'Class 7', 'Class 5', 'Class 2', 'Class 4', 'Class 4', 'Class 1', 'Class 4', 'Class 4', 'Class 6', 'Class 4', 'Class 1', 'Class 4', 'Class 4', 'Class 4', 'Class 1', 'Class 4', 'Class 4', 'Class 4', 'Class 4', 'Class 2', 'Class 4', 'Class 1', 'Class 4', 'Class 4', 'Class 7', 'Class 4', 'Class 4', 'Class 1', 'Class 4', 'Class 4', 'Class 4', 'Class 7', 'Class 4', 'Class 4', 'Class 4', 'Class 1', 'Class 4', 'Class 4', 'Class 7', 'Class 5', 'Class 6', 'Class 7', 'Class 4', 'Class 4', 'Class 4', 'Class 4', 'Class 4', 'Class 1', 'Class 4', 'Class 2', 'Class 1', 'Class 5', 'Class 4', 'Class 4', 'Class 4', 'Class 4', 'Class 5', 'Class 4', 'Class 4', 'Class 5', 'Class 4', 'Class 2', 'Class 5', 'Class 2', 'Class 8', 'Class 1', 'Class 3', 'Class 4', 'Class 4', 'Class 4', 'Class 4', 'Class 6', 'Class 4', 'Class 2', 'Class 4', 'Class 4', 'Class 4', 'Class 4', 'Class 4', 'Class 4', 'Class 7', 'Class 5', 'Class 6', 'Class 4', 'Class 6', 'Class 4', 'Class 1', 'Class 4', 'Class 4', 'Class 1', 'Class 4', 'Class 3', 'Class 4', 'Class 3', 'Class 3', 'Class 4', 'Class 4', 'Class 4', 'Class 4', 'Class 2', 'Class 4', 'Class 4', 'Class 4', 'Class 4', 'Class 7', 'Class 2', 'Class 4', 'Class 4', 'Class 1', 'Class 5', 'Class 4', 'Class 4', 'Class 4', 'Class 4', 'Class 4', 'Class 4', 'Class 6', 'Class 3', 'Class 5', 'Class 4', 'Class 4', 'Class 5', 'Class 1', 'Class 4', 'Class 4', 'Class 4', 'Class 4', 'Class 5', 'Class 6', 'Class 5', 'Class 4', 'Class 1', 'Class 7', 'Class 1', 'Class 5', 'Class 4', 'Class 5', 'Class 4', 'Class 4', 'Class 1', 'Class 4', 'Class 4', 'Class 2', 'Class 4', 'Class 4', 'Class 4', 'Class 4', 'Class 4', 'Class 4', 'Class 6', 'Class 5', 'Class 2', 'Class 4', 'Class 4', 'Class 4', 'Class 1', 'Class 5', 'Class 8', 'Class 1', 'Class 3', 'Class 6', 'Class 4', 'Class 4', 'Class 5', 'Class 5', 'Class 1', 'Class 1', 'Class 4', 'Class 4', 'Class 1', 'Class 3', 'Class 7', 'Class 4', 'Class 8', 'Class 4', 'Class 6', 'Class 1', 'Class 5', 'Class 4', 'Class 4', 'Class 4', 'Class 4', 'Class 4', 'Class 4', 'Class 2', 'Class 7', 'Class 4', 'Class 4', 'Class 4', 'Class 2', 'Class 4', 'Class 6', 'Class 4', 'Class 4', 'Class 4', 'Class 4', 'Class 1', 'Class 7', 'Class 6', 'Class 4', 'Class 4', 'Class 4', 'Class 2', 'Class 4', 'Class 1', 'Class 2', 'Class 7', 'Class 4', 'Class 4', 'Class 4', 'Class 4', 'Class 5', 'Class 4', 'Class 4', 'Class 4', 'Class 1', 'Class 4', 'Class 4', 'Class 1', 'Class 4', 'Class 4', 'Class 4', 'Class 7', 'Class 4', 'Class 6', 'Class 4', 'Class 4', 'Class 5', 'Class 4', 'Class 5', 'Class 4', 'Class 7', 'Class 1', 'Class 2', 'Class 7', 'Class 6', 'Class 4', 'Class 4', 'Class 3', 'Class 3', 'Class 1', 'Class 5', 'Class 4', 'Class 4', 'Class 1', 'Class 5', 'Class 6', 'Class 7', 'Class 4', 'Class 6', 'Class 1', 'Class 3', 'Class 8', 'Class 2', 'Class 5', 'Class 4', 'Class 3', 'Class 8', 'Class 4', 'Class 6', 'Class 4', 'Class 4', 'Class 4', 'Class 6', 'Class 4', 'Class 2', 'Class 4', 'Class 3', 'Class 1', 'Class 4', 'Class 4', 'Class 4', 'Class 1', 'Class 4', 'Class 4', 'Class 6', 'Class 6', 'Class 4', 'Class 4', 'Class 4', 'Class 4', 'Class 4', 'Class 7', 'Class 6', 'Class 1', 'Class 4', 'Class 4', 'Class 6', 'Class 2', 'Class 4', 'Class 4', 'Class 5', 'Class 4', 'Class 4', 'Class 7', 'Class 4', 'Class 6', 'Class 6', 'Class 2', 'Class 4', 'Class 4', 'Class 7', 'Class 4', 'Class 4', 'Class 3', 'Class 1', 'Class 4', 'Class 5', 'Class 1', 'Class 6', 'Class 4', 'Class 4', 'Class 6', 'Class 5', 'Class 7', 'Class 4', 'Class 4', 'Class 4', 'Class 5', 'Class 4', 'Class 4', 'Class 4', 'Class 4', 'Class 2', 'Class 4', 'Class 4', 'Class 7', 'Class 4', 'Class 4', 'Class 4', 'Class 4', 'Class 1', 'Class 4', 'Class 6', 'Class 5', 'Class 4', 'Class 4', 'Class 4', 'Class 2', 'Class 4', 'Class 3', 'Class 1', 'Class 2', 'Class 4', 'Class 4', 'Class 4', 'Class 1', 'Class 1', 'Class 4', 'Class 4', 'Class 2', 'Class 1', 'Class 7', 'Class 5', 'Class 4', 'Class 4', 'Class 1', 'Class 4', 'Class 4', 'Class 4', 'Class 1', 'Class 5', 'Class 4', 'Class 4', 'Class 1', 'Class 4', 'Class 4', 'Class 5', 'Class 4', 'Class 4', 'Class 5', 'Class 4', 'Class 4', 'Class 7', 'Class 2', 'Class 5', 'Class 4', 'Class 4', 'Class 4', 'Class 4', 'Class 4', 'Class 4', 'Class 1', 'Class 4', 'Class 2', 'Class 2', 'Class 4', 'Class 4', 'Class 4', 'Class 4', 'Class 4', 'Class 6', 'Class 6', 'Class 4', 'Class 4', 'Class 7', 'Class 6', 'Class 7', 'Class 1', 'Class 6', 'Class 4', 'Class 2', 'Class 8', 'Class 4', 'Class 5', 'Class 4', 'Class 4', 'Class 7', 'Class 1', 'Class 4', 'Class 6', 'Class 6', 'Class 4', 'Class 4', 'Class 5', 'Class 4', 'Class 4', 'Class 6', 'Class 4', 'Class 6', 'Class 4', 'Class 1', 'Class 4', 'Class 1', 'Class 4', 'Class 4', 'Class 1', 'Class 1', 'Class 4', 'Class 1', 'Class 4', 'Class 6', 'Class 7', 'Class 5', 'Class 4', 'Class 1', 'Class 4', 'Class 6', 'Class 8', 'Class 6', 'Class 1', 'Class 7', 'Class 4', 'Class 4', 'Class 3', 'Class 6', 'Class 7', 'Class 2', 'Class 6', 'Class 4', 'Class 4', 'Class 1', 'Class 4', 'Class 1', 'Class 4', 'Class 4', 'Class 7', 'Class 3', 'Class 7', 'Class 5', 'Class 3', 'Class 7', 'Class 4', 'Class 4', 'Class 4', 'Class 4', 'Class 1', 'Class 5', 'Class 4', 'Class 8', 'Class 4', 'Class 6', 'Class 5', 'Class 6', 'Class 2', 'Class 7', 'Class 4', 'Class 5', 'Class 4', 'Class 3', 'Class 4', 'Class 4', 'Class 4', 'Class 5', 'Class 7', 'Class 4', 'Class 4', 'Class 5', 'Class 4', 'Class 4', 'Class 6', 'Class 4', 'Class 4', 'Class 6', 'Class 4', 'Class 4', 'Class 4', 'Class 5', 'Class 2', 'Class 4', 'Class 1', 'Class 2', 'Class 6', 'Class 4', 'Class 7', 'Class 4', 'Class 4', 'Class 4', 'Class 4', 'Class 1', 'Class 4', 'Class 6', 'Class 4', 'Class 4', 'Class 4', 'Class 4', 'Class 4', 'Class 4', 'Class 4', 'Class 4', 'Class 1', 'Class 6', 'Class 1', 'Class 4', 'Class 4', 'Class 4', 'Class 4', 'Class 4', 'Class 8', 'Class 2', 'Class 6', 'Class 1', 'Class 5', 'Class 1', 'Class 4', 'Class 4', 'Class 4', 'Class 6', 'Class 5', 'Class 4', 'Class 2', 'Class 4', 'Class 4', 'Class 4', 'Class 4', 'Class 4', 'Class 1', 'Class 4', 'Class 4', 'Class 4', 'Class 4', 'Class 4', 'Class 1', 'Class 4', 'Class 8', 'Class 6', 'Class 4', 'Class 4', 'Class 4', 'Class 4', 'Class 6', 'Class 2', 'Class 4', 'Class 6', 'Class 3', 'Class 1', 'Class 4', 'Class 6', 'Class 4', 'Class 4', 'Class 5', 'Class 5', 'Class 5', 'Class 4', 'Class 2', 'Class 6', 'Class 7', 'Class 3', 'Class 6', 'Class 6', 'Class 4', 'Class 4', 'Class 4', 'Class 2', 'Class 2', 'Class 4', 'Class 4', 'Class 4', 'Class 5', 'Class 4', 'Class 4', 'Class 4', 'Class 4', 'Class 1', 'Class 2', 'Class 1', 'Class 4', 'Class 6', 'Class 4', 'Class 2', 'Class 4', 'Class 4', 'Class 4', 'Class 4', 'Class 4', 'Class 1', 'Class 5', 'Class 6', 'Class 1', 'Class 2', 'Class 4', 'Class 1', 'Class 4', 'Class 4', 'Class 4', 'Class 2', 'Class 4', 'Class 4', 'Class 5', 'Class 6', 'Class 4', 'Class 4', 'Class 2', 'Class 4', 'Class 2', 'Class 4', 'Class 4', 'Class 4', 'Class 5', 'Class 3', 'Class 4', 'Class 4', 'Class 4', 'Class 6', 'Class 4', 'Class 1', 'Class 4', 'Class 4', 'Class 5', 'Class 1', 'Class 4', 'Class 4', 'Class 5', 'Class 5', 'Class 6', 'Class 4', 'Class 4', 'Class 4', 'Class 4', 'Class 2', 'Class 4', 'Class 7', 'Class 4', 'Class 4', 'Class 4', 'Class 4', 'Class 4', 'Class 4', 'Class 5', 'Class 1', 'Class 2', 'Class 4', 'Class 4', 'Class 4', 'Class 4', 'Class 1', 'Class 4', 'Class 4', 'Class 4', 'Class 5', 'Class 7', 'Class 4', 'Class 4', 'Class 4', 'Class 4', 'Class 4', 'Class 4', 'Class 4', 'Class 4', 'Class 4', 'Class 4', 'Class 5', 'Class 4', 'Class 4', 'Class 4', 'Class 4', 'Class 2', 'Class 4', 'Class 4', 'Class 1', 'Class 4', 'Class 7', 'Class 5', 'Class 1', 'Class 4', 'Class 1', 'Class 4', 'Class 4', 'Class 5', 'Class 6', 'Class 5', 'Class 4', 'Class 4', 'Class 1', 'Class 7', 'Class 7', 'Class 4', 'Class 4', 'Class 4', 'Class 1', 'Class 4', 'Class 4', 'Class 7', 'Class 4', 'Class 4', 'Class 4', 'Class 4', 'Class 4', 'Class 4', 'Class 4', 'Class 4', 'Class 4', 'Class 7', 'Class 4', 'Class 4', 'Class 4', 'Class 2', 'Class 4', 'Class 4', 'Class 4', 'Class 4', 'Class 4', 'Class 2', 'Class 1', 'Class 4', 'Class 4', 'Class 6', 'Class 2', 'Class 6', 'Class 4', 'Class 2', 'Class 4', 'Class 4', 'Class 4', 'Class 4', 'Class 4', 'Class 4', 'Class 4', 'Class 1', 'Class 4', 'Class 7', 'Class 5', 'Class 2', 'Class 4', 'Class 4', 'Class 3', 'Class 4', 'Class 3', 'Class 2', 'Class 4', 'Class 5', 'Class 7', 'Class 4', 'Class 4', 'Class 2', 'Class 4', 'Class 4', 'Class 4', 'Class 4', 'Class 4', 'Class 4', 'Class 4', 'Class 4', 'Class 6', 'Class 5', 'Class 4', 'Class 1', 'Class 4', 'Class 7', 'Class 3', 'Class 4', 'Class 1', 'Class 4', 'Class 5', 'Class 4', 'Class 4', 'Class 4', 'Class 4', 'Class 4', 'Class 4', 'Class 4', 'Class 4', 'Class 6', 'Class 4', 'Class 6', 'Class 5', 'Class 4', 'Class 5', 'Class 5', 'Class 4', 'Class 5', 'Class 4', 'Class 4', 'Class 4', 'Class 4', 'Class 4', 'Class 4', 'Class 4', 'Class 4', 'Class 4', 'Class 1', 'Class 6', 'Class 4', 'Class 4', 'Class 4', 'Class 4', 'Class 7', 'Class 4', 'Class 4', 'Class 6', 'Class 2', 'Class 1', 'Class 4', 'Class 2', 'Class 4', 'Class 4', 'Class 4', 'Class 1', 'Class 3', 'Class 5', 'Class 4', 'Class 1', 'Class 4', 'Class 5', 'Class 4', 'Class 4', 'Class 1', 'Class 4', 'Class 5', 'Class 6', 'Class 6', 'Class 4', 'Class 4', 'Class 4', 'Class 4', 'Class 1', 'Class 1', 'Class 4', 'Class 3', 'Class 5', 'Class 4', 'Class 1', 'Class 1', 'Class 4', 'Class 6', 'Class 7', 'Class 4', 'Class 4', 'Class 4', 'Class 6', 'Class 6', 'Class 3', 'Class 7', 'Class 3', 'Class 4', 'Class 2', 'Class 4', 'Class 6', 'Class 4', 'Class 7', 'Class 2', 'Class 4', 'Class 4', 'Class 1', 'Class 5', 'Class 4', 'Class 4', 'Class 5', 'Class 4', 'Class 4', 'Class 6', 'Class 4', 'Class 4', 'Class 6', 'Class 4', 'Class 1', 'Class 7', 'Class 6', 'Class 5', 'Class 4', 'Class 6', 'Class 6', 'Class 4', 'Class 1', 'Class 4', 'Class 1', 'Class 5', 'Class 4', 'Class 4', 'Class 1', 'Class 4', 'Class 4', 'Class 4', 'Class 4', 'Class 2', 'Class 4', 'Class 4', 'Class 1', 'Class 4', 'Class 6', 'Class 4', 'Class 5', 'Class 4', 'Class 1', 'Class 2', 'Class 4', 'Class 1', 'Class 8', 'Class 4', 'Class 4', 'Class 1', 'Class 5', 'Class 5', 'Class 4', 'Class 4', 'Class 4', 'Class 4', 'Class 7', 'Class 4', 'Class 1', 'Class 6', 'Class 6', 'Class 4', 'Class 4', 'Class 4', 'Class 4', 'Class 1', 'Class 6', 'Class 2', 'Class 4', 'Class 4', 'Class 6', 'Class 1', 'Class 6', 'Class 2', 'Class 3', 'Class 4', 'Class 4', 'Class 5', 'Class 1', 'Class 4', 'Class 4', 'Class 4', 'Class 4', 'Class 1', 'Class 4', 'Class 6', 'Class 7', 'Class 4', 'Class 4', 'Class 5', 'Class 4', 'Class 4', 'Class 4', 'Class 7', 'Class 4', 'Class 4', 'Class 4', 'Class 1', 'Class 2', 'Class 4', 'Class 4', 'Class 3', 'Class 1', 'Class 3', 'Class 7', 'Class 6', 'Class 5', 'Class 6', 'Class 4', 'Class 1', 'Class 4', 'Class 1', 'Class 5', 'Class 7', 'Class 4', 'Class 4', 'Class 1', 'Class 5', 'Class 5', 'Class 5', 'Class 5', 'Class 4', 'Class 7', 'Class 1', 'Class 6', 'Class 4', 'Class 4', 'Class 2', 'Class 4', 'Class 4', 'Class 4', 'Class 4', 'Class 5', 'Class 4', 'Class 4', 'Class 4', 'Class 4', 'Class 4', 'Class 4', 'Class 2', 'Class 2', 'Class 4', 'Class 3', 'Class 4', 'Class 4', 'Class 3', 'Class 6', 'Class 4', 'Class 3', 'Class 4', 'Class 6', 'Class 4', 'Class 1', 'Class 4', 'Class 4', 'Class 6', 'Class 5', 'Class 4', 'Class 1', 'Class 1', 'Class 4', 'Class 4', 'Class 6', 'Class 4', 'Class 4', 'Class 4', 'Class 4', 'Class 4', 'Class 4', 'Class 4', 'Class 4', 'Class 2', 'Class 5', 'Class 4', 'Class 4', 'Class 1', 'Class 4', 'Class 5', 'Class 4', 'Class 6', 'Class 4', 'Class 3', 'Class 4', 'Class 1', 'Class 4', 'Class 4', 'Class 4', 'Class 4', 'Class 4', 'Class 4', 'Class 4', 'Class 1', 'Class 4', 'Class 4', 'Class 2', 'Class 4', 'Class 6', 'Class 4', 'Class 4', 'Class 4', 'Class 4', 'Class 4', 'Class 4', 'Class 4', 'Class 4', 'Class 6', 'Class 6', 'Class 4', 'Class 4', 'Class 7', 'Class 1', 'Class 3', 'Class 3', 'Class 4', 'Class 1', 'Class 5', 'Class 1', 'Class 8', 'Class 7', 'Class 4', 'Class 2', 'Class 4', 'Class 2', 'Class 4', 'Class 4', 'Class 4', 'Class 6', 'Class 6', 'Class 6', 'Class 2', 'Class 1', 'Class 2', 'Class 5', 'Class 4', 'Class 2', 'Class 4', 'Class 1', 'Class 3', 'Class 4', 'Class 4', 'Class 4', 'Class 7', 'Class 4', 'Class 4', 'Class 5', 'Class 7', 'Class 1', 'Class 4', 'Class 7', 'Class 1', 'Class 4', 'Class 1', 'Class 4', 'Class 2', 'Class 4', 'Class 7', 'Class 2', 'Class 4', 'Class 4', 'Class 7', 'Class 6', 'Class 4', 'Class 5', 'Class 5', 'Class 5', 'Class 4', 'Class 4', 'Class 4', 'Class 1', 'Class 4', 'Class 4', 'Class 4', 'Class 4', 'Class 5', 'Class 4', 'Class 1', 'Class 4', 'Class 4', 'Class 4', 'Class 1', 'Class 4', 'Class 1', 'Class 5', 'Class 4', 'Class 4', 'Class 1', 'Class 4', 'Class 6', 'Class 4', 'Class 4', 'Class 5', 'Class 7', 'Class 4', 'Class 3', 'Class 4', 'Class 5', 'Class 4', 'Class 4', 'Class 3', 'Class 3', 'Class 4', 'Class 4', 'Class 4', 'Class 4', 'Class 4', 'Class 4', 'Class 4', 'Class 5', 'Class 2', 'Class 6', 'Class 1', 'Class 6', 'Class 4', 'Class 4', 'Class 4', 'Class 1', 'Class 4', 'Class 4', 'Class 4', 'Class 4', 'Class 2', 'Class 7', 'Class 4', 'Class 6', 'Class 5', 'Class 4', 'Class 7', 'Class 3', 'Class 4', 'Class 4', 'Class 4', 'Class 4', 'Class 2', 'Class 4', 'Class 5', 'Class 2', 'Class 7', 'Class 4', 'Class 4', 'Class 2', 'Class 4', 'Class 7', 'Class 1', 'Class 4', 'Class 4', 'Class 1', 'Class 4', 'Class 7', 'Class 6', 'Class 4', 'Class 4', 'Class 4', 'Class 1', 'Class 4', 'Class 6', 'Class 5', 'Class 3', 'Class 4', 'Class 1', 'Class 4', 'Class 4', 'Class 4', 'Class 4', 'Class 2', 'Class 5', 'Class 4', 'Class 4', 'Class 4', 'Class 4', 'Class 6', 'Class 4', 'Class 1', 'Class 4', 'Class 1', 'Class 4', 'Class 4', 'Class 2', 'Class 4', 'Class 6', 'Class 4', 'Class 4', 'Class 7', 'Class 4', 'Class 1', 'Class 4', 'Class 2', 'Class 4', 'Class 4', 'Class 2', 'Class 6', 'Class 7', 'Class 6', 'Class 6', 'Class 4', 'Class 4', 'Class 4', 'Class 4', 'Class 4', 'Class 7', 'Class 4', 'Class 4', 'Class 4', 'Class 4', 'Class 4', 'Class 4', 'Class 2', 'Class 5', 'Class 4', 'Class 1', 'Class 3', 'Class 4', 'Class 5', 'Class 4', 'Class 4', 'Class 4', 'Class 2', 'Class 4', 'Class 7', 'Class 4', 'Class 3', 'Class 1', 'Class 3', 'Class 6', 'Class 4', 'Class 4', 'Class 6', 'Class 5', 'Class 1', 'Class 4', 'Class 4', 'Class 4', 'Class 3', 'Class 4', 'Class 2', 'Class 4', 'Class 1', 'Class 4', 'Class 4', 'Class 4', 'Class 4', 'Class 4', 'Class 2', 'Class 1', 'Class 6', 'Class 5', 'Class 6', 'Class 5', 'Class 4', 'Class 4', 'Class 4', 'Class 4', 'Class 7', 'Class 4', 'Class 4', 'Class 4', 'Class 4', 'Class 1', 'Class 7', 'Class 4', 'Class 4', 'Class 4', 'Class 4', 'Class 4', 'Class 6', 'Class 4', 'Class 2', 'Class 5', 'Class 4', 'Class 1', 'Class 4', 'Class 1', 'Class 4', 'Class 4', 'Class 4', 'Class 7', 'Class 4', 'Class 5', 'Class 6', 'Class 4', 'Class 4', 'Class 4', 'Class 4', 'Class 4', 'Class 1', 'Class 4', 'Class 5', 'Class 4', 'Class 1', 'Class 5', 'Class 7', 'Class 4', 'Class 7', 'Class 4', 'Class 7', 'Class 4', 'Class 4', 'Class 7', 'Class 4', 'Class 4', 'Class 1', 'Class 4', 'Class 4', 'Class 3', 'Class 5', 'Class 2', 'Class 4', 'Class 6', 'Class 5', 'Class 4', 'Class 4', 'Class 5', 'Class 4', 'Class 4', 'Class 6', 'Class 5', 'Class 4', 'Class 4', 'Class 4', 'Class 1', 'Class 4', 'Class 8', 'Class 4', 'Class 4', 'Class 4', 'Class 4', 'Class 5', 'Class 1', 'Class 4', 'Class 2', 'Class 4', 'Class 6', 'Class 4', 'Class 4', 'Class 3', 'Class 4', 'Class 4', 'Class 2', 'Class 5', 'Class 4', 'Class 7', 'Class 1', 'Class 4', 'Class 4', 'Class 4', 'Class 4', 'Class 2', 'Class 4', 'Class 6', 'Class 1', 'Class 3', 'Class 4', 'Class 6', 'Class 4', 'Class 4', 'Class 4', 'Class 1', 'Class 1', 'Class 4', 'Class 1', 'Class 4', 'Class 4', 'Class 4', 'Class 4', 'Class 2', 'Class 4', 'Class 4', 'Class 1', 'Class 2', 'Class 3', 'Class 4', 'Class 4', 'Class 6', 'Class 4', 'Class 4', 'Class 4', 'Class 4', 'Class 4', 'Class 4', 'Class 8', 'Class 4', 'Class 5', 'Class 1', 'Class 4', 'Class 6', 'Class 4', 'Class 7', 'Class 4', 'Class 4', 'Class 4', 'Class 4', 'Class 2', 'Class 4', 'Class 4', 'Class 3', 'Class 4', 'Class 4', 'Class 4', 'Class 3', 'Class 4', 'Class 6', 'Class 2', 'Class 4', 'Class 3', 'Class 7', 'Class 7', 'Class 4', 'Class 4', 'Class 4', 'Class 4', 'Class 4', 'Class 4', 'Class 4', 'Class 1', 'Class 5', 'Class 4', 'Class 4', 'Class 1', 'Class 4', 'Class 4', 'Class 4', 'Class 4', 'Class 6', 'Class 4', 'Class 2', 'Class 4', 'Class 1', 'Class 4', 'Class 1', 'Class 5', 'Class 5', 'Class 4', 'Class 1', 'Class 4', 'Class 1', 'Class 4', 'Class 4', 'Class 4', 'Class 5', 'Class 7', 'Class 4', 'Class 4', 'Class 4', 'Class 4', 'Class 5', 'Class 6', 'Class 6', 'Class 4', 'Class 7', 'Class 6', 'Class 4', 'Class 1', 'Class 4', 'Class 4', 'Class 4', 'Class 7', 'Class 1', 'Class 4', 'Class 1', 'Class 4', 'Class 4', 'Class 1', 'Class 5', 'Class 4', 'Class 4', 'Class 1', 'Class 5', 'Class 4', 'Class 4', 'Class 4', 'Class 4', 'Class 4', 'Class 4', 'Class 4', 'Class 3', 'Class 4', 'Class 4', 'Class 4', 'Class 4', 'Class 4', 'Class 4', 'Class 4', 'Class 4', 'Class 4', 'Class 7', 'Class 4', 'Class 4', 'Class 4', 'Class 4', 'Class 4', 'Class 4', 'Class 1', 'Class 2', 'Class 4', 'Class 4', 'Class 4', 'Class 4', 'Class 4']\n"
          ]
        }
      ]
    },
    {
      "cell_type": "code",
      "source": [
        "print(np.unique(y_resampled))"
      ],
      "metadata": {
        "colab": {
          "base_uri": "https://localhost:8080/"
        },
        "id": "Fmbtg17h4f2M",
        "outputId": "a95150d5-255b-4749-dc4e-d4c3057521bd"
      },
      "execution_count": null,
      "outputs": [
        {
          "output_type": "stream",
          "name": "stdout",
          "text": [
            "['female' 'male']\n"
          ]
        }
      ]
    },
    {
      "cell_type": "markdown",
      "source": [
        "# **Training the grid_search model and predicting the labels**"
      ],
      "metadata": {
        "id": "CbLfYnsUpiD8"
      }
    },
    {
      "cell_type": "code",
      "source": [
        "\n",
        "y_pred=grid_search.predict(X_test)\n",
        "# Predict on the test data\n",
        "# y_pred = best_model.predict(X_test)\n",
        "# Predict probabilities on the test data\n",
        "# print(y_pred)\n",
        "# y_pred_classes = y_pred.argmax(axis=1)\n",
        "# print(y_pred_classes.shape)\n",
        "\n",
        "# Evaluate the model\n",
        "print(classification_report(y_test, y_pred))\n",
        "\n",
        "# Confusion Matrix\n",
        "cm = confusion_matrix(y_test, y_pred)\n",
        "plt.figure(figsize=(8, 8))\n",
        "#sns.heatmap(confusion_matrix, annot=True, fmt='d', cmap='Blues', xticklabels=np.unique(y_test), yticklabels=np.unique(y_test))\n",
        "plt.imshow(cm, interpolation='nearest', cmap=plt.cm.Blues)\n",
        "plt.title('Confusion Matrix')\n",
        "plt.colorbar()\n",
        "plt.xlabel('Predicted Label')\n",
        "plt.ylabel('True Label')\n",
        "plt.show()\n",
        "\n"
      ],
      "metadata": {
        "colab": {
          "base_uri": "https://localhost:8080/",
          "height": 959
        },
        "id": "xR8lyGlHEGUq",
        "outputId": "37501009-9a13-4df2-c0a4-3db38126cbd7"
      },
      "execution_count": null,
      "outputs": [
        {
          "output_type": "stream",
          "name": "stderr",
          "text": [
            "/usr/local/lib/python3.10/dist-packages/sklearn/utils/_tags.py:354: FutureWarning: The LGBMClassifier or classes from which it inherits use `_get_tags` and `_more_tags`. Please define the `__sklearn_tags__` method, or inherit from `sklearn.base.BaseEstimator` and/or other appropriate mixins such as `sklearn.base.TransformerMixin`, `sklearn.base.ClassifierMixin`, `sklearn.base.RegressorMixin`, and `sklearn.base.OutlierMixin`. From scikit-learn 1.7, not defining `__sklearn_tags__` will raise an error.\n",
            "  warnings.warn(\n",
            "/usr/local/lib/python3.10/dist-packages/sklearn/utils/deprecation.py:151: FutureWarning: 'force_all_finite' was renamed to 'ensure_all_finite' in 1.6 and will be removed in 1.8.\n",
            "  warnings.warn(\n"
          ]
        },
        {
          "output_type": "stream",
          "name": "stdout",
          "text": [
            "              precision    recall  f1-score   support\n",
            "\n",
            "           0       0.49      0.77      0.60      2018\n",
            "           1       0.53      0.46      0.49       927\n",
            "           2       0.50      0.24      0.33       670\n",
            "           3       0.45      0.28      0.34       802\n",
            "           4       0.33      0.01      0.01       359\n",
            "\n",
            "    accuracy                           0.50      4776\n",
            "   macro avg       0.46      0.35      0.35      4776\n",
            "weighted avg       0.48      0.50      0.45      4776\n",
            "\n"
          ]
        },
        {
          "output_type": "display_data",
          "data": {
            "text/plain": [
              "<Figure size 800x800 with 2 Axes>"
            ],
            "image/png": "[encoded data removed]"
          },
          "metadata": {}
        }
      ]
    },
    {
      "cell_type": "code",
      "source": [
        "# Define a mapping of numbers to labels\n",
        "labels = {\n",
        "    0: 'White',\n",
        "    1: 'Black',\n",
        "    2: 'Asian',\n",
        "    3: 'Indian',\n",
        "    4: 'Others'\n",
        "}\n",
        "\n",
        "# Create a new array with corresponding labels\n",
        "y_test_labels = np.vectorize(labels.get)(y_test)\n",
        "y_pred_classes_labels= np.vectorize(labels.get)(y_pred)\n",
        "\n",
        "#print(y_test_labels)\n",
        "#print(y_pred_classes_labels)\n",
        "print(classification_report(y_test_labels,y_pred_classes_labels))"
      ],
      "metadata": {
        "colab": {
          "base_uri": "https://localhost:8080/"
        },
        "id": "jOTSC9JKqdLg",
        "outputId": "01a601e7-822f-4c50-c382-ae8d43aa8fcf"
      },
      "execution_count": null,
      "outputs": [
        {
          "output_type": "stream",
          "name": "stdout",
          "text": [
            "              precision    recall  f1-score   support\n",
            "\n",
            "       Asian       0.50      0.24      0.33       670\n",
            "       Black       0.53      0.46      0.49       927\n",
            "      Indian       0.45      0.28      0.34       802\n",
            "      Others       0.33      0.01      0.01       359\n",
            "       White       0.49      0.77      0.60      2018\n",
            "\n",
            "    accuracy                           0.50      4776\n",
            "   macro avg       0.46      0.35      0.35      4776\n",
            "weighted avg       0.48      0.50      0.45      4776\n",
            "\n"
          ]
        }
      ]
    },
    {
      "cell_type": "markdown",
      "source": [
        "# **Generating a csv file containing the name of each image and its predicted label**"
      ],
      "metadata": {
        "id": "68R48a0vsB2s"
      }
    },
    {
      "cell_type": "code",
      "source": [
        "# Get a list of image filenames\n",
        "#ethnicity\n",
        "# image_filenames = os.listdir(\"/content/splitted_dataset/eyes/test\")\n",
        "#gender\n",
        "# image_filenames = os.listdir(\"/content/splitted_by_gender/eyes/test\")\n",
        "#age\n",
        "image_filenames = os.listdir(\"/content/splitted_by_age/eyes/test\")\n",
        "\n",
        "# Create a DataFrame with image names and predicted labels\n",
        "df = pd.DataFrame({'Image_Name': image_filenames, 'Predicted_Label': y_pred_classes})\n",
        "\n",
        "# Save the DataFrame ethnicity to a CSV file\n",
        "# df.to_csv(\"predictions_ethnicity_eyes.csv\", index=False)\n",
        "# Save the DataFrame gender to a CSV file\n",
        "#df.to_csv(\"predictions_gender_eyes.csv\", index=False)\n",
        "# Save the DataFrame age to a CSV file\n",
        "df.to_csv(\"predictions_age_eyes.csv\", index=False)"
      ],
      "metadata": {
        "id": "CshaCUQWqGVc"
      },
      "execution_count": 80,
      "outputs": []
    },
    {
      "cell_type": "markdown",
      "metadata": {
        "id": "OrKeqodUFhTd"
      },
      "source": [
        "# **MOUTH TRAINING AND TEST VALIDATION**"
      ]
    },
    {
      "cell_type": "code",
      "execution_count": 81,
      "metadata": {
        "id": "a14sgbrBFe_y"
      },
      "outputs": [],
      "source": [
        "#Initiliaze the dataset\n",
        "#gender\n",
        "# full_train_dataset = EthnicityDataset(root_dir=\"/content/splitted_by_gender/mouth/train\")\n",
        "# test_dataset = EthnicityDataset(root_dir=\"/content/splitted_by_gender/mouth/test\")\n",
        "#age\n",
        "full_train_dataset = EthnicityDataset(root_dir=\"/content/splitted_by_age/mouth/train\")\n",
        "test_dataset = EthnicityDataset(root_dir=\"/content/splitted_by_age/mouth/test\")\n",
        "\n",
        "\n",
        "\n",
        "\n",
        "# Extract features for all images in one line\n",
        "X_train= extract_lbp_features(full_train_dataset)\n",
        "y_train = full_train_dataset.labels\n",
        "\n",
        "y_test=test_dataset.labels\n",
        "X_test = extract_lbp_features(test_dataset)"
      ]
    },
    {
      "cell_type": "markdown",
      "source": [
        "# **Sampling procedure on the dataset**"
      ],
      "metadata": {
        "id": "6RPfq7VOu1D-"
      }
    },
    {
      "cell_type": "code",
      "source": [
        "# ros = RandomOverSampler(sampling_strategy={2: 3500, 3: 3500, 4: 3000}, random_state=42)\n",
        "# rus = RandomUnderSampler(sampling_strategy={0: 5000}, random_state=42)\n",
        "# # Apply oversampling\n",
        "# X_resampled, y_resampled = ros.fit_resample(X_train, y_train)\n",
        "# X_resampled, y_resampled = rus.fit_resample(X_resampled, y_resampled)"
      ],
      "metadata": {
        "id": "Oqw9kkaUu1D-"
      },
      "execution_count": null,
      "outputs": []
    },
    {
      "cell_type": "markdown",
      "source": [
        "# **Changing the weights on the training set and producing the datasets for the models**\n",
        "\n",
        "---\n",
        "\n"
      ],
      "metadata": {
        "id": "Eq5DEAfKukYt"
      }
    },
    {
      "cell_type": "code",
      "source": [
        "X_resampled=X_train\n",
        "y_resampled=y_train\n",
        "class_weights = compute_class_weight('balanced',  classes=np.unique(y_resampled), y=y_resampled, majority_class_weight_factor=2.5)\n",
        "#class_weights = compute_class_weight('balanced', classes=np.unique(y_train), )\n",
        "# Create class weights array for each sample\n",
        "class_weights = np.array([class_weights[label] for label in y_resampled])"
      ],
      "metadata": {
        "id": "EMNFSbSfukYt",
        "colab": {
          "base_uri": "https://localhost:8080/"
        },
        "outputId": "3cfe4dc4-016b-44d5-8fe2-197698e0e881"
      },
      "execution_count": 82,
      "outputs": [
        {
          "output_type": "stream",
          "name": "stdout",
          "text": [
            "[1594  786 1155 8127 3172 2939  580   68]\n"
          ]
        }
      ]
    },
    {
      "cell_type": "code",
      "source": [
        "\n",
        "#X_resampled, y_resampled\n",
        "train_data = lgb.Dataset(X_resampled, label=y_resampled,weight=class_weights)\n",
        "test_data = lgb.Dataset(X_test, label=y_test,free_raw_data=False)\n",
        "\n",
        "# Ensure X_train and y_train are valid NumPy arrays\n",
        "if not isinstance(X_resampled, np.ndarray) or not isinstance(y_train, np.ndarray):\n",
        "    raise ValueError(\"X_train and y_train must be NumPy arrays\")\n",
        "# Check for empty training data\n",
        "if len(X_resampled) == 0:\n",
        "    raise ValueError(\"X_train cannot be empty\")"
      ],
      "metadata": {
        "id": "v3HOKdBxESEA"
      },
      "execution_count": 83,
      "outputs": []
    },
    {
      "cell_type": "markdown",
      "source": [
        "# **Using GridSearchCV to tune the hyperparameters**"
      ],
      "metadata": {
        "id": "y5OBOE4yu-6H"
      }
    },
    {
      "cell_type": "code",
      "execution_count": null,
      "metadata": {
        "colab": {
          "base_uri": "https://localhost:8080/"
        },
        "outputId": "cb2ead53-7ac3-42f2-a93d-949beacbfd1b",
        "id": "_SrCSiqqu-6H"
      },
      "outputs": [
        {
          "output_type": "stream",
          "name": "stderr",
          "text": [
            "/usr/local/lib/python3.10/dist-packages/sklearn/utils/_tags.py:354: FutureWarning: The LGBMClassifier or classes from which it inherits use `_get_tags` and `_more_tags`. Please define the `__sklearn_tags__` method, or inherit from `sklearn.base.BaseEstimator` and/or other appropriate mixins such as `sklearn.base.TransformerMixin`, `sklearn.base.ClassifierMixin`, `sklearn.base.RegressorMixin`, and `sklearn.base.OutlierMixin`. From scikit-learn 1.7, not defining `__sklearn_tags__` will raise an error.\n",
            "  warnings.warn(\n",
            "/usr/local/lib/python3.10/dist-packages/sklearn/utils/deprecation.py:151: FutureWarning: 'force_all_finite' was renamed to 'ensure_all_finite' in 1.6 and will be removed in 1.8.\n",
            "  warnings.warn(\n"
          ]
        },
        {
          "output_type": "stream",
          "name": "stdout",
          "text": [
            "Best parameters: {'colsample_bytree': 0.8, 'learning_rate': 0.05, 'max_depth': 3, 'n_estimators': 200, 'num_leaves': 31, 'subsample': 0.8}\n"
          ]
        }
      ],
      "source": [
        "# Define the parameter grid for Grid Search\n",
        "param_grid = {\n",
        "    'learning_rate': [0.05, 0.1, 0.15],\n",
        "    'n_estimators': [100, 200, 300],\n",
        "    'max_depth': [3, 5, 7],\n",
        "    'num_leaves': [31, 63, 127],\n",
        "    'subsample': [0.8, 0.9],\n",
        "    'colsample_bytree': [0.8, 0.9]\n",
        "}\n",
        "\n",
        "# Create a LightGBM classifier\n",
        "model = lgb.LGBMClassifier(\n",
        "    objective='multiclass',\n",
        "    num_class=len(np.unique(y_resampled)),\n",
        "    metric='multi_logloss',\n",
        "    verbose=-1\n",
        ")\n",
        "\n",
        "# Create a GridSearchCV object\n",
        "grid_search = GridSearchCV(estimator=model,\n",
        "                          param_grid=param_grid,\n",
        "                          cv=2,\n",
        "                          scoring='accuracy',\n",
        "                          n_jobs=-1)\n",
        "# Fit the GridSearchCV object to the training data\n",
        "grid_search.fit(X_train, y_train)\n",
        "\n",
        "# Print the best parameters\n",
        "print(f\"Best parameters: {grid_search.best_params_}\")\n",
        "\n",
        "# params = {\n",
        "#     'objective': 'multiclass',  # Adjust for your specific task\n",
        "#     'num_class': len(np.unique(y_resampled)),# Number of classes in your dataset\n",
        "#     'metric': 'multi_logloss',\n",
        "#     'learning_rate':  0.07,\n",
        "#     'num_leaves': 31,\n",
        "#     'max_depth': 6,\n",
        "#     'boosting_type': 'gbdt',\n",
        "#     'verbose': -1,\n",
        "#     'feature_fraction': 0.8\n",
        "#     # ... other hyperparameters\n",
        "# }\n",
        "# num_round=110\n",
        "# #GridSearchCV to tune the hyperparameters\n",
        "# model = lgb.train(params,\n",
        "#                  train_data,\n",
        "#                  num_round,\n",
        "#                  valid_sets=[train_data,test_data],\n",
        "#                  callbacks=[lgb.early_stopping(stopping_rounds=10), lgb.log_evaluation(period=10)])\n",
        "\n",
        "# kfold = KFold(n_splits=5, shuffle=True, random_state=42)\n",
        "\n",
        "# for fold, (train_index, val_index) in enumerate(kfold.split(X_resampled, y_resampled)):\n",
        "#     X_train, X_val = X_resampled[train_index], X_resampled[val_index]\n",
        "#     y_train, y_val = y_resampled[train_index], y_resampled[val_index]\n",
        "\n",
        "#     train_data = lgb.Dataset(X_train, label=y_train)\n",
        "#     val_data = lgb.Dataset(X_val, label=y_val)\n",
        "\n",
        "#     model = lgb.train(params,\n",
        "#                       train_data,\n",
        "#                       num_round,\n",
        "#                       valid_sets=[train_data, val_data],\n",
        "#                       callbacks=[lgb.early_stopping(stopping_rounds=10), lgb.log_evaluation(period=10)])\n",
        "\n",
        "#     y_pred = model.predict(X_val, num_iteration=model.best_iteration)\n",
        "#     y_pred_classes = y_pred.argmax(axis=1)\n",
        "\n",
        "#     # Evaluate the model on the validation fold\n",
        "#     print(f\"Fold {fold+1} Classification Report:\")\n",
        "#     print(classification_report(y_val, y_pred_classes))\n",
        "\n",
        "# y_pred = model.predict(X_test, num_iteration=model.best_iteration)\n",
        "# y_pred_classes = y_pred.argmax(axis=1)\n",
        "# # Evaluate the model\n",
        "# print(classification_report(y_test, y_pred_classes))\n"
      ]
    },
    {
      "cell_type": "code",
      "source": [
        "#Best parameters: {'colsample_bytree': 0.8, 'learning_rate': 0.05, 'max_depth': 5, 'n_estimators': 200, 'num_leaves': 63, 'subsample': 0.8}"
      ],
      "metadata": {
        "id": "mnDG-MuFu-6H"
      },
      "execution_count": null,
      "outputs": []
    },
    {
      "cell_type": "markdown",
      "source": [
        "# **Training the model on the newly found hyperparameters and predicting the labels**"
      ],
      "metadata": {
        "id": "vcj-dYr9vPlM"
      }
    },
    {
      "cell_type": "code",
      "source": [
        "# Define the parameter grid for Grid Search\n",
        "bst_prms= {\n",
        "    'objective': 'multiclass',\n",
        "    'num_class': len(np.unique(y_resampled)),\n",
        "    'metric': 'multi_logloss',\n",
        "    'learning_rate': 0.05,\n",
        "    'n_estimators': 200,\n",
        "    'max_depth': 5,\n",
        "    'num_leaves': 63,\n",
        "    'subsample': 0.8,\n",
        "    'colsample_bytree': 0.8,\n",
        "    'verbose': -1\n",
        "}\n",
        "num_round=200\n",
        "model = lgb.train(bst_prms,\n",
        "                 train_data,\n",
        "                 num_round,\n",
        "                 valid_sets=test_data,\n",
        "                 callbacks=[lgb.early_stopping(stopping_rounds=10), lgb.log_evaluation(period=10)])\n",
        "# y_pred = model.predict(X_test, num_iteration=model.best_iteration)\n",
        "# y_pred_classes = y_pred.argmax(axis=1)\n",
        "# label_map = {0: \"male\", 1: \"female\"}  # Assuming 0 represents \"male\" and 1 represents \"female\"\n",
        "# y_pred_classes = [label_map[i] for i in y_pred_classes]\n",
        "# #age\n",
        "y_pred = model.predict(X_test, num_iteration=model.best_iteration)\n",
        "y_pred_probs = y_pred  # Store probabilities for potential later use\n",
        "\n",
        "# Get predicted class indices\n",
        "y_pred_classes = y_pred.argmax(axis=1)\n",
        "\n",
        "# Define label_map (mapping integer labels to class names)\n",
        "label_map = {\n",
        "    0: \"Class 1\",\n",
        "    1: \"Class 2\",\n",
        "    2: \"Class 3\",\n",
        "    3: \"Class 4\",\n",
        "    4: \"Class 5\",\n",
        "    5: \"Class 6\",\n",
        "    6: \"Class 7\",\n",
        "    7: \"Class 8\",\n",
        "}\n",
        "\n",
        "# Map predicted class indices to class names\n",
        "y_pred_classes = [label_map[i] for i in y_pred_classes]\n",
        "\n",
        "# Map true labels to class names (assuming y_test contains integer labels)\n",
        "y_test = [label_map[i] for i in y_test]\n",
        "\n",
        "# Evaluate the model\n",
        "print(classification_report(y_test, y_pred_classes))\n",
        "#stops here\n"
      ],
      "metadata": {
        "colab": {
          "base_uri": "https://localhost:8080/"
        },
        "outputId": "a19de355-df6f-494f-c2b1-4a5f5a21a345",
        "id": "A3EUdPsWvPlN"
      },
      "execution_count": 84,
      "outputs": [
        {
          "output_type": "stream",
          "name": "stderr",
          "text": [
            "/usr/local/lib/python3.10/dist-packages/lightgbm/engine.py:204: UserWarning: Found `n_estimators` in params. Will use it instead of argument\n",
            "  _log_warning(f\"Found `{alias}` in params. Will use it instead of argument\")\n"
          ]
        },
        {
          "output_type": "stream",
          "name": "stdout",
          "text": [
            "Training until validation scores don't improve for 10 rounds\n",
            "[10]\tvalid_0's multi_logloss: 1.71393\n",
            "[20]\tvalid_0's multi_logloss: 1.65285\n",
            "[30]\tvalid_0's multi_logloss: 1.62084\n",
            "[40]\tvalid_0's multi_logloss: 1.59858\n",
            "[50]\tvalid_0's multi_logloss: 1.58414\n",
            "[60]\tvalid_0's multi_logloss: 1.5737\n",
            "[70]\tvalid_0's multi_logloss: 1.56509\n",
            "[80]\tvalid_0's multi_logloss: 1.55754\n",
            "[90]\tvalid_0's multi_logloss: 1.55215\n",
            "[100]\tvalid_0's multi_logloss: 1.5478\n",
            "[110]\tvalid_0's multi_logloss: 1.54454\n",
            "[120]\tvalid_0's multi_logloss: 1.54194\n",
            "[130]\tvalid_0's multi_logloss: 1.53938\n",
            "[140]\tvalid_0's multi_logloss: 1.53676\n",
            "[150]\tvalid_0's multi_logloss: 1.53429\n",
            "[160]\tvalid_0's multi_logloss: 1.53177\n",
            "[170]\tvalid_0's multi_logloss: 1.5302\n",
            "[180]\tvalid_0's multi_logloss: 1.52875\n",
            "[190]\tvalid_0's multi_logloss: 1.52655\n",
            "[200]\tvalid_0's multi_logloss: 1.52485\n",
            "Did not meet early stopping. Best iteration is:\n",
            "[200]\tvalid_0's multi_logloss: 1.52485\n",
            "              precision    recall  f1-score   support\n",
            "\n",
            "     Class 1       0.38      0.31      0.34       399\n",
            "     Class 2       0.20      0.21      0.21       197\n",
            "     Class 3       0.10      0.04      0.05       277\n",
            "     Class 4       0.53      0.83      0.65      2044\n",
            "     Class 5       0.28      0.06      0.10       794\n",
            "     Class 6       0.39      0.16      0.23       735\n",
            "     Class 7       0.19      0.36      0.25       149\n",
            "     Class 8       0.04      0.07      0.05        15\n",
            "\n",
            "    accuracy                           0.45      4610\n",
            "   macro avg       0.26      0.25      0.23      4610\n",
            "weighted avg       0.40      0.45      0.39      4610\n",
            "\n"
          ]
        }
      ]
    },
    {
      "cell_type": "code",
      "source": [
        "y_test = [label_map[i] for i in y_test]\n",
        "print(y_test)\n",
        "# Evaluate the model\n",
        "print(classification_report(y_test, y_pred_classes))\n",
        "\n",
        "# Confusion Matrix\n",
        "cm = confusion_matrix(y_test,y_pred_classes)\n",
        "plt.figure(figsize=(8, 8))\n",
        "#sns.heatmap(confusion_matrix, annot=True, fmt='d', cmap='Blues', xticklabels=np.unique(y_test), yticklabels=np.unique(y_test))\n",
        "plt.imshow(cm, interpolation='nearest', cmap=plt.cm.Blues)\n",
        "plt.title('Confusion Matrix')\n",
        "plt.colorbar()\n",
        "plt.xlabel('Predicted Label')\n",
        "plt.ylabel('True Label')\n",
        "plt.show()"
      ],
      "metadata": {
        "colab": {
          "base_uri": "https://localhost:8080/",
          "height": 847
        },
        "id": "piy6xYSYFB5p",
        "outputId": "95cb754c-c6a4-4ef5-aeab-bfac45c5329d"
      },
      "execution_count": 49,
      "outputs": [
        {
          "output_type": "stream",
          "name": "stdout",
          "text": [
            "['female', 'male', 'female', 'male', 'male', 'male', 'female', 'female', 'female', 'male', 'female', 'female', 'female', 'male', 'male', 'male', 'male', 'male', 'female', 'male', 'male', 'male', 'male', 'male', 'female', 'female', 'female', 'female', 'male', 'male', 'female', 'female', 'female', 'male', 'female', 'female', 'male', 'female', 'male', 'female', 'female', 'female', 'male', 'male', 'male', 'male', 'female', 'female', 'male', 'male', 'male', 'female', 'male', 'female', 'male', 'female', 'female', 'male', 'female', 'male', 'female', 'male', 'female', 'female', 'female', 'male', 'male', 'female', 'female', 'female', 'female', 'female', 'female', 'male', 'female', 'male', 'male', 'male', 'male', 'male', 'male', 'female', 'male', 'male', 'male', 'male', 'male', 'male', 'male', 'female', 'male', 'male', 'female', 'male', 'female', 'male', 'male', 'female', 'female', 'male', 'male', 'female', 'female', 'male', 'male', 'male', 'male', 'male', 'male', 'male', 'male', 'female', 'male', 'male', 'male', 'male', 'male', 'female', 'male', 'female', 'female', 'male', 'female', 'female', 'female', 'female', 'female', 'female', 'female', 'female', 'female', 'male', 'male', 'male', 'female', 'female', 'female', 'male', 'female', 'male', 'female', 'male', 'female', 'male', 'male', 'female', 'female', 'male', 'male', 'male', 'female', 'male', 'female', 'female', 'female', 'female', 'male', 'male', 'female', 'female', 'male', 'female', 'male', 'male', 'male', 'male', 'male', 'female', 'male', 'female', 'female', 'male', 'male', 'male', 'male', 'female', 'male', 'male', 'male', 'female', 'male', 'male', 'male', 'male', 'female', 'male', 'female', 'male', 'female', 'female', 'female', 'female', 'male', 'male', 'female', 'male', 'female', 'male', 'female', 'female', 'female', 'male', 'male', 'male', 'female', 'female', 'female', 'male', 'female', 'female', 'female', 'male', 'female', 'female', 'male', 'female', 'female', 'female', 'female', 'female', 'female', 'male', 'female', 'male', 'male', 'male', 'female', 'female', 'male', 'male', 'female', 'female', 'female', 'male', 'male', 'female', 'male', 'male', 'female', 'female', 'female', 'male', 'male', 'female', 'male', 'male', 'male', 'male', 'female', 'male', 'male', 'male', 'male', 'male', 'male', 'female', 'male', 'female', 'male', 'male', 'female', 'male', 'female', 'female', 'male', 'female', 'female', 'female', 'male', 'male', 'male', 'female', 'male', 'male', 'female', 'male', 'male', 'male', 'male', 'male', 'female', 'male', 'female', 'female', 'male', 'male', 'female', 'male', 'female', 'female', 'female', 'male', 'male', 'female', 'male', 'male', 'male', 'male', 'female', 'female', 'female', 'male', 'male', 'male', 'female', 'female', 'female', 'female', 'male', 'male', 'female', 'male', 'male', 'male', 'female', 'male', 'male', 'female', 'female', 'female', 'male', 'male', 'female', 'female', 'female', 'female', 'male', 'female', 'female', 'female', 'female', 'male', 'male', 'male', 'male', 'male', 'male', 'male', 'male', 'female', 'male', 'male', 'male', 'female', 'female', 'male', 'female', 'male', 'female', 'male', 'male', 'male', 'male', 'male', 'male', 'male', 'female', 'male', 'female', 'male', 'male', 'female', 'female', 'male', 'female', 'male', 'male', 'female', 'female', 'male', 'female', 'male', 'male', 'female', 'male', 'female', 'female', 'female', 'male', 'male', 'female', 'female', 'male', 'female', 'male', 'male', 'female', 'male', 'female', 'female', 'male', 'male', 'male', 'female', 'male', 'male', 'female', 'female', 'male', 'male', 'male', 'male', 'female', 'male', 'male', 'female', 'female', 'male', 'male', 'male', 'female', 'male', 'female', 'female', 'female', 'male', 'male', 'male', 'female', 'female', 'male', 'male', 'female', 'female', 'female', 'female', 'female', 'female', 'female', 'female', 'male', 'male', 'female', 'female', 'male', 'female', 'male', 'male', 'male', 'male', 'male', 'male', 'male', 'female', 'female', 'female', 'female', 'male', 'female', 'male', 'female', 'female', 'male', 'male', 'female', 'female', 'male', 'female', 'female', 'male', 'female', 'female', 'male', 'male', 'male', 'male', 'female', 'male', 'female', 'male', 'male', 'female', 'female', 'female', 'female', 'male', 'male', 'male', 'female', 'male', 'female', 'male', 'female', 'male', 'female', 'male', 'female', 'female', 'male', 'male', 'female', 'female', 'female', 'male', 'female', 'female', 'male', 'male', 'female', 'female', 'male', 'female', 'male', 'female', 'female', 'female', 'female', 'male', 'male', 'male', 'female', 'female', 'male', 'male', 'male', 'male', 'male', 'female', 'female', 'female', 'female', 'female', 'male', 'male', 'male', 'male', 'male', 'female', 'male', 'female', 'male', 'female', 'male', 'female', 'female', 'female', 'female', 'male', 'male', 'male', 'female', 'female', 'male', 'female', 'female', 'female', 'male', 'female', 'male', 'female', 'male', 'male', 'male', 'male', 'male', 'female', 'male', 'male', 'male', 'female', 'female', 'female', 'male', 'male', 'female', 'male', 'male', 'male', 'male', 'female', 'male', 'male', 'male', 'male', 'male', 'female', 'female', 'male', 'female', 'male', 'female', 'male', 'male', 'female', 'female', 'female', 'male', 'female', 'female', 'male', 'male', 'female', 'female', 'male', 'female', 'female', 'male', 'female', 'female', 'male', 'female', 'female', 'male', 'male', 'male', 'male', 'female', 'female', 'female', 'male', 'female', 'male', 'female', 'male', 'female', 'male', 'female', 'male', 'female', 'male', 'male', 'female', 'male', 'female', 'female', 'female', 'female', 'male', 'female', 'male', 'male', 'male', 'male', 'female', 'female', 'male', 'male', 'female', 'male', 'female', 'female', 'male', 'male', 'female', 'male', 'male', 'female', 'female', 'male', 'female', 'female', 'female', 'male', 'male', 'male', 'male', 'male', 'female', 'male', 'male', 'female', 'male', 'male', 'female', 'female', 'male', 'male', 'female', 'male', 'male', 'female', 'male', 'male', 'male', 'female', 'male', 'male', 'male', 'male', 'female', 'female', 'female', 'male', 'female', 'male', 'male', 'male', 'male', 'male', 'female', 'female', 'female', 'male', 'female', 'male', 'male', 'female', 'female', 'male', 'female', 'female', 'female', 'male', 'male', 'male', 'female', 'female', 'female', 'male', 'male', 'male', 'male', 'female', 'female', 'male', 'female', 'female', 'male', 'female', 'female', 'female', 'male', 'male', 'female', 'male', 'female', 'female', 'female', 'male', 'female', 'female', 'female', 'male', 'female', 'male', 'female', 'male', 'female', 'male', 'female', 'female', 'male', 'male', 'male', 'female', 'female', 'male', 'male', 'female', 'male', 'female', 'female', 'female', 'female', 'male', 'male', 'female', 'female', 'male', 'male', 'male', 'male', 'male', 'female', 'male', 'female', 'female', 'male', 'female', 'male', 'female', 'male', 'male', 'female', 'female', 'male', 'male', 'female', 'female', 'female', 'female', 'male', 'male', 'male', 'male', 'female', 'male', 'female', 'female', 'male', 'male', 'male', 'male', 'male', 'male', 'female', 'female', 'female', 'female', 'female', 'female', 'male', 'male', 'male', 'male', 'male', 'male', 'male', 'male', 'female', 'male', 'female', 'male', 'male', 'female', 'female', 'female', 'female', 'male', 'male', 'female', 'female', 'female', 'female', 'male', 'female', 'male', 'male', 'female', 'male', 'male', 'male', 'male', 'male', 'female', 'male', 'male', 'female', 'male', 'male', 'female', 'male', 'male', 'female', 'male', 'male', 'female', 'female', 'female', 'male', 'male', 'male', 'male', 'female', 'female', 'male', 'male', 'female', 'female', 'male', 'female', 'male', 'male', 'male', 'female', 'male', 'male', 'male', 'male', 'male', 'female', 'male', 'female', 'female', 'male', 'male', 'male', 'female', 'male', 'female', 'female', 'male', 'male', 'male', 'male', 'male', 'male', 'male', 'male', 'female', 'female', 'female', 'male', 'female', 'female', 'male', 'female', 'male', 'female', 'female', 'male', 'male', 'male', 'female', 'male', 'female', 'male', 'female', 'female', 'female', 'female', 'male', 'female', 'male', 'female', 'male', 'male', 'male', 'male', 'female', 'female', 'male', 'female', 'female', 'female', 'female', 'male', 'male', 'male', 'female', 'female', 'female', 'female', 'male', 'female', 'male', 'male', 'male', 'female', 'male', 'male', 'female', 'female', 'male', 'male', 'female', 'female', 'female', 'male', 'male', 'female', 'female', 'female', 'male', 'female', 'male', 'female', 'male', 'female', 'female', 'male', 'male', 'male', 'female', 'female', 'female', 'male', 'male', 'male', 'male', 'male', 'male', 'male', 'male', 'male', 'male', 'male', 'male', 'female', 'female', 'female', 'female', 'male', 'male', 'male', 'female', 'male', 'male', 'male', 'female', 'female', 'male', 'male', 'female', 'male', 'female', 'female', 'male', 'male', 'male', 'male', 'male', 'female', 'female', 'male', 'male', 'female', 'female', 'male', 'female', 'male', 'male', 'female', 'female', 'male', 'female', 'male', 'male', 'male', 'male', 'male', 'male', 'female', 'male', 'male', 'male', 'male', 'male', 'male', 'male', 'male', 'male', 'male', 'male', 'female', 'male', 'male', 'male', 'male', 'male', 'male', 'female', 'female', 'female', 'female', 'female', 'female', 'male', 'female', 'female', 'female', 'female', 'male', 'female', 'male', 'female', 'male', 'male', 'female', 'male', 'male', 'male', 'female', 'female', 'female', 'female', 'female', 'male', 'female', 'male', 'male', 'male', 'male', 'female', 'female', 'female', 'male', 'male', 'male', 'male', 'male', 'female', 'male', 'female', 'female', 'female', 'male', 'male', 'male', 'female', 'female', 'male', 'male', 'female', 'male', 'female', 'male', 'male', 'male', 'male', 'female', 'male', 'male', 'female', 'male', 'male', 'female', 'female', 'male', 'male', 'female', 'female', 'female', 'female', 'male', 'male', 'female', 'male', 'female', 'male', 'male', 'male', 'male', 'female', 'male', 'female', 'male', 'male', 'male', 'male', 'female', 'female', 'female', 'female', 'male', 'female', 'female', 'male', 'female', 'female', 'female', 'female', 'female', 'male', 'female', 'male', 'female', 'female', 'female', 'female', 'male', 'female', 'male', 'male', 'male', 'male', 'male', 'male', 'male', 'female', 'female', 'female', 'female', 'female', 'female', 'female', 'male', 'female', 'male', 'male', 'male', 'female', 'female', 'female', 'male', 'male', 'male', 'female', 'male', 'male', 'male', 'female', 'male', 'female', 'male', 'female', 'female', 'female', 'female', 'male', 'male', 'male', 'male', 'male', 'male', 'female', 'male', 'female', 'male', 'male', 'female', 'male', 'female', 'male', 'female', 'male', 'male', 'female', 'male', 'male', 'female', 'male', 'male', 'male', 'female', 'female', 'female', 'male', 'male', 'female', 'female', 'female', 'male', 'female', 'female', 'female', 'male', 'male', 'male', 'female', 'female', 'female', 'female', 'male', 'female', 'male', 'female', 'female', 'male', 'female', 'male', 'male', 'male', 'male', 'female', 'male', 'female', 'male', 'female', 'female', 'female', 'female', 'male', 'male', 'female', 'female', 'female', 'male', 'male', 'female', 'male', 'male', 'male', 'male', 'male', 'female', 'male', 'male', 'female', 'male', 'male', 'male', 'male', 'male', 'female', 'male', 'male', 'female', 'female', 'female', 'female', 'female', 'female', 'female', 'male', 'male', 'male', 'female', 'male', 'female', 'female', 'female', 'male', 'male', 'female', 'male', 'female', 'male', 'male', 'female', 'male', 'male', 'male', 'female', 'male', 'male', 'male', 'female', 'male', 'female', 'female', 'male', 'male', 'female', 'male', 'male', 'female', 'male', 'male', 'female', 'female', 'male', 'female', 'female', 'male', 'female', 'female', 'female', 'male', 'female', 'male', 'male', 'male', 'female', 'female', 'female', 'female', 'female', 'female', 'female', 'female', 'male', 'male', 'female', 'male', 'male', 'male', 'female', 'male', 'female', 'female', 'female', 'male', 'female', 'female', 'male', 'male', 'male', 'male', 'female', 'female', 'female', 'male', 'female', 'male', 'female', 'female', 'female', 'male', 'female', 'male', 'male', 'female', 'male', 'male', 'male', 'female', 'male', 'male', 'female', 'female', 'female', 'male', 'male', 'female', 'male', 'male', 'female', 'female', 'female', 'male', 'male', 'male', 'female', 'male', 'male', 'female', 'male', 'female', 'female', 'male', 'male', 'female', 'male', 'female', 'male', 'female', 'female', 'male', 'male', 'male', 'female', 'male', 'male', 'male', 'female', 'male', 'female', 'male', 'female', 'female', 'male', 'female', 'female', 'male', 'male', 'female', 'male', 'male', 'male', 'female', 'female', 'male', 'female', 'male', 'male', 'male', 'male', 'female', 'male', 'female', 'male', 'female', 'female', 'female', 'female', 'male', 'male', 'male', 'female', 'male', 'female', 'male', 'female', 'female', 'male', 'female', 'female', 'female', 'male', 'female', 'female', 'female', 'female', 'female', 'female', 'female', 'male', 'male', 'male', 'female', 'female', 'male', 'male', 'female', 'male', 'female', 'male', 'male', 'male', 'male', 'male', 'male', 'female', 'female', 'male', 'male', 'female', 'male', 'male', 'male', 'male', 'male', 'male', 'male', 'female', 'female', 'male', 'male', 'male', 'female', 'male', 'female', 'male', 'female', 'female', 'male', 'male', 'female', 'male', 'male', 'female', 'male', 'female', 'male', 'female', 'male', 'male', 'female', 'male', 'female', 'male', 'female', 'female', 'female', 'female', 'male', 'male', 'female', 'male', 'female', 'male', 'male', 'female', 'male', 'male', 'female', 'male', 'male', 'female', 'male', 'female', 'male', 'female', 'female', 'female', 'female', 'female', 'female', 'male', 'male', 'male', 'female', 'female', 'male', 'female', 'female', 'male', 'female', 'female', 'male', 'male', 'male', 'female', 'female', 'male', 'female', 'male', 'female', 'male', 'female', 'female', 'male', 'female', 'female', 'female', 'female', 'female', 'female', 'male', 'male', 'male', 'female', 'female', 'female', 'female', 'male', 'male', 'male', 'female', 'male', 'male', 'male', 'male', 'male', 'female', 'male', 'male', 'male', 'male', 'female', 'female', 'female', 'female', 'female', 'male', 'female', 'male', 'female', 'male', 'male', 'female', 'male', 'female', 'male', 'male', 'female', 'female', 'female', 'female', 'female', 'female', 'male', 'male', 'female', 'female', 'female', 'male', 'female', 'female', 'female', 'female', 'male', 'male', 'female', 'female', 'female', 'male', 'male', 'male', 'male', 'female', 'male', 'female', 'female', 'female', 'male', 'male', 'female', 'female', 'male', 'male', 'male', 'male', 'female', 'male', 'female', 'male', 'female', 'female', 'female', 'female', 'female', 'female', 'male', 'male', 'female', 'male', 'male', 'female', 'female', 'male', 'female', 'male', 'female', 'female', 'male', 'male', 'female', 'female', 'male', 'female', 'male', 'female', 'male', 'male', 'male', 'male', 'male', 'male', 'male', 'male', 'male', 'male', 'female', 'female', 'female', 'female', 'female', 'male', 'male', 'female', 'female', 'male', 'male', 'male', 'female', 'male', 'female', 'male', 'female', 'female', 'female', 'female', 'female', 'female', 'male', 'female', 'male', 'male', 'female', 'female', 'female', 'male', 'male', 'male', 'male', 'male', 'male', 'male', 'male', 'male', 'male', 'female', 'female', 'male', 'male', 'male', 'male', 'male', 'female', 'male', 'male', 'female', 'female', 'female', 'male', 'male', 'female', 'male', 'male', 'female', 'male', 'female', 'female', 'female', 'female', 'female', 'female', 'male', 'male', 'female', 'male', 'female', 'female', 'female', 'male', 'female', 'female', 'male', 'male', 'male', 'male', 'female', 'female', 'female', 'female', 'male', 'male', 'male', 'female', 'male', 'female', 'female', 'female', 'male', 'male', 'female', 'male', 'male', 'male', 'male', 'female', 'male', 'male', 'female', 'female', 'female', 'male', 'male', 'male', 'male', 'female', 'female', 'female', 'female', 'male', 'male', 'female', 'female', 'female', 'male', 'male', 'male', 'male', 'female', 'female', 'male', 'female', 'female', 'male', 'female', 'female', 'female', 'female', 'female', 'female', 'male', 'female', 'male', 'female', 'female', 'male', 'male', 'male', 'female', 'female', 'female', 'female', 'male', 'male', 'female', 'male', 'male', 'female', 'male', 'male', 'female', 'female', 'female', 'male', 'male', 'female', 'male', 'male', 'male', 'female', 'female', 'female', 'male', 'female', 'male', 'female', 'male', 'male', 'female', 'male', 'female', 'female', 'female', 'female', 'female', 'male', 'female', 'male', 'female', 'female', 'female', 'male', 'male', 'male', 'male', 'female', 'female', 'male', 'male', 'male', 'male', 'male', 'male', 'female', 'male', 'male', 'female', 'male', 'male', 'male', 'female', 'male', 'female', 'female', 'female', 'female', 'female', 'male', 'male', 'male', 'female', 'male', 'male', 'female', 'female', 'male', 'male', 'female', 'male', 'female', 'female', 'male', 'male', 'male', 'female', 'female', 'female', 'male', 'male', 'male', 'male', 'female', 'male', 'male', 'female', 'female', 'female', 'female', 'female', 'male', 'female', 'female', 'female', 'male', 'male', 'male', 'female', 'female', 'male', 'female', 'female', 'male', 'female', 'male', 'female', 'female', 'male', 'male', 'female', 'male', 'male', 'male', 'female', 'male', 'male', 'male', 'female', 'female', 'male', 'female', 'female', 'female', 'female', 'female', 'female', 'female', 'female', 'male', 'female', 'female', 'female', 'female', 'male', 'female', 'male', 'male', 'male', 'female', 'male', 'male', 'male', 'female', 'male', 'male', 'male', 'female', 'male', 'female', 'male', 'male', 'male', 'female', 'female', 'female', 'female', 'male', 'female', 'female', 'female', 'male', 'male', 'female', 'male', 'female', 'male', 'male', 'female', 'male', 'female', 'male', 'male', 'male', 'male', 'male', 'male', 'female', 'male', 'female', 'female', 'male', 'male', 'female', 'male', 'female', 'female', 'female', 'female', 'male', 'female', 'male', 'female', 'female', 'male', 'male', 'female', 'female', 'female', 'female', 'female', 'male', 'male', 'female', 'female', 'male', 'female', 'male', 'male', 'male', 'male', 'female', 'male', 'male', 'female', 'female', 'female', 'male', 'male', 'female', 'male', 'male', 'female', 'male', 'male', 'female', 'female', 'female', 'female', 'female', 'male', 'female', 'female', 'male', 'male', 'male', 'male', 'female', 'male', 'female', 'male', 'male', 'female', 'female', 'male', 'male', 'female', 'male', 'female', 'female', 'female', 'male', 'female', 'female', 'female', 'female', 'female', 'male', 'male', 'male', 'male', 'male', 'female', 'male', 'male', 'male', 'female', 'male', 'female', 'female', 'male', 'male', 'female', 'female', 'female', 'male', 'female', 'male', 'female', 'male', 'male', 'female', 'female', 'female', 'female', 'male', 'female', 'female', 'female', 'female', 'female', 'male', 'male', 'female', 'male', 'female', 'female', 'male', 'female', 'female', 'female', 'female', 'male', 'male', 'male', 'female', 'female', 'male', 'female', 'female', 'female', 'female', 'male', 'male', 'male', 'male', 'female', 'male', 'female', 'male', 'female', 'male', 'female', 'female', 'male', 'female', 'male', 'female', 'male', 'male', 'female', 'female', 'male', 'female', 'female', 'male', 'male', 'female', 'male', 'male', 'male', 'female', 'female', 'female', 'female', 'male', 'male', 'male', 'male', 'female', 'female', 'male', 'female', 'female', 'male', 'male', 'male', 'female', 'male', 'female', 'male', 'female', 'male', 'male', 'male', 'male', 'male', 'female', 'male', 'male', 'male', 'male', 'female', 'male', 'male', 'female', 'male', 'female', 'female', 'male', 'male', 'male', 'female', 'male', 'female', 'male', 'male', 'female', 'male', 'male', 'female', 'female', 'male', 'female', 'male', 'female', 'female', 'female', 'male', 'male', 'male', 'male', 'male', 'male', 'female', 'female', 'male', 'male', 'female', 'female', 'male', 'male', 'female', 'male', 'female', 'male', 'male', 'female', 'female', 'female', 'male', 'male', 'male', 'male', 'male', 'female', 'female', 'male', 'male', 'female', 'female', 'male', 'male', 'female', 'female', 'male', 'male', 'female', 'female', 'male', 'female', 'female', 'female', 'female', 'female', 'female', 'male', 'male', 'female', 'female', 'female', 'female', 'male', 'male', 'male', 'male', 'female', 'male', 'female', 'male', 'male', 'male', 'female', 'female', 'male', 'male', 'female', 'female', 'female', 'female', 'female', 'male', 'male', 'female', 'female', 'male', 'male', 'female', 'male', 'male', 'female', 'male', 'male', 'female', 'male', 'female', 'male', 'female', 'male', 'female', 'male', 'female', 'female', 'female', 'female', 'male', 'female', 'male', 'male', 'female', 'female', 'male', 'male', 'female', 'female', 'male', 'female', 'female', 'female', 'female', 'female', 'male', 'male', 'male', 'male', 'male', 'male', 'female', 'male', 'male', 'male', 'female', 'male', 'female', 'female', 'female', 'male', 'male', 'male', 'female', 'male', 'female', 'male', 'male', 'male', 'female', 'female', 'female', 'female', 'female', 'male', 'male', 'female', 'female', 'female', 'male', 'male', 'male', 'male', 'male', 'male', 'male', 'female', 'female', 'female', 'male', 'male', 'male', 'female', 'female', 'male', 'male', 'male', 'male', 'male', 'female', 'female', 'male', 'female', 'male', 'male', 'female', 'male', 'female', 'female', 'male', 'female', 'female', 'male', 'female', 'male', 'male', 'female', 'female', 'male', 'male', 'female', 'female', 'male', 'female', 'female', 'male', 'male', 'female', 'female', 'male', 'male', 'female', 'male', 'female', 'male', 'female', 'female', 'male', 'female', 'female', 'female', 'male', 'male', 'female', 'male', 'male', 'female', 'male', 'male', 'female', 'male', 'male', 'male', 'female', 'male', 'female', 'male', 'male', 'male', 'male', 'male', 'male', 'male', 'male', 'male', 'male', 'female', 'female', 'male', 'female', 'male', 'female', 'female', 'male', 'male', 'female', 'male', 'female', 'male', 'female', 'female', 'male', 'female', 'male', 'female', 'male', 'male', 'male', 'male', 'male', 'female', 'female', 'female', 'female', 'female', 'female', 'male', 'female', 'female', 'female', 'female', 'female', 'male', 'male', 'male', 'male', 'female', 'female', 'male', 'male', 'male', 'female', 'male', 'female', 'female', 'male', 'female', 'male', 'female', 'male', 'female', 'male', 'male', 'male', 'female', 'male', 'male', 'male', 'male', 'female', 'female', 'male', 'male', 'female', 'female', 'male', 'male', 'female', 'male', 'female', 'female', 'male', 'male', 'female', 'female', 'male', 'female', 'female', 'male', 'female', 'female', 'male', 'male', 'female', 'female', 'male', 'female', 'male', 'male', 'female', 'female', 'male', 'female', 'male', 'female', 'female', 'female', 'female', 'male', 'female', 'male', 'female', 'female', 'male', 'male', 'female', 'female', 'male', 'male', 'male', 'female', 'male', 'female', 'female', 'male', 'male', 'female', 'male', 'male', 'female', 'female', 'male', 'female', 'male', 'male', 'female', 'female', 'male', 'male', 'male', 'male', 'male', 'male', 'female', 'male', 'male', 'male', 'female', 'female', 'male', 'female', 'male', 'female', 'female', 'male', 'female', 'female', 'male', 'female', 'male', 'female', 'male', 'female', 'male', 'male', 'male', 'male', 'male', 'female', 'male', 'male', 'male', 'male', 'female', 'female', 'female', 'female', 'male', 'female', 'male', 'male', 'male', 'female', 'female', 'male', 'female', 'female', 'male', 'female', 'male', 'female', 'female', 'male', 'female', 'female', 'female', 'male', 'female', 'male', 'male', 'female', 'female', 'female', 'male', 'female', 'female', 'male', 'female', 'female', 'male', 'male', 'female', 'male', 'male', 'female', 'female', 'female', 'male', 'male', 'male', 'female', 'male', 'male', 'female', 'female', 'male', 'female', 'female', 'female', 'female', 'male', 'male', 'female', 'male', 'female', 'male', 'male', 'female', 'female', 'male', 'male', 'male', 'female', 'male', 'male', 'female', 'female', 'female', 'female', 'female', 'female', 'male', 'female', 'male', 'female', 'male', 'male', 'male', 'female', 'male', 'female', 'female', 'male', 'female', 'male', 'male', 'male', 'female', 'female', 'male', 'male', 'female', 'female', 'male', 'male', 'male', 'male', 'female', 'male', 'male', 'female', 'female', 'male', 'male', 'female', 'male', 'female', 'male', 'female', 'female', 'male', 'female', 'male', 'female', 'male', 'male', 'female', 'male', 'female', 'female', 'female', 'female', 'female', 'male', 'male', 'female', 'male', 'female', 'male', 'female', 'male', 'female', 'female', 'female', 'male', 'female', 'female', 'male', 'male', 'female', 'male', 'male', 'male', 'male', 'male', 'male', 'female', 'female', 'male', 'female', 'male', 'female', 'male', 'male', 'male', 'male', 'male', 'male', 'male', 'male', 'male', 'male', 'female', 'female', 'male', 'female', 'female', 'female', 'female', 'female', 'female', 'female', 'female', 'male', 'male', 'male', 'male', 'female', 'male', 'female', 'female', 'male', 'male', 'female', 'male', 'male', 'male', 'male', 'female', 'female', 'female', 'male', 'female', 'female', 'female', 'female', 'male', 'female', 'male', 'male', 'female', 'male', 'female', 'female', 'female', 'male', 'female', 'female', 'female', 'female', 'male', 'female', 'male', 'male', 'male', 'female', 'male', 'female', 'female', 'male', 'male', 'female', 'female', 'female', 'male', 'female', 'female', 'male', 'female', 'female', 'male', 'female', 'female', 'male', 'female', 'male', 'male', 'male', 'female', 'female', 'female', 'male', 'female', 'female', 'male', 'female', 'male', 'female', 'female', 'female', 'male', 'female', 'female', 'male', 'male', 'male', 'male', 'female', 'male', 'male', 'female', 'male', 'male', 'male', 'female', 'female', 'female', 'male', 'female', 'female', 'male', 'female', 'female', 'female', 'male', 'male', 'male', 'female', 'male', 'female', 'male', 'female', 'male', 'female', 'male', 'female', 'female', 'male', 'female', 'male', 'female', 'female', 'female', 'male', 'female', 'male', 'male', 'female', 'female', 'female', 'female', 'female', 'male', 'female', 'female', 'female', 'female', 'male', 'female', 'female', 'male', 'male', 'male', 'female', 'male', 'male', 'male', 'female', 'male', 'male', 'female', 'female', 'female', 'female', 'male', 'male', 'male', 'male', 'male', 'female', 'female', 'female', 'male', 'male', 'male', 'male', 'female', 'female', 'male', 'male', 'female', 'male', 'female', 'male', 'male', 'female', 'male', 'male', 'female', 'male', 'male', 'male', 'female', 'female', 'male', 'male', 'female', 'female', 'male', 'female', 'female', 'female', 'male', 'male', 'female', 'female', 'female', 'male', 'male', 'female', 'male', 'male', 'male', 'male', 'female', 'male', 'male', 'male', 'female', 'female', 'female', 'female', 'female', 'female', 'female', 'female', 'male', 'female', 'male', 'female', 'female', 'male', 'male', 'female', 'male', 'male', 'male', 'male', 'male', 'male', 'female', 'male', 'female', 'male', 'female', 'male', 'female', 'male', 'male', 'female', 'female', 'female', 'male', 'male', 'female', 'male', 'male', 'male', 'female', 'male', 'female', 'male', 'male', 'male', 'female', 'male', 'male', 'male', 'female', 'male', 'male', 'female', 'male', 'female', 'female', 'male', 'male', 'female', 'female', 'female', 'male', 'male', 'male', 'male', 'female', 'female', 'male', 'male', 'male', 'male', 'female', 'male', 'female', 'female', 'female', 'female', 'male', 'male', 'female', 'female', 'female', 'male', 'female', 'male', 'male', 'male', 'female', 'female', 'female', 'male', 'female', 'female', 'male', 'male', 'female', 'male', 'female', 'female', 'female', 'male', 'male', 'male', 'male', 'male', 'female', 'male', 'male', 'female', 'male', 'male', 'female', 'male', 'female', 'female', 'male', 'female', 'female', 'female', 'male', 'male', 'male', 'male', 'female', 'female', 'female', 'female', 'male', 'female', 'female', 'female', 'male', 'female', 'female', 'male', 'female', 'female', 'female', 'female', 'male', 'female', 'male', 'female', 'male', 'female', 'female', 'male', 'female', 'female', 'female', 'male', 'male', 'male', 'female', 'male', 'female', 'male', 'female', 'female', 'male', 'male', 'female', 'male', 'male', 'male', 'male', 'female', 'male', 'female', 'male', 'female', 'female', 'male', 'female', 'female', 'male', 'female', 'female', 'male', 'female', 'male', 'female', 'male', 'female', 'female', 'male', 'female', 'male', 'male', 'male', 'male', 'female', 'male', 'female', 'male', 'male', 'male', 'female', 'female', 'female', 'male', 'male', 'female', 'female', 'female', 'male', 'male', 'female', 'male', 'female', 'female', 'male', 'male', 'male', 'male', 'female', 'male', 'male', 'female', 'male', 'male', 'male', 'male', 'female', 'female', 'male', 'male', 'male', 'female', 'female', 'female', 'female', 'male', 'female', 'male', 'male', 'female', 'female', 'female', 'female', 'female', 'female', 'male', 'female', 'male', 'male', 'male', 'male', 'male', 'male', 'male', 'male', 'female', 'male', 'female', 'female', 'female', 'male', 'male', 'female', 'female', 'male', 'female', 'female', 'female', 'male', 'female', 'female', 'female', 'male', 'male', 'female', 'female', 'female', 'male', 'female', 'female', 'female', 'male', 'female', 'female', 'male', 'male', 'female', 'male', 'female', 'male', 'male', 'female', 'male', 'female', 'female', 'female', 'male', 'female', 'female', 'male', 'male', 'female', 'female', 'female', 'male', 'male', 'male', 'female', 'male', 'male', 'female', 'male', 'female', 'male', 'male', 'male', 'female', 'male', 'male', 'male', 'female', 'male', 'male', 'male', 'female', 'female', 'female', 'female', 'male', 'female', 'male', 'male', 'female', 'female', 'female', 'female', 'male', 'female', 'female', 'female', 'male', 'male', 'female', 'female', 'male', 'female', 'female', 'male', 'male', 'female', 'female', 'female', 'female', 'female', 'female', 'female', 'female', 'male', 'male', 'female', 'male', 'female', 'female', 'female', 'male', 'male', 'female', 'male', 'male', 'male', 'male', 'male', 'female', 'female', 'male', 'female', 'male', 'male', 'male', 'male', 'male', 'male', 'male', 'female', 'male', 'female', 'female', 'female', 'male', 'male', 'female', 'male', 'male', 'male', 'female', 'female', 'male', 'male', 'female', 'male', 'male', 'female', 'male', 'female', 'female', 'female', 'female', 'male', 'female', 'male', 'male', 'male', 'male', 'female', 'female', 'male', 'female', 'male', 'male', 'female', 'male', 'female', 'male', 'male', 'male', 'male', 'male', 'male', 'female', 'female', 'male', 'female', 'female', 'male', 'female', 'female', 'female', 'male', 'male', 'male', 'female', 'female', 'male', 'female', 'male', 'female', 'female', 'male', 'male', 'female', 'female', 'male', 'male', 'female', 'female', 'female', 'female', 'male', 'male', 'male', 'male', 'female', 'male', 'female', 'female', 'male', 'male', 'female', 'female', 'female', 'male', 'male', 'male', 'female', 'female', 'female', 'female', 'male', 'female', 'male', 'female', 'female', 'male', 'male', 'female', 'male', 'female', 'female', 'male', 'female', 'female', 'female', 'female', 'female', 'female', 'male', 'male', 'male', 'female', 'female', 'female', 'female', 'male', 'male', 'male', 'female', 'male', 'female', 'male', 'male', 'female', 'male', 'female', 'female', 'female', 'male', 'male', 'male', 'male', 'female', 'male', 'male', 'male', 'male', 'male', 'female', 'female', 'male', 'female', 'male', 'female', 'male', 'male', 'male', 'male', 'male', 'male', 'female', 'male', 'male', 'male', 'male', 'male', 'male', 'female', 'female', 'male', 'male', 'male', 'male', 'male', 'male', 'female', 'male', 'male', 'male', 'male', 'female', 'female', 'male', 'male', 'male', 'male', 'male', 'male', 'male', 'female', 'male', 'male', 'female', 'female', 'male', 'male', 'male', 'male', 'female', 'male', 'male', 'female', 'male', 'male', 'male', 'female', 'female', 'female', 'male', 'male', 'female', 'female', 'male', 'male', 'female', 'male', 'female', 'male', 'female', 'female', 'male', 'male', 'male', 'male', 'female', 'female', 'male', 'male', 'female', 'female', 'male', 'male', 'male', 'female', 'male', 'male', 'male', 'male', 'male', 'female', 'male', 'male', 'female', 'female', 'female', 'male', 'male', 'female', 'male', 'male', 'male', 'male', 'female', 'male', 'female', 'female', 'female', 'male', 'female', 'female', 'female', 'male', 'male', 'female', 'female', 'female', 'male', 'female', 'female', 'male', 'female', 'female', 'female', 'female', 'male', 'male', 'male', 'female', 'female', 'female', 'male', 'male', 'female', 'male', 'female', 'female', 'male', 'female', 'female', 'male', 'male', 'female', 'female', 'female', 'male', 'male', 'male', 'male', 'male', 'female', 'male', 'male', 'female', 'male', 'male', 'male', 'female', 'female', 'male', 'male', 'female', 'male', 'male', 'female', 'female', 'male', 'male', 'male', 'male', 'male', 'female', 'male', 'male', 'female', 'male', 'female', 'female', 'female', 'female', 'male', 'female', 'male', 'male', 'female', 'male', 'female', 'female', 'female', 'male', 'female', 'male', 'female', 'male', 'male', 'male', 'male', 'male', 'male', 'male', 'male', 'female', 'female', 'male', 'female', 'male', 'male', 'female', 'female', 'male', 'female', 'male', 'female', 'female', 'male', 'male', 'female', 'male', 'male', 'male', 'female', 'female', 'male', 'female', 'male', 'male', 'female', 'female', 'female', 'female', 'female', 'male', 'male', 'male', 'female', 'female', 'female', 'female', 'male', 'female', 'male', 'male', 'male', 'female', 'male', 'male', 'female', 'male', 'male', 'male', 'female', 'male', 'male', 'male', 'male', 'female', 'female', 'male', 'male', 'male', 'male', 'male', 'female', 'male', 'male', 'male', 'female', 'female', 'male', 'male', 'female', 'male', 'male', 'male', 'female', 'male', 'female', 'female', 'female', 'female', 'male', 'male', 'male', 'male', 'male', 'male', 'female', 'female', 'male', 'male', 'female', 'female', 'male', 'male', 'male', 'male', 'male', 'male', 'male', 'female', 'male', 'female', 'male', 'female', 'male', 'male', 'male', 'male', 'female', 'female', 'male', 'female', 'male', 'male', 'male', 'female', 'female', 'male', 'female', 'male', 'female', 'female', 'female', 'male', 'female', 'male', 'female', 'male', 'male', 'male', 'female', 'male', 'female', 'male', 'female', 'male', 'male', 'female', 'female', 'male', 'female', 'male', 'female', 'female', 'male', 'male', 'male', 'male', 'male', 'male', 'male', 'female', 'male', 'male', 'female', 'female', 'male', 'female', 'male', 'male', 'female', 'male', 'female', 'male', 'female', 'female', 'male', 'male', 'male', 'male', 'female', 'female', 'female', 'female', 'male', 'male', 'female', 'male', 'female', 'female', 'female', 'female', 'female', 'female', 'female', 'female', 'male', 'female', 'male', 'male', 'female', 'female', 'female', 'male', 'male', 'male', 'male', 'female', 'male', 'male', 'male', 'male', 'female', 'female', 'female', 'female', 'male', 'male', 'female', 'male', 'female', 'male', 'female', 'female', 'female', 'male', 'male', 'male', 'female', 'female', 'female', 'male', 'male', 'male', 'female', 'male', 'male', 'male', 'female', 'male', 'female', 'male', 'male', 'male', 'male', 'female', 'male', 'female', 'female', 'female', 'male', 'female', 'male', 'female', 'female', 'female', 'male', 'female', 'male', 'female', 'female', 'male', 'female', 'male', 'male', 'male', 'male', 'male', 'male', 'female', 'male', 'male', 'female', 'male', 'male', 'female', 'male', 'female', 'male', 'female', 'male', 'female', 'male', 'male', 'female', 'male', 'female', 'male', 'male', 'male', 'male', 'male', 'male', 'male', 'male', 'female', 'male', 'female', 'female', 'male', 'male', 'female', 'male', 'male', 'male', 'male', 'male', 'male', 'male', 'male', 'female', 'male', 'male', 'male', 'male', 'male', 'male', 'female', 'male', 'male', 'male', 'female', 'male', 'male', 'female', 'male', 'male', 'female', 'male', 'male', 'female', 'female', 'female', 'female', 'female', 'female', 'male', 'female', 'female', 'male', 'female', 'female', 'male', 'female', 'male', 'female', 'male', 'female', 'female', 'female', 'male', 'male', 'female', 'female', 'female', 'female', 'female', 'female', 'male', 'male', 'male', 'female', 'female', 'female', 'female', 'female', 'male', 'male', 'female', 'female', 'female', 'female', 'male', 'male', 'male', 'male', 'female', 'male', 'female', 'male', 'female', 'female', 'male', 'female', 'male', 'male', 'female', 'male', 'male', 'male', 'male', 'female', 'female', 'male', 'female', 'female', 'female', 'female', 'male', 'male', 'male', 'male', 'male', 'male', 'male', 'female', 'male', 'male', 'male', 'female', 'male', 'female', 'male', 'male', 'male', 'female', 'female', 'male', 'male', 'female', 'female', 'female', 'male', 'male', 'male', 'male', 'female', 'female', 'male', 'male', 'male', 'male', 'male', 'male', 'female', 'female', 'female', 'male', 'male', 'male', 'male', 'male', 'male', 'female', 'male', 'female', 'female', 'male', 'female', 'male', 'female', 'female', 'male', 'male', 'female', 'female', 'male', 'male', 'female', 'female', 'male', 'female', 'male', 'female', 'female', 'female', 'male', 'female', 'female', 'male', 'female', 'male', 'male', 'female', 'female', 'male', 'female', 'female', 'male', 'female', 'female', 'male', 'female', 'male', 'female', 'male', 'male', 'male', 'male', 'male', 'male', 'female', 'male', 'male', 'male', 'female', 'male', 'female', 'female', 'male', 'male', 'female', 'female', 'male', 'male', 'female', 'female', 'male', 'female', 'female', 'male', 'female', 'male', 'male', 'male', 'female', 'male', 'male', 'male', 'male', 'female', 'male', 'female', 'female', 'female', 'male', 'male', 'male', 'male', 'female', 'male', 'male', 'female', 'female', 'female', 'male', 'female', 'male', 'male', 'female', 'male', 'male', 'female', 'male', 'female', 'female', 'female', 'male', 'male', 'female', 'female', 'female', 'male', 'female', 'female', 'female', 'male', 'male', 'female', 'female', 'male', 'female', 'female', 'male', 'male', 'male', 'male', 'female', 'male', 'female', 'male', 'male', 'male', 'male', 'male', 'female', 'male', 'male', 'female', 'female', 'male', 'female', 'female', 'male', 'female', 'male', 'male', 'female', 'male', 'male', 'female', 'female', 'female', 'male', 'male', 'female', 'male', 'female', 'male', 'female', 'male', 'female', 'female', 'male', 'female', 'male', 'female', 'male', 'female', 'male', 'male', 'male', 'male', 'male', 'female', 'female', 'male', 'female', 'male', 'male', 'female', 'female', 'male', 'female', 'female', 'female', 'male', 'male', 'female', 'female', 'male', 'female', 'female', 'female', 'male', 'female', 'female', 'female', 'female', 'female', 'male', 'male', 'female', 'female', 'male', 'male', 'female', 'male', 'female', 'male', 'female', 'male', 'female', 'female', 'female', 'male', 'female', 'female', 'male', 'male', 'female', 'female', 'male', 'female', 'male', 'male', 'female', 'female', 'female', 'female', 'male', 'female', 'female', 'male', 'male', 'female', 'female', 'female', 'male', 'female', 'female', 'female', 'male', 'female', 'female', 'male', 'male', 'female', 'male', 'female', 'female', 'male', 'female', 'male', 'male', 'male', 'male', 'female', 'male', 'female', 'male', 'male', 'female', 'male', 'female', 'female', 'female', 'male', 'male', 'female', 'male', 'female', 'female', 'male', 'female', 'female', 'male', 'male', 'male', 'female', 'male', 'female', 'female', 'male', 'female', 'female', 'male', 'female', 'male', 'female', 'female', 'female', 'female', 'male', 'female', 'female', 'male', 'male', 'female', 'male', 'male', 'male', 'male', 'male', 'female', 'male', 'female', 'male', 'female', 'male', 'female', 'male', 'male', 'male', 'female', 'female', 'male', 'male', 'female', 'female', 'female', 'female', 'female', 'male', 'female', 'male', 'female', 'male', 'female', 'female', 'male', 'male', 'female', 'male', 'male', 'male', 'male', 'female', 'male', 'male', 'male', 'female', 'female', 'female', 'male', 'female', 'female', 'female', 'female', 'female', 'male', 'male', 'female', 'female', 'female', 'female', 'female', 'female', 'female', 'male', 'female', 'female', 'female', 'female', 'male', 'male', 'female', 'female', 'male', 'male', 'male', 'male', 'female', 'male', 'male', 'female', 'male', 'female', 'female', 'male', 'male', 'female', 'female', 'male', 'female', 'female', 'male', 'female', 'male', 'male', 'male', 'male', 'female', 'female', 'female', 'female', 'male', 'male', 'female', 'male', 'male', 'male', 'male', 'male', 'female', 'male', 'male', 'male', 'male', 'male', 'male', 'male', 'male', 'female', 'female', 'male', 'male', 'male', 'female', 'female', 'male', 'female', 'male', 'female']\n",
            "              precision    recall  f1-score   support\n",
            "\n",
            "      female       0.75      0.14      0.24      2198\n",
            "        male       0.55      0.96      0.70      2409\n",
            "\n",
            "    accuracy                           0.57      4607\n",
            "   macro avg       0.65      0.55      0.47      4607\n",
            "weighted avg       0.64      0.57      0.48      4607\n",
            "\n"
          ]
        },
        {
          "output_type": "display_data",
          "data": {
            "text/plain": [
              "<Figure size 800x800 with 2 Axes>"
            ],
            "image/png": "[encoded data removed]"
          },
          "metadata": {}
        }
      ]
    },
    {
      "cell_type": "markdown",
      "source": [
        "# **Training the grid_search model and predicting the labels**"
      ],
      "metadata": {
        "id": "w0bkkfYovYtQ"
      }
    },
    {
      "cell_type": "code",
      "source": [
        "\n",
        "y_pred=grid_search.predict(X_test)\n",
        "# Predict on the test data\n",
        "# y_pred = best_model.predict(X_test)\n",
        "# Predict probabilities on the test data\n",
        "# print(y_pred)\n",
        "# y_pred_classes = y_pred.argmax(axis=1)\n",
        "# print(y_pred_classes.shape)\n",
        "\n",
        "# Evaluate the model\n",
        "print(classification_report(y_test, y_pred))\n",
        "\n",
        "# Confusion Matrix\n",
        "cm = confusion_matrix(y_test, y_pred)\n",
        "plt.figure(figsize=(8, 8))\n",
        "#sns.heatmap(confusion_matrix, annot=True, fmt='d', cmap='Blues', xticklabels=np.unique(y_test), yticklabels=np.unique(y_test))\n",
        "plt.imshow(cm, interpolation='nearest', cmap=plt.cm.Blues)\n",
        "plt.title('Confusion Matrix')\n",
        "plt.colorbar()\n",
        "plt.xlabel('Predicted Label')\n",
        "plt.ylabel('True Label')\n",
        "plt.show()\n",
        "\n"
      ],
      "metadata": {
        "colab": {
          "base_uri": "https://localhost:8080/",
          "height": 1000
        },
        "outputId": "dd576eab-79a5-4f17-e220-7431fa5f6fd0",
        "id": "PjHI4zE7vYtQ"
      },
      "execution_count": null,
      "outputs": [
        {
          "output_type": "stream",
          "name": "stderr",
          "text": [
            "/usr/local/lib/python3.10/dist-packages/sklearn/utils/_tags.py:354: FutureWarning: The LGBMClassifier or classes from which it inherits use `_get_tags` and `_more_tags`. Please define the `__sklearn_tags__` method, or inherit from `sklearn.base.BaseEstimator` and/or other appropriate mixins such as `sklearn.base.TransformerMixin`, `sklearn.base.ClassifierMixin`, `sklearn.base.RegressorMixin`, and `sklearn.base.OutlierMixin`. From scikit-learn 1.7, not defining `__sklearn_tags__` will raise an error.\n",
            "  warnings.warn(\n",
            "/usr/local/lib/python3.10/dist-packages/sklearn/utils/deprecation.py:151: FutureWarning: 'force_all_finite' was renamed to 'ensure_all_finite' in 1.6 and will be removed in 1.8.\n",
            "  warnings.warn(\n",
            "/usr/local/lib/python3.10/dist-packages/sklearn/metrics/_classification.py:1565: UndefinedMetricWarning: Precision is ill-defined and being set to 0.0 in labels with no predicted samples. Use `zero_division` parameter to control this behavior.\n",
            "  _warn_prf(average, modifier, f\"{metric.capitalize()} is\", len(result))\n",
            "/usr/local/lib/python3.10/dist-packages/sklearn/metrics/_classification.py:1565: UndefinedMetricWarning: Precision is ill-defined and being set to 0.0 in labels with no predicted samples. Use `zero_division` parameter to control this behavior.\n",
            "  _warn_prf(average, modifier, f\"{metric.capitalize()} is\", len(result))\n",
            "/usr/local/lib/python3.10/dist-packages/sklearn/metrics/_classification.py:1565: UndefinedMetricWarning: Precision is ill-defined and being set to 0.0 in labels with no predicted samples. Use `zero_division` parameter to control this behavior.\n",
            "  _warn_prf(average, modifier, f\"{metric.capitalize()} is\", len(result))\n"
          ]
        },
        {
          "output_type": "stream",
          "name": "stdout",
          "text": [
            "              precision    recall  f1-score   support\n",
            "\n",
            "           0       0.46      0.85      0.60      2018\n",
            "           1       0.42      0.27      0.33       927\n",
            "           2       0.43      0.12      0.19       670\n",
            "           3       0.34      0.11      0.16       802\n",
            "           4       0.00      0.00      0.00       359\n",
            "\n",
            "    accuracy                           0.45      4776\n",
            "   macro avg       0.33      0.27      0.26      4776\n",
            "weighted avg       0.39      0.45      0.37      4776\n",
            "\n"
          ]
        },
        {
          "output_type": "display_data",
          "data": {
            "text/plain": [
              "<Figure size 800x800 with 2 Axes>"
            ],
            "image/png": "[encoded data removed]"
          },
          "metadata": {}
        }
      ]
    },
    {
      "cell_type": "code",
      "source": [
        "# Define a mapping of numbers to labels\n",
        "labels = {\n",
        "    0: 'White',\n",
        "    1: 'Black',\n",
        "    2: 'Asian',\n",
        "    3: 'Indian',\n",
        "    4: 'Others'\n",
        "}\n",
        "\n",
        "# Create a new array with corresponding labels\n",
        "y_test_labels = np.vectorize(labels.get)(y_test)\n",
        "y_pred_classes_labels= np.vectorize(labels.get)(y_pred)\n",
        "\n",
        "#print(y_test_labels)\n",
        "#print(y_pred_classes_labels)\n",
        "print(classification_report(y_test_labels,y_pred_classes_labels))"
      ],
      "metadata": {
        "colab": {
          "base_uri": "https://localhost:8080/"
        },
        "outputId": "9bd27908-eef8-4533-83b6-38feb9fd207e",
        "id": "Txu8EicQvYtQ"
      },
      "execution_count": null,
      "outputs": [
        {
          "output_type": "stream",
          "name": "stdout",
          "text": [
            "              precision    recall  f1-score   support\n",
            "\n",
            "       Asian       0.43      0.12      0.19       670\n",
            "       Black       0.42      0.27      0.33       927\n",
            "      Indian       0.34      0.11      0.16       802\n",
            "      Others       0.00      0.00      0.00       359\n",
            "       White       0.46      0.85      0.60      2018\n",
            "\n",
            "    accuracy                           0.45      4776\n",
            "   macro avg       0.33      0.27      0.26      4776\n",
            "weighted avg       0.39      0.45      0.37      4776\n",
            "\n"
          ]
        },
        {
          "output_type": "stream",
          "name": "stderr",
          "text": [
            "/usr/local/lib/python3.10/dist-packages/sklearn/metrics/_classification.py:1565: UndefinedMetricWarning: Precision is ill-defined and being set to 0.0 in labels with no predicted samples. Use `zero_division` parameter to control this behavior.\n",
            "  _warn_prf(average, modifier, f\"{metric.capitalize()} is\", len(result))\n",
            "/usr/local/lib/python3.10/dist-packages/sklearn/metrics/_classification.py:1565: UndefinedMetricWarning: Precision is ill-defined and being set to 0.0 in labels with no predicted samples. Use `zero_division` parameter to control this behavior.\n",
            "  _warn_prf(average, modifier, f\"{metric.capitalize()} is\", len(result))\n",
            "/usr/local/lib/python3.10/dist-packages/sklearn/metrics/_classification.py:1565: UndefinedMetricWarning: Precision is ill-defined and being set to 0.0 in labels with no predicted samples. Use `zero_division` parameter to control this behavior.\n",
            "  _warn_prf(average, modifier, f\"{metric.capitalize()} is\", len(result))\n"
          ]
        }
      ]
    },
    {
      "cell_type": "markdown",
      "source": [
        "# **Generating a csv file containing the name of each image and its predicted label**"
      ],
      "metadata": {
        "id": "xqg2IQUr0X4E"
      }
    },
    {
      "cell_type": "code",
      "source": [
        "# Get a list of image filenames\n",
        "#ethnicity\n",
        "# image_filenames = os.listdir(\"/content/splitted_dataset/mouth/test\")\n",
        "#gender\n",
        "# image_filenames = os.listdir(\"/content/splitted_by_gender/mouth/test\")\n",
        "#age\n",
        "image_filenames = os.listdir(\"/content/splitted_by_age/mouth/test\")\n",
        "\n",
        "# Create a DataFrame with image names and predicted labels\n",
        "df = pd.DataFrame({'Image_Name': image_filenames, 'Predicted_Label': y_pred_classes})\n",
        "\n",
        "# Save the DataFrame ethnicity to a CSV file\n",
        "# df.to_csv(\"predictions_mouth.csv\", index=False)\n",
        "# Save the DataFrame gender to a CSV file\n",
        "# df.to_csv(\"predictions_gender_mouth.csv\", index=False)\n",
        "# Save the DataFrame age to a CSV file\n",
        "df.to_csv(\"predictions_age_mouth.csv\", index=False)"
      ],
      "metadata": {
        "id": "aDEtY3uN0X4J"
      },
      "execution_count": 85,
      "outputs": []
    },
    {
      "cell_type": "code",
      "execution_count": null,
      "metadata": {
        "colab": {
          "base_uri": "https://localhost:8080/",
          "height": 1000
        },
        "outputId": "f7470b7e-b60a-41d3-a684-40b049eeb712",
        "id": "HeWmh_Le0X4K"
      },
      "outputs": [
        {
          "output_type": "stream",
          "name": "stdout",
          "text": [
            "[5000 3000 3500 3500 3000]\n",
            "<class 'lightgbm.basic.Dataset'>\n",
            "Training until validation scores don't improve for 20 rounds\n",
            "[20]\ttraining's multi_logloss: 1.1752\tvalid_1's multi_logloss: 1.40524\n",
            "[40]\ttraining's multi_logloss: 1.10698\tvalid_1's multi_logloss: 1.39561\n",
            "[60]\ttraining's multi_logloss: 1.0638\tvalid_1's multi_logloss: 1.3964\n",
            "Early stopping, best iteration is:\n",
            "[43]\ttraining's multi_logloss: 1.09835\tvalid_1's multi_logloss: 1.39553\n",
            "(4776, 5)\n",
            "(4776,)\n",
            "              precision    recall  f1-score   support\n",
            "\n",
            "           0       0.44      0.97      0.61      2018\n",
            "           1       0.54      0.13      0.21       927\n",
            "           2       0.48      0.06      0.10       670\n",
            "           3       0.47      0.03      0.05       802\n",
            "           4       0.00      0.00      0.00       359\n",
            "\n",
            "    accuracy                           0.45      4776\n",
            "   macro avg       0.39      0.24      0.19      4776\n",
            "weighted avg       0.44      0.45      0.32      4776\n",
            "\n"
          ]
        },
        {
          "output_type": "display_data",
          "data": {
            "text/plain": [
              "<Figure size 800x800 with 2 Axes>"
            ],
            "image/png": "[encoded data removed]"
          },
          "metadata": {}
        }
      ],
      "source": [
        "\n",
        "\n",
        "# Define hyperparameters and objective for LightGBM\n",
        "params = {\n",
        "    'objective': 'multiclass',  # Adjust for your specific task\n",
        "    'num_class': len(np.unique(y_train)),# Number of classes in your dataset\n",
        "    'metric': 'multi_logloss',\n",
        "    'learning_rate':  0.05,\n",
        "    'num_leaves': 31,\n",
        "    'max_depth': 6,\n",
        "    'boosting_type': 'gbdt',\n",
        "    'verbose': -1\n",
        "    # ... other hyperparameters\n",
        "}\n",
        "print(type(train_data))\n",
        "num_round=100\n",
        "model = lgb.train(params,\n",
        "                 train_data,\n",
        "                 num_round,\n",
        "                 valid_sets=[train_data,test_data],\n",
        "                 callbacks=[lgb.early_stopping(stopping_rounds=20), lgb.log_evaluation(period=20)])\n",
        "\n",
        "y_pred = model.predict(X_test, num_iteration=model.best_iteration)\n",
        "print(y_pred.shape)\n",
        "y_pred_classes = y_pred.argmax(axis=1)\n",
        "print(y_pred_classes.shape)\n",
        "\n",
        "# Evaluate the model\n",
        "print(classification_report(y_test, y_pred_classes))\n",
        "\n",
        "# Confusion Matrix\n",
        "cm = confusion_matrix(y_test, y_pred_classes)\n",
        "plt.figure(figsize=(8, 8))\n",
        "#sns.heatmap(confusion_matrix, annot=True, fmt='d', cmap='Blues', xticklabels=np.unique(y_test), yticklabels=np.unique(y_test))\n",
        "plt.imshow(cm, interpolation='nearest', cmap=plt.cm.Blues)\n",
        "plt.title('Confusion Matrix')\n",
        "plt.colorbar()\n",
        "plt.xlabel('Predicted Label')\n",
        "plt.ylabel('True Label')\n",
        "plt.show()\n"
      ]
    },
    {
      "cell_type": "code",
      "source": [
        "kfold = KFold(n_splits=5, shuffle=True, random_state=42)\n",
        "# X_resampled=X_train\n",
        "# y_resampled=y_train\n",
        "\n",
        "for fold, (train_index, val_index) in enumerate(kfold.split(X_resampled, y_resampled)):\n",
        "    X_train, X_val = X_resampled[train_index], X_resampled[val_index]\n",
        "    y_train, y_val = y_resampled[train_index], y_resampled[val_index]\n",
        "\n",
        "    train_data = lgb.Dataset(X_train, label=y_train)\n",
        "    val_data = lgb.Dataset(X_val, label=y_val)\n",
        "\n",
        "    model = lgb.train(params,\n",
        "                      train_data,\n",
        "                      num_round,\n",
        "                      valid_sets=[train_data, val_data],\n",
        "                      callbacks=[lgb.early_stopping(stopping_rounds=10), lgb.log_evaluation(period=10)])\n",
        "\n",
        "    y_pred = model.predict(X_val, num_iteration=model.best_iteration)\n",
        "    y_pred_classes = y_pred.argmax(axis=1)\n",
        "\n",
        "    # Evaluate the model on the validation fold\n",
        "    print(f\"Fold {fold+1} Classification Report:\")\n",
        "    print(classification_report(y_val, y_pred_classes))\n",
        "y_pred = model.predict(X_test, num_iteration=model.best_iteration)\n",
        "y_pred_classes = y_pred.argmax(axis=1)\n",
        "# Evaluate the model\n",
        "print(classification_report(y_test, y_pred_classes))"
      ],
      "metadata": {
        "colab": {
          "base_uri": "https://localhost:8080/"
        },
        "outputId": "e65bbc98-1aeb-4b91-84f3-df04159a1707",
        "id": "WjMnt7_i0X4K"
      },
      "execution_count": null,
      "outputs": [
        {
          "output_type": "stream",
          "name": "stdout",
          "text": [
            "Training until validation scores don't improve for 10 rounds\n",
            "[10]\ttraining's multi_logloss: 1.46412\tvalid_1's multi_logloss: 1.48301\n",
            "[20]\ttraining's multi_logloss: 1.39373\tvalid_1's multi_logloss: 1.43202\n",
            "[30]\ttraining's multi_logloss: 1.34464\tvalid_1's multi_logloss: 1.40112\n",
            "[40]\ttraining's multi_logloss: 1.3057\tvalid_1's multi_logloss: 1.38077\n",
            "[50]\ttraining's multi_logloss: 1.27569\tvalid_1's multi_logloss: 1.36495\n",
            "[60]\ttraining's multi_logloss: 1.2526\tvalid_1's multi_logloss: 1.35459\n",
            "[70]\ttraining's multi_logloss: 1.23084\tvalid_1's multi_logloss: 1.345\n",
            "[80]\ttraining's multi_logloss: 1.20891\tvalid_1's multi_logloss: 1.33494\n",
            "[90]\ttraining's multi_logloss: 1.18743\tvalid_1's multi_logloss: 1.3246\n",
            "[100]\ttraining's multi_logloss: 1.16393\tvalid_1's multi_logloss: 1.31361\n",
            "Did not meet early stopping. Best iteration is:\n",
            "[100]\ttraining's multi_logloss: 1.16393\tvalid_1's multi_logloss: 1.31361\n",
            "Fold 1 Classification Report:\n",
            "              precision    recall  f1-score   support\n",
            "\n",
            "           0       0.42      0.62      0.50      1008\n",
            "           1       0.45      0.39      0.42       615\n",
            "           2       0.55      0.50      0.52       712\n",
            "           3       0.43      0.40      0.41       685\n",
            "           4       0.58      0.31      0.40       580\n",
            "\n",
            "    accuracy                           0.47      3600\n",
            "   macro avg       0.49      0.44      0.45      3600\n",
            "weighted avg       0.48      0.47      0.46      3600\n",
            "\n",
            "Training until validation scores don't improve for 10 rounds\n",
            "[10]\ttraining's multi_logloss: 1.46184\tvalid_1's multi_logloss: 1.49368\n",
            "[20]\ttraining's multi_logloss: 1.39021\tvalid_1's multi_logloss: 1.4453\n",
            "[30]\ttraining's multi_logloss: 1.34137\tvalid_1's multi_logloss: 1.41639\n",
            "[40]\ttraining's multi_logloss: 1.30421\tvalid_1's multi_logloss: 1.39558\n",
            "[50]\ttraining's multi_logloss: 1.27425\tvalid_1's multi_logloss: 1.37924\n",
            "[60]\ttraining's multi_logloss: 1.25121\tvalid_1's multi_logloss: 1.36721\n",
            "[70]\ttraining's multi_logloss: 1.22672\tvalid_1's multi_logloss: 1.3535\n",
            "[80]\ttraining's multi_logloss: 1.20497\tvalid_1's multi_logloss: 1.34268\n",
            "[90]\ttraining's multi_logloss: 1.18273\tvalid_1's multi_logloss: 1.33185\n",
            "[100]\ttraining's multi_logloss: 1.16181\tvalid_1's multi_logloss: 1.322\n",
            "Did not meet early stopping. Best iteration is:\n",
            "[100]\ttraining's multi_logloss: 1.16181\tvalid_1's multi_logloss: 1.322\n",
            "Fold 2 Classification Report:\n",
            "              precision    recall  f1-score   support\n",
            "\n",
            "           0       0.40      0.57      0.47       972\n",
            "           1       0.44      0.41      0.42       587\n",
            "           2       0.52      0.48      0.50       709\n",
            "           3       0.42      0.46      0.44       693\n",
            "           4       0.65      0.30      0.41       639\n",
            "\n",
            "    accuracy                           0.46      3600\n",
            "   macro avg       0.49      0.44      0.45      3600\n",
            "weighted avg       0.48      0.46      0.45      3600\n",
            "\n",
            "Training until validation scores don't improve for 10 rounds\n",
            "[10]\ttraining's multi_logloss: 1.46267\tvalid_1's multi_logloss: 1.48984\n",
            "[20]\ttraining's multi_logloss: 1.39037\tvalid_1's multi_logloss: 1.44207\n",
            "[30]\ttraining's multi_logloss: 1.34114\tvalid_1's multi_logloss: 1.41511\n",
            "[40]\ttraining's multi_logloss: 1.30246\tvalid_1's multi_logloss: 1.39567\n",
            "[50]\ttraining's multi_logloss: 1.27309\tvalid_1's multi_logloss: 1.38056\n",
            "[60]\ttraining's multi_logloss: 1.24956\tvalid_1's multi_logloss: 1.36954\n",
            "[70]\ttraining's multi_logloss: 1.22804\tvalid_1's multi_logloss: 1.36031\n",
            "[80]\ttraining's multi_logloss: 1.20451\tvalid_1's multi_logloss: 1.34936\n",
            "[90]\ttraining's multi_logloss: 1.18304\tvalid_1's multi_logloss: 1.34054\n",
            "[100]\ttraining's multi_logloss: 1.16009\tvalid_1's multi_logloss: 1.32984\n",
            "Did not meet early stopping. Best iteration is:\n",
            "[100]\ttraining's multi_logloss: 1.16009\tvalid_1's multi_logloss: 1.32984\n",
            "Fold 3 Classification Report:\n",
            "              precision    recall  f1-score   support\n",
            "\n",
            "           0       0.42      0.60      0.50      1034\n",
            "           1       0.45      0.41      0.43       590\n",
            "           2       0.54      0.48      0.51       712\n",
            "           3       0.43      0.42      0.42       694\n",
            "           4       0.56      0.26      0.36       570\n",
            "\n",
            "    accuracy                           0.46      3600\n",
            "   macro avg       0.48      0.44      0.44      3600\n",
            "weighted avg       0.47      0.46      0.45      3600\n",
            "\n",
            "Training until validation scores don't improve for 10 rounds\n",
            "[10]\ttraining's multi_logloss: 1.45895\tvalid_1's multi_logloss: 1.49461\n",
            "[20]\ttraining's multi_logloss: 1.38798\tvalid_1's multi_logloss: 1.45152\n",
            "[30]\ttraining's multi_logloss: 1.33769\tvalid_1's multi_logloss: 1.42398\n",
            "[40]\ttraining's multi_logloss: 1.29894\tvalid_1's multi_logloss: 1.40481\n",
            "[50]\ttraining's multi_logloss: 1.26889\tvalid_1's multi_logloss: 1.38956\n",
            "[60]\ttraining's multi_logloss: 1.2453\tvalid_1's multi_logloss: 1.37889\n",
            "[70]\ttraining's multi_logloss: 1.22364\tvalid_1's multi_logloss: 1.36849\n",
            "[80]\ttraining's multi_logloss: 1.20341\tvalid_1's multi_logloss: 1.35934\n",
            "[90]\ttraining's multi_logloss: 1.18187\tvalid_1's multi_logloss: 1.34944\n",
            "[100]\ttraining's multi_logloss: 1.15988\tvalid_1's multi_logloss: 1.33934\n",
            "Did not meet early stopping. Best iteration is:\n",
            "[100]\ttraining's multi_logloss: 1.15988\tvalid_1's multi_logloss: 1.33934\n",
            "Fold 4 Classification Report:\n",
            "              precision    recall  f1-score   support\n",
            "\n",
            "           0       0.40      0.59      0.48      1023\n",
            "           1       0.43      0.37      0.40       587\n",
            "           2       0.54      0.47      0.50       680\n",
            "           3       0.42      0.38      0.40       734\n",
            "           4       0.54      0.31      0.40       576\n",
            "\n",
            "    accuracy                           0.44      3600\n",
            "   macro avg       0.47      0.42      0.43      3600\n",
            "weighted avg       0.46      0.44      0.44      3600\n",
            "\n",
            "Training until validation scores don't improve for 10 rounds\n",
            "[10]\ttraining's multi_logloss: 1.45905\tvalid_1's multi_logloss: 1.50508\n",
            "[20]\ttraining's multi_logloss: 1.38832\tvalid_1's multi_logloss: 1.46247\n",
            "[30]\ttraining's multi_logloss: 1.34072\tvalid_1's multi_logloss: 1.43853\n",
            "[40]\ttraining's multi_logloss: 1.30406\tvalid_1's multi_logloss: 1.42165\n",
            "[50]\ttraining's multi_logloss: 1.27497\tvalid_1's multi_logloss: 1.40873\n",
            "[60]\ttraining's multi_logloss: 1.2522\tvalid_1's multi_logloss: 1.39902\n",
            "[70]\ttraining's multi_logloss: 1.226\tvalid_1's multi_logloss: 1.38742\n",
            "[80]\ttraining's multi_logloss: 1.20355\tvalid_1's multi_logloss: 1.37749\n",
            "[90]\ttraining's multi_logloss: 1.18178\tvalid_1's multi_logloss: 1.36799\n",
            "[100]\ttraining's multi_logloss: 1.16178\tvalid_1's multi_logloss: 1.35805\n",
            "Did not meet early stopping. Best iteration is:\n",
            "[100]\ttraining's multi_logloss: 1.16178\tvalid_1's multi_logloss: 1.35805\n",
            "Fold 5 Classification Report:\n",
            "              precision    recall  f1-score   support\n",
            "\n",
            "           0       0.37      0.59      0.46       963\n",
            "           1       0.45      0.38      0.41       621\n",
            "           2       0.51      0.48      0.50       687\n",
            "           3       0.42      0.40      0.41       694\n",
            "           4       0.64      0.26      0.37       635\n",
            "\n",
            "    accuracy                           0.44      3600\n",
            "   macro avg       0.48      0.42      0.43      3600\n",
            "weighted avg       0.47      0.44      0.43      3600\n",
            "\n",
            "              precision    recall  f1-score   support\n",
            "\n",
            "           0       0.54      0.61      0.57      2018\n",
            "           1       0.42      0.35      0.38       927\n",
            "           2       0.34      0.36      0.35       670\n",
            "           3       0.26      0.27      0.27       802\n",
            "           4       0.09      0.05      0.07       359\n",
            "\n",
            "    accuracy                           0.43      4776\n",
            "   macro avg       0.33      0.33      0.33      4776\n",
            "weighted avg       0.41      0.43      0.41      4776\n",
            "\n"
          ]
        }
      ]
    },
    {
      "cell_type": "code",
      "source": [
        "# Define the parameter grid for Grid Search\n",
        "bst_prms= {\n",
        "    'objective': 'multiclass',\n",
        "    'num_class': len(np.unique(y_resampled)),\n",
        "    'metric': 'multi_logloss',\n",
        "    'learning_rate': 0.05,\n",
        "    'n_estimators': 200,\n",
        "    'max_depth': 5,\n",
        "    'num_leaves': 63,\n",
        "    'subsample': 0.8,\n",
        "    'colsample_bytree': 0.8,\n",
        "    'verbose': -1\n",
        "}\n",
        "num_round=200\n",
        "model = lgb.train(bst_prms,\n",
        "                 train_data,\n",
        "                 num_round,\n",
        "                 valid_sets=test_data,\n",
        "                 callbacks=[lgb.early_stopping(stopping_rounds=10), lgb.log_evaluation(period=10)])\n",
        "y_pred = model.predict(X_test, num_iteration=model.best_iteration)\n",
        "y_pred_classes = y_pred.argmax(axis=1)\n",
        "\n",
        "# Evaluate the model\n",
        "print(classification_report(y_test, y_pred_classes))\n",
        "\n",
        "# Confusion Matrix\n",
        "cm = confusion_matrix(y_test,y_pred_classes)\n",
        "plt.figure(figsize=(8, 8))\n",
        "#sns.heatmap(confusion_matrix, annot=True, fmt='d', cmap='Blues', xticklabels=np.unique(y_test), yticklabels=np.unique(y_test))\n",
        "plt.imshow(cm, interpolation='nearest', cmap=plt.cm.Blues)\n",
        "plt.title('Confusion Matrix')\n",
        "plt.colorbar()\n",
        "plt.xlabel('Predicted Label')\n",
        "plt.ylabel('True Label')\n",
        "plt.show()"
      ],
      "metadata": {
        "id": "2Ku4CPmtuZ9m"
      },
      "execution_count": null,
      "outputs": []
    },
    {
      "cell_type": "code",
      "execution_count": null,
      "metadata": {
        "colab": {
          "base_uri": "https://localhost:8080/"
        },
        "id": "oE6oShqjGzH5",
        "outputId": "6d72c706-3f4a-4927-ec5d-ef180c196402"
      },
      "outputs": [
        {
          "output_type": "stream",
          "name": "stdout",
          "text": [
            "[7846 3529 2514 3050 1316]\n",
            "[7846 3529 2514 3050 2632]\n",
            "Training until validation scores don't improve for 10 rounds\n",
            "[10]\ttraining's multi_logloss: 1.37706\tvalid_1's multi_logloss: 1.43414\n",
            "[20]\ttraining's multi_logloss: 1.3187\tvalid_1's multi_logloss: 1.41065\n",
            "[30]\ttraining's multi_logloss: 1.27743\tvalid_1's multi_logloss: 1.39822\n",
            "[40]\ttraining's multi_logloss: 1.24333\tvalid_1's multi_logloss: 1.39272\n",
            "[50]\ttraining's multi_logloss: 1.21111\tvalid_1's multi_logloss: 1.38591\n",
            "[60]\ttraining's multi_logloss: 1.18378\tvalid_1's multi_logloss: 1.38218\n",
            "[70]\ttraining's multi_logloss: 1.15845\tvalid_1's multi_logloss: 1.37755\n",
            "[80]\ttraining's multi_logloss: 1.134\tvalid_1's multi_logloss: 1.37572\n",
            "[90]\ttraining's multi_logloss: 1.11097\tvalid_1's multi_logloss: 1.37358\n",
            "[100]\ttraining's multi_logloss: 1.08982\tvalid_1's multi_logloss: 1.37001\n",
            "Did not meet early stopping. Best iteration is:\n",
            "[100]\ttraining's multi_logloss: 1.08982\tvalid_1's multi_logloss: 1.37001\n",
            "Fold 1 Classification Report:\n",
            "              precision    recall  f1-score   support\n",
            "\n",
            "           0       0.44      0.82      0.57      1511\n",
            "           1       0.38      0.28      0.33       736\n",
            "           2       0.33      0.14      0.20       501\n",
            "           3       0.37      0.16      0.22       647\n",
            "           4       0.66      0.10      0.17       520\n",
            "\n",
            "    accuracy                           0.43      3915\n",
            "   macro avg       0.44      0.30      0.30      3915\n",
            "weighted avg       0.43      0.43      0.37      3915\n",
            "\n",
            "Training until validation scores don't improve for 10 rounds\n",
            "[10]\ttraining's multi_logloss: 1.38165\tvalid_1's multi_logloss: 1.42132\n",
            "[20]\ttraining's multi_logloss: 1.32443\tvalid_1's multi_logloss: 1.39672\n",
            "[30]\ttraining's multi_logloss: 1.28169\tvalid_1's multi_logloss: 1.38672\n",
            "[40]\ttraining's multi_logloss: 1.24636\tvalid_1's multi_logloss: 1.37919\n",
            "[50]\ttraining's multi_logloss: 1.217\tvalid_1's multi_logloss: 1.37365\n",
            "[60]\ttraining's multi_logloss: 1.1879\tvalid_1's multi_logloss: 1.36858\n",
            "[70]\ttraining's multi_logloss: 1.16089\tvalid_1's multi_logloss: 1.36367\n",
            "[80]\ttraining's multi_logloss: 1.13575\tvalid_1's multi_logloss: 1.35999\n",
            "[90]\ttraining's multi_logloss: 1.11214\tvalid_1's multi_logloss: 1.35592\n",
            "[100]\ttraining's multi_logloss: 1.0893\tvalid_1's multi_logloss: 1.35394\n",
            "Did not meet early stopping. Best iteration is:\n",
            "[100]\ttraining's multi_logloss: 1.0893\tvalid_1's multi_logloss: 1.35394\n",
            "Fold 2 Classification Report:\n",
            "              precision    recall  f1-score   support\n",
            "\n",
            "           0       0.47      0.82      0.59      1583\n",
            "           1       0.37      0.31      0.34       682\n",
            "           2       0.34      0.12      0.18       522\n",
            "           3       0.31      0.14      0.19       595\n",
            "           4       0.59      0.10      0.18       532\n",
            "\n",
            "    accuracy                           0.44      3914\n",
            "   macro avg       0.41      0.30      0.30      3914\n",
            "weighted avg       0.43      0.44      0.38      3914\n",
            "\n",
            "Training until validation scores don't improve for 10 rounds\n",
            "[10]\ttraining's multi_logloss: 1.37998\tvalid_1's multi_logloss: 1.41796\n",
            "[20]\ttraining's multi_logloss: 1.32124\tvalid_1's multi_logloss: 1.39501\n",
            "[30]\ttraining's multi_logloss: 1.27965\tvalid_1's multi_logloss: 1.38441\n",
            "[40]\ttraining's multi_logloss: 1.24587\tvalid_1's multi_logloss: 1.37888\n",
            "[50]\ttraining's multi_logloss: 1.21794\tvalid_1's multi_logloss: 1.37532\n",
            "[60]\ttraining's multi_logloss: 1.19198\tvalid_1's multi_logloss: 1.37053\n",
            "[70]\ttraining's multi_logloss: 1.16582\tvalid_1's multi_logloss: 1.3667\n",
            "[80]\ttraining's multi_logloss: 1.14222\tvalid_1's multi_logloss: 1.36353\n",
            "[90]\ttraining's multi_logloss: 1.12017\tvalid_1's multi_logloss: 1.36123\n",
            "[100]\ttraining's multi_logloss: 1.09947\tvalid_1's multi_logloss: 1.35797\n",
            "Did not meet early stopping. Best iteration is:\n",
            "[100]\ttraining's multi_logloss: 1.09947\tvalid_1's multi_logloss: 1.35797\n",
            "Fold 3 Classification Report:\n",
            "              precision    recall  f1-score   support\n",
            "\n",
            "           0       0.46      0.82      0.59      1577\n",
            "           1       0.40      0.29      0.34       728\n",
            "           2       0.32      0.15      0.20       507\n",
            "           3       0.32      0.14      0.20       603\n",
            "           4       0.58      0.10      0.17       499\n",
            "\n",
            "    accuracy                           0.44      3914\n",
            "   macro avg       0.41      0.30      0.30      3914\n",
            "weighted avg       0.42      0.44      0.38      3914\n",
            "\n",
            "Training until validation scores don't improve for 10 rounds\n",
            "[10]\ttraining's multi_logloss: 1.37861\tvalid_1's multi_logloss: 1.42662\n",
            "[20]\ttraining's multi_logloss: 1.31955\tvalid_1's multi_logloss: 1.40242\n",
            "[30]\ttraining's multi_logloss: 1.27713\tvalid_1's multi_logloss: 1.39169\n",
            "[40]\ttraining's multi_logloss: 1.24271\tvalid_1's multi_logloss: 1.38582\n",
            "[50]\ttraining's multi_logloss: 1.21162\tvalid_1's multi_logloss: 1.38058\n",
            "[60]\ttraining's multi_logloss: 1.18425\tvalid_1's multi_logloss: 1.37615\n",
            "[70]\ttraining's multi_logloss: 1.15762\tvalid_1's multi_logloss: 1.37223\n",
            "[80]\ttraining's multi_logloss: 1.13416\tvalid_1's multi_logloss: 1.37052\n",
            "[90]\ttraining's multi_logloss: 1.11012\tvalid_1's multi_logloss: 1.36765\n",
            "[100]\ttraining's multi_logloss: 1.08867\tvalid_1's multi_logloss: 1.365\n",
            "Did not meet early stopping. Best iteration is:\n",
            "[100]\ttraining's multi_logloss: 1.08867\tvalid_1's multi_logloss: 1.365\n",
            "Fold 4 Classification Report:\n",
            "              precision    recall  f1-score   support\n",
            "\n",
            "           0       0.46      0.81      0.59      1579\n",
            "           1       0.35      0.29      0.31       658\n",
            "           2       0.32      0.12      0.17       514\n",
            "           3       0.35      0.16      0.22       619\n",
            "           4       0.62      0.10      0.18       544\n",
            "\n",
            "    accuracy                           0.43      3914\n",
            "   macro avg       0.42      0.30      0.29      3914\n",
            "weighted avg       0.43      0.43      0.37      3914\n",
            "\n",
            "Training until validation scores don't improve for 10 rounds\n",
            "[10]\ttraining's multi_logloss: 1.38429\tvalid_1's multi_logloss: 1.41558\n",
            "[20]\ttraining's multi_logloss: 1.32707\tvalid_1's multi_logloss: 1.39001\n",
            "[30]\ttraining's multi_logloss: 1.28521\tvalid_1's multi_logloss: 1.37809\n",
            "[40]\ttraining's multi_logloss: 1.25104\tvalid_1's multi_logloss: 1.37015\n",
            "[50]\ttraining's multi_logloss: 1.22355\tvalid_1's multi_logloss: 1.3657\n",
            "[60]\ttraining's multi_logloss: 1.19654\tvalid_1's multi_logloss: 1.36184\n",
            "[70]\ttraining's multi_logloss: 1.17129\tvalid_1's multi_logloss: 1.35805\n",
            "[80]\ttraining's multi_logloss: 1.14625\tvalid_1's multi_logloss: 1.35451\n",
            "[90]\ttraining's multi_logloss: 1.12452\tvalid_1's multi_logloss: 1.35203\n",
            "[100]\ttraining's multi_logloss: 1.10332\tvalid_1's multi_logloss: 1.35065\n",
            "Did not meet early stopping. Best iteration is:\n",
            "[100]\ttraining's multi_logloss: 1.10332\tvalid_1's multi_logloss: 1.35065\n",
            "Fold 5 Classification Report:\n",
            "              precision    recall  f1-score   support\n",
            "\n",
            "           0       0.46      0.81      0.59      1596\n",
            "           1       0.39      0.28      0.33       725\n",
            "           2       0.34      0.14      0.19       470\n",
            "           3       0.31      0.17      0.22       586\n",
            "           4       0.53      0.10      0.16       537\n",
            "\n",
            "    accuracy                           0.44      3914\n",
            "   macro avg       0.41      0.30      0.30      3914\n",
            "weighted avg       0.42      0.44      0.38      3914\n",
            "\n",
            "              precision    recall  f1-score   support\n",
            "\n",
            "           0       0.47      0.80      0.60      2018\n",
            "           1       0.41      0.29      0.34       927\n",
            "           2       0.41      0.16      0.23       670\n",
            "           3       0.32      0.15      0.21       802\n",
            "           4       0.24      0.04      0.07       359\n",
            "\n",
            "    accuracy                           0.45      4776\n",
            "   macro avg       0.37      0.29      0.29      4776\n",
            "weighted avg       0.41      0.45      0.39      4776\n",
            "\n"
          ]
        }
      ],
      "source": [
        "\n",
        "# Define hyperparameters and objective for LightGBM\n",
        "params = {\n",
        "    'objective': 'multiclass',  # Adjust for your specific task\n",
        "    'num_class': len(np.unique(y_resampled)),# Number of classes in your dataset\n",
        "    'metric': 'multi_logloss',\n",
        "    'learning_rate':  0.07,\n",
        "    'num_leaves': 32,\n",
        "    'max_depth': 7,\n",
        "    'boosting_type': 'gbdt',\n",
        "    'verbose': -1\n",
        "    # ... other hyperparameters\n",
        "}\n",
        "num_round=100\n",
        "# model = lgb.train(params,\n",
        "#                  train_data,\n",
        "#                  num_round,\n",
        "#                  valid_sets=[train_data,test_data],\n",
        "#                  callbacks=[lgb.early_stopping(stopping_rounds=15), lgb.log_evaluation(period=15)])\n",
        "\n",
        "# y_pred = model.predict(X_test, num_iteration=model.best_iteration)\n",
        "# print(y_pred.shape)\n",
        "# y_pred_classes = y_pred.argmax(axis=1)\n",
        "# print(y_pred_classes.shape)\n",
        "\n",
        "# # Evaluate the model\n",
        "# print(classification_report(y_test, y_pred_classes))\n",
        "\n",
        "# # Confusion Matrix\n",
        "# cm = confusion_matrix(y_test, y_pred_classes)\n",
        "# plt.figure(figsize=(8, 8))\n",
        "# #sns.heatmap(confusion_matrix, annot=True, fmt='d', cmap='Blues', xticklabels=np.unique(y_test), yticklabels=np.unique(y_test))\n",
        "# plt.imshow(cm, interpolation='nearest', cmap=plt.cm.Blues)\n",
        "# plt.title('Confusion Matrix')\n",
        "# plt.colorbar()\n",
        "# plt.xlabel('Predicted Label')\n",
        "# plt.ylabel('True Label')\n",
        "# plt.show()\n",
        "\n",
        "\n",
        "\n",
        "\n",
        "from sklearn.model_selection import KFold\n",
        "kfold = KFold(n_splits=5, shuffle=True, random_state=42)\n",
        "# X_resampled=X_train\n",
        "# y_resampled=y_train\n",
        "\n",
        "for fold, (train_index, val_index) in enumerate(kfold.split(X_resampled, y_resampled)):\n",
        "    X_train, X_val = X_resampled[train_index], X_resampled[val_index]\n",
        "    y_train, y_val = y_resampled[train_index], y_resampled[val_index]\n",
        "\n",
        "    train_data = lgb.Dataset(X_train, label=y_train)\n",
        "    val_data = lgb.Dataset(X_val, label=y_val)\n",
        "\n",
        "    model = lgb.train(params,\n",
        "                      train_data,\n",
        "                      num_round,\n",
        "                      valid_sets=[train_data, val_data],\n",
        "                      callbacks=[lgb.early_stopping(stopping_rounds=10), lgb.log_evaluation(period=10)])\n",
        "\n",
        "    y_pred = model.predict(X_val, num_iteration=model.best_iteration)\n",
        "    y_pred_classes = y_pred.argmax(axis=1)\n",
        "\n",
        "    # Evaluate the model on the validation fold\n",
        "    print(f\"Fold {fold+1} Classification Report:\")\n",
        "    print(classification_report(y_val, y_pred_classes))\n",
        "\n",
        "y_pred = model.predict(X_test, num_iteration=model.best_iteration)\n",
        "y_pred_classes = y_pred.argmax(axis=1)\n",
        "# Evaluate the model\n",
        "print(classification_report(y_test, y_pred_classes))"
      ]
    },
    {
      "cell_type": "code",
      "source": [
        "print(len(y_test),len(y_pred_classes),len(y_pred))"
      ],
      "metadata": {
        "colab": {
          "base_uri": "https://localhost:8080/"
        },
        "id": "__JQsb0h6Wwp",
        "outputId": "e2d2370f-33d0-4ea4-ad81-981387400192"
      },
      "execution_count": null,
      "outputs": [
        {
          "output_type": "stream",
          "name": "stdout",
          "text": [
            "4776 4776 4776\n"
          ]
        }
      ]
    },
    {
      "cell_type": "code",
      "source": [
        "# Define a mapping of numbers to labels\n",
        "labels = {\n",
        "    0: 'White',\n",
        "    1: 'Black',\n",
        "    2: 'Asian',\n",
        "    3: 'Indian',\n",
        "    4: 'Others'\n",
        "}\n",
        "\n",
        "# Create a new array with corresponding labels\n",
        "y_test_labels = np.vectorize(labels.get)(y_test)\n",
        "y_pred_classes_labels= np.vectorize(labels.get)(y_pred_classes)\n",
        "\n",
        "#print(y_test_labels)\n",
        "#print(y_pred_classes_labels)\n",
        "print(classification_report(y_test_labels,y_pred_classes_labels))"
      ],
      "metadata": {
        "colab": {
          "base_uri": "https://localhost:8080/"
        },
        "id": "fHVGhipisXFP",
        "outputId": "bd5861af-2cf9-4aa2-8566-545ed8c2bba0"
      },
      "execution_count": null,
      "outputs": [
        {
          "output_type": "stream",
          "name": "stdout",
          "text": [
            "              precision    recall  f1-score   support\n",
            "\n",
            "       Asian       0.41      0.16      0.23       670\n",
            "       Black       0.41      0.29      0.34       927\n",
            "      Indian       0.32      0.15      0.21       802\n",
            "      Others       0.24      0.04      0.07       359\n",
            "       White       0.47      0.80      0.60      2018\n",
            "\n",
            "    accuracy                           0.45      4776\n",
            "   macro avg       0.37      0.29      0.29      4776\n",
            "weighted avg       0.41      0.45      0.39      4776\n",
            "\n"
          ]
        }
      ]
    },
    {
      "cell_type": "markdown",
      "metadata": {
        "id": "oXEA2Lq-oXQX"
      },
      "source": [
        "# **NOSE TRAINING AND TEST VALIDATION**"
      ]
    },
    {
      "cell_type": "code",
      "execution_count": 90,
      "metadata": {
        "id": "yIEK1tqEoWwq"
      },
      "outputs": [],
      "source": [
        "#Initialize the dataset\n",
        "#gender\n",
        "# full_train_dataset = EthnicityDataset(root_dir=\"/content/splitted_by_gender/nose/train\")\n",
        "# test_dataset = EthnicityDataset(root_dir=\"/content/splitted_by_gender/nose/test\")\n",
        "\n",
        "#age\n",
        "full_train_dataset = EthnicityDataset(root_dir=\"/content/splitted_by_age/nose/train\")\n",
        "test_dataset = EthnicityDataset(root_dir=\"/content/splitted_by_age/nose/test\")\n",
        "\n",
        "\n",
        "# Extract features for all images in one line\n",
        "X_train= extract_lbp_features(full_train_dataset)\n",
        "y_train = full_train_dataset.labels\n",
        "X_test = extract_lbp_features(test_dataset)\n",
        "y_test=test_dataset.labels\n"
      ]
    },
    {
      "cell_type": "markdown",
      "source": [
        "# **Sampling procedure on the dataset**"
      ],
      "metadata": {
        "id": "K54YIEQPwJkg"
      }
    },
    {
      "cell_type": "code",
      "source": [
        "# ros = RandomOverSampler(sampling_strategy={2: 3500, 3: 3500, 4: 3000}, random_state=42)\n",
        "# rus = RandomUnderSampler(sampling_strategy={0: 5000}, random_state=42)\n",
        "# # Apply oversampling\n",
        "# X_resampled, y_resampled = ros.fit_resample(X_train, y_train)\n",
        "# X_resampled, y_resampled = rus.fit_resample(X_resampled, y_resampled)"
      ],
      "metadata": {
        "id": "hwZRV92wwJkh"
      },
      "execution_count": 57,
      "outputs": []
    },
    {
      "cell_type": "markdown",
      "source": [
        "# **Changing the weights on the training set and producing the datasets for the models**\n",
        "\n",
        "---\n",
        "\n"
      ],
      "metadata": {
        "id": "0tqNuyBjwQ3L"
      }
    },
    {
      "cell_type": "code",
      "source": [
        "X_resampled=X_train\n",
        "y_resampled=y_train\n",
        "\n",
        "class_weights = compute_class_weight('balanced',  classes=np.unique(y_resampled), y=y_resampled, majority_class_weight_factor=1.5)\n",
        "#class_weights = compute_class_weight('balanced', classes=np.unique(y_train), )\n",
        "# Create class weights array for each sample\n",
        "class_weights = np.array([class_weights[label] for label in y_resampled])\n",
        "\n",
        "\n",
        "#X_resampled, y_resampled\n",
        "train_data = lgb.Dataset(X_resampled, label=y_resampled,weight=class_weights)\n",
        "test_data = lgb.Dataset(X_test, label=y_test,free_raw_data=False)\n",
        "\n",
        "# Ensure X_train and y_train are valid NumPy arrays\n",
        "if not isinstance(X_resampled, np.ndarray) or not isinstance(y_train, np.ndarray):\n",
        "    raise ValueError(\"X_train and y_train must be NumPy arrays\")\n",
        "# Check for empty training data\n",
        "if len(X_resampled) == 0:\n",
        "    raise ValueError(\"X_train cannot be empty\")"
      ],
      "metadata": {
        "id": "JHv_tzodwQ3L",
        "colab": {
          "base_uri": "https://localhost:8080/"
        },
        "outputId": "f0b65b7b-06ba-4d08-88a8-6fc67815b8c2"
      },
      "execution_count": 91,
      "outputs": [
        {
          "output_type": "stream",
          "name": "stdout",
          "text": [
            "[1594  786 1151 8131 3172 2939  584   64]\n"
          ]
        }
      ]
    },
    {
      "cell_type": "markdown",
      "source": [
        "# **Using GridSearchCV to tune the hyperparameters**"
      ],
      "metadata": {
        "id": "CVNr0Wmowfg9"
      }
    },
    {
      "cell_type": "code",
      "execution_count": 53,
      "metadata": {
        "colab": {
          "base_uri": "https://localhost:8080/",
          "height": 411
        },
        "outputId": "3ed5855b-7ec6-492b-8b68-7cf407508440",
        "id": "H5DKV9uiwfg-"
      },
      "outputs": [
        {
          "output_type": "stream",
          "name": "stderr",
          "text": [
            "/usr/local/lib/python3.10/dist-packages/sklearn/utils/_tags.py:354: FutureWarning: The LGBMClassifier or classes from which it inherits use `_get_tags` and `_more_tags`. Please define the `__sklearn_tags__` method, or inherit from `sklearn.base.BaseEstimator` and/or other appropriate mixins such as `sklearn.base.TransformerMixin`, `sklearn.base.ClassifierMixin`, `sklearn.base.RegressorMixin`, and `sklearn.base.OutlierMixin`. From scikit-learn 1.7, not defining `__sklearn_tags__` will raise an error.\n",
            "  warnings.warn(\n"
          ]
        },
        {
          "output_type": "error",
          "ename": "KeyboardInterrupt",
          "evalue": "",
          "traceback": [
            "\u001b[0;31m---------------------------------------------------------------------------\u001b[0m",
            "\u001b[0;31mKeyboardInterrupt\u001b[0m                         Traceback (most recent call last)",
            "\u001b[0;32m<ipython-input-53-0d680d60713c>\u001b[0m in \u001b[0;36m<cell line: 26>\u001b[0;34m()\u001b[0m\n\u001b[1;32m     24\u001b[0m                           n_jobs=-1)\n\u001b[1;32m     25\u001b[0m \u001b[0;31m# Fit the GridSearchCV object to the training data\u001b[0m\u001b[0;34m\u001b[0m\u001b[0;34m\u001b[0m\u001b[0m\n\u001b[0;32m---> 26\u001b[0;31m \u001b[0mgrid_search\u001b[0m\u001b[0;34m.\u001b[0m\u001b[0mfit\u001b[0m\u001b[0;34m(\u001b[0m\u001b[0mX_train\u001b[0m\u001b[0;34m,\u001b[0m \u001b[0my_train\u001b[0m\u001b[0;34m)\u001b[0m\u001b[0;34m\u001b[0m\u001b[0;34m\u001b[0m\u001b[0m\n\u001b[0m\u001b[1;32m     27\u001b[0m \u001b[0;34m\u001b[0m\u001b[0m\n\u001b[1;32m     28\u001b[0m \u001b[0;31m# Print the best parameters\u001b[0m\u001b[0;34m\u001b[0m\u001b[0;34m\u001b[0m\u001b[0m\n",
            "\u001b[0;32m/usr/local/lib/python3.10/dist-packages/sklearn/base.py\u001b[0m in \u001b[0;36mwrapper\u001b[0;34m(estimator, *args, **kwargs)\u001b[0m\n\u001b[1;32m   1387\u001b[0m                 )\n\u001b[1;32m   1388\u001b[0m             ):\n\u001b[0;32m-> 1389\u001b[0;31m                 \u001b[0;32mreturn\u001b[0m \u001b[0mfit_method\u001b[0m\u001b[0;34m(\u001b[0m\u001b[0mestimator\u001b[0m\u001b[0;34m,\u001b[0m \u001b[0;34m*\u001b[0m\u001b[0margs\u001b[0m\u001b[0;34m,\u001b[0m \u001b[0;34m**\u001b[0m\u001b[0mkwargs\u001b[0m\u001b[0;34m)\u001b[0m\u001b[0;34m\u001b[0m\u001b[0;34m\u001b[0m\u001b[0m\n\u001b[0m\u001b[1;32m   1390\u001b[0m \u001b[0;34m\u001b[0m\u001b[0m\n\u001b[1;32m   1391\u001b[0m         \u001b[0;32mreturn\u001b[0m \u001b[0mwrapper\u001b[0m\u001b[0;34m\u001b[0m\u001b[0;34m\u001b[0m\u001b[0m\n",
            "\u001b[0;32m/usr/local/lib/python3.10/dist-packages/sklearn/model_selection/_search.py\u001b[0m in \u001b[0;36mfit\u001b[0;34m(self, X, y, **params)\u001b[0m\n\u001b[1;32m   1021\u001b[0m                 \u001b[0;32mreturn\u001b[0m \u001b[0mresults\u001b[0m\u001b[0;34m\u001b[0m\u001b[0;34m\u001b[0m\u001b[0m\n\u001b[1;32m   1022\u001b[0m \u001b[0;34m\u001b[0m\u001b[0m\n\u001b[0;32m-> 1023\u001b[0;31m             \u001b[0mself\u001b[0m\u001b[0;34m.\u001b[0m\u001b[0m_run_search\u001b[0m\u001b[0;34m(\u001b[0m\u001b[0mevaluate_candidates\u001b[0m\u001b[0;34m)\u001b[0m\u001b[0;34m\u001b[0m\u001b[0;34m\u001b[0m\u001b[0m\n\u001b[0m\u001b[1;32m   1024\u001b[0m \u001b[0;34m\u001b[0m\u001b[0m\n\u001b[1;32m   1025\u001b[0m             \u001b[0;31m# multimetric is determined here because in the case of a callable\u001b[0m\u001b[0;34m\u001b[0m\u001b[0;34m\u001b[0m\u001b[0m\n",
            "\u001b[0;32m/usr/local/lib/python3.10/dist-packages/sklearn/model_selection/_search.py\u001b[0m in \u001b[0;36m_run_search\u001b[0;34m(self, evaluate_candidates)\u001b[0m\n\u001b[1;32m   1568\u001b[0m     \u001b[0;32mdef\u001b[0m \u001b[0m_run_search\u001b[0m\u001b[0;34m(\u001b[0m\u001b[0mself\u001b[0m\u001b[0;34m,\u001b[0m \u001b[0mevaluate_candidates\u001b[0m\u001b[0;34m)\u001b[0m\u001b[0;34m:\u001b[0m\u001b[0;34m\u001b[0m\u001b[0;34m\u001b[0m\u001b[0m\n\u001b[1;32m   1569\u001b[0m         \u001b[0;34m\"\"\"Search all candidates in param_grid\"\"\"\u001b[0m\u001b[0;34m\u001b[0m\u001b[0;34m\u001b[0m\u001b[0m\n\u001b[0;32m-> 1570\u001b[0;31m         \u001b[0mevaluate_candidates\u001b[0m\u001b[0;34m(\u001b[0m\u001b[0mParameterGrid\u001b[0m\u001b[0;34m(\u001b[0m\u001b[0mself\u001b[0m\u001b[0;34m.\u001b[0m\u001b[0mparam_grid\u001b[0m\u001b[0;34m)\u001b[0m\u001b[0;34m)\u001b[0m\u001b[0;34m\u001b[0m\u001b[0;34m\u001b[0m\u001b[0m\n\u001b[0m\u001b[1;32m   1571\u001b[0m \u001b[0;34m\u001b[0m\u001b[0m\n\u001b[1;32m   1572\u001b[0m \u001b[0;34m\u001b[0m\u001b[0m\n",
            "\u001b[0;32m/usr/local/lib/python3.10/dist-packages/sklearn/model_selection/_search.py\u001b[0m in \u001b[0;36mevaluate_candidates\u001b[0;34m(candidate_params, cv, more_results)\u001b[0m\n\u001b[1;32m    967\u001b[0m                     )\n\u001b[1;32m    968\u001b[0m \u001b[0;34m\u001b[0m\u001b[0m\n\u001b[0;32m--> 969\u001b[0;31m                 out = parallel(\n\u001b[0m\u001b[1;32m    970\u001b[0m                     delayed(_fit_and_score)(\n\u001b[1;32m    971\u001b[0m                         \u001b[0mclone\u001b[0m\u001b[0;34m(\u001b[0m\u001b[0mbase_estimator\u001b[0m\u001b[0;34m)\u001b[0m\u001b[0;34m,\u001b[0m\u001b[0;34m\u001b[0m\u001b[0;34m\u001b[0m\u001b[0m\n",
            "\u001b[0;32m/usr/local/lib/python3.10/dist-packages/sklearn/utils/parallel.py\u001b[0m in \u001b[0;36m__call__\u001b[0;34m(self, iterable)\u001b[0m\n\u001b[1;32m     75\u001b[0m             \u001b[0;32mfor\u001b[0m \u001b[0mdelayed_func\u001b[0m\u001b[0;34m,\u001b[0m \u001b[0margs\u001b[0m\u001b[0;34m,\u001b[0m \u001b[0mkwargs\u001b[0m \u001b[0;32min\u001b[0m \u001b[0miterable\u001b[0m\u001b[0;34m\u001b[0m\u001b[0;34m\u001b[0m\u001b[0m\n\u001b[1;32m     76\u001b[0m         )\n\u001b[0;32m---> 77\u001b[0;31m         \u001b[0;32mreturn\u001b[0m \u001b[0msuper\u001b[0m\u001b[0;34m(\u001b[0m\u001b[0;34m)\u001b[0m\u001b[0;34m.\u001b[0m\u001b[0m__call__\u001b[0m\u001b[0;34m(\u001b[0m\u001b[0miterable_with_config\u001b[0m\u001b[0;34m)\u001b[0m\u001b[0;34m\u001b[0m\u001b[0;34m\u001b[0m\u001b[0m\n\u001b[0m\u001b[1;32m     78\u001b[0m \u001b[0;34m\u001b[0m\u001b[0m\n\u001b[1;32m     79\u001b[0m \u001b[0;34m\u001b[0m\u001b[0m\n",
            "\u001b[0;32m/usr/local/lib/python3.10/dist-packages/joblib/parallel.py\u001b[0m in \u001b[0;36m__call__\u001b[0;34m(self, iterable)\u001b[0m\n\u001b[1;32m   2005\u001b[0m         \u001b[0mnext\u001b[0m\u001b[0;34m(\u001b[0m\u001b[0moutput\u001b[0m\u001b[0;34m)\u001b[0m\u001b[0;34m\u001b[0m\u001b[0;34m\u001b[0m\u001b[0m\n\u001b[1;32m   2006\u001b[0m \u001b[0;34m\u001b[0m\u001b[0m\n\u001b[0;32m-> 2007\u001b[0;31m         \u001b[0;32mreturn\u001b[0m \u001b[0moutput\u001b[0m \u001b[0;32mif\u001b[0m \u001b[0mself\u001b[0m\u001b[0;34m.\u001b[0m\u001b[0mreturn_generator\u001b[0m \u001b[0;32melse\u001b[0m \u001b[0mlist\u001b[0m\u001b[0;34m(\u001b[0m\u001b[0moutput\u001b[0m\u001b[0;34m)\u001b[0m\u001b[0;34m\u001b[0m\u001b[0;34m\u001b[0m\u001b[0m\n\u001b[0m\u001b[1;32m   2008\u001b[0m \u001b[0;34m\u001b[0m\u001b[0m\n\u001b[1;32m   2009\u001b[0m     \u001b[0;32mdef\u001b[0m \u001b[0m__repr__\u001b[0m\u001b[0;34m(\u001b[0m\u001b[0mself\u001b[0m\u001b[0;34m)\u001b[0m\u001b[0;34m:\u001b[0m\u001b[0;34m\u001b[0m\u001b[0;34m\u001b[0m\u001b[0m\n",
            "\u001b[0;32m/usr/local/lib/python3.10/dist-packages/joblib/parallel.py\u001b[0m in \u001b[0;36m_get_outputs\u001b[0;34m(self, iterator, pre_dispatch)\u001b[0m\n\u001b[1;32m   1648\u001b[0m \u001b[0;34m\u001b[0m\u001b[0m\n\u001b[1;32m   1649\u001b[0m             \u001b[0;32mwith\u001b[0m \u001b[0mself\u001b[0m\u001b[0;34m.\u001b[0m\u001b[0m_backend\u001b[0m\u001b[0;34m.\u001b[0m\u001b[0mretrieval_context\u001b[0m\u001b[0;34m(\u001b[0m\u001b[0;34m)\u001b[0m\u001b[0;34m:\u001b[0m\u001b[0;34m\u001b[0m\u001b[0;34m\u001b[0m\u001b[0m\n\u001b[0;32m-> 1650\u001b[0;31m                 \u001b[0;32myield\u001b[0m \u001b[0;32mfrom\u001b[0m \u001b[0mself\u001b[0m\u001b[0;34m.\u001b[0m\u001b[0m_retrieve\u001b[0m\u001b[0;34m(\u001b[0m\u001b[0;34m)\u001b[0m\u001b[0;34m\u001b[0m\u001b[0;34m\u001b[0m\u001b[0m\n\u001b[0m\u001b[1;32m   1651\u001b[0m \u001b[0;34m\u001b[0m\u001b[0m\n\u001b[1;32m   1652\u001b[0m         \u001b[0;32mexcept\u001b[0m \u001b[0mGeneratorExit\u001b[0m\u001b[0;34m:\u001b[0m\u001b[0;34m\u001b[0m\u001b[0;34m\u001b[0m\u001b[0m\n",
            "\u001b[0;32m/usr/local/lib/python3.10/dist-packages/joblib/parallel.py\u001b[0m in \u001b[0;36m_retrieve\u001b[0;34m(self)\u001b[0m\n\u001b[1;32m   1760\u001b[0m                 (self._jobs[0].get_status(\n\u001b[1;32m   1761\u001b[0m                     timeout=self.timeout) == TASK_PENDING)):\n\u001b[0;32m-> 1762\u001b[0;31m                 \u001b[0mtime\u001b[0m\u001b[0;34m.\u001b[0m\u001b[0msleep\u001b[0m\u001b[0;34m(\u001b[0m\u001b[0;36m0.01\u001b[0m\u001b[0;34m)\u001b[0m\u001b[0;34m\u001b[0m\u001b[0;34m\u001b[0m\u001b[0m\n\u001b[0m\u001b[1;32m   1763\u001b[0m                 \u001b[0;32mcontinue\u001b[0m\u001b[0;34m\u001b[0m\u001b[0;34m\u001b[0m\u001b[0m\n\u001b[1;32m   1764\u001b[0m \u001b[0;34m\u001b[0m\u001b[0m\n",
            "\u001b[0;31mKeyboardInterrupt\u001b[0m: "
          ]
        }
      ],
      "source": [
        "# Define the parameter grid for Grid Search\n",
        "param_grid = {\n",
        "    'learning_rate': [0.05, 0.1, 0.15],\n",
        "    'n_estimators': [100, 200, 300],\n",
        "    'max_depth': [3, 5, 7],\n",
        "    'num_leaves': [31, 63, 127],\n",
        "    'subsample': [0.8, 0.9],\n",
        "    'colsample_bytree': [0.8, 0.9]\n",
        "}\n",
        "\n",
        "# Create a LightGBM classifier\n",
        "model = lgb.LGBMClassifier(\n",
        "    objective='multiclass',\n",
        "    num_class=len(np.unique(y_resampled)),\n",
        "    metric='multi_logloss',\n",
        "    verbose=-1\n",
        ")\n",
        "\n",
        "# Create a GridSearchCV object\n",
        "grid_search = GridSearchCV(estimator=model,\n",
        "                          param_grid=param_grid,\n",
        "                          cv=2,\n",
        "                          scoring='accuracy',\n",
        "                          n_jobs=-1)\n",
        "# Fit the GridSearchCV object to the training data\n",
        "grid_search.fit(X_train, y_train)\n",
        "\n",
        "# Print the best parameters\n",
        "print(f\"Best parameters: {grid_search.best_params_}\")\n",
        "\n",
        "# params = {\n",
        "#     'objective': 'multiclass',  # Adjust for your specific task\n",
        "#     'num_class': len(np.unique(y_resampled)),# Number of classes in your dataset\n",
        "#     'metric': 'multi_logloss',\n",
        "#     'learning_rate':  0.07,\n",
        "#     'num_leaves': 31,\n",
        "#     'max_depth': 6,\n",
        "#     'boosting_type': 'gbdt',\n",
        "#     'verbose': -1,\n",
        "#     'feature_fraction': 0.8\n",
        "#     # ... other hyperparameters\n",
        "# }\n",
        "# num_round=110\n",
        "# #GridSearchCV to tune the hyperparameters\n",
        "# model = lgb.train(params,\n",
        "#                  train_data,\n",
        "#                  num_round,\n",
        "#                  valid_sets=[train_data,test_data],\n",
        "#                  callbacks=[lgb.early_stopping(stopping_rounds=10), lgb.log_evaluation(period=10)])\n",
        "\n",
        "# kfold = KFold(n_splits=5, shuffle=True, random_state=42)\n",
        "\n",
        "# for fold, (train_index, val_index) in enumerate(kfold.split(X_resampled, y_resampled)):\n",
        "#     X_train, X_val = X_resampled[train_index], X_resampled[val_index]\n",
        "#     y_train, y_val = y_resampled[train_index], y_resampled[val_index]\n",
        "\n",
        "#     train_data = lgb.Dataset(X_train, label=y_train)\n",
        "#     val_data = lgb.Dataset(X_val, label=y_val)\n",
        "\n",
        "#     model = lgb.train(params,\n",
        "#                       train_data,\n",
        "#                       num_round,\n",
        "#                       valid_sets=[train_data, val_data],\n",
        "#                       callbacks=[lgb.early_stopping(stopping_rounds=10), lgb.log_evaluation(period=10)])\n",
        "\n",
        "#     y_pred = model.predict(X_val, num_iteration=model.best_iteration)\n",
        "#     y_pred_classes = y_pred.argmax(axis=1)\n",
        "\n",
        "#     # Evaluate the model on the validation fold\n",
        "#     print(f\"Fold {fold+1} Classification Report:\")\n",
        "#     print(classification_report(y_val, y_pred_classes))\n",
        "\n",
        "# y_pred = model.predict(X_test, num_iteration=model.best_iteration)\n",
        "# y_pred_classes = y_pred.argmax(axis=1)\n",
        "# # Evaluate the model\n",
        "# print(classification_report(y_test, y_pred_classes))\n"
      ]
    },
    {
      "cell_type": "code",
      "source": [
        "#Best parameters: {'colsample_bytree': 0.8, 'learning_rate': 0.05, 'max_depth': 5, 'n_estimators': 200, 'num_leaves': 63, 'subsample': 0.8}"
      ],
      "metadata": {
        "id": "sJm75eP6wfg-"
      },
      "execution_count": null,
      "outputs": []
    },
    {
      "cell_type": "markdown",
      "source": [
        "# **Training the model on the newly found hyperparameters and predicting the labels**"
      ],
      "metadata": {
        "id": "FaftvX3mwj9W"
      }
    },
    {
      "cell_type": "code",
      "source": [
        "# Define the parameter grid for Grid Search\n",
        "bst_prms= {\n",
        "    'objective': 'multiclass',\n",
        "    'num_class': len(np.unique(y_resampled)),\n",
        "    'metric': 'multi_logloss',\n",
        "    'learning_rate': 0.05,\n",
        "    'n_estimators': 200,\n",
        "    'max_depth': 5,\n",
        "    'num_leaves': 63,\n",
        "    'subsample': 0.8,\n",
        "    'colsample_bytree': 0.8,\n",
        "    'verbose': -1\n",
        "}\n",
        "num_round=200\n",
        "model = lgb.train(bst_prms,\n",
        "                 train_data,\n",
        "                 num_round,\n",
        "                 valid_sets=test_data,\n",
        "                 callbacks=[lgb.early_stopping(stopping_rounds=10), lgb.log_evaluation(period=10)])\n",
        "#gender\n",
        "# y_pred = model.predict(X_test, num_iteration=model.best_iteration)\n",
        "# y_pred_classes = y_pred.argmax(axis=1)\n",
        "# label_map = {0: \"male\", 1: \"female\"}  # Assuming 0 represents \"male\" and 1 represents \"female\"\n",
        "# y_pred_classes = [label_map[i] for i in y_pred_classes]\n",
        "\n",
        "#age\n",
        "y_pred = model.predict(X_test, num_iteration=model.best_iteration)\n",
        "y_pred_probs = y_pred  # Store probabilities for potential later use\n",
        "\n",
        "# Get predicted class indices\n",
        "y_pred_classes = y_pred.argmax(axis=1)\n",
        "\n",
        "# Define label_map (mapping integer labels to class names)\n",
        "label_map = {\n",
        "    0: \"Class 1\",\n",
        "    1: \"Class 2\",\n",
        "    2: \"Class 3\",\n",
        "    3: \"Class 4\",\n",
        "    4: \"Class 5\",\n",
        "    5: \"Class 6\",\n",
        "    6: \"Class 7\",\n",
        "    7: \"Class 8\",\n",
        "}\n",
        "\n",
        "# Map predicted class indices to class names\n",
        "y_pred_classes = [label_map[i] for i in y_pred_classes]\n",
        "#stops here\n"
      ],
      "metadata": {
        "colab": {
          "base_uri": "https://localhost:8080/"
        },
        "outputId": "5e7973aa-f0ff-4242-8d23-46634a41bb60",
        "id": "IVL-vHkewj9W"
      },
      "execution_count": 92,
      "outputs": [
        {
          "output_type": "stream",
          "name": "stderr",
          "text": [
            "/usr/local/lib/python3.10/dist-packages/lightgbm/engine.py:204: UserWarning: Found `n_estimators` in params. Will use it instead of argument\n",
            "  _log_warning(f\"Found `{alias}` in params. Will use it instead of argument\")\n"
          ]
        },
        {
          "output_type": "stream",
          "name": "stdout",
          "text": [
            "Training until validation scores don't improve for 10 rounds\n",
            "[10]\tvalid_0's multi_logloss: 1.80931\n",
            "[20]\tvalid_0's multi_logloss: 1.73621\n",
            "[30]\tvalid_0's multi_logloss: 1.69611\n",
            "[40]\tvalid_0's multi_logloss: 1.67069\n",
            "[50]\tvalid_0's multi_logloss: 1.65458\n",
            "[60]\tvalid_0's multi_logloss: 1.64352\n",
            "[70]\tvalid_0's multi_logloss: 1.63616\n",
            "[80]\tvalid_0's multi_logloss: 1.63052\n",
            "[90]\tvalid_0's multi_logloss: 1.62563\n",
            "[100]\tvalid_0's multi_logloss: 1.6216\n",
            "[110]\tvalid_0's multi_logloss: 1.61848\n",
            "[120]\tvalid_0's multi_logloss: 1.61531\n",
            "[130]\tvalid_0's multi_logloss: 1.61114\n",
            "[140]\tvalid_0's multi_logloss: 1.60782\n",
            "[150]\tvalid_0's multi_logloss: 1.60464\n",
            "[160]\tvalid_0's multi_logloss: 1.60271\n",
            "[170]\tvalid_0's multi_logloss: 1.60034\n",
            "[180]\tvalid_0's multi_logloss: 1.59786\n",
            "[190]\tvalid_0's multi_logloss: 1.59574\n",
            "[200]\tvalid_0's multi_logloss: 1.59397\n",
            "Did not meet early stopping. Best iteration is:\n",
            "[200]\tvalid_0's multi_logloss: 1.59397\n"
          ]
        }
      ]
    },
    {
      "cell_type": "code",
      "source": [
        "print(y_test)\n",
        "print(y_pred_classes)"
      ],
      "metadata": {
        "colab": {
          "base_uri": "https://localhost:8080/"
        },
        "id": "1OVnMvSXWvGT",
        "outputId": "a3036646-8858-4751-f4d5-2c42db2772af"
      },
      "execution_count": 64,
      "outputs": [
        {
          "output_type": "stream",
          "name": "stdout",
          "text": [
            "[1 1 1 ... 0 0 0]\n",
            "['male', 'female', 'female', 'male', 'female', 'male', 'female', 'male', 'male', 'female', 'male', 'male', 'female', 'male', 'male', 'female', 'male', 'male', 'male', 'male', 'female', 'male', 'male', 'male', 'male', 'male', 'female', 'male', 'male', 'male', 'female', 'male', 'male', 'male', 'male', 'male', 'male', 'male', 'female', 'male', 'male', 'male', 'female', 'female', 'female', 'female', 'male', 'female', 'male', 'male', 'male', 'male', 'female', 'male', 'male', 'male', 'male', 'male', 'male', 'female', 'female', 'male', 'male', 'male', 'male', 'male', 'male', 'male', 'male', 'male', 'male', 'male', 'male', 'male', 'male', 'male', 'male', 'male', 'female', 'male', 'male', 'female', 'female', 'male', 'male', 'male', 'male', 'male', 'male', 'male', 'male', 'female', 'male', 'male', 'male', 'male', 'male', 'female', 'male', 'male', 'female', 'male', 'female', 'male', 'female', 'male', 'female', 'male', 'male', 'female', 'male', 'male', 'female', 'male', 'male', 'female', 'female', 'female', 'female', 'male', 'male', 'male', 'male', 'male', 'male', 'male', 'male', 'male', 'male', 'male', 'male', 'male', 'male', 'female', 'female', 'male', 'male', 'female', 'male', 'male', 'male', 'male', 'male', 'male', 'male', 'female', 'male', 'male', 'female', 'female', 'male', 'male', 'female', 'male', 'male', 'male', 'female', 'male', 'male', 'male', 'male', 'male', 'male', 'male', 'female', 'female', 'male', 'female', 'male', 'male', 'female', 'male', 'male', 'male', 'male', 'male', 'male', 'female', 'female', 'male', 'male', 'male', 'female', 'male', 'male', 'male', 'female', 'female', 'female', 'male', 'male', 'male', 'male', 'male', 'male', 'male', 'male', 'male', 'male', 'male', 'male', 'male', 'female', 'female', 'female', 'male', 'male', 'male', 'male', 'male', 'male', 'male', 'male', 'male', 'male', 'male', 'male', 'male', 'male', 'female', 'male', 'female', 'male', 'female', 'male', 'male', 'male', 'male', 'female', 'male', 'male', 'female', 'male', 'female', 'female', 'female', 'female', 'male', 'male', 'male', 'male', 'male', 'female', 'male', 'female', 'male', 'male', 'male', 'male', 'male', 'male', 'male', 'male', 'female', 'female', 'female', 'female', 'male', 'male', 'male', 'male', 'male', 'female', 'female', 'male', 'male', 'female', 'male', 'male', 'male', 'male', 'male', 'male', 'female', 'male', 'male', 'female', 'female', 'male', 'male', 'male', 'male', 'male', 'female', 'female', 'male', 'male', 'male', 'male', 'male', 'male', 'male', 'male', 'male', 'female', 'female', 'male', 'male', 'female', 'male', 'male', 'male', 'female', 'male', 'female', 'female', 'female', 'female', 'male', 'male', 'male', 'male', 'male', 'female', 'female', 'male', 'female', 'male', 'male', 'male', 'male', 'male', 'male', 'male', 'male', 'male', 'male', 'female', 'male', 'female', 'male', 'male', 'male', 'female', 'female', 'male', 'female', 'male', 'male', 'male', 'female', 'male', 'male', 'female', 'male', 'male', 'male', 'male', 'male', 'female', 'male', 'male', 'female', 'male', 'male', 'female', 'male', 'female', 'female', 'male', 'male', 'male', 'male', 'female', 'male', 'male', 'male', 'male', 'female', 'male', 'male', 'male', 'male', 'male', 'male', 'male', 'female', 'male', 'male', 'male', 'male', 'male', 'male', 'male', 'male', 'male', 'male', 'male', 'male', 'female', 'male', 'male', 'male', 'male', 'female', 'male', 'female', 'male', 'male', 'male', 'female', 'male', 'male', 'male', 'female', 'male', 'male', 'male', 'male', 'male', 'male', 'male', 'female', 'female', 'male', 'female', 'male', 'female', 'male', 'male', 'male', 'male', 'male', 'female', 'male', 'male', 'female', 'female', 'male', 'male', 'male', 'male', 'male', 'male', 'male', 'male', 'male', 'male', 'male', 'male', 'female', 'male', 'male', 'male', 'female', 'male', 'male', 'male', 'male', 'male', 'male', 'male', 'male', 'male', 'male', 'male', 'male', 'male', 'male', 'male', 'male', 'female', 'male', 'male', 'male', 'male', 'male', 'male', 'male', 'female', 'female', 'female', 'male', 'male', 'male', 'male', 'male', 'female', 'female', 'male', 'male', 'male', 'male', 'male', 'male', 'male', 'male', 'male', 'female', 'male', 'male', 'male', 'female', 'male', 'male', 'female', 'male', 'male', 'male', 'male', 'male', 'female', 'female', 'male', 'male', 'male', 'male', 'male', 'female', 'male', 'male', 'female', 'male', 'male', 'male', 'male', 'male', 'male', 'male', 'male', 'male', 'female', 'male', 'female', 'male', 'male', 'male', 'female', 'female', 'male', 'female', 'female', 'male', 'male', 'female', 'male', 'male', 'male', 'male', 'female', 'male', 'female', 'female', 'male', 'male', 'male', 'male', 'male', 'male', 'male', 'male', 'male', 'male', 'female', 'male', 'female', 'male', 'male', 'male', 'male', 'male', 'male', 'male', 'male', 'male', 'male', 'male', 'male', 'male', 'male', 'male', 'male', 'male', 'female', 'female', 'male', 'male', 'male', 'male', 'male', 'male', 'female', 'male', 'male', 'male', 'female', 'male', 'male', 'male', 'female', 'male', 'male', 'male', 'male', 'male', 'male', 'male', 'female', 'female', 'male', 'female', 'male', 'female', 'male', 'male', 'male', 'male', 'male', 'male', 'male', 'male', 'male', 'male', 'male', 'female', 'male', 'male', 'female', 'male', 'female', 'male', 'male', 'male', 'male', 'male', 'female', 'male', 'male', 'male', 'male', 'male', 'male', 'male', 'male', 'male', 'male', 'male', 'male', 'male', 'male', 'male', 'male', 'female', 'male', 'female', 'male', 'male', 'male', 'female', 'male', 'female', 'male', 'male', 'female', 'male', 'male', 'male', 'male', 'male', 'male', 'male', 'male', 'female', 'male', 'female', 'male', 'male', 'male', 'male', 'female', 'male', 'male', 'male', 'female', 'female', 'male', 'male', 'male', 'male', 'male', 'male', 'male', 'female', 'male', 'male', 'male', 'female', 'female', 'male', 'female', 'female', 'female', 'male', 'male', 'male', 'male', 'female', 'male', 'male', 'female', 'male', 'male', 'male', 'male', 'female', 'male', 'male', 'male', 'male', 'male', 'male', 'male', 'female', 'female', 'male', 'male', 'female', 'male', 'male', 'male', 'male', 'female', 'male', 'male', 'male', 'male', 'female', 'male', 'male', 'male', 'female', 'male', 'male', 'male', 'male', 'male', 'female', 'male', 'female', 'male', 'male', 'male', 'female', 'male', 'male', 'male', 'male', 'female', 'male', 'male', 'male', 'male', 'male', 'male', 'male', 'male', 'male', 'male', 'male', 'male', 'male', 'male', 'male', 'female', 'male', 'male', 'male', 'female', 'male', 'male', 'male', 'female', 'male', 'male', 'male', 'male', 'male', 'male', 'female', 'male', 'female', 'male', 'male', 'male', 'male', 'male', 'male', 'male', 'male', 'male', 'male', 'male', 'male', 'male', 'female', 'male', 'male', 'female', 'male', 'male', 'male', 'male', 'female', 'female', 'male', 'male', 'male', 'male', 'male', 'female', 'female', 'female', 'male', 'male', 'male', 'male', 'male', 'male', 'male', 'female', 'male', 'male', 'male', 'female', 'female', 'male', 'male', 'male', 'male', 'female', 'male', 'female', 'male', 'female', 'female', 'male', 'female', 'female', 'male', 'male', 'male', 'male', 'female', 'male', 'male', 'female', 'male', 'female', 'male', 'male', 'male', 'male', 'female', 'male', 'male', 'male', 'male', 'male', 'female', 'male', 'female', 'male', 'female', 'male', 'male', 'male', 'female', 'male', 'male', 'male', 'male', 'male', 'male', 'male', 'female', 'male', 'female', 'male', 'female', 'male', 'male', 'male', 'female', 'male', 'female', 'male', 'male', 'female', 'male', 'female', 'male', 'male', 'male', 'male', 'male', 'female', 'female', 'male', 'male', 'female', 'female', 'female', 'male', 'female', 'female', 'male', 'male', 'male', 'male', 'female', 'male', 'male', 'male', 'female', 'female', 'male', 'male', 'male', 'male', 'male', 'male', 'male', 'male', 'male', 'male', 'male', 'male', 'female', 'male', 'male', 'male', 'male', 'male', 'female', 'male', 'female', 'male', 'male', 'male', 'female', 'female', 'female', 'male', 'male', 'female', 'male', 'male', 'male', 'male', 'male', 'male', 'male', 'male', 'female', 'male', 'male', 'male', 'male', 'male', 'male', 'male', 'female', 'male', 'male', 'male', 'female', 'female', 'male', 'male', 'male', 'female', 'male', 'female', 'female', 'female', 'male', 'male', 'male', 'male', 'male', 'male', 'male', 'male', 'male', 'male', 'male', 'female', 'male', 'female', 'male', 'female', 'female', 'male', 'male', 'male', 'male', 'male', 'male', 'female', 'female', 'male', 'male', 'male', 'male', 'male', 'male', 'male', 'female', 'female', 'male', 'female', 'male', 'male', 'male', 'male', 'male', 'female', 'male', 'male', 'male', 'male', 'male', 'male', 'female', 'male', 'male', 'male', 'male', 'female', 'male', 'male', 'male', 'female', 'female', 'male', 'male', 'male', 'male', 'male', 'male', 'male', 'male', 'male', 'male', 'female', 'male', 'male', 'female', 'male', 'female', 'male', 'male', 'male', 'male', 'male', 'male', 'male', 'male', 'male', 'male', 'male', 'male', 'male', 'male', 'female', 'male', 'male', 'male', 'male', 'male', 'male', 'male', 'male', 'female', 'male', 'female', 'female', 'male', 'male', 'female', 'male', 'male', 'male', 'male', 'male', 'male', 'male', 'male', 'male', 'male', 'female', 'male', 'male', 'male', 'male', 'female', 'male', 'male', 'male', 'male', 'male', 'female', 'male', 'male', 'male', 'male', 'male', 'male', 'female', 'male', 'male', 'female', 'female', 'male', 'male', 'female', 'male', 'male', 'male', 'male', 'male', 'male', 'male', 'female', 'male', 'male', 'female', 'female', 'male', 'male', 'male', 'male', 'male', 'male', 'female', 'female', 'female', 'male', 'male', 'female', 'male', 'male', 'male', 'male', 'male', 'female', 'female', 'female', 'female', 'male', 'male', 'male', 'male', 'male', 'male', 'female', 'male', 'male', 'male', 'female', 'female', 'male', 'male', 'male', 'male', 'male', 'male', 'male', 'male', 'male', 'male', 'male', 'female', 'male', 'male', 'female', 'male', 'male', 'male', 'male', 'male', 'female', 'male', 'male', 'male', 'male', 'female', 'male', 'female', 'male', 'male', 'male', 'female', 'male', 'male', 'male', 'female', 'male', 'male', 'female', 'male', 'female', 'male', 'male', 'female', 'male', 'male', 'male', 'male', 'male', 'male', 'male', 'male', 'male', 'male', 'male', 'female', 'female', 'male', 'male', 'male', 'male', 'male', 'male', 'male', 'male', 'male', 'female', 'female', 'male', 'female', 'male', 'male', 'female', 'male', 'male', 'male', 'female', 'female', 'male', 'male', 'female', 'male', 'male', 'male', 'male', 'male', 'male', 'male', 'male', 'female', 'female', 'male', 'male', 'male', 'male', 'male', 'male', 'male', 'female', 'male', 'male', 'female', 'male', 'male', 'male', 'male', 'male', 'male', 'male', 'female', 'male', 'female', 'male', 'male', 'female', 'male', 'female', 'male', 'female', 'male', 'male', 'male', 'male', 'female', 'male', 'male', 'male', 'male', 'female', 'male', 'female', 'male', 'female', 'male', 'male', 'male', 'male', 'male', 'male', 'male', 'male', 'male', 'male', 'female', 'male', 'male', 'male', 'male', 'female', 'male', 'male', 'male', 'male', 'male', 'male', 'female', 'male', 'female', 'female', 'male', 'male', 'male', 'female', 'male', 'male', 'female', 'male', 'male', 'male', 'male', 'male', 'male', 'male', 'male', 'male', 'male', 'male', 'male', 'female', 'male', 'male', 'male', 'male', 'male', 'male', 'male', 'male', 'male', 'male', 'male', 'male', 'male', 'female', 'male', 'male', 'male', 'male', 'male', 'male', 'female', 'male', 'male', 'female', 'male', 'male', 'male', 'male', 'female', 'female', 'male', 'male', 'male', 'male', 'female', 'male', 'female', 'female', 'male', 'male', 'male', 'male', 'male', 'female', 'male', 'female', 'female', 'male', 'female', 'male', 'male', 'male', 'male', 'female', 'male', 'male', 'male', 'male', 'male', 'male', 'male', 'male', 'male', 'female', 'male', 'male', 'male', 'male', 'female', 'male', 'male', 'female', 'female', 'male', 'male', 'male', 'male', 'male', 'male', 'male', 'male', 'male', 'male', 'female', 'male', 'male', 'male', 'male', 'female', 'male', 'male', 'male', 'female', 'female', 'male', 'female', 'male', 'male', 'male', 'male', 'male', 'male', 'male', 'male', 'female', 'male', 'female', 'male', 'male', 'male', 'male', 'male', 'female', 'male', 'male', 'male', 'male', 'male', 'male', 'male', 'female', 'male', 'female', 'male', 'male', 'male', 'male', 'female', 'male', 'male', 'male', 'female', 'male', 'male', 'male', 'female', 'female', 'female', 'female', 'female', 'male', 'male', 'male', 'male', 'male', 'male', 'male', 'male', 'male', 'female', 'male', 'male', 'male', 'male', 'male', 'female', 'male', 'male', 'male', 'female', 'male', 'female', 'male', 'female', 'female', 'male', 'male', 'male', 'female', 'female', 'male', 'male', 'female', 'male', 'male', 'male', 'male', 'female', 'male', 'female', 'male', 'male', 'male', 'male', 'male', 'male', 'male', 'male', 'male', 'male', 'male', 'male', 'male', 'female', 'male', 'male', 'male', 'female', 'male', 'male', 'male', 'male', 'female', 'male', 'male', 'male', 'male', 'male', 'female', 'male', 'female', 'male', 'female', 'male', 'male', 'female', 'male', 'male', 'male', 'male', 'male', 'female', 'male', 'male', 'male', 'male', 'male', 'male', 'male', 'male', 'male', 'male', 'male', 'male', 'male', 'male', 'male', 'male', 'male', 'male', 'male', 'female', 'male', 'male', 'female', 'male', 'male', 'male', 'male', 'male', 'male', 'female', 'male', 'male', 'male', 'male', 'male', 'male', 'male', 'male', 'male', 'female', 'male', 'male', 'male', 'male', 'male', 'male', 'male', 'male', 'male', 'male', 'male', 'male', 'male', 'female', 'male', 'female', 'male', 'male', 'male', 'male', 'male', 'male', 'male', 'female', 'female', 'female', 'male', 'male', 'male', 'female', 'male', 'male', 'male', 'male', 'male', 'female', 'male', 'female', 'male', 'female', 'male', 'male', 'male', 'male', 'male', 'male', 'male', 'male', 'female', 'female', 'male', 'male', 'male', 'male', 'male', 'male', 'male', 'male', 'female', 'male', 'male', 'male', 'male', 'male', 'female', 'male', 'male', 'female', 'male', 'male', 'female', 'male', 'male', 'male', 'male', 'male', 'male', 'male', 'male', 'male', 'female', 'female', 'male', 'male', 'male', 'female', 'male', 'female', 'male', 'male', 'male', 'female', 'male', 'male', 'male', 'male', 'male', 'male', 'male', 'male', 'male', 'female', 'male', 'male', 'male', 'male', 'male', 'female', 'male', 'male', 'male', 'female', 'female', 'male', 'male', 'male', 'female', 'male', 'male', 'male', 'male', 'male', 'male', 'female', 'female', 'male', 'male', 'male', 'male', 'male', 'male', 'male', 'male', 'female', 'female', 'female', 'female', 'male', 'male', 'male', 'male', 'female', 'male', 'male', 'male', 'female', 'female', 'female', 'male', 'male', 'male', 'female', 'male', 'female', 'male', 'male', 'male', 'male', 'male', 'male', 'male', 'male', 'female', 'female', 'female', 'male', 'male', 'male', 'male', 'male', 'male', 'male', 'male', 'male', 'male', 'female', 'male', 'male', 'female', 'male', 'female', 'male', 'male', 'male', 'male', 'female', 'male', 'male', 'male', 'male', 'male', 'female', 'male', 'male', 'female', 'male', 'male', 'female', 'male', 'female', 'male', 'male', 'male', 'male', 'male', 'female', 'female', 'male', 'female', 'male', 'male', 'male', 'male', 'female', 'male', 'female', 'male', 'male', 'male', 'male', 'male', 'female', 'male', 'male', 'male', 'female', 'male', 'female', 'male', 'male', 'female', 'male', 'male', 'male', 'male', 'male', 'female', 'male', 'male', 'male', 'male', 'male', 'female', 'female', 'male', 'male', 'male', 'male', 'male', 'female', 'male', 'male', 'male', 'male', 'male', 'male', 'female', 'male', 'male', 'male', 'male', 'female', 'male', 'male', 'male', 'male', 'male', 'female', 'female', 'male', 'male', 'female', 'male', 'male', 'male', 'male', 'male', 'male', 'female', 'female', 'male', 'male', 'male', 'male', 'female', 'male', 'male', 'male', 'female', 'male', 'male', 'female', 'female', 'female', 'male', 'male', 'female', 'female', 'male', 'male', 'male', 'male', 'female', 'male', 'male', 'male', 'male', 'male', 'male', 'male', 'male', 'male', 'female', 'male', 'female', 'male', 'male', 'male', 'male', 'male', 'male', 'male', 'male', 'female', 'male', 'male', 'male', 'male', 'male', 'male', 'male', 'male', 'male', 'female', 'male', 'male', 'female', 'female', 'male', 'female', 'male', 'male', 'female', 'male', 'male', 'male', 'male', 'male', 'male', 'female', 'male', 'male', 'male', 'male', 'male', 'male', 'male', 'female', 'male', 'male', 'female', 'male', 'female', 'male', 'female', 'male', 'male', 'female', 'male', 'male', 'male', 'male', 'male', 'male', 'male', 'female', 'female', 'male', 'female', 'female', 'female', 'male', 'male', 'male', 'male', 'male', 'female', 'male', 'male', 'female', 'female', 'male', 'female', 'male', 'male', 'male', 'male', 'female', 'female', 'female', 'male', 'male', 'male', 'male', 'female', 'male', 'male', 'female', 'male', 'male', 'male', 'male', 'female', 'female', 'male', 'male', 'male', 'male', 'male', 'male', 'male', 'female', 'male', 'female', 'male', 'female', 'male', 'male', 'male', 'female', 'male', 'male', 'male', 'male', 'male', 'male', 'female', 'male', 'male', 'male', 'male', 'female', 'female', 'male', 'male', 'male', 'male', 'male', 'male', 'male', 'male', 'male', 'female', 'male', 'male', 'male', 'male', 'male', 'female', 'male', 'male', 'male', 'male', 'male', 'female', 'male', 'male', 'female', 'male', 'female', 'female', 'male', 'female', 'female', 'female', 'male', 'female', 'male', 'male', 'female', 'male', 'male', 'male', 'female', 'male', 'male', 'male', 'male', 'female', 'male', 'male', 'male', 'male', 'male', 'male', 'female', 'male', 'male', 'female', 'male', 'male', 'male', 'female', 'male', 'female', 'male', 'male', 'female', 'male', 'male', 'male', 'male', 'male', 'male', 'female', 'female', 'male', 'male', 'male', 'male', 'male', 'male', 'female', 'male', 'female', 'male', 'male', 'female', 'male', 'male', 'male', 'male', 'male', 'male', 'female', 'male', 'male', 'male', 'male', 'male', 'male', 'female', 'female', 'male', 'male', 'male', 'male', 'female', 'male', 'male', 'male', 'female', 'male', 'male', 'male', 'male', 'male', 'female', 'male', 'male', 'female', 'male', 'male', 'male', 'male', 'female', 'male', 'male', 'male', 'male', 'male', 'male', 'male', 'female', 'male', 'male', 'male', 'male', 'female', 'male', 'male', 'female', 'female', 'female', 'male', 'male', 'female', 'male', 'male', 'male', 'male', 'male', 'male', 'female', 'female', 'female', 'female', 'male', 'male', 'male', 'male', 'male', 'male', 'female', 'male', 'male', 'male', 'male', 'male', 'male', 'female', 'male', 'male', 'male', 'female', 'female', 'male', 'female', 'male', 'male', 'male', 'female', 'female', 'male', 'female', 'female', 'male', 'male', 'female', 'male', 'male', 'male', 'male', 'male', 'male', 'female', 'female', 'male', 'male', 'male', 'male', 'male', 'male', 'male', 'female', 'female', 'female', 'male', 'female', 'female', 'male', 'male', 'male', 'male', 'male', 'female', 'male', 'male', 'male', 'female', 'female', 'female', 'male', 'male', 'male', 'male', 'male', 'female', 'male', 'female', 'male', 'male', 'male', 'male', 'male', 'male', 'male', 'female', 'female', 'male', 'female', 'male', 'female', 'female', 'male', 'female', 'male', 'male', 'female', 'male', 'male', 'female', 'male', 'male', 'female', 'male', 'male', 'male', 'male', 'female', 'male', 'male', 'male', 'female', 'male', 'female', 'female', 'female', 'male', 'female', 'male', 'male', 'male', 'male', 'male', 'male', 'male', 'male', 'male', 'male', 'male', 'female', 'female', 'male', 'male', 'male', 'female', 'male', 'male', 'male', 'male', 'male', 'male', 'male', 'male', 'male', 'male', 'male', 'female', 'female', 'male', 'female', 'male', 'male', 'male', 'male', 'male', 'male', 'female', 'male', 'female', 'male', 'male', 'male', 'female', 'male', 'male', 'male', 'male', 'male', 'female', 'female', 'male', 'male', 'male', 'female', 'male', 'female', 'female', 'male', 'male', 'male', 'male', 'male', 'male', 'male', 'male', 'female', 'female', 'male', 'female', 'male', 'male', 'female', 'female', 'male', 'female', 'male', 'male', 'male', 'male', 'male', 'male', 'male', 'male', 'male', 'male', 'male', 'female', 'male', 'male', 'male', 'male', 'male', 'male', 'male', 'male', 'male', 'male', 'female', 'female', 'female', 'female', 'female', 'male', 'male', 'male', 'male', 'female', 'female', 'male', 'male', 'male', 'male', 'male', 'female', 'female', 'male', 'male', 'male', 'male', 'male', 'female', 'male', 'male', 'female', 'male', 'male', 'male', 'male', 'male', 'male', 'male', 'male', 'female', 'male', 'female', 'female', 'male', 'male', 'male', 'male', 'male', 'male', 'female', 'male', 'male', 'male', 'male', 'male', 'male', 'male', 'female', 'male', 'male', 'male', 'male', 'male', 'male', 'male', 'male', 'male', 'male', 'male', 'male', 'male', 'male', 'male', 'male', 'female', 'male', 'male', 'male', 'male', 'female', 'female', 'male', 'male', 'male', 'male', 'male', 'male', 'female', 'male', 'male', 'female', 'male', 'male', 'male', 'male', 'female', 'male', 'male', 'male', 'male', 'male', 'female', 'female', 'male', 'male', 'female', 'male', 'male', 'male', 'male', 'female', 'male', 'female', 'male', 'male', 'female', 'male', 'male', 'male', 'male', 'male', 'male', 'male', 'male', 'male', 'male', 'male', 'male', 'male', 'male', 'male', 'male', 'male', 'female', 'male', 'male', 'male', 'male', 'male', 'male', 'male', 'female', 'male', 'male', 'female', 'male', 'female', 'female', 'male', 'female', 'male', 'female', 'female', 'female', 'male', 'female', 'female', 'female', 'male', 'female', 'male', 'male', 'male', 'male', 'male', 'male', 'male', 'male', 'male', 'male', 'female', 'female', 'male', 'male', 'male', 'male', 'male', 'male', 'male', 'female', 'male', 'male', 'male', 'female', 'male', 'male', 'female', 'male', 'male', 'male', 'female', 'female', 'male', 'female', 'male', 'male', 'male', 'male', 'female', 'male', 'male', 'female', 'female', 'female', 'male', 'male', 'male', 'male', 'male', 'female', 'male', 'male', 'male', 'male', 'male', 'male', 'male', 'female', 'female', 'male', 'male', 'male', 'male', 'female', 'male', 'female', 'male', 'male', 'male', 'male', 'male', 'male', 'male', 'female', 'male', 'male', 'male', 'female', 'female', 'male', 'male', 'male', 'female', 'male', 'male', 'male', 'male', 'female', 'male', 'female', 'male', 'male', 'female', 'male', 'female', 'male', 'male', 'female', 'male', 'male', 'female', 'male', 'female', 'female', 'male', 'male', 'male', 'female', 'male', 'female', 'male', 'male', 'female', 'male', 'male', 'male', 'male', 'female', 'male', 'male', 'male', 'female', 'male', 'male', 'male', 'female', 'male', 'female', 'male', 'female', 'male', 'male', 'male', 'female', 'male', 'male', 'female', 'male', 'male', 'female', 'male', 'male', 'male', 'male', 'male', 'male', 'female', 'male', 'male', 'male', 'male', 'male', 'female', 'male', 'female', 'female', 'male', 'female', 'female', 'male', 'female', 'female', 'male', 'male', 'male', 'female', 'female', 'male', 'male', 'male', 'male', 'male', 'male', 'female', 'male', 'male', 'female', 'male', 'male', 'male', 'male', 'female', 'male', 'male', 'male', 'female', 'male', 'male', 'male', 'male', 'male', 'male', 'male', 'male', 'male', 'male', 'male', 'male', 'male', 'male', 'male', 'female', 'male', 'female', 'female', 'female', 'female', 'male', 'female', 'male', 'male', 'male', 'female', 'male', 'male', 'female', 'female', 'male', 'male', 'male', 'male', 'male', 'male', 'male', 'female', 'male', 'male', 'male', 'male', 'male', 'male', 'female', 'female', 'male', 'male', 'male', 'male', 'male', 'female', 'male', 'male', 'male', 'male', 'female', 'male', 'male', 'male', 'male', 'male', 'male', 'male', 'female', 'male', 'female', 'male', 'female', 'male', 'male', 'female', 'male', 'male', 'male', 'male', 'female', 'male', 'male', 'male', 'male', 'female', 'male', 'female', 'female', 'female', 'male', 'male', 'male', 'male', 'male', 'male', 'male', 'male', 'female', 'male', 'male', 'male', 'female', 'male', 'male', 'male', 'female', 'male', 'male', 'female', 'male', 'male', 'male', 'female', 'male', 'male', 'male', 'male', 'male', 'male', 'male', 'male', 'male', 'female', 'female', 'male', 'male', 'male', 'male', 'female', 'female', 'male', 'male', 'male', 'female', 'male', 'male', 'male', 'female', 'male', 'male', 'male', 'male', 'male', 'female', 'male', 'female', 'female', 'male', 'male', 'male', 'male', 'female', 'male', 'male', 'female', 'male', 'female', 'female', 'male', 'male', 'male', 'male', 'female', 'male', 'male', 'male', 'male', 'male', 'male', 'female', 'male', 'male', 'male', 'male', 'male', 'male', 'male', 'male', 'male', 'male', 'male', 'male', 'male', 'male', 'male', 'male', 'male', 'male', 'male', 'male', 'male', 'male', 'male', 'male', 'female', 'male', 'male', 'female', 'male', 'male', 'male', 'male', 'male', 'male', 'male', 'female', 'male', 'female', 'male', 'male', 'male', 'male', 'male', 'male', 'male', 'male', 'female', 'male', 'female', 'female', 'male', 'female', 'female', 'male', 'female', 'female', 'male', 'female', 'female', 'male', 'male', 'male', 'male', 'female', 'male', 'male', 'male', 'male', 'male', 'male', 'female', 'male', 'male', 'male', 'female', 'male', 'female', 'male', 'male', 'female', 'female', 'female', 'male', 'male', 'male', 'female', 'female', 'female', 'male', 'male', 'male', 'male', 'female', 'male', 'male', 'male', 'male', 'male', 'female', 'female', 'male', 'male', 'male', 'male', 'female', 'male', 'male', 'male', 'female', 'male', 'male', 'male', 'male', 'female', 'male', 'female', 'female', 'female', 'male', 'male', 'female', 'male', 'female', 'male', 'male', 'male', 'female', 'female', 'male', 'male', 'female', 'male', 'male', 'male', 'male', 'male', 'female', 'male', 'female', 'male', 'male', 'male', 'male', 'female', 'male', 'male', 'female', 'male', 'male', 'male', 'female', 'male', 'male', 'male', 'male', 'male', 'male', 'female', 'male', 'male', 'male', 'male', 'female', 'male', 'male', 'male', 'male', 'male', 'male', 'male', 'male', 'male', 'male', 'male', 'male', 'male', 'male', 'female', 'male', 'male', 'male', 'male', 'female', 'male', 'male', 'male', 'male', 'male', 'female', 'female', 'male', 'male', 'male', 'female', 'male', 'male', 'male', 'male', 'male', 'female', 'female', 'female', 'male', 'male', 'male', 'male', 'male', 'male', 'male', 'male', 'female', 'male', 'female', 'male', 'female', 'female', 'male', 'female', 'male', 'male', 'male', 'male', 'male', 'male', 'male', 'male', 'male', 'male', 'male', 'male', 'male', 'male', 'male', 'male', 'male', 'female', 'female', 'male', 'male', 'female', 'male', 'male', 'male', 'male', 'male', 'male', 'female', 'male', 'male', 'female', 'male', 'male', 'male', 'male', 'male', 'female', 'male', 'female', 'male', 'male', 'male', 'male', 'male', 'male', 'male', 'female', 'male', 'female', 'male', 'male', 'male', 'female', 'male', 'female', 'male', 'female', 'male', 'male', 'female', 'male', 'male', 'male', 'male', 'female', 'male', 'male', 'female', 'female', 'female', 'male', 'male', 'male', 'male', 'male', 'female', 'male', 'male', 'female', 'male', 'male', 'female', 'female', 'female', 'male', 'male', 'male', 'male', 'female', 'male', 'male', 'male', 'female', 'female', 'female', 'male', 'female', 'female', 'male', 'male', 'male', 'female', 'female', 'female', 'male', 'male', 'male', 'male', 'male', 'male', 'male', 'male', 'female', 'male', 'male', 'male', 'male', 'male', 'male', 'male', 'male', 'male', 'male', 'female', 'male', 'female', 'male', 'female', 'male', 'female', 'female', 'female', 'male', 'male', 'female', 'male', 'female', 'male', 'male', 'male', 'male', 'male', 'male', 'male', 'male', 'male', 'male', 'male', 'male', 'female', 'male', 'male', 'female', 'female', 'female', 'male', 'male', 'male', 'female', 'male', 'female', 'male', 'male', 'male', 'female', 'female', 'male', 'female', 'male', 'male', 'male', 'male', 'male', 'female', 'male', 'male', 'male', 'male', 'male', 'male', 'male', 'male', 'female', 'female', 'female', 'male', 'male', 'male', 'male', 'female', 'male', 'female', 'male', 'female', 'male', 'female', 'male', 'female', 'male', 'male', 'male', 'male', 'female', 'male', 'male', 'male', 'male', 'female', 'male', 'male', 'female', 'female', 'male', 'male', 'male', 'male', 'male', 'male', 'male', 'male', 'male', 'male', 'male', 'male', 'male', 'male', 'male', 'male', 'male', 'male', 'male', 'male', 'male', 'female', 'female', 'female', 'male', 'female', 'male', 'male', 'male', 'male', 'male', 'male', 'male', 'male', 'male', 'female', 'male', 'male', 'male', 'female', 'male', 'male', 'male', 'male', 'male', 'male', 'female', 'female', 'male', 'male', 'male', 'male', 'female', 'male', 'male', 'female', 'male', 'female', 'male', 'male', 'male', 'male', 'male', 'male', 'male', 'male', 'male', 'female', 'male', 'male', 'male', 'male', 'male', 'female', 'female', 'female', 'male', 'female', 'male', 'female', 'male', 'male', 'male', 'male', 'male', 'male', 'male', 'male', 'female', 'male', 'male', 'male', 'male', 'male', 'female', 'male', 'male', 'male', 'male', 'male', 'male', 'female', 'male', 'male', 'male', 'male', 'male', 'male', 'male', 'male', 'male', 'male', 'male', 'male', 'male', 'male', 'male', 'female', 'female', 'female', 'male', 'male', 'male', 'male', 'male', 'male', 'male', 'male', 'female', 'male', 'male', 'male', 'male', 'female', 'male', 'male', 'female', 'female', 'male', 'female', 'male', 'male', 'female', 'female', 'male', 'female', 'male', 'female', 'female', 'female', 'female', 'female', 'male', 'male', 'male', 'male', 'male', 'male', 'female', 'male', 'male', 'female', 'male', 'male', 'male', 'female', 'male', 'male', 'male', 'male', 'female', 'male', 'female', 'male', 'male', 'female', 'male', 'male', 'male', 'male', 'female', 'male', 'male', 'male', 'male', 'male', 'male', 'male', 'male', 'male', 'female', 'male', 'female', 'female', 'male', 'female', 'female', 'male', 'female', 'male', 'female', 'female', 'male', 'female', 'male', 'male', 'male', 'male', 'male', 'male', 'male', 'female', 'male', 'male', 'male', 'male', 'male', 'male', 'male', 'male', 'male', 'male', 'female', 'male', 'female', 'male', 'male', 'female', 'female', 'male', 'female', 'female', 'male', 'female', 'female', 'male', 'male', 'male', 'male', 'female', 'male', 'male', 'male', 'male', 'male', 'male', 'male', 'male', 'female', 'female', 'male', 'male', 'female', 'female', 'male', 'male', 'male', 'male', 'male', 'female', 'female', 'male', 'male', 'female', 'female', 'male', 'male', 'female', 'male', 'female', 'male', 'female', 'male', 'male', 'male', 'male', 'male', 'male', 'female', 'male', 'male', 'male', 'male', 'male', 'female', 'female', 'male', 'male', 'male', 'female', 'male', 'male', 'male', 'male', 'male', 'male', 'male', 'male', 'female', 'male', 'male', 'male', 'female', 'male', 'female', 'male', 'female', 'male', 'male', 'female', 'male', 'male', 'female', 'female', 'male', 'male', 'male', 'male', 'male', 'male', 'male', 'female', 'male', 'female', 'male', 'male', 'male', 'male', 'male', 'male', 'male', 'male', 'male', 'male', 'male', 'female', 'male', 'female', 'female', 'male', 'male', 'male', 'male', 'female', 'male', 'male', 'male', 'male', 'male', 'male', 'female', 'male', 'male', 'female', 'male', 'female', 'male', 'male', 'male', 'male', 'female', 'female', 'male', 'female', 'male', 'female', 'male', 'male', 'male', 'male', 'female', 'male', 'male', 'male', 'female', 'male', 'female', 'female', 'female', 'female', 'male', 'male', 'male', 'male', 'male', 'male', 'male', 'male', 'male', 'male', 'male', 'female', 'male', 'male', 'male', 'female', 'male', 'male', 'female', 'male', 'male', 'male', 'male', 'male', 'male', 'male', 'male', 'female', 'female', 'male', 'female', 'male', 'female', 'female', 'male', 'female', 'male', 'male', 'male', 'male', 'male', 'male', 'male', 'male', 'female', 'female', 'female', 'female', 'male', 'male', 'male', 'male', 'male', 'male', 'male', 'male', 'female', 'male', 'female', 'male', 'male', 'male', 'male', 'male', 'male', 'male', 'female', 'male', 'male', 'male', 'female', 'female', 'male', 'male', 'female', 'female', 'female', 'male', 'male', 'male', 'male', 'male', 'male', 'male', 'male', 'male', 'male', 'female', 'female', 'female', 'male', 'male', 'female', 'male', 'female', 'male', 'male', 'male', 'male', 'male', 'male', 'female', 'male', 'female', 'male', 'male', 'female', 'male', 'male', 'male', 'male', 'female', 'male', 'male', 'male', 'male', 'female', 'male', 'male', 'male', 'male', 'female', 'female', 'female', 'female', 'male', 'male', 'male', 'male', 'male', 'male', 'female', 'male', 'female', 'male', 'female', 'male', 'male', 'male', 'male', 'female', 'female', 'male', 'male', 'male', 'male', 'male', 'male', 'male', 'female', 'male', 'male', 'female', 'female', 'male', 'female', 'female', 'female', 'female', 'female', 'male', 'male', 'male', 'male', 'male', 'male', 'male', 'male', 'male', 'male', 'female', 'female', 'male', 'male', 'male', 'male', 'female', 'female', 'male', 'male', 'male', 'male', 'female', 'male', 'male', 'female', 'male', 'male', 'female', 'male', 'male', 'female', 'male', 'male', 'male', 'male', 'male', 'male', 'male', 'male', 'male', 'male', 'female', 'female', 'female', 'male', 'female', 'male', 'female', 'female', 'male', 'male', 'female', 'male', 'male', 'female', 'male', 'male', 'male', 'male', 'female', 'female', 'male', 'male', 'male', 'female', 'male', 'female', 'male', 'male', 'male', 'male', 'female', 'male', 'male', 'male', 'female', 'female', 'male', 'male', 'female', 'female', 'male', 'female', 'male', 'female', 'male', 'female', 'male', 'male', 'female', 'male', 'female', 'male', 'male', 'male', 'male', 'male', 'male', 'male', 'female', 'male', 'male', 'female', 'male', 'male', 'male', 'male', 'male', 'male', 'male', 'male', 'female', 'male', 'male', 'male', 'male', 'female', 'male', 'male', 'male', 'male', 'male', 'male', 'female', 'male', 'male', 'female', 'male', 'male', 'male', 'male', 'female', 'female', 'female', 'male', 'female', 'male', 'female', 'male', 'male', 'male', 'male', 'male', 'male', 'male', 'male', 'male', 'male', 'male', 'female', 'male', 'female', 'male', 'female', 'male', 'female', 'female', 'female', 'female', 'male', 'female', 'female', 'male', 'male', 'female', 'female', 'female', 'male', 'male', 'male', 'male', 'male', 'male', 'male', 'female', 'male', 'male', 'male', 'male', 'male', 'male', 'male', 'male', 'female', 'female', 'male', 'male', 'female', 'female', 'male', 'male', 'male', 'male', 'male', 'female', 'male', 'male', 'male', 'female', 'male', 'male', 'male', 'female', 'male', 'male', 'male', 'female', 'male', 'male', 'male', 'male', 'male', 'male', 'male', 'male', 'male', 'female', 'male', 'male', 'female', 'male', 'male', 'male', 'male', 'male', 'male', 'male', 'male', 'female', 'female', 'male', 'male', 'male', 'male', 'male', 'female', 'male', 'male', 'male', 'male', 'male', 'female', 'male', 'male', 'male', 'male', 'male', 'male', 'male', 'male', 'female', 'male', 'male', 'male', 'female', 'male', 'male', 'male', 'male', 'male', 'female', 'male', 'male', 'male', 'male', 'male', 'male', 'female', 'female', 'female', 'female', 'male', 'male', 'female', 'male', 'female', 'male', 'male', 'male', 'female', 'male', 'male', 'male', 'male', 'male', 'male', 'male', 'male', 'male', 'male', 'male', 'female', 'female', 'male', 'male', 'male', 'male', 'female', 'male', 'female', 'female', 'male', 'female', 'female', 'male', 'male', 'male', 'male', 'male', 'male', 'female', 'male', 'female', 'male', 'male', 'female', 'male', 'female', 'female', 'male', 'male', 'female', 'female', 'female', 'male', 'male', 'female', 'male', 'female', 'male', 'male', 'male', 'male', 'male', 'male', 'female', 'male', 'male', 'female', 'male', 'male', 'male', 'male', 'female', 'female', 'male', 'male', 'female', 'male', 'male', 'male', 'male', 'male', 'male', 'male', 'male', 'male', 'female', 'female', 'male', 'male', 'female', 'male', 'male', 'female', 'female', 'female', 'male', 'male', 'male', 'female', 'male', 'male', 'male', 'male', 'male', 'male', 'male', 'male', 'female', 'male', 'male', 'male', 'male', 'male', 'male', 'female', 'male', 'female', 'male', 'female', 'female', 'male', 'female', 'male', 'female', 'male', 'male', 'male', 'male', 'male', 'male', 'male', 'male', 'male', 'male', 'female', 'female', 'female', 'male', 'female', 'female', 'male', 'male', 'male', 'male', 'female', 'male', 'male', 'male', 'female', 'female', 'male', 'male', 'male', 'male', 'male', 'male', 'female', 'male', 'male', 'male', 'male', 'male', 'female', 'male', 'female', 'male', 'male', 'male', 'male', 'female', 'male', 'male', 'male', 'male', 'male', 'male', 'male', 'male', 'male', 'male', 'male', 'male', 'male', 'male', 'female', 'male', 'male', 'male', 'female', 'female', 'male', 'female', 'female', 'female', 'male', 'male', 'male', 'male', 'male', 'female', 'male', 'male', 'female', 'female', 'male', 'female', 'female', 'male', 'female', 'male', 'female', 'male', 'male', 'male', 'female', 'male', 'male', 'male', 'male', 'male', 'male', 'female', 'female', 'male', 'male', 'male', 'male', 'male', 'male', 'male', 'male', 'male', 'female', 'male', 'male', 'female', 'female', 'male', 'male', 'male', 'male', 'male', 'male', 'female', 'male', 'male', 'male', 'male', 'male', 'male', 'female', 'female', 'male', 'male', 'male', 'male', 'male', 'male', 'male', 'female', 'female', 'female', 'female', 'male', 'male', 'female', 'male', 'male', 'male', 'male', 'male', 'male', 'male', 'male', 'male', 'female', 'male', 'male', 'male', 'male', 'female', 'male', 'female', 'male', 'male', 'male', 'male', 'male', 'male', 'male', 'male', 'male', 'male', 'male', 'female', 'female', 'male', 'male', 'female', 'male', 'male', 'male', 'male', 'male', 'female', 'male', 'male', 'male', 'female', 'female', 'male', 'female', 'female', 'male', 'female', 'male', 'male', 'female', 'male', 'male', 'male', 'male', 'male', 'male', 'female', 'male', 'male', 'male', 'male', 'male', 'male', 'male', 'female', 'male', 'male', 'male', 'male', 'male', 'male', 'male', 'male', 'male', 'female', 'male', 'male', 'male', 'female', 'male', 'female', 'female', 'male', 'female', 'male', 'male', 'male', 'male', 'male', 'male', 'male', 'female', 'male', 'male', 'male', 'male', 'male', 'female', 'male', 'female', 'male', 'male', 'male', 'male', 'male', 'male', 'male', 'male', 'male', 'female', 'male', 'male', 'male', 'male', 'male', 'female', 'male', 'male', 'male', 'male', 'male', 'female', 'male', 'male', 'male', 'male', 'male', 'male', 'female', 'female', 'male', 'male', 'male', 'male', 'male', 'female', 'female', 'female', 'male', 'male', 'female', 'female', 'male', 'male', 'female', 'male', 'male', 'female', 'male', 'male', 'male', 'male', 'male', 'male', 'male', 'male', 'female', 'male', 'female', 'female', 'male', 'male', 'female', 'male', 'female', 'male', 'male', 'male', 'female', 'female', 'female', 'male', 'male', 'male']\n"
          ]
        }
      ]
    },
    {
      "cell_type": "code",
      "source": [
        "y_test = [label_map[i] for i in y_test]\n",
        "# Evaluate the model\n",
        "print(classification_report(y_test, y_pred_classes))\n",
        "\n",
        "# Confusion Matrix\n",
        "cm = confusion_matrix(y_test,y_pred_classes)\n",
        "plt.figure(figsize=(8, 8))\n",
        "#sns.heatmap(confusion_matrix, annot=True, fmt='d', cmap='Blues', xticklabels=np.unique(y_test), yticklabels=np.unique(y_test))\n",
        "plt.imshow(cm, interpolation='nearest', cmap=plt.cm.Blues)\n",
        "plt.title('Confusion Matrix')\n",
        "plt.colorbar()\n",
        "plt.xlabel('Predicted Label')\n",
        "plt.ylabel('True Label')\n",
        "plt.show()"
      ],
      "metadata": {
        "colab": {
          "base_uri": "https://localhost:8080/",
          "height": 921
        },
        "id": "JkY5Ul3qHITt",
        "outputId": "7c5eaa3c-d549-4d08-a4db-5ac2a4e23c01"
      },
      "execution_count": 93,
      "outputs": [
        {
          "output_type": "stream",
          "name": "stdout",
          "text": [
            "              precision    recall  f1-score   support\n",
            "\n",
            "     Class 1       0.30      0.44      0.36       399\n",
            "     Class 2       0.15      0.21      0.17       197\n",
            "     Class 3       0.14      0.06      0.09       281\n",
            "     Class 4       0.57      0.64      0.60      2040\n",
            "     Class 5       0.27      0.14      0.19       794\n",
            "     Class 6       0.32      0.26      0.29       735\n",
            "     Class 7       0.15      0.32      0.21       145\n",
            "     Class 8       0.11      0.21      0.14        19\n",
            "\n",
            "    accuracy                           0.41      4610\n",
            "   macro avg       0.25      0.29      0.26      4610\n",
            "weighted avg       0.40      0.41      0.40      4610\n",
            "\n"
          ]
        },
        {
          "output_type": "display_data",
          "data": {
            "text/plain": [
              "<Figure size 800x800 with 2 Axes>"
            ],
            "image/png": "[encoded data removed]"
          },
          "metadata": {}
        }
      ]
    },
    {
      "cell_type": "markdown",
      "source": [
        "# **Training the grid_search model and predicting the labels**"
      ],
      "metadata": {
        "id": "R9cTS8uNwpMo"
      }
    },
    {
      "cell_type": "code",
      "source": [
        "\n",
        "y_pred=grid_search.predict(X_test)\n",
        "# Predict on the test data\n",
        "# y_pred = best_model.predict(X_test)\n",
        "# Predict probabilities on the test data\n",
        "# print(y_pred)\n",
        "# y_pred_classes = y_pred.argmax(axis=1)\n",
        "# print(y_pred_classes.shape)\n",
        "\n",
        "# Evaluate the model\n",
        "print(classification_report(y_test, y_pred))\n",
        "\n",
        "# Confusion Matrix\n",
        "cm = confusion_matrix(y_test, y_pred)\n",
        "plt.figure(figsize=(8, 8))\n",
        "#sns.heatmap(confusion_matrix, annot=True, fmt='d', cmap='Blues', xticklabels=np.unique(y_test), yticklabels=np.unique(y_test))\n",
        "plt.imshow(cm, interpolation='nearest', cmap=plt.cm.Blues)\n",
        "plt.title('Confusion Matrix')\n",
        "plt.colorbar()\n",
        "plt.xlabel('Predicted Label')\n",
        "plt.ylabel('True Label')\n",
        "plt.show()\n",
        "\n"
      ],
      "metadata": {
        "colab": {
          "base_uri": "https://localhost:8080/",
          "height": 1000
        },
        "outputId": "cd2fc61d-b77d-480c-bb33-61cbb208dc6c",
        "id": "09L5yOOnwpMp"
      },
      "execution_count": null,
      "outputs": [
        {
          "output_type": "stream",
          "name": "stderr",
          "text": [
            "/usr/local/lib/python3.10/dist-packages/sklearn/utils/_tags.py:354: FutureWarning: The LGBMClassifier or classes from which it inherits use `_get_tags` and `_more_tags`. Please define the `__sklearn_tags__` method, or inherit from `sklearn.base.BaseEstimator` and/or other appropriate mixins such as `sklearn.base.TransformerMixin`, `sklearn.base.ClassifierMixin`, `sklearn.base.RegressorMixin`, and `sklearn.base.OutlierMixin`. From scikit-learn 1.7, not defining `__sklearn_tags__` will raise an error.\n",
            "  warnings.warn(\n",
            "/usr/local/lib/python3.10/dist-packages/sklearn/utils/deprecation.py:151: FutureWarning: 'force_all_finite' was renamed to 'ensure_all_finite' in 1.6 and will be removed in 1.8.\n",
            "  warnings.warn(\n",
            "/usr/local/lib/python3.10/dist-packages/sklearn/metrics/_classification.py:1565: UndefinedMetricWarning: Precision is ill-defined and being set to 0.0 in labels with no predicted samples. Use `zero_division` parameter to control this behavior.\n",
            "  _warn_prf(average, modifier, f\"{metric.capitalize()} is\", len(result))\n",
            "/usr/local/lib/python3.10/dist-packages/sklearn/metrics/_classification.py:1565: UndefinedMetricWarning: Precision is ill-defined and being set to 0.0 in labels with no predicted samples. Use `zero_division` parameter to control this behavior.\n",
            "  _warn_prf(average, modifier, f\"{metric.capitalize()} is\", len(result))\n",
            "/usr/local/lib/python3.10/dist-packages/sklearn/metrics/_classification.py:1565: UndefinedMetricWarning: Precision is ill-defined and being set to 0.0 in labels with no predicted samples. Use `zero_division` parameter to control this behavior.\n",
            "  _warn_prf(average, modifier, f\"{metric.capitalize()} is\", len(result))\n"
          ]
        },
        {
          "output_type": "stream",
          "name": "stdout",
          "text": [
            "              precision    recall  f1-score   support\n",
            "\n",
            "           0       0.47      0.85      0.61      2018\n",
            "           1       0.41      0.32      0.36       927\n",
            "           2       0.47      0.15      0.22       670\n",
            "           3       0.30      0.07      0.12       802\n",
            "           4       0.00      0.00      0.00       359\n",
            "\n",
            "    accuracy                           0.45      4776\n",
            "   macro avg       0.33      0.28      0.26      4776\n",
            "weighted avg       0.40      0.45      0.38      4776\n",
            "\n"
          ]
        },
        {
          "output_type": "display_data",
          "data": {
            "text/plain": [
              "<Figure size 800x800 with 2 Axes>"
            ],
            "image/png": "[encoded data removed]"
          },
          "metadata": {}
        }
      ]
    },
    {
      "cell_type": "markdown",
      "source": [
        "# **Generating a csv file containing the name of each image and its predicted label**"
      ],
      "metadata": {
        "id": "axTuwE-uwx0S"
      }
    },
    {
      "cell_type": "code",
      "source": [
        "# Get a list of image filenames\n",
        "#ethnicity\n",
        "# image_filenames = os.listdir(\"/content/splitted_dataset/nose/test\")\n",
        "#gender\n",
        "# image_filenames = os.listdir(\"/content/splitted_by_gender/nose/test\")\n",
        "#age\n",
        "image_filenames = os.listdir(\"/content/splitted_by_age/nose/test\")\n",
        "\n",
        "# Create a DataFrame with image names and predicted labels\n",
        "df = pd.DataFrame({'Image_Name': image_filenames, 'Predicted_Label': y_pred_classes})\n",
        "\n",
        "# Save the DataFrame ethnicity to a CSV file\n",
        "# df.to_csv(\"predictions_nose.csv\", index=False)\n",
        "# Save the DataFrame gender to a CSV file\n",
        "# df.to_csv(\"predictions_gender_nose.csv\", index=False)\n",
        "# Save the DataFrame age to a CSV file\n",
        "df.to_csv(\"predictions_age_nose.csv\", index=False)"
      ],
      "metadata": {
        "id": "_AbUUdVwwx0S"
      },
      "execution_count": 94,
      "outputs": []
    },
    {
      "cell_type": "code",
      "execution_count": null,
      "metadata": {
        "colab": {
          "base_uri": "https://localhost:8080/",
          "height": 1000
        },
        "id": "MYirTAaxQjoj",
        "outputId": "f7470b7e-b60a-41d3-a684-40b049eeb712"
      },
      "outputs": [
        {
          "output_type": "stream",
          "name": "stdout",
          "text": [
            "[5000 3000 3500 3500 3000]\n",
            "<class 'lightgbm.basic.Dataset'>\n",
            "Training until validation scores don't improve for 20 rounds\n",
            "[20]\ttraining's multi_logloss: 1.1752\tvalid_1's multi_logloss: 1.40524\n",
            "[40]\ttraining's multi_logloss: 1.10698\tvalid_1's multi_logloss: 1.39561\n",
            "[60]\ttraining's multi_logloss: 1.0638\tvalid_1's multi_logloss: 1.3964\n",
            "Early stopping, best iteration is:\n",
            "[43]\ttraining's multi_logloss: 1.09835\tvalid_1's multi_logloss: 1.39553\n",
            "(4776, 5)\n",
            "(4776,)\n",
            "              precision    recall  f1-score   support\n",
            "\n",
            "           0       0.44      0.97      0.61      2018\n",
            "           1       0.54      0.13      0.21       927\n",
            "           2       0.48      0.06      0.10       670\n",
            "           3       0.47      0.03      0.05       802\n",
            "           4       0.00      0.00      0.00       359\n",
            "\n",
            "    accuracy                           0.45      4776\n",
            "   macro avg       0.39      0.24      0.19      4776\n",
            "weighted avg       0.44      0.45      0.32      4776\n",
            "\n"
          ]
        },
        {
          "output_type": "display_data",
          "data": {
            "text/plain": [
              "<Figure size 800x800 with 2 Axes>"
            ],
            "image/png": "[encoded data removed]"
          },
          "metadata": {}
        }
      ],
      "source": [
        "\n",
        "\n",
        "# Define hyperparameters and objective for LightGBM\n",
        "params = {\n",
        "    'objective': 'multiclass',  # Adjust for your specific task\n",
        "    'num_class': len(np.unique(y_train)),# Number of classes in your dataset\n",
        "    'metric': 'multi_logloss',\n",
        "    'learning_rate':  0.05,\n",
        "    'num_leaves': 31,\n",
        "    'max_depth': 6,\n",
        "    'boosting_type': 'gbdt',\n",
        "    'verbose': -1\n",
        "    # ... other hyperparameters\n",
        "}\n",
        "print(type(train_data))\n",
        "num_round=100\n",
        "model = lgb.train(params,\n",
        "                 train_data,\n",
        "                 num_round,\n",
        "                 valid_sets=[train_data,test_data],\n",
        "                 callbacks=[lgb.early_stopping(stopping_rounds=20), lgb.log_evaluation(period=20)])\n",
        "\n",
        "y_pred = model.predict(X_test, num_iteration=model.best_iteration)\n",
        "print(y_pred.shape)\n",
        "y_pred_classes = y_pred.argmax(axis=1)\n",
        "print(y_pred_classes.shape)\n",
        "\n",
        "# Evaluate the model\n",
        "print(classification_report(y_test, y_pred_classes))\n",
        "\n",
        "# Confusion Matrix\n",
        "cm = confusion_matrix(y_test, y_pred_classes)\n",
        "plt.figure(figsize=(8, 8))\n",
        "#sns.heatmap(confusion_matrix, annot=True, fmt='d', cmap='Blues', xticklabels=np.unique(y_test), yticklabels=np.unique(y_test))\n",
        "plt.imshow(cm, interpolation='nearest', cmap=plt.cm.Blues)\n",
        "plt.title('Confusion Matrix')\n",
        "plt.colorbar()\n",
        "plt.xlabel('Predicted Label')\n",
        "plt.ylabel('True Label')\n",
        "plt.show()\n"
      ]
    },
    {
      "cell_type": "code",
      "source": [
        "kfold = KFold(n_splits=5, shuffle=True, random_state=42)\n",
        "# X_resampled=X_train\n",
        "# y_resampled=y_train\n",
        "\n",
        "for fold, (train_index, val_index) in enumerate(kfold.split(X_resampled, y_resampled)):\n",
        "    X_train, X_val = X_resampled[train_index], X_resampled[val_index]\n",
        "    y_train, y_val = y_resampled[train_index], y_resampled[val_index]\n",
        "\n",
        "    train_data = lgb.Dataset(X_train, label=y_train)\n",
        "    val_data = lgb.Dataset(X_val, label=y_val)\n",
        "\n",
        "    model = lgb.train(params,\n",
        "                      train_data,\n",
        "                      num_round,\n",
        "                      valid_sets=[train_data, val_data],\n",
        "                      callbacks=[lgb.early_stopping(stopping_rounds=10), lgb.log_evaluation(period=10)])\n",
        "\n",
        "    y_pred = model.predict(X_val, num_iteration=model.best_iteration)\n",
        "    y_pred_classes = y_pred.argmax(axis=1)\n",
        "\n",
        "    # Evaluate the model on the validation fold\n",
        "    print(f\"Fold {fold+1} Classification Report:\")\n",
        "    print(classification_report(y_val, y_pred_classes))\n",
        "y_pred = model.predict(X_test, num_iteration=model.best_iteration)\n",
        "y_pred_classes = y_pred.argmax(axis=1)\n",
        "# Evaluate the model\n",
        "print(classification_report(y_test, y_pred_classes))"
      ],
      "metadata": {
        "colab": {
          "base_uri": "https://localhost:8080/"
        },
        "id": "JqV2ZTrFB2vT",
        "outputId": "e65bbc98-1aeb-4b91-84f3-df04159a1707"
      },
      "execution_count": null,
      "outputs": [
        {
          "output_type": "stream",
          "name": "stdout",
          "text": [
            "Training until validation scores don't improve for 10 rounds\n",
            "[10]\ttraining's multi_logloss: 1.46412\tvalid_1's multi_logloss: 1.48301\n",
            "[20]\ttraining's multi_logloss: 1.39373\tvalid_1's multi_logloss: 1.43202\n",
            "[30]\ttraining's multi_logloss: 1.34464\tvalid_1's multi_logloss: 1.40112\n",
            "[40]\ttraining's multi_logloss: 1.3057\tvalid_1's multi_logloss: 1.38077\n",
            "[50]\ttraining's multi_logloss: 1.27569\tvalid_1's multi_logloss: 1.36495\n",
            "[60]\ttraining's multi_logloss: 1.2526\tvalid_1's multi_logloss: 1.35459\n",
            "[70]\ttraining's multi_logloss: 1.23084\tvalid_1's multi_logloss: 1.345\n",
            "[80]\ttraining's multi_logloss: 1.20891\tvalid_1's multi_logloss: 1.33494\n",
            "[90]\ttraining's multi_logloss: 1.18743\tvalid_1's multi_logloss: 1.3246\n",
            "[100]\ttraining's multi_logloss: 1.16393\tvalid_1's multi_logloss: 1.31361\n",
            "Did not meet early stopping. Best iteration is:\n",
            "[100]\ttraining's multi_logloss: 1.16393\tvalid_1's multi_logloss: 1.31361\n",
            "Fold 1 Classification Report:\n",
            "              precision    recall  f1-score   support\n",
            "\n",
            "           0       0.42      0.62      0.50      1008\n",
            "           1       0.45      0.39      0.42       615\n",
            "           2       0.55      0.50      0.52       712\n",
            "           3       0.43      0.40      0.41       685\n",
            "           4       0.58      0.31      0.40       580\n",
            "\n",
            "    accuracy                           0.47      3600\n",
            "   macro avg       0.49      0.44      0.45      3600\n",
            "weighted avg       0.48      0.47      0.46      3600\n",
            "\n",
            "Training until validation scores don't improve for 10 rounds\n",
            "[10]\ttraining's multi_logloss: 1.46184\tvalid_1's multi_logloss: 1.49368\n",
            "[20]\ttraining's multi_logloss: 1.39021\tvalid_1's multi_logloss: 1.4453\n",
            "[30]\ttraining's multi_logloss: 1.34137\tvalid_1's multi_logloss: 1.41639\n",
            "[40]\ttraining's multi_logloss: 1.30421\tvalid_1's multi_logloss: 1.39558\n",
            "[50]\ttraining's multi_logloss: 1.27425\tvalid_1's multi_logloss: 1.37924\n",
            "[60]\ttraining's multi_logloss: 1.25121\tvalid_1's multi_logloss: 1.36721\n",
            "[70]\ttraining's multi_logloss: 1.22672\tvalid_1's multi_logloss: 1.3535\n",
            "[80]\ttraining's multi_logloss: 1.20497\tvalid_1's multi_logloss: 1.34268\n",
            "[90]\ttraining's multi_logloss: 1.18273\tvalid_1's multi_logloss: 1.33185\n",
            "[100]\ttraining's multi_logloss: 1.16181\tvalid_1's multi_logloss: 1.322\n",
            "Did not meet early stopping. Best iteration is:\n",
            "[100]\ttraining's multi_logloss: 1.16181\tvalid_1's multi_logloss: 1.322\n",
            "Fold 2 Classification Report:\n",
            "              precision    recall  f1-score   support\n",
            "\n",
            "           0       0.40      0.57      0.47       972\n",
            "           1       0.44      0.41      0.42       587\n",
            "           2       0.52      0.48      0.50       709\n",
            "           3       0.42      0.46      0.44       693\n",
            "           4       0.65      0.30      0.41       639\n",
            "\n",
            "    accuracy                           0.46      3600\n",
            "   macro avg       0.49      0.44      0.45      3600\n",
            "weighted avg       0.48      0.46      0.45      3600\n",
            "\n",
            "Training until validation scores don't improve for 10 rounds\n",
            "[10]\ttraining's multi_logloss: 1.46267\tvalid_1's multi_logloss: 1.48984\n",
            "[20]\ttraining's multi_logloss: 1.39037\tvalid_1's multi_logloss: 1.44207\n",
            "[30]\ttraining's multi_logloss: 1.34114\tvalid_1's multi_logloss: 1.41511\n",
            "[40]\ttraining's multi_logloss: 1.30246\tvalid_1's multi_logloss: 1.39567\n",
            "[50]\ttraining's multi_logloss: 1.27309\tvalid_1's multi_logloss: 1.38056\n",
            "[60]\ttraining's multi_logloss: 1.24956\tvalid_1's multi_logloss: 1.36954\n",
            "[70]\ttraining's multi_logloss: 1.22804\tvalid_1's multi_logloss: 1.36031\n",
            "[80]\ttraining's multi_logloss: 1.20451\tvalid_1's multi_logloss: 1.34936\n",
            "[90]\ttraining's multi_logloss: 1.18304\tvalid_1's multi_logloss: 1.34054\n",
            "[100]\ttraining's multi_logloss: 1.16009\tvalid_1's multi_logloss: 1.32984\n",
            "Did not meet early stopping. Best iteration is:\n",
            "[100]\ttraining's multi_logloss: 1.16009\tvalid_1's multi_logloss: 1.32984\n",
            "Fold 3 Classification Report:\n",
            "              precision    recall  f1-score   support\n",
            "\n",
            "           0       0.42      0.60      0.50      1034\n",
            "           1       0.45      0.41      0.43       590\n",
            "           2       0.54      0.48      0.51       712\n",
            "           3       0.43      0.42      0.42       694\n",
            "           4       0.56      0.26      0.36       570\n",
            "\n",
            "    accuracy                           0.46      3600\n",
            "   macro avg       0.48      0.44      0.44      3600\n",
            "weighted avg       0.47      0.46      0.45      3600\n",
            "\n",
            "Training until validation scores don't improve for 10 rounds\n",
            "[10]\ttraining's multi_logloss: 1.45895\tvalid_1's multi_logloss: 1.49461\n",
            "[20]\ttraining's multi_logloss: 1.38798\tvalid_1's multi_logloss: 1.45152\n",
            "[30]\ttraining's multi_logloss: 1.33769\tvalid_1's multi_logloss: 1.42398\n",
            "[40]\ttraining's multi_logloss: 1.29894\tvalid_1's multi_logloss: 1.40481\n",
            "[50]\ttraining's multi_logloss: 1.26889\tvalid_1's multi_logloss: 1.38956\n",
            "[60]\ttraining's multi_logloss: 1.2453\tvalid_1's multi_logloss: 1.37889\n",
            "[70]\ttraining's multi_logloss: 1.22364\tvalid_1's multi_logloss: 1.36849\n",
            "[80]\ttraining's multi_logloss: 1.20341\tvalid_1's multi_logloss: 1.35934\n",
            "[90]\ttraining's multi_logloss: 1.18187\tvalid_1's multi_logloss: 1.34944\n",
            "[100]\ttraining's multi_logloss: 1.15988\tvalid_1's multi_logloss: 1.33934\n",
            "Did not meet early stopping. Best iteration is:\n",
            "[100]\ttraining's multi_logloss: 1.15988\tvalid_1's multi_logloss: 1.33934\n",
            "Fold 4 Classification Report:\n",
            "              precision    recall  f1-score   support\n",
            "\n",
            "           0       0.40      0.59      0.48      1023\n",
            "           1       0.43      0.37      0.40       587\n",
            "           2       0.54      0.47      0.50       680\n",
            "           3       0.42      0.38      0.40       734\n",
            "           4       0.54      0.31      0.40       576\n",
            "\n",
            "    accuracy                           0.44      3600\n",
            "   macro avg       0.47      0.42      0.43      3600\n",
            "weighted avg       0.46      0.44      0.44      3600\n",
            "\n",
            "Training until validation scores don't improve for 10 rounds\n",
            "[10]\ttraining's multi_logloss: 1.45905\tvalid_1's multi_logloss: 1.50508\n",
            "[20]\ttraining's multi_logloss: 1.38832\tvalid_1's multi_logloss: 1.46247\n",
            "[30]\ttraining's multi_logloss: 1.34072\tvalid_1's multi_logloss: 1.43853\n",
            "[40]\ttraining's multi_logloss: 1.30406\tvalid_1's multi_logloss: 1.42165\n",
            "[50]\ttraining's multi_logloss: 1.27497\tvalid_1's multi_logloss: 1.40873\n",
            "[60]\ttraining's multi_logloss: 1.2522\tvalid_1's multi_logloss: 1.39902\n",
            "[70]\ttraining's multi_logloss: 1.226\tvalid_1's multi_logloss: 1.38742\n",
            "[80]\ttraining's multi_logloss: 1.20355\tvalid_1's multi_logloss: 1.37749\n",
            "[90]\ttraining's multi_logloss: 1.18178\tvalid_1's multi_logloss: 1.36799\n",
            "[100]\ttraining's multi_logloss: 1.16178\tvalid_1's multi_logloss: 1.35805\n",
            "Did not meet early stopping. Best iteration is:\n",
            "[100]\ttraining's multi_logloss: 1.16178\tvalid_1's multi_logloss: 1.35805\n",
            "Fold 5 Classification Report:\n",
            "              precision    recall  f1-score   support\n",
            "\n",
            "           0       0.37      0.59      0.46       963\n",
            "           1       0.45      0.38      0.41       621\n",
            "           2       0.51      0.48      0.50       687\n",
            "           3       0.42      0.40      0.41       694\n",
            "           4       0.64      0.26      0.37       635\n",
            "\n",
            "    accuracy                           0.44      3600\n",
            "   macro avg       0.48      0.42      0.43      3600\n",
            "weighted avg       0.47      0.44      0.43      3600\n",
            "\n",
            "              precision    recall  f1-score   support\n",
            "\n",
            "           0       0.54      0.61      0.57      2018\n",
            "           1       0.42      0.35      0.38       927\n",
            "           2       0.34      0.36      0.35       670\n",
            "           3       0.26      0.27      0.27       802\n",
            "           4       0.09      0.05      0.07       359\n",
            "\n",
            "    accuracy                           0.43      4776\n",
            "   macro avg       0.33      0.33      0.33      4776\n",
            "weighted avg       0.41      0.43      0.41      4776\n",
            "\n"
          ]
        }
      ]
    }
  ],
  "metadata": {
    "colab": {
      "provenance": [],
      "collapsed_sections": [
        "pdExK4_TojfA",
        "CbLfYnsUpiD8",
        "y5OBOE4yu-6H",
        "w0bkkfYovYtQ",
        "CVNr0Wmowfg9"
      ]
    },
    "kernelspec": {
      "display_name": "Python 3",
      "name": "python3"
    },
    "language_info": {
      "name": "python"
    }
  },
  "nbformat": 4,
  "nbformat_minor": 0
}