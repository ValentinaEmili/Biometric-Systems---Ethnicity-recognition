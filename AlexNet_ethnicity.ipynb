{
  "cells": [
    {
      "cell_type": "code",
      "execution_count": 1,
      "metadata": {
        "colab": {
          "base_uri": "https://localhost:8080/"
        },
        "id": "3AuMVkGrOLz8",
        "outputId": "1a1f3400-b2f6-4454-bc97-d234b1c35f2a"
      },
      "outputs": [
        {
          "name": "stdout",
          "output_type": "stream",
          "text": [
            "Requirement already satisfied: gdown in /usr/local/lib/python3.10/dist-packages (5.2.0)\n",
            "Requirement already satisfied: beautifulsoup4 in /usr/local/lib/python3.10/dist-packages (from gdown) (4.12.3)\n",
            "Requirement already satisfied: filelock in /usr/local/lib/python3.10/dist-packages (from gdown) (3.16.1)\n",
            "Requirement already satisfied: requests[socks] in /usr/local/lib/python3.10/dist-packages (from gdown) (2.32.3)\n",
            "Requirement already satisfied: tqdm in /usr/local/lib/python3.10/dist-packages (from gdown) (4.67.1)\n",
            "Requirement already satisfied: soupsieve>1.2 in /usr/local/lib/python3.10/dist-packages (from beautifulsoup4->gdown) (2.6)\n",
            "Requirement already satisfied: charset-normalizer<4,>=2 in /usr/local/lib/python3.10/dist-packages (from requests[socks]->gdown) (3.4.0)\n",
            "Requirement already satisfied: idna<4,>=2.5 in /usr/local/lib/python3.10/dist-packages (from requests[socks]->gdown) (3.10)\n",
            "Requirement already satisfied: urllib3<3,>=1.21.1 in /usr/local/lib/python3.10/dist-packages (from requests[socks]->gdown) (2.2.3)\n",
            "Requirement already satisfied: certifi>=2017.4.17 in /usr/local/lib/python3.10/dist-packages (from requests[socks]->gdown) (2024.12.14)\n",
            "Requirement already satisfied: PySocks!=1.5.7,>=1.5.6 in /usr/local/lib/python3.10/dist-packages (from requests[socks]->gdown) (1.7.1)\n",
            "Requirement already satisfied: tqdm in /usr/local/lib/python3.10/dist-packages (4.67.1)\n"
          ]
        },
        {
          "data": {
            "text/plain": [
              "['/content/Dataset/AlexNet.py',\n",
              " '/content/Dataset/custom_cnn.py',\n",
              " '/content/Dataset/Dataset_resized.zip']"
            ]
          },
          "execution_count": 1,
          "metadata": {},
          "output_type": "execute_result"
        }
      ],
      "source": [
        "%pip install gdown\n",
        "%pip install tqdm\n",
        "import gdown\n",
        "\n",
        "url = \"https://drive.google.com/drive/folders/1iYO-Kwh4RFq6mm5UNPTRO7te8T6jOA6f?usp=drive_link\"\n",
        "gdown.download_folder(url, quiet=True)"
      ]
    },
    {
      "cell_type": "code",
      "execution_count": 2,
      "metadata": {
        "colab": {
          "base_uri": "https://localhost:8080/"
        },
        "id": "OmbewJL_PSOa",
        "outputId": "01d140fd-bae7-4059-d95c-8e75857ab49c"
      },
      "outputs": [
        {
          "name": "stdout",
          "output_type": "stream",
          "text": [
            "File zip Dataset/Dataset_resized.zip estratto e rimosso.\n",
            "Process completed!\n"
          ]
        }
      ],
      "source": [
        "import os\n",
        "import zipfile\n",
        "import shutil\n",
        "from tqdm import tqdm\n",
        "from collections import defaultdict\n",
        "from sklearn.model_selection import train_test_split\n",
        "import torch.nn as nn\n",
        "import torch.optim as optim\n",
        "from PIL import Image\n",
        "from torchvision import datasets, transforms, models\n",
        "from torch.utils.data import DataLoader, random_split, Dataset\n",
        "import matplotlib.pyplot as plt\n",
        "import numpy as np\n",
        "import torch\n",
        "from Dataset.AlexNet import AlexNet\n",
        "from sklearn.metrics import classification_report, confusion_matrix\n",
        "from sklearn.model_selection import KFold\n",
        "from torch.utils.data import Subset\n",
        "import seaborn as sns\n",
        "import matplotlib.pyplot as plt\n",
        "import math\n",
        "\n",
        "\n",
        "# path of the dataset\n",
        "dataset_path = \"Dataset\"\n",
        "\n",
        "# extract zip files and remove them\n",
        "def extract_and_remove_zip(zip_path, extract_to):\n",
        "    \"\"\"\n",
        "    Estrae il contenuto di un file zip e poi elimina il file zip.\n",
        "    Args:\n",
        "        zip_path (str): percorso del file zip da estrarre.\n",
        "        extract_to (str): cartella di destinazione in cui estrarre i file.\n",
        "    \"\"\"\n",
        "    with zipfile.ZipFile(zip_path, 'r') as zip_ref:\n",
        "        zip_ref.extractall(extract_to)\n",
        "    os.remove(zip_path)\n",
        "    print(f\"File zip {zip_path} estratto e rimosso.\")\n",
        "\n",
        "zip_files = [f for f in os.listdir(dataset_path) if f.endswith('.zip')]\n",
        "for zip_file in zip_files:\n",
        "    zip_path = os.path.join(dataset_path, zip_file)\n",
        "    extract_and_remove_zip(zip_path, dataset_path)\n",
        "\n",
        "\n",
        "print(\"Process completed!\")\n",
        "\n",
        "\n"
      ]
    },
    {
      "cell_type": "markdown",
      "metadata": {
        "id": "TMJOTsQy2nqT"
      },
      "source": [
        "**Conteggio numero immagini per ogni set**"
      ]
    },
    {
      "cell_type": "code",
      "execution_count": 3,
      "metadata": {
        "colab": {
          "base_uri": "https://localhost:8080/"
        },
        "id": "pbmxURG1p1yz",
        "outputId": "2319293b-3dec-437c-8ae2-b3325b3f407b"
      },
      "outputs": [
        {
          "name": "stdout",
          "output_type": "stream",
          "text": [
            "Cartella 'nose':\n",
            "  Train set: 18255 file\n",
            "  Test set: 4776 file\n",
            "Cartella 'mouth':\n",
            "  Train set: 18255 file\n",
            "  Test set: 4776 file\n",
            "Cartella '__pycache__':\n",
            "  Train set: 0 file\n",
            "  Test set: 0 file\n",
            "Cartella 'eyes':\n",
            "  Train set: 18255 file\n",
            "  Test set: 4776 file\n"
          ]
        }
      ],
      "source": [
        "dataset_path = \"Dataset\"\n",
        "for folder in os.listdir(dataset_path):\n",
        "    folder_path = os.path.join(dataset_path, folder)\n",
        "\n",
        "    if os.path.isdir(folder_path):\n",
        "        train_folder = os.path.join(folder_path, \"train\")\n",
        "        test_folder = os.path.join(folder_path, \"test\")\n",
        "\n",
        "        train_count = len([f for f in os.listdir(train_folder) if os.path.isfile(os.path.join(train_folder, f))]) if os.path.exists(train_folder) else 0\n",
        "        test_count = len([f for f in os.listdir(test_folder) if os.path.isfile(os.path.join(test_folder, f))]) if os.path.exists(test_folder) else 0\n",
        "\n",
        "        print(f\"Cartella '{folder}':\")\n",
        "        print(f\"  Train set: {train_count} file\")\n",
        "        print(f\"  Test set: {test_count} file\")"
      ]
    },
    {
      "cell_type": "code",
      "execution_count": 3,
      "metadata": {
        "colab": {
          "base_uri": "https://localhost:8080/"
        },
        "id": "sjt1L2IxWeTz",
        "outputId": "60e7fcfd-028e-47db-97cd-f033d171d18a"
      },
      "outputs": [
        {
          "name": "stdout",
          "output_type": "stream",
          "text": [
            "Using device: cuda\n"
          ]
        }
      ],
      "source": [
        "# Check if GPU is available\n",
        "device = torch.device('cuda' if torch.cuda.is_available() else 'cpu')\n",
        "print(f'Using device: {device}')"
      ]
    },
    {
      "cell_type": "code",
      "execution_count": 4,
      "metadata": {
        "id": "Lh0Zvz423z4-"
      },
      "outputs": [],
      "source": [
        "# Transform eyes (266 x 44)\n",
        "transform_eyes = transforms.Compose([\n",
        "    transforms.Resize((44, 266)),\n",
        "    transforms.ToTensor(),\n",
        "    transforms.Normalize(mean = [0.56551169, 0.4201522,  0.35519068], std = [0.22746577, 0.20109357, 0.19388984])\n",
        "])\n",
        "\n",
        "# Transform nose (108x170)\n",
        "transform_nose = transforms.Compose([\n",
        "    transforms.Resize((170, 108)),\n",
        "    transforms.ToTensor(),\n",
        "    transforms.Normalize(mean = [0.70585869, 0.5230923,  0.44163547], std = [0.19556989, 0.19164655, 0.19488743])\n",
        "])\n",
        "\n",
        "# Transform mouth (193x89)\n",
        "transform_mouth = transforms.Compose([\n",
        "    transforms.Resize((89, 193)), \n",
        "    transforms.ToTensor(),\n",
        "    transforms.Normalize(mean = [0.64867712, 0.4592991,  0.39606173], std = [0.2005014,  0.18597975, 0.18335514])\n",
        "])\n",
        "\n",
        "class EthnicityDataset(Dataset):\n",
        "    def __init__(self, root_dir, transform=None):\n",
        "        self.root_dir = root_dir\n",
        "        self.transform = transform\n",
        "        self.images = []\n",
        "        self.labels = []\n",
        "\n",
        "        for filename in os.listdir(root_dir):\n",
        "            if filename.endswith(\".jpg\") or filename.endswith(\".png\"):\n",
        "                self.images.append(filename)\n",
        "\n",
        "                # extract labels\n",
        "                # example: eyes_100_1_0_20170112213001988\n",
        "                parts = filename.split('_')\n",
        "                if len(parts) >= 4:\n",
        "                    label = parts[3]  # fourth element (index 3)\n",
        "                    label_map = {\"0\": 0, \"1\": 1, \"2\": 2, \"3\": 3, \"4\": 4}  # Map ethnicities\n",
        "                    self.labels.append(label_map.get(label, -1))  # no ethnicity found\n",
        "\n",
        "    def __len__(self):\n",
        "        return len(self.images)\n",
        "\n",
        "    def __getitem__(self, idx):\n",
        "        image_name = self.images[idx]\n",
        "        image_path = os.path.join(self.root_dir, image_name)\n",
        "\n",
        "        try:\n",
        "            image = Image.open(image_path)\n",
        "        except Exception as e:\n",
        "            print(f\"Error: loading of the image {image_path}: {e}\")\n",
        "            return None, None\n",
        "\n",
        "        if self.transform:\n",
        "            image = self.transform(image)\n",
        "\n",
        "        label = self.labels[idx]\n",
        "\n",
        "        # Check if label is correct\n",
        "        if label == -1:\n",
        "            print(f\"Error: no label found {image_name}\")\n",
        "\n",
        "        return image, label"
      ]
    },
    {
      "cell_type": "code",
      "execution_count": 5,
      "metadata": {
        "id": "Yp9HKRYlu8DB"
      },
      "outputs": [],
      "source": [
        "def get_output_size(input_width, input_height):\n",
        "    # Layer 1: Conv2d + MaxPool2d\n",
        "    # Conv2d parameters: kernel_size=11, stride=4, padding=0\n",
        "    # MaxPool2d parameters: kernel_size=2, stride=2\n",
        "    x1 = math.floor((input_width - 11) / 4) + 1  # Conv2d (kernel 11, stride 4, padding 0)\n",
        "    y1 = math.floor((input_height - 11) / 4) + 1  # Conv2d\n",
        "    x1 = math.floor(x1 / 2)  # MaxPool2d (stride 2)\n",
        "    y1 = math.floor(y1 / 2)  # MaxPool2d\n",
        "\n",
        "    # Layer 2: Conv2d + MaxPool2d\n",
        "    # Conv2d parameters: kernel_size=5, stride=1, padding=2\n",
        "    # MaxPool2d parameters: kernel_size=2, stride=2\n",
        "    x2 = math.floor((x1 - 5 + 2 * 2) / 1) + 1  # Conv2d (kernel 5, stride 1, padding 2)\n",
        "    y2 = math.floor((y1 - 5 + 2 * 2) / 1) + 1  # Conv2d\n",
        "    x2 = math.floor(x2 / 2)  # MaxPool2d\n",
        "    y2 = math.floor(y2 / 2)  # MaxPool2d\n",
        "\n",
        "    # Layer 3: Conv2d + MaxPool2d\n",
        "    # Conv2d parameters: kernel_size=3, stride=1, padding=1\n",
        "    # MaxPool2d parameters: kernel_size=2, stride=2\n",
        "    x3 = math.floor((x2 - 3 + 2 * 1) / 1) + 1  # Conv2d (kernel 3, stride 1, padding 1)\n",
        "    y3 = math.floor((y2 - 3 + 2 * 1) / 1) + 1  # Conv2d\n",
        "    x3 = math.floor(x3 / 2)  # MaxPool2d\n",
        "    y3 = math.floor(y3 / 2)  # MaxPool2d\n",
        "\n",
        "    # Layer 4: Conv2d\n",
        "    # Conv2d parameters: kernel_size=3, stride=1, padding=1\n",
        "    x4 = math.floor((x3 - 3 + 2 * 1) / 1) + 1  # Conv2d (kernel 3, stride 1, padding 1)\n",
        "    y4 = math.floor((y3 - 3 + 2 * 1) / 1) + 1  # Conv2d\n",
        "\n",
        "    # Layer 5: Conv2d\n",
        "    # Conv2d parameters: kernel_size=3, stride=1, padding=1\n",
        "    x5 = math.floor((x4 - 3 + 2 * 1) / 1) + 1  # Conv2d (kernel 3, stride 1, padding 1)\n",
        "    y5 = math.floor((y4 - 3 + 2 * 1) / 1) + 1  # Conv2d\n",
        "\n",
        "    # Final output: return the final output dimensions\n",
        "    return x5, y5\n",
        "\n",
        "ex = 266\n",
        "ey = 44\n",
        "nx = 108\n",
        "ny = 170\n",
        "mx = 193\n",
        "my = 89\n",
        "\n",
        "\n",
        "ex, ey = get_output_size(ex, ey)\n",
        "nx, ny = get_output_size(nx, ny)\n",
        "mx, my = get_output_size(mx, my)\n",
        "\n",
        "\n",
        "class_names = [\"White\", \"Black\", \"Asian\", \"Indian\", \"Others\"]"
      ]
    },
    {
      "cell_type": "markdown",
      "metadata": {
        "id": "5Dkmi8jNsoKr"
      },
      "source": [
        "**EYES TRAINING VALIDATION AND TEST**"
      ]
    },
    {
      "cell_type": "code",
      "execution_count": 9,
      "metadata": {
        "colab": {
          "base_uri": "https://localhost:8080/"
        },
        "id": "9Wj4z1i5Uuth",
        "outputId": "6c50304f-d328-4390-c455-dd6d29a5fc8e"
      },
      "outputs": [
        {
          "name": "stdout",
          "output_type": "stream",
          "text": [
            "Fold 1/5\n"
          ]
        },
        {
          "name": "stderr",
          "output_type": "stream",
          "text": [
            "Training Fold 1, Epoch 1: 100%|██████████| 229/229 [00:20<00:00, 11.30batch/s]\n"
          ]
        },
        {
          "name": "stdout",
          "output_type": "stream",
          "text": [
            "Fold 1, Epoch 1, Train Loss: 1.3044, Train Accuracy: 0.5134\n"
          ]
        },
        {
          "name": "stderr",
          "output_type": "stream",
          "text": [
            "Validating Fold 1, Epoch 1: 100%|██████████| 58/58 [00:07<00:00,  7.34batch/s]\n"
          ]
        },
        {
          "name": "stdout",
          "output_type": "stream",
          "text": [
            "New best model saved with Val Accuracy: 0.5251\n",
            "Fold 1, Epoch 1, Val Loss: 1.2078, Val Accuracy: 0.5251\n"
          ]
        },
        {
          "name": "stderr",
          "output_type": "stream",
          "text": [
            "Training Fold 1, Epoch 2: 100%|██████████| 229/229 [00:23<00:00,  9.58batch/s]\n"
          ]
        },
        {
          "name": "stdout",
          "output_type": "stream",
          "text": [
            "Fold 1, Epoch 2, Train Loss: 1.1145, Train Accuracy: 0.5863\n"
          ]
        },
        {
          "name": "stderr",
          "output_type": "stream",
          "text": [
            "Validating Fold 1, Epoch 2: 100%|██████████| 58/58 [00:03<00:00, 18.13batch/s]\n"
          ]
        },
        {
          "name": "stdout",
          "output_type": "stream",
          "text": [
            "New best model saved with Val Accuracy: 0.5448\n",
            "Fold 1, Epoch 2, Val Loss: 1.3058, Val Accuracy: 0.5448\n"
          ]
        },
        {
          "name": "stderr",
          "output_type": "stream",
          "text": [
            "Training Fold 1, Epoch 3: 100%|██████████| 229/229 [00:17<00:00, 12.86batch/s]\n"
          ]
        },
        {
          "name": "stdout",
          "output_type": "stream",
          "text": [
            "Fold 1, Epoch 3, Train Loss: 1.0257, Train Accuracy: 0.6269\n"
          ]
        },
        {
          "name": "stderr",
          "output_type": "stream",
          "text": [
            "Validating Fold 1, Epoch 3: 100%|██████████| 58/58 [00:03<00:00, 15.49batch/s]\n"
          ]
        },
        {
          "name": "stdout",
          "output_type": "stream",
          "text": [
            "New best model saved with Val Accuracy: 0.6283\n",
            "Fold 1, Epoch 3, Val Loss: 1.0038, Val Accuracy: 0.6283\n"
          ]
        },
        {
          "name": "stderr",
          "output_type": "stream",
          "text": [
            "Training Fold 1, Epoch 4: 100%|██████████| 229/229 [00:17<00:00, 12.87batch/s]\n"
          ]
        },
        {
          "name": "stdout",
          "output_type": "stream",
          "text": [
            "Fold 1, Epoch 4, Train Loss: 0.9553, Train Accuracy: 0.6583\n"
          ]
        },
        {
          "name": "stderr",
          "output_type": "stream",
          "text": [
            "Validating Fold 1, Epoch 4: 100%|██████████| 58/58 [00:03<00:00, 16.47batch/s]\n"
          ]
        },
        {
          "name": "stdout",
          "output_type": "stream",
          "text": [
            "New best model saved with Val Accuracy: 0.6330\n",
            "Fold 1, Epoch 4, Val Loss: 1.0063, Val Accuracy: 0.6330\n"
          ]
        },
        {
          "name": "stderr",
          "output_type": "stream",
          "text": [
            "Training Fold 1, Epoch 5: 100%|██████████| 229/229 [00:19<00:00, 11.92batch/s]\n"
          ]
        },
        {
          "name": "stdout",
          "output_type": "stream",
          "text": [
            "Fold 1, Epoch 5, Train Loss: 0.9191, Train Accuracy: 0.6704\n"
          ]
        },
        {
          "name": "stderr",
          "output_type": "stream",
          "text": [
            "Validating Fold 1, Epoch 5: 100%|██████████| 58/58 [00:03<00:00, 18.12batch/s]\n"
          ]
        },
        {
          "name": "stdout",
          "output_type": "stream",
          "text": [
            "New best model saved with Val Accuracy: 0.6516\n",
            "Fold 1, Epoch 5, Val Loss: 0.9622, Val Accuracy: 0.6516\n"
          ]
        },
        {
          "name": "stderr",
          "output_type": "stream",
          "text": [
            "Training Fold 1, Epoch 6: 100%|██████████| 229/229 [00:17<00:00, 12.74batch/s]\n"
          ]
        },
        {
          "name": "stdout",
          "output_type": "stream",
          "text": [
            "Fold 1, Epoch 6, Train Loss: 0.8834, Train Accuracy: 0.6867\n"
          ]
        },
        {
          "name": "stderr",
          "output_type": "stream",
          "text": [
            "Validating Fold 1, Epoch 6: 100%|██████████| 58/58 [00:03<00:00, 15.43batch/s]\n"
          ]
        },
        {
          "name": "stdout",
          "output_type": "stream",
          "text": [
            "Fold 1, Epoch 6, Val Loss: 0.9546, Val Accuracy: 0.6508\n"
          ]
        },
        {
          "name": "stderr",
          "output_type": "stream",
          "text": [
            "Training Fold 1, Epoch 7: 100%|██████████| 229/229 [00:17<00:00, 12.78batch/s]\n"
          ]
        },
        {
          "name": "stdout",
          "output_type": "stream",
          "text": [
            "Fold 1, Epoch 7, Train Loss: 0.8427, Train Accuracy: 0.6995\n"
          ]
        },
        {
          "name": "stderr",
          "output_type": "stream",
          "text": [
            "Validating Fold 1, Epoch 7: 100%|██████████| 58/58 [00:03<00:00, 18.67batch/s]\n"
          ]
        },
        {
          "name": "stdout",
          "output_type": "stream",
          "text": [
            "New best model saved with Val Accuracy: 0.6656\n",
            "Fold 1, Epoch 7, Val Loss: 0.9076, Val Accuracy: 0.6656\n"
          ]
        },
        {
          "name": "stderr",
          "output_type": "stream",
          "text": [
            "Training Fold 1, Epoch 8: 100%|██████████| 229/229 [00:18<00:00, 12.65batch/s]\n"
          ]
        },
        {
          "name": "stdout",
          "output_type": "stream",
          "text": [
            "Fold 1, Epoch 8, Train Loss: 0.8132, Train Accuracy: 0.7095\n"
          ]
        },
        {
          "name": "stderr",
          "output_type": "stream",
          "text": [
            "Validating Fold 1, Epoch 8: 100%|██████████| 58/58 [00:03<00:00, 16.67batch/s]\n"
          ]
        },
        {
          "name": "stdout",
          "output_type": "stream",
          "text": [
            "New best model saved with Val Accuracy: 0.6899\n",
            "Fold 1, Epoch 8, Val Loss: 0.8524, Val Accuracy: 0.6899\n"
          ]
        },
        {
          "name": "stderr",
          "output_type": "stream",
          "text": [
            "Training Fold 1, Epoch 9: 100%|██████████| 229/229 [00:17<00:00, 12.82batch/s]\n"
          ]
        },
        {
          "name": "stdout",
          "output_type": "stream",
          "text": [
            "Fold 1, Epoch 9, Train Loss: 0.7799, Train Accuracy: 0.7219\n"
          ]
        },
        {
          "name": "stderr",
          "output_type": "stream",
          "text": [
            "Validating Fold 1, Epoch 9: 100%|██████████| 58/58 [00:03<00:00, 17.01batch/s]\n"
          ]
        },
        {
          "name": "stdout",
          "output_type": "stream",
          "text": [
            "New best model saved with Val Accuracy: 0.7012\n",
            "Fold 1, Epoch 9, Val Loss: 0.8355, Val Accuracy: 0.7012\n"
          ]
        },
        {
          "name": "stderr",
          "output_type": "stream",
          "text": [
            "Training Fold 1, Epoch 10: 100%|██████████| 229/229 [00:18<00:00, 12.46batch/s]\n"
          ]
        },
        {
          "name": "stdout",
          "output_type": "stream",
          "text": [
            "Fold 1, Epoch 10, Train Loss: 0.7613, Train Accuracy: 0.7300\n"
          ]
        },
        {
          "name": "stderr",
          "output_type": "stream",
          "text": [
            "Validating Fold 1, Epoch 10: 100%|██████████| 58/58 [00:03<00:00, 18.57batch/s]\n"
          ]
        },
        {
          "name": "stdout",
          "output_type": "stream",
          "text": [
            "Fold 1, Epoch 10, Val Loss: 0.8313, Val Accuracy: 0.6971\n"
          ]
        },
        {
          "name": "stderr",
          "output_type": "stream",
          "text": [
            "Training Fold 1, Epoch 11: 100%|██████████| 229/229 [00:17<00:00, 12.86batch/s]\n"
          ]
        },
        {
          "name": "stdout",
          "output_type": "stream",
          "text": [
            "Fold 1, Epoch 11, Train Loss: 0.7215, Train Accuracy: 0.7445\n"
          ]
        },
        {
          "name": "stderr",
          "output_type": "stream",
          "text": [
            "Validating Fold 1, Epoch 11: 100%|██████████| 58/58 [00:03<00:00, 14.82batch/s]\n"
          ]
        },
        {
          "name": "stdout",
          "output_type": "stream",
          "text": [
            "Fold 1, Epoch 11, Val Loss: 0.8244, Val Accuracy: 0.6919\n"
          ]
        },
        {
          "name": "stderr",
          "output_type": "stream",
          "text": [
            "Training Fold 1, Epoch 12: 100%|██████████| 229/229 [00:17<00:00, 12.79batch/s]\n"
          ]
        },
        {
          "name": "stdout",
          "output_type": "stream",
          "text": [
            "Fold 1, Epoch 12, Train Loss: 0.6920, Train Accuracy: 0.7553\n"
          ]
        },
        {
          "name": "stderr",
          "output_type": "stream",
          "text": [
            "Validating Fold 1, Epoch 12: 100%|██████████| 58/58 [00:03<00:00, 18.05batch/s]\n"
          ]
        },
        {
          "name": "stdout",
          "output_type": "stream",
          "text": [
            "Fold 1, Epoch 12, Val Loss: 0.8775, Val Accuracy: 0.6861\n",
            "Fold 2/5\n"
          ]
        },
        {
          "name": "stderr",
          "output_type": "stream",
          "text": [
            "Training Fold 2, Epoch 1: 100%|██████████| 229/229 [00:18<00:00, 12.46batch/s]\n"
          ]
        },
        {
          "name": "stdout",
          "output_type": "stream",
          "text": [
            "Fold 2, Epoch 1, Train Loss: 1.3331, Train Accuracy: 0.4925\n"
          ]
        },
        {
          "name": "stderr",
          "output_type": "stream",
          "text": [
            "Validating Fold 2, Epoch 1: 100%|██████████| 58/58 [00:03<00:00, 18.48batch/s]\n"
          ]
        },
        {
          "name": "stdout",
          "output_type": "stream",
          "text": [
            "Fold 2, Epoch 1, Val Loss: 1.1818, Val Accuracy: 0.5546\n"
          ]
        },
        {
          "name": "stderr",
          "output_type": "stream",
          "text": [
            "Training Fold 2, Epoch 2: 100%|██████████| 229/229 [00:17<00:00, 13.03batch/s]\n"
          ]
        },
        {
          "name": "stdout",
          "output_type": "stream",
          "text": [
            "Fold 2, Epoch 2, Train Loss: 1.1492, Train Accuracy: 0.5714\n"
          ]
        },
        {
          "name": "stderr",
          "output_type": "stream",
          "text": [
            "Validating Fold 2, Epoch 2: 100%|██████████| 58/58 [00:03<00:00, 15.08batch/s]\n"
          ]
        },
        {
          "name": "stdout",
          "output_type": "stream",
          "text": [
            "Fold 2, Epoch 2, Val Loss: 1.2792, Val Accuracy: 0.4829\n"
          ]
        },
        {
          "name": "stderr",
          "output_type": "stream",
          "text": [
            "Training Fold 2, Epoch 3: 100%|██████████| 229/229 [00:17<00:00, 12.96batch/s]\n"
          ]
        },
        {
          "name": "stdout",
          "output_type": "stream",
          "text": [
            "Fold 2, Epoch 3, Train Loss: 1.0616, Train Accuracy: 0.6078\n"
          ]
        },
        {
          "name": "stderr",
          "output_type": "stream",
          "text": [
            "Validating Fold 2, Epoch 3: 100%|██████████| 58/58 [00:03<00:00, 18.42batch/s]\n"
          ]
        },
        {
          "name": "stdout",
          "output_type": "stream",
          "text": [
            "Fold 2, Epoch 3, Val Loss: 1.0275, Val Accuracy: 0.6371\n"
          ]
        },
        {
          "name": "stderr",
          "output_type": "stream",
          "text": [
            "Training Fold 2, Epoch 4: 100%|██████████| 229/229 [00:17<00:00, 12.84batch/s]\n"
          ]
        },
        {
          "name": "stdout",
          "output_type": "stream",
          "text": [
            "Fold 2, Epoch 4, Train Loss: 0.9894, Train Accuracy: 0.6424\n"
          ]
        },
        {
          "name": "stderr",
          "output_type": "stream",
          "text": [
            "Validating Fold 2, Epoch 4: 100%|██████████| 58/58 [00:03<00:00, 16.38batch/s]\n"
          ]
        },
        {
          "name": "stdout",
          "output_type": "stream",
          "text": [
            "Fold 2, Epoch 4, Val Loss: 0.9336, Val Accuracy: 0.6576\n"
          ]
        },
        {
          "name": "stderr",
          "output_type": "stream",
          "text": [
            "Training Fold 2, Epoch 5: 100%|██████████| 229/229 [00:17<00:00, 13.02batch/s]\n"
          ]
        },
        {
          "name": "stdout",
          "output_type": "stream",
          "text": [
            "Fold 2, Epoch 5, Train Loss: 0.9485, Train Accuracy: 0.6605\n"
          ]
        },
        {
          "name": "stderr",
          "output_type": "stream",
          "text": [
            "Validating Fold 2, Epoch 5: 100%|██████████| 58/58 [00:03<00:00, 18.56batch/s]\n"
          ]
        },
        {
          "name": "stdout",
          "output_type": "stream",
          "text": [
            "Fold 2, Epoch 5, Val Loss: 1.0070, Val Accuracy: 0.6212\n"
          ]
        },
        {
          "name": "stderr",
          "output_type": "stream",
          "text": [
            "Training Fold 2, Epoch 6: 100%|██████████| 229/229 [00:18<00:00, 12.64batch/s]\n"
          ]
        },
        {
          "name": "stdout",
          "output_type": "stream",
          "text": [
            "Fold 2, Epoch 6, Train Loss: 0.9034, Train Accuracy: 0.6766\n"
          ]
        },
        {
          "name": "stderr",
          "output_type": "stream",
          "text": [
            "Validating Fold 2, Epoch 6: 100%|██████████| 58/58 [00:03<00:00, 18.42batch/s]\n"
          ]
        },
        {
          "name": "stdout",
          "output_type": "stream",
          "text": [
            "Fold 2, Epoch 6, Val Loss: 0.8633, Val Accuracy: 0.6875\n"
          ]
        },
        {
          "name": "stderr",
          "output_type": "stream",
          "text": [
            "Training Fold 2, Epoch 7: 100%|██████████| 229/229 [00:17<00:00, 13.16batch/s]\n"
          ]
        },
        {
          "name": "stdout",
          "output_type": "stream",
          "text": [
            "Fold 2, Epoch 7, Train Loss: 0.8683, Train Accuracy: 0.6908\n"
          ]
        },
        {
          "name": "stderr",
          "output_type": "stream",
          "text": [
            "Validating Fold 2, Epoch 7: 100%|██████████| 58/58 [00:03<00:00, 14.74batch/s]\n"
          ]
        },
        {
          "name": "stdout",
          "output_type": "stream",
          "text": [
            "Fold 2, Epoch 7, Val Loss: 0.9072, Val Accuracy: 0.6661\n"
          ]
        },
        {
          "name": "stderr",
          "output_type": "stream",
          "text": [
            "Training Fold 2, Epoch 8: 100%|██████████| 229/229 [00:17<00:00, 13.10batch/s]\n"
          ]
        },
        {
          "name": "stdout",
          "output_type": "stream",
          "text": [
            "Fold 2, Epoch 8, Train Loss: 0.8395, Train Accuracy: 0.7011\n"
          ]
        },
        {
          "name": "stderr",
          "output_type": "stream",
          "text": [
            "Validating Fold 2, Epoch 8: 100%|██████████| 58/58 [00:03<00:00, 18.59batch/s]\n"
          ]
        },
        {
          "name": "stdout",
          "output_type": "stream",
          "text": [
            "Fold 2, Epoch 8, Val Loss: 0.8650, Val Accuracy: 0.6858\n"
          ]
        },
        {
          "name": "stderr",
          "output_type": "stream",
          "text": [
            "Training Fold 2, Epoch 9: 100%|██████████| 229/229 [00:17<00:00, 12.73batch/s]\n"
          ]
        },
        {
          "name": "stdout",
          "output_type": "stream",
          "text": [
            "Fold 2, Epoch 9, Train Loss: 0.8123, Train Accuracy: 0.7119\n"
          ]
        },
        {
          "name": "stderr",
          "output_type": "stream",
          "text": [
            "Validating Fold 2, Epoch 9: 100%|██████████| 58/58 [00:03<00:00, 17.49batch/s]\n"
          ]
        },
        {
          "name": "stdout",
          "output_type": "stream",
          "text": [
            "Fold 2, Epoch 9, Val Loss: 0.8442, Val Accuracy: 0.6987\n"
          ]
        },
        {
          "name": "stderr",
          "output_type": "stream",
          "text": [
            "Training Fold 2, Epoch 10: 100%|██████████| 229/229 [00:17<00:00, 13.10batch/s]\n"
          ]
        },
        {
          "name": "stdout",
          "output_type": "stream",
          "text": [
            "Fold 2, Epoch 10, Train Loss: 0.7844, Train Accuracy: 0.7195\n"
          ]
        },
        {
          "name": "stderr",
          "output_type": "stream",
          "text": [
            "Validating Fold 2, Epoch 10: 100%|██████████| 58/58 [00:03<00:00, 18.15batch/s]\n"
          ]
        },
        {
          "name": "stdout",
          "output_type": "stream",
          "text": [
            "Fold 2, Epoch 10, Val Loss: 1.0621, Val Accuracy: 0.5993\n"
          ]
        },
        {
          "name": "stderr",
          "output_type": "stream",
          "text": [
            "Training Fold 2, Epoch 11: 100%|██████████| 229/229 [00:18<00:00, 12.50batch/s]\n"
          ]
        },
        {
          "name": "stdout",
          "output_type": "stream",
          "text": [
            "Fold 2, Epoch 11, Train Loss: 0.7481, Train Accuracy: 0.7362\n"
          ]
        },
        {
          "name": "stderr",
          "output_type": "stream",
          "text": [
            "Validating Fold 2, Epoch 11: 100%|██████████| 58/58 [00:03<00:00, 18.52batch/s]\n"
          ]
        },
        {
          "name": "stdout",
          "output_type": "stream",
          "text": [
            "Fold 2, Epoch 11, Val Loss: 0.8643, Val Accuracy: 0.6850\n"
          ]
        },
        {
          "name": "stderr",
          "output_type": "stream",
          "text": [
            "Training Fold 2, Epoch 12: 100%|██████████| 229/229 [00:17<00:00, 13.09batch/s]\n"
          ]
        },
        {
          "name": "stdout",
          "output_type": "stream",
          "text": [
            "Fold 2, Epoch 12, Train Loss: 0.7208, Train Accuracy: 0.7431\n"
          ]
        },
        {
          "name": "stderr",
          "output_type": "stream",
          "text": [
            "Validating Fold 2, Epoch 12: 100%|██████████| 58/58 [00:03<00:00, 14.74batch/s]\n"
          ]
        },
        {
          "name": "stdout",
          "output_type": "stream",
          "text": [
            "New best model saved with Val Accuracy: 0.7127\n",
            "Fold 2, Epoch 12, Val Loss: 0.8105, Val Accuracy: 0.7127\n",
            "Fold 3/5\n"
          ]
        },
        {
          "name": "stderr",
          "output_type": "stream",
          "text": [
            "Training Fold 3, Epoch 1: 100%|██████████| 229/229 [00:17<00:00, 13.05batch/s]\n"
          ]
        },
        {
          "name": "stdout",
          "output_type": "stream",
          "text": [
            "Fold 3, Epoch 1, Train Loss: 1.3012, Train Accuracy: 0.5068\n"
          ]
        },
        {
          "name": "stderr",
          "output_type": "stream",
          "text": [
            "Validating Fold 3, Epoch 1: 100%|██████████| 58/58 [00:03<00:00, 18.39batch/s]\n"
          ]
        },
        {
          "name": "stdout",
          "output_type": "stream",
          "text": [
            "Fold 3, Epoch 1, Val Loss: 1.2029, Val Accuracy: 0.5642\n"
          ]
        },
        {
          "name": "stderr",
          "output_type": "stream",
          "text": [
            "Training Fold 3, Epoch 2: 100%|██████████| 229/229 [00:18<00:00, 12.64batch/s]\n"
          ]
        },
        {
          "name": "stdout",
          "output_type": "stream",
          "text": [
            "Fold 3, Epoch 2, Train Loss: 1.0974, Train Accuracy: 0.5918\n"
          ]
        },
        {
          "name": "stderr",
          "output_type": "stream",
          "text": [
            "Validating Fold 3, Epoch 2: 100%|██████████| 58/58 [00:03<00:00, 17.06batch/s]\n"
          ]
        },
        {
          "name": "stdout",
          "output_type": "stream",
          "text": [
            "Fold 3, Epoch 2, Val Loss: 1.0240, Val Accuracy: 0.6220\n"
          ]
        },
        {
          "name": "stderr",
          "output_type": "stream",
          "text": [
            "Training Fold 3, Epoch 3: 100%|██████████| 229/229 [00:17<00:00, 13.01batch/s]\n"
          ]
        },
        {
          "name": "stdout",
          "output_type": "stream",
          "text": [
            "Fold 3, Epoch 3, Train Loss: 1.0243, Train Accuracy: 0.6292\n"
          ]
        },
        {
          "name": "stderr",
          "output_type": "stream",
          "text": [
            "Validating Fold 3, Epoch 3: 100%|██████████| 58/58 [00:03<00:00, 17.74batch/s]\n"
          ]
        },
        {
          "name": "stdout",
          "output_type": "stream",
          "text": [
            "Fold 3, Epoch 3, Val Loss: 0.9675, Val Accuracy: 0.6494\n"
          ]
        },
        {
          "name": "stderr",
          "output_type": "stream",
          "text": [
            "Training Fold 3, Epoch 4: 100%|██████████| 229/229 [00:18<00:00, 12.53batch/s]\n"
          ]
        },
        {
          "name": "stdout",
          "output_type": "stream",
          "text": [
            "Fold 3, Epoch 4, Train Loss: 0.9716, Train Accuracy: 0.6528\n"
          ]
        },
        {
          "name": "stderr",
          "output_type": "stream",
          "text": [
            "Validating Fold 3, Epoch 4: 100%|██████████| 58/58 [00:03<00:00, 18.60batch/s]\n"
          ]
        },
        {
          "name": "stdout",
          "output_type": "stream",
          "text": [
            "Fold 3, Epoch 4, Val Loss: 0.9543, Val Accuracy: 0.6527\n"
          ]
        },
        {
          "name": "stderr",
          "output_type": "stream",
          "text": [
            "Training Fold 3, Epoch 5: 100%|██████████| 229/229 [00:17<00:00, 13.11batch/s]\n"
          ]
        },
        {
          "name": "stdout",
          "output_type": "stream",
          "text": [
            "Fold 3, Epoch 5, Train Loss: 0.9304, Train Accuracy: 0.6680\n"
          ]
        },
        {
          "name": "stderr",
          "output_type": "stream",
          "text": [
            "Validating Fold 3, Epoch 5: 100%|██████████| 58/58 [00:04<00:00, 14.48batch/s]\n"
          ]
        },
        {
          "name": "stdout",
          "output_type": "stream",
          "text": [
            "Fold 3, Epoch 5, Val Loss: 0.9376, Val Accuracy: 0.6708\n"
          ]
        },
        {
          "name": "stderr",
          "output_type": "stream",
          "text": [
            "Training Fold 3, Epoch 6: 100%|██████████| 229/229 [00:17<00:00, 13.09batch/s]\n"
          ]
        },
        {
          "name": "stdout",
          "output_type": "stream",
          "text": [
            "Fold 3, Epoch 6, Train Loss: 0.8834, Train Accuracy: 0.6842\n"
          ]
        },
        {
          "name": "stderr",
          "output_type": "stream",
          "text": [
            "Validating Fold 3, Epoch 6: 100%|██████████| 58/58 [00:03<00:00, 18.55batch/s]\n"
          ]
        },
        {
          "name": "stdout",
          "output_type": "stream",
          "text": [
            "Fold 3, Epoch 6, Val Loss: 0.9299, Val Accuracy: 0.6639\n"
          ]
        },
        {
          "name": "stderr",
          "output_type": "stream",
          "text": [
            "Training Fold 3, Epoch 7: 100%|██████████| 229/229 [00:17<00:00, 12.74batch/s]\n"
          ]
        },
        {
          "name": "stdout",
          "output_type": "stream",
          "text": [
            "Fold 3, Epoch 7, Train Loss: 0.8528, Train Accuracy: 0.6964\n"
          ]
        },
        {
          "name": "stderr",
          "output_type": "stream",
          "text": [
            "Validating Fold 3, Epoch 7: 100%|██████████| 58/58 [00:03<00:00, 17.54batch/s]\n"
          ]
        },
        {
          "name": "stdout",
          "output_type": "stream",
          "text": [
            "Fold 3, Epoch 7, Val Loss: 0.8470, Val Accuracy: 0.6941\n"
          ]
        },
        {
          "name": "stderr",
          "output_type": "stream",
          "text": [
            "Training Fold 3, Epoch 8: 100%|██████████| 229/229 [00:17<00:00, 13.08batch/s]\n"
          ]
        },
        {
          "name": "stdout",
          "output_type": "stream",
          "text": [
            "Fold 3, Epoch 8, Train Loss: 0.8227, Train Accuracy: 0.7078\n"
          ]
        },
        {
          "name": "stderr",
          "output_type": "stream",
          "text": [
            "Validating Fold 3, Epoch 8: 100%|██████████| 58/58 [00:03<00:00, 17.79batch/s]\n"
          ]
        },
        {
          "name": "stdout",
          "output_type": "stream",
          "text": [
            "Fold 3, Epoch 8, Val Loss: 0.8836, Val Accuracy: 0.6872\n"
          ]
        },
        {
          "name": "stderr",
          "output_type": "stream",
          "text": [
            "Training Fold 3, Epoch 9: 100%|██████████| 229/229 [00:18<00:00, 12.50batch/s]\n"
          ]
        },
        {
          "name": "stdout",
          "output_type": "stream",
          "text": [
            "Fold 3, Epoch 9, Train Loss: 0.7931, Train Accuracy: 0.7186\n"
          ]
        },
        {
          "name": "stderr",
          "output_type": "stream",
          "text": [
            "Validating Fold 3, Epoch 9: 100%|██████████| 58/58 [00:03<00:00, 18.80batch/s]\n"
          ]
        },
        {
          "name": "stdout",
          "output_type": "stream",
          "text": [
            "Fold 3, Epoch 9, Val Loss: 0.9187, Val Accuracy: 0.6705\n"
          ]
        },
        {
          "name": "stderr",
          "output_type": "stream",
          "text": [
            "Training Fold 3, Epoch 10: 100%|██████████| 229/229 [00:17<00:00, 12.99batch/s]\n"
          ]
        },
        {
          "name": "stdout",
          "output_type": "stream",
          "text": [
            "Fold 3, Epoch 10, Train Loss: 0.7691, Train Accuracy: 0.7244\n"
          ]
        },
        {
          "name": "stderr",
          "output_type": "stream",
          "text": [
            "Validating Fold 3, Epoch 10: 100%|██████████| 58/58 [00:04<00:00, 14.48batch/s]\n"
          ]
        },
        {
          "name": "stdout",
          "output_type": "stream",
          "text": [
            "Fold 3, Epoch 10, Val Loss: 0.9072, Val Accuracy: 0.6801\n"
          ]
        },
        {
          "name": "stderr",
          "output_type": "stream",
          "text": [
            "Training Fold 3, Epoch 11: 100%|██████████| 229/229 [00:17<00:00, 12.95batch/s]\n"
          ]
        },
        {
          "name": "stdout",
          "output_type": "stream",
          "text": [
            "Fold 3, Epoch 11, Train Loss: 0.7376, Train Accuracy: 0.7366\n"
          ]
        },
        {
          "name": "stderr",
          "output_type": "stream",
          "text": [
            "Validating Fold 3, Epoch 11: 100%|██████████| 58/58 [00:03<00:00, 18.53batch/s]\n"
          ]
        },
        {
          "name": "stdout",
          "output_type": "stream",
          "text": [
            "Fold 3, Epoch 11, Val Loss: 0.8528, Val Accuracy: 0.7025\n"
          ]
        },
        {
          "name": "stderr",
          "output_type": "stream",
          "text": [
            "Training Fold 3, Epoch 12: 100%|██████████| 229/229 [00:18<00:00, 12.60batch/s]\n"
          ]
        },
        {
          "name": "stdout",
          "output_type": "stream",
          "text": [
            "Fold 3, Epoch 12, Train Loss: 0.7192, Train Accuracy: 0.7463\n"
          ]
        },
        {
          "name": "stderr",
          "output_type": "stream",
          "text": [
            "Validating Fold 3, Epoch 12: 100%|██████████| 58/58 [00:03<00:00, 17.59batch/s]\n"
          ]
        },
        {
          "name": "stdout",
          "output_type": "stream",
          "text": [
            "New best model saved with Val Accuracy: 0.7245\n",
            "Fold 3, Epoch 12, Val Loss: 0.7937, Val Accuracy: 0.7245\n",
            "Fold 4/5\n"
          ]
        },
        {
          "name": "stderr",
          "output_type": "stream",
          "text": [
            "Training Fold 4, Epoch 1: 100%|██████████| 229/229 [00:17<00:00, 12.99batch/s]\n"
          ]
        },
        {
          "name": "stdout",
          "output_type": "stream",
          "text": [
            "Fold 4, Epoch 1, Train Loss: 1.3305, Train Accuracy: 0.4968\n"
          ]
        },
        {
          "name": "stderr",
          "output_type": "stream",
          "text": [
            "Validating Fold 4, Epoch 1: 100%|██████████| 58/58 [00:03<00:00, 17.55batch/s]\n"
          ]
        },
        {
          "name": "stdout",
          "output_type": "stream",
          "text": [
            "Fold 4, Epoch 1, Val Loss: 1.2899, Val Accuracy: 0.5231\n"
          ]
        },
        {
          "name": "stderr",
          "output_type": "stream",
          "text": [
            "Training Fold 4, Epoch 2: 100%|██████████| 229/229 [00:18<00:00, 12.60batch/s]\n"
          ]
        },
        {
          "name": "stdout",
          "output_type": "stream",
          "text": [
            "Fold 4, Epoch 2, Train Loss: 1.1581, Train Accuracy: 0.5700\n"
          ]
        },
        {
          "name": "stderr",
          "output_type": "stream",
          "text": [
            "Validating Fold 4, Epoch 2: 100%|██████████| 58/58 [00:03<00:00, 18.41batch/s]\n"
          ]
        },
        {
          "name": "stdout",
          "output_type": "stream",
          "text": [
            "Fold 4, Epoch 2, Val Loss: 1.0640, Val Accuracy: 0.6009\n"
          ]
        },
        {
          "name": "stderr",
          "output_type": "stream",
          "text": [
            "Training Fold 4, Epoch 3: 100%|██████████| 229/229 [00:17<00:00, 12.94batch/s]\n"
          ]
        },
        {
          "name": "stdout",
          "output_type": "stream",
          "text": [
            "Fold 4, Epoch 3, Train Loss: 1.0489, Train Accuracy: 0.6142\n"
          ]
        },
        {
          "name": "stderr",
          "output_type": "stream",
          "text": [
            "Validating Fold 4, Epoch 3: 100%|██████████| 58/58 [00:03<00:00, 14.59batch/s]\n"
          ]
        },
        {
          "name": "stdout",
          "output_type": "stream",
          "text": [
            "Fold 4, Epoch 3, Val Loss: 1.0141, Val Accuracy: 0.6404\n"
          ]
        },
        {
          "name": "stderr",
          "output_type": "stream",
          "text": [
            "Training Fold 4, Epoch 4: 100%|██████████| 229/229 [00:17<00:00, 12.78batch/s]\n"
          ]
        },
        {
          "name": "stdout",
          "output_type": "stream",
          "text": [
            "Fold 4, Epoch 4, Train Loss: 0.9997, Train Accuracy: 0.6378\n"
          ]
        },
        {
          "name": "stderr",
          "output_type": "stream",
          "text": [
            "Validating Fold 4, Epoch 4: 100%|██████████| 58/58 [00:03<00:00, 18.05batch/s]\n"
          ]
        },
        {
          "name": "stdout",
          "output_type": "stream",
          "text": [
            "Fold 4, Epoch 4, Val Loss: 0.9898, Val Accuracy: 0.6475\n"
          ]
        },
        {
          "name": "stderr",
          "output_type": "stream",
          "text": [
            "Training Fold 4, Epoch 5: 100%|██████████| 229/229 [00:18<00:00, 12.52batch/s]\n"
          ]
        },
        {
          "name": "stdout",
          "output_type": "stream",
          "text": [
            "Fold 4, Epoch 5, Train Loss: 0.9422, Train Accuracy: 0.6621\n"
          ]
        },
        {
          "name": "stderr",
          "output_type": "stream",
          "text": [
            "Validating Fold 4, Epoch 5: 100%|██████████| 58/58 [00:03<00:00, 18.54batch/s]\n"
          ]
        },
        {
          "name": "stdout",
          "output_type": "stream",
          "text": [
            "Fold 4, Epoch 5, Val Loss: 0.9665, Val Accuracy: 0.6502\n"
          ]
        },
        {
          "name": "stderr",
          "output_type": "stream",
          "text": [
            "Training Fold 4, Epoch 6: 100%|██████████| 229/229 [00:17<00:00, 13.03batch/s]\n"
          ]
        },
        {
          "name": "stdout",
          "output_type": "stream",
          "text": [
            "Fold 4, Epoch 6, Train Loss: 0.9045, Train Accuracy: 0.6785\n"
          ]
        },
        {
          "name": "stderr",
          "output_type": "stream",
          "text": [
            "Validating Fold 4, Epoch 6: 100%|██████████| 58/58 [00:03<00:00, 16.81batch/s]\n"
          ]
        },
        {
          "name": "stdout",
          "output_type": "stream",
          "text": [
            "Fold 4, Epoch 6, Val Loss: 0.9145, Val Accuracy: 0.6754\n"
          ]
        },
        {
          "name": "stderr",
          "output_type": "stream",
          "text": [
            "Training Fold 4, Epoch 7: 100%|██████████| 229/229 [00:17<00:00, 12.95batch/s]\n"
          ]
        },
        {
          "name": "stdout",
          "output_type": "stream",
          "text": [
            "Fold 4, Epoch 7, Train Loss: 0.8772, Train Accuracy: 0.6848\n"
          ]
        },
        {
          "name": "stderr",
          "output_type": "stream",
          "text": [
            "Validating Fold 4, Epoch 7: 100%|██████████| 58/58 [00:03<00:00, 18.47batch/s]\n"
          ]
        },
        {
          "name": "stdout",
          "output_type": "stream",
          "text": [
            "Fold 4, Epoch 7, Val Loss: 0.9452, Val Accuracy: 0.6730\n"
          ]
        },
        {
          "name": "stderr",
          "output_type": "stream",
          "text": [
            "Training Fold 4, Epoch 8: 100%|██████████| 229/229 [00:17<00:00, 12.83batch/s]\n"
          ]
        },
        {
          "name": "stdout",
          "output_type": "stream",
          "text": [
            "Fold 4, Epoch 8, Train Loss: 0.8422, Train Accuracy: 0.7034\n"
          ]
        },
        {
          "name": "stderr",
          "output_type": "stream",
          "text": [
            "Validating Fold 4, Epoch 8: 100%|██████████| 58/58 [00:03<00:00, 15.54batch/s]\n"
          ]
        },
        {
          "name": "stdout",
          "output_type": "stream",
          "text": [
            "Fold 4, Epoch 8, Val Loss: 0.9216, Val Accuracy: 0.6642\n"
          ]
        },
        {
          "name": "stderr",
          "output_type": "stream",
          "text": [
            "Training Fold 4, Epoch 9: 100%|██████████| 229/229 [00:17<00:00, 12.85batch/s]\n"
          ]
        },
        {
          "name": "stdout",
          "output_type": "stream",
          "text": [
            "Fold 4, Epoch 9, Train Loss: 0.8073, Train Accuracy: 0.7149\n"
          ]
        },
        {
          "name": "stderr",
          "output_type": "stream",
          "text": [
            "Validating Fold 4, Epoch 9: 100%|██████████| 58/58 [00:03<00:00, 18.55batch/s]\n"
          ]
        },
        {
          "name": "stdout",
          "output_type": "stream",
          "text": [
            "Fold 4, Epoch 9, Val Loss: 0.8703, Val Accuracy: 0.6935\n"
          ]
        },
        {
          "name": "stderr",
          "output_type": "stream",
          "text": [
            "Training Fold 4, Epoch 10: 100%|██████████| 229/229 [00:18<00:00, 12.46batch/s]\n"
          ]
        },
        {
          "name": "stdout",
          "output_type": "stream",
          "text": [
            "Fold 4, Epoch 10, Train Loss: 0.7818, Train Accuracy: 0.7232\n"
          ]
        },
        {
          "name": "stderr",
          "output_type": "stream",
          "text": [
            "Validating Fold 4, Epoch 10: 100%|██████████| 58/58 [00:03<00:00, 18.43batch/s]\n"
          ]
        },
        {
          "name": "stdout",
          "output_type": "stream",
          "text": [
            "Fold 4, Epoch 10, Val Loss: 0.9037, Val Accuracy: 0.6831\n"
          ]
        },
        {
          "name": "stderr",
          "output_type": "stream",
          "text": [
            "Training Fold 4, Epoch 11: 100%|██████████| 229/229 [00:17<00:00, 13.04batch/s]\n"
          ]
        },
        {
          "name": "stdout",
          "output_type": "stream",
          "text": [
            "Fold 4, Epoch 11, Train Loss: 0.7576, Train Accuracy: 0.7310\n"
          ]
        },
        {
          "name": "stderr",
          "output_type": "stream",
          "text": [
            "Validating Fold 4, Epoch 11: 100%|██████████| 58/58 [00:03<00:00, 15.11batch/s]\n"
          ]
        },
        {
          "name": "stdout",
          "output_type": "stream",
          "text": [
            "Fold 4, Epoch 11, Val Loss: 0.8320, Val Accuracy: 0.7047\n"
          ]
        },
        {
          "name": "stderr",
          "output_type": "stream",
          "text": [
            "Training Fold 4, Epoch 12: 100%|██████████| 229/229 [00:17<00:00, 12.86batch/s]\n"
          ]
        },
        {
          "name": "stdout",
          "output_type": "stream",
          "text": [
            "Fold 4, Epoch 12, Train Loss: 0.7289, Train Accuracy: 0.7447\n"
          ]
        },
        {
          "name": "stderr",
          "output_type": "stream",
          "text": [
            "Validating Fold 4, Epoch 12: 100%|██████████| 58/58 [00:03<00:00, 18.35batch/s]\n"
          ]
        },
        {
          "name": "stdout",
          "output_type": "stream",
          "text": [
            "Fold 4, Epoch 12, Val Loss: 0.8813, Val Accuracy: 0.6962\n",
            "Fold 5/5\n"
          ]
        },
        {
          "name": "stderr",
          "output_type": "stream",
          "text": [
            "Training Fold 5, Epoch 1: 100%|██████████| 229/229 [00:18<00:00, 12.70batch/s]\n"
          ]
        },
        {
          "name": "stdout",
          "output_type": "stream",
          "text": [
            "Fold 5, Epoch 1, Train Loss: 1.3310, Train Accuracy: 0.4938\n"
          ]
        },
        {
          "name": "stderr",
          "output_type": "stream",
          "text": [
            "Validating Fold 5, Epoch 1: 100%|██████████| 58/58 [00:03<00:00, 17.34batch/s]\n"
          ]
        },
        {
          "name": "stdout",
          "output_type": "stream",
          "text": [
            "Fold 5, Epoch 1, Val Loss: 1.2515, Val Accuracy: 0.5308\n"
          ]
        },
        {
          "name": "stderr",
          "output_type": "stream",
          "text": [
            "Training Fold 5, Epoch 2: 100%|██████████| 229/229 [00:17<00:00, 13.20batch/s]\n"
          ]
        },
        {
          "name": "stdout",
          "output_type": "stream",
          "text": [
            "Fold 5, Epoch 2, Train Loss: 1.1448, Train Accuracy: 0.5750\n"
          ]
        },
        {
          "name": "stderr",
          "output_type": "stream",
          "text": [
            "Validating Fold 5, Epoch 2: 100%|██████████| 58/58 [00:03<00:00, 18.88batch/s]\n"
          ]
        },
        {
          "name": "stdout",
          "output_type": "stream",
          "text": [
            "Fold 5, Epoch 2, Val Loss: 1.1372, Val Accuracy: 0.5733\n"
          ]
        },
        {
          "name": "stderr",
          "output_type": "stream",
          "text": [
            "Training Fold 5, Epoch 3: 100%|██████████| 229/229 [00:18<00:00, 12.69batch/s]\n"
          ]
        },
        {
          "name": "stdout",
          "output_type": "stream",
          "text": [
            "Fold 5, Epoch 3, Train Loss: 1.0442, Train Accuracy: 0.6153\n"
          ]
        },
        {
          "name": "stderr",
          "output_type": "stream",
          "text": [
            "Validating Fold 5, Epoch 3: 100%|██████████| 58/58 [00:03<00:00, 18.64batch/s]\n"
          ]
        },
        {
          "name": "stdout",
          "output_type": "stream",
          "text": [
            "Fold 5, Epoch 3, Val Loss: 1.0122, Val Accuracy: 0.6464\n"
          ]
        },
        {
          "name": "stderr",
          "output_type": "stream",
          "text": [
            "Training Fold 5, Epoch 4: 100%|██████████| 229/229 [00:17<00:00, 13.19batch/s]\n"
          ]
        },
        {
          "name": "stdout",
          "output_type": "stream",
          "text": [
            "Fold 5, Epoch 4, Train Loss: 0.9812, Train Accuracy: 0.6474\n"
          ]
        },
        {
          "name": "stderr",
          "output_type": "stream",
          "text": [
            "Validating Fold 5, Epoch 4: 100%|██████████| 58/58 [00:03<00:00, 14.67batch/s]\n"
          ]
        },
        {
          "name": "stdout",
          "output_type": "stream",
          "text": [
            "Fold 5, Epoch 4, Val Loss: 1.0252, Val Accuracy: 0.6237\n"
          ]
        },
        {
          "name": "stderr",
          "output_type": "stream",
          "text": [
            "Training Fold 5, Epoch 5: 100%|██████████| 229/229 [00:17<00:00, 13.29batch/s]\n"
          ]
        },
        {
          "name": "stdout",
          "output_type": "stream",
          "text": [
            "Fold 5, Epoch 5, Train Loss: 0.9301, Train Accuracy: 0.6665\n"
          ]
        },
        {
          "name": "stderr",
          "output_type": "stream",
          "text": [
            "Validating Fold 5, Epoch 5: 100%|██████████| 58/58 [00:03<00:00, 18.69batch/s]\n"
          ]
        },
        {
          "name": "stdout",
          "output_type": "stream",
          "text": [
            "Fold 5, Epoch 5, Val Loss: 0.9225, Val Accuracy: 0.6683\n"
          ]
        },
        {
          "name": "stderr",
          "output_type": "stream",
          "text": [
            "Training Fold 5, Epoch 6: 100%|██████████| 229/229 [00:17<00:00, 12.78batch/s]\n"
          ]
        },
        {
          "name": "stdout",
          "output_type": "stream",
          "text": [
            "Fold 5, Epoch 6, Train Loss: 0.8949, Train Accuracy: 0.6784\n"
          ]
        },
        {
          "name": "stderr",
          "output_type": "stream",
          "text": [
            "Validating Fold 5, Epoch 6: 100%|██████████| 58/58 [00:03<00:00, 16.86batch/s]\n"
          ]
        },
        {
          "name": "stdout",
          "output_type": "stream",
          "text": [
            "Fold 5, Epoch 6, Val Loss: 0.9538, Val Accuracy: 0.6530\n"
          ]
        },
        {
          "name": "stderr",
          "output_type": "stream",
          "text": [
            "Training Fold 5, Epoch 7: 100%|██████████| 229/229 [00:17<00:00, 13.02batch/s]\n"
          ]
        },
        {
          "name": "stdout",
          "output_type": "stream",
          "text": [
            "Fold 5, Epoch 7, Train Loss: 0.8573, Train Accuracy: 0.6930\n"
          ]
        },
        {
          "name": "stderr",
          "output_type": "stream",
          "text": [
            "Validating Fold 5, Epoch 7: 100%|██████████| 58/58 [00:03<00:00, 18.13batch/s]\n"
          ]
        },
        {
          "name": "stdout",
          "output_type": "stream",
          "text": [
            "Fold 5, Epoch 7, Val Loss: 1.0202, Val Accuracy: 0.6409\n"
          ]
        },
        {
          "name": "stderr",
          "output_type": "stream",
          "text": [
            "Training Fold 5, Epoch 8: 100%|██████████| 229/229 [00:18<00:00, 12.50batch/s]\n"
          ]
        },
        {
          "name": "stdout",
          "output_type": "stream",
          "text": [
            "Fold 5, Epoch 8, Train Loss: 0.8302, Train Accuracy: 0.7051\n"
          ]
        },
        {
          "name": "stderr",
          "output_type": "stream",
          "text": [
            "Validating Fold 5, Epoch 8: 100%|██████████| 58/58 [00:03<00:00, 19.02batch/s]\n"
          ]
        },
        {
          "name": "stdout",
          "output_type": "stream",
          "text": [
            "Fold 5, Epoch 8, Val Loss: 0.8605, Val Accuracy: 0.6979\n"
          ]
        },
        {
          "name": "stderr",
          "output_type": "stream",
          "text": [
            "Training Fold 5, Epoch 9: 100%|██████████| 229/229 [00:17<00:00, 13.11batch/s]\n"
          ]
        },
        {
          "name": "stdout",
          "output_type": "stream",
          "text": [
            "Fold 5, Epoch 9, Train Loss: 0.7929, Train Accuracy: 0.7176\n"
          ]
        },
        {
          "name": "stderr",
          "output_type": "stream",
          "text": [
            "Validating Fold 5, Epoch 9: 100%|██████████| 58/58 [00:03<00:00, 15.31batch/s]\n"
          ]
        },
        {
          "name": "stdout",
          "output_type": "stream",
          "text": [
            "Fold 5, Epoch 9, Val Loss: 0.9512, Val Accuracy: 0.6546\n"
          ]
        },
        {
          "name": "stderr",
          "output_type": "stream",
          "text": [
            "Training Fold 5, Epoch 10: 100%|██████████| 229/229 [00:17<00:00, 13.15batch/s]\n"
          ]
        },
        {
          "name": "stdout",
          "output_type": "stream",
          "text": [
            "Fold 5, Epoch 10, Train Loss: 0.7796, Train Accuracy: 0.7238\n"
          ]
        },
        {
          "name": "stderr",
          "output_type": "stream",
          "text": [
            "Validating Fold 5, Epoch 10: 100%|██████████| 58/58 [00:03<00:00, 18.41batch/s]\n"
          ]
        },
        {
          "name": "stdout",
          "output_type": "stream",
          "text": [
            "Fold 5, Epoch 10, Val Loss: 0.8625, Val Accuracy: 0.6979\n"
          ]
        },
        {
          "name": "stderr",
          "output_type": "stream",
          "text": [
            "Training Fold 5, Epoch 11: 100%|██████████| 229/229 [00:17<00:00, 12.96batch/s]\n"
          ]
        },
        {
          "name": "stdout",
          "output_type": "stream",
          "text": [
            "Fold 5, Epoch 11, Train Loss: 0.7417, Train Accuracy: 0.7397\n"
          ]
        },
        {
          "name": "stderr",
          "output_type": "stream",
          "text": [
            "Validating Fold 5, Epoch 11: 100%|██████████| 58/58 [00:03<00:00, 15.94batch/s]\n"
          ]
        },
        {
          "name": "stdout",
          "output_type": "stream",
          "text": [
            "Fold 5, Epoch 11, Val Loss: 0.9464, Val Accuracy: 0.6768\n"
          ]
        },
        {
          "name": "stderr",
          "output_type": "stream",
          "text": [
            "Training Fold 5, Epoch 12: 100%|██████████| 229/229 [00:17<00:00, 13.13batch/s]\n"
          ]
        },
        {
          "name": "stdout",
          "output_type": "stream",
          "text": [
            "Fold 5, Epoch 12, Train Loss: 0.7138, Train Accuracy: 0.7491\n"
          ]
        },
        {
          "name": "stderr",
          "output_type": "stream",
          "text": [
            "Validating Fold 5, Epoch 12: 100%|██████████| 58/58 [00:03<00:00, 19.16batch/s]\n"
          ]
        },
        {
          "name": "stdout",
          "output_type": "stream",
          "text": [
            "Fold 5, Epoch 12, Val Loss: 0.8438, Val Accuracy: 0.6971\n",
            "Average Training Loss: 0.9183\n",
            "Average Validation Loss: 0.9636\n",
            "Average Training Accuracy: 0.6681\n",
            "Average Validation Accuracy: 0.6508\n"
          ]
        }
      ],
      "source": [
        "# Initialize the dataset\n",
        "full_train_dataset = EthnicityDataset(root_dir=\"Dataset/eyes/train\", transform=transform_eyes)\n",
        "test_dataset = EthnicityDataset(root_dir=\"Dataset/eyes/test\", transform=transform_eyes)\n",
        "test_loader = DataLoader(test_dataset, batch_size=32, shuffle=False)\n",
        "\n",
        "# K-fold Cross-Validation\n",
        "k = 5  # Choose K = 5\n",
        "kf = KFold(n_splits=k, shuffle=True, random_state=42)\n",
        "\n",
        "# Array to store results for each fold\n",
        "fold_train_losses = []\n",
        "fold_val_losses = []\n",
        "fold_train_accuracies = []\n",
        "fold_val_accuracies = []\n",
        "best_val_accuracy = 0.0\n",
        "best_model_state = None\n",
        "\n",
        "num_epochs = 12\n",
        "batch_size = 64\n",
        "\n",
        "for fold, (train_idx, val_idx) in enumerate(kf.split(np.arange(len(full_train_dataset)))):\n",
        "    print(f\"Fold {fold + 1}/{k}\")\n",
        "\n",
        "    # Create subsets for training and validation\n",
        "    train_subset = Subset(full_train_dataset, train_idx)\n",
        "    val_subset = Subset(full_train_dataset, val_idx)\n",
        "\n",
        "    # Create data loaders for the current fold\n",
        "    train_loader = DataLoader(train_subset, batch_size=batch_size, shuffle=True)\n",
        "    val_loader = DataLoader(val_subset, batch_size=batch_size, shuffle=False)\n",
        "\n",
        "    # Reinitialize the model and optimizer for each fold\n",
        "    eyes_net = AlexNet(ex,ey)\n",
        "    eyes_net = eyes_net.to(device)  # Ensure the model is on the correct GPU/CPU\n",
        "    eyes_optimizer = torch.optim.Adam(eyes_net.parameters(), lr=0.001, weight_decay=0.0001)\n",
        "\n",
        "    # Criterion\n",
        "    criterion = nn.CrossEntropyLoss()\n",
        "\n",
        "    # Metrics for each fold\n",
        "    train_losses = []\n",
        "    val_losses = []\n",
        "    train_accuracies = []\n",
        "    val_accuracies = []\n",
        "\n",
        "    # Training for each fold\n",
        "    for epoch in range(num_epochs):\n",
        "        # Training Phase\n",
        "        eyes_net.train()\n",
        "        running_loss = 0.0\n",
        "        correct = 0\n",
        "        total = 0\n",
        "\n",
        "        for data in tqdm(train_loader, desc=f\"Training Fold {fold + 1}, Epoch {epoch + 1}\", unit=\"batch\"):\n",
        "            inputs, labels = data\n",
        "            inputs, labels = inputs.to(device), labels.to(device)\n",
        "\n",
        "            # Zero the gradients\n",
        "            eyes_optimizer.zero_grad()\n",
        "\n",
        "            # Forward pass\n",
        "            outputs = eyes_net(inputs)\n",
        "            loss = criterion(outputs, labels)\n",
        "            loss.backward()\n",
        "            eyes_optimizer.step()\n",
        "\n",
        "            running_loss += loss.item()\n",
        "\n",
        "            # Accuracy\n",
        "            _, predicted = torch.max(outputs, 1)\n",
        "            total += labels.size(0)\n",
        "            correct += (predicted == labels).sum().item()\n",
        "\n",
        "        avg_train_loss = running_loss / len(train_loader)\n",
        "        train_accuracy = correct / total\n",
        "        train_losses.append(avg_train_loss)\n",
        "        train_accuracies.append(train_accuracy)\n",
        "\n",
        "        print(f\"Fold {fold + 1}, Epoch {epoch + 1}, Train Loss: {avg_train_loss:.4f}, Train Accuracy: {train_accuracy:.4f}\")\n",
        "\n",
        "        # Validation Phase\n",
        "        eyes_net.eval()\n",
        "        val_running_loss = 0.0\n",
        "        correct = 0\n",
        "        total = 0\n",
        "\n",
        "        with torch.no_grad():\n",
        "            for data in tqdm(val_loader, desc=f\"Validating Fold {fold + 1}, Epoch {epoch + 1}\", unit=\"batch\"):\n",
        "                inputs, labels = data\n",
        "                inputs, labels = inputs.to(device), labels.to(device)\n",
        "\n",
        "                outputs = eyes_net(inputs)\n",
        "                loss = criterion(outputs, labels)\n",
        "\n",
        "                val_running_loss += loss.item()\n",
        "\n",
        "                # Accuracy\n",
        "                _, predicted = torch.max(outputs, 1)\n",
        "                total += labels.size(0)\n",
        "                correct += (predicted == labels).sum().item()\n",
        "\n",
        "        avg_val_loss = val_running_loss / len(val_loader)\n",
        "        val_accuracy = correct / total\n",
        "        val_losses.append(avg_val_loss)\n",
        "        val_accuracies.append(val_accuracy)\n",
        "\n",
        "        if val_accuracy > best_val_accuracy:\n",
        "            best_val_accuracy = val_accuracy\n",
        "            best_model_state = eyes_net.state_dict()\n",
        "            print(f\"New best model saved with Val Accuracy: {best_val_accuracy:.4f}\")\n",
        "        print(f\"Fold {fold + 1}, Epoch {epoch + 1}, Val Loss: {avg_val_loss:.4f}, Val Accuracy: {val_accuracy:.4f}\")\n",
        "\n",
        "    # Save results for the current fold\n",
        "    fold_train_losses.append(train_losses)\n",
        "    fold_val_losses.append(val_losses)\n",
        "    fold_train_accuracies.append(train_accuracies)\n",
        "    fold_val_accuracies.append(val_accuracies)\n",
        "\n",
        "torch.save(best_model_state, \"best_eyes_net.pth\")\n",
        "\n",
        "# Calculate the average metrics across all folds\n",
        "mean_train_loss = np.mean([np.mean(fold) for fold in fold_train_losses])\n",
        "mean_val_loss = np.mean([np.mean(fold) for fold in fold_val_losses])\n",
        "mean_train_accuracy = np.mean([np.mean(fold) for fold in fold_train_accuracies])\n",
        "mean_val_accuracy = np.mean([np.mean(fold) for fold in fold_val_accuracies])\n",
        "\n",
        "print(f\"Average Training Loss: {mean_train_loss:.4f}\")\n",
        "print(f\"Average Validation Loss: {mean_val_loss:.4f}\")\n",
        "print(f\"Average Training Accuracy: {mean_train_accuracy:.4f}\")\n",
        "print(f\"Average Validation Accuracy: {mean_val_accuracy:.4f}\")"
      ]
    },
    {
      "cell_type": "markdown",
      "metadata": {
        "id": "t8L59rANy1aW"
      },
      "source": []
    },
    {
      "cell_type": "code",
      "execution_count": 10,
      "metadata": {
        "colab": {
          "base_uri": "https://localhost:8080/",
          "height": 958
        },
        "id": "Bu9J9QOS7_hJ",
        "outputId": "40719c79-5af5-46bc-cff7-51c56afff4d6"
      },
      "outputs": [
        {
          "name": "stderr",
          "output_type": "stream",
          "text": [
            "<ipython-input-10-691f6596cc2e>:4: FutureWarning: You are using `torch.load` with `weights_only=False` (the current default value), which uses the default pickle module implicitly. It is possible to construct malicious pickle data which will execute arbitrary code during unpickling (See https://github.com/pytorch/pytorch/blob/main/SECURITY.md#untrusted-models for more details). In a future release, the default value for `weights_only` will be flipped to `True`. This limits the functions that could be executed during unpickling. Arbitrary objects will no longer be allowed to be loaded via this mode unless they are explicitly allowlisted by the user via `torch.serialization.add_safe_globals`. We recommend you start setting `weights_only=True` for any use case where you don't have full control of the loaded file. Please open an issue on GitHub for any issues related to this experimental feature.\n",
            "  eyes_net.load_state_dict(torch.load(\"best_eyes_net.pth\"))\n"
          ]
        },
        {
          "data": {
            "image/png": "[encoded data removed]",
            "text/plain": [
              "<Figure size 1000x700 with 2 Axes>"
            ]
          },
          "metadata": {},
          "output_type": "display_data"
        },
        {
          "name": "stdout",
          "output_type": "stream",
          "text": [
            "\n",
            "Classification Report:\n",
            "              precision    recall  f1-score   support\n",
            "\n",
            "       White       0.75      0.81      0.78      2018\n",
            "       Black       0.64      0.80      0.71       927\n",
            "       Asian       0.75      0.73      0.74       670\n",
            "      Indian       0.58      0.57      0.57       802\n",
            "      Others       0.62      0.01      0.03       359\n",
            "\n",
            "    accuracy                           0.70      4776\n",
            "   macro avg       0.67      0.58      0.57      4776\n",
            "weighted avg       0.69      0.70      0.67      4776\n",
            "\n"
          ]
        }
      ],
      "source": [
        "all_labels = []\n",
        "all_preds = []\n",
        "eyes_net = AlexNet(ex,ey)\n",
        "eyes_net.load_state_dict(torch.load(\"best_eyes_net.pth\"))\n",
        "eyes_net = eyes_net.to(device)\n",
        "\n",
        "\n",
        "with torch.no_grad():\n",
        "    for data in test_loader:\n",
        "        images, labels = data\n",
        "        images, labels = images.to(device), labels.to(device)\n",
        "\n",
        "        outputs = eyes_net(images)\n",
        "        _, predicted = torch.max(outputs.data, 1)\n",
        "        all_labels.extend(labels.cpu().numpy())\n",
        "        all_preds.extend(predicted.cpu().numpy())\n",
        "\n",
        "\n",
        "conf_matrix = confusion_matrix(all_labels, all_preds)\n",
        "\n",
        "plt.figure(figsize=(10, 7))\n",
        "sns.heatmap(conf_matrix, annot=True, fmt='d', cmap='Blues', xticklabels=class_names, yticklabels=class_names)\n",
        "\n",
        "\n",
        "plt.title('Confusion Matrix', fontsize=16)\n",
        "plt.xlabel('Predicted Labels', fontsize=14)\n",
        "plt.ylabel('True Labels', fontsize=14)\n",
        "plt.xticks(fontsize=12)\n",
        "plt.yticks(fontsize=12)\n",
        "\n",
        "\n",
        "plt.show()\n",
        "\n",
        "print(\"\\nClassification Report:\")\n",
        "print(classification_report(all_labels, all_preds, target_names=class_names, zero_division=0))"
      ]
    },
    {
      "cell_type": "markdown",
      "metadata": {
        "id": "ReSQIrMH85RS"
      },
      "source": [
        "**NOSE TRAINING VALIDATION AND TEST**"
      ]
    },
    {
      "cell_type": "code",
      "execution_count": 11,
      "metadata": {
        "colab": {
          "base_uri": "https://localhost:8080/"
        },
        "id": "cmZyd-UU8-0p",
        "outputId": "ecc52189-1aa6-4566-c607-3f75c591c0f7"
      },
      "outputs": [
        {
          "name": "stdout",
          "output_type": "stream",
          "text": [
            "Fold 1/5\n"
          ]
        },
        {
          "name": "stderr",
          "output_type": "stream",
          "text": [
            "Training Fold 1, Epoch 1: 100%|██████████| 229/229 [00:21<00:00, 10.53batch/s]\n"
          ]
        },
        {
          "name": "stdout",
          "output_type": "stream",
          "text": [
            "Fold 1, Epoch 1, Train Loss: 1.4468, Train Accuracy: 0.4669\n"
          ]
        },
        {
          "name": "stderr",
          "output_type": "stream",
          "text": [
            "Validating Fold 1, Epoch 1: 100%|██████████| 58/58 [00:04<00:00, 12.92batch/s]\n"
          ]
        },
        {
          "name": "stdout",
          "output_type": "stream",
          "text": [
            "New best model saved with Val Accuracy: 0.4845\n",
            "Fold 1, Epoch 1, Val Loss: 1.3728, Val Accuracy: 0.4845\n"
          ]
        },
        {
          "name": "stderr",
          "output_type": "stream",
          "text": [
            "Training Fold 1, Epoch 2: 100%|██████████| 229/229 [00:21<00:00, 10.54batch/s]\n"
          ]
        },
        {
          "name": "stdout",
          "output_type": "stream",
          "text": [
            "Fold 1, Epoch 2, Train Loss: 1.3271, Train Accuracy: 0.4875\n"
          ]
        },
        {
          "name": "stderr",
          "output_type": "stream",
          "text": [
            "Validating Fold 1, Epoch 2: 100%|██████████| 58/58 [00:04<00:00, 13.59batch/s]\n"
          ]
        },
        {
          "name": "stdout",
          "output_type": "stream",
          "text": [
            "New best model saved with Val Accuracy: 0.4969\n",
            "Fold 1, Epoch 2, Val Loss: 1.3676, Val Accuracy: 0.4969\n"
          ]
        },
        {
          "name": "stderr",
          "output_type": "stream",
          "text": [
            "Training Fold 1, Epoch 3: 100%|██████████| 229/229 [00:21<00:00, 10.63batch/s]\n"
          ]
        },
        {
          "name": "stdout",
          "output_type": "stream",
          "text": [
            "Fold 1, Epoch 3, Train Loss: 1.2812, Train Accuracy: 0.5034\n"
          ]
        },
        {
          "name": "stderr",
          "output_type": "stream",
          "text": [
            "Validating Fold 1, Epoch 3: 100%|██████████| 58/58 [00:04<00:00, 12.77batch/s]\n"
          ]
        },
        {
          "name": "stdout",
          "output_type": "stream",
          "text": [
            "New best model saved with Val Accuracy: 0.5114\n",
            "Fold 1, Epoch 3, Val Loss: 1.2797, Val Accuracy: 0.5114\n"
          ]
        },
        {
          "name": "stderr",
          "output_type": "stream",
          "text": [
            "Training Fold 1, Epoch 4: 100%|██████████| 229/229 [00:21<00:00, 10.65batch/s]\n"
          ]
        },
        {
          "name": "stdout",
          "output_type": "stream",
          "text": [
            "Fold 1, Epoch 4, Train Loss: 1.2355, Train Accuracy: 0.5220\n"
          ]
        },
        {
          "name": "stderr",
          "output_type": "stream",
          "text": [
            "Validating Fold 1, Epoch 4: 100%|██████████| 58/58 [00:04<00:00, 12.71batch/s]\n"
          ]
        },
        {
          "name": "stdout",
          "output_type": "stream",
          "text": [
            "New best model saved with Val Accuracy: 0.5237\n",
            "Fold 1, Epoch 4, Val Loss: 1.2236, Val Accuracy: 0.5237\n"
          ]
        },
        {
          "name": "stderr",
          "output_type": "stream",
          "text": [
            "Training Fold 1, Epoch 5: 100%|██████████| 229/229 [00:21<00:00, 10.71batch/s]\n"
          ]
        },
        {
          "name": "stdout",
          "output_type": "stream",
          "text": [
            "Fold 1, Epoch 5, Train Loss: 1.1939, Train Accuracy: 0.5396\n"
          ]
        },
        {
          "name": "stderr",
          "output_type": "stream",
          "text": [
            "Validating Fold 1, Epoch 5: 100%|██████████| 58/58 [00:04<00:00, 12.91batch/s]\n"
          ]
        },
        {
          "name": "stdout",
          "output_type": "stream",
          "text": [
            "Fold 1, Epoch 5, Val Loss: 1.2205, Val Accuracy: 0.4977\n"
          ]
        },
        {
          "name": "stderr",
          "output_type": "stream",
          "text": [
            "Training Fold 1, Epoch 6: 100%|██████████| 229/229 [00:21<00:00, 10.69batch/s]\n"
          ]
        },
        {
          "name": "stdout",
          "output_type": "stream",
          "text": [
            "Fold 1, Epoch 6, Train Loss: 1.1477, Train Accuracy: 0.5694\n"
          ]
        },
        {
          "name": "stderr",
          "output_type": "stream",
          "text": [
            "Validating Fold 1, Epoch 6: 100%|██████████| 58/58 [00:04<00:00, 12.77batch/s]\n"
          ]
        },
        {
          "name": "stdout",
          "output_type": "stream",
          "text": [
            "New best model saved with Val Accuracy: 0.5711\n",
            "Fold 1, Epoch 6, Val Loss: 1.1332, Val Accuracy: 0.5711\n"
          ]
        },
        {
          "name": "stderr",
          "output_type": "stream",
          "text": [
            "Training Fold 1, Epoch 7: 100%|██████████| 229/229 [00:21<00:00, 10.60batch/s]\n"
          ]
        },
        {
          "name": "stdout",
          "output_type": "stream",
          "text": [
            "Fold 1, Epoch 7, Train Loss: 1.1126, Train Accuracy: 0.5883\n"
          ]
        },
        {
          "name": "stderr",
          "output_type": "stream",
          "text": [
            "Validating Fold 1, Epoch 7: 100%|██████████| 58/58 [00:04<00:00, 12.83batch/s]\n"
          ]
        },
        {
          "name": "stdout",
          "output_type": "stream",
          "text": [
            "New best model saved with Val Accuracy: 0.5774\n",
            "Fold 1, Epoch 7, Val Loss: 1.1275, Val Accuracy: 0.5774\n"
          ]
        },
        {
          "name": "stderr",
          "output_type": "stream",
          "text": [
            "Training Fold 1, Epoch 8: 100%|██████████| 229/229 [00:21<00:00, 10.44batch/s]\n"
          ]
        },
        {
          "name": "stdout",
          "output_type": "stream",
          "text": [
            "Fold 1, Epoch 8, Train Loss: 1.0761, Train Accuracy: 0.6065\n"
          ]
        },
        {
          "name": "stderr",
          "output_type": "stream",
          "text": [
            "Validating Fold 1, Epoch 8: 100%|██████████| 58/58 [00:04<00:00, 13.30batch/s]\n"
          ]
        },
        {
          "name": "stdout",
          "output_type": "stream",
          "text": [
            "New best model saved with Val Accuracy: 0.6020\n",
            "Fold 1, Epoch 8, Val Loss: 1.0877, Val Accuracy: 0.6020\n"
          ]
        },
        {
          "name": "stderr",
          "output_type": "stream",
          "text": [
            "Training Fold 1, Epoch 9: 100%|██████████| 229/229 [00:21<00:00, 10.57batch/s]\n"
          ]
        },
        {
          "name": "stdout",
          "output_type": "stream",
          "text": [
            "Fold 1, Epoch 9, Train Loss: 1.0318, Train Accuracy: 0.6259\n"
          ]
        },
        {
          "name": "stderr",
          "output_type": "stream",
          "text": [
            "Validating Fold 1, Epoch 9: 100%|██████████| 58/58 [00:04<00:00, 13.02batch/s]\n"
          ]
        },
        {
          "name": "stdout",
          "output_type": "stream",
          "text": [
            "New best model saved with Val Accuracy: 0.6256\n",
            "Fold 1, Epoch 9, Val Loss: 1.0355, Val Accuracy: 0.6256\n"
          ]
        },
        {
          "name": "stderr",
          "output_type": "stream",
          "text": [
            "Training Fold 1, Epoch 10: 100%|██████████| 229/229 [00:21<00:00, 10.51batch/s]\n"
          ]
        },
        {
          "name": "stdout",
          "output_type": "stream",
          "text": [
            "Fold 1, Epoch 10, Train Loss: 0.9923, Train Accuracy: 0.6382\n"
          ]
        },
        {
          "name": "stderr",
          "output_type": "stream",
          "text": [
            "Validating Fold 1, Epoch 10: 100%|██████████| 58/58 [00:04<00:00, 12.96batch/s]\n"
          ]
        },
        {
          "name": "stdout",
          "output_type": "stream",
          "text": [
            "Fold 1, Epoch 10, Val Loss: 1.0833, Val Accuracy: 0.6111\n"
          ]
        },
        {
          "name": "stderr",
          "output_type": "stream",
          "text": [
            "Training Fold 1, Epoch 11: 100%|██████████| 229/229 [00:21<00:00, 10.54batch/s]\n"
          ]
        },
        {
          "name": "stdout",
          "output_type": "stream",
          "text": [
            "Fold 1, Epoch 11, Train Loss: 0.9728, Train Accuracy: 0.6528\n"
          ]
        },
        {
          "name": "stderr",
          "output_type": "stream",
          "text": [
            "Validating Fold 1, Epoch 11: 100%|██████████| 58/58 [00:04<00:00, 12.88batch/s]\n"
          ]
        },
        {
          "name": "stdout",
          "output_type": "stream",
          "text": [
            "Fold 1, Epoch 11, Val Loss: 1.1103, Val Accuracy: 0.6007\n"
          ]
        },
        {
          "name": "stderr",
          "output_type": "stream",
          "text": [
            "Training Fold 1, Epoch 12: 100%|██████████| 229/229 [00:22<00:00, 10.39batch/s]\n"
          ]
        },
        {
          "name": "stdout",
          "output_type": "stream",
          "text": [
            "Fold 1, Epoch 12, Train Loss: 0.9416, Train Accuracy: 0.6651\n"
          ]
        },
        {
          "name": "stderr",
          "output_type": "stream",
          "text": [
            "Validating Fold 1, Epoch 12: 100%|██████████| 58/58 [00:04<00:00, 13.23batch/s]\n"
          ]
        },
        {
          "name": "stdout",
          "output_type": "stream",
          "text": [
            "Fold 1, Epoch 12, Val Loss: 1.0222, Val Accuracy: 0.6253\n",
            "Fold 2/5\n"
          ]
        },
        {
          "name": "stderr",
          "output_type": "stream",
          "text": [
            "Training Fold 2, Epoch 1: 100%|██████████| 229/229 [00:21<00:00, 10.71batch/s]\n"
          ]
        },
        {
          "name": "stdout",
          "output_type": "stream",
          "text": [
            "Fold 2, Epoch 1, Train Loss: 1.4000, Train Accuracy: 0.4668\n"
          ]
        },
        {
          "name": "stderr",
          "output_type": "stream",
          "text": [
            "Validating Fold 2, Epoch 1: 100%|██████████| 58/58 [00:04<00:00, 13.66batch/s]\n"
          ]
        },
        {
          "name": "stdout",
          "output_type": "stream",
          "text": [
            "Fold 2, Epoch 1, Val Loss: 1.3423, Val Accuracy: 0.5051\n"
          ]
        },
        {
          "name": "stderr",
          "output_type": "stream",
          "text": [
            "Training Fold 2, Epoch 2: 100%|██████████| 229/229 [00:21<00:00, 10.85batch/s]\n"
          ]
        },
        {
          "name": "stdout",
          "output_type": "stream",
          "text": [
            "Fold 2, Epoch 2, Train Loss: 1.3096, Train Accuracy: 0.4954\n"
          ]
        },
        {
          "name": "stderr",
          "output_type": "stream",
          "text": [
            "Validating Fold 2, Epoch 2: 100%|██████████| 58/58 [00:04<00:00, 13.24batch/s]\n"
          ]
        },
        {
          "name": "stdout",
          "output_type": "stream",
          "text": [
            "Fold 2, Epoch 2, Val Loss: 1.3326, Val Accuracy: 0.5133\n"
          ]
        },
        {
          "name": "stderr",
          "output_type": "stream",
          "text": [
            "Training Fold 2, Epoch 3: 100%|██████████| 229/229 [00:21<00:00, 10.90batch/s]\n"
          ]
        },
        {
          "name": "stdout",
          "output_type": "stream",
          "text": [
            "Fold 2, Epoch 3, Train Loss: 1.2639, Train Accuracy: 0.5077\n"
          ]
        },
        {
          "name": "stderr",
          "output_type": "stream",
          "text": [
            "Validating Fold 2, Epoch 3: 100%|██████████| 58/58 [00:04<00:00, 13.06batch/s]\n"
          ]
        },
        {
          "name": "stdout",
          "output_type": "stream",
          "text": [
            "Fold 2, Epoch 3, Val Loss: 1.2014, Val Accuracy: 0.5467\n"
          ]
        },
        {
          "name": "stderr",
          "output_type": "stream",
          "text": [
            "Training Fold 2, Epoch 4: 100%|██████████| 229/229 [00:20<00:00, 10.96batch/s]\n"
          ]
        },
        {
          "name": "stdout",
          "output_type": "stream",
          "text": [
            "Fold 2, Epoch 4, Train Loss: 1.2096, Train Accuracy: 0.5348\n"
          ]
        },
        {
          "name": "stderr",
          "output_type": "stream",
          "text": [
            "Validating Fold 2, Epoch 4: 100%|██████████| 58/58 [00:04<00:00, 13.62batch/s]\n"
          ]
        },
        {
          "name": "stdout",
          "output_type": "stream",
          "text": [
            "Fold 2, Epoch 4, Val Loss: 1.1882, Val Accuracy: 0.5549\n"
          ]
        },
        {
          "name": "stderr",
          "output_type": "stream",
          "text": [
            "Training Fold 2, Epoch 5: 100%|██████████| 229/229 [00:21<00:00, 10.77batch/s]\n"
          ]
        },
        {
          "name": "stdout",
          "output_type": "stream",
          "text": [
            "Fold 2, Epoch 5, Train Loss: 1.1738, Train Accuracy: 0.5565\n"
          ]
        },
        {
          "name": "stderr",
          "output_type": "stream",
          "text": [
            "Validating Fold 2, Epoch 5: 100%|██████████| 58/58 [00:03<00:00, 14.85batch/s]\n"
          ]
        },
        {
          "name": "stdout",
          "output_type": "stream",
          "text": [
            "Fold 2, Epoch 5, Val Loss: 1.1818, Val Accuracy: 0.5316\n"
          ]
        },
        {
          "name": "stderr",
          "output_type": "stream",
          "text": [
            "Training Fold 2, Epoch 6: 100%|██████████| 229/229 [00:21<00:00, 10.62batch/s]\n"
          ]
        },
        {
          "name": "stdout",
          "output_type": "stream",
          "text": [
            "Fold 2, Epoch 6, Train Loss: 1.1316, Train Accuracy: 0.5731\n"
          ]
        },
        {
          "name": "stderr",
          "output_type": "stream",
          "text": [
            "Validating Fold 2, Epoch 6: 100%|██████████| 58/58 [00:03<00:00, 15.53batch/s]\n"
          ]
        },
        {
          "name": "stdout",
          "output_type": "stream",
          "text": [
            "Fold 2, Epoch 6, Val Loss: 1.1261, Val Accuracy: 0.5716\n"
          ]
        },
        {
          "name": "stderr",
          "output_type": "stream",
          "text": [
            "Training Fold 2, Epoch 7: 100%|██████████| 229/229 [00:21<00:00, 10.49batch/s]\n"
          ]
        },
        {
          "name": "stdout",
          "output_type": "stream",
          "text": [
            "Fold 2, Epoch 7, Train Loss: 1.0807, Train Accuracy: 0.5966\n"
          ]
        },
        {
          "name": "stderr",
          "output_type": "stream",
          "text": [
            "Validating Fold 2, Epoch 7: 100%|██████████| 58/58 [00:03<00:00, 15.67batch/s]\n"
          ]
        },
        {
          "name": "stdout",
          "output_type": "stream",
          "text": [
            "Fold 2, Epoch 7, Val Loss: 1.0955, Val Accuracy: 0.5957\n"
          ]
        },
        {
          "name": "stderr",
          "output_type": "stream",
          "text": [
            "Training Fold 2, Epoch 8: 100%|██████████| 229/229 [00:21<00:00, 10.42batch/s]\n"
          ]
        },
        {
          "name": "stdout",
          "output_type": "stream",
          "text": [
            "Fold 2, Epoch 8, Train Loss: 1.0537, Train Accuracy: 0.6166\n"
          ]
        },
        {
          "name": "stderr",
          "output_type": "stream",
          "text": [
            "Validating Fold 2, Epoch 8: 100%|██████████| 58/58 [00:03<00:00, 15.88batch/s]\n"
          ]
        },
        {
          "name": "stdout",
          "output_type": "stream",
          "text": [
            "Fold 2, Epoch 8, Val Loss: 1.1504, Val Accuracy: 0.5557\n"
          ]
        },
        {
          "name": "stderr",
          "output_type": "stream",
          "text": [
            "Training Fold 2, Epoch 9: 100%|██████████| 229/229 [00:21<00:00, 10.43batch/s]\n"
          ]
        },
        {
          "name": "stdout",
          "output_type": "stream",
          "text": [
            "Fold 2, Epoch 9, Train Loss: 1.0182, Train Accuracy: 0.6252\n"
          ]
        },
        {
          "name": "stderr",
          "output_type": "stream",
          "text": [
            "Validating Fold 2, Epoch 9: 100%|██████████| 58/58 [00:03<00:00, 15.68batch/s]\n"
          ]
        },
        {
          "name": "stdout",
          "output_type": "stream",
          "text": [
            "Fold 2, Epoch 9, Val Loss: 1.0578, Val Accuracy: 0.6182\n"
          ]
        },
        {
          "name": "stderr",
          "output_type": "stream",
          "text": [
            "Training Fold 2, Epoch 10: 100%|██████████| 229/229 [00:21<00:00, 10.45batch/s]\n"
          ]
        },
        {
          "name": "stdout",
          "output_type": "stream",
          "text": [
            "Fold 2, Epoch 10, Train Loss: 0.9831, Train Accuracy: 0.6403\n"
          ]
        },
        {
          "name": "stderr",
          "output_type": "stream",
          "text": [
            "Validating Fold 2, Epoch 10: 100%|██████████| 58/58 [00:03<00:00, 15.58batch/s]\n"
          ]
        },
        {
          "name": "stdout",
          "output_type": "stream",
          "text": [
            "New best model saved with Val Accuracy: 0.6491\n",
            "Fold 2, Epoch 10, Val Loss: 0.9885, Val Accuracy: 0.6491\n"
          ]
        },
        {
          "name": "stderr",
          "output_type": "stream",
          "text": [
            "Training Fold 2, Epoch 11: 100%|██████████| 229/229 [00:21<00:00, 10.44batch/s]\n"
          ]
        },
        {
          "name": "stdout",
          "output_type": "stream",
          "text": [
            "Fold 2, Epoch 11, Train Loss: 0.9493, Train Accuracy: 0.6613\n"
          ]
        },
        {
          "name": "stderr",
          "output_type": "stream",
          "text": [
            "Validating Fold 2, Epoch 11: 100%|██████████| 58/58 [00:03<00:00, 15.74batch/s]\n"
          ]
        },
        {
          "name": "stdout",
          "output_type": "stream",
          "text": [
            "Fold 2, Epoch 11, Val Loss: 0.9951, Val Accuracy: 0.6439\n"
          ]
        },
        {
          "name": "stderr",
          "output_type": "stream",
          "text": [
            "Training Fold 2, Epoch 12: 100%|██████████| 229/229 [00:21<00:00, 10.44batch/s]\n"
          ]
        },
        {
          "name": "stdout",
          "output_type": "stream",
          "text": [
            "Fold 2, Epoch 12, Train Loss: 0.9211, Train Accuracy: 0.6730\n"
          ]
        },
        {
          "name": "stderr",
          "output_type": "stream",
          "text": [
            "Validating Fold 2, Epoch 12: 100%|██████████| 58/58 [00:03<00:00, 15.38batch/s]\n"
          ]
        },
        {
          "name": "stdout",
          "output_type": "stream",
          "text": [
            "New best model saved with Val Accuracy: 0.6584\n",
            "Fold 2, Epoch 12, Val Loss: 0.9604, Val Accuracy: 0.6584\n",
            "Fold 3/5\n"
          ]
        },
        {
          "name": "stderr",
          "output_type": "stream",
          "text": [
            "Training Fold 3, Epoch 1: 100%|██████████| 229/229 [00:21<00:00, 10.70batch/s]\n"
          ]
        },
        {
          "name": "stdout",
          "output_type": "stream",
          "text": [
            "Fold 3, Epoch 1, Train Loss: 1.4195, Train Accuracy: 0.4685\n"
          ]
        },
        {
          "name": "stderr",
          "output_type": "stream",
          "text": [
            "Validating Fold 3, Epoch 1: 100%|██████████| 58/58 [00:03<00:00, 15.88batch/s]\n"
          ]
        },
        {
          "name": "stdout",
          "output_type": "stream",
          "text": [
            "Fold 3, Epoch 1, Val Loss: 1.3701, Val Accuracy: 0.4615\n"
          ]
        },
        {
          "name": "stderr",
          "output_type": "stream",
          "text": [
            "Training Fold 3, Epoch 2: 100%|██████████| 229/229 [00:21<00:00, 10.67batch/s]\n"
          ]
        },
        {
          "name": "stdout",
          "output_type": "stream",
          "text": [
            "Fold 3, Epoch 2, Train Loss: 1.3101, Train Accuracy: 0.4944\n"
          ]
        },
        {
          "name": "stderr",
          "output_type": "stream",
          "text": [
            "Validating Fold 3, Epoch 2: 100%|██████████| 58/58 [00:03<00:00, 15.84batch/s]\n"
          ]
        },
        {
          "name": "stdout",
          "output_type": "stream",
          "text": [
            "Fold 3, Epoch 2, Val Loss: 1.2855, Val Accuracy: 0.4884\n"
          ]
        },
        {
          "name": "stderr",
          "output_type": "stream",
          "text": [
            "Training Fold 3, Epoch 3: 100%|██████████| 229/229 [00:21<00:00, 10.43batch/s]\n"
          ]
        },
        {
          "name": "stdout",
          "output_type": "stream",
          "text": [
            "Fold 3, Epoch 3, Train Loss: 1.2576, Train Accuracy: 0.5159\n"
          ]
        },
        {
          "name": "stderr",
          "output_type": "stream",
          "text": [
            "Validating Fold 3, Epoch 3: 100%|██████████| 58/58 [00:03<00:00, 15.68batch/s]\n"
          ]
        },
        {
          "name": "stdout",
          "output_type": "stream",
          "text": [
            "Fold 3, Epoch 3, Val Loss: 1.2331, Val Accuracy: 0.5127\n"
          ]
        },
        {
          "name": "stderr",
          "output_type": "stream",
          "text": [
            "Training Fold 3, Epoch 4: 100%|██████████| 229/229 [00:21<00:00, 10.79batch/s]\n"
          ]
        },
        {
          "name": "stdout",
          "output_type": "stream",
          "text": [
            "Fold 3, Epoch 4, Train Loss: 1.2183, Train Accuracy: 0.5375\n"
          ]
        },
        {
          "name": "stderr",
          "output_type": "stream",
          "text": [
            "Validating Fold 3, Epoch 4: 100%|██████████| 58/58 [00:03<00:00, 14.73batch/s]\n"
          ]
        },
        {
          "name": "stdout",
          "output_type": "stream",
          "text": [
            "Fold 3, Epoch 4, Val Loss: 1.1777, Val Accuracy: 0.5349\n"
          ]
        },
        {
          "name": "stderr",
          "output_type": "stream",
          "text": [
            "Training Fold 3, Epoch 5: 100%|██████████| 229/229 [00:21<00:00, 10.86batch/s]\n"
          ]
        },
        {
          "name": "stdout",
          "output_type": "stream",
          "text": [
            "Fold 3, Epoch 5, Train Loss: 1.1753, Train Accuracy: 0.5586\n"
          ]
        },
        {
          "name": "stderr",
          "output_type": "stream",
          "text": [
            "Validating Fold 3, Epoch 5: 100%|██████████| 58/58 [00:04<00:00, 13.52batch/s]\n"
          ]
        },
        {
          "name": "stdout",
          "output_type": "stream",
          "text": [
            "Fold 3, Epoch 5, Val Loss: 1.1927, Val Accuracy: 0.5634\n"
          ]
        },
        {
          "name": "stderr",
          "output_type": "stream",
          "text": [
            "Training Fold 3, Epoch 6: 100%|██████████| 229/229 [00:21<00:00, 10.84batch/s]\n"
          ]
        },
        {
          "name": "stdout",
          "output_type": "stream",
          "text": [
            "Fold 3, Epoch 6, Train Loss: 1.1402, Train Accuracy: 0.5744\n"
          ]
        },
        {
          "name": "stderr",
          "output_type": "stream",
          "text": [
            "Validating Fold 3, Epoch 6: 100%|██████████| 58/58 [00:04<00:00, 13.09batch/s]\n"
          ]
        },
        {
          "name": "stdout",
          "output_type": "stream",
          "text": [
            "Fold 3, Epoch 6, Val Loss: 1.1364, Val Accuracy: 0.5604\n"
          ]
        },
        {
          "name": "stderr",
          "output_type": "stream",
          "text": [
            "Training Fold 3, Epoch 7: 100%|██████████| 229/229 [00:21<00:00, 10.83batch/s]\n"
          ]
        },
        {
          "name": "stdout",
          "output_type": "stream",
          "text": [
            "Fold 3, Epoch 7, Train Loss: 1.0942, Train Accuracy: 0.5974\n"
          ]
        },
        {
          "name": "stderr",
          "output_type": "stream",
          "text": [
            "Validating Fold 3, Epoch 7: 100%|██████████| 58/58 [00:04<00:00, 13.25batch/s]\n"
          ]
        },
        {
          "name": "stdout",
          "output_type": "stream",
          "text": [
            "Fold 3, Epoch 7, Val Loss: 1.0730, Val Accuracy: 0.6097\n"
          ]
        },
        {
          "name": "stderr",
          "output_type": "stream",
          "text": [
            "Training Fold 3, Epoch 8: 100%|██████████| 229/229 [00:21<00:00, 10.86batch/s]\n"
          ]
        },
        {
          "name": "stdout",
          "output_type": "stream",
          "text": [
            "Fold 3, Epoch 8, Train Loss: 1.0493, Train Accuracy: 0.6149\n"
          ]
        },
        {
          "name": "stderr",
          "output_type": "stream",
          "text": [
            "Validating Fold 3, Epoch 8: 100%|██████████| 58/58 [00:04<00:00, 13.26batch/s]\n"
          ]
        },
        {
          "name": "stdout",
          "output_type": "stream",
          "text": [
            "Fold 3, Epoch 8, Val Loss: 1.0768, Val Accuracy: 0.5998\n"
          ]
        },
        {
          "name": "stderr",
          "output_type": "stream",
          "text": [
            "Training Fold 3, Epoch 9: 100%|██████████| 229/229 [00:21<00:00, 10.72batch/s]\n"
          ]
        },
        {
          "name": "stdout",
          "output_type": "stream",
          "text": [
            "Fold 3, Epoch 9, Train Loss: 1.0117, Train Accuracy: 0.6289\n"
          ]
        },
        {
          "name": "stderr",
          "output_type": "stream",
          "text": [
            "Validating Fold 3, Epoch 9: 100%|██████████| 58/58 [00:03<00:00, 14.53batch/s]\n"
          ]
        },
        {
          "name": "stdout",
          "output_type": "stream",
          "text": [
            "Fold 3, Epoch 9, Val Loss: 1.0256, Val Accuracy: 0.6316\n"
          ]
        },
        {
          "name": "stderr",
          "output_type": "stream",
          "text": [
            "Training Fold 3, Epoch 10: 100%|██████████| 229/229 [00:21<00:00, 10.59batch/s]\n"
          ]
        },
        {
          "name": "stdout",
          "output_type": "stream",
          "text": [
            "Fold 3, Epoch 10, Train Loss: 0.9785, Train Accuracy: 0.6506\n"
          ]
        },
        {
          "name": "stderr",
          "output_type": "stream",
          "text": [
            "Validating Fold 3, Epoch 10: 100%|██████████| 58/58 [00:03<00:00, 15.85batch/s]\n"
          ]
        },
        {
          "name": "stdout",
          "output_type": "stream",
          "text": [
            "Fold 3, Epoch 10, Val Loss: 1.0217, Val Accuracy: 0.6338\n"
          ]
        },
        {
          "name": "stderr",
          "output_type": "stream",
          "text": [
            "Training Fold 3, Epoch 11: 100%|██████████| 229/229 [00:21<00:00, 10.51batch/s]\n"
          ]
        },
        {
          "name": "stdout",
          "output_type": "stream",
          "text": [
            "Fold 3, Epoch 11, Train Loss: 0.9420, Train Accuracy: 0.6640\n"
          ]
        },
        {
          "name": "stderr",
          "output_type": "stream",
          "text": [
            "Validating Fold 3, Epoch 11: 100%|██████████| 58/58 [00:03<00:00, 15.78batch/s]\n"
          ]
        },
        {
          "name": "stdout",
          "output_type": "stream",
          "text": [
            "Fold 3, Epoch 11, Val Loss: 1.0080, Val Accuracy: 0.6472\n"
          ]
        },
        {
          "name": "stderr",
          "output_type": "stream",
          "text": [
            "Training Fold 3, Epoch 12: 100%|██████████| 229/229 [00:21<00:00, 10.48batch/s]\n"
          ]
        },
        {
          "name": "stdout",
          "output_type": "stream",
          "text": [
            "Fold 3, Epoch 12, Train Loss: 0.9229, Train Accuracy: 0.6684\n"
          ]
        },
        {
          "name": "stderr",
          "output_type": "stream",
          "text": [
            "Validating Fold 3, Epoch 12: 100%|██████████| 58/58 [00:03<00:00, 15.28batch/s]\n"
          ]
        },
        {
          "name": "stdout",
          "output_type": "stream",
          "text": [
            "New best model saved with Val Accuracy: 0.6645\n",
            "Fold 3, Epoch 12, Val Loss: 0.9602, Val Accuracy: 0.6645\n",
            "Fold 4/5\n"
          ]
        },
        {
          "name": "stderr",
          "output_type": "stream",
          "text": [
            "Training Fold 4, Epoch 1: 100%|██████████| 229/229 [00:21<00:00, 10.61batch/s]\n"
          ]
        },
        {
          "name": "stdout",
          "output_type": "stream",
          "text": [
            "Fold 4, Epoch 1, Train Loss: 1.4404, Train Accuracy: 0.4595\n"
          ]
        },
        {
          "name": "stderr",
          "output_type": "stream",
          "text": [
            "Validating Fold 4, Epoch 1: 100%|██████████| 58/58 [00:03<00:00, 15.91batch/s]\n"
          ]
        },
        {
          "name": "stdout",
          "output_type": "stream",
          "text": [
            "Fold 4, Epoch 1, Val Loss: 1.3487, Val Accuracy: 0.4960\n"
          ]
        },
        {
          "name": "stderr",
          "output_type": "stream",
          "text": [
            "Training Fold 4, Epoch 2: 100%|██████████| 229/229 [00:21<00:00, 10.59batch/s]\n"
          ]
        },
        {
          "name": "stdout",
          "output_type": "stream",
          "text": [
            "Fold 4, Epoch 2, Train Loss: 1.3271, Train Accuracy: 0.4938\n"
          ]
        },
        {
          "name": "stderr",
          "output_type": "stream",
          "text": [
            "Validating Fold 4, Epoch 2: 100%|██████████| 58/58 [00:03<00:00, 16.00batch/s]\n"
          ]
        },
        {
          "name": "stdout",
          "output_type": "stream",
          "text": [
            "Fold 4, Epoch 2, Val Loss: 1.3593, Val Accuracy: 0.4834\n"
          ]
        },
        {
          "name": "stderr",
          "output_type": "stream",
          "text": [
            "Training Fold 4, Epoch 3: 100%|██████████| 229/229 [00:21<00:00, 10.61batch/s]\n"
          ]
        },
        {
          "name": "stdout",
          "output_type": "stream",
          "text": [
            "Fold 4, Epoch 3, Train Loss: 1.2865, Train Accuracy: 0.4997\n"
          ]
        },
        {
          "name": "stderr",
          "output_type": "stream",
          "text": [
            "Validating Fold 4, Epoch 3: 100%|██████████| 58/58 [00:03<00:00, 15.98batch/s]\n"
          ]
        },
        {
          "name": "stdout",
          "output_type": "stream",
          "text": [
            "Fold 4, Epoch 3, Val Loss: 1.2308, Val Accuracy: 0.5075\n"
          ]
        },
        {
          "name": "stderr",
          "output_type": "stream",
          "text": [
            "Training Fold 4, Epoch 4: 100%|██████████| 229/229 [00:21<00:00, 10.61batch/s]\n"
          ]
        },
        {
          "name": "stdout",
          "output_type": "stream",
          "text": [
            "Fold 4, Epoch 4, Train Loss: 1.2470, Train Accuracy: 0.5199\n"
          ]
        },
        {
          "name": "stderr",
          "output_type": "stream",
          "text": [
            "Validating Fold 4, Epoch 4: 100%|██████████| 58/58 [00:03<00:00, 15.65batch/s]\n"
          ]
        },
        {
          "name": "stdout",
          "output_type": "stream",
          "text": [
            "Fold 4, Epoch 4, Val Loss: 1.1823, Val Accuracy: 0.5508\n"
          ]
        },
        {
          "name": "stderr",
          "output_type": "stream",
          "text": [
            "Training Fold 4, Epoch 5: 100%|██████████| 229/229 [00:21<00:00, 10.74batch/s]\n"
          ]
        },
        {
          "name": "stdout",
          "output_type": "stream",
          "text": [
            "Fold 4, Epoch 5, Train Loss: 1.2075, Train Accuracy: 0.5344\n"
          ]
        },
        {
          "name": "stderr",
          "output_type": "stream",
          "text": [
            "Validating Fold 4, Epoch 5: 100%|██████████| 58/58 [00:03<00:00, 15.23batch/s]\n"
          ]
        },
        {
          "name": "stdout",
          "output_type": "stream",
          "text": [
            "Fold 4, Epoch 5, Val Loss: 1.1761, Val Accuracy: 0.5407\n"
          ]
        },
        {
          "name": "stderr",
          "output_type": "stream",
          "text": [
            "Training Fold 4, Epoch 6: 100%|██████████| 229/229 [00:21<00:00, 10.85batch/s]\n"
          ]
        },
        {
          "name": "stdout",
          "output_type": "stream",
          "text": [
            "Fold 4, Epoch 6, Train Loss: 1.1702, Train Accuracy: 0.5536\n"
          ]
        },
        {
          "name": "stderr",
          "output_type": "stream",
          "text": [
            "Validating Fold 4, Epoch 6: 100%|██████████| 58/58 [00:04<00:00, 13.27batch/s]\n"
          ]
        },
        {
          "name": "stdout",
          "output_type": "stream",
          "text": [
            "Fold 4, Epoch 6, Val Loss: 1.1043, Val Accuracy: 0.5993\n"
          ]
        },
        {
          "name": "stderr",
          "output_type": "stream",
          "text": [
            "Training Fold 4, Epoch 7: 100%|██████████| 229/229 [00:20<00:00, 10.93batch/s]\n"
          ]
        },
        {
          "name": "stdout",
          "output_type": "stream",
          "text": [
            "Fold 4, Epoch 7, Train Loss: 1.1287, Train Accuracy: 0.5766\n"
          ]
        },
        {
          "name": "stderr",
          "output_type": "stream",
          "text": [
            "Validating Fold 4, Epoch 7: 100%|██████████| 58/58 [00:04<00:00, 13.36batch/s]\n"
          ]
        },
        {
          "name": "stdout",
          "output_type": "stream",
          "text": [
            "Fold 4, Epoch 7, Val Loss: 1.0940, Val Accuracy: 0.5812\n"
          ]
        },
        {
          "name": "stderr",
          "output_type": "stream",
          "text": [
            "Training Fold 4, Epoch 8: 100%|██████████| 229/229 [00:20<00:00, 10.96batch/s]\n"
          ]
        },
        {
          "name": "stdout",
          "output_type": "stream",
          "text": [
            "Fold 4, Epoch 8, Train Loss: 1.0985, Train Accuracy: 0.5970\n"
          ]
        },
        {
          "name": "stderr",
          "output_type": "stream",
          "text": [
            "Validating Fold 4, Epoch 8: 100%|██████████| 58/58 [00:04<00:00, 13.13batch/s]\n"
          ]
        },
        {
          "name": "stdout",
          "output_type": "stream",
          "text": [
            "Fold 4, Epoch 8, Val Loss: 1.0585, Val Accuracy: 0.6313\n"
          ]
        },
        {
          "name": "stderr",
          "output_type": "stream",
          "text": [
            "Training Fold 4, Epoch 9: 100%|██████████| 229/229 [00:20<00:00, 10.93batch/s]\n"
          ]
        },
        {
          "name": "stdout",
          "output_type": "stream",
          "text": [
            "Fold 4, Epoch 9, Train Loss: 1.0473, Train Accuracy: 0.6179\n"
          ]
        },
        {
          "name": "stderr",
          "output_type": "stream",
          "text": [
            "Validating Fold 4, Epoch 9: 100%|██████████| 58/58 [00:04<00:00, 14.44batch/s]\n"
          ]
        },
        {
          "name": "stdout",
          "output_type": "stream",
          "text": [
            "Fold 4, Epoch 9, Val Loss: 1.0213, Val Accuracy: 0.6456\n"
          ]
        },
        {
          "name": "stderr",
          "output_type": "stream",
          "text": [
            "Training Fold 4, Epoch 10: 100%|██████████| 229/229 [00:21<00:00, 10.80batch/s]\n"
          ]
        },
        {
          "name": "stdout",
          "output_type": "stream",
          "text": [
            "Fold 4, Epoch 10, Train Loss: 1.0102, Train Accuracy: 0.6341\n"
          ]
        },
        {
          "name": "stderr",
          "output_type": "stream",
          "text": [
            "Validating Fold 4, Epoch 10: 100%|██████████| 58/58 [00:03<00:00, 15.80batch/s]\n"
          ]
        },
        {
          "name": "stdout",
          "output_type": "stream",
          "text": [
            "Fold 4, Epoch 10, Val Loss: 0.9643, Val Accuracy: 0.6420\n"
          ]
        },
        {
          "name": "stderr",
          "output_type": "stream",
          "text": [
            "Training Fold 4, Epoch 11: 100%|██████████| 229/229 [00:21<00:00, 10.71batch/s]\n"
          ]
        },
        {
          "name": "stdout",
          "output_type": "stream",
          "text": [
            "Fold 4, Epoch 11, Train Loss: 0.9839, Train Accuracy: 0.6460\n"
          ]
        },
        {
          "name": "stderr",
          "output_type": "stream",
          "text": [
            "Validating Fold 4, Epoch 11: 100%|██████████| 58/58 [00:03<00:00, 15.84batch/s]\n"
          ]
        },
        {
          "name": "stdout",
          "output_type": "stream",
          "text": [
            "Fold 4, Epoch 11, Val Loss: 1.0277, Val Accuracy: 0.6396\n"
          ]
        },
        {
          "name": "stderr",
          "output_type": "stream",
          "text": [
            "Training Fold 4, Epoch 12: 100%|██████████| 229/229 [00:21<00:00, 10.54batch/s]\n"
          ]
        },
        {
          "name": "stdout",
          "output_type": "stream",
          "text": [
            "Fold 4, Epoch 12, Train Loss: 0.9553, Train Accuracy: 0.6582\n"
          ]
        },
        {
          "name": "stderr",
          "output_type": "stream",
          "text": [
            "Validating Fold 4, Epoch 12: 100%|██████████| 58/58 [00:03<00:00, 15.48batch/s]\n"
          ]
        },
        {
          "name": "stdout",
          "output_type": "stream",
          "text": [
            "Fold 4, Epoch 12, Val Loss: 0.9764, Val Accuracy: 0.6459\n",
            "Fold 5/5\n"
          ]
        },
        {
          "name": "stderr",
          "output_type": "stream",
          "text": [
            "Training Fold 5, Epoch 1: 100%|██████████| 229/229 [00:21<00:00, 10.60batch/s]\n"
          ]
        },
        {
          "name": "stdout",
          "output_type": "stream",
          "text": [
            "Fold 5, Epoch 1, Train Loss: 1.4289, Train Accuracy: 0.4682\n"
          ]
        },
        {
          "name": "stderr",
          "output_type": "stream",
          "text": [
            "Validating Fold 5, Epoch 1: 100%|██████████| 58/58 [00:03<00:00, 15.60batch/s]\n"
          ]
        },
        {
          "name": "stdout",
          "output_type": "stream",
          "text": [
            "Fold 5, Epoch 1, Val Loss: 1.3173, Val Accuracy: 0.5031\n"
          ]
        },
        {
          "name": "stderr",
          "output_type": "stream",
          "text": [
            "Training Fold 5, Epoch 2: 100%|██████████| 229/229 [00:21<00:00, 10.52batch/s]\n"
          ]
        },
        {
          "name": "stdout",
          "output_type": "stream",
          "text": [
            "Fold 5, Epoch 2, Train Loss: 1.3104, Train Accuracy: 0.4990\n"
          ]
        },
        {
          "name": "stderr",
          "output_type": "stream",
          "text": [
            "Validating Fold 5, Epoch 2: 100%|██████████| 58/58 [00:03<00:00, 15.70batch/s]\n"
          ]
        },
        {
          "name": "stdout",
          "output_type": "stream",
          "text": [
            "Fold 5, Epoch 2, Val Loss: 1.2913, Val Accuracy: 0.5171\n"
          ]
        },
        {
          "name": "stderr",
          "output_type": "stream",
          "text": [
            "Training Fold 5, Epoch 3: 100%|██████████| 229/229 [00:21<00:00, 10.61batch/s]\n"
          ]
        },
        {
          "name": "stdout",
          "output_type": "stream",
          "text": [
            "Fold 5, Epoch 3, Train Loss: 1.2786, Train Accuracy: 0.5123\n"
          ]
        },
        {
          "name": "stderr",
          "output_type": "stream",
          "text": [
            "Validating Fold 5, Epoch 3: 100%|██████████| 58/58 [00:03<00:00, 15.48batch/s]\n"
          ]
        },
        {
          "name": "stdout",
          "output_type": "stream",
          "text": [
            "Fold 5, Epoch 3, Val Loss: 1.1980, Val Accuracy: 0.5374\n"
          ]
        },
        {
          "name": "stderr",
          "output_type": "stream",
          "text": [
            "Training Fold 5, Epoch 4: 100%|██████████| 229/229 [00:21<00:00, 10.63batch/s]\n"
          ]
        },
        {
          "name": "stdout",
          "output_type": "stream",
          "text": [
            "Fold 5, Epoch 4, Train Loss: 1.2456, Train Accuracy: 0.5200\n"
          ]
        },
        {
          "name": "stderr",
          "output_type": "stream",
          "text": [
            "Validating Fold 5, Epoch 4: 100%|██████████| 58/58 [00:03<00:00, 15.42batch/s]\n"
          ]
        },
        {
          "name": "stdout",
          "output_type": "stream",
          "text": [
            "Fold 5, Epoch 4, Val Loss: 1.2825, Val Accuracy: 0.5116\n"
          ]
        },
        {
          "name": "stderr",
          "output_type": "stream",
          "text": [
            "Training Fold 5, Epoch 5: 100%|██████████| 229/229 [00:21<00:00, 10.75batch/s]\n"
          ]
        },
        {
          "name": "stdout",
          "output_type": "stream",
          "text": [
            "Fold 5, Epoch 5, Train Loss: 1.2061, Train Accuracy: 0.5422\n"
          ]
        },
        {
          "name": "stderr",
          "output_type": "stream",
          "text": [
            "Validating Fold 5, Epoch 5: 100%|██████████| 58/58 [00:04<00:00, 14.00batch/s]\n"
          ]
        },
        {
          "name": "stdout",
          "output_type": "stream",
          "text": [
            "Fold 5, Epoch 5, Val Loss: 1.2094, Val Accuracy: 0.5511\n"
          ]
        },
        {
          "name": "stderr",
          "output_type": "stream",
          "text": [
            "Training Fold 5, Epoch 6: 100%|██████████| 229/229 [00:21<00:00, 10.54batch/s]\n"
          ]
        },
        {
          "name": "stdout",
          "output_type": "stream",
          "text": [
            "Fold 5, Epoch 6, Train Loss: 1.1719, Train Accuracy: 0.5566\n"
          ]
        },
        {
          "name": "stderr",
          "output_type": "stream",
          "text": [
            "Validating Fold 5, Epoch 6: 100%|██████████| 58/58 [00:04<00:00, 13.74batch/s]\n"
          ]
        },
        {
          "name": "stdout",
          "output_type": "stream",
          "text": [
            "Fold 5, Epoch 6, Val Loss: 1.2208, Val Accuracy: 0.5368\n"
          ]
        },
        {
          "name": "stderr",
          "output_type": "stream",
          "text": [
            "Training Fold 5, Epoch 7: 100%|██████████| 229/229 [00:21<00:00, 10.88batch/s]\n"
          ]
        },
        {
          "name": "stdout",
          "output_type": "stream",
          "text": [
            "Fold 5, Epoch 7, Train Loss: 1.1399, Train Accuracy: 0.5752\n"
          ]
        },
        {
          "name": "stderr",
          "output_type": "stream",
          "text": [
            "Validating Fold 5, Epoch 7: 100%|██████████| 58/58 [00:04<00:00, 13.12batch/s]\n"
          ]
        },
        {
          "name": "stdout",
          "output_type": "stream",
          "text": [
            "Fold 5, Epoch 7, Val Loss: 1.1234, Val Accuracy: 0.5998\n"
          ]
        },
        {
          "name": "stderr",
          "output_type": "stream",
          "text": [
            "Training Fold 5, Epoch 8: 100%|██████████| 229/229 [00:21<00:00, 10.86batch/s]\n"
          ]
        },
        {
          "name": "stdout",
          "output_type": "stream",
          "text": [
            "Fold 5, Epoch 8, Train Loss: 1.0919, Train Accuracy: 0.5952\n"
          ]
        },
        {
          "name": "stderr",
          "output_type": "stream",
          "text": [
            "Validating Fold 5, Epoch 8: 100%|██████████| 58/58 [00:04<00:00, 13.11batch/s]\n"
          ]
        },
        {
          "name": "stdout",
          "output_type": "stream",
          "text": [
            "Fold 5, Epoch 8, Val Loss: 1.0463, Val Accuracy: 0.6171\n"
          ]
        },
        {
          "name": "stderr",
          "output_type": "stream",
          "text": [
            "Training Fold 5, Epoch 9: 100%|██████████| 229/229 [00:20<00:00, 10.95batch/s]\n"
          ]
        },
        {
          "name": "stdout",
          "output_type": "stream",
          "text": [
            "Fold 5, Epoch 9, Train Loss: 1.0631, Train Accuracy: 0.6101\n"
          ]
        },
        {
          "name": "stderr",
          "output_type": "stream",
          "text": [
            "Validating Fold 5, Epoch 9: 100%|██████████| 58/58 [00:04<00:00, 13.91batch/s]\n"
          ]
        },
        {
          "name": "stdout",
          "output_type": "stream",
          "text": [
            "Fold 5, Epoch 9, Val Loss: 1.0672, Val Accuracy: 0.6220\n"
          ]
        },
        {
          "name": "stderr",
          "output_type": "stream",
          "text": [
            "Training Fold 5, Epoch 10: 100%|██████████| 229/229 [00:21<00:00, 10.79batch/s]\n"
          ]
        },
        {
          "name": "stdout",
          "output_type": "stream",
          "text": [
            "Fold 5, Epoch 10, Train Loss: 1.0140, Train Accuracy: 0.6337\n"
          ]
        },
        {
          "name": "stderr",
          "output_type": "stream",
          "text": [
            "Validating Fold 5, Epoch 10: 100%|██████████| 58/58 [00:03<00:00, 15.37batch/s]\n"
          ]
        },
        {
          "name": "stdout",
          "output_type": "stream",
          "text": [
            "Fold 5, Epoch 10, Val Loss: 0.9815, Val Accuracy: 0.6494\n"
          ]
        },
        {
          "name": "stderr",
          "output_type": "stream",
          "text": [
            "Training Fold 5, Epoch 11: 100%|██████████| 229/229 [00:21<00:00, 10.73batch/s]\n"
          ]
        },
        {
          "name": "stdout",
          "output_type": "stream",
          "text": [
            "Fold 5, Epoch 11, Train Loss: 0.9934, Train Accuracy: 0.6458\n"
          ]
        },
        {
          "name": "stderr",
          "output_type": "stream",
          "text": [
            "Validating Fold 5, Epoch 11: 100%|██████████| 58/58 [00:03<00:00, 15.44batch/s]\n"
          ]
        },
        {
          "name": "stdout",
          "output_type": "stream",
          "text": [
            "Fold 5, Epoch 11, Val Loss: 0.9910, Val Accuracy: 0.6291\n"
          ]
        },
        {
          "name": "stderr",
          "output_type": "stream",
          "text": [
            "Training Fold 5, Epoch 12: 100%|██████████| 229/229 [00:21<00:00, 10.64batch/s]\n"
          ]
        },
        {
          "name": "stdout",
          "output_type": "stream",
          "text": [
            "Fold 5, Epoch 12, Train Loss: 0.9586, Train Accuracy: 0.6598\n"
          ]
        },
        {
          "name": "stderr",
          "output_type": "stream",
          "text": [
            "Validating Fold 5, Epoch 12: 100%|██████████| 58/58 [00:03<00:00, 15.84batch/s]\n"
          ]
        },
        {
          "name": "stdout",
          "output_type": "stream",
          "text": [
            "Fold 5, Epoch 12, Val Loss: 0.9675, Val Accuracy: 0.6612\n",
            "Average Training Loss: 1.1430\n",
            "Average Validation Loss: 1.1414\n",
            "Average Training Accuracy: 0.5733\n",
            "Average Validation Accuracy: 0.5746\n"
          ]
        }
      ],
      "source": [
        "# Initialize the dataset\n",
        "full_train_dataset = EthnicityDataset(root_dir=\"Dataset/nose/train\", transform=transform_nose)\n",
        "test_dataset = EthnicityDataset(root_dir=\"Dataset/nose/test\", transform=transform_nose)\n",
        "test_loader = DataLoader(test_dataset, batch_size=32, shuffle=False)\n",
        "\n",
        "# K-fold Cross-Validation\n",
        "k = 5  # Choose K = 5\n",
        "kf = KFold(n_splits=k, shuffle=True, random_state=42)\n",
        "\n",
        "# Array to store results for each fold\n",
        "fold_train_losses = []\n",
        "fold_val_losses = []\n",
        "fold_train_accuracies = []\n",
        "fold_val_accuracies = []\n",
        "best_val_accuracy = 0.0\n",
        "best_model_state = None\n",
        "\n",
        "num_epochs = 12\n",
        "batch_size = 64\n",
        "\n",
        "for fold, (train_idx, val_idx) in enumerate(kf.split(np.arange(len(full_train_dataset)))):\n",
        "    print(f\"Fold {fold + 1}/{k}\")\n",
        "\n",
        "    # Create subsets for training and validation\n",
        "    train_subset = Subset(full_train_dataset, train_idx)\n",
        "    val_subset = Subset(full_train_dataset, val_idx)\n",
        "\n",
        "    # Create data loaders for the current fold\n",
        "    train_loader = DataLoader(train_subset, batch_size=batch_size, shuffle=True)\n",
        "    val_loader = DataLoader(val_subset, batch_size=batch_size, shuffle=False)\n",
        "\n",
        "    # Reinitialize the model and optimizer for each fold\n",
        "    nose_net = AlexNet(nx,ny)\n",
        "    nose_net = nose_net.to(device)  # Ensure the model is on the correct GPU/CPU\n",
        "    nose_optimizer = torch.optim.Adam(nose_net.parameters(), lr=0.001, weight_decay=0.0001)\n",
        "\n",
        "    # Criterion\n",
        "    criterion = nn.CrossEntropyLoss()\n",
        "\n",
        "    # Metrics for each fold\n",
        "    train_losses = []\n",
        "    val_losses = []\n",
        "    train_accuracies = []\n",
        "    val_accuracies = []\n",
        "\n",
        "    # Training for each fold\n",
        "    for epoch in range(num_epochs):\n",
        "        # Training Phase\n",
        "        nose_net.train()\n",
        "        running_loss = 0.0\n",
        "        correct = 0\n",
        "        total = 0\n",
        "\n",
        "        for data in tqdm(train_loader, desc=f\"Training Fold {fold + 1}, Epoch {epoch + 1}\", unit=\"batch\"):\n",
        "            inputs, labels = data\n",
        "            inputs, labels = inputs.to(device), labels.to(device)\n",
        "\n",
        "            # Zero the gradients\n",
        "            nose_optimizer.zero_grad()\n",
        "\n",
        "            # Forward pass\n",
        "            outputs = nose_net(inputs)\n",
        "            loss = criterion(outputs, labels)\n",
        "            loss.backward()\n",
        "            nose_optimizer.step()\n",
        "\n",
        "            running_loss += loss.item()\n",
        "\n",
        "            # Accuracy\n",
        "            _, predicted = torch.max(outputs, 1)\n",
        "            total += labels.size(0)\n",
        "            correct += (predicted == labels).sum().item()\n",
        "\n",
        "        avg_train_loss = running_loss / len(train_loader)\n",
        "        train_accuracy = correct / total\n",
        "        train_losses.append(avg_train_loss)\n",
        "        train_accuracies.append(train_accuracy)\n",
        "\n",
        "        print(f\"Fold {fold + 1}, Epoch {epoch + 1}, Train Loss: {avg_train_loss:.4f}, Train Accuracy: {train_accuracy:.4f}\")\n",
        "\n",
        "        # Validation Phase\n",
        "        nose_net.eval()\n",
        "        val_running_loss = 0.0\n",
        "        correct = 0\n",
        "        total = 0\n",
        "\n",
        "        with torch.no_grad():\n",
        "            for data in tqdm(val_loader, desc=f\"Validating Fold {fold + 1}, Epoch {epoch + 1}\", unit=\"batch\"):\n",
        "                inputs, labels = data\n",
        "                inputs, labels = inputs.to(device), labels.to(device)\n",
        "\n",
        "                outputs = nose_net(inputs)\n",
        "                loss = criterion(outputs, labels)\n",
        "\n",
        "                val_running_loss += loss.item()\n",
        "\n",
        "                # Accuracy\n",
        "                _, predicted = torch.max(outputs, 1)\n",
        "                total += labels.size(0)\n",
        "                correct += (predicted == labels).sum().item()\n",
        "\n",
        "        avg_val_loss = val_running_loss / len(val_loader)\n",
        "        val_accuracy = correct / total\n",
        "        val_losses.append(avg_val_loss)\n",
        "        val_accuracies.append(val_accuracy)\n",
        "\n",
        "        if val_accuracy > best_val_accuracy:\n",
        "            best_val_accuracy = val_accuracy\n",
        "            best_model_state = nose_net.state_dict()\n",
        "            print(f\"New best model saved with Val Accuracy: {best_val_accuracy:.4f}\")\n",
        "        print(f\"Fold {fold + 1}, Epoch {epoch + 1}, Val Loss: {avg_val_loss:.4f}, Val Accuracy: {val_accuracy:.4f}\")\n",
        "\n",
        "    # Save results for the current fold\n",
        "    fold_train_losses.append(train_losses)\n",
        "    fold_val_losses.append(val_losses)\n",
        "    fold_train_accuracies.append(train_accuracies)\n",
        "    fold_val_accuracies.append(val_accuracies)\n",
        "\n",
        "torch.save(best_model_state, \"best_nose_net.pth\")\n",
        "\n",
        "# Calculate the average metrics across all folds\n",
        "mean_train_loss = np.mean([np.mean(fold) for fold in fold_train_losses])\n",
        "mean_val_loss = np.mean([np.mean(fold) for fold in fold_val_losses])\n",
        "mean_train_accuracy = np.mean([np.mean(fold) for fold in fold_train_accuracies])\n",
        "mean_val_accuracy = np.mean([np.mean(fold) for fold in fold_val_accuracies])\n",
        "\n",
        "print(f\"Average Training Loss: {mean_train_loss:.4f}\")\n",
        "print(f\"Average Validation Loss: {mean_val_loss:.4f}\")\n",
        "print(f\"Average Training Accuracy: {mean_train_accuracy:.4f}\")\n",
        "print(f\"Average Validation Accuracy: {mean_val_accuracy:.4f}\")"
      ]
    },
    {
      "cell_type": "code",
      "execution_count": 12,
      "metadata": {
        "colab": {
          "base_uri": "https://localhost:8080/",
          "height": 958
        },
        "id": "X-d2jiCq9gIz",
        "outputId": "cda610a9-3cf0-4432-bdd2-e5f8fad4610d"
      },
      "outputs": [
        {
          "name": "stderr",
          "output_type": "stream",
          "text": [
            "<ipython-input-12-dbd1234bceca>:4: FutureWarning: You are using `torch.load` with `weights_only=False` (the current default value), which uses the default pickle module implicitly. It is possible to construct malicious pickle data which will execute arbitrary code during unpickling (See https://github.com/pytorch/pytorch/blob/main/SECURITY.md#untrusted-models for more details). In a future release, the default value for `weights_only` will be flipped to `True`. This limits the functions that could be executed during unpickling. Arbitrary objects will no longer be allowed to be loaded via this mode unless they are explicitly allowlisted by the user via `torch.serialization.add_safe_globals`. We recommend you start setting `weights_only=True` for any use case where you don't have full control of the loaded file. Please open an issue on GitHub for any issues related to this experimental feature.\n",
            "  nose_net.load_state_dict(torch.load(\"best_nose_net.pth\"))\n"
          ]
        },
        {
          "data": {
            "image/png": "[encoded data removed]",
            "text/plain": [
              "<Figure size 1000x700 with 2 Axes>"
            ]
          },
          "metadata": {},
          "output_type": "display_data"
        },
        {
          "name": "stdout",
          "output_type": "stream",
          "text": [
            "\n",
            "Classification Report:\n",
            "              precision    recall  f1-score   support\n",
            "\n",
            "       White       0.70      0.80      0.75      2018\n",
            "       Black       0.62      0.75      0.68       927\n",
            "       Asian       0.71      0.50      0.59       670\n",
            "      Indian       0.50      0.55      0.53       802\n",
            "      Others       0.00      0.00      0.00       359\n",
            "\n",
            "    accuracy                           0.65      4776\n",
            "   macro avg       0.51      0.52      0.51      4776\n",
            "weighted avg       0.60      0.65      0.62      4776\n",
            "\n"
          ]
        }
      ],
      "source": [
        "all_labels = []\n",
        "all_preds = []\n",
        "nose_net = AlexNet(nx,ny)\n",
        "nose_net.load_state_dict(torch.load(\"best_nose_net.pth\"))\n",
        "nose_net = nose_net.to(device)\n",
        "\n",
        "with torch.no_grad():\n",
        "    for data in test_loader:\n",
        "        images, labels = data\n",
        "        images, labels = images.to(device), labels.to(device)\n",
        "\n",
        "        outputs = nose_net(images)\n",
        "        _, predicted = torch.max(outputs.data, 1)\n",
        "        all_labels.extend(labels.cpu().numpy())\n",
        "        all_preds.extend(predicted.cpu().numpy())\n",
        "\n",
        "\n",
        "conf_matrix = confusion_matrix(all_labels, all_preds)\n",
        "\n",
        "plt.figure(figsize=(10, 7))\n",
        "sns.heatmap(conf_matrix, annot=True, fmt='d', cmap='Blues', xticklabels=class_names, yticklabels=class_names)\n",
        "\n",
        "plt.title('Confusion Matrix', fontsize=16)\n",
        "plt.xlabel('Predicted Labels', fontsize=14)\n",
        "plt.ylabel('True Labels', fontsize=14)\n",
        "plt.xticks(fontsize=12)\n",
        "plt.yticks(fontsize=12)\n",
        "\n",
        "plt.show()\n",
        "\n",
        "print(\"\\nClassification Report:\")\n",
        "print(classification_report(all_labels, all_preds, target_names=class_names, zero_division=0))"
      ]
    },
    {
      "cell_type": "markdown",
      "metadata": {
        "id": "4USmhOOI9m8D"
      },
      "source": [
        "**MOUTH TRAINING VALIDATION AND TEST**"
      ]
    },
    {
      "cell_type": "code",
      "execution_count": 6,
      "metadata": {
        "colab": {
          "base_uri": "https://localhost:8080/"
        },
        "id": "-55Okk969ug2",
        "outputId": "49d0e082-f741-4590-f19d-e471d62db39d"
      },
      "outputs": [
        {
          "name": "stdout",
          "output_type": "stream",
          "text": [
            "Fold 1/5\n"
          ]
        },
        {
          "name": "stderr",
          "output_type": "stream",
          "text": [
            "Training Fold 1, Epoch 1: 100%|██████████| 229/229 [00:33<00:00,  6.90batch/s]\n"
          ]
        },
        {
          "name": "stdout",
          "output_type": "stream",
          "text": [
            "Fold 1, Epoch 1, Train Loss: 1.3560, Train Accuracy: 0.4993\n"
          ]
        },
        {
          "name": "stderr",
          "output_type": "stream",
          "text": [
            "Validating Fold 1, Epoch 1: 100%|██████████| 58/58 [00:03<00:00, 15.66batch/s]\n"
          ]
        },
        {
          "name": "stdout",
          "output_type": "stream",
          "text": [
            "New best model saved with Val Accuracy: 0.5464\n",
            "Fold 1, Epoch 1, Val Loss: 1.1964, Val Accuracy: 0.5464\n"
          ]
        },
        {
          "name": "stderr",
          "output_type": "stream",
          "text": [
            "Training Fold 1, Epoch 2: 100%|██████████| 229/229 [00:21<00:00, 10.86batch/s]\n"
          ]
        },
        {
          "name": "stdout",
          "output_type": "stream",
          "text": [
            "Fold 1, Epoch 2, Train Loss: 1.2052, Train Accuracy: 0.5420\n"
          ]
        },
        {
          "name": "stderr",
          "output_type": "stream",
          "text": [
            "Validating Fold 1, Epoch 2: 100%|██████████| 58/58 [00:03<00:00, 15.31batch/s]\n"
          ]
        },
        {
          "name": "stdout",
          "output_type": "stream",
          "text": [
            "New best model saved with Val Accuracy: 0.5579\n",
            "Fold 1, Epoch 2, Val Loss: 1.1863, Val Accuracy: 0.5579\n"
          ]
        },
        {
          "name": "stderr",
          "output_type": "stream",
          "text": [
            "Training Fold 1, Epoch 3: 100%|██████████| 229/229 [00:20<00:00, 11.14batch/s]\n"
          ]
        },
        {
          "name": "stdout",
          "output_type": "stream",
          "text": [
            "Fold 1, Epoch 3, Train Loss: 1.1735, Train Accuracy: 0.5601\n"
          ]
        },
        {
          "name": "stderr",
          "output_type": "stream",
          "text": [
            "Validating Fold 1, Epoch 3: 100%|██████████| 58/58 [00:03<00:00, 14.66batch/s]\n"
          ]
        },
        {
          "name": "stdout",
          "output_type": "stream",
          "text": [
            "New best model saved with Val Accuracy: 0.5796\n",
            "Fold 1, Epoch 3, Val Loss: 1.1547, Val Accuracy: 0.5796\n"
          ]
        },
        {
          "name": "stderr",
          "output_type": "stream",
          "text": [
            "Training Fold 1, Epoch 4: 100%|██████████| 229/229 [00:20<00:00, 11.10batch/s]\n"
          ]
        },
        {
          "name": "stdout",
          "output_type": "stream",
          "text": [
            "Fold 1, Epoch 4, Train Loss: 1.1234, Train Accuracy: 0.5803\n"
          ]
        },
        {
          "name": "stderr",
          "output_type": "stream",
          "text": [
            "Validating Fold 1, Epoch 4: 100%|██████████| 58/58 [00:04<00:00, 12.82batch/s]\n"
          ]
        },
        {
          "name": "stdout",
          "output_type": "stream",
          "text": [
            "New best model saved with Val Accuracy: 0.5938\n",
            "Fold 1, Epoch 4, Val Loss: 1.0957, Val Accuracy: 0.5938\n"
          ]
        },
        {
          "name": "stderr",
          "output_type": "stream",
          "text": [
            "Training Fold 1, Epoch 5: 100%|██████████| 229/229 [00:20<00:00, 11.15batch/s]\n"
          ]
        },
        {
          "name": "stdout",
          "output_type": "stream",
          "text": [
            "Fold 1, Epoch 5, Train Loss: 1.0998, Train Accuracy: 0.5913\n"
          ]
        },
        {
          "name": "stderr",
          "output_type": "stream",
          "text": [
            "Validating Fold 1, Epoch 5: 100%|██████████| 58/58 [00:04<00:00, 13.28batch/s]\n"
          ]
        },
        {
          "name": "stdout",
          "output_type": "stream",
          "text": [
            "Fold 1, Epoch 5, Val Loss: 1.0865, Val Accuracy: 0.5916\n"
          ]
        },
        {
          "name": "stderr",
          "output_type": "stream",
          "text": [
            "Training Fold 1, Epoch 6: 100%|██████████| 229/229 [00:21<00:00, 10.85batch/s]\n"
          ]
        },
        {
          "name": "stdout",
          "output_type": "stream",
          "text": [
            "Fold 1, Epoch 6, Train Loss: 1.0764, Train Accuracy: 0.6004\n"
          ]
        },
        {
          "name": "stderr",
          "output_type": "stream",
          "text": [
            "Validating Fold 1, Epoch 6: 100%|██████████| 58/58 [00:04<00:00, 13.28batch/s]\n"
          ]
        },
        {
          "name": "stdout",
          "output_type": "stream",
          "text": [
            "New best model saved with Val Accuracy: 0.5996\n",
            "Fold 1, Epoch 6, Val Loss: 1.0595, Val Accuracy: 0.5996\n"
          ]
        },
        {
          "name": "stderr",
          "output_type": "stream",
          "text": [
            "Training Fold 1, Epoch 7: 100%|██████████| 229/229 [00:20<00:00, 11.25batch/s]\n"
          ]
        },
        {
          "name": "stdout",
          "output_type": "stream",
          "text": [
            "Fold 1, Epoch 7, Train Loss: 1.0448, Train Accuracy: 0.6144\n"
          ]
        },
        {
          "name": "stderr",
          "output_type": "stream",
          "text": [
            "Validating Fold 1, Epoch 7: 100%|██████████| 58/58 [00:04<00:00, 13.28batch/s]\n"
          ]
        },
        {
          "name": "stdout",
          "output_type": "stream",
          "text": [
            "New best model saved with Val Accuracy: 0.6097\n",
            "Fold 1, Epoch 7, Val Loss: 1.0514, Val Accuracy: 0.6097\n"
          ]
        },
        {
          "name": "stderr",
          "output_type": "stream",
          "text": [
            "Training Fold 1, Epoch 8: 100%|██████████| 229/229 [00:20<00:00, 11.24batch/s]\n"
          ]
        },
        {
          "name": "stdout",
          "output_type": "stream",
          "text": [
            "Fold 1, Epoch 8, Train Loss: 1.0280, Train Accuracy: 0.6224\n"
          ]
        },
        {
          "name": "stderr",
          "output_type": "stream",
          "text": [
            "Validating Fold 1, Epoch 8: 100%|██████████| 58/58 [00:04<00:00, 14.14batch/s]\n"
          ]
        },
        {
          "name": "stdout",
          "output_type": "stream",
          "text": [
            "New best model saved with Val Accuracy: 0.6250\n",
            "Fold 1, Epoch 8, Val Loss: 1.0168, Val Accuracy: 0.6250\n"
          ]
        },
        {
          "name": "stderr",
          "output_type": "stream",
          "text": [
            "Training Fold 1, Epoch 9: 100%|██████████| 229/229 [00:20<00:00, 11.04batch/s]\n"
          ]
        },
        {
          "name": "stdout",
          "output_type": "stream",
          "text": [
            "Fold 1, Epoch 9, Train Loss: 1.0022, Train Accuracy: 0.6328\n"
          ]
        },
        {
          "name": "stderr",
          "output_type": "stream",
          "text": [
            "Validating Fold 1, Epoch 9: 100%|██████████| 58/58 [00:03<00:00, 15.31batch/s]\n"
          ]
        },
        {
          "name": "stdout",
          "output_type": "stream",
          "text": [
            "Fold 1, Epoch 9, Val Loss: 1.0265, Val Accuracy: 0.6160\n"
          ]
        },
        {
          "name": "stderr",
          "output_type": "stream",
          "text": [
            "Training Fold 1, Epoch 10: 100%|██████████| 229/229 [00:20<00:00, 10.96batch/s]\n"
          ]
        },
        {
          "name": "stdout",
          "output_type": "stream",
          "text": [
            "Fold 1, Epoch 10, Train Loss: 0.9780, Train Accuracy: 0.6459\n"
          ]
        },
        {
          "name": "stderr",
          "output_type": "stream",
          "text": [
            "Validating Fold 1, Epoch 10: 100%|██████████| 58/58 [00:03<00:00, 15.76batch/s]\n"
          ]
        },
        {
          "name": "stdout",
          "output_type": "stream",
          "text": [
            "New best model saved with Val Accuracy: 0.6256\n",
            "Fold 1, Epoch 10, Val Loss: 1.0179, Val Accuracy: 0.6256\n"
          ]
        },
        {
          "name": "stderr",
          "output_type": "stream",
          "text": [
            "Training Fold 1, Epoch 11: 100%|██████████| 229/229 [00:21<00:00, 10.77batch/s]\n"
          ]
        },
        {
          "name": "stdout",
          "output_type": "stream",
          "text": [
            "Fold 1, Epoch 11, Train Loss: 0.9663, Train Accuracy: 0.6474\n"
          ]
        },
        {
          "name": "stderr",
          "output_type": "stream",
          "text": [
            "Validating Fold 1, Epoch 11: 100%|██████████| 58/58 [00:03<00:00, 15.93batch/s]\n"
          ]
        },
        {
          "name": "stdout",
          "output_type": "stream",
          "text": [
            "New best model saved with Val Accuracy: 0.6308\n",
            "Fold 1, Epoch 11, Val Loss: 1.0086, Val Accuracy: 0.6308\n"
          ]
        },
        {
          "name": "stderr",
          "output_type": "stream",
          "text": [
            "Training Fold 1, Epoch 12: 100%|██████████| 229/229 [00:21<00:00, 10.75batch/s]\n"
          ]
        },
        {
          "name": "stdout",
          "output_type": "stream",
          "text": [
            "Fold 1, Epoch 12, Train Loss: 0.9382, Train Accuracy: 0.6594\n"
          ]
        },
        {
          "name": "stderr",
          "output_type": "stream",
          "text": [
            "Validating Fold 1, Epoch 12: 100%|██████████| 58/58 [00:03<00:00, 15.50batch/s]\n"
          ]
        },
        {
          "name": "stdout",
          "output_type": "stream",
          "text": [
            "Fold 1, Epoch 12, Val Loss: 0.9916, Val Accuracy: 0.6294\n",
            "Fold 2/5\n"
          ]
        },
        {
          "name": "stderr",
          "output_type": "stream",
          "text": [
            "Training Fold 2, Epoch 1: 100%|██████████| 229/229 [00:20<00:00, 10.94batch/s]\n"
          ]
        },
        {
          "name": "stdout",
          "output_type": "stream",
          "text": [
            "Fold 2, Epoch 1, Train Loss: 1.3481, Train Accuracy: 0.5028\n"
          ]
        },
        {
          "name": "stderr",
          "output_type": "stream",
          "text": [
            "Validating Fold 2, Epoch 1: 100%|██████████| 58/58 [00:03<00:00, 16.11batch/s]\n"
          ]
        },
        {
          "name": "stdout",
          "output_type": "stream",
          "text": [
            "Fold 2, Epoch 1, Val Loss: 1.2374, Val Accuracy: 0.5278\n"
          ]
        },
        {
          "name": "stderr",
          "output_type": "stream",
          "text": [
            "Training Fold 2, Epoch 2: 100%|██████████| 229/229 [00:21<00:00, 10.88batch/s]\n"
          ]
        },
        {
          "name": "stdout",
          "output_type": "stream",
          "text": [
            "Fold 2, Epoch 2, Train Loss: 1.2079, Train Accuracy: 0.5438\n"
          ]
        },
        {
          "name": "stderr",
          "output_type": "stream",
          "text": [
            "Validating Fold 2, Epoch 2: 100%|██████████| 58/58 [00:03<00:00, 15.74batch/s]\n"
          ]
        },
        {
          "name": "stdout",
          "output_type": "stream",
          "text": [
            "Fold 2, Epoch 2, Val Loss: 1.2464, Val Accuracy: 0.5229\n"
          ]
        },
        {
          "name": "stderr",
          "output_type": "stream",
          "text": [
            "Training Fold 2, Epoch 3: 100%|██████████| 229/229 [00:21<00:00, 10.84batch/s]\n"
          ]
        },
        {
          "name": "stdout",
          "output_type": "stream",
          "text": [
            "Fold 2, Epoch 3, Train Loss: 1.1656, Train Accuracy: 0.5639\n"
          ]
        },
        {
          "name": "stderr",
          "output_type": "stream",
          "text": [
            "Validating Fold 2, Epoch 3: 100%|██████████| 58/58 [00:03<00:00, 15.98batch/s]\n"
          ]
        },
        {
          "name": "stdout",
          "output_type": "stream",
          "text": [
            "Fold 2, Epoch 3, Val Loss: 1.1028, Val Accuracy: 0.5785\n"
          ]
        },
        {
          "name": "stderr",
          "output_type": "stream",
          "text": [
            "Training Fold 2, Epoch 4: 100%|██████████| 229/229 [00:20<00:00, 10.91batch/s]\n"
          ]
        },
        {
          "name": "stdout",
          "output_type": "stream",
          "text": [
            "Fold 2, Epoch 4, Train Loss: 1.1126, Train Accuracy: 0.5867\n"
          ]
        },
        {
          "name": "stderr",
          "output_type": "stream",
          "text": [
            "Validating Fold 2, Epoch 4: 100%|██████████| 58/58 [00:03<00:00, 14.91batch/s]\n"
          ]
        },
        {
          "name": "stdout",
          "output_type": "stream",
          "text": [
            "Fold 2, Epoch 4, Val Loss: 1.1196, Val Accuracy: 0.5820\n"
          ]
        },
        {
          "name": "stderr",
          "output_type": "stream",
          "text": [
            "Training Fold 2, Epoch 5: 100%|██████████| 229/229 [00:20<00:00, 11.15batch/s]\n"
          ]
        },
        {
          "name": "stdout",
          "output_type": "stream",
          "text": [
            "Fold 2, Epoch 5, Train Loss: 1.0880, Train Accuracy: 0.6003\n"
          ]
        },
        {
          "name": "stderr",
          "output_type": "stream",
          "text": [
            "Validating Fold 2, Epoch 5: 100%|██████████| 58/58 [00:04<00:00, 14.08batch/s]\n"
          ]
        },
        {
          "name": "stdout",
          "output_type": "stream",
          "text": [
            "Fold 2, Epoch 5, Val Loss: 1.0814, Val Accuracy: 0.5900\n"
          ]
        },
        {
          "name": "stderr",
          "output_type": "stream",
          "text": [
            "Training Fold 2, Epoch 6: 100%|██████████| 229/229 [00:20<00:00, 11.25batch/s]\n"
          ]
        },
        {
          "name": "stdout",
          "output_type": "stream",
          "text": [
            "Fold 2, Epoch 6, Train Loss: 1.0574, Train Accuracy: 0.6094\n"
          ]
        },
        {
          "name": "stderr",
          "output_type": "stream",
          "text": [
            "Validating Fold 2, Epoch 6: 100%|██████████| 58/58 [00:04<00:00, 13.42batch/s]\n"
          ]
        },
        {
          "name": "stdout",
          "output_type": "stream",
          "text": [
            "Fold 2, Epoch 6, Val Loss: 1.0627, Val Accuracy: 0.6028\n"
          ]
        },
        {
          "name": "stderr",
          "output_type": "stream",
          "text": [
            "Training Fold 2, Epoch 7: 100%|██████████| 229/229 [00:20<00:00, 11.25batch/s]\n"
          ]
        },
        {
          "name": "stdout",
          "output_type": "stream",
          "text": [
            "Fold 2, Epoch 7, Train Loss: 1.0380, Train Accuracy: 0.6166\n"
          ]
        },
        {
          "name": "stderr",
          "output_type": "stream",
          "text": [
            "Validating Fold 2, Epoch 7: 100%|██████████| 58/58 [00:04<00:00, 13.33batch/s]\n"
          ]
        },
        {
          "name": "stdout",
          "output_type": "stream",
          "text": [
            "Fold 2, Epoch 7, Val Loss: 1.0808, Val Accuracy: 0.5787\n"
          ]
        },
        {
          "name": "stderr",
          "output_type": "stream",
          "text": [
            "Training Fold 2, Epoch 8: 100%|██████████| 229/229 [00:20<00:00, 11.29batch/s]\n"
          ]
        },
        {
          "name": "stdout",
          "output_type": "stream",
          "text": [
            "Fold 2, Epoch 8, Train Loss: 1.0237, Train Accuracy: 0.6270\n"
          ]
        },
        {
          "name": "stderr",
          "output_type": "stream",
          "text": [
            "Validating Fold 2, Epoch 8: 100%|██████████| 58/58 [00:04<00:00, 13.99batch/s]\n"
          ]
        },
        {
          "name": "stdout",
          "output_type": "stream",
          "text": [
            "Fold 2, Epoch 8, Val Loss: 1.0971, Val Accuracy: 0.5768\n"
          ]
        },
        {
          "name": "stderr",
          "output_type": "stream",
          "text": [
            "Training Fold 2, Epoch 9: 100%|██████████| 229/229 [00:20<00:00, 11.22batch/s]\n"
          ]
        },
        {
          "name": "stdout",
          "output_type": "stream",
          "text": [
            "Fold 2, Epoch 9, Train Loss: 0.9962, Train Accuracy: 0.6350\n"
          ]
        },
        {
          "name": "stderr",
          "output_type": "stream",
          "text": [
            "Validating Fold 2, Epoch 9: 100%|██████████| 58/58 [00:03<00:00, 15.37batch/s]\n"
          ]
        },
        {
          "name": "stdout",
          "output_type": "stream",
          "text": [
            "Fold 2, Epoch 9, Val Loss: 1.0156, Val Accuracy: 0.6248\n"
          ]
        },
        {
          "name": "stderr",
          "output_type": "stream",
          "text": [
            "Training Fold 2, Epoch 10: 100%|██████████| 229/229 [00:20<00:00, 10.93batch/s]\n"
          ]
        },
        {
          "name": "stdout",
          "output_type": "stream",
          "text": [
            "Fold 2, Epoch 10, Train Loss: 0.9754, Train Accuracy: 0.6457\n"
          ]
        },
        {
          "name": "stderr",
          "output_type": "stream",
          "text": [
            "Validating Fold 2, Epoch 10: 100%|██████████| 58/58 [00:03<00:00, 15.23batch/s]\n"
          ]
        },
        {
          "name": "stdout",
          "output_type": "stream",
          "text": [
            "New best model saved with Val Accuracy: 0.6412\n",
            "Fold 2, Epoch 10, Val Loss: 1.0011, Val Accuracy: 0.6412\n"
          ]
        },
        {
          "name": "stderr",
          "output_type": "stream",
          "text": [
            "Training Fold 2, Epoch 11: 100%|██████████| 229/229 [00:21<00:00, 10.72batch/s]\n"
          ]
        },
        {
          "name": "stdout",
          "output_type": "stream",
          "text": [
            "Fold 2, Epoch 11, Train Loss: 0.9545, Train Accuracy: 0.6550\n"
          ]
        },
        {
          "name": "stderr",
          "output_type": "stream",
          "text": [
            "Validating Fold 2, Epoch 11: 100%|██████████| 58/58 [00:03<00:00, 15.32batch/s]\n"
          ]
        },
        {
          "name": "stdout",
          "output_type": "stream",
          "text": [
            "Fold 2, Epoch 11, Val Loss: 1.0271, Val Accuracy: 0.6100\n"
          ]
        },
        {
          "name": "stderr",
          "output_type": "stream",
          "text": [
            "Training Fold 2, Epoch 12: 100%|██████████| 229/229 [00:21<00:00, 10.85batch/s]\n"
          ]
        },
        {
          "name": "stdout",
          "output_type": "stream",
          "text": [
            "Fold 2, Epoch 12, Train Loss: 0.9332, Train Accuracy: 0.6651\n"
          ]
        },
        {
          "name": "stderr",
          "output_type": "stream",
          "text": [
            "Validating Fold 2, Epoch 12: 100%|██████████| 58/58 [00:03<00:00, 15.49batch/s]\n"
          ]
        },
        {
          "name": "stdout",
          "output_type": "stream",
          "text": [
            "Fold 2, Epoch 12, Val Loss: 1.0527, Val Accuracy: 0.6168\n",
            "Fold 3/5\n"
          ]
        },
        {
          "name": "stderr",
          "output_type": "stream",
          "text": [
            "Training Fold 3, Epoch 1: 100%|██████████| 229/229 [00:21<00:00, 10.75batch/s]\n"
          ]
        },
        {
          "name": "stdout",
          "output_type": "stream",
          "text": [
            "Fold 3, Epoch 1, Train Loss: 1.3323, Train Accuracy: 0.5173\n"
          ]
        },
        {
          "name": "stderr",
          "output_type": "stream",
          "text": [
            "Validating Fold 3, Epoch 1: 100%|██████████| 58/58 [00:03<00:00, 15.67batch/s]\n"
          ]
        },
        {
          "name": "stdout",
          "output_type": "stream",
          "text": [
            "Fold 3, Epoch 1, Val Loss: 1.2277, Val Accuracy: 0.5289\n"
          ]
        },
        {
          "name": "stderr",
          "output_type": "stream",
          "text": [
            "Training Fold 3, Epoch 2: 100%|██████████| 229/229 [00:21<00:00, 10.79batch/s]\n"
          ]
        },
        {
          "name": "stdout",
          "output_type": "stream",
          "text": [
            "Fold 3, Epoch 2, Train Loss: 1.2062, Train Accuracy: 0.5409\n"
          ]
        },
        {
          "name": "stderr",
          "output_type": "stream",
          "text": [
            "Validating Fold 3, Epoch 2: 100%|██████████| 58/58 [00:03<00:00, 15.97batch/s]\n"
          ]
        },
        {
          "name": "stdout",
          "output_type": "stream",
          "text": [
            "Fold 3, Epoch 2, Val Loss: 1.1626, Val Accuracy: 0.5563\n"
          ]
        },
        {
          "name": "stderr",
          "output_type": "stream",
          "text": [
            "Training Fold 3, Epoch 3: 100%|██████████| 229/229 [00:21<00:00, 10.80batch/s]\n"
          ]
        },
        {
          "name": "stdout",
          "output_type": "stream",
          "text": [
            "Fold 3, Epoch 3, Train Loss: 1.1615, Train Accuracy: 0.5598\n"
          ]
        },
        {
          "name": "stderr",
          "output_type": "stream",
          "text": [
            "Validating Fold 3, Epoch 3: 100%|██████████| 58/58 [00:03<00:00, 15.67batch/s]\n"
          ]
        },
        {
          "name": "stdout",
          "output_type": "stream",
          "text": [
            "Fold 3, Epoch 3, Val Loss: 1.2075, Val Accuracy: 0.5442\n"
          ]
        },
        {
          "name": "stderr",
          "output_type": "stream",
          "text": [
            "Training Fold 3, Epoch 4: 100%|██████████| 229/229 [00:21<00:00, 10.79batch/s]\n"
          ]
        },
        {
          "name": "stdout",
          "output_type": "stream",
          "text": [
            "Fold 3, Epoch 4, Train Loss: 1.1194, Train Accuracy: 0.5790\n"
          ]
        },
        {
          "name": "stderr",
          "output_type": "stream",
          "text": [
            "Validating Fold 3, Epoch 4: 100%|██████████| 58/58 [00:03<00:00, 15.52batch/s]\n"
          ]
        },
        {
          "name": "stdout",
          "output_type": "stream",
          "text": [
            "Fold 3, Epoch 4, Val Loss: 1.0982, Val Accuracy: 0.5987\n"
          ]
        },
        {
          "name": "stderr",
          "output_type": "stream",
          "text": [
            "Training Fold 3, Epoch 5: 100%|██████████| 229/229 [00:20<00:00, 10.92batch/s]\n"
          ]
        },
        {
          "name": "stdout",
          "output_type": "stream",
          "text": [
            "Fold 3, Epoch 5, Train Loss: 1.0861, Train Accuracy: 0.5954\n"
          ]
        },
        {
          "name": "stderr",
          "output_type": "stream",
          "text": [
            "Validating Fold 3, Epoch 5: 100%|██████████| 58/58 [00:03<00:00, 15.44batch/s]\n"
          ]
        },
        {
          "name": "stdout",
          "output_type": "stream",
          "text": [
            "Fold 3, Epoch 5, Val Loss: 1.1182, Val Accuracy: 0.5979\n"
          ]
        },
        {
          "name": "stderr",
          "output_type": "stream",
          "text": [
            "Training Fold 3, Epoch 6: 100%|██████████| 229/229 [00:21<00:00, 10.88batch/s]\n"
          ]
        },
        {
          "name": "stdout",
          "output_type": "stream",
          "text": [
            "Fold 3, Epoch 6, Train Loss: 1.0581, Train Accuracy: 0.6061\n"
          ]
        },
        {
          "name": "stderr",
          "output_type": "stream",
          "text": [
            "Validating Fold 3, Epoch 6: 100%|██████████| 58/58 [00:03<00:00, 15.22batch/s]\n"
          ]
        },
        {
          "name": "stdout",
          "output_type": "stream",
          "text": [
            "Fold 3, Epoch 6, Val Loss: 1.0200, Val Accuracy: 0.6231\n"
          ]
        },
        {
          "name": "stderr",
          "output_type": "stream",
          "text": [
            "Training Fold 3, Epoch 7: 100%|██████████| 229/229 [00:20<00:00, 11.02batch/s]\n"
          ]
        },
        {
          "name": "stdout",
          "output_type": "stream",
          "text": [
            "Fold 3, Epoch 7, Train Loss: 1.0323, Train Accuracy: 0.6179\n"
          ]
        },
        {
          "name": "stderr",
          "output_type": "stream",
          "text": [
            "Validating Fold 3, Epoch 7: 100%|██████████| 58/58 [00:04<00:00, 14.47batch/s]\n"
          ]
        },
        {
          "name": "stdout",
          "output_type": "stream",
          "text": [
            "Fold 3, Epoch 7, Val Loss: 1.1092, Val Accuracy: 0.5935\n"
          ]
        },
        {
          "name": "stderr",
          "output_type": "stream",
          "text": [
            "Training Fold 3, Epoch 8: 100%|██████████| 229/229 [00:20<00:00, 11.05batch/s]\n"
          ]
        },
        {
          "name": "stdout",
          "output_type": "stream",
          "text": [
            "Fold 3, Epoch 8, Train Loss: 1.0042, Train Accuracy: 0.6296\n"
          ]
        },
        {
          "name": "stderr",
          "output_type": "stream",
          "text": [
            "Validating Fold 3, Epoch 8: 100%|██████████| 58/58 [00:04<00:00, 13.82batch/s]\n"
          ]
        },
        {
          "name": "stdout",
          "output_type": "stream",
          "text": [
            "Fold 3, Epoch 8, Val Loss: 1.0204, Val Accuracy: 0.6330\n"
          ]
        },
        {
          "name": "stderr",
          "output_type": "stream",
          "text": [
            "Training Fold 3, Epoch 9: 100%|██████████| 229/229 [00:20<00:00, 11.23batch/s]\n"
          ]
        },
        {
          "name": "stdout",
          "output_type": "stream",
          "text": [
            "Fold 3, Epoch 9, Train Loss: 0.9909, Train Accuracy: 0.6343\n"
          ]
        },
        {
          "name": "stderr",
          "output_type": "stream",
          "text": [
            "Validating Fold 3, Epoch 9: 100%|██████████| 58/58 [00:04<00:00, 13.38batch/s]\n"
          ]
        },
        {
          "name": "stdout",
          "output_type": "stream",
          "text": [
            "Fold 3, Epoch 9, Val Loss: 0.9969, Val Accuracy: 0.6322\n"
          ]
        },
        {
          "name": "stderr",
          "output_type": "stream",
          "text": [
            "Training Fold 3, Epoch 10: 100%|██████████| 229/229 [00:20<00:00, 11.10batch/s]\n"
          ]
        },
        {
          "name": "stdout",
          "output_type": "stream",
          "text": [
            "Fold 3, Epoch 10, Train Loss: 0.9660, Train Accuracy: 0.6451\n"
          ]
        },
        {
          "name": "stderr",
          "output_type": "stream",
          "text": [
            "Validating Fold 3, Epoch 10: 100%|██████████| 58/58 [00:04<00:00, 13.19batch/s]\n"
          ]
        },
        {
          "name": "stdout",
          "output_type": "stream",
          "text": [
            "Fold 3, Epoch 10, Val Loss: 1.0039, Val Accuracy: 0.6217\n"
          ]
        },
        {
          "name": "stderr",
          "output_type": "stream",
          "text": [
            "Training Fold 3, Epoch 11: 100%|██████████| 229/229 [00:20<00:00, 11.18batch/s]\n"
          ]
        },
        {
          "name": "stdout",
          "output_type": "stream",
          "text": [
            "Fold 3, Epoch 11, Train Loss: 0.9466, Train Accuracy: 0.6517\n"
          ]
        },
        {
          "name": "stderr",
          "output_type": "stream",
          "text": [
            "Validating Fold 3, Epoch 11: 100%|██████████| 58/58 [00:04<00:00, 13.60batch/s]\n"
          ]
        },
        {
          "name": "stdout",
          "output_type": "stream",
          "text": [
            "Fold 3, Epoch 11, Val Loss: 1.0382, Val Accuracy: 0.6316\n"
          ]
        },
        {
          "name": "stderr",
          "output_type": "stream",
          "text": [
            "Training Fold 3, Epoch 12: 100%|██████████| 229/229 [00:20<00:00, 11.03batch/s]\n"
          ]
        },
        {
          "name": "stdout",
          "output_type": "stream",
          "text": [
            "Fold 3, Epoch 12, Train Loss: 0.9238, Train Accuracy: 0.6659\n"
          ]
        },
        {
          "name": "stderr",
          "output_type": "stream",
          "text": [
            "Validating Fold 3, Epoch 12: 100%|██████████| 58/58 [00:03<00:00, 14.66batch/s]\n"
          ]
        },
        {
          "name": "stdout",
          "output_type": "stream",
          "text": [
            "Fold 3, Epoch 12, Val Loss: 1.0080, Val Accuracy: 0.6294\n",
            "Fold 4/5\n"
          ]
        },
        {
          "name": "stderr",
          "output_type": "stream",
          "text": [
            "Training Fold 4, Epoch 1: 100%|██████████| 229/229 [00:20<00:00, 11.05batch/s]\n"
          ]
        },
        {
          "name": "stdout",
          "output_type": "stream",
          "text": [
            "Fold 4, Epoch 1, Train Loss: 1.3586, Train Accuracy: 0.5010\n"
          ]
        },
        {
          "name": "stderr",
          "output_type": "stream",
          "text": [
            "Validating Fold 4, Epoch 1: 100%|██████████| 58/58 [00:03<00:00, 15.11batch/s]\n"
          ]
        },
        {
          "name": "stdout",
          "output_type": "stream",
          "text": [
            "Fold 4, Epoch 1, Val Loss: 1.2769, Val Accuracy: 0.5157\n"
          ]
        },
        {
          "name": "stderr",
          "output_type": "stream",
          "text": [
            "Training Fold 4, Epoch 2: 100%|██████████| 229/229 [00:21<00:00, 10.85batch/s]\n"
          ]
        },
        {
          "name": "stdout",
          "output_type": "stream",
          "text": [
            "Fold 4, Epoch 2, Train Loss: 1.2156, Train Accuracy: 0.5409\n"
          ]
        },
        {
          "name": "stderr",
          "output_type": "stream",
          "text": [
            "Validating Fold 4, Epoch 2: 100%|██████████| 58/58 [00:03<00:00, 15.48batch/s]\n"
          ]
        },
        {
          "name": "stdout",
          "output_type": "stream",
          "text": [
            "Fold 4, Epoch 2, Val Loss: 1.2010, Val Accuracy: 0.5371\n"
          ]
        },
        {
          "name": "stderr",
          "output_type": "stream",
          "text": [
            "Training Fold 4, Epoch 3: 100%|██████████| 229/229 [00:21<00:00, 10.80batch/s]\n"
          ]
        },
        {
          "name": "stdout",
          "output_type": "stream",
          "text": [
            "Fold 4, Epoch 3, Train Loss: 1.1760, Train Accuracy: 0.5522\n"
          ]
        },
        {
          "name": "stderr",
          "output_type": "stream",
          "text": [
            "Validating Fold 4, Epoch 3: 100%|██████████| 58/58 [00:03<00:00, 16.22batch/s]\n"
          ]
        },
        {
          "name": "stdout",
          "output_type": "stream",
          "text": [
            "Fold 4, Epoch 3, Val Loss: 1.1328, Val Accuracy: 0.5568\n"
          ]
        },
        {
          "name": "stderr",
          "output_type": "stream",
          "text": [
            "Training Fold 4, Epoch 4: 100%|██████████| 229/229 [00:21<00:00, 10.88batch/s]\n"
          ]
        },
        {
          "name": "stdout",
          "output_type": "stream",
          "text": [
            "Fold 4, Epoch 4, Train Loss: 1.1272, Train Accuracy: 0.5718\n"
          ]
        },
        {
          "name": "stderr",
          "output_type": "stream",
          "text": [
            "Validating Fold 4, Epoch 4: 100%|██████████| 58/58 [00:03<00:00, 16.17batch/s]\n"
          ]
        },
        {
          "name": "stdout",
          "output_type": "stream",
          "text": [
            "Fold 4, Epoch 4, Val Loss: 1.1433, Val Accuracy: 0.5703\n"
          ]
        },
        {
          "name": "stderr",
          "output_type": "stream",
          "text": [
            "Training Fold 4, Epoch 5: 100%|██████████| 229/229 [00:21<00:00, 10.83batch/s]\n"
          ]
        },
        {
          "name": "stdout",
          "output_type": "stream",
          "text": [
            "Fold 4, Epoch 5, Train Loss: 1.1071, Train Accuracy: 0.5921\n"
          ]
        },
        {
          "name": "stderr",
          "output_type": "stream",
          "text": [
            "Validating Fold 4, Epoch 5: 100%|██████████| 58/58 [00:03<00:00, 15.32batch/s]\n"
          ]
        },
        {
          "name": "stdout",
          "output_type": "stream",
          "text": [
            "Fold 4, Epoch 5, Val Loss: 1.0905, Val Accuracy: 0.5804\n"
          ]
        },
        {
          "name": "stderr",
          "output_type": "stream",
          "text": [
            "Training Fold 4, Epoch 6: 100%|██████████| 229/229 [00:21<00:00, 10.85batch/s]\n"
          ]
        },
        {
          "name": "stdout",
          "output_type": "stream",
          "text": [
            "Fold 4, Epoch 6, Train Loss: 1.0733, Train Accuracy: 0.6011\n"
          ]
        },
        {
          "name": "stderr",
          "output_type": "stream",
          "text": [
            "Validating Fold 4, Epoch 6: 100%|██████████| 58/58 [00:03<00:00, 15.52batch/s]\n"
          ]
        },
        {
          "name": "stdout",
          "output_type": "stream",
          "text": [
            "Fold 4, Epoch 6, Val Loss: 1.0700, Val Accuracy: 0.6083\n"
          ]
        },
        {
          "name": "stderr",
          "output_type": "stream",
          "text": [
            "Training Fold 4, Epoch 7: 100%|██████████| 229/229 [00:21<00:00, 10.77batch/s]\n"
          ]
        },
        {
          "name": "stdout",
          "output_type": "stream",
          "text": [
            "Fold 4, Epoch 7, Train Loss: 1.0428, Train Accuracy: 0.6148\n"
          ]
        },
        {
          "name": "stderr",
          "output_type": "stream",
          "text": [
            "Validating Fold 4, Epoch 7: 100%|██████████| 58/58 [00:03<00:00, 15.85batch/s]\n"
          ]
        },
        {
          "name": "stdout",
          "output_type": "stream",
          "text": [
            "Fold 4, Epoch 7, Val Loss: 1.1157, Val Accuracy: 0.5842\n"
          ]
        },
        {
          "name": "stderr",
          "output_type": "stream",
          "text": [
            "Training Fold 4, Epoch 8: 100%|██████████| 229/229 [00:20<00:00, 10.92batch/s]\n"
          ]
        },
        {
          "name": "stdout",
          "output_type": "stream",
          "text": [
            "Fold 4, Epoch 8, Train Loss: 1.0282, Train Accuracy: 0.6184\n"
          ]
        },
        {
          "name": "stderr",
          "output_type": "stream",
          "text": [
            "Validating Fold 4, Epoch 8: 100%|██████████| 58/58 [00:03<00:00, 15.99batch/s]\n"
          ]
        },
        {
          "name": "stdout",
          "output_type": "stream",
          "text": [
            "Fold 4, Epoch 8, Val Loss: 1.0270, Val Accuracy: 0.6231\n"
          ]
        },
        {
          "name": "stderr",
          "output_type": "stream",
          "text": [
            "Training Fold 4, Epoch 9: 100%|██████████| 229/229 [00:20<00:00, 10.98batch/s]\n"
          ]
        },
        {
          "name": "stdout",
          "output_type": "stream",
          "text": [
            "Fold 4, Epoch 9, Train Loss: 1.0033, Train Accuracy: 0.6301\n"
          ]
        },
        {
          "name": "stderr",
          "output_type": "stream",
          "text": [
            "Validating Fold 4, Epoch 9: 100%|██████████| 58/58 [00:04<00:00, 14.27batch/s]\n"
          ]
        },
        {
          "name": "stdout",
          "output_type": "stream",
          "text": [
            "Fold 4, Epoch 9, Val Loss: 1.0497, Val Accuracy: 0.6146\n"
          ]
        },
        {
          "name": "stderr",
          "output_type": "stream",
          "text": [
            "Training Fold 4, Epoch 10: 100%|██████████| 229/229 [00:20<00:00, 11.01batch/s]\n"
          ]
        },
        {
          "name": "stdout",
          "output_type": "stream",
          "text": [
            "Fold 4, Epoch 10, Train Loss: 0.9852, Train Accuracy: 0.6376\n"
          ]
        },
        {
          "name": "stderr",
          "output_type": "stream",
          "text": [
            "Validating Fold 4, Epoch 10: 100%|██████████| 58/58 [00:04<00:00, 13.66batch/s]\n"
          ]
        },
        {
          "name": "stdout",
          "output_type": "stream",
          "text": [
            "Fold 4, Epoch 10, Val Loss: 1.0099, Val Accuracy: 0.6352\n"
          ]
        },
        {
          "name": "stderr",
          "output_type": "stream",
          "text": [
            "Training Fold 4, Epoch 11: 100%|██████████| 229/229 [00:20<00:00, 11.23batch/s]\n"
          ]
        },
        {
          "name": "stdout",
          "output_type": "stream",
          "text": [
            "Fold 4, Epoch 11, Train Loss: 0.9624, Train Accuracy: 0.6504\n"
          ]
        },
        {
          "name": "stderr",
          "output_type": "stream",
          "text": [
            "Validating Fold 4, Epoch 11: 100%|██████████| 58/58 [00:04<00:00, 13.43batch/s]\n"
          ]
        },
        {
          "name": "stdout",
          "output_type": "stream",
          "text": [
            "Fold 4, Epoch 11, Val Loss: 1.0254, Val Accuracy: 0.6248\n"
          ]
        },
        {
          "name": "stderr",
          "output_type": "stream",
          "text": [
            "Training Fold 4, Epoch 12: 100%|██████████| 229/229 [00:20<00:00, 11.03batch/s]\n"
          ]
        },
        {
          "name": "stdout",
          "output_type": "stream",
          "text": [
            "Fold 4, Epoch 12, Train Loss: 0.9512, Train Accuracy: 0.6537\n"
          ]
        },
        {
          "name": "stderr",
          "output_type": "stream",
          "text": [
            "Validating Fold 4, Epoch 12: 100%|██████████| 58/58 [00:04<00:00, 13.19batch/s]\n"
          ]
        },
        {
          "name": "stdout",
          "output_type": "stream",
          "text": [
            "Fold 4, Epoch 12, Val Loss: 1.0197, Val Accuracy: 0.6270\n",
            "Fold 5/5\n"
          ]
        },
        {
          "name": "stderr",
          "output_type": "stream",
          "text": [
            "Training Fold 5, Epoch 1: 100%|██████████| 229/229 [00:20<00:00, 11.23batch/s]\n"
          ]
        },
        {
          "name": "stdout",
          "output_type": "stream",
          "text": [
            "Fold 5, Epoch 1, Train Loss: 1.3442, Train Accuracy: 0.5027\n"
          ]
        },
        {
          "name": "stderr",
          "output_type": "stream",
          "text": [
            "Validating Fold 5, Epoch 1: 100%|██████████| 58/58 [00:04<00:00, 13.29batch/s]\n"
          ]
        },
        {
          "name": "stdout",
          "output_type": "stream",
          "text": [
            "Fold 5, Epoch 1, Val Loss: 1.2274, Val Accuracy: 0.5303\n"
          ]
        },
        {
          "name": "stderr",
          "output_type": "stream",
          "text": [
            "Training Fold 5, Epoch 2: 100%|██████████| 229/229 [00:20<00:00, 11.18batch/s]\n"
          ]
        },
        {
          "name": "stdout",
          "output_type": "stream",
          "text": [
            "Fold 5, Epoch 2, Train Loss: 1.2107, Train Accuracy: 0.5388\n"
          ]
        },
        {
          "name": "stderr",
          "output_type": "stream",
          "text": [
            "Validating Fold 5, Epoch 2: 100%|██████████| 58/58 [00:04<00:00, 14.46batch/s]\n"
          ]
        },
        {
          "name": "stdout",
          "output_type": "stream",
          "text": [
            "Fold 5, Epoch 2, Val Loss: 1.1754, Val Accuracy: 0.5486\n"
          ]
        },
        {
          "name": "stderr",
          "output_type": "stream",
          "text": [
            "Training Fold 5, Epoch 3: 100%|██████████| 229/229 [00:20<00:00, 11.10batch/s]\n"
          ]
        },
        {
          "name": "stdout",
          "output_type": "stream",
          "text": [
            "Fold 5, Epoch 3, Train Loss: 1.1655, Train Accuracy: 0.5618\n"
          ]
        },
        {
          "name": "stderr",
          "output_type": "stream",
          "text": [
            "Validating Fold 5, Epoch 3: 100%|██████████| 58/58 [00:03<00:00, 15.16batch/s]\n"
          ]
        },
        {
          "name": "stdout",
          "output_type": "stream",
          "text": [
            "Fold 5, Epoch 3, Val Loss: 1.1598, Val Accuracy: 0.5585\n"
          ]
        },
        {
          "name": "stderr",
          "output_type": "stream",
          "text": [
            "Training Fold 5, Epoch 4: 100%|██████████| 229/229 [00:20<00:00, 10.94batch/s]\n"
          ]
        },
        {
          "name": "stdout",
          "output_type": "stream",
          "text": [
            "Fold 5, Epoch 4, Train Loss: 1.1230, Train Accuracy: 0.5799\n"
          ]
        },
        {
          "name": "stderr",
          "output_type": "stream",
          "text": [
            "Validating Fold 5, Epoch 4: 100%|██████████| 58/58 [00:03<00:00, 15.59batch/s]\n"
          ]
        },
        {
          "name": "stdout",
          "output_type": "stream",
          "text": [
            "Fold 5, Epoch 4, Val Loss: 1.1478, Val Accuracy: 0.5609\n"
          ]
        },
        {
          "name": "stderr",
          "output_type": "stream",
          "text": [
            "Training Fold 5, Epoch 5: 100%|██████████| 229/229 [00:21<00:00, 10.86batch/s]\n"
          ]
        },
        {
          "name": "stdout",
          "output_type": "stream",
          "text": [
            "Fold 5, Epoch 5, Train Loss: 1.0859, Train Accuracy: 0.5983\n"
          ]
        },
        {
          "name": "stderr",
          "output_type": "stream",
          "text": [
            "Validating Fold 5, Epoch 5: 100%|██████████| 58/58 [00:03<00:00, 15.75batch/s]\n"
          ]
        },
        {
          "name": "stdout",
          "output_type": "stream",
          "text": [
            "Fold 5, Epoch 5, Val Loss: 1.1230, Val Accuracy: 0.5812\n"
          ]
        },
        {
          "name": "stderr",
          "output_type": "stream",
          "text": [
            "Training Fold 5, Epoch 6: 100%|██████████| 229/229 [00:21<00:00, 10.70batch/s]\n"
          ]
        },
        {
          "name": "stdout",
          "output_type": "stream",
          "text": [
            "Fold 5, Epoch 6, Train Loss: 1.0556, Train Accuracy: 0.6064\n"
          ]
        },
        {
          "name": "stderr",
          "output_type": "stream",
          "text": [
            "Validating Fold 5, Epoch 6: 100%|██████████| 58/58 [00:03<00:00, 15.98batch/s]\n"
          ]
        },
        {
          "name": "stdout",
          "output_type": "stream",
          "text": [
            "Fold 5, Epoch 6, Val Loss: 1.0935, Val Accuracy: 0.5987\n"
          ]
        },
        {
          "name": "stderr",
          "output_type": "stream",
          "text": [
            "Training Fold 5, Epoch 7: 100%|██████████| 229/229 [00:21<00:00, 10.78batch/s]\n"
          ]
        },
        {
          "name": "stdout",
          "output_type": "stream",
          "text": [
            "Fold 5, Epoch 7, Train Loss: 1.0384, Train Accuracy: 0.6167\n"
          ]
        },
        {
          "name": "stderr",
          "output_type": "stream",
          "text": [
            "Validating Fold 5, Epoch 7: 100%|██████████| 58/58 [00:03<00:00, 15.65batch/s]\n"
          ]
        },
        {
          "name": "stdout",
          "output_type": "stream",
          "text": [
            "Fold 5, Epoch 7, Val Loss: 1.0924, Val Accuracy: 0.5878\n"
          ]
        },
        {
          "name": "stderr",
          "output_type": "stream",
          "text": [
            "Training Fold 5, Epoch 8: 100%|██████████| 229/229 [00:21<00:00, 10.90batch/s]\n"
          ]
        },
        {
          "name": "stdout",
          "output_type": "stream",
          "text": [
            "Fold 5, Epoch 8, Train Loss: 1.0079, Train Accuracy: 0.6309\n"
          ]
        },
        {
          "name": "stderr",
          "output_type": "stream",
          "text": [
            "Validating Fold 5, Epoch 8: 100%|██████████| 58/58 [00:03<00:00, 15.93batch/s]\n"
          ]
        },
        {
          "name": "stdout",
          "output_type": "stream",
          "text": [
            "Fold 5, Epoch 8, Val Loss: 1.0307, Val Accuracy: 0.6053\n"
          ]
        },
        {
          "name": "stderr",
          "output_type": "stream",
          "text": [
            "Training Fold 5, Epoch 9: 100%|██████████| 229/229 [00:20<00:00, 10.91batch/s]\n"
          ]
        },
        {
          "name": "stdout",
          "output_type": "stream",
          "text": [
            "Fold 5, Epoch 9, Train Loss: 0.9950, Train Accuracy: 0.6365\n"
          ]
        },
        {
          "name": "stderr",
          "output_type": "stream",
          "text": [
            "Validating Fold 5, Epoch 9: 100%|██████████| 58/58 [00:03<00:00, 15.74batch/s]\n"
          ]
        },
        {
          "name": "stdout",
          "output_type": "stream",
          "text": [
            "Fold 5, Epoch 9, Val Loss: 1.0400, Val Accuracy: 0.6185\n"
          ]
        },
        {
          "name": "stderr",
          "output_type": "stream",
          "text": [
            "Training Fold 5, Epoch 10: 100%|██████████| 229/229 [00:20<00:00, 10.97batch/s]\n"
          ]
        },
        {
          "name": "stdout",
          "output_type": "stream",
          "text": [
            "Fold 5, Epoch 10, Train Loss: 0.9757, Train Accuracy: 0.6412\n"
          ]
        },
        {
          "name": "stderr",
          "output_type": "stream",
          "text": [
            "Validating Fold 5, Epoch 10: 100%|██████████| 58/58 [00:03<00:00, 15.45batch/s]\n"
          ]
        },
        {
          "name": "stdout",
          "output_type": "stream",
          "text": [
            "Fold 5, Epoch 10, Val Loss: 1.0322, Val Accuracy: 0.6039\n"
          ]
        },
        {
          "name": "stderr",
          "output_type": "stream",
          "text": [
            "Training Fold 5, Epoch 11: 100%|██████████| 229/229 [00:20<00:00, 11.13batch/s]\n"
          ]
        },
        {
          "name": "stdout",
          "output_type": "stream",
          "text": [
            "Fold 5, Epoch 11, Train Loss: 0.9514, Train Accuracy: 0.6517\n"
          ]
        },
        {
          "name": "stderr",
          "output_type": "stream",
          "text": [
            "Validating Fold 5, Epoch 11: 100%|██████████| 58/58 [00:04<00:00, 14.05batch/s]\n"
          ]
        },
        {
          "name": "stdout",
          "output_type": "stream",
          "text": [
            "Fold 5, Epoch 11, Val Loss: 1.0270, Val Accuracy: 0.6190\n"
          ]
        },
        {
          "name": "stderr",
          "output_type": "stream",
          "text": [
            "Training Fold 5, Epoch 12: 100%|██████████| 229/229 [00:20<00:00, 11.18batch/s]\n"
          ]
        },
        {
          "name": "stdout",
          "output_type": "stream",
          "text": [
            "Fold 5, Epoch 12, Train Loss: 0.9238, Train Accuracy: 0.6663\n"
          ]
        },
        {
          "name": "stderr",
          "output_type": "stream",
          "text": [
            "Validating Fold 5, Epoch 12: 100%|██████████| 58/58 [00:04<00:00, 13.27batch/s]\n"
          ]
        },
        {
          "name": "stdout",
          "output_type": "stream",
          "text": [
            "Fold 5, Epoch 12, Val Loss: 1.0123, Val Accuracy: 0.6313\n",
            "Average Training Loss: 1.0771\n",
            "Average Validation Loss: 1.0892\n",
            "Average Training Accuracy: 0.6014\n",
            "Average Validation Accuracy: 0.5928\n"
          ]
        }
      ],
      "source": [
        "# Initialize the dataset\n",
        "full_train_dataset = EthnicityDataset(root_dir=\"Dataset/mouth/train\", transform=transform_mouth)\n",
        "test_dataset = EthnicityDataset(root_dir=\"Dataset/mouth/test\", transform=transform_mouth)\n",
        "test_loader = DataLoader(test_dataset, batch_size=32, shuffle=False)\n",
        "\n",
        "# K-fold Cross-Validation\n",
        "k = 5  # Choose K = 5\n",
        "kf = KFold(n_splits=k, shuffle=True, random_state=42)\n",
        "\n",
        "# Array to store results for each fold\n",
        "fold_train_losses = []\n",
        "fold_val_losses = []\n",
        "fold_train_accuracies = []\n",
        "fold_val_accuracies = []\n",
        "best_val_accuracy = 0.0\n",
        "best_model_state = None\n",
        "\n",
        "num_epochs = 12\n",
        "batch_size = 64\n",
        "\n",
        "for fold, (train_idx, val_idx) in enumerate(kf.split(np.arange(len(full_train_dataset)))):\n",
        "    print(f\"Fold {fold + 1}/{k}\")\n",
        "\n",
        "    # Create subsets for training and validation\n",
        "    train_subset = Subset(full_train_dataset, train_idx)\n",
        "    val_subset = Subset(full_train_dataset, val_idx)\n",
        "\n",
        "    # Create data loaders for the current fold\n",
        "    train_loader = DataLoader(train_subset, batch_size=batch_size, shuffle=True)\n",
        "    val_loader = DataLoader(val_subset, batch_size=batch_size, shuffle=False)\n",
        "\n",
        "    # Reinitialize the model and optimizer for each fold\n",
        "    mouth_net = AlexNet(mx,my)\n",
        "    mouth_net = mouth_net.to(device)  # Ensure the model is on the correct GPU/CPU\n",
        "    mouth_optimizer = torch.optim.Adam(mouth_net.parameters(), lr=0.001, weight_decay=0.0001)\n",
        "\n",
        "    # Criterion\n",
        "    criterion = nn.CrossEntropyLoss()\n",
        "\n",
        "    # Metrics for each fold\n",
        "    train_losses = []\n",
        "    val_losses = []\n",
        "    train_accuracies = []\n",
        "    val_accuracies = []\n",
        "\n",
        "    # Training for each fold\n",
        "    for epoch in range(num_epochs):\n",
        "        # Training Phase\n",
        "        mouth_net.train()\n",
        "        running_loss = 0.0\n",
        "        correct = 0\n",
        "        total = 0\n",
        "\n",
        "        for data in tqdm(train_loader, desc=f\"Training Fold {fold + 1}, Epoch {epoch + 1}\", unit=\"batch\"):\n",
        "            inputs, labels = data\n",
        "            inputs, labels = inputs.to(device), labels.to(device)\n",
        "\n",
        "            # Zero the gradients\n",
        "            mouth_optimizer.zero_grad()\n",
        "\n",
        "            # Forward pass\n",
        "            outputs = mouth_net(inputs)\n",
        "            loss = criterion(outputs, labels)\n",
        "            loss.backward()\n",
        "            mouth_optimizer.step()\n",
        "\n",
        "            running_loss += loss.item()\n",
        "\n",
        "            # Accuracy\n",
        "            _, predicted = torch.max(outputs, 1)\n",
        "            total += labels.size(0)\n",
        "            correct += (predicted == labels).sum().item()\n",
        "\n",
        "        avg_train_loss = running_loss / len(train_loader)\n",
        "        train_accuracy = correct / total\n",
        "        train_losses.append(avg_train_loss)\n",
        "        train_accuracies.append(train_accuracy)\n",
        "\n",
        "        print(f\"Fold {fold + 1}, Epoch {epoch + 1}, Train Loss: {avg_train_loss:.4f}, Train Accuracy: {train_accuracy:.4f}\")\n",
        "\n",
        "        # Validation Phase\n",
        "        mouth_net.eval()\n",
        "        val_running_loss = 0.0\n",
        "        correct = 0\n",
        "        total = 0\n",
        "\n",
        "        with torch.no_grad():\n",
        "            for data in tqdm(val_loader, desc=f\"Validating Fold {fold + 1}, Epoch {epoch + 1}\", unit=\"batch\"):\n",
        "                inputs, labels = data\n",
        "                inputs, labels = inputs.to(device), labels.to(device)\n",
        "\n",
        "                outputs = mouth_net(inputs)\n",
        "                loss = criterion(outputs, labels)\n",
        "\n",
        "                val_running_loss += loss.item()\n",
        "\n",
        "                # Accuracy\n",
        "                _, predicted = torch.max(outputs, 1)\n",
        "                total += labels.size(0)\n",
        "                correct += (predicted == labels).sum().item()\n",
        "\n",
        "        avg_val_loss = val_running_loss / len(val_loader)\n",
        "        val_accuracy = correct / total\n",
        "        val_losses.append(avg_val_loss)\n",
        "        val_accuracies.append(val_accuracy)\n",
        "\n",
        "        if val_accuracy > best_val_accuracy:\n",
        "            best_val_accuracy = val_accuracy\n",
        "            best_model_state = mouth_net.state_dict()\n",
        "            print(f\"New best model saved with Val Accuracy: {best_val_accuracy:.4f}\")\n",
        "        print(f\"Fold {fold + 1}, Epoch {epoch + 1}, Val Loss: {avg_val_loss:.4f}, Val Accuracy: {val_accuracy:.4f}\")\n",
        "\n",
        "    # Save results for the current fold\n",
        "    fold_train_losses.append(train_losses)\n",
        "    fold_val_losses.append(val_losses)\n",
        "    fold_train_accuracies.append(train_accuracies)\n",
        "    fold_val_accuracies.append(val_accuracies)\n",
        "\n",
        "torch.save(best_model_state, \"best_mouth_net.pth\")\n",
        "\n",
        "# Calculate the average metrics across all folds\n",
        "mean_train_loss = np.mean([np.mean(fold) for fold in fold_train_losses])\n",
        "mean_val_loss = np.mean([np.mean(fold) for fold in fold_val_losses])\n",
        "mean_train_accuracy = np.mean([np.mean(fold) for fold in fold_train_accuracies])\n",
        "mean_val_accuracy = np.mean([np.mean(fold) for fold in fold_val_accuracies])\n",
        "\n",
        "print(f\"Average Training Loss: {mean_train_loss:.4f}\")\n",
        "print(f\"Average Validation Loss: {mean_val_loss:.4f}\")\n",
        "print(f\"Average Training Accuracy: {mean_train_accuracy:.4f}\")\n",
        "print(f\"Average Validation Accuracy: {mean_val_accuracy:.4f}\")"
      ]
    },
    {
      "cell_type": "code",
      "execution_count": 7,
      "metadata": {
        "colab": {
          "base_uri": "https://localhost:8080/",
          "height": 958
        },
        "id": "kV3v71eK9u-U",
        "outputId": "da672098-b5dd-4c59-d94f-378d7fe77939"
      },
      "outputs": [
        {
          "name": "stderr",
          "output_type": "stream",
          "text": [
            "<ipython-input-7-be8757afd338>:4: FutureWarning: You are using `torch.load` with `weights_only=False` (the current default value), which uses the default pickle module implicitly. It is possible to construct malicious pickle data which will execute arbitrary code during unpickling (See https://github.com/pytorch/pytorch/blob/main/SECURITY.md#untrusted-models for more details). In a future release, the default value for `weights_only` will be flipped to `True`. This limits the functions that could be executed during unpickling. Arbitrary objects will no longer be allowed to be loaded via this mode unless they are explicitly allowlisted by the user via `torch.serialization.add_safe_globals`. We recommend you start setting `weights_only=True` for any use case where you don't have full control of the loaded file. Please open an issue on GitHub for any issues related to this experimental feature.\n",
            "  mouth_net.load_state_dict(torch.load(\"best_mouth_net.pth\"))\n"
          ]
        },
        {
          "data": {
            "image/png": "[encoded data removed]",
            "text/plain": [
              "<Figure size 1000x700 with 2 Axes>"
            ]
          },
          "metadata": {},
          "output_type": "display_data"
        },
        {
          "name": "stdout",
          "output_type": "stream",
          "text": [
            "\n",
            "Classification Report:\n",
            "              precision    recall  f1-score   support\n",
            "\n",
            "       White       0.66      0.79      0.72      2018\n",
            "       Black       0.71      0.81      0.76       927\n",
            "       Asian       0.56      0.21      0.31       670\n",
            "      Indian       0.45      0.59      0.51       802\n",
            "      Others       0.00      0.00      0.00       359\n",
            "\n",
            "    accuracy                           0.62      4776\n",
            "   macro avg       0.48      0.48      0.46      4776\n",
            "weighted avg       0.57      0.62      0.58      4776\n",
            "\n"
          ]
        }
      ],
      "source": [
        "all_labels = []\n",
        "all_preds = []\n",
        "mouth_net = AlexNet(mx,my)\n",
        "mouth_net.load_state_dict(torch.load(\"best_mouth_net.pth\"))\n",
        "mouth_net = mouth_net.to(device)\n",
        "\n",
        "with torch.no_grad():\n",
        "    for data in test_loader:\n",
        "        images, labels = data\n",
        "        images, labels = images.to(device), labels.to(device)\n",
        "\n",
        "        outputs = mouth_net(images)\n",
        "        _, predicted = torch.max(outputs.data, 1)\n",
        "        all_labels.extend(labels.cpu().numpy())\n",
        "        all_preds.extend(predicted.cpu().numpy())\n",
        "\n",
        "conf_matrix = confusion_matrix(all_labels, all_preds)\n",
        "\n",
        "plt.figure(figsize=(10, 7))\n",
        "sns.heatmap(conf_matrix, annot=True, fmt='d', cmap='Blues', xticklabels=class_names, yticklabels=class_names)\n",
        "\n",
        "plt.title('Confusion Matrix', fontsize=16)\n",
        "plt.xlabel('Predicted Labels', fontsize=14)\n",
        "plt.ylabel('True Labels', fontsize=14)\n",
        "plt.xticks(fontsize=12)\n",
        "plt.yticks(fontsize=12)\n",
        "\n",
        "plt.show()\n",
        "\n",
        "print(\"\\nClassification Report:\")\n",
        "print(classification_report(all_labels, all_preds, target_names=class_names, zero_division=0))"
      ]
    }
  ],
  "metadata": {
    "accelerator": "GPU",
    "colab": {
      "gpuType": "T4",
      "provenance": []
    },
    "kernelspec": {
      "display_name": "Python 3",
      "name": "python3"
    },
    "language_info": {
      "name": "python"
    }
  },
  "nbformat": 4,
  "nbformat_minor": 0
}
