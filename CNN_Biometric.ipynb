{
  "cells": [
    {
      "cell_type": "code",
      "execution_count": 1,
      "metadata": {
        "colab": {
          "base_uri": "https://localhost:8080/"
        },
        "id": "3AuMVkGrOLz8",
        "outputId": "43d5eaf3-0981-4983-f3e0-1a593a0895ce"
      },
      "outputs": [
        {
          "name": "stdout",
          "output_type": "stream",
          "text": [
            "Requirement already satisfied: gdown in /usr/local/lib/python3.10/dist-packages (5.2.0)\n",
            "Requirement already satisfied: beautifulsoup4 in /usr/local/lib/python3.10/dist-packages (from gdown) (4.12.3)\n",
            "Requirement already satisfied: filelock in /usr/local/lib/python3.10/dist-packages (from gdown) (3.16.1)\n",
            "Requirement already satisfied: requests[socks] in /usr/local/lib/python3.10/dist-packages (from gdown) (2.32.3)\n",
            "Requirement already satisfied: tqdm in /usr/local/lib/python3.10/dist-packages (from gdown) (4.67.1)\n",
            "Requirement already satisfied: soupsieve>1.2 in /usr/local/lib/python3.10/dist-packages (from beautifulsoup4->gdown) (2.6)\n",
            "Requirement already satisfied: charset-normalizer<4,>=2 in /usr/local/lib/python3.10/dist-packages (from requests[socks]->gdown) (3.4.0)\n",
            "Requirement already satisfied: idna<4,>=2.5 in /usr/local/lib/python3.10/dist-packages (from requests[socks]->gdown) (3.10)\n",
            "Requirement already satisfied: urllib3<3,>=1.21.1 in /usr/local/lib/python3.10/dist-packages (from requests[socks]->gdown) (2.2.3)\n",
            "Requirement already satisfied: certifi>=2017.4.17 in /usr/local/lib/python3.10/dist-packages (from requests[socks]->gdown) (2024.12.14)\n",
            "Requirement already satisfied: PySocks!=1.5.7,>=1.5.6 in /usr/local/lib/python3.10/dist-packages (from requests[socks]->gdown) (1.7.1)\n",
            "Requirement already satisfied: tqdm in /usr/local/lib/python3.10/dist-packages (4.67.1)\n"
          ]
        },
        {
          "data": {
            "text/plain": [
              "['/content/Dataset/AlexNet.py',\n",
              " '/content/Dataset/custom_cnn.py',\n",
              " '/content/Dataset/Dataset_resized.zip']"
            ]
          },
          "execution_count": 1,
          "metadata": {},
          "output_type": "execute_result"
        }
      ],
      "source": [
        "%pip install gdown\n",
        "%pip install tqdm\n",
        "import gdown\n",
        "\n",
        "url = \"https://drive.google.com/drive/folders/1iYO-Kwh4RFq6mm5UNPTRO7te8T6jOA6f?usp=drive_link\"\n",
        "gdown.download_folder(url, quiet=True)"
      ]
    },
    {
      "cell_type": "code",
      "execution_count": 2,
      "metadata": {
        "colab": {
          "base_uri": "https://localhost:8080/"
        },
        "id": "OmbewJL_PSOa",
        "outputId": "c7c70493-bea8-4303-8c5d-0d51f95c2a3c"
      },
      "outputs": [
        {
          "name": "stdout",
          "output_type": "stream",
          "text": [
            "File zip Dataset/Dataset_resized.zip estratto e rimosso.\n",
            "Processo completato!\n"
          ]
        }
      ],
      "source": [
        "import os\n",
        "import zipfile\n",
        "import shutil\n",
        "from tqdm import tqdm\n",
        "from collections import defaultdict\n",
        "from sklearn.model_selection import train_test_split\n",
        "import torch.nn as nn\n",
        "import torch.optim as optim\n",
        "from PIL import Image\n",
        "from torchvision import datasets, transforms, models\n",
        "from torch.utils.data import DataLoader, random_split, Dataset\n",
        "import matplotlib.pyplot as plt\n",
        "import numpy as np\n",
        "import torch\n",
        "\n",
        "\n",
        "# Percorso della cartella Project_Biometric/Dataset\n",
        "dataset_path = \"Dataset\"\n",
        "\n",
        "# Funzione per estrarre i file zip e rimuoverli\n",
        "def extract_and_remove_zip(zip_path, extract_to):\n",
        "    \"\"\"\n",
        "    Estrae il contenuto di un file zip e poi elimina il file zip.\n",
        "    Args:\n",
        "        zip_path (str): percorso del file zip da estrarre.\n",
        "        extract_to (str): cartella di destinazione in cui estrarre i file.\n",
        "    \"\"\"\n",
        "    with zipfile.ZipFile(zip_path, 'r') as zip_ref:\n",
        "        zip_ref.extractall(extract_to)\n",
        "    os.remove(zip_path)  # Rimuove il file zip dopo l'estrazione\n",
        "    print(f\"File zip {zip_path} estratto e rimosso.\")\n",
        "\n",
        "# Estrai e rimuovi i file ZIP nella cartella dataset\n",
        "zip_files = [f for f in os.listdir(dataset_path) if f.endswith('.zip')]\n",
        "for zip_file in zip_files:\n",
        "    zip_path = os.path.join(dataset_path, zip_file)\n",
        "    extract_and_remove_zip(zip_path, dataset_path)\n",
        "\n",
        "# Funzione per analizzare il nome del file\n",
        "# def parse_filename(filename):\n",
        "#     parts = filename.split(\"_\")\n",
        "#     object_type = parts[0]  # Nome oggetto (es. nose, mouth, eyes)\n",
        "#     age = parts[1]          # Età\n",
        "#     gender = parts[2]       # Sesso\n",
        "#     ethnicity = parts[3]    # Etnia\n",
        "#     return object_type, age, gender, ethnicity\n",
        "\n",
        "# dataset_path = \"Dataset/Dataset_resized\"\n",
        "\n",
        "# # Processa ogni sottocartella (ad esempio eyes, mouth, nose)\n",
        "# for folder in os.listdir(dataset_path):\n",
        "#     folder_path = os.path.join(dataset_path, folder)\n",
        "\n",
        "#     # Procedi solo se è una directory\n",
        "#     if os.path.isdir(folder_path):\n",
        "#         print(f\"Elaborazione della cartella: {folder}\")\n",
        "\n",
        "#         # Crea le sottocartelle train e test\n",
        "#         train_folder = os.path.join(folder_path, \"train\")\n",
        "#         test_folder = os.path.join(folder_path, \"test\")\n",
        "#         os.makedirs(train_folder, exist_ok=True)\n",
        "#         os.makedirs(test_folder, exist_ok=True)\n",
        "\n",
        "#         # Raggruppa i file in base a età ed etnia\n",
        "#         file_groups = defaultdict(list)\n",
        "#         files = [f for f in os.listdir(folder_path) if f.endswith(\".jpg\")]\n",
        "\n",
        "#         # Raggruppa per età ed etnia\n",
        "#         for file in files:\n",
        "#             file_path = os.path.join(folder_path, file)\n",
        "#             try:\n",
        "#                 object_type, age, gender, ethnicity = parse_filename(file)\n",
        "#                 if object_type and age and gender and ethnicity:\n",
        "#                     file_groups[(age, ethnicity)].append(file)\n",
        "#                 else:\n",
        "#                     print(f\"File non valido (parametri mancanti): {file}. Eliminazione...\")\n",
        "#                     os.remove(file_path)  # Elimina file non valido\n",
        "#             except IndexError:\n",
        "#                 print(f\"File non conforme al formato: {file}. Eliminazione...\")\n",
        "#                 os.remove(file_path)  # Elimina file non conforme\n",
        "\n",
        "#         # Suddividi i file in modo bilanciato tra train e test\n",
        "#         train_files = []\n",
        "#         test_files = []\n",
        "\n",
        "#         for group, group_files in file_groups.items():\n",
        "#             if len(group_files) == 1:\n",
        "#                 # Se c'è solo un file, assegnalo al training set\n",
        "#                 train_files.extend(group_files)\n",
        "#             else:\n",
        "#                 # Altrimenti, suddividi il gruppo in train e test (80% train, 20% test)\n",
        "#                 train, test = train_test_split(group_files, test_size=0.2, random_state=42)\n",
        "#                 train_files.extend(train)\n",
        "#                 test_files.extend(test)\n",
        "\n",
        "#         # Sposta i file nelle rispettive cartelle train e test\n",
        "#         for file in train_files:\n",
        "#             shutil.move(os.path.join(folder_path, file), os.path.join(train_folder, file))\n",
        "\n",
        "#         for file in test_files:\n",
        "#             shutil.move(os.path.join(folder_path, file), os.path.join(test_folder, file))\n",
        "\n",
        "# # Comprime l'intera directory in un file zip\n",
        "# zip_path = f\"{dataset_path}.zip\"\n",
        "# print(f\"Compressione della cartella principale in: {zip_path}\")\n",
        "# shutil.make_archive(dataset_path, 'zip', dataset_path)\n",
        "\n",
        "print(\"Processo completato!\")\n",
        "\n",
        "\n"
      ]
    },
    {
      "cell_type": "markdown",
      "metadata": {
        "id": "TMJOTsQy2nqT"
      },
      "source": [
        "**Conteggio numero immagini per ogni set**"
      ]
    },
    {
      "cell_type": "code",
      "execution_count": 3,
      "metadata": {
        "colab": {
          "base_uri": "https://localhost:8080/"
        },
        "id": "pbmxURG1p1yz",
        "outputId": "8e534aef-5158-41ca-fa77-5b54e075385d"
      },
      "outputs": [
        {
          "name": "stdout",
          "output_type": "stream",
          "text": [
            "Cartella 'mouth':\n",
            "  Train set: 18255 file\n",
            "  Test set: 4776 file\n",
            "Cartella 'nose':\n",
            "  Train set: 18255 file\n",
            "  Test set: 4776 file\n",
            "Cartella 'eyes':\n",
            "  Train set: 18255 file\n",
            "  Test set: 4776 file\n",
            "Cartella '__pycache__':\n",
            "  Train set: 0 file\n",
            "  Test set: 0 file\n"
          ]
        }
      ],
      "source": [
        "dataset_path = \"Dataset\"\n",
        "for folder in os.listdir(dataset_path):\n",
        "    folder_path = os.path.join(dataset_path, folder)\n",
        "\n",
        "    # Procedi solo se è una directory\n",
        "    if os.path.isdir(folder_path):\n",
        "        train_folder = os.path.join(folder_path, \"train\")\n",
        "        test_folder = os.path.join(folder_path, \"test\")\n",
        "\n",
        "        train_count = len([f for f in os.listdir(train_folder) if os.path.isfile(os.path.join(train_folder, f))]) if os.path.exists(train_folder) else 0\n",
        "        test_count = len([f for f in os.listdir(test_folder) if os.path.isfile(os.path.join(test_folder, f))]) if os.path.exists(test_folder) else 0\n",
        "\n",
        "        print(f\"Cartella '{folder}':\")\n",
        "        print(f\"  Train set: {train_count} file\")\n",
        "        print(f\"  Test set: {test_count} file\")"
      ]
    },
    {
      "cell_type": "code",
      "execution_count": 4,
      "metadata": {
        "colab": {
          "base_uri": "https://localhost:8080/"
        },
        "id": "sjt1L2IxWeTz",
        "outputId": "0cf2034b-323f-4d62-e62f-0b41602ec957"
      },
      "outputs": [
        {
          "name": "stdout",
          "output_type": "stream",
          "text": [
            "Using device: cuda\n"
          ]
        }
      ],
      "source": [
        "# Check if GPU is available\n",
        "device = torch.device('cuda' if torch.cuda.is_available() else 'cpu')\n",
        "print(f'Using device: {device}')"
      ]
    },
    {
      "cell_type": "code",
      "execution_count": 5,
      "metadata": {
        "id": "Lh0Zvz423z4-"
      },
      "outputs": [],
      "source": [
        "# Impostare la trasformazione\n",
        "transform_eyes = transforms.Compose([\n",
        "    transforms.Resize((44, 266)),  # Cambia dimensione a (altezza, larghezza)\n",
        "    transforms.ToTensor(),        # Converte l'immagine in tensor\n",
        "    transforms.Normalize(mean=[0.5, 0.5, 0.5], std=[0.5, 0.5, 0.5])  # Normalizzazione\n",
        "])\n",
        "\n",
        "# Transform per il naso (108x170)\n",
        "transform_nose = transforms.Compose([\n",
        "    transforms.Resize((170, 108)),  # Cambia dimensione a (altezza, larghezza)\n",
        "    transforms.ToTensor(),         # Converte l'immagine in tensor\n",
        "    transforms.Normalize(mean=[0.5, 0.5, 0.5], std=[0.5, 0.5, 0.5])  # Normalizzazione\n",
        "])\n",
        "\n",
        "# Transform per la bocca (193x89)\n",
        "transform_mouth = transforms.Compose([\n",
        "    transforms.Resize((89, 193)),  # Cambia dimensione a (altezza, larghezza)\n",
        "    transforms.ToTensor(),        # Converte l'immagine in tensor\n",
        "    transforms.Normalize(mean=[0.5, 0.5, 0.5], std=[0.5, 0.5, 0.5])  # Normalizzazione\n",
        "])\n",
        "\n",
        "# Dataset personalizzato\n",
        "class EthnicityDataset(Dataset):\n",
        "    def __init__(self, root_dir, transform=None):\n",
        "        self.root_dir = root_dir\n",
        "        self.transform = transform\n",
        "        self.images = []\n",
        "        self.labels = []\n",
        "\n",
        "        # Scansione della cartella per ottenere i file\n",
        "        for filename in os.listdir(root_dir):\n",
        "            if filename.endswith(\".jpg\") or filename.endswith(\".png\"):  # Considerando immagini .jpg e .png\n",
        "                self.images.append(filename)\n",
        "\n",
        "                # Estraiamo l'etnia dalla parte finale del nome del file\n",
        "                # esempio: eyes_100_1_0_20170112213001988\n",
        "                parts = filename.split('_')\n",
        "                if len(parts) >= 4:\n",
        "                    label = parts[3]  # L'etnia è il quarto elemento (indice 3)\n",
        "                    label_map = {\"0\": 0, \"1\": 1, \"2\": 2, \"3\": 3, \"4\": 4}  # Mappatura delle etnie\n",
        "                    self.labels.append(label_map.get(label, -1))  # -1 se l'etnia non è trovata\n",
        "\n",
        "    def __len__(self):\n",
        "        return len(self.images)\n",
        "\n",
        "    def __getitem__(self, idx):\n",
        "        image_name = self.images[idx]\n",
        "        image_path = os.path.join(self.root_dir, image_name)\n",
        "\n",
        "        try:\n",
        "            image = Image.open(image_path)\n",
        "        except Exception as e:\n",
        "            print(f\"Errore nel caricamento dell'immagine {image_path}: {e}\")\n",
        "            return None, None\n",
        "\n",
        "        if self.transform:\n",
        "            image = self.transform(image)\n",
        "\n",
        "        label = self.labels[idx]\n",
        "\n",
        "        # Aggiungi un controllo se l'etichetta è corretta\n",
        "        if label == -1:\n",
        "            print(f\"Errore: etichetta non trovata per {image_name}\")\n",
        "\n",
        "        return image, label"
      ]
    },
    {
      "cell_type": "code",
      "execution_count": 6,
      "metadata": {
        "id": "Yp9HKRYlu8DB"
      },
      "outputs": [],
      "source": [
        "from Dataset.custom_cnn import CNN\n",
        "from Dataset.AlexNet import AlexNet\n",
        "from sklearn.metrics import classification_report, confusion_matrix\n",
        "from sklearn.model_selection import KFold\n",
        "from torch.utils.data import Subset\n",
        "import seaborn as sns\n",
        "import matplotlib.pyplot as plt\n",
        "import math\n",
        "\n",
        "def get_output_size(x, y):\n",
        "    # Layer 1 (Conv2d + MaxPool2d)\n",
        "    x1 = math.floor((x - 11) / 4) + 1  # Dopo Conv2d\n",
        "    x1 = math.floor(x1 / 2)  # Dopo MaxPool2d\n",
        "    y1 = math.floor((y - 11) / 4) + 1  # Dopo Conv2d\n",
        "    y1 = math.floor(y1 / 2)  # Dopo MaxPool2d\n",
        "\n",
        "    # Layer 2 (Conv2d + MaxPool2d)\n",
        "    x2 = math.floor((x1 - 5 + 2 * 2) / 1) + 1  # Dopo Conv2d (kernel 5, stride 1, padding 2)\n",
        "    x2 = math.floor(x2 / 2)  # Dopo MaxPool2d\n",
        "    y2 = math.floor((y1 - 5 + 2 * 2) / 1) + 1  # Dopo Conv2d\n",
        "    y2 = math.floor(y2 / 2)  # Dopo MaxPool2d\n",
        "\n",
        "    # Layer 3 (Conv2d, senza pooling)\n",
        "    x3 = x2  # La dimensione non cambia\n",
        "    y3 = y2  # La dimensione non cambia\n",
        "\n",
        "    # Layer 4 (Conv2d, senza pooling)\n",
        "    x4 = x3  # La dimensione non cambia\n",
        "    y4 = y3  # La dimensione non cambia\n",
        "\n",
        "    # Layer 5 (Conv2d, senza MaxPool2d)\n",
        "    x_out = x4\n",
        "    y_out = y4\n",
        "\n",
        "    return x_out, y_out\n",
        "\n",
        "ex = 266\n",
        "ey = 44\n",
        "nx = 108\n",
        "ny = 170\n",
        "my = 89\n",
        "mx = 193\n",
        "\n",
        "ex, ey = get_output_size(ex, ey)\n",
        "nx, ny = get_output_size(nx, ny)\n",
        "mx, my = get_output_size(mx, my)\n",
        "\n",
        "e_x = 16\n",
        "e_y = 2\n",
        "n_x = 6\n",
        "n_y = 10\n",
        "m_x = 12\n",
        "m_y = 5\n",
        "\n",
        "hid_1 = 64\n",
        "hid_2 = 64\n",
        "hid_3 = 128\n",
        "hid_4 = 128\n",
        "hid_5 = 128\n",
        "hid_6 = 128\n",
        "drop_1 = 0.2\n",
        "drop_2 = 0.5\n",
        "\n",
        "eyes_net = CNN(hid_1, hid_2, hid_3, hid_4, hid_5, hid_6, e_x, e_y, drop_1, drop_2)\n",
        "nose_net = CNN(hid_1, hid_2, hid_3, hid_4, hid_5, hid_6, n_x, n_y, drop_1, drop_2)\n",
        "mouth_net = CNN(hid_1, hid_2, hid_3, hid_4, hid_5, hid_6, m_x, m_y, drop_1, drop_2)\n",
        "\n",
        "# eyes_net = AlexNet(ex,ey)\n",
        "# nose_net = AlexNet(nx,ny)\n",
        "# mouth_net = AlexNet(mx,my)\n",
        "\n",
        "class_names = [\"White\", \"Black\", \"Asian\", \"Indian\", \"Others\"]"
      ]
    },
    {
      "cell_type": "markdown",
      "metadata": {
        "id": "5Dkmi8jNsoKr"
      },
      "source": [
        "**EYES TRAINING VALIDATION AND TEST**"
      ]
    },
    {
      "cell_type": "code",
      "execution_count": 7,
      "metadata": {
        "colab": {
          "base_uri": "https://localhost:8080/"
        },
        "id": "9Wj4z1i5Uuth",
        "outputId": "d14d9457-74b1-43ce-cfc5-2c8342ec177e"
      },
      "outputs": [
        {
          "name": "stdout",
          "output_type": "stream",
          "text": [
            "Fold 1/5\n"
          ]
        },
        {
          "name": "stderr",
          "output_type": "stream",
          "text": [
            "Training Fold 1, Epoch 1: 100%|██████████| 457/457 [00:35<00:00, 12.76batch/s]\n"
          ]
        },
        {
          "name": "stdout",
          "output_type": "stream",
          "text": [
            "Fold 1, Epoch 1, Train Loss: 1.1721, Train Accuracy: 0.5620\n"
          ]
        },
        {
          "name": "stderr",
          "output_type": "stream",
          "text": [
            "Validating Fold 1, Epoch 1: 100%|██████████| 115/115 [00:03<00:00, 31.99batch/s]\n"
          ]
        },
        {
          "name": "stdout",
          "output_type": "stream",
          "text": [
            "Fold 1, Epoch 1, Val Loss: 1.0862, Val Accuracy: 0.5974\n",
            "Validation loss improved from inf to 1.0862. Saving model...\n"
          ]
        },
        {
          "name": "stderr",
          "output_type": "stream",
          "text": [
            "Training Fold 1, Epoch 2: 100%|██████████| 457/457 [00:23<00:00, 19.71batch/s]\n"
          ]
        },
        {
          "name": "stdout",
          "output_type": "stream",
          "text": [
            "Fold 1, Epoch 2, Train Loss: 0.9714, Train Accuracy: 0.6389\n"
          ]
        },
        {
          "name": "stderr",
          "output_type": "stream",
          "text": [
            "Validating Fold 1, Epoch 2: 100%|██████████| 115/115 [00:03<00:00, 32.97batch/s]\n"
          ]
        },
        {
          "name": "stdout",
          "output_type": "stream",
          "text": [
            "Fold 1, Epoch 2, Val Loss: 1.0580, Val Accuracy: 0.6193\n",
            "Validation loss improved from 1.0862 to 1.0580. Saving model...\n"
          ]
        },
        {
          "name": "stderr",
          "output_type": "stream",
          "text": [
            "Training Fold 1, Epoch 3: 100%|██████████| 457/457 [00:23<00:00, 19.66batch/s]\n"
          ]
        },
        {
          "name": "stdout",
          "output_type": "stream",
          "text": [
            "Fold 1, Epoch 3, Train Loss: 0.9067, Train Accuracy: 0.6672\n"
          ]
        },
        {
          "name": "stderr",
          "output_type": "stream",
          "text": [
            "Validating Fold 1, Epoch 3: 100%|██████████| 115/115 [00:03<00:00, 32.25batch/s]\n"
          ]
        },
        {
          "name": "stdout",
          "output_type": "stream",
          "text": [
            "Fold 1, Epoch 3, Val Loss: 0.9209, Val Accuracy: 0.6730\n",
            "Validation loss improved from 1.0580 to 0.9209. Saving model...\n"
          ]
        },
        {
          "name": "stderr",
          "output_type": "stream",
          "text": [
            "Training Fold 1, Epoch 4: 100%|██████████| 457/457 [00:24<00:00, 18.88batch/s]\n"
          ]
        },
        {
          "name": "stdout",
          "output_type": "stream",
          "text": [
            "Fold 1, Epoch 4, Train Loss: 0.8536, Train Accuracy: 0.6902\n"
          ]
        },
        {
          "name": "stderr",
          "output_type": "stream",
          "text": [
            "Validating Fold 1, Epoch 4: 100%|██████████| 115/115 [00:03<00:00, 28.86batch/s]\n"
          ]
        },
        {
          "name": "stdout",
          "output_type": "stream",
          "text": [
            "Fold 1, Epoch 4, Val Loss: 0.8317, Val Accuracy: 0.7094\n",
            "Validation loss improved from 0.9209 to 0.8317. Saving model...\n"
          ]
        },
        {
          "name": "stderr",
          "output_type": "stream",
          "text": [
            "Training Fold 1, Epoch 5: 100%|██████████| 457/457 [00:23<00:00, 19.77batch/s]\n"
          ]
        },
        {
          "name": "stdout",
          "output_type": "stream",
          "text": [
            "Fold 1, Epoch 5, Train Loss: 0.8105, Train Accuracy: 0.7041\n"
          ]
        },
        {
          "name": "stderr",
          "output_type": "stream",
          "text": [
            "Validating Fold 1, Epoch 5: 100%|██████████| 115/115 [00:04<00:00, 27.22batch/s]\n"
          ]
        },
        {
          "name": "stdout",
          "output_type": "stream",
          "text": [
            "Fold 1, Epoch 5, Val Loss: 0.9218, Val Accuracy: 0.6820\n",
            "No improvement for 1 epochs.\n"
          ]
        },
        {
          "name": "stderr",
          "output_type": "stream",
          "text": [
            "Training Fold 1, Epoch 6: 100%|██████████| 457/457 [00:23<00:00, 19.81batch/s]\n"
          ]
        },
        {
          "name": "stdout",
          "output_type": "stream",
          "text": [
            "Fold 1, Epoch 6, Train Loss: 0.7691, Train Accuracy: 0.7187\n"
          ]
        },
        {
          "name": "stderr",
          "output_type": "stream",
          "text": [
            "Validating Fold 1, Epoch 6: 100%|██████████| 115/115 [00:04<00:00, 27.63batch/s]\n"
          ]
        },
        {
          "name": "stdout",
          "output_type": "stream",
          "text": [
            "Fold 1, Epoch 6, Val Loss: 0.8501, Val Accuracy: 0.7020\n",
            "No improvement for 2 epochs.\n"
          ]
        },
        {
          "name": "stderr",
          "output_type": "stream",
          "text": [
            "Training Fold 1, Epoch 7: 100%|██████████| 457/457 [00:23<00:00, 19.69batch/s]\n"
          ]
        },
        {
          "name": "stdout",
          "output_type": "stream",
          "text": [
            "Fold 1, Epoch 7, Train Loss: 0.7318, Train Accuracy: 0.7392\n"
          ]
        },
        {
          "name": "stderr",
          "output_type": "stream",
          "text": [
            "Validating Fold 1, Epoch 7: 100%|██████████| 115/115 [00:03<00:00, 30.75batch/s]\n"
          ]
        },
        {
          "name": "stdout",
          "output_type": "stream",
          "text": [
            "Fold 1, Epoch 7, Val Loss: 0.7792, Val Accuracy: 0.7256\n",
            "Validation loss improved from 0.8317 to 0.7792. Saving model...\n"
          ]
        },
        {
          "name": "stderr",
          "output_type": "stream",
          "text": [
            "Training Fold 1, Epoch 8: 100%|██████████| 457/457 [00:23<00:00, 19.63batch/s]\n"
          ]
        },
        {
          "name": "stdout",
          "output_type": "stream",
          "text": [
            "Fold 1, Epoch 8, Train Loss: 0.7008, Train Accuracy: 0.7469\n"
          ]
        },
        {
          "name": "stderr",
          "output_type": "stream",
          "text": [
            "Validating Fold 1, Epoch 8: 100%|██████████| 115/115 [00:03<00:00, 32.79batch/s]\n"
          ]
        },
        {
          "name": "stdout",
          "output_type": "stream",
          "text": [
            "Fold 1, Epoch 8, Val Loss: 0.7855, Val Accuracy: 0.7275\n",
            "No improvement for 1 epochs.\n"
          ]
        },
        {
          "name": "stderr",
          "output_type": "stream",
          "text": [
            "Training Fold 1, Epoch 9: 100%|██████████| 457/457 [00:23<00:00, 19.64batch/s]\n"
          ]
        },
        {
          "name": "stdout",
          "output_type": "stream",
          "text": [
            "Fold 1, Epoch 9, Train Loss: 0.6632, Train Accuracy: 0.7605\n"
          ]
        },
        {
          "name": "stderr",
          "output_type": "stream",
          "text": [
            "Validating Fold 1, Epoch 9: 100%|██████████| 115/115 [00:03<00:00, 32.23batch/s]\n"
          ]
        },
        {
          "name": "stdout",
          "output_type": "stream",
          "text": [
            "Fold 1, Epoch 9, Val Loss: 0.8369, Val Accuracy: 0.6984\n",
            "No improvement for 2 epochs.\n"
          ]
        },
        {
          "name": "stderr",
          "output_type": "stream",
          "text": [
            "Training Fold 1, Epoch 10: 100%|██████████| 457/457 [00:23<00:00, 19.62batch/s]\n"
          ]
        },
        {
          "name": "stdout",
          "output_type": "stream",
          "text": [
            "Fold 1, Epoch 10, Train Loss: 0.6269, Train Accuracy: 0.7742\n"
          ]
        },
        {
          "name": "stderr",
          "output_type": "stream",
          "text": [
            "Validating Fold 1, Epoch 10: 100%|██████████| 115/115 [00:03<00:00, 32.29batch/s]\n"
          ]
        },
        {
          "name": "stdout",
          "output_type": "stream",
          "text": [
            "Fold 1, Epoch 10, Val Loss: 0.7614, Val Accuracy: 0.7387\n",
            "Validation loss improved from 0.7792 to 0.7614. Saving model...\n",
            "Fold 2/5\n"
          ]
        },
        {
          "name": "stderr",
          "output_type": "stream",
          "text": [
            "Training Fold 2, Epoch 1: 100%|██████████| 457/457 [00:23<00:00, 19.57batch/s]\n"
          ]
        },
        {
          "name": "stdout",
          "output_type": "stream",
          "text": [
            "Fold 2, Epoch 1, Train Loss: 0.6623, Train Accuracy: 0.7640\n"
          ]
        },
        {
          "name": "stderr",
          "output_type": "stream",
          "text": [
            "Validating Fold 2, Epoch 1: 100%|██████████| 115/115 [00:03<00:00, 32.11batch/s]\n"
          ]
        },
        {
          "name": "stdout",
          "output_type": "stream",
          "text": [
            "Fold 2, Epoch 1, Val Loss: 0.6098, Val Accuracy: 0.7773\n",
            "Validation loss improved from inf to 0.6098. Saving model...\n"
          ]
        },
        {
          "name": "stderr",
          "output_type": "stream",
          "text": [
            "Training Fold 2, Epoch 2: 100%|██████████| 457/457 [00:23<00:00, 19.66batch/s]\n"
          ]
        },
        {
          "name": "stdout",
          "output_type": "stream",
          "text": [
            "Fold 2, Epoch 2, Train Loss: 0.5969, Train Accuracy: 0.7873\n"
          ]
        },
        {
          "name": "stderr",
          "output_type": "stream",
          "text": [
            "Validating Fold 2, Epoch 2: 100%|██████████| 115/115 [00:03<00:00, 32.49batch/s]\n"
          ]
        },
        {
          "name": "stdout",
          "output_type": "stream",
          "text": [
            "Fold 2, Epoch 2, Val Loss: 0.5741, Val Accuracy: 0.7927\n",
            "Validation loss improved from 0.6098 to 0.5741. Saving model...\n"
          ]
        },
        {
          "name": "stderr",
          "output_type": "stream",
          "text": [
            "Training Fold 2, Epoch 3: 100%|██████████| 457/457 [00:23<00:00, 19.67batch/s]\n"
          ]
        },
        {
          "name": "stdout",
          "output_type": "stream",
          "text": [
            "Fold 2, Epoch 3, Train Loss: 0.5574, Train Accuracy: 0.8010\n"
          ]
        },
        {
          "name": "stderr",
          "output_type": "stream",
          "text": [
            "Validating Fold 2, Epoch 3: 100%|██████████| 115/115 [00:03<00:00, 32.43batch/s]\n"
          ]
        },
        {
          "name": "stdout",
          "output_type": "stream",
          "text": [
            "Fold 2, Epoch 3, Val Loss: 0.6209, Val Accuracy: 0.7735\n",
            "No improvement for 1 epochs.\n"
          ]
        },
        {
          "name": "stderr",
          "output_type": "stream",
          "text": [
            "Training Fold 2, Epoch 4: 100%|██████████| 457/457 [00:23<00:00, 19.70batch/s]\n"
          ]
        },
        {
          "name": "stdout",
          "output_type": "stream",
          "text": [
            "Fold 2, Epoch 4, Train Loss: 0.5086, Train Accuracy: 0.8153\n"
          ]
        },
        {
          "name": "stderr",
          "output_type": "stream",
          "text": [
            "Validating Fold 2, Epoch 4: 100%|██████████| 115/115 [00:03<00:00, 30.64batch/s]\n"
          ]
        },
        {
          "name": "stdout",
          "output_type": "stream",
          "text": [
            "Fold 2, Epoch 4, Val Loss: 0.6103, Val Accuracy: 0.7828\n",
            "No improvement for 2 epochs.\n"
          ]
        },
        {
          "name": "stderr",
          "output_type": "stream",
          "text": [
            "Training Fold 2, Epoch 5: 100%|██████████| 457/457 [00:23<00:00, 19.79batch/s]\n"
          ]
        },
        {
          "name": "stdout",
          "output_type": "stream",
          "text": [
            "Fold 2, Epoch 5, Train Loss: 0.4647, Train Accuracy: 0.8331\n"
          ]
        },
        {
          "name": "stderr",
          "output_type": "stream",
          "text": [
            "Validating Fold 2, Epoch 5: 100%|██████████| 115/115 [00:04<00:00, 27.37batch/s]\n"
          ]
        },
        {
          "name": "stdout",
          "output_type": "stream",
          "text": [
            "Fold 2, Epoch 5, Val Loss: 0.6576, Val Accuracy: 0.7612\n",
            "No improvement for 3 epochs.\n"
          ]
        },
        {
          "name": "stderr",
          "output_type": "stream",
          "text": [
            "Training Fold 2, Epoch 6: 100%|██████████| 457/457 [00:22<00:00, 19.94batch/s]\n"
          ]
        },
        {
          "name": "stdout",
          "output_type": "stream",
          "text": [
            "Fold 2, Epoch 6, Train Loss: 0.4123, Train Accuracy: 0.8527\n"
          ]
        },
        {
          "name": "stderr",
          "output_type": "stream",
          "text": [
            "Validating Fold 2, Epoch 6: 100%|██████████| 115/115 [00:04<00:00, 27.04batch/s]\n"
          ]
        },
        {
          "name": "stdout",
          "output_type": "stream",
          "text": [
            "Fold 2, Epoch 6, Val Loss: 0.6498, Val Accuracy: 0.7776\n",
            "No improvement for 4 epochs.\n",
            "Early stopping triggered at epoch 6.\n",
            "Fold 3/5\n"
          ]
        },
        {
          "name": "stderr",
          "output_type": "stream",
          "text": [
            "Training Fold 3, Epoch 1: 100%|██████████| 457/457 [00:23<00:00, 19.75batch/s]\n"
          ]
        },
        {
          "name": "stdout",
          "output_type": "stream",
          "text": [
            "Fold 3, Epoch 1, Train Loss: 0.4813, Train Accuracy: 0.8329\n"
          ]
        },
        {
          "name": "stderr",
          "output_type": "stream",
          "text": [
            "Validating Fold 3, Epoch 1: 100%|██████████| 115/115 [00:03<00:00, 28.86batch/s]\n"
          ]
        },
        {
          "name": "stdout",
          "output_type": "stream",
          "text": [
            "Fold 3, Epoch 1, Val Loss: 0.3237, Val Accuracy: 0.8866\n",
            "Validation loss improved from inf to 0.3237. Saving model...\n"
          ]
        },
        {
          "name": "stderr",
          "output_type": "stream",
          "text": [
            "Training Fold 3, Epoch 2: 100%|██████████| 457/457 [00:23<00:00, 19.60batch/s]\n"
          ]
        },
        {
          "name": "stdout",
          "output_type": "stream",
          "text": [
            "Fold 3, Epoch 2, Train Loss: 0.3950, Train Accuracy: 0.8583\n"
          ]
        },
        {
          "name": "stderr",
          "output_type": "stream",
          "text": [
            "Validating Fold 3, Epoch 2: 100%|██████████| 115/115 [00:03<00:00, 32.28batch/s]\n"
          ]
        },
        {
          "name": "stdout",
          "output_type": "stream",
          "text": [
            "Fold 3, Epoch 2, Val Loss: 0.3301, Val Accuracy: 0.8806\n",
            "No improvement for 1 epochs.\n"
          ]
        },
        {
          "name": "stderr",
          "output_type": "stream",
          "text": [
            "Training Fold 3, Epoch 3: 100%|██████████| 457/457 [00:23<00:00, 19.64batch/s]\n"
          ]
        },
        {
          "name": "stdout",
          "output_type": "stream",
          "text": [
            "Fold 3, Epoch 3, Train Loss: 0.3445, Train Accuracy: 0.8760\n"
          ]
        },
        {
          "name": "stderr",
          "output_type": "stream",
          "text": [
            "Validating Fold 3, Epoch 3: 100%|██████████| 115/115 [00:03<00:00, 32.42batch/s]\n"
          ]
        },
        {
          "name": "stdout",
          "output_type": "stream",
          "text": [
            "Fold 3, Epoch 3, Val Loss: 0.4400, Val Accuracy: 0.8392\n",
            "No improvement for 2 epochs.\n"
          ]
        },
        {
          "name": "stderr",
          "output_type": "stream",
          "text": [
            "Training Fold 3, Epoch 4: 100%|██████████| 457/457 [00:23<00:00, 19.59batch/s]\n"
          ]
        },
        {
          "name": "stdout",
          "output_type": "stream",
          "text": [
            "Fold 3, Epoch 4, Train Loss: 0.3014, Train Accuracy: 0.8911\n"
          ]
        },
        {
          "name": "stderr",
          "output_type": "stream",
          "text": [
            "Validating Fold 3, Epoch 4: 100%|██████████| 115/115 [00:03<00:00, 32.09batch/s]\n"
          ]
        },
        {
          "name": "stdout",
          "output_type": "stream",
          "text": [
            "Fold 3, Epoch 4, Val Loss: 0.4317, Val Accuracy: 0.8442\n",
            "No improvement for 3 epochs.\n"
          ]
        },
        {
          "name": "stderr",
          "output_type": "stream",
          "text": [
            "Training Fold 3, Epoch 5: 100%|██████████| 457/457 [00:23<00:00, 19.58batch/s]\n"
          ]
        },
        {
          "name": "stdout",
          "output_type": "stream",
          "text": [
            "Fold 3, Epoch 5, Train Loss: 0.2657, Train Accuracy: 0.9051\n"
          ]
        },
        {
          "name": "stderr",
          "output_type": "stream",
          "text": [
            "Validating Fold 3, Epoch 5: 100%|██████████| 115/115 [00:03<00:00, 32.19batch/s]\n"
          ]
        },
        {
          "name": "stdout",
          "output_type": "stream",
          "text": [
            "Fold 3, Epoch 5, Val Loss: 0.4924, Val Accuracy: 0.8321\n",
            "No improvement for 4 epochs.\n",
            "Early stopping triggered at epoch 5.\n",
            "Fold 4/5\n"
          ]
        },
        {
          "name": "stderr",
          "output_type": "stream",
          "text": [
            "Training Fold 4, Epoch 1: 100%|██████████| 457/457 [00:23<00:00, 19.63batch/s]\n"
          ]
        },
        {
          "name": "stdout",
          "output_type": "stream",
          "text": [
            "Fold 4, Epoch 1, Train Loss: 0.3549, Train Accuracy: 0.8749\n"
          ]
        },
        {
          "name": "stderr",
          "output_type": "stream",
          "text": [
            "Validating Fold 4, Epoch 1: 100%|██████████| 115/115 [00:03<00:00, 32.89batch/s]\n"
          ]
        },
        {
          "name": "stdout",
          "output_type": "stream",
          "text": [
            "Fold 4, Epoch 1, Val Loss: 0.1692, Val Accuracy: 0.9499\n",
            "Validation loss improved from inf to 0.1692. Saving model...\n"
          ]
        },
        {
          "name": "stderr",
          "output_type": "stream",
          "text": [
            "Training Fold 4, Epoch 2: 100%|██████████| 457/457 [00:23<00:00, 19.60batch/s]\n"
          ]
        },
        {
          "name": "stdout",
          "output_type": "stream",
          "text": [
            "Fold 4, Epoch 2, Train Loss: 0.2658, Train Accuracy: 0.9041\n"
          ]
        },
        {
          "name": "stderr",
          "output_type": "stream",
          "text": [
            "Validating Fold 4, Epoch 2: 100%|██████████| 115/115 [00:03<00:00, 32.00batch/s]\n"
          ]
        },
        {
          "name": "stdout",
          "output_type": "stream",
          "text": [
            "Fold 4, Epoch 2, Val Loss: 0.2193, Val Accuracy: 0.9250\n",
            "No improvement for 1 epochs.\n"
          ]
        },
        {
          "name": "stderr",
          "output_type": "stream",
          "text": [
            "Training Fold 4, Epoch 3: 100%|██████████| 457/457 [00:23<00:00, 19.65batch/s]\n"
          ]
        },
        {
          "name": "stdout",
          "output_type": "stream",
          "text": [
            "Fold 4, Epoch 3, Train Loss: 0.2383, Train Accuracy: 0.9153\n"
          ]
        },
        {
          "name": "stderr",
          "output_type": "stream",
          "text": [
            "Validating Fold 4, Epoch 3: 100%|██████████| 115/115 [00:03<00:00, 31.48batch/s]\n"
          ]
        },
        {
          "name": "stdout",
          "output_type": "stream",
          "text": [
            "Fold 4, Epoch 3, Val Loss: 0.2448, Val Accuracy: 0.9104\n",
            "No improvement for 2 epochs.\n"
          ]
        },
        {
          "name": "stderr",
          "output_type": "stream",
          "text": [
            "Training Fold 4, Epoch 4: 100%|██████████| 457/457 [00:23<00:00, 19.79batch/s]\n"
          ]
        },
        {
          "name": "stdout",
          "output_type": "stream",
          "text": [
            "Fold 4, Epoch 4, Train Loss: 0.2187, Train Accuracy: 0.9244\n"
          ]
        },
        {
          "name": "stderr",
          "output_type": "stream",
          "text": [
            "Validating Fold 4, Epoch 4: 100%|██████████| 115/115 [00:04<00:00, 28.21batch/s]\n"
          ]
        },
        {
          "name": "stdout",
          "output_type": "stream",
          "text": [
            "Fold 4, Epoch 4, Val Loss: 0.3022, Val Accuracy: 0.8891\n",
            "No improvement for 3 epochs.\n"
          ]
        },
        {
          "name": "stderr",
          "output_type": "stream",
          "text": [
            "Training Fold 4, Epoch 5: 100%|██████████| 457/457 [00:22<00:00, 19.99batch/s]\n"
          ]
        },
        {
          "name": "stdout",
          "output_type": "stream",
          "text": [
            "Fold 4, Epoch 5, Train Loss: 0.1952, Train Accuracy: 0.9315\n"
          ]
        },
        {
          "name": "stderr",
          "output_type": "stream",
          "text": [
            "Validating Fold 4, Epoch 5: 100%|██████████| 115/115 [00:04<00:00, 26.71batch/s]\n"
          ]
        },
        {
          "name": "stdout",
          "output_type": "stream",
          "text": [
            "Fold 4, Epoch 5, Val Loss: 0.2864, Val Accuracy: 0.8970\n",
            "No improvement for 4 epochs.\n",
            "Early stopping triggered at epoch 5.\n",
            "Fold 5/5\n"
          ]
        },
        {
          "name": "stderr",
          "output_type": "stream",
          "text": [
            "Training Fold 5, Epoch 1: 100%|██████████| 457/457 [00:23<00:00, 19.84batch/s]\n"
          ]
        },
        {
          "name": "stdout",
          "output_type": "stream",
          "text": [
            "Fold 5, Epoch 1, Train Loss: 0.2732, Train Accuracy: 0.9039\n"
          ]
        },
        {
          "name": "stderr",
          "output_type": "stream",
          "text": [
            "Validating Fold 5, Epoch 1: 100%|██████████| 115/115 [00:03<00:00, 28.91batch/s]\n"
          ]
        },
        {
          "name": "stdout",
          "output_type": "stream",
          "text": [
            "Fold 5, Epoch 1, Val Loss: 0.1224, Val Accuracy: 0.9603\n",
            "Validation loss improved from inf to 0.1224. Saving model...\n"
          ]
        },
        {
          "name": "stderr",
          "output_type": "stream",
          "text": [
            "Training Fold 5, Epoch 2: 100%|██████████| 457/457 [00:23<00:00, 19.61batch/s]\n"
          ]
        },
        {
          "name": "stdout",
          "output_type": "stream",
          "text": [
            "Fold 5, Epoch 2, Train Loss: 0.2016, Train Accuracy: 0.9278\n"
          ]
        },
        {
          "name": "stderr",
          "output_type": "stream",
          "text": [
            "Validating Fold 5, Epoch 2: 100%|██████████| 115/115 [00:03<00:00, 31.47batch/s]\n"
          ]
        },
        {
          "name": "stdout",
          "output_type": "stream",
          "text": [
            "Fold 5, Epoch 2, Val Loss: 0.1301, Val Accuracy: 0.9543\n",
            "No improvement for 1 epochs.\n"
          ]
        },
        {
          "name": "stderr",
          "output_type": "stream",
          "text": [
            "Training Fold 5, Epoch 3: 100%|██████████| 457/457 [00:23<00:00, 19.49batch/s]\n"
          ]
        },
        {
          "name": "stdout",
          "output_type": "stream",
          "text": [
            "Fold 5, Epoch 3, Train Loss: 0.1877, Train Accuracy: 0.9337\n"
          ]
        },
        {
          "name": "stderr",
          "output_type": "stream",
          "text": [
            "Validating Fold 5, Epoch 3: 100%|██████████| 115/115 [00:03<00:00, 32.50batch/s]\n"
          ]
        },
        {
          "name": "stdout",
          "output_type": "stream",
          "text": [
            "Fold 5, Epoch 3, Val Loss: 0.1789, Val Accuracy: 0.9340\n",
            "No improvement for 2 epochs.\n"
          ]
        },
        {
          "name": "stderr",
          "output_type": "stream",
          "text": [
            "Training Fold 5, Epoch 4: 100%|██████████| 457/457 [00:23<00:00, 19.64batch/s]\n"
          ]
        },
        {
          "name": "stdout",
          "output_type": "stream",
          "text": [
            "Fold 5, Epoch 4, Train Loss: 0.1650, Train Accuracy: 0.9419\n"
          ]
        },
        {
          "name": "stderr",
          "output_type": "stream",
          "text": [
            "Validating Fold 5, Epoch 4: 100%|██████████| 115/115 [00:03<00:00, 32.43batch/s]\n"
          ]
        },
        {
          "name": "stdout",
          "output_type": "stream",
          "text": [
            "Fold 5, Epoch 4, Val Loss: 0.2107, Val Accuracy: 0.9241\n",
            "No improvement for 3 epochs.\n"
          ]
        },
        {
          "name": "stderr",
          "output_type": "stream",
          "text": [
            "Training Fold 5, Epoch 5: 100%|██████████| 457/457 [00:23<00:00, 19.61batch/s]\n"
          ]
        },
        {
          "name": "stdout",
          "output_type": "stream",
          "text": [
            "Fold 5, Epoch 5, Train Loss: 0.1797, Train Accuracy: 0.9378\n"
          ]
        },
        {
          "name": "stderr",
          "output_type": "stream",
          "text": [
            "Validating Fold 5, Epoch 5: 100%|██████████| 115/115 [00:03<00:00, 32.83batch/s]"
          ]
        },
        {
          "name": "stdout",
          "output_type": "stream",
          "text": [
            "Fold 5, Epoch 5, Val Loss: 0.2498, Val Accuracy: 0.9115\n",
            "No improvement for 4 epochs.\n",
            "Early stopping triggered at epoch 5.\n",
            "Average Training Loss: 0.4336\n",
            "Average Validation Loss: 0.4660\n",
            "Average Training Accuracy: 0.8442\n",
            "Average Validation Accuracy: 0.8345\n"
          ]
        },
        {
          "name": "stderr",
          "output_type": "stream",
          "text": [
            "\n"
          ]
        }
      ],
      "source": [
        "# Inizializzare il dataset\n",
        "full_train_dataset = EthnicityDataset(root_dir=\"Dataset/eyes/train\", transform=transform_eyes)\n",
        "test_dataset = EthnicityDataset(root_dir=\"Dataset/eyes/test\", transform=transform_eyes)\n",
        "test_loader = DataLoader(test_dataset, batch_size=32, shuffle=True)\n",
        "\n",
        "# Parametri di Early Stopping\n",
        "patience = 4  # Numero massimo di epoche senza miglioramenti\n",
        "\n",
        "# K-fold Cross-Validation\n",
        "k = 5  # Scegliamo K = 5\n",
        "kf = KFold(n_splits=k, shuffle=True, random_state=42)\n",
        "\n",
        "# Array per salvare i risultati di ogni fold\n",
        "fold_train_losses = []\n",
        "fold_val_losses = []\n",
        "fold_train_accuracies = []\n",
        "fold_val_accuracies = []\n",
        "\n",
        "num_epochs = 10\n",
        "batch_size = 32\n",
        "\n",
        "for fold, (train_idx, val_idx) in enumerate(kf.split(np.arange(len(full_train_dataset)))):\n",
        "    print(f\"Fold {fold + 1}/{k}\")\n",
        "\n",
        "    # Creare i subset per training e validation\n",
        "    train_subset = Subset(full_train_dataset, train_idx)\n",
        "    val_subset = Subset(full_train_dataset, val_idx)\n",
        "\n",
        "    # Creare i dataloader per il fold corrente\n",
        "    train_loader = DataLoader(train_subset, batch_size=batch_size, shuffle=True)\n",
        "    val_loader = DataLoader(val_subset, batch_size=batch_size, shuffle=False)\n",
        "\n",
        "    # Reinizializzare il modello e l'ottimizzatore per ogni fold\n",
        "    eyes_net = eyes_net.to(device)  # Assicurarsi che il modello sia su GPU/CPU corretta\n",
        "    eyes_optimizer = torch.optim.Adam(eyes_net.parameters(), lr=0.001, weight_decay=0.0001)\n",
        "\n",
        "    # Criterion\n",
        "    criterion = nn.CrossEntropyLoss()\n",
        "\n",
        "    best_model_state = None  # Per salvare lo stato del modello\n",
        "    best_val_loss = float(\"inf\")  # Migliore loss iniziale\n",
        "    no_improvement = 0  # Contatore per epoche senza miglioramenti\n",
        "\n",
        "    # Metriche per ogni fold\n",
        "    train_losses = []\n",
        "    val_losses = []\n",
        "    train_accuracies = []\n",
        "    val_accuracies = []\n",
        "\n",
        "    # Training per ogni fold\n",
        "    for epoch in range(num_epochs):\n",
        "        # Training Phase\n",
        "        eyes_net.train()\n",
        "        running_loss = 0.0\n",
        "        correct = 0\n",
        "        total = 0\n",
        "\n",
        "        for data in tqdm(train_loader, desc=f\"Training Fold {fold + 1}, Epoch {epoch + 1}\", unit=\"batch\"):\n",
        "            inputs, labels = data\n",
        "            inputs, labels = inputs.to(device), labels.to(device)\n",
        "\n",
        "            # Zero the gradients\n",
        "            eyes_optimizer.zero_grad()\n",
        "\n",
        "            # Forward pass\n",
        "            outputs = eyes_net(inputs)\n",
        "            loss = criterion(outputs, labels)\n",
        "            loss.backward()\n",
        "            eyes_optimizer.step()\n",
        "\n",
        "            running_loss += loss.item()\n",
        "\n",
        "            # Accuracy\n",
        "            _, predicted = torch.max(outputs, 1)\n",
        "            total += labels.size(0)\n",
        "            correct += (predicted == labels).sum().item()\n",
        "\n",
        "        avg_train_loss = running_loss / len(train_loader)\n",
        "        train_accuracy = correct / total\n",
        "        train_losses.append(avg_train_loss)\n",
        "        train_accuracies.append(train_accuracy)\n",
        "\n",
        "        print(f\"Fold {fold + 1}, Epoch {epoch + 1}, Train Loss: {avg_train_loss:.4f}, Train Accuracy: {train_accuracy:.4f}\")\n",
        "\n",
        "        # Validation Phase\n",
        "        eyes_net.eval()\n",
        "        val_running_loss = 0.0\n",
        "        correct = 0\n",
        "        total = 0\n",
        "\n",
        "        with torch.no_grad():\n",
        "            for data in tqdm(val_loader, desc=f\"Validating Fold {fold + 1}, Epoch {epoch + 1}\", unit=\"batch\"):\n",
        "                inputs, labels = data\n",
        "                inputs, labels = inputs.to(device), labels.to(device)\n",
        "\n",
        "                outputs = eyes_net(inputs)\n",
        "                loss = criterion(outputs, labels)\n",
        "\n",
        "                val_running_loss += loss.item()\n",
        "\n",
        "                # Accuracy\n",
        "                _, predicted = torch.max(outputs, 1)\n",
        "                total += labels.size(0)\n",
        "                correct += (predicted == labels).sum().item()\n",
        "\n",
        "        avg_val_loss = val_running_loss / len(val_loader)\n",
        "        val_accuracy = correct / total\n",
        "        val_losses.append(avg_val_loss)\n",
        "        val_accuracies.append(val_accuracy)\n",
        "\n",
        "        print(f\"Fold {fold + 1}, Epoch {epoch + 1}, Val Loss: {avg_val_loss:.4f}, Val Accuracy: {val_accuracy:.4f}\")\n",
        "\n",
        "        # Early Stopping: verifica miglioramento della loss di validazione\n",
        "        if avg_val_loss < best_val_loss:\n",
        "            print(f\"Validation loss improved from {best_val_loss:.4f} to {avg_val_loss:.4f}. Saving model...\")\n",
        "            best_val_loss = avg_val_loss\n",
        "            best_model_state = eyes_net.state_dict()  # Salva il miglior modello\n",
        "            no_improvement = 0  # Resetta il contatore\n",
        "        else:\n",
        "            no_improvement += 1\n",
        "            print(f\"No improvement for {no_improvement} epochs.\")\n",
        "\n",
        "        # Controlla se interrompere l'allenamento per Early Stopping\n",
        "        if no_improvement >= patience:\n",
        "            print(f\"Early stopping triggered at epoch {epoch + 1}.\")\n",
        "            break\n",
        "\n",
        "    # Carica il miglior modello salvato per questo fold\n",
        "    eyes_net.load_state_dict(best_model_state)\n",
        "\n",
        "    # Salvare i risultati del fold corrente\n",
        "    fold_train_losses.append(train_losses)\n",
        "    fold_val_losses.append(val_losses)\n",
        "    fold_train_accuracies.append(train_accuracies)\n",
        "    fold_val_accuracies.append(val_accuracies)\n",
        "\n",
        "# Calcolare le metriche medie su tutti i fold\n",
        "mean_train_loss = np.mean([np.mean(fold) for fold in fold_train_losses])\n",
        "mean_val_loss = np.mean([np.mean(fold) for fold in fold_val_losses])\n",
        "mean_train_accuracy = np.mean([np.mean(fold) for fold in fold_train_accuracies])\n",
        "mean_val_accuracy = np.mean([np.mean(fold) for fold in fold_val_accuracies])\n",
        "\n",
        "print(f\"Average Training Loss: {mean_train_loss:.4f}\")\n",
        "print(f\"Average Validation Loss: {mean_val_loss:.4f}\")\n",
        "print(f\"Average Training Accuracy: {mean_train_accuracy:.4f}\")\n",
        "print(f\"Average Validation Accuracy: {mean_val_accuracy:.4f}\")"
      ]
    },
    {
      "cell_type": "markdown",
      "metadata": {
        "id": "t8L59rANy1aW"
      },
      "source": []
    },
    {
      "cell_type": "code",
      "execution_count": 8,
      "metadata": {
        "colab": {
          "base_uri": "https://localhost:8080/",
          "height": 902
        },
        "id": "Bu9J9QOS7_hJ",
        "outputId": "7b864c5b-59e6-4ff5-ca67-c7494a29e5ed"
      },
      "outputs": [
        {
          "data": {
            "image/png": "[encoded data removed]",
            "text/plain": [
              "<Figure size 1000x700 with 2 Axes>"
            ]
          },
          "metadata": {},
          "output_type": "display_data"
        },
        {
          "name": "stdout",
          "output_type": "stream",
          "text": [
            "\n",
            "Classification Report:\n",
            "              precision    recall  f1-score   support\n",
            "\n",
            "       White       0.79      0.81      0.80      2018\n",
            "       Black       0.75      0.71      0.73       927\n",
            "       Asian       0.72      0.81      0.76       670\n",
            "      Indian       0.65      0.61      0.63       802\n",
            "      Others       0.34      0.30      0.32       359\n",
            "\n",
            "    accuracy                           0.72      4776\n",
            "   macro avg       0.65      0.65      0.65      4776\n",
            "weighted avg       0.72      0.72      0.72      4776\n",
            "\n"
          ]
        }
      ],
      "source": [
        "\n",
        "all_labels = []  # Per memorizzare le etichette reali\n",
        "all_preds = []   # Per memorizzare le previsioni del modello\n",
        "\n",
        "with torch.no_grad():\n",
        "    for data in test_loader:\n",
        "        images, labels = data\n",
        "        images, labels = images.to(device), labels.to(device)\n",
        "\n",
        "        outputs = eyes_net(images)\n",
        "        _, predicted = torch.max(outputs.data, 1)\n",
        "        all_labels.extend(labels.cpu().numpy())\n",
        "        all_preds.extend(predicted.cpu().numpy())\n",
        "\n",
        "# Calcola le metriche\n",
        "conf_matrix = confusion_matrix(all_labels, all_preds)\n",
        "\n",
        "plt.figure(figsize=(10, 7))\n",
        "sns.heatmap(conf_matrix, annot=True, fmt='d', cmap='Blues', xticklabels=class_names, yticklabels=class_names)\n",
        "\n",
        "# Aggiungi titoli e etichette agli assi\n",
        "plt.title('Confusion Matrix', fontsize=16)\n",
        "plt.xlabel('Predicted Labels', fontsize=14)\n",
        "plt.ylabel('True Labels', fontsize=14)\n",
        "plt.xticks(fontsize=12)\n",
        "plt.yticks(fontsize=12)\n",
        "\n",
        "# Mostra la heatmap\n",
        "plt.show()\n",
        "\n",
        "print(\"\\nClassification Report:\")\n",
        "print(classification_report(all_labels, all_preds, target_names=class_names, zero_division=0))"
      ]
    },
    {
      "cell_type": "markdown",
      "metadata": {
        "id": "ReSQIrMH85RS"
      },
      "source": [
        "**NOSE TRAINING VALIDATION AND TEST**"
      ]
    },
    {
      "cell_type": "code",
      "execution_count": 9,
      "metadata": {
        "colab": {
          "base_uri": "https://localhost:8080/"
        },
        "id": "cmZyd-UU8-0p",
        "outputId": "f4f827e2-4110-491f-d7b9-9da482cee52c"
      },
      "outputs": [
        {
          "name": "stdout",
          "output_type": "stream",
          "text": [
            "Fold 1/5\n"
          ]
        },
        {
          "name": "stderr",
          "output_type": "stream",
          "text": [
            "Training Fold 1, Epoch 1: 100%|██████████| 457/457 [00:32<00:00, 14.21batch/s]\n"
          ]
        },
        {
          "name": "stdout",
          "output_type": "stream",
          "text": [
            "Fold 1, Epoch 1, Train Loss: 1.3477, Train Accuracy: 0.4806\n"
          ]
        },
        {
          "name": "stderr",
          "output_type": "stream",
          "text": [
            "Validating Fold 1, Epoch 1: 100%|██████████| 115/115 [00:04<00:00, 24.09batch/s]\n"
          ]
        },
        {
          "name": "stdout",
          "output_type": "stream",
          "text": [
            "Fold 1, Epoch 1, Val Loss: 1.2792, Val Accuracy: 0.5119\n",
            "Validation loss improved from inf to 1.2792. Saving model...\n"
          ]
        },
        {
          "name": "stderr",
          "output_type": "stream",
          "text": [
            "Training Fold 1, Epoch 2: 100%|██████████| 457/457 [00:32<00:00, 14.20batch/s]\n"
          ]
        },
        {
          "name": "stdout",
          "output_type": "stream",
          "text": [
            "Fold 1, Epoch 2, Train Loss: 1.1826, Train Accuracy: 0.5420\n"
          ]
        },
        {
          "name": "stderr",
          "output_type": "stream",
          "text": [
            "Validating Fold 1, Epoch 2: 100%|██████████| 115/115 [00:04<00:00, 24.89batch/s]\n"
          ]
        },
        {
          "name": "stdout",
          "output_type": "stream",
          "text": [
            "Fold 1, Epoch 2, Val Loss: 1.1072, Val Accuracy: 0.5760\n",
            "Validation loss improved from 1.2792 to 1.1072. Saving model...\n"
          ]
        },
        {
          "name": "stderr",
          "output_type": "stream",
          "text": [
            "Training Fold 1, Epoch 3: 100%|██████████| 457/457 [00:32<00:00, 14.04batch/s]\n"
          ]
        },
        {
          "name": "stdout",
          "output_type": "stream",
          "text": [
            "Fold 1, Epoch 3, Train Loss: 1.1024, Train Accuracy: 0.5872\n"
          ]
        },
        {
          "name": "stderr",
          "output_type": "stream",
          "text": [
            "Validating Fold 1, Epoch 3: 100%|██████████| 115/115 [00:04<00:00, 24.49batch/s]\n"
          ]
        },
        {
          "name": "stdout",
          "output_type": "stream",
          "text": [
            "Fold 1, Epoch 3, Val Loss: 1.0365, Val Accuracy: 0.6209\n",
            "Validation loss improved from 1.1072 to 1.0365. Saving model...\n"
          ]
        },
        {
          "name": "stderr",
          "output_type": "stream",
          "text": [
            "Training Fold 1, Epoch 4: 100%|██████████| 457/457 [00:32<00:00, 14.10batch/s]\n"
          ]
        },
        {
          "name": "stdout",
          "output_type": "stream",
          "text": [
            "Fold 1, Epoch 4, Train Loss: 1.0397, Train Accuracy: 0.6147\n"
          ]
        },
        {
          "name": "stderr",
          "output_type": "stream",
          "text": [
            "Validating Fold 1, Epoch 4: 100%|██████████| 115/115 [00:04<00:00, 24.68batch/s]\n"
          ]
        },
        {
          "name": "stdout",
          "output_type": "stream",
          "text": [
            "Fold 1, Epoch 4, Val Loss: 1.0152, Val Accuracy: 0.6289\n",
            "Validation loss improved from 1.0365 to 1.0152. Saving model...\n"
          ]
        },
        {
          "name": "stderr",
          "output_type": "stream",
          "text": [
            "Training Fold 1, Epoch 5: 100%|██████████| 457/457 [00:32<00:00, 14.18batch/s]\n"
          ]
        },
        {
          "name": "stdout",
          "output_type": "stream",
          "text": [
            "Fold 1, Epoch 5, Train Loss: 0.9999, Train Accuracy: 0.6262\n"
          ]
        },
        {
          "name": "stderr",
          "output_type": "stream",
          "text": [
            "Validating Fold 1, Epoch 5: 100%|██████████| 115/115 [00:04<00:00, 23.88batch/s]\n"
          ]
        },
        {
          "name": "stdout",
          "output_type": "stream",
          "text": [
            "Fold 1, Epoch 5, Val Loss: 1.0132, Val Accuracy: 0.6280\n",
            "Validation loss improved from 1.0152 to 1.0132. Saving model...\n"
          ]
        },
        {
          "name": "stderr",
          "output_type": "stream",
          "text": [
            "Training Fold 1, Epoch 6: 100%|██████████| 457/457 [00:31<00:00, 14.33batch/s]\n"
          ]
        },
        {
          "name": "stdout",
          "output_type": "stream",
          "text": [
            "Fold 1, Epoch 6, Train Loss: 0.9659, Train Accuracy: 0.6447\n"
          ]
        },
        {
          "name": "stderr",
          "output_type": "stream",
          "text": [
            "Validating Fold 1, Epoch 6: 100%|██████████| 115/115 [00:05<00:00, 22.76batch/s]\n"
          ]
        },
        {
          "name": "stdout",
          "output_type": "stream",
          "text": [
            "Fold 1, Epoch 6, Val Loss: 0.9393, Val Accuracy: 0.6579\n",
            "Validation loss improved from 1.0132 to 0.9393. Saving model...\n"
          ]
        },
        {
          "name": "stderr",
          "output_type": "stream",
          "text": [
            "Training Fold 1, Epoch 7: 100%|██████████| 457/457 [00:31<00:00, 14.34batch/s]\n"
          ]
        },
        {
          "name": "stdout",
          "output_type": "stream",
          "text": [
            "Fold 1, Epoch 7, Train Loss: 0.9333, Train Accuracy: 0.6560\n"
          ]
        },
        {
          "name": "stderr",
          "output_type": "stream",
          "text": [
            "Validating Fold 1, Epoch 7: 100%|██████████| 115/115 [00:05<00:00, 22.24batch/s]\n"
          ]
        },
        {
          "name": "stdout",
          "output_type": "stream",
          "text": [
            "Fold 1, Epoch 7, Val Loss: 0.9142, Val Accuracy: 0.6680\n",
            "Validation loss improved from 0.9393 to 0.9142. Saving model...\n"
          ]
        },
        {
          "name": "stderr",
          "output_type": "stream",
          "text": [
            "Training Fold 1, Epoch 8: 100%|██████████| 457/457 [00:31<00:00, 14.35batch/s]\n"
          ]
        },
        {
          "name": "stdout",
          "output_type": "stream",
          "text": [
            "Fold 1, Epoch 8, Train Loss: 0.9091, Train Accuracy: 0.6645\n"
          ]
        },
        {
          "name": "stderr",
          "output_type": "stream",
          "text": [
            "Validating Fold 1, Epoch 8: 100%|██████████| 115/115 [00:05<00:00, 22.26batch/s]\n"
          ]
        },
        {
          "name": "stdout",
          "output_type": "stream",
          "text": [
            "Fold 1, Epoch 8, Val Loss: 0.9262, Val Accuracy: 0.6604\n",
            "No improvement for 1 epochs.\n"
          ]
        },
        {
          "name": "stderr",
          "output_type": "stream",
          "text": [
            "Training Fold 1, Epoch 9: 100%|██████████| 457/457 [00:31<00:00, 14.31batch/s]\n"
          ]
        },
        {
          "name": "stdout",
          "output_type": "stream",
          "text": [
            "Fold 1, Epoch 9, Train Loss: 0.8813, Train Accuracy: 0.6748\n"
          ]
        },
        {
          "name": "stderr",
          "output_type": "stream",
          "text": [
            "Validating Fold 1, Epoch 9: 100%|██████████| 115/115 [00:04<00:00, 24.61batch/s]\n"
          ]
        },
        {
          "name": "stdout",
          "output_type": "stream",
          "text": [
            "Fold 1, Epoch 9, Val Loss: 0.9041, Val Accuracy: 0.6853\n",
            "Validation loss improved from 0.9142 to 0.9041. Saving model...\n"
          ]
        },
        {
          "name": "stderr",
          "output_type": "stream",
          "text": [
            "Training Fold 1, Epoch 10: 100%|██████████| 457/457 [00:32<00:00, 14.20batch/s]\n"
          ]
        },
        {
          "name": "stdout",
          "output_type": "stream",
          "text": [
            "Fold 1, Epoch 10, Train Loss: 0.8538, Train Accuracy: 0.6901\n"
          ]
        },
        {
          "name": "stderr",
          "output_type": "stream",
          "text": [
            "Validating Fold 1, Epoch 10: 100%|██████████| 115/115 [00:04<00:00, 24.78batch/s]\n"
          ]
        },
        {
          "name": "stdout",
          "output_type": "stream",
          "text": [
            "Fold 1, Epoch 10, Val Loss: 0.9201, Val Accuracy: 0.6730\n",
            "No improvement for 1 epochs.\n",
            "Fold 2/5\n"
          ]
        },
        {
          "name": "stderr",
          "output_type": "stream",
          "text": [
            "Training Fold 2, Epoch 1: 100%|██████████| 457/457 [00:32<00:00, 14.19batch/s]\n"
          ]
        },
        {
          "name": "stdout",
          "output_type": "stream",
          "text": [
            "Fold 2, Epoch 1, Train Loss: 0.8601, Train Accuracy: 0.6869\n"
          ]
        },
        {
          "name": "stderr",
          "output_type": "stream",
          "text": [
            "Validating Fold 2, Epoch 1: 100%|██████████| 115/115 [00:04<00:00, 24.69batch/s]\n"
          ]
        },
        {
          "name": "stdout",
          "output_type": "stream",
          "text": [
            "Fold 2, Epoch 1, Val Loss: 0.7785, Val Accuracy: 0.7179\n",
            "Validation loss improved from inf to 0.7785. Saving model...\n"
          ]
        },
        {
          "name": "stderr",
          "output_type": "stream",
          "text": [
            "Training Fold 2, Epoch 2: 100%|██████████| 457/457 [00:32<00:00, 14.21batch/s]\n"
          ]
        },
        {
          "name": "stdout",
          "output_type": "stream",
          "text": [
            "Fold 2, Epoch 2, Train Loss: 0.8212, Train Accuracy: 0.6996\n"
          ]
        },
        {
          "name": "stderr",
          "output_type": "stream",
          "text": [
            "Validating Fold 2, Epoch 2: 100%|██████████| 115/115 [00:04<00:00, 24.46batch/s]\n"
          ]
        },
        {
          "name": "stdout",
          "output_type": "stream",
          "text": [
            "Fold 2, Epoch 2, Val Loss: 0.7968, Val Accuracy: 0.7097\n",
            "No improvement for 1 epochs.\n"
          ]
        },
        {
          "name": "stderr",
          "output_type": "stream",
          "text": [
            "Training Fold 2, Epoch 3: 100%|██████████| 457/457 [00:32<00:00, 14.27batch/s]\n"
          ]
        },
        {
          "name": "stdout",
          "output_type": "stream",
          "text": [
            "Fold 2, Epoch 3, Train Loss: 0.7897, Train Accuracy: 0.7106\n"
          ]
        },
        {
          "name": "stderr",
          "output_type": "stream",
          "text": [
            "Validating Fold 2, Epoch 3: 100%|██████████| 115/115 [00:04<00:00, 23.85batch/s]\n"
          ]
        },
        {
          "name": "stdout",
          "output_type": "stream",
          "text": [
            "Fold 2, Epoch 3, Val Loss: 0.8488, Val Accuracy: 0.6987\n",
            "No improvement for 2 epochs.\n"
          ]
        },
        {
          "name": "stderr",
          "output_type": "stream",
          "text": [
            "Training Fold 2, Epoch 4: 100%|██████████| 457/457 [00:31<00:00, 14.35batch/s]\n"
          ]
        },
        {
          "name": "stdout",
          "output_type": "stream",
          "text": [
            "Fold 2, Epoch 4, Train Loss: 0.7448, Train Accuracy: 0.7288\n"
          ]
        },
        {
          "name": "stderr",
          "output_type": "stream",
          "text": [
            "Validating Fold 2, Epoch 4: 100%|██████████| 115/115 [00:05<00:00, 22.02batch/s]\n"
          ]
        },
        {
          "name": "stdout",
          "output_type": "stream",
          "text": [
            "Fold 2, Epoch 4, Val Loss: 0.8348, Val Accuracy: 0.7053\n",
            "No improvement for 3 epochs.\n"
          ]
        },
        {
          "name": "stderr",
          "output_type": "stream",
          "text": [
            "Training Fold 2, Epoch 5: 100%|██████████| 457/457 [00:31<00:00, 14.35batch/s]\n"
          ]
        },
        {
          "name": "stdout",
          "output_type": "stream",
          "text": [
            "Fold 2, Epoch 5, Train Loss: 0.7119, Train Accuracy: 0.7389\n"
          ]
        },
        {
          "name": "stderr",
          "output_type": "stream",
          "text": [
            "Validating Fold 2, Epoch 5: 100%|██████████| 115/115 [00:05<00:00, 21.93batch/s]\n"
          ]
        },
        {
          "name": "stdout",
          "output_type": "stream",
          "text": [
            "Fold 2, Epoch 5, Val Loss: 0.8347, Val Accuracy: 0.6995\n",
            "No improvement for 4 epochs.\n",
            "Early stopping triggered at epoch 5.\n",
            "Fold 3/5\n"
          ]
        },
        {
          "name": "stderr",
          "output_type": "stream",
          "text": [
            "Training Fold 3, Epoch 1: 100%|██████████| 457/457 [00:31<00:00, 14.39batch/s]\n"
          ]
        },
        {
          "name": "stdout",
          "output_type": "stream",
          "text": [
            "Fold 3, Epoch 1, Train Loss: 0.7445, Train Accuracy: 0.7301\n"
          ]
        },
        {
          "name": "stderr",
          "output_type": "stream",
          "text": [
            "Validating Fold 3, Epoch 1: 100%|██████████| 115/115 [00:05<00:00, 22.54batch/s]\n"
          ]
        },
        {
          "name": "stdout",
          "output_type": "stream",
          "text": [
            "Fold 3, Epoch 1, Val Loss: 0.6624, Val Accuracy: 0.7529\n",
            "Validation loss improved from inf to 0.6624. Saving model...\n"
          ]
        },
        {
          "name": "stderr",
          "output_type": "stream",
          "text": [
            "Training Fold 3, Epoch 2: 100%|██████████| 457/457 [00:32<00:00, 14.27batch/s]\n"
          ]
        },
        {
          "name": "stdout",
          "output_type": "stream",
          "text": [
            "Fold 3, Epoch 2, Train Loss: 0.6799, Train Accuracy: 0.7499\n"
          ]
        },
        {
          "name": "stderr",
          "output_type": "stream",
          "text": [
            "Validating Fold 3, Epoch 2: 100%|██████████| 115/115 [00:04<00:00, 24.47batch/s]\n"
          ]
        },
        {
          "name": "stdout",
          "output_type": "stream",
          "text": [
            "Fold 3, Epoch 2, Val Loss: 0.6364, Val Accuracy: 0.7798\n",
            "Validation loss improved from 0.6624 to 0.6364. Saving model...\n"
          ]
        },
        {
          "name": "stderr",
          "output_type": "stream",
          "text": [
            "Training Fold 3, Epoch 3: 100%|██████████| 457/457 [00:32<00:00, 14.21batch/s]\n"
          ]
        },
        {
          "name": "stdout",
          "output_type": "stream",
          "text": [
            "Fold 3, Epoch 3, Train Loss: 0.6466, Train Accuracy: 0.7639\n"
          ]
        },
        {
          "name": "stderr",
          "output_type": "stream",
          "text": [
            "Validating Fold 3, Epoch 3: 100%|██████████| 115/115 [00:04<00:00, 24.83batch/s]\n"
          ]
        },
        {
          "name": "stdout",
          "output_type": "stream",
          "text": [
            "Fold 3, Epoch 3, Val Loss: 0.6665, Val Accuracy: 0.7655\n",
            "No improvement for 1 epochs.\n"
          ]
        },
        {
          "name": "stderr",
          "output_type": "stream",
          "text": [
            "Training Fold 3, Epoch 4: 100%|██████████| 457/457 [00:32<00:00, 14.22batch/s]\n"
          ]
        },
        {
          "name": "stdout",
          "output_type": "stream",
          "text": [
            "Fold 3, Epoch 4, Train Loss: 0.5929, Train Accuracy: 0.7842\n"
          ]
        },
        {
          "name": "stderr",
          "output_type": "stream",
          "text": [
            "Validating Fold 3, Epoch 4: 100%|██████████| 115/115 [00:04<00:00, 24.94batch/s]\n"
          ]
        },
        {
          "name": "stdout",
          "output_type": "stream",
          "text": [
            "Fold 3, Epoch 4, Val Loss: 0.7087, Val Accuracy: 0.7436\n",
            "No improvement for 2 epochs.\n"
          ]
        },
        {
          "name": "stderr",
          "output_type": "stream",
          "text": [
            "Training Fold 3, Epoch 5: 100%|██████████| 457/457 [00:32<00:00, 14.21batch/s]\n"
          ]
        },
        {
          "name": "stdout",
          "output_type": "stream",
          "text": [
            "Fold 3, Epoch 5, Train Loss: 0.5563, Train Accuracy: 0.7965\n"
          ]
        },
        {
          "name": "stderr",
          "output_type": "stream",
          "text": [
            "Validating Fold 3, Epoch 5: 100%|██████████| 115/115 [00:04<00:00, 25.12batch/s]\n"
          ]
        },
        {
          "name": "stdout",
          "output_type": "stream",
          "text": [
            "Fold 3, Epoch 5, Val Loss: 0.7200, Val Accuracy: 0.7387\n",
            "No improvement for 3 epochs.\n"
          ]
        },
        {
          "name": "stderr",
          "output_type": "stream",
          "text": [
            "Training Fold 3, Epoch 6: 100%|██████████| 457/457 [00:32<00:00, 14.25batch/s]\n"
          ]
        },
        {
          "name": "stdout",
          "output_type": "stream",
          "text": [
            "Fold 3, Epoch 6, Train Loss: 0.4978, Train Accuracy: 0.8191\n"
          ]
        },
        {
          "name": "stderr",
          "output_type": "stream",
          "text": [
            "Validating Fold 3, Epoch 6: 100%|██████████| 115/115 [00:04<00:00, 24.22batch/s]\n"
          ]
        },
        {
          "name": "stdout",
          "output_type": "stream",
          "text": [
            "Fold 3, Epoch 6, Val Loss: 0.7606, Val Accuracy: 0.7319\n",
            "No improvement for 4 epochs.\n",
            "Early stopping triggered at epoch 6.\n",
            "Fold 4/5\n"
          ]
        },
        {
          "name": "stderr",
          "output_type": "stream",
          "text": [
            "Training Fold 4, Epoch 1: 100%|██████████| 457/457 [00:31<00:00, 14.31batch/s]\n"
          ]
        },
        {
          "name": "stdout",
          "output_type": "stream",
          "text": [
            "Fold 4, Epoch 1, Train Loss: 0.5965, Train Accuracy: 0.7891\n"
          ]
        },
        {
          "name": "stderr",
          "output_type": "stream",
          "text": [
            "Validating Fold 4, Epoch 1: 100%|██████████| 115/115 [00:05<00:00, 21.91batch/s]\n"
          ]
        },
        {
          "name": "stdout",
          "output_type": "stream",
          "text": [
            "Fold 4, Epoch 1, Val Loss: 0.4028, Val Accuracy: 0.8554\n",
            "Validation loss improved from inf to 0.4028. Saving model...\n"
          ]
        },
        {
          "name": "stderr",
          "output_type": "stream",
          "text": [
            "Training Fold 4, Epoch 2: 100%|██████████| 457/457 [00:31<00:00, 14.35batch/s]\n"
          ]
        },
        {
          "name": "stdout",
          "output_type": "stream",
          "text": [
            "Fold 4, Epoch 2, Train Loss: 0.5048, Train Accuracy: 0.8177\n"
          ]
        },
        {
          "name": "stderr",
          "output_type": "stream",
          "text": [
            "Validating Fold 4, Epoch 2: 100%|██████████| 115/115 [00:05<00:00, 22.02batch/s]\n"
          ]
        },
        {
          "name": "stdout",
          "output_type": "stream",
          "text": [
            "Fold 4, Epoch 2, Val Loss: 0.4234, Val Accuracy: 0.8485\n",
            "No improvement for 1 epochs.\n"
          ]
        },
        {
          "name": "stderr",
          "output_type": "stream",
          "text": [
            "Training Fold 4, Epoch 3: 100%|██████████| 457/457 [00:31<00:00, 14.30batch/s]\n"
          ]
        },
        {
          "name": "stdout",
          "output_type": "stream",
          "text": [
            "Fold 4, Epoch 3, Train Loss: 0.4543, Train Accuracy: 0.8350\n"
          ]
        },
        {
          "name": "stderr",
          "output_type": "stream",
          "text": [
            "Validating Fold 4, Epoch 3: 100%|██████████| 115/115 [00:05<00:00, 21.88batch/s]\n"
          ]
        },
        {
          "name": "stdout",
          "output_type": "stream",
          "text": [
            "Fold 4, Epoch 3, Val Loss: 0.4842, Val Accuracy: 0.8179\n",
            "No improvement for 2 epochs.\n"
          ]
        },
        {
          "name": "stderr",
          "output_type": "stream",
          "text": [
            "Training Fold 4, Epoch 4: 100%|██████████| 457/457 [00:31<00:00, 14.36batch/s]\n"
          ]
        },
        {
          "name": "stdout",
          "output_type": "stream",
          "text": [
            "Fold 4, Epoch 4, Train Loss: 0.4124, Train Accuracy: 0.8495\n"
          ]
        },
        {
          "name": "stderr",
          "output_type": "stream",
          "text": [
            "Validating Fold 4, Epoch 4: 100%|██████████| 115/115 [00:04<00:00, 23.99batch/s]\n"
          ]
        },
        {
          "name": "stdout",
          "output_type": "stream",
          "text": [
            "Fold 4, Epoch 4, Val Loss: 0.5249, Val Accuracy: 0.8135\n",
            "No improvement for 3 epochs.\n"
          ]
        },
        {
          "name": "stderr",
          "output_type": "stream",
          "text": [
            "Training Fold 4, Epoch 5: 100%|██████████| 457/457 [00:32<00:00, 14.24batch/s]\n"
          ]
        },
        {
          "name": "stdout",
          "output_type": "stream",
          "text": [
            "Fold 4, Epoch 5, Train Loss: 0.3854, Train Accuracy: 0.8614\n"
          ]
        },
        {
          "name": "stderr",
          "output_type": "stream",
          "text": [
            "Validating Fold 4, Epoch 5: 100%|██████████| 115/115 [00:04<00:00, 24.99batch/s]\n"
          ]
        },
        {
          "name": "stdout",
          "output_type": "stream",
          "text": [
            "Fold 4, Epoch 5, Val Loss: 0.5755, Val Accuracy: 0.7921\n",
            "No improvement for 4 epochs.\n",
            "Early stopping triggered at epoch 5.\n",
            "Fold 5/5\n"
          ]
        },
        {
          "name": "stderr",
          "output_type": "stream",
          "text": [
            "Training Fold 5, Epoch 1: 100%|██████████| 457/457 [00:32<00:00, 14.23batch/s]\n"
          ]
        },
        {
          "name": "stdout",
          "output_type": "stream",
          "text": [
            "Fold 5, Epoch 1, Train Loss: 0.4653, Train Accuracy: 0.8301\n"
          ]
        },
        {
          "name": "stderr",
          "output_type": "stream",
          "text": [
            "Validating Fold 5, Epoch 1: 100%|██████████| 115/115 [00:04<00:00, 24.71batch/s]\n"
          ]
        },
        {
          "name": "stdout",
          "output_type": "stream",
          "text": [
            "Fold 5, Epoch 1, Val Loss: 0.2355, Val Accuracy: 0.9255\n",
            "Validation loss improved from inf to 0.2355. Saving model...\n"
          ]
        },
        {
          "name": "stderr",
          "output_type": "stream",
          "text": [
            "Training Fold 5, Epoch 2: 100%|██████████| 457/457 [00:32<00:00, 14.20batch/s]\n"
          ]
        },
        {
          "name": "stdout",
          "output_type": "stream",
          "text": [
            "Fold 5, Epoch 2, Train Loss: 0.3701, Train Accuracy: 0.8653\n"
          ]
        },
        {
          "name": "stderr",
          "output_type": "stream",
          "text": [
            "Validating Fold 5, Epoch 2: 100%|██████████| 115/115 [00:04<00:00, 24.88batch/s]\n"
          ]
        },
        {
          "name": "stdout",
          "output_type": "stream",
          "text": [
            "Fold 5, Epoch 2, Val Loss: 0.3140, Val Accuracy: 0.8940\n",
            "No improvement for 1 epochs.\n"
          ]
        },
        {
          "name": "stderr",
          "output_type": "stream",
          "text": [
            "Training Fold 5, Epoch 3: 100%|██████████| 457/457 [00:31<00:00, 14.29batch/s]\n"
          ]
        },
        {
          "name": "stdout",
          "output_type": "stream",
          "text": [
            "Fold 5, Epoch 3, Train Loss: 0.3340, Train Accuracy: 0.8782\n"
          ]
        },
        {
          "name": "stderr",
          "output_type": "stream",
          "text": [
            "Validating Fold 5, Epoch 3: 100%|██████████| 115/115 [00:05<00:00, 22.96batch/s]\n"
          ]
        },
        {
          "name": "stdout",
          "output_type": "stream",
          "text": [
            "Fold 5, Epoch 3, Val Loss: 0.3633, Val Accuracy: 0.8685\n",
            "No improvement for 2 epochs.\n"
          ]
        },
        {
          "name": "stderr",
          "output_type": "stream",
          "text": [
            "Training Fold 5, Epoch 4: 100%|██████████| 457/457 [00:31<00:00, 14.44batch/s]\n"
          ]
        },
        {
          "name": "stdout",
          "output_type": "stream",
          "text": [
            "Fold 5, Epoch 4, Train Loss: 0.2968, Train Accuracy: 0.8911\n"
          ]
        },
        {
          "name": "stderr",
          "output_type": "stream",
          "text": [
            "Validating Fold 5, Epoch 4: 100%|██████████| 115/115 [00:05<00:00, 22.21batch/s]\n"
          ]
        },
        {
          "name": "stdout",
          "output_type": "stream",
          "text": [
            "Fold 5, Epoch 4, Val Loss: 0.4082, Val Accuracy: 0.8584\n",
            "No improvement for 3 epochs.\n"
          ]
        },
        {
          "name": "stderr",
          "output_type": "stream",
          "text": [
            "Training Fold 5, Epoch 5: 100%|██████████| 457/457 [00:31<00:00, 14.42batch/s]\n"
          ]
        },
        {
          "name": "stdout",
          "output_type": "stream",
          "text": [
            "Fold 5, Epoch 5, Train Loss: 0.2978, Train Accuracy: 0.8922\n"
          ]
        },
        {
          "name": "stderr",
          "output_type": "stream",
          "text": [
            "Validating Fold 5, Epoch 5: 100%|██████████| 115/115 [00:05<00:00, 22.30batch/s]"
          ]
        },
        {
          "name": "stdout",
          "output_type": "stream",
          "text": [
            "Fold 5, Epoch 5, Val Loss: 0.4239, Val Accuracy: 0.8447\n",
            "No improvement for 4 epochs.\n",
            "Early stopping triggered at epoch 5.\n",
            "Average Training Loss: 0.6500\n",
            "Average Validation Loss: 0.6696\n",
            "Average Training Accuracy: 0.7614\n",
            "Average Validation Accuracy: 0.7586\n"
          ]
        },
        {
          "name": "stderr",
          "output_type": "stream",
          "text": [
            "\n"
          ]
        }
      ],
      "source": [
        "# Inizializzare il dataset\n",
        "full_train_dataset = EthnicityDataset(root_dir=\"Dataset/nose/train\", transform=transform_nose)\n",
        "test_dataset = EthnicityDataset(root_dir=\"Dataset/nose/test\", transform=transform_nose)\n",
        "test_loader = DataLoader(test_dataset, batch_size=32, shuffle=True)\n",
        "\n",
        "# Parametri di Early Stopping\n",
        "patience = 4  # Numero massimo di epoche senza miglioramenti\n",
        "\n",
        "\n",
        "# K-fold Cross-Validation\n",
        "k = 5  # Numero di fold per la K-Fold Cross Validation\n",
        "kf = KFold(n_splits=k, shuffle=True, random_state=42)\n",
        "\n",
        "# Array per salvare i risultati di ogni fold\n",
        "fold_train_losses = []\n",
        "fold_val_losses = []\n",
        "fold_train_accuracies = []\n",
        "fold_val_accuracies = []\n",
        "\n",
        "num_epochs = 10\n",
        "batch_size = 32\n",
        "\n",
        "for fold, (train_idx, val_idx) in enumerate(kf.split(np.arange(len(full_train_dataset)))):\n",
        "    print(f\"Fold {fold + 1}/{k}\")\n",
        "\n",
        "    # Creare i subset per training e validation\n",
        "    train_subset = Subset(full_train_dataset, train_idx)\n",
        "    val_subset = Subset(full_train_dataset, val_idx)\n",
        "\n",
        "    # Creare i dataloader per il fold corrente\n",
        "    train_loader = DataLoader(train_subset, batch_size=batch_size, shuffle=True)\n",
        "    val_loader = DataLoader(val_subset, batch_size=batch_size, shuffle=False)\n",
        "\n",
        "    # Reinizializzare il modello e l'ottimizzatore per ogni fold\n",
        "    nose_net = nose_net.to(device)  # Assicurarsi che il modello sia su GPU/CPU corretta\n",
        "    nose_optimizer = torch.optim.Adam(nose_net.parameters(), lr=0.001, weight_decay=0.0001)\n",
        "\n",
        "    # Criterion\n",
        "    criterion = nn.CrossEntropyLoss()\n",
        "\n",
        "    best_model_state = None  # Per salvare lo stato del modello\n",
        "    best_val_loss = float(\"inf\")  # Migliore loss iniziale\n",
        "    no_improvement = 0  # Contatore per epoche senza miglioramenti\n",
        "\n",
        "    # Metriche per ogni fold\n",
        "    train_losses = []\n",
        "    val_losses = []\n",
        "    train_accuracies = []\n",
        "    val_accuracies = []\n",
        "\n",
        "    # Training per ogni fold\n",
        "    for epoch in range(num_epochs):\n",
        "        # Training Phase\n",
        "        nose_net.train()\n",
        "        running_loss = 0.0\n",
        "        correct = 0\n",
        "        total = 0\n",
        "\n",
        "        for data in tqdm(train_loader, desc=f\"Training Fold {fold + 1}, Epoch {epoch + 1}\", unit=\"batch\"):\n",
        "            inputs, labels = data\n",
        "            inputs, labels = inputs.to(device), labels.to(device)\n",
        "\n",
        "            # Zero the gradients\n",
        "            nose_optimizer.zero_grad()\n",
        "\n",
        "            # Forward pass\n",
        "            outputs = nose_net(inputs)\n",
        "            loss = criterion(outputs, labels)\n",
        "            loss.backward()\n",
        "            nose_optimizer.step()\n",
        "\n",
        "            running_loss += loss.item()\n",
        "\n",
        "            # Accuracy\n",
        "            _, predicted = torch.max(outputs, 1)\n",
        "            total += labels.size(0)\n",
        "            correct += (predicted == labels).sum().item()\n",
        "\n",
        "        avg_train_loss = running_loss / len(train_loader)\n",
        "        train_accuracy = correct / total\n",
        "        train_losses.append(avg_train_loss)\n",
        "        train_accuracies.append(train_accuracy)\n",
        "\n",
        "        print(f\"Fold {fold + 1}, Epoch {epoch + 1}, Train Loss: {avg_train_loss:.4f}, Train Accuracy: {train_accuracy:.4f}\")\n",
        "\n",
        "        # Validation Phase\n",
        "        nose_net.eval()\n",
        "        val_running_loss = 0.0\n",
        "        correct = 0\n",
        "        total = 0\n",
        "\n",
        "        with torch.no_grad():\n",
        "            for data in tqdm(val_loader, desc=f\"Validating Fold {fold + 1}, Epoch {epoch + 1}\", unit=\"batch\"):\n",
        "                inputs, labels = data\n",
        "                inputs, labels = inputs.to(device), labels.to(device)\n",
        "\n",
        "                outputs = nose_net(inputs)\n",
        "                loss = criterion(outputs, labels)\n",
        "\n",
        "                val_running_loss += loss.item()\n",
        "\n",
        "                # Accuracy\n",
        "                _, predicted = torch.max(outputs, 1)\n",
        "                total += labels.size(0)\n",
        "                correct += (predicted == labels).sum().item()\n",
        "\n",
        "        avg_val_loss = val_running_loss / len(val_loader)\n",
        "        val_accuracy = correct / total\n",
        "        val_losses.append(avg_val_loss)\n",
        "        val_accuracies.append(val_accuracy)\n",
        "\n",
        "        print(f\"Fold {fold + 1}, Epoch {epoch + 1}, Val Loss: {avg_val_loss:.4f}, Val Accuracy: {val_accuracy:.4f}\")\n",
        "\n",
        "        # Early Stopping: verifica miglioramento della loss di validazione\n",
        "        if avg_val_loss < best_val_loss:\n",
        "            print(f\"Validation loss improved from {best_val_loss:.4f} to {avg_val_loss:.4f}. Saving model...\")\n",
        "            best_val_loss = avg_val_loss\n",
        "            best_model_state = nose_net.state_dict()  # Salva il miglior modello\n",
        "            no_improvement = 0  # Resetta il contatore\n",
        "        else:\n",
        "            no_improvement += 1\n",
        "            print(f\"No improvement for {no_improvement} epochs.\")\n",
        "\n",
        "        # Controlla se interrompere l'allenamento per Early Stopping\n",
        "        if no_improvement >= patience:\n",
        "            print(f\"Early stopping triggered at epoch {epoch + 1}.\")\n",
        "            break\n",
        "\n",
        "    # Carica il miglior modello salvato per questo fold\n",
        "    nose_net.load_state_dict(best_model_state)\n",
        "\n",
        "    # Salvare i risultati del fold corrente\n",
        "    fold_train_losses.append(train_losses)\n",
        "    fold_val_losses.append(val_losses)\n",
        "    fold_train_accuracies.append(train_accuracies)\n",
        "    fold_val_accuracies.append(val_accuracies)\n",
        "\n",
        "# Calcolare le metriche medie su tutti i fold\n",
        "mean_train_loss = np.mean([np.mean(fold) for fold in fold_train_losses])\n",
        "mean_val_loss = np.mean([np.mean(fold) for fold in fold_val_losses])\n",
        "mean_train_accuracy = np.mean([np.mean(fold) for fold in fold_train_accuracies])\n",
        "mean_val_accuracy = np.mean([np.mean(fold) for fold in fold_val_accuracies])\n",
        "\n",
        "print(f\"Average Training Loss: {mean_train_loss:.4f}\")\n",
        "print(f\"Average Validation Loss: {mean_val_loss:.4f}\")\n",
        "print(f\"Average Training Accuracy: {mean_train_accuracy:.4f}\")\n",
        "print(f\"Average Validation Accuracy: {mean_val_accuracy:.4f}\")"
      ]
    },
    {
      "cell_type": "code",
      "execution_count": 10,
      "metadata": {
        "colab": {
          "base_uri": "https://localhost:8080/",
          "height": 902
        },
        "id": "X-d2jiCq9gIz",
        "outputId": "dda27f99-8028-4d91-bffc-454cfd0219a6"
      },
      "outputs": [
        {
          "data": {
            "image/png": "[encoded data removed]",
            "text/plain": [
              "<Figure size 1000x700 with 2 Axes>"
            ]
          },
          "metadata": {},
          "output_type": "display_data"
        },
        {
          "name": "stdout",
          "output_type": "stream",
          "text": [
            "\n",
            "Classification Report:\n",
            "              precision    recall  f1-score   support\n",
            "\n",
            "       White       0.75      0.80      0.77      2018\n",
            "       Black       0.70      0.73      0.71       927\n",
            "       Asian       0.70      0.69      0.69       670\n",
            "      Indian       0.55      0.58      0.57       802\n",
            "      Others       0.30      0.13      0.18       359\n",
            "\n",
            "    accuracy                           0.68      4776\n",
            "   macro avg       0.60      0.58      0.58      4776\n",
            "weighted avg       0.66      0.68      0.67      4776\n",
            "\n"
          ]
        }
      ],
      "source": [
        "all_labels = []\n",
        "all_preds = []\n",
        "\n",
        "with torch.no_grad():  # Disabilita il calcolo dei gradienti\n",
        "    for data in test_loader:\n",
        "        images, labels = data\n",
        "        images, labels = images.to(device), labels.to(device)\n",
        "\n",
        "\n",
        "        # Forward pass\n",
        "        outputs = nose_net(images)\n",
        "\n",
        "        # Calcola le predizioni\n",
        "        _, predicted = torch.max(outputs.data, 1)\n",
        "\n",
        "        # Salva le etichette e le predizioni\n",
        "        all_labels.extend(labels.cpu().numpy())        # Porta le etichette sulla CPU prima di salvarle\n",
        "        all_preds.extend(predicted.cpu().numpy())\n",
        "\n",
        "\n",
        "# Calcola le metriche\n",
        "conf_matrix = confusion_matrix(all_labels, all_preds)\n",
        "\n",
        "plt.figure(figsize=(10, 7))\n",
        "sns.heatmap(conf_matrix, annot=True, fmt='d', cmap='Blues', xticklabels=class_names, yticklabels=class_names)\n",
        "\n",
        "# Aggiungi titoli e etichette agli assi\n",
        "plt.title('Confusion Matrix', fontsize=16)\n",
        "plt.xlabel('Predicted Labels', fontsize=14)\n",
        "plt.ylabel('True Labels', fontsize=14)\n",
        "plt.xticks(fontsize=12)\n",
        "plt.yticks(fontsize=12)\n",
        "\n",
        "# Mostra la heatmap\n",
        "plt.show()\n",
        "\n",
        "print(\"\\nClassification Report:\")\n",
        "print(classification_report(all_labels, all_preds, target_names=class_names, zero_division=0))"
      ]
    },
    {
      "cell_type": "markdown",
      "metadata": {
        "id": "4USmhOOI9m8D"
      },
      "source": [
        "**MOUTH TRAINING VALIDATION AND TEST**"
      ]
    },
    {
      "cell_type": "code",
      "execution_count": 11,
      "metadata": {
        "colab": {
          "base_uri": "https://localhost:8080/"
        },
        "id": "-55Okk969ug2",
        "outputId": "53c4f0ee-4112-4979-e046-ad99a7c8944d"
      },
      "outputs": [
        {
          "name": "stdout",
          "output_type": "stream",
          "text": [
            "Fold 1/5\n"
          ]
        },
        {
          "name": "stderr",
          "output_type": "stream",
          "text": [
            "Training Fold 1, Epoch 1: 100%|██████████| 457/457 [00:30<00:00, 14.80batch/s]\n"
          ]
        },
        {
          "name": "stdout",
          "output_type": "stream",
          "text": [
            "Fold 1, Epoch 1, Train Loss: 1.2384, Train Accuracy: 0.5314\n"
          ]
        },
        {
          "name": "stderr",
          "output_type": "stream",
          "text": [
            "Validating Fold 1, Epoch 1: 100%|██████████| 115/115 [00:04<00:00, 25.24batch/s]\n"
          ]
        },
        {
          "name": "stdout",
          "output_type": "stream",
          "text": [
            "Fold 1, Epoch 1, Val Loss: 1.1697, Val Accuracy: 0.5557\n",
            "Validation loss improved from inf to 1.1697. Saving model...\n"
          ]
        },
        {
          "name": "stderr",
          "output_type": "stream",
          "text": [
            "Training Fold 1, Epoch 2: 100%|██████████| 457/457 [00:30<00:00, 15.05batch/s]\n"
          ]
        },
        {
          "name": "stdout",
          "output_type": "stream",
          "text": [
            "Fold 1, Epoch 2, Train Loss: 1.1337, Train Accuracy: 0.5674\n"
          ]
        },
        {
          "name": "stderr",
          "output_type": "stream",
          "text": [
            "Validating Fold 1, Epoch 2: 100%|██████████| 115/115 [00:05<00:00, 23.00batch/s]\n"
          ]
        },
        {
          "name": "stdout",
          "output_type": "stream",
          "text": [
            "Fold 1, Epoch 2, Val Loss: 1.1575, Val Accuracy: 0.5733\n",
            "Validation loss improved from 1.1697 to 1.1575. Saving model...\n"
          ]
        },
        {
          "name": "stderr",
          "output_type": "stream",
          "text": [
            "Training Fold 1, Epoch 3: 100%|██████████| 457/457 [00:30<00:00, 15.06batch/s]\n"
          ]
        },
        {
          "name": "stdout",
          "output_type": "stream",
          "text": [
            "Fold 1, Epoch 3, Train Loss: 1.1081, Train Accuracy: 0.5824\n"
          ]
        },
        {
          "name": "stderr",
          "output_type": "stream",
          "text": [
            "Validating Fold 1, Epoch 3: 100%|██████████| 115/115 [00:04<00:00, 25.87batch/s]\n"
          ]
        },
        {
          "name": "stdout",
          "output_type": "stream",
          "text": [
            "Fold 1, Epoch 3, Val Loss: 1.0900, Val Accuracy: 0.6012\n",
            "Validation loss improved from 1.1575 to 1.0900. Saving model...\n"
          ]
        },
        {
          "name": "stderr",
          "output_type": "stream",
          "text": [
            "Training Fold 1, Epoch 4: 100%|██████████| 457/457 [00:30<00:00, 14.91batch/s]\n"
          ]
        },
        {
          "name": "stdout",
          "output_type": "stream",
          "text": [
            "Fold 1, Epoch 4, Train Loss: 1.0857, Train Accuracy: 0.5879\n"
          ]
        },
        {
          "name": "stderr",
          "output_type": "stream",
          "text": [
            "Validating Fold 1, Epoch 4: 100%|██████████| 115/115 [00:04<00:00, 25.65batch/s]\n"
          ]
        },
        {
          "name": "stdout",
          "output_type": "stream",
          "text": [
            "Fold 1, Epoch 4, Val Loss: 1.0608, Val Accuracy: 0.6061\n",
            "Validation loss improved from 1.0900 to 1.0608. Saving model...\n"
          ]
        },
        {
          "name": "stderr",
          "output_type": "stream",
          "text": [
            "Training Fold 1, Epoch 5: 100%|██████████| 457/457 [00:30<00:00, 14.97batch/s]\n"
          ]
        },
        {
          "name": "stdout",
          "output_type": "stream",
          "text": [
            "Fold 1, Epoch 5, Train Loss: 1.0641, Train Accuracy: 0.5968\n"
          ]
        },
        {
          "name": "stderr",
          "output_type": "stream",
          "text": [
            "Validating Fold 1, Epoch 5: 100%|██████████| 115/115 [00:04<00:00, 24.68batch/s]\n"
          ]
        },
        {
          "name": "stdout",
          "output_type": "stream",
          "text": [
            "Fold 1, Epoch 5, Val Loss: 1.1027, Val Accuracy: 0.5837\n",
            "No improvement for 1 epochs.\n"
          ]
        },
        {
          "name": "stderr",
          "output_type": "stream",
          "text": [
            "Training Fold 1, Epoch 6: 100%|██████████| 457/457 [00:30<00:00, 15.09batch/s]\n"
          ]
        },
        {
          "name": "stdout",
          "output_type": "stream",
          "text": [
            "Fold 1, Epoch 6, Train Loss: 1.0519, Train Accuracy: 0.6035\n"
          ]
        },
        {
          "name": "stderr",
          "output_type": "stream",
          "text": [
            "Validating Fold 1, Epoch 6: 100%|██████████| 115/115 [00:04<00:00, 23.08batch/s]\n"
          ]
        },
        {
          "name": "stdout",
          "output_type": "stream",
          "text": [
            "Fold 1, Epoch 6, Val Loss: 1.0438, Val Accuracy: 0.6053\n",
            "Validation loss improved from 1.0608 to 1.0438. Saving model...\n"
          ]
        },
        {
          "name": "stderr",
          "output_type": "stream",
          "text": [
            "Training Fold 1, Epoch 7: 100%|██████████| 457/457 [00:30<00:00, 15.05batch/s]\n"
          ]
        },
        {
          "name": "stdout",
          "output_type": "stream",
          "text": [
            "Fold 1, Epoch 7, Train Loss: 1.0425, Train Accuracy: 0.6141\n"
          ]
        },
        {
          "name": "stderr",
          "output_type": "stream",
          "text": [
            "Validating Fold 1, Epoch 7: 100%|██████████| 115/115 [00:04<00:00, 26.15batch/s]\n"
          ]
        },
        {
          "name": "stdout",
          "output_type": "stream",
          "text": [
            "Fold 1, Epoch 7, Val Loss: 1.1003, Val Accuracy: 0.5735\n",
            "No improvement for 1 epochs.\n"
          ]
        },
        {
          "name": "stderr",
          "output_type": "stream",
          "text": [
            "Training Fold 1, Epoch 8: 100%|██████████| 457/457 [00:30<00:00, 14.87batch/s]\n"
          ]
        },
        {
          "name": "stdout",
          "output_type": "stream",
          "text": [
            "Fold 1, Epoch 8, Train Loss: 1.0283, Train Accuracy: 0.6207\n"
          ]
        },
        {
          "name": "stderr",
          "output_type": "stream",
          "text": [
            "Validating Fold 1, Epoch 8: 100%|██████████| 115/115 [00:04<00:00, 25.83batch/s]\n"
          ]
        },
        {
          "name": "stdout",
          "output_type": "stream",
          "text": [
            "Fold 1, Epoch 8, Val Loss: 1.0270, Val Accuracy: 0.6042\n",
            "Validation loss improved from 1.0438 to 1.0270. Saving model...\n"
          ]
        },
        {
          "name": "stderr",
          "output_type": "stream",
          "text": [
            "Training Fold 1, Epoch 9: 100%|██████████| 457/457 [00:30<00:00, 15.04batch/s]\n"
          ]
        },
        {
          "name": "stdout",
          "output_type": "stream",
          "text": [
            "Fold 1, Epoch 9, Train Loss: 1.0174, Train Accuracy: 0.6222\n"
          ]
        },
        {
          "name": "stderr",
          "output_type": "stream",
          "text": [
            "Validating Fold 1, Epoch 9: 100%|██████████| 115/115 [00:04<00:00, 23.06batch/s]\n"
          ]
        },
        {
          "name": "stdout",
          "output_type": "stream",
          "text": [
            "Fold 1, Epoch 9, Val Loss: 0.9943, Val Accuracy: 0.6278\n",
            "Validation loss improved from 1.0270 to 0.9943. Saving model...\n"
          ]
        },
        {
          "name": "stderr",
          "output_type": "stream",
          "text": [
            "Training Fold 1, Epoch 10: 100%|██████████| 457/457 [00:30<00:00, 15.02batch/s]\n"
          ]
        },
        {
          "name": "stdout",
          "output_type": "stream",
          "text": [
            "Fold 1, Epoch 10, Train Loss: 1.0056, Train Accuracy: 0.6260\n"
          ]
        },
        {
          "name": "stderr",
          "output_type": "stream",
          "text": [
            "Validating Fold 1, Epoch 10: 100%|██████████| 115/115 [00:04<00:00, 24.20batch/s]\n"
          ]
        },
        {
          "name": "stdout",
          "output_type": "stream",
          "text": [
            "Fold 1, Epoch 10, Val Loss: 0.9821, Val Accuracy: 0.6316\n",
            "Validation loss improved from 0.9943 to 0.9821. Saving model...\n",
            "Fold 2/5\n"
          ]
        },
        {
          "name": "stderr",
          "output_type": "stream",
          "text": [
            "Training Fold 2, Epoch 1: 100%|██████████| 457/457 [00:30<00:00, 14.95batch/s]\n"
          ]
        },
        {
          "name": "stdout",
          "output_type": "stream",
          "text": [
            "Fold 2, Epoch 1, Train Loss: 0.9898, Train Accuracy: 0.6319\n"
          ]
        },
        {
          "name": "stderr",
          "output_type": "stream",
          "text": [
            "Validating Fold 2, Epoch 1: 100%|██████████| 115/115 [00:04<00:00, 26.44batch/s]\n"
          ]
        },
        {
          "name": "stdout",
          "output_type": "stream",
          "text": [
            "Fold 2, Epoch 1, Val Loss: 0.9730, Val Accuracy: 0.6313\n",
            "Validation loss improved from inf to 0.9730. Saving model...\n"
          ]
        },
        {
          "name": "stderr",
          "output_type": "stream",
          "text": [
            "Training Fold 2, Epoch 2: 100%|██████████| 457/457 [00:30<00:00, 14.90batch/s]\n"
          ]
        },
        {
          "name": "stdout",
          "output_type": "stream",
          "text": [
            "Fold 2, Epoch 2, Train Loss: 0.9755, Train Accuracy: 0.6374\n"
          ]
        },
        {
          "name": "stderr",
          "output_type": "stream",
          "text": [
            "Validating Fold 2, Epoch 2: 100%|██████████| 115/115 [00:04<00:00, 25.96batch/s]\n"
          ]
        },
        {
          "name": "stdout",
          "output_type": "stream",
          "text": [
            "Fold 2, Epoch 2, Val Loss: 0.9461, Val Accuracy: 0.6631\n",
            "Validation loss improved from 0.9730 to 0.9461. Saving model...\n"
          ]
        },
        {
          "name": "stderr",
          "output_type": "stream",
          "text": [
            "Training Fold 2, Epoch 3: 100%|██████████| 457/457 [00:30<00:00, 15.04batch/s]\n"
          ]
        },
        {
          "name": "stdout",
          "output_type": "stream",
          "text": [
            "Fold 2, Epoch 3, Train Loss: 0.9558, Train Accuracy: 0.6510\n"
          ]
        },
        {
          "name": "stderr",
          "output_type": "stream",
          "text": [
            "Validating Fold 2, Epoch 3: 100%|██████████| 115/115 [00:04<00:00, 23.10batch/s]\n"
          ]
        },
        {
          "name": "stdout",
          "output_type": "stream",
          "text": [
            "Fold 2, Epoch 3, Val Loss: 0.9799, Val Accuracy: 0.6365\n",
            "No improvement for 1 epochs.\n"
          ]
        },
        {
          "name": "stderr",
          "output_type": "stream",
          "text": [
            "Training Fold 2, Epoch 4: 100%|██████████| 457/457 [00:30<00:00, 15.08batch/s]\n"
          ]
        },
        {
          "name": "stdout",
          "output_type": "stream",
          "text": [
            "Fold 2, Epoch 4, Train Loss: 0.9383, Train Accuracy: 0.6556\n"
          ]
        },
        {
          "name": "stderr",
          "output_type": "stream",
          "text": [
            "Validating Fold 2, Epoch 4: 100%|██████████| 115/115 [00:04<00:00, 25.00batch/s]\n"
          ]
        },
        {
          "name": "stdout",
          "output_type": "stream",
          "text": [
            "Fold 2, Epoch 4, Val Loss: 0.9644, Val Accuracy: 0.6535\n",
            "No improvement for 2 epochs.\n"
          ]
        },
        {
          "name": "stderr",
          "output_type": "stream",
          "text": [
            "Training Fold 2, Epoch 5: 100%|██████████| 457/457 [00:30<00:00, 14.93batch/s]\n"
          ]
        },
        {
          "name": "stdout",
          "output_type": "stream",
          "text": [
            "Fold 2, Epoch 5, Train Loss: 0.9283, Train Accuracy: 0.6504\n"
          ]
        },
        {
          "name": "stderr",
          "output_type": "stream",
          "text": [
            "Validating Fold 2, Epoch 5: 100%|██████████| 115/115 [00:04<00:00, 25.83batch/s]\n"
          ]
        },
        {
          "name": "stdout",
          "output_type": "stream",
          "text": [
            "Fold 2, Epoch 5, Val Loss: 0.9529, Val Accuracy: 0.6541\n",
            "No improvement for 3 epochs.\n"
          ]
        },
        {
          "name": "stderr",
          "output_type": "stream",
          "text": [
            "Training Fold 2, Epoch 6: 100%|██████████| 457/457 [00:30<00:00, 14.82batch/s]\n"
          ]
        },
        {
          "name": "stdout",
          "output_type": "stream",
          "text": [
            "Fold 2, Epoch 6, Train Loss: 0.9128, Train Accuracy: 0.6613\n"
          ]
        },
        {
          "name": "stderr",
          "output_type": "stream",
          "text": [
            "Validating Fold 2, Epoch 6: 100%|██████████| 115/115 [00:04<00:00, 26.09batch/s]\n"
          ]
        },
        {
          "name": "stdout",
          "output_type": "stream",
          "text": [
            "Fold 2, Epoch 6, Val Loss: 0.9766, Val Accuracy: 0.6406\n",
            "No improvement for 4 epochs.\n",
            "Early stopping triggered at epoch 6.\n",
            "Fold 3/5\n"
          ]
        },
        {
          "name": "stderr",
          "output_type": "stream",
          "text": [
            "Training Fold 3, Epoch 1: 100%|██████████| 457/457 [00:30<00:00, 15.06batch/s]\n"
          ]
        },
        {
          "name": "stdout",
          "output_type": "stream",
          "text": [
            "Fold 3, Epoch 1, Train Loss: 0.9180, Train Accuracy: 0.6637\n"
          ]
        },
        {
          "name": "stderr",
          "output_type": "stream",
          "text": [
            "Validating Fold 3, Epoch 1: 100%|██████████| 115/115 [00:04<00:00, 23.07batch/s]\n"
          ]
        },
        {
          "name": "stdout",
          "output_type": "stream",
          "text": [
            "Fold 3, Epoch 1, Val Loss: 0.8587, Val Accuracy: 0.6883\n",
            "Validation loss improved from inf to 0.8587. Saving model...\n"
          ]
        },
        {
          "name": "stderr",
          "output_type": "stream",
          "text": [
            "Training Fold 3, Epoch 2: 100%|██████████| 457/457 [00:30<00:00, 15.03batch/s]\n"
          ]
        },
        {
          "name": "stdout",
          "output_type": "stream",
          "text": [
            "Fold 3, Epoch 2, Train Loss: 0.8940, Train Accuracy: 0.6715\n"
          ]
        },
        {
          "name": "stderr",
          "output_type": "stream",
          "text": [
            "Validating Fold 3, Epoch 2: 100%|██████████| 115/115 [00:04<00:00, 25.74batch/s]\n"
          ]
        },
        {
          "name": "stdout",
          "output_type": "stream",
          "text": [
            "Fold 3, Epoch 2, Val Loss: 0.8782, Val Accuracy: 0.6784\n",
            "No improvement for 1 epochs.\n"
          ]
        },
        {
          "name": "stderr",
          "output_type": "stream",
          "text": [
            "Training Fold 3, Epoch 3: 100%|██████████| 457/457 [00:30<00:00, 14.84batch/s]\n"
          ]
        },
        {
          "name": "stdout",
          "output_type": "stream",
          "text": [
            "Fold 3, Epoch 3, Train Loss: 0.8862, Train Accuracy: 0.6790\n"
          ]
        },
        {
          "name": "stderr",
          "output_type": "stream",
          "text": [
            "Validating Fold 3, Epoch 3: 100%|██████████| 115/115 [00:04<00:00, 26.41batch/s]\n"
          ]
        },
        {
          "name": "stdout",
          "output_type": "stream",
          "text": [
            "Fold 3, Epoch 3, Val Loss: 0.8644, Val Accuracy: 0.6842\n",
            "No improvement for 2 epochs.\n"
          ]
        },
        {
          "name": "stderr",
          "output_type": "stream",
          "text": [
            "Training Fold 3, Epoch 4: 100%|██████████| 457/457 [00:30<00:00, 14.90batch/s]\n"
          ]
        },
        {
          "name": "stdout",
          "output_type": "stream",
          "text": [
            "Fold 3, Epoch 4, Train Loss: 0.8678, Train Accuracy: 0.6854\n"
          ]
        },
        {
          "name": "stderr",
          "output_type": "stream",
          "text": [
            "Validating Fold 3, Epoch 4: 100%|██████████| 115/115 [00:04<00:00, 24.03batch/s]\n"
          ]
        },
        {
          "name": "stdout",
          "output_type": "stream",
          "text": [
            "Fold 3, Epoch 4, Val Loss: 0.8806, Val Accuracy: 0.6738\n",
            "No improvement for 3 epochs.\n"
          ]
        },
        {
          "name": "stderr",
          "output_type": "stream",
          "text": [
            "Training Fold 3, Epoch 5: 100%|██████████| 457/457 [00:30<00:00, 15.05batch/s]\n"
          ]
        },
        {
          "name": "stdout",
          "output_type": "stream",
          "text": [
            "Fold 3, Epoch 5, Train Loss: 0.8533, Train Accuracy: 0.6892\n"
          ]
        },
        {
          "name": "stderr",
          "output_type": "stream",
          "text": [
            "Validating Fold 3, Epoch 5: 100%|██████████| 115/115 [00:05<00:00, 22.41batch/s]\n"
          ]
        },
        {
          "name": "stdout",
          "output_type": "stream",
          "text": [
            "Fold 3, Epoch 5, Val Loss: 0.9218, Val Accuracy: 0.6708\n",
            "No improvement for 4 epochs.\n",
            "Early stopping triggered at epoch 5.\n",
            "Fold 4/5\n"
          ]
        },
        {
          "name": "stderr",
          "output_type": "stream",
          "text": [
            "Training Fold 4, Epoch 1: 100%|██████████| 457/457 [00:30<00:00, 14.99batch/s]\n"
          ]
        },
        {
          "name": "stdout",
          "output_type": "stream",
          "text": [
            "Fold 4, Epoch 1, Train Loss: 0.8725, Train Accuracy: 0.6834\n"
          ]
        },
        {
          "name": "stderr",
          "output_type": "stream",
          "text": [
            "Validating Fold 4, Epoch 1: 100%|██████████| 115/115 [00:04<00:00, 26.22batch/s]\n"
          ]
        },
        {
          "name": "stdout",
          "output_type": "stream",
          "text": [
            "Fold 4, Epoch 1, Val Loss: 0.7765, Val Accuracy: 0.7099\n",
            "Validation loss improved from inf to 0.7765. Saving model...\n"
          ]
        },
        {
          "name": "stderr",
          "output_type": "stream",
          "text": [
            "Training Fold 4, Epoch 2: 100%|██████████| 457/457 [00:30<00:00, 14.80batch/s]\n"
          ]
        },
        {
          "name": "stdout",
          "output_type": "stream",
          "text": [
            "Fold 4, Epoch 2, Train Loss: 0.8440, Train Accuracy: 0.6934\n"
          ]
        },
        {
          "name": "stderr",
          "output_type": "stream",
          "text": [
            "Validating Fold 4, Epoch 2: 100%|██████████| 115/115 [00:04<00:00, 26.35batch/s]\n"
          ]
        },
        {
          "name": "stdout",
          "output_type": "stream",
          "text": [
            "Fold 4, Epoch 2, Val Loss: 0.7991, Val Accuracy: 0.7080\n",
            "No improvement for 1 epochs.\n"
          ]
        },
        {
          "name": "stderr",
          "output_type": "stream",
          "text": [
            "Training Fold 4, Epoch 3: 100%|██████████| 457/457 [00:30<00:00, 14.99batch/s]\n"
          ]
        },
        {
          "name": "stdout",
          "output_type": "stream",
          "text": [
            "Fold 4, Epoch 3, Train Loss: 0.8209, Train Accuracy: 0.6981\n"
          ]
        },
        {
          "name": "stderr",
          "output_type": "stream",
          "text": [
            "Validating Fold 4, Epoch 3: 100%|██████████| 115/115 [00:05<00:00, 22.95batch/s]\n"
          ]
        },
        {
          "name": "stdout",
          "output_type": "stream",
          "text": [
            "Fold 4, Epoch 3, Val Loss: 0.7963, Val Accuracy: 0.7075\n",
            "No improvement for 2 epochs.\n"
          ]
        },
        {
          "name": "stderr",
          "output_type": "stream",
          "text": [
            "Training Fold 4, Epoch 4: 100%|██████████| 457/457 [00:30<00:00, 14.99batch/s]\n"
          ]
        },
        {
          "name": "stdout",
          "output_type": "stream",
          "text": [
            "Fold 4, Epoch 4, Train Loss: 0.8137, Train Accuracy: 0.7059\n"
          ]
        },
        {
          "name": "stderr",
          "output_type": "stream",
          "text": [
            "Validating Fold 4, Epoch 4: 100%|██████████| 115/115 [00:04<00:00, 24.83batch/s]\n"
          ]
        },
        {
          "name": "stdout",
          "output_type": "stream",
          "text": [
            "Fold 4, Epoch 4, Val Loss: 0.8103, Val Accuracy: 0.7069\n",
            "No improvement for 3 epochs.\n"
          ]
        },
        {
          "name": "stderr",
          "output_type": "stream",
          "text": [
            "Training Fold 4, Epoch 5: 100%|██████████| 457/457 [00:30<00:00, 14.95batch/s]\n"
          ]
        },
        {
          "name": "stdout",
          "output_type": "stream",
          "text": [
            "Fold 4, Epoch 5, Train Loss: 0.7983, Train Accuracy: 0.7070\n"
          ]
        },
        {
          "name": "stderr",
          "output_type": "stream",
          "text": [
            "Validating Fold 4, Epoch 5: 100%|██████████| 115/115 [00:04<00:00, 26.21batch/s]\n"
          ]
        },
        {
          "name": "stdout",
          "output_type": "stream",
          "text": [
            "Fold 4, Epoch 5, Val Loss: 0.8183, Val Accuracy: 0.6982\n",
            "No improvement for 4 epochs.\n",
            "Early stopping triggered at epoch 5.\n",
            "Fold 5/5\n"
          ]
        },
        {
          "name": "stderr",
          "output_type": "stream",
          "text": [
            "Training Fold 5, Epoch 1: 100%|██████████| 457/457 [00:30<00:00, 14.89batch/s]\n"
          ]
        },
        {
          "name": "stdout",
          "output_type": "stream",
          "text": [
            "Fold 5, Epoch 1, Train Loss: 0.8201, Train Accuracy: 0.7019\n"
          ]
        },
        {
          "name": "stderr",
          "output_type": "stream",
          "text": [
            "Validating Fold 5, Epoch 1: 100%|██████████| 115/115 [00:04<00:00, 24.59batch/s]\n"
          ]
        },
        {
          "name": "stdout",
          "output_type": "stream",
          "text": [
            "Fold 5, Epoch 1, Val Loss: 0.7356, Val Accuracy: 0.7417\n",
            "Validation loss improved from inf to 0.7356. Saving model...\n"
          ]
        },
        {
          "name": "stderr",
          "output_type": "stream",
          "text": [
            "Training Fold 5, Epoch 2: 100%|██████████| 457/457 [00:30<00:00, 15.08batch/s]\n"
          ]
        },
        {
          "name": "stdout",
          "output_type": "stream",
          "text": [
            "Fold 5, Epoch 2, Train Loss: 0.7749, Train Accuracy: 0.7170\n"
          ]
        },
        {
          "name": "stderr",
          "output_type": "stream",
          "text": [
            "Validating Fold 5, Epoch 2: 100%|██████████| 115/115 [00:04<00:00, 23.18batch/s]\n"
          ]
        },
        {
          "name": "stdout",
          "output_type": "stream",
          "text": [
            "Fold 5, Epoch 2, Val Loss: 0.7555, Val Accuracy: 0.7239\n",
            "No improvement for 1 epochs.\n"
          ]
        },
        {
          "name": "stderr",
          "output_type": "stream",
          "text": [
            "Training Fold 5, Epoch 3: 100%|██████████| 457/457 [00:30<00:00, 15.11batch/s]\n"
          ]
        },
        {
          "name": "stdout",
          "output_type": "stream",
          "text": [
            "Fold 5, Epoch 3, Train Loss: 0.7625, Train Accuracy: 0.7220\n"
          ]
        },
        {
          "name": "stderr",
          "output_type": "stream",
          "text": [
            "Validating Fold 5, Epoch 3: 100%|██████████| 115/115 [00:04<00:00, 26.25batch/s]\n"
          ]
        },
        {
          "name": "stdout",
          "output_type": "stream",
          "text": [
            "Fold 5, Epoch 3, Val Loss: 0.8016, Val Accuracy: 0.7017\n",
            "No improvement for 2 epochs.\n"
          ]
        },
        {
          "name": "stderr",
          "output_type": "stream",
          "text": [
            "Training Fold 5, Epoch 4: 100%|██████████| 457/457 [00:30<00:00, 14.89batch/s]\n"
          ]
        },
        {
          "name": "stdout",
          "output_type": "stream",
          "text": [
            "Fold 5, Epoch 4, Train Loss: 0.7357, Train Accuracy: 0.7338\n"
          ]
        },
        {
          "name": "stderr",
          "output_type": "stream",
          "text": [
            "Validating Fold 5, Epoch 4: 100%|██████████| 115/115 [00:04<00:00, 25.93batch/s]\n"
          ]
        },
        {
          "name": "stdout",
          "output_type": "stream",
          "text": [
            "Fold 5, Epoch 4, Val Loss: 0.7898, Val Accuracy: 0.7108\n",
            "No improvement for 3 epochs.\n"
          ]
        },
        {
          "name": "stderr",
          "output_type": "stream",
          "text": [
            "Training Fold 5, Epoch 5: 100%|██████████| 457/457 [00:30<00:00, 15.11batch/s]\n"
          ]
        },
        {
          "name": "stdout",
          "output_type": "stream",
          "text": [
            "Fold 5, Epoch 5, Train Loss: 0.7253, Train Accuracy: 0.7344\n"
          ]
        },
        {
          "name": "stderr",
          "output_type": "stream",
          "text": [
            "Validating Fold 5, Epoch 5: 100%|██████████| 115/115 [00:05<00:00, 22.88batch/s]"
          ]
        },
        {
          "name": "stdout",
          "output_type": "stream",
          "text": [
            "Fold 5, Epoch 5, Val Loss: 0.8503, Val Accuracy: 0.6861\n",
            "No improvement for 4 epochs.\n",
            "Early stopping triggered at epoch 5.\n",
            "Average Training Loss: 0.9010\n",
            "Average Validation Loss: 0.9011\n",
            "Average Training Accuracy: 0.6681\n",
            "Average Validation Accuracy: 0.6682\n"
          ]
        },
        {
          "name": "stderr",
          "output_type": "stream",
          "text": [
            "\n"
          ]
        }
      ],
      "source": [
        "# Inizializzare il dataset\n",
        "full_train_dataset = EthnicityDataset(root_dir=\"Dataset/mouth/train\", transform=transform_mouth)\n",
        "test_dataset = EthnicityDataset(root_dir=\"Dataset/mouth/test\", transform=transform_mouth)\n",
        "test_loader = DataLoader(test_dataset, batch_size=32, shuffle=True)\n",
        "\n",
        "# Parametri di Early Stopping\n",
        "patience = 4  # Numero massimo di epoche senza miglioramenti\n",
        "\n",
        "# K-fold Cross-Validation\n",
        "k = 5  # Scegliamo K = 5\n",
        "kf = KFold(n_splits=k, shuffle=True, random_state=42)\n",
        "\n",
        "# Array per salvare i risultati di ogni fold\n",
        "fold_train_losses = []\n",
        "fold_val_losses = []\n",
        "fold_train_accuracies = []\n",
        "fold_val_accuracies = []\n",
        "\n",
        "num_epochs = 10\n",
        "batch_size = 32\n",
        "\n",
        "for fold, (train_idx, val_idx) in enumerate(kf.split(np.arange(len(full_train_dataset)))):\n",
        "    print(f\"Fold {fold + 1}/{k}\")\n",
        "\n",
        "    # Creare i subset per training e validation\n",
        "    train_subset = Subset(full_train_dataset, train_idx)\n",
        "    val_subset = Subset(full_train_dataset, val_idx)\n",
        "\n",
        "    # Creare i dataloader per il fold corrente\n",
        "    train_loader = DataLoader(train_subset, batch_size=batch_size, shuffle=True)\n",
        "    val_loader = DataLoader(val_subset, batch_size=batch_size, shuffle=False)\n",
        "\n",
        "    # Reinizializzare il modello e l'ottimizzatore per ogni fold\n",
        "    mouth_net = mouth_net.to(device)  # Assicurarsi che il modello sia su GPU/CPU corretta\n",
        "    mouth_optimizer = torch.optim.Adam(mouth_net.parameters(), lr=0.001, weight_decay=0.001)\n",
        "\n",
        "    # Criterion\n",
        "    criterion = nn.CrossEntropyLoss()\n",
        "\n",
        "    best_model_state = None  # Per salvare lo stato del modello\n",
        "    best_val_loss = float(\"inf\")  # Migliore loss iniziale\n",
        "    no_improvement = 0  # Contatore per epoche senza miglioramenti\n",
        "\n",
        "    # Metriche per ogni fold\n",
        "    train_losses = []\n",
        "    val_losses = []\n",
        "    train_accuracies = []\n",
        "    val_accuracies = []\n",
        "\n",
        "    # Training per ogni fold\n",
        "    for epoch in range(num_epochs):\n",
        "        # Training Phase\n",
        "        mouth_net.train()\n",
        "        running_loss = 0.0\n",
        "        correct = 0\n",
        "        total = 0\n",
        "\n",
        "        for data in tqdm(train_loader, desc=f\"Training Fold {fold + 1}, Epoch {epoch + 1}\", unit=\"batch\"):\n",
        "            inputs, labels = data\n",
        "            inputs, labels = inputs.to(device), labels.to(device)\n",
        "\n",
        "            # Zero the gradients\n",
        "            mouth_optimizer.zero_grad()\n",
        "\n",
        "            # Forward pass\n",
        "            outputs = mouth_net(inputs)\n",
        "            loss = criterion(outputs, labels)\n",
        "            loss.backward()\n",
        "            mouth_optimizer.step()\n",
        "\n",
        "            running_loss += loss.item()\n",
        "\n",
        "            # Accuracy\n",
        "            _, predicted = torch.max(outputs, 1)\n",
        "            total += labels.size(0)\n",
        "            correct += (predicted == labels).sum().item()\n",
        "\n",
        "        avg_train_loss = running_loss / len(train_loader)\n",
        "        train_accuracy = correct / total\n",
        "        train_losses.append(avg_train_loss)\n",
        "        train_accuracies.append(train_accuracy)\n",
        "\n",
        "        print(f\"Fold {fold + 1}, Epoch {epoch + 1}, Train Loss: {avg_train_loss:.4f}, Train Accuracy: {train_accuracy:.4f}\")\n",
        "\n",
        "        # Validation Phase\n",
        "        mouth_net.eval()\n",
        "        val_running_loss = 0.0\n",
        "        correct = 0\n",
        "        total = 0\n",
        "\n",
        "        with torch.no_grad():\n",
        "            for data in tqdm(val_loader, desc=f\"Validating Fold {fold + 1}, Epoch {epoch + 1}\", unit=\"batch\"):\n",
        "                inputs, labels = data\n",
        "                inputs, labels = inputs.to(device), labels.to(device)\n",
        "\n",
        "                outputs = mouth_net(inputs)\n",
        "                loss = criterion(outputs, labels)\n",
        "\n",
        "                val_running_loss += loss.item()\n",
        "\n",
        "                # Accuracy\n",
        "                _, predicted = torch.max(outputs, 1)\n",
        "                total += labels.size(0)\n",
        "                correct += (predicted == labels).sum().item()\n",
        "\n",
        "        avg_val_loss = val_running_loss / len(val_loader)\n",
        "        val_accuracy = correct / total\n",
        "        val_losses.append(avg_val_loss)\n",
        "        val_accuracies.append(val_accuracy)\n",
        "\n",
        "        print(f\"Fold {fold + 1}, Epoch {epoch + 1}, Val Loss: {avg_val_loss:.4f}, Val Accuracy: {val_accuracy:.4f}\")\n",
        "\n",
        "        # Early Stopping: verifica miglioramento della loss di validazione\n",
        "        if avg_val_loss < best_val_loss:\n",
        "            print(f\"Validation loss improved from {best_val_loss:.4f} to {avg_val_loss:.4f}. Saving model...\")\n",
        "            best_val_loss = avg_val_loss\n",
        "            best_model_state = mouth_net.state_dict()  # Salva il miglior modello\n",
        "            no_improvement = 0  # Resetta il contatore\n",
        "        else:\n",
        "            no_improvement += 1\n",
        "            print(f\"No improvement for {no_improvement} epochs.\")\n",
        "\n",
        "        # Controlla se interrompere l'allenamento per Early Stopping\n",
        "        if no_improvement >= patience:\n",
        "            print(f\"Early stopping triggered at epoch {epoch + 1}.\")\n",
        "            break\n",
        "\n",
        "    # Carica il miglior modello salvato per questo fold\n",
        "    mouth_net.load_state_dict(best_model_state)\n",
        "\n",
        "    # Salvare i risultati del fold corrente\n",
        "    fold_train_losses.append(train_losses)\n",
        "    fold_val_losses.append(val_losses)\n",
        "    fold_train_accuracies.append(train_accuracies)\n",
        "    fold_val_accuracies.append(val_accuracies)\n",
        "\n",
        "# Calcolare le metriche medie su tutti i fold\n",
        "mean_train_loss = np.mean([np.mean(fold) for fold in fold_train_losses])\n",
        "mean_val_loss = np.mean([np.mean(fold) for fold in fold_val_losses])\n",
        "mean_train_accuracy = np.mean([np.mean(fold) for fold in fold_train_accuracies])\n",
        "mean_val_accuracy = np.mean([np.mean(fold) for fold in fold_val_accuracies])\n",
        "\n",
        "print(f\"Average Training Loss: {mean_train_loss:.4f}\")\n",
        "print(f\"Average Validation Loss: {mean_val_loss:.4f}\")\n",
        "print(f\"Average Training Accuracy: {mean_train_accuracy:.4f}\")\n",
        "print(f\"Average Validation Accuracy: {mean_val_accuracy:.4f}\")"
      ]
    },
    {
      "cell_type": "code",
      "execution_count": 12,
      "metadata": {
        "colab": {
          "base_uri": "https://localhost:8080/",
          "height": 902
        },
        "id": "kV3v71eK9u-U",
        "outputId": "bb194117-abd5-4d3c-b3ab-aae59db08df9"
      },
      "outputs": [
        {
          "data": {
            "image/png": "[encoded data removed]",
            "text/plain": [
              "<Figure size 1000x700 with 2 Axes>"
            ]
          },
          "metadata": {},
          "output_type": "display_data"
        },
        {
          "name": "stdout",
          "output_type": "stream",
          "text": [
            "\n",
            "Classification Report:\n",
            "              precision    recall  f1-score   support\n",
            "\n",
            "       White       0.68      0.84      0.75      2018\n",
            "       Black       0.71      0.83      0.77       927\n",
            "       Asian       0.53      0.43      0.47       670\n",
            "      Indian       0.62      0.44      0.51       802\n",
            "      Others       0.35      0.08      0.13       359\n",
            "\n",
            "    accuracy                           0.66      4776\n",
            "   macro avg       0.58      0.52      0.53      4776\n",
            "weighted avg       0.63      0.66      0.63      4776\n",
            "\n"
          ]
        }
      ],
      "source": [
        "all_labels = []  # Per memorizzare le etichette reali\n",
        "all_preds = []   # Per memorizzare le previsioni del modello\n",
        "\n",
        "with torch.no_grad():\n",
        "    for data in test_loader:\n",
        "        images, labels = data\n",
        "        images, labels = images.to(device), labels.to(device)\n",
        "\n",
        "        outputs = mouth_net(images)\n",
        "\n",
        "        _, predicted = torch.max(outputs.data, 1)\n",
        "        all_labels.extend(labels.cpu().numpy())\n",
        "        all_preds.extend(predicted.cpu().numpy())\n",
        "\n",
        "\n",
        "# Calcola le metriche\n",
        "conf_matrix = confusion_matrix(all_labels, all_preds)\n",
        "\n",
        "plt.figure(figsize=(10, 7))\n",
        "sns.heatmap(conf_matrix, annot=True, fmt='d', cmap='Blues', xticklabels=class_names, yticklabels=class_names)\n",
        "\n",
        "# Aggiungi titoli e etichette agli assi\n",
        "plt.title('Confusion Matrix', fontsize=16)\n",
        "plt.xlabel('Predicted Labels', fontsize=14)\n",
        "plt.ylabel('True Labels', fontsize=14)\n",
        "plt.xticks(fontsize=12)\n",
        "plt.yticks(fontsize=12)\n",
        "\n",
        "# Mostra la heatmap\n",
        "plt.show()\n",
        "\n",
        "print(\"\\nClassification Report:\")\n",
        "print(classification_report(all_labels, all_preds, target_names=class_names, zero_division=0))"
      ]
    }
  ],
  "metadata": {
    "accelerator": "GPU",
    "colab": {
      "gpuType": "T4",
      "provenance": []
    },
    "kernelspec": {
      "display_name": "Python 3",
      "name": "python3"
    },
    "language_info": {
      "name": "python"
    }
  },
  "nbformat": 4,
  "nbformat_minor": 0
}
